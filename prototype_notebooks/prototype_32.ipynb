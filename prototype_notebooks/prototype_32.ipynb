{
 "cells": [
  {
   "cell_type": "markdown",
   "metadata": {},
   "source": [
    "\n",
    "# Build a basic ME model"
   ]
  },
  {
   "cell_type": "markdown",
   "metadata": {},
   "source": [
    "We will try to build an ME model from the NC_000913.2 Genbank file, the iJO1366 M model, and the complex reconstruction from iJL1650-ME"
   ]
  },
  {
   "cell_type": "code",
   "execution_count": 1,
   "metadata": {
    "collapsed": false
   },
   "outputs": [],
   "source": [
    "# python imports\n",
    "import re\n",
    "import json\n",
    "from os.path import join\n",
    "\n",
    "# third party imports\n",
    "import pandas\n",
    "import escher\n",
    "import cobra.test\n",
    "\n",
    "# ecoli me\n",
    "from ecolime.flat_files import *\n",
    "\n",
    "from minime import *\n",
    "from minime.util.building import build_reactions_from_genbank, add_transcription_reaction\n",
    "from minime.solve.algorithms import binary_search, fva, solve_at_growth_rate\n",
    "from minime.solve.symbolic import compile_expressions"
   ]
  },
  {
   "cell_type": "code",
   "execution_count": 41,
   "metadata": {
    "collapsed": false
   },
   "outputs": [
    {
     "data": {
      "text/plain": [
       "'20 generic_tRNA_tyr__L_c + 20 tyr__L_c + 63 generic_tRNA_gly_c + 91 ala__L_c + 63 gly_c + 44 asp__L_c + 29 pro__L_c + 46 generic_tRNA_arg__L_c + 69 generic_tRNA_val__L_c + 0.0100342633382281*mu + 0.00392339696524719 ribosome + 30 generic_tRNA_gln__L_c + 12 cys__L_c + 38 generic_tRNA_asn__L_c + 34 lys__L_c + 44 generic_tRNA_asp__L_c + 91 generic_tRNA_ala__L_c + 46 ile__L_c + 14 his__L_c + 2e-08 RNA_b0002 + 69 val__L_c + 34 generic_tRNA_lys__L_c + 3280 h2o_c + 4 trp__L_c + 14 generic_tRNA_his__L_c + 38 asn__L_c + 51 generic_tRNA_ser__L_c + 30 gln__L_c + 30 generic_tRNA_phe__L_c + 89 leu__L_c + 23 generic_tRNA_met__L_c + 46 generic_tRNA_ile__L_c + 53 generic_tRNA_glu__L_c + 23 met__L_c + 30 phe__L_c + 46 arg__L_c + 53 glu__L_c + 34 generic_tRNA_thr__L_c + 29 generic_tRNA_pro__L_c + 51 ser__L_c + 34 thr__L_c + 1640 atp_c + 12 generic_tRNA_cys__L_c + 89 generic_tRNA_leu__L_c + 1640 gtp_c + 4 generic_tRNA_trp__L_c --> 3280 pi_c + 89.103546 biomass + 1640 gdp_c + 3280 h_c + 1640 adp_c + protein_b0002'"
      ]
     },
     "execution_count": 41,
     "metadata": {},
     "output_type": "execute_result"
    }
   ],
   "source": [
    "me.reactions.translation_b0002.reaction"
   ]
  },
  {
   "cell_type": "markdown",
   "metadata": {},
   "source": [
    "## Begin by loading metabolites"
   ]
  },
  {
   "cell_type": "code",
   "execution_count": 2,
   "metadata": {
    "collapsed": true
   },
   "outputs": [],
   "source": [
    "def fix_id(id_str):\n",
    "    return id_str.replace(\"_DASH_\", \"__\")"
   ]
  },
  {
   "cell_type": "code",
   "execution_count": 3,
   "metadata": {
    "collapsed": false
   },
   "outputs": [],
   "source": [
    "me = MEmodel(\"iJO1366-ME\")\n",
    "me.id = \"iJO1366-ME\"\n",
    "me.compartments = {\"p\": \"Periplasm\", \"e\": \"Extra-organism\",\n",
    "                   \"c\": \"Cytosol\"}\n",
    "compartment_lookup = {v: k for k, v in me.compartments.items()}"
   ]
  },
  {
   "cell_type": "code",
   "execution_count": 4,
   "metadata": {
    "collapsed": false
   },
   "outputs": [],
   "source": [
    "met_info = pandas.read_csv(\n",
    "    join(ecoli_files_dir, \"metabolites.txt\"),\n",
    "    delimiter=\"\\t\", header=None, index_col=0,\n",
    "    names=[\"id\", \"name\", \"formula\", \"compartment\", \"data_source\"])"
   ]
  },
  {
   "cell_type": "code",
   "execution_count": 5,
   "metadata": {
    "collapsed": false
   },
   "outputs": [
    {
     "name": "stdout",
     "output_type": "stream",
     "text": [
      "Assigned tl to e\n",
      "Assigned hemed to e\n",
      "Assigned pqq to e\n",
      "Assigned dpm to e\n",
      "Assigned 23bpg to e\n",
      "Assigned tqn to e\n"
     ]
    }
   ],
   "source": [
    "for met_id in met_info.index:\n",
    "    fixed_id = fix_id(met_id)\n",
    "    for compartment in met_info.compartment[met_id].split(\"AND\"):\n",
    "        compartment = compartment.strip()\n",
    "        if compartment == \"No_Compartment\":\n",
    "            print \"Assigned %s to e\" % met_id\n",
    "            compartment = me.compartments[\"e\"]\n",
    "        metab = Metabolite(fixed_id + \"_\" + compartment_lookup[compartment])\n",
    "        metab.name = met_info.name[met_id]\n",
    "    \n",
    "        metab.formula = met_info.formula[met_id]\n",
    "        me.add_metabolites(metab)"
   ]
  },
  {
   "cell_type": "markdown",
   "metadata": {},
   "source": [
    "Add generic ions to simplify complexes"
   ]
  },
  {
   "cell_type": "code",
   "execution_count": 6,
   "metadata": {
    "collapsed": false
   },
   "outputs": [],
   "source": [
    "divalent_list = divalent_list\n",
    "monovalent_list = monovalent_list\n",
    "comp = \"_c\"  # compartment\n",
    "# Divalent\n",
    "div = cobra.Metabolite('generic_divalent' + comp)\n",
    "div.name = 'Generic divalent ion'\n",
    "me.add_metabolites(div)\n",
    "for ion in divalent_list:\n",
    "    rxn1 = cobra.Reaction(ion + comp + '_to_generic')\n",
    "    ion_dict = {}\n",
    "    met1 = me.metabolites.get_by_id(ion + comp)\n",
    "    ion_dict[met1] = -1\n",
    "    ion_dict[div] = 1\n",
    "    rxn1.add_metabolites(ion_dict)\n",
    "    me.add_reaction(rxn1)\n",
    "# Monovalent\n",
    "mono = cobra.Metabolite('generic_monovalent' + comp)\n",
    "mono.name = 'Generic monovalent ion'\n",
    "for ion in monovalent_list:\n",
    "    rxn2 = cobra.Reaction(ion + comp + '_to_generic')\n",
    "    ion_dict = {}\n",
    "    met2 = me.metabolites.get_by_id(ion + comp)\n",
    "    ion_dict[met2] = -1\n",
    "    ion_dict[mono] = 1\n",
    "    rxn2.add_metabolites(ion_dict)\n",
    "    me.add_reaction(rxn2)"
   ]
  },
  {
   "cell_type": "markdown",
   "metadata": {},
   "source": [
    "## Build Metabolic reactions"
   ]
  },
  {
   "cell_type": "code",
   "execution_count": 7,
   "metadata": {
    "collapsed": false
   },
   "outputs": [],
   "source": [
    "reaction_info = get_reaction_info_frame()\n",
    "reaction_dict = get_reaction_matrix_dict()"
   ]
  },
  {
   "cell_type": "code",
   "execution_count": 8,
   "metadata": {
    "collapsed": false
   },
   "outputs": [],
   "source": [
    "for r_id in reaction_info.index:\n",
    "    reaction = StoichiometricData(r_id, me)\n",
    "    reaction._stoichiometry = {fix_id(k): v\\\n",
    "                               for k, v in reaction_dict[r_id].items()}\n",
    "    reaction.lower_bound = \\\n",
    "        -1000. if reaction_info.is_reversible[r_id] else 0.\n",
    "    reaction.upper_bound = 1000."
   ]
  },
  {
   "cell_type": "markdown",
   "metadata": {},
   "source": [
    "Also make a dummy reaction"
   ]
  },
  {
   "cell_type": "code",
   "execution_count": 9,
   "metadata": {
    "collapsed": false
   },
   "outputs": [],
   "source": [
    "dummy = StoichiometricData(\"dummy_reaction\", me)\n",
    "dummy.lower_bound = 0\n",
    "dummy.upper_bound = 1000\n",
    "dummy._stoichiometry = {}"
   ]
  },
  {
   "cell_type": "markdown",
   "metadata": {},
   "source": [
    "Boundary Reactions"
   ]
  },
  {
   "cell_type": "code",
   "execution_count": 10,
   "metadata": {
    "collapsed": false
   },
   "outputs": [],
   "source": [
    "sources_sinks = pandas.read_csv(join(ecoli_files_dir, \"reaction_matrix_sources_and_sinks.txt\"), delimiter=\"\\t\",\n",
    "                                header=None, names=[\"rxn_id\", \"met_id\", \"compartment\", \"stoic\"], index_col=1)\n",
    "sources_sinks.index = [fix_id(i) for i in sources_sinks.index]\n",
    "\n",
    "source_amounts = pandas.read_csv(join(ecoli_files_dir, \"exchange_bounds.txt\"),\n",
    "                                 delimiter=\"\\t\", index_col=0, names=[\"met_id\", \"amount\"])\n",
    "source_amounts.index = [fix_id(i) for i in source_amounts.index]\n",
    "\n",
    "\n",
    "for met_id in sources_sinks.index:\n",
    "    model_met_id = met_id + \"_\" + compartment_lookup[sources_sinks.compartment[met_id]]\n",
    "    # EX_ or DM_ + met_id\n",
    "    reaction_id = sources_sinks.rxn_id[met_id][:3] + model_met_id\n",
    "    reaction = cobra.Reaction(reaction_id)\n",
    "    me.add_reaction(reaction)\n",
    "    reaction.add_metabolites({me.metabolites.get_by_id(model_met_id): -1})\n",
    "    # set bounds on exchanges\n",
    "    if reaction.id.startswith(\"EX_\") and met_id in source_amounts.index:\n",
    "        reaction.lower_bound = -source_amounts.amount[met_id]"
   ]
  },
  {
   "cell_type": "markdown",
   "metadata": {},
   "source": [
    "Set bounds on boundary reactions"
   ]
  },
  {
   "cell_type": "markdown",
   "metadata": {},
   "source": [
    "## Build ribosome and RNA Polymerase"
   ]
  },
  {
   "cell_type": "code",
   "execution_count": 11,
   "metadata": {
    "collapsed": false,
    "scrolled": true
   },
   "outputs": [
    {
     "name": "stdout",
     "output_type": "stream",
     "text": [
      "Created <TranslatedGene protein_b1089 at 0x7f6bc103c510> in <ComplexFormation formation_ribosome at 0x7f6bc1098d50>\n",
      "Created <TranslatedGene protein_b3637 at 0x7f6bc0fcf890> in <ComplexFormation formation_ribosome at 0x7f6bc1098d50>\n",
      "Created <TranslatedGene protein_b3636 at 0x7f6bc0fcf8d0> in <ComplexFormation formation_ribosome at 0x7f6bc1098d50>\n",
      "Created <TranslatedGene protein_b3304 at 0x7f6bc0fcf910> in <ComplexFormation formation_ribosome at 0x7f6bc1098d50>\n",
      "Created <TranslatedGene protein_b4200 at 0x7f6bc0fcf950> in <ComplexFormation formation_ribosome at 0x7f6bc1098d50>\n",
      "Created <TranslatedGene protein_b1716 at 0x7f6bc0fcf990> in <ComplexFormation formation_ribosome at 0x7f6bc1098d50>\n",
      "Created <TranslatedGene protein_b1717 at 0x7f6bc0fcf9d0> in <ComplexFormation formation_ribosome at 0x7f6bc1098d50>\n",
      "Created <TranslatedGene protein_b0023 at 0x7f6bc0fcfa10> in <ComplexFormation formation_ribosome at 0x7f6bc1098d50>\n",
      "Created <TranslatedGene protein_b3306 at 0x7f6bc0fcfa50> in <ComplexFormation formation_ribosome at 0x7f6bc1098d50>\n",
      "Created <TranslatedGene protein_b1480 at 0x7f6bc0fcfa90> in <ComplexFormation formation_ribosome at 0x7f6bc1098d50>\n",
      "Created <TranslatedGene protein_b3309 at 0x7f6bc0fcfad0> in <ComplexFormation formation_ribosome at 0x7f6bc1098d50>\n",
      "Created <TranslatedGene protein_b3308 at 0x7f6bc0fcfb10> in <ComplexFormation formation_ribosome at 0x7f6bc1098d50>\n",
      "Created <TranslatedGene protein_b3321 at 0x7f6bc0fcfb50> in <ComplexFormation formation_ribosome at 0x7f6bc1098d50>\n",
      "Created <TranslatedGene protein_b3320 at 0x7f6bc0fcfb90> in <ComplexFormation formation_ribosome at 0x7f6bc1098d50>\n",
      "Created <TranslatedGene protein_b3301 at 0x7f6bc0fcfbd0> in <ComplexFormation formation_ribosome at 0x7f6bc1098d50>\n",
      "Created <TranslatedGene protein_b3303 at 0x7f6bc0fcfc10> in <ComplexFormation formation_ribosome at 0x7f6bc1098d50>\n",
      "Created <TranslatedGene protein_b3302 at 0x7f6bc0fcfc50> in <ComplexFormation formation_ribosome at 0x7f6bc1098d50>\n",
      "Created <TranslatedGene protein_b3305 at 0x7f6bc0fcfc90> in <ComplexFormation formation_ribosome at 0x7f6bc1098d50>\n",
      "Created <TranslatedGene protein_b3986 at 0x7f6bc0fcfcd0> in <ComplexFormation formation_ribosome at 0x7f6bc1098d50>\n",
      "Created <TranslatedGene protein_b3307 at 0x7f6bc0fcfd10> in <ComplexFormation formation_ribosome at 0x7f6bc1098d50>\n",
      "Created <TranslatedGene protein_b3984 at 0x7f6bc0fcfd50> in <ComplexFormation formation_ribosome at 0x7f6bc1098d50>\n",
      "Created <TranslatedGene protein_b3341 at 0x7f6bc0fcfd90> in <ComplexFormation formation_ribosome at 0x7f6bc1098d50>\n",
      "Created <TranslatedGene protein_b3983 at 0x7f6bc0fcfdd0> in <ComplexFormation formation_ribosome at 0x7f6bc1098d50>\n",
      "Created <TranslatedGene protein_b0911 at 0x7f6bc0fcfe10> in <ComplexFormation formation_ribosome at 0x7f6bc1098d50>\n",
      "Created <TranslatedGene protein_b3231 at 0x7f6bc0fcfe50> in <ComplexFormation formation_ribosome at 0x7f6bc1098d50>\n",
      "Created <TranslatedGene protein_b2609 at 0x7f6bc0fcfe90> in <ComplexFormation formation_ribosome at 0x7f6bc1098d50>\n",
      "Created <TranslatedGene protein_b3958 at 0x7f6bc0fcfed0> in <ComplexFormation formation_ribosome at 0x7f6bc1098d50>\n",
      "Created <TranslatedGene protein_b3342 at 0x7f6bc0fcff10> in <ComplexFormation formation_ribosome at 0x7f6bc1098d50>\n",
      "Created <TranslatedGene protein_b3703 at 0x7f6bc0fcff50> in <ComplexFormation formation_ribosome at 0x7f6bc1098d50>\n",
      "Created <TranslatedGene protein_b3296 at 0x7f6bc0fcff90> in <ComplexFormation formation_ribosome at 0x7f6bc1098d50>\n",
      "Created <TranslatedGene protein_b3936 at 0x7f6bc0fcffd0> in <ComplexFormation formation_ribosome at 0x7f6bc1098d50>\n",
      "Created <TranslatedGene protein_b0169 at 0x7f6bc0fc9050> in <ComplexFormation formation_ribosome at 0x7f6bc1098d50>\n",
      "Created <TranslatedGene protein_b3298 at 0x7f6bc0fc9090> in <ComplexFormation formation_ribosome at 0x7f6bc1098d50>\n",
      "Created <TranscribedGene RNA_b3854 at 0x7f6bc0fc90d0> in <ComplexFormation formation_ribosome at 0x7f6bc1098d50>\n",
      "Created <TranslatedGene protein_b3315 at 0x7f6bc0fc9110> in <ComplexFormation formation_ribosome at 0x7f6bc1098d50>\n",
      "Created <TranslatedGene protein_b3318 at 0x7f6bc0fc9150> in <ComplexFormation formation_ribosome at 0x7f6bc1098d50>\n",
      "Created <TranslatedGene protein_b3319 at 0x7f6bc0fc9190> in <ComplexFormation formation_ribosome at 0x7f6bc1098d50>\n",
      "Created <TranslatedGene protein_b3186 at 0x7f6bc0fc91d0> in <ComplexFormation formation_ribosome at 0x7f6bc1098d50>\n",
      "Created <TranslatedGene protein_b3185 at 0x7f6bc0fc9210> in <ComplexFormation formation_ribosome at 0x7f6bc1098d50>\n",
      "Created <TranslatedGene protein_b3312 at 0x7f6bc0fc9250> in <ComplexFormation formation_ribosome at 0x7f6bc1098d50>\n",
      "Created <TranslatedGene protein_b3313 at 0x7f6bc0fc9290> in <ComplexFormation formation_ribosome at 0x7f6bc1098d50>\n",
      "Created <TranslatedGene protein_b3310 at 0x7f6bc0fc92d0> in <ComplexFormation formation_ribosome at 0x7f6bc1098d50>\n",
      "Created <TranslatedGene protein_b3311 at 0x7f6bc0fc9310> in <ComplexFormation formation_ribosome at 0x7f6bc1098d50>\n",
      "Created <TranslatedGene protein_b3316 at 0x7f6bc0fc9350> in <ComplexFormation formation_ribosome at 0x7f6bc1098d50>\n",
      "Created <TranslatedGene protein_b3317 at 0x7f6bc0fc9390> in <ComplexFormation formation_ribosome at 0x7f6bc1098d50>\n",
      "Created <TranslatedGene protein_b3314 at 0x7f6bc0fc93d0> in <ComplexFormation formation_ribosome at 0x7f6bc1098d50>\n",
      "Created <TranslatedGene protein_b2185 at 0x7f6bc0fc9410> in <ComplexFormation formation_ribosome at 0x7f6bc1098d50>\n",
      "Created <TranslatedGene protein_b3065 at 0x7f6bc0fc9450> in <ComplexFormation formation_ribosome at 0x7f6bc1098d50>\n",
      "Created <TranslatedGene protein_b4203 at 0x7f6bc0fc9490> in <ComplexFormation formation_ribosome at 0x7f6bc1098d50>\n",
      "Created <TranslatedGene protein_b4202 at 0x7f6bc0fc94d0> in <ComplexFormation formation_ribosome at 0x7f6bc1098d50>\n",
      "Created <TranslatedGene protein_b3165 at 0x7f6bc0fc9510> in <ComplexFormation formation_ribosome at 0x7f6bc1098d50>\n",
      "Created <TranscribedGene RNA_b3851 at 0x7f6bc0fc9550> in <ComplexFormation formation_ribosome at 0x7f6bc1098d50>\n",
      "Created <TranslatedGene protein_b3299 at 0x7f6bc0fc9590> in <ComplexFormation formation_ribosome at 0x7f6bc1098d50>\n",
      "Created <TranslatedGene protein_b3230 at 0x7f6bc0fc95d0> in <ComplexFormation formation_ribosome at 0x7f6bc1098d50>\n",
      "Created <TranslatedGene protein_b3297 at 0x7f6bc0fc9610> in <ComplexFormation formation_ribosome at 0x7f6bc1098d50>\n",
      "Created <TranslatedGene protein_b2606 at 0x7f6bc0fc9650> in <ComplexFormation formation_ribosome at 0x7f6bc1098d50>\n",
      "Created <TranslatedGene protein_b3294 at 0x7f6bc0fc9690> in <ComplexFormation formation_ribosome at 0x7f6bc1098d50>\n",
      "Created <TranscribedGene RNA_b3855 at 0x7f6bc0fc96d0> in <ComplexFormation formation_ribosome at 0x7f6bc1098d50>\n"
     ]
    }
   ],
   "source": [
    "ribosome_complex = ComplexData(\"ribosome\", me)\n",
    "ribosome_components = ribosome_complex.stoichiometry\n",
    "for i in [\"b3851\", \"b3854\", \"b3855\"]:\n",
    "    ribosome_components[\"RNA_\" + i] = 1\n",
    "# 30S Listed as [rpsA -rpsU], sra \n",
    "# [rplA-rplF],  rplI, [rplK-rplY],\n",
    "# [rpmA-rpmJ]\n",
    "\n",
    "for i in [\"b0911\", \"b0169\", \"b3314\", \"b3296\", \"b3303\", \"b4200\", \"b3341\",\n",
    "          \"b3306\", \"b3230\", \"b3321\", \"b3297\", \"b3342\", \"b3298\", \"b3307\", \n",
    "          \"b3165\", \"b2609\", \"b3311\", \"b4202\", \"b3316\", \"b0023\", \"b3065\",\n",
    "          \"b1480\"]:\n",
    "    ribosome_components[\"protein_\" + i] = 1\n",
    "    \n",
    "# 50S listed as [rplA-rplF],rplJ, rplI, rplK [rplM-rplY], [rpmA-rpmJ]    \n",
    "for i in [\"b3984\", \"b3317\", \"b3320\", \"b3319\", \"b3308\", \"b3305\", \n",
    "          \"b3958\", \"b4203\", \"b3983\", \"b3231\", \"b3310\", \"b3301\",\n",
    "          \"b3313\", \"b3294\", \"b3304\", \"b2606\", \"b1716\", \"b3186\",\n",
    "          \"b3315\", \"b3318\", \"b3309\", \"b2185\", \n",
    "          \"b3185\", \"b3637\", \"b3312\", \"b3302\", \"b3936\", \"b1089\", \n",
    "          \"b3636\", \"b3703\", \"b1717\", \"b3299\"]:\n",
    "    ribosome_components[\"protein_\" + i] = 1\n",
    "# [rplJ, 2(2[rplL7])]\n",
    "ribosome_components[\"protein_\" + \"b3986\"] = 4\n",
    "\n",
    "ribosome_complex.create_complex_formation()"
   ]
  },
  {
   "cell_type": "code",
   "execution_count": 12,
   "metadata": {
    "collapsed": false
   },
   "outputs": [
    {
     "name": "stdout",
     "output_type": "stream",
     "text": [
      "Created <TranslatedGene protein_b3295 at 0x7f6bc103c2d0> in <ComplexFormation formation_RNA_Polymerase at 0x7f6bc0fb4fd0>\n",
      "Created <TranslatedGene protein_b3988 at 0x7f6bc103c390> in <ComplexFormation formation_RNA_Polymerase at 0x7f6bc0fb4fd0>\n",
      "Created <TranslatedGene protein_b3987 at 0x7f6bc103c3d0> in <ComplexFormation formation_RNA_Polymerase at 0x7f6bc0fb4fd0>\n"
     ]
    }
   ],
   "source": [
    "RNAP_complex = ComplexData(\"RNA_Polymerase\", me)\n",
    "RNAP_components = RNAP_complex.stoichiometry\n",
    "# Core RNA Polymerase Enzyme\n",
    "for i in {\"b3295\" : \"rpoA\", \"b3988\" : \"rpoC\", \"b3987\" : \"rpoB\"}:\n",
    "    if i == \"b3295\":\n",
    "        RNAP_components[\"protein_\" + i] = 2\n",
    "    else:\n",
    "        RNAP_components[\"protein_\" + i] = 1\n",
    "\n",
    "RNAP_complex.create_complex_formation()"
   ]
  },
  {
   "cell_type": "markdown",
   "metadata": {},
   "source": [
    "### Add Transcription/Translation from the genbank file"
   ]
  },
  {
   "cell_type": "code",
   "execution_count": 13,
   "metadata": {
    "collapsed": false,
    "scrolled": true
   },
   "outputs": [
    {
     "name": "stdout",
     "output_type": "stream",
     "text": [
      "TODO deal with selenocystine\n"
     ]
    },
    {
     "data": {
      "text/plain": [
       "{'3892674,3893241': 'RNA_b3713',\n",
       " '3698585,3699857': 'RNA_b3539',\n",
       " '141430,141967': 'RNA_b0125',\n",
       " '4070697,4071594': 'RNA_b3882',\n",
       " '3790848,3791706': 'RNA_b3618',\n",
       " '3973168,3974299': 'RNA_b3791',\n",
       " '4623934,4625317': 'RNA_b4389',\n",
       " '155460,156201': 'RNA_b0140',\n",
       " '4243251,4244442': 'RNA_b4034',\n",
       " '846480,847227': 'RNA_b0811',\n",
       " '4258343,4258598': 'RNA_b4047',\n",
       " '2347956,2349033': 'RNA_b2239',\n",
       " '1002661,1003177': 'RNA_b0943',\n",
       " '4407297,4408029': 'RNA_b4180',\n",
       " '1647632,1647821': 'RNA_b1575',\n",
       " '4163450,4164308': 'RNA_b3967',\n",
       " '587204,590177': 'RNA_b0568',\n",
       " '1921089,1921338': 'RNA_b4432',\n",
       " '2541853,2542645': 'RNA_b2426',\n",
       " '1244901,1246599': 'RNA_b1197',\n",
       " '602638,603886': 'RNA_b0577',\n",
       " '1757326,1758547': 'RNA_b1680',\n",
       " '3409674,3410559': 'RNA_b3262',\n",
       " '732998,733325': 'RNA_b0702',\n",
       " '3026545,3027034': 'RNA_b2886',\n",
       " '4491397,4492429': 'RNA_b4267',\n",
       " '1904274,1905084': 'RNA_b1822',\n",
       " '3548101,3550495': 'RNA_b3417',\n",
       " '4005779,4006400': 'RNA_b3823',\n",
       " '1698980,1700153': 'RNA_b1622',\n",
       " '937216,938560': 'RNA_b0892',\n",
       " '4289534,4291193': 'RNA_b4074',\n",
       " '3428864,3429437': 'RNA_b3282',\n",
       " '1791581,1792133': 'RNA_b1710',\n",
       " '900756,901473': 'RNA_b0862',\n",
       " '1241388,1242303': 'RNA_b1192',\n",
       " '2849885,2850158': 'RNA_b2728',\n",
       " '2717974,2720635': 'RNA_b2584',\n",
       " '956875,957964': 'RNA_b0907',\n",
       " '309307,309895': 'RNA_b0293',\n",
       " '4526133,4526940': 'RNA_b4303',\n",
       " '1367416,1367638': 'RNA_b1307',\n",
       " '2223822,2224401': 'RNA_b2136',\n",
       " '4350107,4350380': 'RNA_b4127',\n",
       " '3987110,3987851': 'RNA_b3804',\n",
       " '3410642,3410822': 'RNA_b3263',\n",
       " '2941358,2942564': 'RNA_b2810',\n",
       " '2368039,2368930': 'RNA_b2256',\n",
       " '1983162,1984152': 'RNA_b1901',\n",
       " '2429695,2430964': 'RNA_b2315',\n",
       " '2423251,2423938': 'RNA_b2308',\n",
       " '4350606,4350903': 'RNA_b4128',\n",
       " '2386656,2387079': 'RNA_b2274',\n",
       " '2183938,2184763': 'RNA_b2106',\n",
       " '4472146,4472740': 'RNA_b4251',\n",
       " '3066968,3067829': 'RNA_b2924',\n",
       " '2099918,2100935': 'RNA_b2030',\n",
       " '3575753,3576749': 'RNA_b3438',\n",
       " '455900,456524': 'RNA_b0437',\n",
       " '1322121,1322742': 'RNA_b1267',\n",
       " '1768395,1768501': 'RNA_b4431',\n",
       " '2546123,2547428': 'RNA_b2430',\n",
       " '784159,784540': 'RNA_b0753',\n",
       " '3748835,3748937': 'RNA_b4648',\n",
       " '2308500,2309556': 'RNA_b2214',\n",
       " '626916,627774': 'RNA_b0595',\n",
       " '83621,83708': 'RNA_b0075',\n",
       " '2089120,2090425': 'RNA_b2020',\n",
       " '2077055,2077385': 'RNA_b2007',\n",
       " '3934300,3935191': 'RNA_b3751',\n",
       " '4265136,4266330': 'RNA_b4054',\n",
       " '3208802,3209018': 'RNA_b3065',\n",
       " '2190536,2190818': 'RNA_b2112',\n",
       " '2683856,2685047': 'RNA_b2552',\n",
       " '3320754,3322092': 'RNA_b3176',\n",
       " '1162482,1163307': 'RNA_b1106',\n",
       " '2864580,2865573': 'RNA_b2741',\n",
       " '3886457,3886532': 'RNA_b3707',\n",
       " '2897509,2898295': 'RNA_b2774',\n",
       " '4319266,4319719': 'RNA_b4101',\n",
       " '543280,544516': 'RNA_b0516',\n",
       " '1656092,1658519': 'RNA_b1587',\n",
       " '2662411,2663266': 'RNA_b2534',\n",
       " '2975658,2976921': 'RNA_b2838',\n",
       " '2686814,2687528': 'RNA_b2555',\n",
       " '4257259,4257469': 'RNA_b4045',\n",
       " '343399,344215': 'RNA_b0326',\n",
       " '2871408,2872014': 'RNA_b2750',\n",
       " '1112801,1113029': 'RNA_b1050',\n",
       " '2010723,2011038': 'RNA_b1937',\n",
       " '4547975,4549319': 'RNA_b4321',\n",
       " '1720144,1722157': 'RNA_b1645',\n",
       " '2734167,2734905': 'RNA_b2595',\n",
       " '780799,780875': 'RNA_b0749',\n",
       " '2921805,2922135': 'RNA_b2792',\n",
       " '1632908,1633871': 'RNA_b1547',\n",
       " '692753,694178': 'RNA_b0661',\n",
       " '1924802,1926863': 'RNA_b1845',\n",
       " '1616266,1616932': 'RNA_b1529',\n",
       " '2714775,2715465': 'RNA_b2580',\n",
       " '2638707,2639826': 'RNA_b2515',\n",
       " '3845327,3846647': 'RNA_b3667',\n",
       " '1732458,1733274': 'RNA_b1655',\n",
       " '4525999,4526089': 'RNA_b4624',\n",
       " '3236601,3237567': 'RNA_b3088',\n",
       " '1618012,1618231': 'RNA_b1532',\n",
       " '3405628,3407080': 'RNA_b3258',\n",
       " '4617625,4618849': 'RNA_b4383',\n",
       " '77620,78799': 'RNA_b0070',\n",
       " '1785468,1786302': 'RNA_b1703',\n",
       " '1964416,1965061': 'RNA_b1881',\n",
       " '3648259,3648685': 'RNA_b3503',\n",
       " '2763939,2765013': 'RNA_b2630',\n",
       " '565320,565599': 'RNA_b0539',\n",
       " '2773940,2774399': 'RNA_b2643',\n",
       " '4316028,4316787': 'RNA_b4097',\n",
       " '3557869,3558628': 'RNA_b3423',\n",
       " '252300,252699': 'RNA_b0233',\n",
       " '3249045,3250032': 'RNA_b3102',\n",
       " '3546007,3548092': 'RNA_b3416',\n",
       " '932446,936436': 'RNA_b0890',\n",
       " '34299,34695': 'RNA_b0034',\n",
       " '3066194,3066830': 'RNA_b2923',\n",
       " '2298288,2300775': 'RNA_b2206',\n",
       " '3786123,3787083': 'RNA_b3614',\n",
       " '4363040,4363379': 'RNA_b4137',\n",
       " '3038825,3039092': 'RNA_b2897',\n",
       " '4494427,4494512': 'RNA_b4270',\n",
       " '685151,685892': 'RNA_b0654',\n",
       " '2403724,2404663': 'RNA_b2289',\n",
       " '2509022,2509349': 'RNA_b2390',\n",
       " '1200009,1200255': 'RNA_b1141',\n",
       " '1767097,1768210': 'RNA_b1688',\n",
       " '3482239,3482458': 'RNA_b3354',\n",
       " '1213486,1214698': 'RNA_b1163',\n",
       " '3585392,3586136': 'RNA_b3449',\n",
       " '1100073,1100907': 'RNA_b1037',\n",
       " '1928480,1928771': 'RNA_b1848',\n",
       " '3359197,3359962': 'RNA_b3214',\n",
       " '2628347,2628887': 'RNA_b2506',\n",
       " '386194,387022': 'RNA_b0367',\n",
       " '1966527,1967388': 'RNA_b1884',\n",
       " '3510655,3511660': 'RNA_b3384',\n",
       " '4578090,4579485': 'RNA_b4348',\n",
       " '2379103,2379565': 'RNA_b2267',\n",
       " '748201,748930': 'RNA_b0717',\n",
       " '4321358,4322375': 'RNA_b4105',\n",
       " '764375,765098': 'RNA_b0730',\n",
       " '1421224,1421668': 'RNA_b1362',\n",
       " '2498404,2499139': 'RNA_b2381',\n",
       " '1555135,1556062': 'RNA_b1483',\n",
       " '2061411,2062491': 'RNA_b1991',\n",
       " '2170944,2172300': 'RNA_b2092',\n",
       " '573959,574976': 'RNA_b0552',\n",
       " '562552,563068': 'RNA_b0534',\n",
       " '936594,937206': 'RNA_b0891',\n",
       " '4254659,4255028': 'RNA_b4042',\n",
       " '1870064,1871555': 'RNA_b1786',\n",
       " '572952,573093': 'RNA_b4509',\n",
       " '1811890,1814152': 'RNA_b1732',\n",
       " '1996517,1997504': 'RNA_b1919',\n",
       " '1322769,1324665': 'RNA_b1268',\n",
       " '3034394,3036128': 'RNA_b2892',\n",
       " '645853,646732': 'RNA_b0613',\n",
       " '1768638,1768995': 'RNA_b1689',\n",
       " '70386,71265': 'RNA_b0064',\n",
       " '3540749,3540986': 'RNA_b3410',\n",
       " '49822,50302': 'RNA_b0048',\n",
       " '2635495,2636674': 'RNA_b2512',\n",
       " '866742,868614': 'RNA_b0829',\n",
       " '3108611,3109148': 'RNA_b2968',\n",
       " '437538,439401': 'RNA_b0420',\n",
       " '684477,685152': 'RNA_b0653',\n",
       " '1934675,1935545': 'RNA_b1853',\n",
       " '2019527,2019893': 'RNA_b1947',\n",
       " '1286309,1286399': 'RNA_b1229',\n",
       " '4304892,4305822': 'RNA_b4084',\n",
       " '797808,798804': 'RNA_b0767',\n",
       " '4032630,4033176': 'RNA_b3850',\n",
       " '805220,806504': 'RNA_b0772',\n",
       " '3051536,3052862': 'RNA_b2908',\n",
       " '498237,499197': 'RNA_b0476',\n",
       " '2744455,2745817': 'RNA_b2610',\n",
       " '3968155,3969286': 'RNA_b3786',\n",
       " '1145811,1145980': 'RNA_b4418',\n",
       " '667941,668259': 'RNA_b0637',\n",
       " '975548,980009': 'RNA_b0924',\n",
       " '2050299,2051352': 'RNA_b4497',\n",
       " '3420457,3421216': 'RNA_b3271',\n",
       " '3706806,3708498': 'RNA_b3546',\n",
       " '4126694,4127855': 'RNA_b3939',\n",
       " '4198303,4198576': 'RNA_b4000',\n",
       " '2470408,2470903': 'RNA_b2357',\n",
       " '378829,379105': 'RNA_b0357',\n",
       " '908553,910272': 'RNA_b0871',\n",
       " '1367712,1368027': 'RNA_b1308',\n",
       " '522484,526765': 'RNA_b0497',\n",
       " '1374855,1375911': 'RNA_b1315',\n",
       " '3564622,3566056': 'RNA_b3429',\n",
       " '4423140,4423536': 'RNA_b4200',\n",
       " '1607252,1608704': 'RNA_b1521',\n",
       " '1820481,1821309': 'RNA_b1740',\n",
       " '3293415,3293811': 'RNA_b3148',\n",
       " '1070995,1071382': 'RNA_b1010',\n",
       " '3387541,3388471': 'RNA_b3243',\n",
       " '1232398,1233940': 'RNA_b1186',\n",
       " '1201481,1202156': 'RNA_b1145',\n",
       " '2464330,2464405': 'RNA_b2348',\n",
       " '3436045,3436456': 'RNA_b3291',\n",
       " '2822512,2823598': 'RNA_b2701',\n",
       " '526804,527173': 'RNA_b0498',\n",
       " '123016,125680': 'RNA_b0114',\n",
       " '1924143,1924806': 'RNA_b1844',\n",
       " '4173695,4173770': 'RNA_b3978',\n",
       " '274548,275952': 'RNA_b0260',\n",
       " '3316234,3316311': 'RNA_b3171',\n",
       " '3084208,3084424': 'RNA_b2940',\n",
       " '1035971,1036829': 'RNA_b0977',\n",
       " '1164365,1164908': 'RNA_b1108',\n",
       " '1074142,1078105': 'RNA_b1014',\n",
       " '258268,259324': 'RNA_b0241',\n",
       " '4307470,4309003': 'RNA_b4087',\n",
       " '216178,217003': 'RNA_b0193',\n",
       " '4503309,4504428': 'RNA_b4280',\n",
       " '904962,905976': 'RNA_b0868',\n",
       " '2311509,2314182': 'RNA_b2216',\n",
       " '1588877,1590200': 'RNA_b1507',\n",
       " '2633905,2635378': 'RNA_b2511',\n",
       " '1338581,1339751': 'RNA_b1280',\n",
       " '1420006,1420753': 'RNA_b1360',\n",
       " '4390605,4390681': 'RNA_b4165',\n",
       " '96001,97084': 'RNA_b0087',\n",
       " '2394486,2395464': 'RNA_b2282',\n",
       " '2781086,2781326': 'RNA_b2648',\n",
       " '1049249,1049753': 'RNA_b0988',\n",
       " '1198901,1200029': 'RNA_b1140',\n",
       " '1610348,1611275': 'RNA_b1524',\n",
       " '1883868,1884834': 'RNA_b1803',\n",
       " '1228705,1229617': 'RNA_b1182',\n",
       " '1620983,1621874': 'RNA_b1535',\n",
       " '709422,709869': 'RNA_b0683',\n",
       " '2680884,2682078': 'RNA_b2550',\n",
       " '8237,9191': 'RNA_b0008',\n",
       " '4372651,4373680': 'RNA_b4146',\n",
       " '4636200,4637553': 'RNA_b4400',\n",
       " '3898626,3900243': 'RNA_b3720',\n",
       " '2566345,2567533': 'RNA_b2453',\n",
       " '2741646,2742129': 'RNA_b2605',\n",
       " '4555400,4556312': 'RNA_b4327',\n",
       " '647261,648794': 'RNA_b0615',\n",
       " '2493666,2494587': 'RNA_b2378',\n",
       " '2770188,2771204': 'RNA_b2641',\n",
       " '1674394,1675927': 'RNA_b1603',\n",
       " '1687875,1689384': 'RNA_b1614',\n",
       " '2611955,2612804': 'RNA_b2492',\n",
       " '111648,111846': 'RNA_b0101',\n",
       " '3374300,3374798': 'RNA_b3228',\n",
       " '2400076,2401867': 'RNA_b2286',\n",
       " '4135954,4137058': 'RNA_b3945',\n",
       " '29650,30799': 'RNA_b0032',\n",
       " '2412768,2414913': 'RNA_b2297',\n",
       " '3830241,3832560': 'RNA_b3656',\n",
       " '1308592,1308889': 'RNA_b1251',\n",
       " '4225753,4227385': 'RNA_b4020',\n",
       " '1119923,1120178': 'RNA_b1060',\n",
       " '4263804,4264884': 'RNA_b4053',\n",
       " '4314104,4315241': 'RNA_b4095',\n",
       " '2444409,2445495': 'RNA_b2329',\n",
       " '185122,185947': 'RNA_b0166',\n",
       " '2842783,2844493': 'RNA_b2721',\n",
       " '4368710,4369004': 'RNA_b4142',\n",
       " '3286111,3286807': 'RNA_b3143',\n",
       " '3982374,3984030': 'RNA_b3801',\n",
       " '3450318,3450948': 'RNA_b3320',\n",
       " '3154644,3155472': 'RNA_b3012',\n",
       " '303076,303406': 'RNA_b0288',\n",
       " '446038,446929': 'RNA_b0428',\n",
       " '1672995,1674384': 'RNA_b1602',\n",
       " '1905249,1905459': 'RNA_b1823',\n",
       " '1708851,1709547': 'RNA_b1632',\n",
       " '4622917,4623886': 'RNA_b4388',\n",
       " '1357513,1358932': 'RNA_b1297',\n",
       " '4435729,4436668': 'RNA_b4215',\n",
       " '3323022,3324957': 'RNA_b3178',\n",
       " '2036979,2037393': 'RNA_b1970',\n",
       " '3729153,3730146': 'RNA_b3566',\n",
       " '3013181,3013760': 'RNA_b2877',\n",
       " '517563,518373': 'RNA_b0493',\n",
       " '447269,447884': 'RNA_b0430',\n",
       " '2939671,2940589': 'RNA_b2808',\n",
       " '2175533,2176586': 'RNA_b2097',\n",
       " '1876796,1876895': 'RNA_b4676',\n",
       " '3946471,3947992': 'RNA_b3765',\n",
       " '1557930,1558953': 'RNA_b1486',\n",
       " '582175,582358': 'RNA_b0563',\n",
       " '1324875,1325751': 'RNA_b1269',\n",
       " '2698138,2698219': 'RNA_b4687',\n",
       " '3375836,3376229': 'RNA_b3230',\n",
       " '279337,279586': 'RNA_b4505',\n",
       " '2019892,2020630': 'RNA_b1948',\n",
       " '3653277,3653925': 'RNA_b3508',\n",
       " '2395460,2398187': 'RNA_b2283',\n",
       " '3723909,3724905': 'RNA_b3561',\n",
       " '3656008,3656077': 'RNA_b4704',\n",
       " '3486981,3488202': 'RNA_b3359',\n",
       " '3351142,3352072': 'RNA_b3211',\n",
       " '515142,515820': 'RNA_b0490',\n",
       " '2435971,2436967': 'RNA_b2321',\n",
       " '2798986,2799397': 'RNA_b2674',\n",
       " '3638133,3638568': 'RNA_b3495',\n",
       " '3264148,3265087': 'RNA_b3118',\n",
       " '1959995,1960484': 'RNA_b1877',\n",
       " '406651,407329': 'RNA_b0390',\n",
       " '2842231,2842774': 'RNA_b2720',\n",
       " '3611689,3613264': 'RNA_b3476',\n",
       " '4179267,4183296': 'RNA_b3987',\n",
       " '4187808,4188348': 'RNA_b3989',\n",
       " '1859725,1859998': 'RNA_b1777',\n",
       " '2467152,2468484': 'RNA_b2352',\n",
       " '480477,483627': 'RNA_b0462',\n",
       " '78847,79453': 'RNA_b0071',\n",
       " '1347003,1348131': 'RNA_b1287',\n",
       " '4343702,4345349': 'RNA_b4122',\n",
       " '1650919,1651939': 'RNA_b1580',\n",
       " '2482395,2485989': 'RNA_b2370',\n",
       " '2432845,2433658': 'RNA_b2318',\n",
       " '402926,404042': 'RNA_b0385',\n",
       " '549661,550555': 'RNA_b0521',\n",
       " '2826642,2827002': 'RNA_b2706',\n",
       " '3265875,3266415': 'RNA_b3120',\n",
       " '2693822,2695379': 'RNA_b2558',\n",
       " '3239214,3239766': 'RNA_b3090',\n",
       " '3047181,3047571': 'RNA_b2904',\n",
       " '982297,982846': 'RNA_b0926',\n",
       " '642779,643190': 'RNA_b0610',\n",
       " '1686599,1687775': 'RNA_b1613',\n",
       " '2987325,2987808': 'RNA_b2848',\n",
       " '4546830,4547733': 'RNA_b4320',\n",
       " '865790,866756': 'RNA_b0828',\n",
       " '500785,502462': 'RNA_b0478',\n",
       " '2064091,2064178': 'RNA_b4639',\n",
       " '1094360,1094660': 'RNA_b1027',\n",
       " '264527,264767': 'RNA_b0249',\n",
       " '3322084,3322933': 'RNA_b3177',\n",
       " '192871,193429': 'RNA_b0172',\n",
       " '3105041,3107177': 'RNA_b2965',\n",
       " '695978,696053': 'RNA_b0668',\n",
       " '2757006,2758416': 'RNA_b2625',\n",
       " '456649,457924': 'RNA_b0438',\n",
       " '1279086,1282830': 'RNA_b1224',\n",
       " '2023250,2023337': 'RNA_b1954',\n",
       " '281501,282410': 'RNA_b0268',\n",
       " '531674,532157': 'RNA_b0505',\n",
       " '2378743,2379049': 'RNA_b2266',\n",
       " '4135062,4135680': 'RNA_b3944',\n",
       " '2113930,2115151': 'RNA_b2044',\n",
       " '4240648,4241539': 'RNA_b4032',\n",
       " '783104,784046': 'RNA_b0752',\n",
       " '2687692,2689120': 'RNA_b2556',\n",
       " '1632333,1632909': 'RNA_b1546',\n",
       " '3699886,3700891': 'RNA_b3540',\n",
       " '795776,796835': 'RNA_b0765',\n",
       " '1756897,1757314': 'RNA_b1679',\n",
       " '247636,248134': 'RNA_b0228',\n",
       " '1612827,1613709': 'RNA_b1526',\n",
       " '3141007,3142186': 'RNA_b2995',\n",
       " '3862634,3864296': 'RNA_b3685',\n",
       " '225758,228662': 'RNA_b0204',\n",
       " '1057306,1058479': 'RNA_b0996',\n",
       " '1787636,1787828': 'RNA_b1705',\n",
       " '4557561,4558023': 'RNA_b4329',\n",
       " '1590199,1590466': 'RNA_b1508',\n",
       " '3808365,3809175': 'RNA_b3635',\n",
       " '542484,543270': 'RNA_b0515',\n",
       " '1839513,1839921': 'RNA_b1759',\n",
       " '1051289,1051463': 'RNA_b4517',\n",
       " '3457838,3459035': 'RNA_b3327',\n",
       " '1093497,1094364': 'RNA_b1026',\n",
       " '3931800,3933306': 'RNA_b3749',\n",
       " '358022,358682': 'RNA_b0339',\n",
       " '4420868,4421723': 'RNA_b4197',\n",
       " '2601868,2602816': 'RNA_b2483',\n",
       " '93165,94653': 'RNA_b0085',\n",
       " '3677441,3678371': 'RNA_b3526',\n",
       " '2424027,2424810': 'RNA_b2309',\n",
       " '2173080,2174343': 'RNA_b2095',\n",
       " '1938336,1939659': 'RNA_b1856',\n",
       " '855185,856778': 'RNA_b0820',\n",
       " '3615037,3615802': 'RNA_b3479',\n",
       " '136569,136917': 'RNA_b0122',\n",
       " '1407152,1407274': 'RNA_b4699',\n",
       " '3184082,3187887': 'RNA_b3046',\n",
       " '2769169,2769637': 'RNA_b2637',\n",
       " '774375,775068': 'RNA_b0737',\n",
       " '1545424,1548472': 'RNA_b1474',\n",
       " '1704371,1704950': 'RNA_b1628',\n",
       " '467606,468065': 'RNA_b0447',\n",
       " '1882688,1883813': 'RNA_b1802',\n",
       " '4091470,4092295': 'RNA_b3902',\n",
       " '3542903,3543587': 'RNA_b3413',\n",
       " '1944138,1944204': 'RNA_b4677',\n",
       " '2876876,2877794': 'RNA_b2755',\n",
       " '949562,950303': 'RNA_b0902',\n",
       " '2128876,2130094': 'RNA_b2057',\n",
       " '533139,534921': 'RNA_b0507',\n",
       " '1140404,1143590': 'RNA_b1084',\n",
       " '2937389,2938121': 'RNA_b2805',\n",
       " '3473353,3473740': 'RNA_b3345',\n",
       " '1670843,1671173': 'RNA_b1599',\n",
       " '3891903,3892653': 'RNA_b3712',\n",
       " '1855813,1856857': 'RNA_b1774',\n",
       " '4532452,4532698': 'RNA_b4657',\n",
       " '3223743,3224193': 'RNA_b3077',\n",
       " '2660604,2661345': 'RNA_b2532',\n",
       " '3948582,3950227': 'RNA_b4488',\n",
       " '643419,644226': 'RNA_b0611',\n",
       " '4305805,4306501': 'RNA_b4085',\n",
       " '852091,852220': 'RNA_b4705',\n",
       " '2031672,2031763': 'RNA_b4603',\n",
       " '3495024,3495831': 'RNA_b3367',\n",
       " '1922618,1922993': 'RNA_b1841',\n",
       " '2007502,2007736': 'RNA_b1930',\n",
       " '2007844,2008513': 'RNA_b1931',\n",
       " '129406,131260': 'RNA_b0117',\n",
       " '1227301,1227961': 'RNA_b1180',\n",
       " '444525,445890': 'RNA_b0427',\n",
       " '4197526,4198117': 'RNA_b3999',\n",
       " '2768466,2768703': 'RNA_b2635',\n",
       " '2417862,2418507': 'RNA_b2301',\n",
       " '2754180,2755422': 'RNA_b2622',\n",
       " '570115,570667': 'RNA_b0545',\n",
       " '3229686,3231705': 'RNA_b3081',\n",
       " '4477056,4477560': 'RNA_b4256',\n",
       " '772264,773404': 'RNA_b0734',\n",
       " '3607239,3607905': 'RNA_b3471',\n",
       " '278823,279099': 'RNA_b0265',\n",
       " '286012,287623': 'RNA_b0271',\n",
       " '3538184,3538412': 'RNA_b3408',\n",
       " '4040437,4041424': 'RNA_b3859',\n",
       " '4427886,4429299': 'RNA_b4208',\n",
       " '4402408,4402606': 'RNA_b4176',\n",
       " '265999,266191': 'RNA_b4628',\n",
       " '3403457,3403928': 'RNA_b3255',\n",
       " '3989175,3991722': 'RNA_b3806',\n",
       " '3733001,3734180': 'RNA_b3569',\n",
       " '1844988,1846032': 'RNA_b1764',\n",
       " '3247396,3247702': 'RNA_b3098',\n",
       " '170574,171465': 'RNA_b0152',\n",
       " '280052,281207': 'RNA_b0267',\n",
       " '3260473,3261682': 'RNA_b3115',\n",
       " '2053084,2054539': 'RNA_b1982',\n",
       " '1797825,1798023': 'RNA_b1717',\n",
       " '1175841,1176543': 'RNA_b1117',\n",
       " '1694485,1695076': 'RNA_b1618',\n",
       " '58473,59269': 'RNA_b4659',\n",
       " '3875089,3875488': 'RNA_b3698',\n",
       " '3279092,3279647': 'RNA_b3135',\n",
       " '4331304,4331973': 'RNA_b4113',\n",
       " '3774687,3775050': 'RNA_b3602',\n",
       " '1832139,1832817': 'RNA_b1751',\n",
       " '2106360,2107608': 'RNA_b2037',\n",
       " '2191080,2192190': 'RNA_b2113',\n",
       " '1349430,1349784': 'RNA_b1289',\n",
       " '852405,852873': 'RNA_b0817',\n",
       " '3436452,3436671': 'RNA_b4550',\n",
       " '151002,151599': 'RNA_b0136',\n",
       " '1940685,1941441': 'RNA_b1858',\n",
       " '1575680,1577366': 'RNA_b1496',\n",
       " '3939830,3941372': 'RNA_b3756',\n",
       " '2101414,2102533': 'RNA_b2032',\n",
       " '2006300,2007506': 'RNA_b1929',\n",
       " '36270,37824': 'RNA_b0037',\n",
       " '1297820,1298468': 'RNA_b1242',\n",
       " '4011075,4013337': 'RNA_b3829',\n",
       " '2672721,2673783': 'RNA_b2545',\n",
       " '837752,838430': 'RNA_b0804',\n",
       " '3747254,3748115': 'RNA_b3582',\n",
       " '1648101,1648866': 'RNA_b1577',\n",
       " '3581505,3581781': 'RNA_b3444',\n",
       " '351929,353816': 'RNA_b0335',\n",
       " '2906050,2907688': 'RNA_b2780',\n",
       " '3584965,3585406': 'RNA_b3448',\n",
       " '3654430,3654763': 'RNA_b3510',\n",
       " '3002029,3003808': 'RNA_b2869',\n",
       " '2518952,2519028': 'RNA_b2401',\n",
       " '1949418,1950237': 'RNA_b1868',\n",
       " '1244382,1244823': 'RNA_b1196',\n",
       " '4122634,4124833': 'RNA_b3935',\n",
       " '1395695,1396646': 'RNA_b1333',\n",
       " '1486255,1487695': 'RNA_b1415',\n",
       " '1333854,1336530': 'RNA_b1276',\n",
       " '3298276,3298780': 'RNA_b3156',\n",
       " '4306511,4307492': 'RNA_b4086',\n",
       " '3202715,3203333': 'RNA_b3059',\n",
       " '2935459,2936908': 'RNA_b2803',\n",
       " '788053,789202': 'RNA_b0757',\n",
       " '2870530,2870842': 'RNA_b2748',\n",
       " '3817510,3819193': 'RNA_b3647',\n",
       " '1678999,1679722': 'RNA_b1606',\n",
       " '3089899,3090850': 'RNA_b2947',\n",
       " '1753721,1755134': 'RNA_b1676',\n",
       " '2873442,2874351': 'RNA_b2752',\n",
       " '4291185,4291569': 'RNA_b4075',\n",
       " '3737727,3738981': 'RNA_b3572',\n",
       " '2654557,2654758': 'RNA_b2524',\n",
       " '4507826,4508156': 'RNA_b4286',\n",
       " '1168634,1169597': 'RNA_b1113',\n",
       " '3278722,3279097': 'RNA_b3134',\n",
       " '3050361,3051540': 'RNA_b2907',\n",
       " '1476249,1477146': 'RNA_b1409',\n",
       " '1423400,1423664': 'RNA_b1365',\n",
       " '2667053,2668415': 'RNA_b2538',\n",
       " '4437609,4437816': 'RNA_b4217',\n",
       " '3150257,3151445': 'RNA_b3008',\n",
       " '1994133,1994856': 'RNA_b1916',\n",
       " '4079247,4079883': 'RNA_b3892',\n",
       " '3801080,3802160': 'RNA_b3628',\n",
       " '4024549,4025251': 'RNA_b3844',\n",
       " '1501740,1502889': 'RNA_b1432',\n",
       " '3460365,3460953': 'RNA_b3331',\n",
       " '144576,145017': 'RNA_b0129',\n",
       " '315709,316393': 'RNA_b0300',\n",
       " '3941726,3944630': 'RNA_b3758',\n",
       " '2847995,2848457': 'RNA_b2725',\n",
       " '1808957,1810349': 'RNA_b1729',\n",
       " '1651950,1653165': 'RNA_b1581',\n",
       " '1912859,1913558': 'RNA_b1831',\n",
       " '695886,695963': 'RNA_b0666',\n",
       " '831690,832173': 'RNA_b0798',\n",
       " '1717899,1718367': 'RNA_b1641',\n",
       " '2929076,2929832': 'RNA_b2798',\n",
       " '2559646,2560015': 'RNA_b2445',\n",
       " '1666722,1667616': 'RNA_b1595',\n",
       " '2945408,2945485': 'RNA_b2814',\n",
       " '1451950,1452880': 'RNA_b1388',\n",
       " '1643369,1643657': 'RNA_b1563',\n",
       " '2168555,2169422': 'RNA_b2089',\n",
       " '1548484,1549369': 'RNA_b1475',\n",
       " '3500361,3501192': 'RNA_b4474',\n",
       " '4373721,4374288': 'RNA_b4147',\n",
       " '812748,814770': 'RNA_b0779',\n",
       " '513624,514083': 'RNA_b0488',\n",
       " '1443710,1443896': 'RNA_b1382',\n",
       " '2160899,2162303': 'RNA_b2078',\n",
       " '1908299,1909673': 'RNA_b1828',\n",
       " '3984454,3984661': 'RNA_b4456',\n",
       " '225380,225457': 'RNA_b0202',\n",
       " '20814,21078': 'RNA_b0023',\n",
       " '3405396,3405639': 'RNA_b3257',\n",
       " '2470139,2470409': 'RNA_b2356',\n",
       " '2657924,2658311': 'RNA_b2529',\n",
       " '1518986,1521089': 'RNA_b1451',\n",
       " '2356063,2356867': 'RNA_b2245',\n",
       " '1781054,1782701': 'RNA_b1701',\n",
       " '119280,120135': 'RNA_b0111',\n",
       " '1811444,1811687': 'RNA_b1731',\n",
       " '2572323,2573025': 'RNA_b2460',\n",
       " '1352528,1353494': 'RNA_b1293',\n",
       " '4485340,4486423': 'RNA_b4262',\n",
       " '306030,308556': 'RNA_b0291',\n",
       " '1760545,1762033': 'RNA_b1683',\n",
       " '4134130,4135036': 'RNA_b3943',\n",
       " '3718470,3718623': 'RNA_b4455',\n",
       " '4613537,4615088': 'RNA_b4380',\n",
       " '592550,593993': 'RNA_b0570',\n",
       " '2698639,2699020': 'RNA_b2563',\n",
       " '3727465,3728788': 'RNA_b3565',\n",
       " '4142017,4144315': 'RNA_b3951',\n",
       " '395862,397083': 'RNA_b0377',\n",
       " '830094,831459': 'RNA_b0797',\n",
       " '2798744,2798990': 'RNA_b2673',\n",
       " '2233286,2234522': 'RNA_b2147',\n",
       " '2564902,2566129': 'RNA_b2452',\n",
       " '2696780,2697629': 'RNA_b2561',\n",
       " '2181737,2182538': 'RNA_b2103',\n",
       " '2961728,2962199': 'RNA_b2826',\n",
       " '2278653,2280414': 'RNA_b2184',\n",
       " '3127064,3128165': 'RNA_b2981',\n",
       " '3318009,3319635': 'RNA_b3173',\n",
       " '2755665,2756622': 'RNA_b2623',\n",
       " '3099828,3100155': 'RNA_b2959',\n",
       " '3270808,3271579': 'RNA_b3126',\n",
       " '4404676,4407118': 'RNA_b4179',\n",
       " '1930138,1930780': 'RNA_b1850',\n",
       " '1737934,1739146': 'RNA_b1660',\n",
       " '506509,507304': 'RNA_b0482',\n",
       " '724210,726259': 'RNA_b0697',\n",
       " '3111564,3112374': 'RNA_b2972',\n",
       " '4574934,4575981': 'RNA_b4345',\n",
       " '4206169,4207711': 'RNA_b4007',\n",
       " '2761558,2763175': 'RNA_b2628',\n",
       " '1460148,1461462': 'RNA_b1398',\n",
       " '714634,715129': 'RNA_b0689',\n",
       " '2756665,2756878': 'RNA_b2624',\n",
       " '3836270,3837194': 'RNA_b3660',\n",
       " '552440,553163': 'RNA_b0524',\n",
       " '1873696,1874878': 'RNA_b1791',\n",
       " '3071997,3072711': 'RNA_b2928',\n",
       " '2616892,2618182': 'RNA_b2497',\n",
       " '2401972,2402635': 'RNA_b2287',\n",
       " '2997157,2997913': 'RNA_b2865',\n",
       " '2787006,2787984': 'RNA_b2659',\n",
       " '4255764,4257144': 'RNA_b4044',\n",
       " '2443581,2444406': 'RNA_b2328',\n",
       " '1671936,1672971': 'RNA_b1601',\n",
       " '2558278,2558920': 'RNA_b2443',\n",
       " '3446780,3447191': 'RNA_b3313',\n",
       " '527863,528354': 'RNA_b0501',\n",
       " '2676405,2677389': 'RNA_b2548',\n",
       " '1260150,1261098': 'RNA_b1207',\n",
       " '2185401,2186436': 'RNA_b2108',\n",
       " '2562544,2563354': 'RNA_b2450',\n",
       " '1082598,1083870': 'RNA_b1019',\n",
       " '3918440,3918911': 'RNA_b3736',\n",
       " '3225822,3226893': 'RNA_b3079',\n",
       " '1915533,1918167': 'RNA_b1834',\n",
       " '4188757,4189891': 'RNA_b3990',\n",
       " '2295042,2295666': 'RNA_b2201',\n",
       " '1734144,1735314': 'RNA_b1657',\n",
       " '3715332,3716307': 'RNA_b3553',\n",
       " '2179117,2180083': 'RNA_b2100',\n",
       " '1258013,1258292': 'RNA_b1205',\n",
       " '143701,144472': 'RNA_b0128',\n",
       " '1891390,1891735': 'RNA_b1809',\n",
       " '985116,986205': 'RNA_b0929',\n",
       " '2549734,2550160': 'RNA_b2434',\n",
       " '4509480,4510437': 'RNA_b4288',\n",
       " '2909112,2909361': 'RNA_b2783',\n",
       " '3008049,3009435': 'RNA_b2873',\n",
       " '3766199,3766661': 'RNA_b3596',\n",
       " '565906,567470': 'RNA_b0542',\n",
       " '120177,121551': 'RNA_b0112',\n",
       " '2643034,2645347': 'RNA_b2519',\n",
       " '1653370,1653697': 'RNA_b1582',\n",
       " '3532537,3533890': 'RNA_b3404',\n",
       " '3972489,3973164': 'RNA_b3790',\n",
       " '2669246,2670059': 'RNA_b2541',\n",
       " '4423861,4424089': 'RNA_b4202',\n",
       " '1248347,1248980': 'RNA_b1199',\n",
       " '1942369,1943380': 'RNA_b1860',\n",
       " '3853630,3853993': 'RNA_b3675',\n",
       " '690128,691007': 'RNA_b0658',\n",
       " '1337353,1338118': 'RNA_b1278',\n",
       " '122091,122856': 'RNA_b0113',\n",
       " '1133024,1133780': 'RNA_b1077',\n",
       " '2273294,2274320': 'RNA_b2179',\n",
       " '1789330,1790044': 'RNA_b1707',\n",
       " '1716516,1717626': 'RNA_b1640',\n",
       " '1641278,1642328': 'RNA_b1560',\n",
       " '273324,274341': 'RNA_b0259',\n",
       " '757928,760730': 'RNA_b0726',\n",
       " '2931062,2931710': 'RNA_b2800',\n",
       " '735667,735907': 'RNA_b4514',\n",
       " '1963066,1964215': 'RNA_b1880',\n",
       " '2133678,2134122': 'RNA_b2061',\n",
       " '2526182,2528198': 'RNA_b2411',\n",
       " '451293,452769': 'RNA_b0433',\n",
       " '1815171,1816524': 'RNA_b1734',\n",
       " '3347827,3348481': 'RNA_b3209',\n",
       " '780290,780366': 'RNA_b0746',\n",
       " '3964439,3965699': 'RNA_b3783',\n",
       " '3235332,3236319': 'RNA_b3087',\n",
       " '4398694,4399975': 'RNA_b4173',\n",
       " '1814409,1815159': 'RNA_b1733',\n",
       " '2487263,2488208': 'RNA_b2372',\n",
       " '1561357,1563757': 'RNA_b1489',\n",
       " '882895,884128': 'RNA_b0842',\n",
       " '39243,40386': 'RNA_b0039',\n",
       " '2732324,2733056': 'RNA_b2593',\n",
       " '3340294,3340861': 'RNA_b3198',\n",
       " '269501,271413': 'RNA_b4587',\n",
       " '4377399,4377795': 'RNA_b4152',\n",
       " '1536873,1540614': 'RNA_b1468',\n",
       " '3139307,3141011': 'RNA_b2994',\n",
       " '3234561,3235254': 'RNA_b3086',\n",
       " '63428,65780': 'RNA_b0060',\n",
       " '3571797,3572901': 'RNA_b3433',\n",
       " '1005174,1005717': 'RNA_b0946',\n",
       " '4120402,4121362': 'RNA_b3933',\n",
       " '2060414,2061347': 'RNA_b1990',\n",
       " '780369,780445': 'RNA_b0747',\n",
       " '4266831,4267035': 'RNA_b4621',\n",
       " '1618261,1619161': 'RNA_b1533',\n",
       " '968611,969844': 'RNA_b0916',\n",
       " '2632253,2633624': 'RNA_b2509',\n",
       " '4016877,4017633': 'RNA_b3833',\n",
       " '1990292,1990841': 'RNA_b1912',\n",
       " '2268747,2270304': 'RNA_b2176',\n",
       " '4374897,4375215': 'RNA_b4148',\n",
       " '1742894,1744151': 'RNA_b1664',\n",
       " '2990115,2991492': 'RNA_b2852',\n",
       " '2360452,2361655': 'RNA_b2249',\n",
       " '4327382,4328261': 'RNA_b4110',\n",
       " '4002252,4002720': 'RNA_b3820',\n",
       " '1894193,1894772': 'RNA_b1813',\n",
       " '2127684,2128902': 'RNA_b2056',\n",
       " '3658436,3661550': 'RNA_b3514',\n",
       " '4360213,4360376': 'RNA_b4654',\n",
       " '2165137,2165224': 'RNA_b4438',\n",
       " '3756039,3757884': 'RNA_b3590',\n",
       " '3310798,3311200': 'RNA_b3167',\n",
       " '3398065,3399109': 'RNA_b3251',\n",
       " '322981,323677': 'RNA_b0308',\n",
       " '4207796,4207872': 'RNA_b4008',\n",
       " '1872101,1872206': 'RNA_b1788',\n",
       " '3451529,3451949': 'RNA_b3322',\n",
       " '4374575,4374722': 'RNA_b4411',\n",
       " '3121848,3122253': 'RNA_b2977',\n",
       " '572306,572597': 'RNA_b0549',\n",
       " '1631095,1631329': 'RNA_b1544',\n",
       " '3965938,3967042': 'RNA_b3784',\n",
       " '2795232,2795532': 'RNA_b2667',\n",
       " '2153286,2156409': 'RNA_b2075',\n",
       " '2651876,2652180': 'RNA_b4440',\n",
       " '2001895,2003302': 'RNA_b1924',\n",
       " '3083941,3084073': 'RNA_b2939',\n",
       " '3199228,3199849': 'RNA_b3055',\n",
       " '1667722,1668976': 'RNA_b1596',\n",
       " '1204771,1204954': 'RNA_b1150',\n",
       " '2804031,2805096': 'RNA_b2678',\n",
       " '555254,555776': 'RNA_b0527',\n",
       " '1690913,1692287': 'RNA_b1616',\n",
       " '1039839,1041138': 'RNA_b0980',\n",
       " '4414974,4415724': 'RNA_b4190',\n",
       " '2597927,2598500': 'RNA_b2479',\n",
       " '2882574,2885241': 'RNA_b2761',\n",
       " '1863749,1864496': 'RNA_b1782',\n",
       " '2816080,2816157': 'RNA_b2692',\n",
       " '2038506,2039142': 'RNA_b1972',\n",
       " '1901918,1902770': 'RNA_b1819',\n",
       " '426510,426843': 'RNA_b0407',\n",
       " '2988575,2989065': 'RNA_b2850',\n",
       " '1625540,1626287': 'RNA_b1539',\n",
       " '208620,209580': 'RNA_b0185',\n",
       " '117108,117549': 'RNA_b0108',\n",
       " '1803188,1803296': 'RNA_b4535',\n",
       " '2385731,2386448': 'RNA_b2273',\n",
       " '4131857,4134038': 'RNA_b3942',\n",
       " '4251038,4251911': 'RNA_b4040',\n",
       " '1369932,1371225': 'RNA_b1310',\n",
       " '4022355,4022844': 'RNA_b3842',\n",
       " '147943,148795': 'RNA_b0133',\n",
       " '2109999,2111085': 'RNA_b2041',\n",
       " '1496674,1496899': 'RNA_b1426',\n",
       " '568124,569651': 'RNA_b0544',\n",
       " '4367178,4368435': 'RNA_b4141',\n",
       " '1663338,1664595': 'RNA_b1592',\n",
       " '1286466,1286551': 'RNA_b1230',\n",
       " '3711114,3711678': 'RNA_b3549',\n",
       " '4145160,4145502': 'RNA_b3953',\n",
       " '4603826,4604063': 'RNA_b4567',\n",
       " '4414463,4414793': 'RNA_b4189',\n",
       " '1771812,1772679': 'RNA_b1692',\n",
       " '4260862,4261105': 'RNA_b4050',\n",
       " '4125035,4125248': 'RNA_b3936',\n",
       " '4358418,4359957': 'RNA_b4133',\n",
       " '612037,613162': 'RNA_b0585',\n",
       " '4068537,4069779': 'RNA_b3880',\n",
       " '796835,797654': 'RNA_b0766',\n",
       " '703166,705113': 'RNA_b0679',\n",
       " '2353542,2354733': 'RNA_b2243',\n",
       " '773531,773825': 'RNA_b0735',\n",
       " '582903,583653': 'RNA_b0564',\n",
       " '362454,365529': 'RNA_b0344',\n",
       " '1455520,1456288': 'RNA_b1393',\n",
       " '2463322,2464255': 'RNA_b2347',\n",
       " '2871035,2871359': 'RNA_b2749',\n",
       " '3921766,3923656': 'RNA_b3741',\n",
       " '1099518,1100010': 'RNA_b1036',\n",
       " '1629025,1650862': 'RNA_b4600',\n",
       " '971844,972624': 'RNA_b0920',\n",
       " '1147981,1148935': 'RNA_b1091',\n",
       " '2275914,2276259': 'RNA_b2181',\n",
       " '972759,973545': 'RNA_b0921',\n",
       " '4534636,4535617': 'RNA_b4309',\n",
       " '182462,183620': 'RNA_b0162',\n",
       " '874557,875886': 'RNA_b0834',\n",
       " '2698541,2698618': 'RNA_b4608',\n",
       " '4374339,4374465': 'RNA_b4410',\n",
       " '2715512,2716550': 'RNA_b2581',\n",
       " '819106,819811': 'RNA_b0786',\n",
       " '1793580,1795968': 'RNA_b1713',\n",
       " '1643656,1643896': 'RNA_b1564',\n",
       " '3796261,3797335': 'RNA_b3623',\n",
       " '429828,430176': 'RNA_b0410',\n",
       " '809603,810758': 'RNA_b0776',\n",
       " '1221866,1222211': 'RNA_b1172',\n",
       " '1974275,1975163': 'RNA_b1890',\n",
       " '4047921,4048030': 'RNA_b3864',\n",
       " '4173966,4175151': 'RNA_b3980',\n",
       " '3239848,3241336': 'RNA_b3091',\n",
       " '1371245,1372127': 'RNA_b1311',\n",
       " '2860356,2861523': 'RNA_b2737',\n",
       " '3874162,3874975': 'RNA_b3697',\n",
       " '1321243,1322125': 'RNA_b1266',\n",
       " '2995256,2995622': 'RNA_b2861',\n",
       " '3149271,3150006': 'RNA_b3006',\n",
       " '4545764,4546295': 'RNA_b4318',\n",
       " '1712400,1713006': 'RNA_b1635',\n",
       " '4080794,4083845': 'RNA_b3894',\n",
       " '4469482,4470418': 'RNA_b4245',\n",
       " '3534833,3535310': 'RNA_b3406',\n",
       " '2242799,2244791': 'RNA_b2155',\n",
       " '2522066,2522900': 'RNA_b2407',\n",
       " '2473532,2473895': 'RNA_b2362',\n",
       " '1215970,1216219': 'RNA_b1167',\n",
       " '2532087,2533815': 'RNA_b2416',\n",
       " '3187902,3188652': 'RNA_b3047',\n",
       " '3275023,3275359': 'RNA_b3129',\n",
       " '267320,268184': 'RNA_b0253',\n",
       " '4419730,4420195': 'RNA_b4195',\n",
       " '4087877,4088948': 'RNA_b3898',\n",
       " '2517278,2518694': 'RNA_b2400',\n",
       " '3472699,3472987': 'RNA_b3343',\n",
       " '3378212,3378611': 'RNA_b3233',\n",
       " '1617143,1617578': 'RNA_b1530',\n",
       " '4137068,4137731': 'RNA_b3946',\n",
       " '4301100,4302132': 'RNA_b4082',\n",
       " '1030847,1030935': 'RNA_b0971',\n",
       " '3439730,3440120': 'RNA_b3297',\n",
       " '4390382,4390458': 'RNA_b4163',\n",
       " '1752955,1753165': 'RNA_b1675',\n",
       " '1860039,1860453': 'RNA_b1778',\n",
       " '4420208,4420859': 'RNA_b4196',\n",
       " '1944878,1945400': 'RNA_b1863',\n",
       " '2026472,2027390': 'RNA_b1958',\n",
       " '293168,294023': 'RNA_b0279',\n",
       " '235534,236002': 'RNA_b0214',\n",
       " '4515736,4516258': 'RNA_b4293',\n",
       " '2419729,2420623': 'RNA_b2304',\n",
       " '1191889,1192996': 'RNA_b1133',\n",
       " '914574,915270': 'RNA_b0875',\n",
       " '1383534,1384596': 'RNA_b1322',\n",
       " '678730,679438': 'RNA_b0648',\n",
       " '20232,20508': 'RNA_b0022',\n",
       " '3004283,3005474': 'RNA_b2870',\n",
       " '4565309,4566542': 'RNA_b4337',\n",
       " '1463188,1463254': 'RNA_b4674',\n",
       " '1803348,1804107': 'RNA_b1722',\n",
       " '1058478,1061025': 'RNA_b0997',\n",
       " '2079404,2080571': 'RNA_b2010',\n",
       " '1231722,1232253': 'RNA_b1185',\n",
       " '3878170,3879244': 'RNA_b3700',\n",
       " '4453807,4455181': 'RNA_b4233',\n",
       " '2534407,2535259': 'RNA_b2418',\n",
       " '3865750,3866083': 'RNA_b3688',\n",
       " '3336487,3337270': 'RNA_b3194',\n",
       " '3915424,3916288': 'RNA_b3733',\n",
       " '239418,240189': 'RNA_b0219',\n",
       " '4116867,4117353': 'RNA_b3929',\n",
       " '3669314,3669917': 'RNA_b3520',\n",
       " '4468549,4468936': 'RNA_b4243',\n",
       " '4001310,4002201': 'RNA_b3819',\n",
       " '2371293,2371560': 'RNA_b2259',\n",
       " '1193520,1194174': 'RNA_b1135',\n",
       " '4532813,4534054': 'RNA_b4308',\n",
       " '1443903,1444230': 'RNA_b1383',\n",
       " '3454398,3456351': 'RNA_b3325',\n",
       " '1401278,1402589': 'RNA_b1338',\n",
       " '4400060,4401320': 'RNA_b4174',\n",
       " '566064,566364': 'RNA_b0540',\n",
       " '4530072,4530333': 'RNA_b4656',\n",
       " '1399833,1401279': 'RNA_b1337',\n",
       " '2346843,2347494': 'RNA_b2237',\n",
       " '3527795,3528674': 'RNA_b3401',\n",
       " '1034992,1035580': 'RNA_b0975',\n",
       " '3201331,3202153': 'RNA_b3057',\n",
       " '4071761,4072658': 'RNA_b3883',\n",
       " '3279997,3281152': 'RNA_b3136',\n",
       " '3188653,3189718': 'RNA_b3048',\n",
       " '605173,605422': 'RNA_b0580',\n",
       " '3502956,3504042': 'RNA_b3376',\n",
       " '613379,617261': 'RNA_b0586',\n",
       " '3802203,3803139': 'RNA_b3629',\n",
       " '1427072,1430435': 'RNA_b1372',\n",
       " '3718702,3719224': 'RNA_b3557',\n",
       " '4110989,4111289': 'RNA_b3922',\n",
       " '572593,572956': 'RNA_b0550',\n",
       " '2827068,2827842': 'RNA_b2707',\n",
       " '3100154,3100874': 'RNA_b2960',\n",
       " '176609,176954': 'RNA_b0156',\n",
       " '590163,592401': 'RNA_b0569',\n",
       " '4320465,4321253': 'RNA_b4104',\n",
       " '1713971,1715246': 'RNA_b1637',\n",
       " '1096787,1096875': 'RNA_b1032',\n",
       " '1417788,1418265': 'RNA_b1356',\n",
       " '1163317,1164343': 'RNA_b1107',\n",
       " '3718470,3718655': 'RNA_b4647',\n",
       " '3128199,3129216': 'RNA_b2982',\n",
       " '336,2799': 'RNA_b0002',\n",
       " '2093148,2093886': 'RNA_b2024',\n",
       " '4276501,4277851': 'RNA_b4064',\n",
       " '1431107,1431698': 'RNA_b1374',\n",
       " '3649313,3651736': 'RNA_b3504',\n",
       " '2594926,2595640': 'RNA_b2476',\n",
       " '4457922,4458387': 'RNA_b4237',\n",
       " '493299,493629': 'RNA_b0471',\n",
       " '2167716,2169751': 'RNA_b4498',\n",
       " '4525571,4526003': 'RNA_b4302',\n",
       " '4056429,4058253': 'RNA_b3871',\n",
       " '3559519,3559846': 'RNA_b3425',\n",
       " '4577857,4577934': 'RNA_b4625',\n",
       " '12162,14079': 'RNA_b0014',\n",
       " '3538428,3540750': 'RNA_b3409',\n",
       " '4199948,4201346': 'RNA_b4003',\n",
       " '4050067,4051441': 'RNA_b3867',\n",
       " '2066975,2067881': 'RNA_b1996',\n",
       " '1920336,1920993': 'RNA_b1838',\n",
       " '72228,72927': 'RNA_b0066',\n",
       " '1382140,1383538': 'RNA_b1321',\n",
       " '1029561,1029891': 'RNA_b0969',\n",
       " '580576,580885': 'RNA_b4634',\n",
       " '367834,369499': 'RNA_b0347',\n",
       " '1978211,1979636': 'RNA_b1896',\n",
       " '1166821,1167361': 'RNA_b1110',\n",
       " '326484,327957': 'RNA_b0312',\n",
       " '4425716,4426118': 'RNA_b4205',\n",
       " '1423653,1424106': 'RNA_b1366',\n",
       " '2570178,2570472': 'RNA_b2457',\n",
       " '4291565,4292162': 'RNA_b4076',\n",
       " '2433657,2434671': 'RNA_b2319',\n",
       " '463625,464024': 'RNA_b0443',\n",
       " '1261248,1262100': 'RNA_b1208',\n",
       " '1236793,1238092': 'RNA_b1189',\n",
       " '2168259,2168559': 'RNA_b2088',\n",
       " '288524,289529': 'RNA_b0273',\n",
       " '3271594,3272929': 'RNA_b3127',\n",
       " '854046,854967': 'RNA_b0819',\n",
       " '1805423,1805714': 'RNA_b1724',\n",
       " '3772446,3773595': 'RNA_b3600',\n",
       " '4569773,4569938': 'RNA_b4341',\n",
       " '333748,334246': 'RNA_b0317',\n",
       " '4431186,4432047': 'RNA_b4211',\n",
       " '1823163,1823649': 'RNA_b1743',\n",
       " '3378764,3380132': 'RNA_b3234',\n",
       " '707556,708963': 'RNA_b0681',\n",
       " '1179701,1180490': 'RNA_b1121',\n",
       " '4069795,4070674': 'RNA_b3881',\n",
       " '1167422,1168055': 'RNA_b1111',\n",
       " '4060269,4061535': 'RNA_b3874',\n",
       " '1234931,1236464': 'RNA_b1188',\n",
       " '551813,552323': 'RNA_b0523',\n",
       " '2075963,2076131': 'RNA_b2006',\n",
       " '1975870,1976221': 'RNA_b1892',\n",
       " '4378532,4380341': 'RNA_b4154',\n",
       " '3156948,3159168': 'RNA_b4469',\n",
       " '4390914,4390968': 'RNA_b4670',\n",
       " '2074331,2074778': 'RNA_b2002',\n",
       " '1439344,1439767': 'RNA_b1379',\n",
       " '2174371,2175226': 'RNA_b2096',\n",
       " '1467381,1468533': 'RNA_b1404',\n",
       " '1402764,1403673': 'RNA_b1339',\n",
       " '2294383,2295046': 'RNA_b2200',\n",
       " '3765243,3766188': 'RNA_b3595',\n",
       " '3301469,3302477': 'RNA_b3160',\n",
       " '837412,837679': 'RNA_b0803',\n",
       " '1645643,1645874': 'RNA_b1569',\n",
       " '2653096,2654380': 'RNA_b2523',\n",
       " '2387137,2387986': 'RNA_b2275',\n",
       " '3849118,3850807': 'RNA_b3671',\n",
       " '3212988,3213495': 'RNA_b3068',\n",
       " '1816628,1817471': 'RNA_b1735',\n",
       " '4479004,4481860': 'RNA_b4258',\n",
       " '959486,960251': 'RNA_b0909',\n",
       " '1066334,1066931': 'RNA_b1004',\n",
       " '4361367,4363065': 'RNA_b4136',\n",
       " '2388069,2389527': 'RNA_b2276',\n",
       " '1952601,1955031': 'RNA_b1872',\n",
       " '2945518,2945595': 'RNA_b2815',\n",
       " '1208341,1208842': 'RNA_b1157',\n",
       " '2689178,2689362': 'RNA_b4441',\n",
       " '3291421,3293458': 'RNA_b3147',\n",
       " '2722469,2723768': 'RNA_b2587',\n",
       " '535809,536688': 'RNA_b0509',\n",
       " '4408155,4408557': 'RNA_b4181',\n",
       " '4072691,4073477': 'RNA_b3884',\n",
       " '4275949,4276089': 'RNA_b4459',\n",
       " '2538825,2539701': 'RNA_b2423',\n",
       " '585279,585324': 'RNA_b4635',\n",
       " '3667614,3669264': 'RNA_b3519',\n",
       " '4077773,4077992': 'RNA_b3890',\n",
       " '1906284,1906572': 'RNA_b1825',\n",
       " '858435,859251': 'RNA_b0822',\n",
       " '1143724,1144045': 'RNA_b1085',\n",
       " '1549361,1550015': 'RNA_b1476',\n",
       " '1009186,1011094': 'RNA_b0949',\n",
       " '670827,671409': 'RNA_b0641',\n",
       " '4605825,4606239': 'RNA_b4372',\n",
       " '3787069,3788104': 'RNA_b3615',\n",
       " '4229381,4229654': 'RNA_b4023',\n",
       " '539788,541090': 'RNA_b0513',\n",
       " '3613263,3614208': 'RNA_b3477',\n",
       " '1207739,1208342': 'RNA_b1156',\n",
       " '2569784,2570072': 'RNA_b2456',\n",
       " '4401322,4402327': 'RNA_b4175',\n",
       " '963542,965807': 'RNA_b0913',\n",
       " '3958699,3960721': 'RNA_b3778',\n",
       " '268512,269406': 'RNA_b0254',\n",
       " '1341620,1342370': 'RNA_b1284',\n",
       " '148806,149601': 'RNA_b0134',\n",
       " ...}"
      ]
     },
     "execution_count": 13,
     "metadata": {},
     "output_type": "execute_result"
    }
   ],
   "source": [
    "build_reactions_from_genbank(me, join(ecoli_files_dir, \"NC_000913.2.gb\"))"
   ]
  },
  {
   "cell_type": "markdown",
   "metadata": {},
   "source": [
    "Add a dummy protein in as well"
   ]
  },
  {
   "cell_type": "code",
   "execution_count": 14,
   "metadata": {
    "collapsed": false
   },
   "outputs": [],
   "source": [
    "dna_sequence = \"ATG\" + \"TTT\" * 5 + \"TAT\"*5+ \"ACG\"*5 + \"GAT\" *5 + \"AGT\"*5 + \"TAA\"\n",
    "add_transcription_reaction(me, \"dummy\", {\"dummy\"}, dna_sequence)\n",
    "me.add_metabolites(TranslatedGene(\"protein_\" + \"dummy\"))\n",
    "translation = TranslationReaction(\"translation_\" + \"dummy\")\n",
    "me.add_reaction(translation)\n",
    "translation.translation_data = TranslationData(\"dummy\", me, \"RNA_dummy\", \"protein_dummy\")\n",
    "translation.translation_data.compute_sequence_from_DNA(dna_sequence)\n",
    "translation.update()\n",
    "\n",
    "complex_data = ComplexData(\"CPLX_dummy\", me)\n",
    "complex_data.stoichiometry = {}\n",
    "complex_data.stoichiometry[\"protein_\" + \"dummy\"] = 1\n",
    "complex_data.create_complex_formation()"
   ]
  },
  {
   "cell_type": "markdown",
   "metadata": {},
   "source": [
    "## Associate the tRNA synthetases"
   ]
  },
  {
   "cell_type": "markdown",
   "metadata": {},
   "source": [
    "The tRNA charging reactions were automatically added when loading the genome from the genbank file. However, the charging reactions still need to be made aware of the tRNA synthetases which are responsible."
   ]
  },
  {
   "cell_type": "code",
   "execution_count": 15,
   "metadata": {
    "collapsed": true
   },
   "outputs": [],
   "source": [
    "with open(join(ecoli_files_dir, \"amino_acid_tRNA_synthetase.json\"), \"rb\") as infile:\n",
    "    aa_synthetase_dict = json.load(infile)\n",
    "for data in me.tRNA_data:\n",
    "    data.synthetase = str(aa_synthetase_dict[data.amino_acid])"
   ]
  },
  {
   "cell_type": "code",
   "execution_count": 16,
   "metadata": {
    "collapsed": false
   },
   "outputs": [
    {
     "data": {
      "text/plain": [
       "'Tyr_RS_dim'"
      ]
     },
     "execution_count": 16,
     "metadata": {},
     "output_type": "execute_result"
    }
   ],
   "source": [
    "me.tRNA_data.tRNA_b1230.synthetase"
   ]
  },
  {
   "cell_type": "markdown",
   "metadata": {},
   "source": [
    "### Add in complex Formation with modifications"
   ]
  },
  {
   "cell_type": "code",
   "execution_count": 17,
   "metadata": {
    "collapsed": false
   },
   "outputs": [],
   "source": [
    "# ME_complex_dict is a dict of {'complex_id': ['bnum(count)']}\n",
    "ME_complex_dict = get_complex_to_bnum_dict()\n",
    "# some entries in the file need to be renamed\n",
    "renames = {\"MnmE_\": \"b3706\", \"MnmG_\": \"b3741\", \"YheM_\": \"b3344\", \"YheL_\": \"b3343\", \"YheN_\": \"b3345\"}\n",
    "rna_components = {\"b3123\"}  # component id should have RNA_ instead of protein_\n",
    "\n",
    "for cplx, value in ME_complex_dict.iteritems():\n",
    "    complex_data = ComplexData(cplx, me)\n",
    "    for gene in value:\n",
    "        stoichiometry = gene[6]\n",
    "        bnum = gene[0:5]\n",
    "        comp_id = \"RNA_\" + bnum if bnum in rna_components \\\n",
    "            else \"protein_\" + renames.get(bnum, bnum)\n",
    "        try:\n",
    "            complex_data.stoichiometry[comp_id] = float(stoichiometry)\n",
    "        except:\n",
    "            complex_data.stoichiometry[comp_id] = float(1)"
   ]
  },
  {
   "cell_type": "code",
   "execution_count": 18,
   "metadata": {
    "collapsed": false
   },
   "outputs": [
    {
     "name": "stdout",
     "output_type": "stream",
     "text": [
      "TODO: hRNAP_mod_1:generic_divalent_mod_2:generic_divalent\n",
      "TODO: GltX_mono_mod_generic_divalent_mod_1:generic_divalent\n"
     ]
    }
   ],
   "source": [
    "# {modified_complex_id: ['unmodified_complex_id', {component_id: stoic}]\n",
    "modification_dict = get_protein_modification_dict(generic=True)\n",
    "for mod_cplx_id, mod_complex_info in iteritems(modification_dict):\n",
    "    unmod_cplx_id, mods = mod_complex_info\n",
    "    unmod_cplx = me.complex_data.get_by_id(unmod_cplx_id)\n",
    "    cplx = ComplexData(mod_cplx_id, me)\n",
    "    cplx.stoichiometry = unmod_cplx.stoichiometry\n",
    "    cplx.translocation = unmod_cplx.translocation\n",
    "    cplx.chaperones = unmod_cplx.chaperones\n",
    "    if len(set(mod_cplx_id.split(\"_mod_\")[1:])) == len(mods):\n",
    "        for mod_comp, mod_count in iteritems(mods):\n",
    "            mod_id = \"mod_\" + mod_comp\n",
    "            try:\n",
    "                mod = me.modification_data.get_by_id(mod_id)\n",
    "            except:\n",
    "                mod = ModificationData(mod_id, me)\n",
    "                mod.stoichiometry = {mod_comp: -1}\n",
    "            cplx.modifications[mod_id] = -mod_count\n",
    "    else:\n",
    "        print \"TODO:\", mod_cplx_id"
   ]
  },
  {
   "cell_type": "markdown",
   "metadata": {},
   "source": [
    "Some modifications are enzyme-catalyzed\n",
    "\n",
    "TODO: Fe-S enzyme-catalyzed modifications"
   ]
  },
  {
   "cell_type": "code",
   "execution_count": 19,
   "metadata": {
    "collapsed": false
   },
   "outputs": [],
   "source": [
    "# two different reactiond can add a lipoate modification.\n",
    "# We create a separate ModificationData for each one\n",
    "lipo = me.modification_data.get_by_id(\"mod_lipo_c\")\n",
    "alt_lipo = ModificationData(\"mod_lipo_c_alt\", me)\n",
    "alt_lipo.stoichiometry = lipo.stoichiometry\n",
    "\n",
    "lipo.stoichiometry = {\"lipoamp_c\": -1, \"amp_c\": 1}\n",
    "lipo.enzyme = 'EG11796-MONOMER'\n",
    "lipo.keff = 65.\n",
    "\n",
    "alt_lipo.stoichiometry = {'EG50003-MONOMER_mod_pan4p_mod_lipo':-1,\n",
    "                          'EG50003-MONOMER_mod_pan4p':1,\n",
    "                          'h_c':-1,}\n",
    "\n",
    "alt_lipo.enzyme = 'EG11591-MONOMER'\n",
    "alt_lipo.keff = 65.\n",
    "\n",
    "for cplx_data in lipo.get_complex_data():\n",
    "    alt_cplx_data = ComplexData(cplx_data.id + \"alt\", me)\n",
    "    alt_cplx_data.complex_id = cplx_data.complex_id\n",
    "    alt_cplx_data.translocation = cplx_data.translocation\n",
    "    alt_cplx_data.chaperones = cplx_data.chaperones\n",
    "    alt_cplx_data.modifications = cplx_data.modifications\n",
    "    alt_cplx_data.modifications[alt_lipo.id] = \\\n",
    "        alt_cplx_data.modifications.pop(lipo.id)"
   ]
  },
  {
   "cell_type": "code",
   "execution_count": 20,
   "metadata": {
    "collapsed": true
   },
   "outputs": [],
   "source": [
    "# todo bmocogdp_c mods\n",
    "mod_catalysts = {'CPLX0-1762':'G6712-MONOMER', # FE-S modification\n",
    "                 'TMAOREDUCTI-CPLX':'EG12195-MONOMER',\n",
    "                 'DIMESULFREDUCT-CPLX':'G6849-MONOMER',\n",
    "                 'NITRATREDUCTA-CPLX':'NARJ-MONOMER', \n",
    "                 'NITRATREDUCTZ-CPLX':'NARW-MONOMER',\n",
    "                 'NAP-CPLX':'NAPD-MONOMER',\n",
    "                 'NAPAB-CPLX_NAPC-MONOMER':'NAPD-MONOMER'}"
   ]
  },
  {
   "cell_type": "code",
   "execution_count": 21,
   "metadata": {
    "collapsed": false
   },
   "outputs": [
    {
     "name": "stdout",
     "output_type": "stream",
     "text": [
      "unknown metabolite '4fe4s_c' created\n",
      "unknown metabolite 'LI_c' created\n",
      "unknown metabolite '2fe2s_c' created\n",
      "unknown metabolite '3fe4s_c' created\n",
      "unknown metabolite 'NiFeCoCN2_c' created\n"
     ]
    }
   ],
   "source": [
    "target_list = ['4fe4s_c', 'LI_c', '2fe2s_c', '3fe4s_c',\n",
    "               'NiFeCoCN2_c']#, 'sheme_c']\n",
    "              #'tl_c', '23bpg_c', 'acetyl_c', 'dpm_c', 'hemed_c\n",
    "\n",
    "#target_list.extend(\n",
    "#    ['EG50003-MONOMER_mod_pan4p', 'CPLX0-782_mod_2:4fe4s',\n",
    "#     'EG50003-MONOMER_mod_pan4p_mod_oc', 'CPLX0-782_mod_1:2fe2s_mod_1:4fe4s'])\n",
    "\n",
    "for met_id in target_list:\n",
    "    r = cobra.Reaction(\"EX_\" + met_id)\n",
    "    me.add_reaction(r)\n",
    "    r.reaction = met_id + \" <=> \""
   ]
  },
  {
   "cell_type": "markdown",
   "metadata": {},
   "source": [
    "Build all complex formation reactions\n",
    "\n",
    "TODO: This shouldn't be prining out stuff. Fix them."
   ]
  },
  {
   "cell_type": "code",
   "execution_count": 22,
   "metadata": {
    "collapsed": false
   },
   "outputs": [
    {
     "data": {
      "text/plain": [
       "[<ComplexData CPLX0-250_FORMATEDEHYDROGH-MONOMER_mod_8:4fe4s_mod_2:2fe2s_mod_bmocogdp_mod_NiFeCoCN2 at 0x7f6bbfdb5e50>]"
      ]
     },
     "execution_count": 22,
     "metadata": {},
     "output_type": "execute_result"
    }
   ],
   "source": [
    "list(me.modification_data.mod_NiFeCoCN2_c.get_complex_data())"
   ]
  },
  {
   "cell_type": "code",
   "execution_count": 23,
   "metadata": {
    "collapsed": false
   },
   "outputs": [
    {
     "name": "stdout",
     "output_type": "stream",
     "text": [
      "<ComplexData rpL7/12_mod_1:acetyl at 0x7f6bbfb44f90>\n"
     ]
    }
   ],
   "source": [
    "for c in me.complex_data:\n",
    "    if \"mod_acetyl_c\" in c.modifications:\n",
    "        print c"
   ]
  },
  {
   "cell_type": "code",
   "execution_count": 24,
   "metadata": {
    "collapsed": false,
    "scrolled": true
   },
   "outputs": [
    {
     "name": "stdout",
     "output_type": "stream",
     "text": [
      "Created <Metabolite pqq_c at 0x7f6bbf784910> in <ComplexFormation formation_GLUCDEHYDROG-MONOMER_mod_pqq at 0x7f6bbf7848d0>\n",
      "Created <Metabolite hemed_c at 0x7f6bbf0f2910> in <ComplexFormation formation_CYT-D-UBIOX-CPLX_mod_pheme_mod_hemed at 0x7f6bbf0f2890>\n",
      "Created <Metabolite acetyl_c at 0x7f6bbf0f2cd0> in <ComplexFormation formation_rpL7/12_mod_1:acetyl at 0x7f6bbf0f2c50>\n",
      "Created <Metabolite EG50003-MONOMER_mod_pan4p at 0x7f6bc127d350> in <ComplexFormation formation_GCVMULTI-CPLX_mod_lipo at 0x7f6bbf117790>\n",
      "Created <Metabolite EG50003-MONOMER_mod_pan4p_mod_lipo at 0x7f6bbf117810> in <ComplexFormation formation_GCVMULTI-CPLX_mod_lipo at 0x7f6bbf117790>\n",
      "Created <Metabolite 23bpg_c at 0x7f6bbe5f96d0> in <ComplexFormation formation_PHOSGLYCMUTASE_mod_23bpg at 0x7f6bbe5f9650>\n",
      "Created <Metabolite dpm_c at 0x7f6bbf96ced0> in <ComplexFormation formation_OHMETHYLBILANESYN-MONOMER_mod_dpm at 0x7f6bbf96ce50>\n",
      "Created <Metabolite tl_c at 0x7f6bbf93dcd0> in <ComplexFormation formation_S-ADENMETSYN-CPLX_mod_4:tl_mod_1:generic_divalent at 0x7f6bbf93dc50>\n"
     ]
    }
   ],
   "source": [
    "for cplx_data in me.complex_data:\n",
    "    formation = cplx_data.formation\n",
    "    if formation:\n",
    "        formation.update()\n",
    "    else:\n",
    "        cplx_data.create_complex_formation()"
   ]
  },
  {
   "cell_type": "markdown",
   "metadata": {},
   "source": [
    "Crutch reactions for mets that are blocked. TODO remove"
   ]
  },
  {
   "cell_type": "markdown",
   "metadata": {},
   "source": [
    "## Associate Complexes with Reactions"
   ]
  },
  {
   "cell_type": "code",
   "execution_count": 25,
   "metadata": {
    "collapsed": false
   },
   "outputs": [
    {
     "name": "stdout",
     "output_type": "stream",
     "text": [
      "Fixed _DASH:  D__LACtex\n",
      "Fixed _DASH:  L__LACD2\n",
      "Fixed _DASH:  L__LACD3\n",
      "Fixed _DASH:  D__LACt2pp\n",
      "Fixed _DASH:  L__LACtex\n",
      "Fixed _DASH:  L__LACt2rpp\n"
     ]
    }
   ],
   "source": [
    "# associate reaction id with the old ME complex id (including modifications)\n",
    "rxnToModCplxDict = get_reaction_to_modified_complex(generic=True)"
   ]
  },
  {
   "cell_type": "code",
   "execution_count": 26,
   "metadata": {
    "collapsed": false
   },
   "outputs": [
    {
     "name": "stdout",
     "output_type": "stream",
     "text": [
      "Created <Metabolite CPLX0-7817_mod_Oxidized at 0x7f6bbf588690> in <MetabolicReaction RNDR1b3_FWD_RIBONUCLEOSIDE-DIP-REDUCTII-CPLX at 0x7f6bbf588650>\n",
      "Created <Metabolite GLUTAREDOXIN-MONOMER_mod_Oxidized at 0x7f6bbf588710> in <MetabolicReaction RNDR1b1_FWD_RIBONUCLEOSIDE-DIP-REDUCTII-CPLX at 0x7f6bbf5886d0>\n",
      "Created <Metabolite GRXC-MONOMER_mod_Oxidized at 0x7f6bbf588790> in <MetabolicReaction RNDR1b4_FWD_RIBONUCLEOSIDE-DIP-REDUCTII-CPLX at 0x7f6bbf588750>\n",
      "Created <Metabolite GRXB-MONOMER_mod_Oxidized at 0x7f6bbf588910> in <MetabolicReaction RNDR1b2_FWD_RIBONUCLEOSIDE-DIP-REDUCTII-CPLX at 0x7f6bbf5888d0>\n",
      "Created <Metabolite EG50003-MONOMER_mod_pan4p_mod_3ha at 0x7f6bbf588f10> in <MetabolicReaction 3OAR401_REV_3-OXOACYL-ACP-REDUCT-MONOMER at 0x7f6bbf588ed0>\n",
      "Created <Metabolite EG50003-MONOMER_mod_pan4p_mod_act at 0x7f6bbf588f50> in <MetabolicReaction 3OAR401_REV_3-OXOACYL-ACP-REDUCT-MONOMER at 0x7f6bbf588ed0>\n",
      "Created <Metabolite EG50003-MONOMER_mod_pan4p_mod_ddca at 0x7f6bbf528110> in <MetabolicReaction ACPPAT1201_FWD_EG11437-MONOMER at 0x7f6bbf5280d0>\n",
      "Created <Metabolite EG50003-MONOMER_mod_pan4p_mod_mal at 0x7f6bbf5281d0> in <MetabolicReaction 3OAS1401_FWD_FABB-CPLX at 0x7f6bbf528190>\n",
      "Created <Metabolite EG50003-MONOMER_mod_pan4p_mod_3omrs at 0x7f6bbf528210> in <MetabolicReaction 3OAS1401_FWD_FABB-CPLX at 0x7f6bbf528190>\n",
      "Created <Metabolite EG50003-MONOMER_mod_pan4p_mod_pim at 0x7f6bbf5285d0> in <MetabolicReaction AOXSr21_FWD_7KAPSYN-CPLX at 0x7f6bbf528590>\n",
      "Created <Metabolite CPLX0-1341_mod_1:2fe2s_mod_1:fe2 at 0x7f6bbf55e1d0> in <MetabolicReaction SufBCD_mod_1:2Fe2S_mod_1:fe2atp_mediated_FE_loading_FWD_CPLX_dummy at 0x7f6bbf55e110>\n",
      "Created <Metabolite CPLX0-1341_mod_1:2fe2s_mod_2:fe2 at 0x7f6bbf55e190> in <MetabolicReaction SufBCD_mod_1:2Fe2S_mod_1:fe2atp_mediated_FE_loading_FWD_CPLX_dummy at 0x7f6bbf55e110>\n",
      "Created <Metabolite EG50003-MONOMER_mod_pan4p_mod_opme at 0x7f6bbf440310> in <MetabolicReaction OPMEACPS1_FWD_FABB-CPLX at 0x7f6bbf440250>\n",
      "Created <Metabolite EG50003-MONOMER_mod_pan4p_mod_gme at 0x7f6bbf440350> in <MetabolicReaction OPMEACPS1_FWD_FABB-CPLX at 0x7f6bbf440250>\n",
      "Created <Metabolite EG50003-MONOMER_mod_pan4p_mod_t3c5ddece at 0x7f6bbf45b950> in <MetabolicReaction 3HAD1211_FWD_FABZ-CPLX at 0x7f6bbf45b910>\n",
      "Created <Metabolite EG50003-MONOMER_mod_pan4p_mod_3hcddec5e at 0x7f6bbf45b990> in <MetabolicReaction 3HAD1211_FWD_FABZ-CPLX at 0x7f6bbf45b910>\n",
      "Created <Metabolite EG50003-MONOMER_mod_pan4p_mod_3hcpalm9e at 0x7f6bbf232690> in <MetabolicReaction 3OAR1611_FWD_3-OXOACYL-ACP-REDUCT-MONOMER at 0x7f6bbf232650>\n",
      "Created <Metabolite EG50003-MONOMER_mod_pan4p_mod_3ocpalm9e at 0x7f6bbf2326d0> in <MetabolicReaction 3OAR1611_FWD_3-OXOACYL-ACP-REDUCT-MONOMER at 0x7f6bbf232650>\n",
      "Created <Metabolite EG11653-MONOMER_mod_1:fe2 at 0x7f6bbf232c50> in <MetabolicReaction Fe_transfer_CyaY_mod_1:fe2_to_IscU_mod_1:fe2_FWD_CPLX_dummy at 0x7f6bbf232c10>\n",
      "Created <Metabolite IscU_mod_1:fe2 at 0x7f6bbf232c90> in <MetabolicReaction Fe_transfer_CyaY_mod_1:fe2_to_IscU_mod_1:fe2_FWD_CPLX_dummy at 0x7f6bbf232c10>\n",
      "Created <Metabolite IscU_mod_2:fe2 at 0x7f6bbf232cd0> in <MetabolicReaction Fe_transfer_CyaY_mod_1:fe2_to_IscU_mod_1:fe2_FWD_CPLX_dummy at 0x7f6bbf232c10>\n",
      "Created <Metabolite EG50003-MONOMER_mod_pan4p_mod_3ooct at 0x7f6bbf251b90> in <MetabolicReaction 3OAS801_FWD_FABB-CPLX at 0x7f6bbf251b50>\n",
      "Created <Metabolite EG50003-MONOMER_mod_pan4p_mod_hex at 0x7f6bbf251bd0> in <MetabolicReaction 3OAS801_FWD_FABB-CPLX at 0x7f6bbf251b50>\n",
      "Created <Metabolite EG50003-MONOMER_mod_pan4p_mod_tddec2e at 0x7f6bbf251c90> in <MetabolicReaction EAR120y1_FWD_ENOYL-ACP-REDUCT-NADH-MONOMER at 0x7f6bbf251c50>\n",
      "Created <Metabolite EG50003-MONOMER_mod_pan4p_mod_3hmrs at 0x7f6bbf170090> in <MetabolicReaction U23GAAT1_FWD_UDPHYDROXYMYRGLUCOSAMNACETYLTRANS-MONO at 0x7f6bbf251fd0>\n",
      "Created <Metabolite EG50003-MONOMER_mod_pan4p_mod_3hhex at 0x7f6bbf188ed0> in <MetabolicReaction 3HAD601_FWD_FABZ-CPLX at 0x7f6bbf188f10>\n",
      "Created <Metabolite EG50003-MONOMER_mod_pan4p_mod_thex2e at 0x7f6bbf188e90> in <MetabolicReaction 3HAD601_FWD_FABZ-CPLX at 0x7f6bbf188f10>\n",
      "Created <Metabolite EG50003-MONOMER_mod_pan4p_mod_t3c9palme at 0x7f6bbefa6690> in <MetabolicReaction 3HAD1611_FWD_FABZ-CPLX at 0x7f6bbefa6650>\n",
      "Created <Metabolite EG50003-MONOMER_mod_pan4p_mod_tde at 0x7f6bbefd7b50> in <MetabolicReaction FA141ACPHi1_FWD_EG11095-MONOMER_mod_generic_divalent_mod_fe2_mod_generic_divalent_mod_generic_divalent_mod_generic_divalent at 0x7f6bbefd7b10>\n",
      "Created <Metabolite IscU_mod_1:2fe2s_mod_2:fe2 at 0x7f6bbef6f5d0> in <MetabolicReaction Fe_transfer_CyaY_mod_1:fe2_to_IscU_mod_1:2Fe2S_mod_1:fe2_FWD_CPLX_dummy at 0x7f6bbef6f590>\n",
      "Created <Metabolite IscU_mod_1:2fe2s_mod_1:fe2 at 0x7f6bbef6f610> in <MetabolicReaction Fe_transfer_CyaY_mod_1:fe2_to_IscU_mod_1:2Fe2S_mod_1:fe2_FWD_CPLX_dummy at 0x7f6bbef6f590>\n",
      "Created <Metabolite RED-THIOREDOXIN-MONOMER_mod_Oxidized at 0x7f6bbef6f9d0> in <MetabolicReaction DSBDR1_FWD_CPLX_dummy at 0x7f6bbef6f990>\n",
      "Created <Metabolite DSBD-MONOMER_mod_Oxidized at 0x7f6bbef6fa10> in <MetabolicReaction DSBDR1_FWD_CPLX_dummy at 0x7f6bbef6f990>\n",
      "Created <Metabolite RED-THIOREDOXIN2-MONOMER_mod_Oxidized at 0x7f6bbef6fad0> in <MetabolicReaction DSBDR2_FWD_CPLX_dummy at 0x7f6bbef6fa90>\n",
      "Created <Metabolite EG50003-MONOMER_mod_pan4p_mod_hpme at 0x7f6bbef8e490> in <MetabolicReaction OPMEACPR1_FWD_3-OXOACYL-ACP-REDUCT-MONOMER at 0x7f6bbef8e350>\n",
      "Created <Metabolite EG50003-MONOMER_mod_pan4p_mod_epme at 0x7f6bbef42f50> in <MetabolicReaction EPMEACPR1_FWD_ENOYL-ACP-REDUCT-NADH-MONOMER at 0x7f6bbef42f10>\n",
      "Created <Metabolite EG50003-MONOMER_mod_pan4p_mod_pme at 0x7f6bbef42f90> in <MetabolicReaction EPMEACPR1_FWD_ENOYL-ACP-REDUCT-NADH-MONOMER at 0x7f6bbef42f10>\n",
      "Created <Metabolite CPLX0-246_CPLX0-1342_mod_pydx5p_mod_1:SH at 0x7f6bbeeb7310> in <MetabolicReaction SCYSDS1_FWD_CPLX_dummy at 0x7f6bbeeb72d0>\n",
      "Created <Metabolite EG50003-MONOMER_mod_pan4p_mod_oc at 0x7f6bbeeb7350> in <MetabolicReaction AACPS91_FWD_AAS-MONOMER_mod_generic_divalent at 0x7f6bbeeb7250>\n",
      "Created <Metabolite CPLX0-1341_mod_1:2fe2s at 0x7f6bbeeb7590> in <MetabolicReaction S_transfer_to_SufBCD_mod_1:2Fe1S_FWD_CPLX_dummy at 0x7f6bbeeb7550>\n",
      "Created <Metabolite CPLX0-1341_mod_1:2fe1s at 0x7f6bbeeb75d0> in <MetabolicReaction S_transfer_to_SufBCD_mod_1:2Fe1S_FWD_CPLX_dummy at 0x7f6bbeeb7550>\n",
      "Created <Metabolite EG50003-MONOMER_mod_pan4p_mod_palm at 0x7f6bbeeb7e50> in <MetabolicReaction AGPAT1601_FWD_1-ACYLGLYCEROL-3-P-ACYLTRANSFER-MONOMER at 0x7f6bbeeb7e10>\n",
      "Created <Metabolite EG50003-MONOMER_mod_pan4p_mod_3hpalm at 0x7f6bbec6fbd0> in <MetabolicReaction 3HAD1601_FWD_FABZ-CPLX at 0x7f6bbec6fb90>\n",
      "Created <Metabolite EG50003-MONOMER_mod_pan4p_mod_tpalm2e at 0x7f6bbff44f90> in <MetabolicReaction 3HAD1601_FWD_FABZ-CPLX at 0x7f6bbec6fb90>\n",
      "Created <Metabolite EG50003-MONOMER_mod_pan4p_mod_ocdca at 0x7f6bbec6fd10> in <MetabolicReaction G3PAT1801_FWD_GLYCEROL-3-P-ACYLTRANSFER-MONOMER at 0x7f6bbec6fcd0>\n",
      "Created <Metabolite CPLX0-1341_mod_2:2fe2s at 0x7f6bbead9310> in <MetabolicReaction SufBCD_2:2fe2s_to_SufBCD_1:4fe4s_FWD_CPLX_dummy at 0x7f6bbead92d0>\n",
      "Created <Metabolite CPLX0-1341_mod_1:4fe4s at 0x7f6bbead9350> in <MetabolicReaction SufBCD_2:2fe2s_to_SufBCD_1:4fe4s_FWD_CPLX_dummy at 0x7f6bbead92d0>\n",
      "Created <Metabolite DISULFOXRED-MONOMER at 0x7f6bbe9c1050> in <MetabolicReaction DSBAO11_FWD_DSBBPROT-MONOMER at 0x7f6bbe9a6fd0>\n",
      "Created <Metabolite DISULFOXRED-MONOMER_mod_Oxidized at 0x7f6bbe9c1090> in <MetabolicReaction DSBAO11_FWD_DSBBPROT-MONOMER at 0x7f6bbe9a6fd0>\n",
      "Created <Metabolite CPLX-7524_mod_mn2 at 0x7f6bbe9c16d0> in <MetabolicReaction 4Fe4S_to_ErpA_by_IscU_FWD_EG12130-MONOMER_EG12131-MONOMER at 0x7f6bbe9c1690>\n",
      "Created <Metabolite IscU_mod_1:4fe4s at 0x7f6bbe9c1710> in <MetabolicReaction 4Fe4S_to_ErpA_by_IscU_FWD_EG12130-MONOMER_EG12131-MONOMER at 0x7f6bbe9c1690>\n",
      "Created <Metabolite CPLX-7524_mod_mn2_mod_1:4fe4s at 0x7f6bbe9c1750> in <MetabolicReaction 4Fe4S_to_ErpA_by_IscU_FWD_EG12130-MONOMER_EG12131-MONOMER at 0x7f6bbe9c1690>\n",
      "Created <Metabolite EG50003-MONOMER_mod_pan4p_mod_hde at 0x7f6bbe9c1d90> in <MetabolicReaction AGPAT1611_FWD_1-ACYLGLYCEROL-3-P-ACYLTRANSFER-MONOMER at 0x7f6bbe9c1d50>\n",
      "Created <Metabolite EG50003-MONOMER_mod_pan4p_mod_3ocddec5e at 0x7f6bbe7b5790> in <MetabolicReaction 3OAS1211_FWD_FABB-CPLX at 0x7f6bbe7b5750>\n",
      "Created <Metabolite EG50003-MONOMER_mod_pan4p_mod_cdec3e at 0x7f6bbe7b57d0> in <MetabolicReaction 3OAS1211_FWD_FABB-CPLX at 0x7f6bbe7b5750>\n",
      "Created <Metabolite IscS_mod_2:pydx5p at 0x7f6bbe7cd510> in <MetabolicReaction S_transfer_to_IscU_mod_1:2Fe2S_mod_2:fe2_FWD_CPLX_dummy at 0x7f6bbe7cd4d0>\n",
      "Created <Metabolite IscU_mod_1:2fe2s_mod_1:2fe1s at 0x7f6bbe7cd550> in <MetabolicReaction S_transfer_to_IscU_mod_1:2Fe2S_mod_2:fe2_FWD_CPLX_dummy at 0x7f6bbe7cd4d0>\n",
      "Created <Metabolite IscS_mod_2:pydx5p_mod_1:SH at 0x7f6bbe7cd5d0> in <MetabolicReaction S_transfer_to_IscU_mod_1:2Fe2S_mod_2:fe2_FWD_CPLX_dummy at 0x7f6bbe7cd4d0>\n",
      "Created <Metabolite EG50003-MONOMER_mod_pan4p_mod_octe at 0x7f6bbe7cd910> in <MetabolicReaction G3PAT1811_FWD_GLYCEROL-3-P-ACYLTRANSFER-MONOMER at 0x7f6bbe7cd8d0>\n",
      "Created <Metabolite EG50003-MONOMER_mod_pan4p_mod_3hcmrs7e at 0x7f6bbe7cded0> in <MetabolicReaction 3HAD1411_FWD_FABZ-CPLX at 0x7f6bbe7cde90>\n",
      "Created <Metabolite EG50003-MONOMER_mod_pan4p_mod_t3c7mrse at 0x7f6bbe7cdf10> in <MetabolicReaction 3HAD1411_FWD_FABZ-CPLX at 0x7f6bbe7cde90>\n",
      "Created <Metabolite FLAVODOXIN1-MONOMER_mod_Oxidized at 0x7f6bbe6e9590> in <MetabolicReaction RNTR1c21_FWD_RIBONUCLEOSIDE-TRIP-REDUCT-CPLX at 0x7f6bbe6e94d0>\n",
      "Created <Metabolite FLAVODOXIN2-MONOMER_mod_Oxidized at 0x7f6bbe6e9650> in <MetabolicReaction RNTR1c22_FWD_RIBONUCLEOSIDE-TRIP-REDUCT-CPLX at 0x7f6bbe6e9610>\n",
      "Created <Metabolite EG50003-MONOMER_mod_pan4p_mod_dca at 0x7f6bbe6e9950> in <MetabolicReaction EAR100x1_FWD_ENOYL-ACP-REDUCT-NADH-MONOMER at 0x7f6bbe6e9910>\n",
      "Created <Metabolite EG50003-MONOMER_mod_pan4p_mod_tdec2e at 0x7f6bbe6e9990> in <MetabolicReaction EAR100x1_FWD_ENOYL-ACP-REDUCT-NADH-MONOMER at 0x7f6bbe6e9910>\n",
      "Created <Metabolite CPLX0-7824_mod_1:4fe4s at 0x7f6bbe463e50> in <MetabolicReaction 4Fe4S_to_ErpA_by_SufA_FWD_CPLX_dummy at 0x7f6bbe463e10>\n",
      "Created <Metabolite EG50003-MONOMER_mod_pan4p_mod_egme at 0x7f6bbe3d8090> in <MetabolicReaction OGMEACPD1_FWD_FABZ-CPLX at 0x7f6bbe3d8050>\n",
      "Created <Metabolite EG50003-MONOMER_mod_pan4p_mod_hgme at 0x7f6bbe3d80d0> in <MetabolicReaction OGMEACPD1_FWD_FABZ-CPLX at 0x7f6bbe3d8050>\n",
      "Created <Metabolite EG50003-MONOMER_mod_pan4p_mod_ogme at 0x7f6bbe3d8150> in <MetabolicReaction OGMEACPR1_FWD_3-OXOACYL-ACP-REDUCT-MONOMER at 0x7f6bbe3d8110>\n",
      "Created <Metabolite IscU_mod_1:2fe1s at 0x7f6bbf8758d0> in <MetabolicReaction S_transfer_to_IscU_mod_2:fe2_FWD_CPLX_dummy at 0x7f6bbf875890>\n",
      "Created <Metabolite EG50003-MONOMER_mod_pan4p_mod_3oddec at 0x7f6bbf88d290> in <MetabolicReaction 3OAS1201_FWD_FABB-CPLX at 0x7f6bbf88d250>\n",
      "Created <Metabolite EG50003-MONOMER_mod_pan4p_mod_tmrs2e at 0x7f6bbf4e8050> in <MetabolicReaction 3HAD1401_FWD_FABZ-CPLX at 0x7f6bbf88dfd0>\n",
      "Created <Metabolite IscU_mod_2:2fe2s at 0x7f6bbf4e8510> in <MetabolicReaction I4FE4SR1_FWD_CPLX_dummy at 0x7f6bbf4e84d0>\n",
      "Created <Metabolite IscU_mod_1:2fe2s at 0x7f6bbf502690> in <MetabolicReaction Fe_transfer_CyaY_mod_1:fe2_to_IscU_mod_1:2Fe2S_FWD_CPLX_dummy at 0x7f6bbf502650>\n",
      "Created <Metabolite EG11597-MONOMER_mod_cosh at 0x7f6bbf4a3050> in <MetabolicReaction MPTS1_FWD_EG11598-MONOMER at 0x7f6bbf502fd0>\n",
      "Created <Metabolite EG11597-MONOMER_mod_coo at 0x7f6bbf4a3090> in <MetabolicReaction MPTS1_FWD_EG11598-MONOMER at 0x7f6bbf502fd0>\n",
      "Created <Metabolite DSBG-CPLX_mod_Oxidized at 0x7f6bbf4bf110> in <MetabolicReaction DSBGGT1_FWD_CPLX_dummy at 0x7f6bbf4bf0d0>\n",
      "Created <Metabolite EG50003-MONOMER_mod_pan4p_mod_toct2e at 0x7f6bbf4d4c10> in <MetabolicReaction EAR80x1_FWD_ENOYL-ACP-REDUCT-NADH-MONOMER at 0x7f6bbf4d4bd0>\n",
      "Created <Metabolite IscA_tetra_mod_1:4fe4s at 0x7f6bbf4d4e10> in <MetabolicReaction 4Fe4S_to_IscA_by_IscU_FWD_EG12130-MONOMER_EG12131-MONOMER at 0x7f6bbf4d4dd0>\n",
      "Created <Metabolite IscA_tetra_mod_1:2fe2s at 0x7f6bbf3c8310> in <MetabolicReaction 2Fe2S_to_IscA_by_IscU_FWD_EG12130-MONOMER_EG12131-MONOMER at 0x7f6bbf3c8290>\n",
      "Created <Metabolite DSBC-CPLX_mod_Oxidized at 0x7f6bbf1da310> in <MetabolicReaction DSBCGT1_FWD_CPLX_dummy at 0x7f6bbf1da2d0>\n",
      "Created <Metabolite EG50003-MONOMER_mod_pan4p_mod_ac at 0x7f6bbf1da950> in <MetabolicReaction KAS141_FWD_FABB-CPLX at 0x7f6bbf1da910>\n",
      "Created <Metabolite EG11597-MONOMER_mod_amp at 0x7f6bbf1dae50> in <MetabolicReaction MPTSS1_FWD_EG10154-MONOMER at 0x7f6bbf1dae10>\n",
      "Created <Metabolite EG50003-MONOMER_mod_pan4p_mod_cddec5e at 0x7f6bbf150990> in <MetabolicReaction EAR121x1_FWD_ENOYL-ACP-REDUCT-NADH-MONOMER at 0x7f6bbf150950>\n",
      "Created <Metabolite CPLX0-1341_mod_1:2fe2s_mod_1:2fe1s at 0x7f6bbf150d10> in <MetabolicReaction S_transfer_to_SufBCD_mod_1:2Fe2S_mod_1:2Fe1S_FWD_CPLX_dummy at 0x7f6bbf150cd0>\n",
      "Created <Metabolite EG50003-MONOMER_mod_pan4p_mod_3ocmrs7e at 0x7f6bbf01e1d0> in <MetabolicReaction 3OAR1411_FWD_3-OXOACYL-ACP-REDUCT-MONOMER at 0x7f6bbf01e190>\n",
      "Created <Metabolite CPLX0-1341_mod_2:fe2 at 0x7f6bbf01e390> in <MetabolicReaction S_transfer_to_SufBCD_mod_2:fe2_FWD_CPLX_dummy at 0x7f6bbf01e350>\n",
      "Created <Metabolite CPLX0-1341_mod_1:fe2 at 0x7f6bbf01e610> in <MetabolicReaction SufBCD_mod_1:fe2atp_mediated_FE_loading_FWD_CPLX_dummy at 0x7f6bbf01e5d0>\n",
      "Created <Metabolite EG50003-MONOMER_mod_pan4p_mod_3hoct at 0x7f6bbedac190> in <MetabolicReaction 3OAR801_REV_3-OXOACYL-ACP-REDUCT-MONOMER at 0x7f6bbedac150>\n",
      "Created <Metabolite EG50003-MONOMER_mod_pan4p_mod_3odec at 0x7f6bbedac6d0> in <MetabolicReaction 3OAS1001_FWD_FABB-CPLX at 0x7f6bbedac690>\n",
      "Created <Metabolite EG50003-MONOMER_mod_pan4p_mod_myrs at 0x7f6bbedaca90> in <MetabolicReaction EDTXS21_FWD_MYRISTOYLACYLTRAN-MONOMER at 0x7f6bbedaca50>\n",
      "Created <Metabolite EG10544-MONOMER_mod_palmitate at 0x7f6bbed998d0> in <MetabolicReaction ALPATG160pp1_FWD_EG10168-MONOMER at 0x7f6bbed99890>\n",
      "Created <Metabolite EG50003-MONOMER_mod_pan4p_mod_3ohex at 0x7f6bbe8ea750> in <MetabolicReaction 3OAS601_FWD_FABB-CPLX at 0x7f6bbe8ea710>\n",
      "Created <Metabolite EG50003-MONOMER_mod_pan4p_mod_but at 0x7f6bbe8ea790> in <MetabolicReaction 3OAS601_FWD_FABB-CPLX at 0x7f6bbe8ea710>\n",
      "Created <Metabolite EG50003-MONOMER_mod_pan4p_mod_3hddec at 0x7f6bbe921310> in <MetabolicReaction 3OAR1201_REV_3-OXOACYL-ACP-REDUCT-MONOMER at 0x7f6bbe9212d0>\n",
      "Created <Metabolite EG50003-MONOMER_mod_pan4p_mod_toctd2e at 0x7f6bbe74c910> in <MetabolicReaction EAR180y1_FWD_ENOYL-ACP-REDUCT-NADH-MONOMER at 0x7f6bbe74c8d0>\n",
      "Created <Metabolite EG50003-MONOMER_mod_pan4p_mod_but2e at 0x7f6bbe6303d0> in <MetabolicReaction EAR40x1_FWD_ENOYL-ACP-REDUCT-NADH-MONOMER at 0x7f6bbe630390>\n",
      "Created <Metabolite EG50003-MONOMER_mod_pan4p_mod_3ooctd at 0x7f6bbe64b190> in <MetabolicReaction 3OAS1801_FWD_FABB-CPLX at 0x7f6bbe64b150>\n",
      "Created <Metabolite EG50003-MONOMER_mod_pan4p_mod_3opalm at 0x7f6bbe53dfd0> in <MetabolicReaction 3OAS1601_FWD_FABB-CPLX at 0x7f6bbe53df90>\n",
      "Created <Metabolite CPLX-7524_mod_mn2_mod_1:2fe2s at 0x7f6bbe55ad50> in <MetabolicReaction 2Fe2S_to_ErpA_by_SufA_FWD_CPLX_dummy at 0x7f6bbe55ad10>\n",
      "Created <Metabolite CPLX0-7824_mod_1:2fe2s at 0x7f6bbe55ad90> in <MetabolicReaction 2Fe2S_to_ErpA_by_SufA_FWD_CPLX_dummy at 0x7f6bbe55ad10>\n",
      "Created <Metabolite EG50003-MONOMER_mod_pan4p_mod_3hdec at 0x7f6bbf62d750> in <MetabolicReaction 3OAR1001_REV_3-OXOACYL-ACP-REDUCT-MONOMER at 0x7f6bbf62d710>\n",
      "Created <Metabolite EG50003-MONOMER_mod_pan4p_mod_t3c11vace at 0x7f6bbf2c6f90> in <MetabolicReaction EAR181x1_FWD_ENOYL-ACP-REDUCT-NADH-MONOMER at 0x7f6bbf2c6f50>\n",
      "Created <Metabolite EG50003-MONOMER_mod_pan4p_mod_3hocta at 0x7f6bbee9ea50> in <MetabolicReaction 3OAR1801_REV_3-OXOACYL-ACP-REDUCT-MONOMER at 0x7f6bbee9ea10>\n",
      "Created <Metabolite EG50003-MONOMER_mod_pan4p_mod_3hcvac11e at 0x7f6bbee18610> in <MetabolicReaction 3HAD1811_FWD_FABZ-CPLX at 0x7f6bbee185d0>\n",
      "Created <Metabolite EG50003-MONOMER_mod_pan4p_mod_3ocvac11e at 0x7f6bbe82e7d0> in <MetabolicReaction 3OAR1811_FWD_3-OXOACYL-ACP-REDUCT-MONOMER at 0x7f6bbe82e790>\n",
      "Created <Metabolite generic_glu_tRNA at 0x7f6bbf7e1d50> in <MetabolicReaction GLUTRR_FWD_CPLX0-3741 at 0x7f6bbf7e1d10>\n",
      "Created <Metabolite CPLX0-782_mod_2:4fe4s at 0x7f6bbf7e1dd0> in <MetabolicReaction acp_lipoate_synthase_FWD_None at 0x7f6bbf7e1e10>\n",
      "Created <Metabolite CPLX0-782_mod_1:2fe2s_mod_1:4fe4s at 0x7f6bbf7e1e50> in <MetabolicReaction acp_lipoate_synthase_FWD_None at 0x7f6bbf7e1e10>\n"
     ]
    }
   ],
   "source": [
    "for reaction_data in me.stoichiometric_data:\n",
    "    # Some reactions have no complex associated. Determine if they are\n",
    "    # spontaneous or orphan reactions.\n",
    "    try:\n",
    "        complexes = rxnToModCplxDict[reaction_data.id]\n",
    "    except KeyError:\n",
    "        # These are orphans catalyzed by a dummy\n",
    "        if reaction_data.id == \"dummy_reaction\" or \\\n",
    "                not reaction_info.is_spontaneous[reaction_data.id]:\n",
    "            complexes = [\"CPLX_dummy\"]\n",
    "        # These are truly spontaneous\n",
    "        else:\n",
    "            complexes = [None]\n",
    "    for complex_id in complexes:\n",
    "        complex_data = me.complex_data.get_by_id(complex_id) if complex_id else None\n",
    "        if reaction_data.lower_bound < 0:\n",
    "            r = MetabolicReaction(reaction_data.id + \"_REV_\" + str(complex_id))\n",
    "            me.add_reaction(r)\n",
    "            r.keff = 65\n",
    "            r.stoichiometric_data = reaction_data\n",
    "            if complex_data is not None:\n",
    "                r.complex_data = complex_data\n",
    "            r.reverse = True\n",
    "            r.update(create_new=True)\n",
    "        if reaction_data.upper_bound > 0:\n",
    "            r = MetabolicReaction(reaction_data.id + \"_FWD_\" + str(complex_id))\n",
    "            me.add_reaction(r)\n",
    "            r.keff = 65\n",
    "            r.stoichiometric_data = reaction_data\n",
    "            if complex_data is not None:\n",
    "                r.complex_data = complex_data\n",
    "            r.reverse = False\n",
    "            r.update(create_new=True)"
   ]
  },
  {
   "cell_type": "code",
   "execution_count": 27,
   "metadata": {
    "collapsed": false
   },
   "outputs": [
    {
     "data": {
      "text/plain": [
       "'2tpr3dpcoa_c + 4.27350427350427e-6*mu G6340-MONOMER --> '"
      ]
     },
     "execution_count": 27,
     "metadata": {},
     "output_type": "execute_result"
    }
   ],
   "source": [
    "# This reaction is weird\n",
    "me.reactions.get_by_id('CITLY-CPLX_2tpr3dpcoa_FWD_G6340-MONOMER').reaction"
   ]
  },
  {
   "cell_type": "code",
   "execution_count": 28,
   "metadata": {
    "collapsed": false
   },
   "outputs": [
    {
     "data": {
      "text/plain": [
       "'0.000116225011622501*mu + 4.5443979544398e-5 RNA_b0202 + 0.000116225011622501*mu + 4.5443979544398e-5 ile__L_c --> generic_tRNA_ile__L_c'"
      ]
     },
     "execution_count": 28,
     "metadata": {},
     "output_type": "execute_result"
    }
   ],
   "source": [
    "me.reactions.charging_tRNA_b0202.reaction"
   ]
  },
  {
   "cell_type": "code",
   "execution_count": 29,
   "metadata": {
    "collapsed": false
   },
   "outputs": [
    {
     "data": {
      "text/plain": [
       "'3 generic_tRNA_tyr__L_c + 2 generic_tRNA_asn__L_c + 11 generic_tRNA_gly_c + 7 ala__L_c + 11 gly_c + 2e-08 RNA_b0005 + 9 pro__L_c + 7 generic_tRNA_arg__L_c + 5 generic_tRNA_val__L_c + 4 generic_tRNA_gln__L_c + 0.00119921683798336*mu + 0.000468893783651493 ribosome + 7 lys__L_c + 5 generic_tRNA_asp__L_c + 7 generic_tRNA_ala__L_c + 3 ile__L_c + 13 his__L_c + 5 val__L_c + 7 generic_tRNA_lys__L_c + 3 generic_tRNA_ile__L_c + 6 trp__L_c + 196 atp_c + 13 generic_tRNA_his__L_c + 2 asn__L_c + 3 tyr__L_c + 3 generic_tRNA_ser__L_c + 4 gln__L_c + 3 generic_tRNA_met__L_c + 7 leu__L_c + 392 h2o_c + 2 generic_tRNA_glu__L_c + 3 met__L_c + 7 arg__L_c + 5 asp__L_c + 2 glu__L_c + generic_tRNA_thr__L_c + 9 generic_tRNA_pro__L_c + 3 ser__L_c + thr__L_c + 7 generic_tRNA_leu__L_c + 196 gtp_c + 6 generic_tRNA_trp__L_c --> 392 pi_c + protein_b0005 + 392 h_c + 196 adp_c + 11.362058 biomass + 196 gdp_c'"
      ]
     },
     "execution_count": 29,
     "metadata": {},
     "output_type": "execute_result"
    }
   ],
   "source": [
    "me.reactions.translation_b0005.reaction"
   ]
  },
  {
   "cell_type": "markdown",
   "metadata": {},
   "source": [
    "Rebuild transcription and translation to use tRNA (now that tRNA synthetase complexes are in the model"
   ]
  },
  {
   "cell_type": "code",
   "execution_count": 31,
   "metadata": {
    "collapsed": false
   },
   "outputs": [],
   "source": [
    "for r in me.reactions:\n",
    "    if isinstance(r, tRNAChargingReaction):\n",
    "        r.update()\n",
    "for r in me.reactions:\n",
    "    if isinstance(r, TranslationReaction):\n",
    "        r.update()\n",
    "    if isinstance(r, TranscriptionReaction):\n",
    "        r.update()\n",
    "    if isinstance(r, MetabolicReaction):\n",
    "        r.update()"
   ]
  },
  {
   "cell_type": "code",
   "execution_count": 32,
   "metadata": {
    "collapsed": false,
    "scrolled": true
   },
   "outputs": [
    {
     "data": {
      "text/plain": [
       "<tRNAChargingReaction charging_tRNA_b2816 at 0x7f6bbcb52990>"
      ]
     },
     "execution_count": 32,
     "metadata": {},
     "output_type": "execute_result"
    }
   ],
   "source": [
    "me.reactions.charging_tRNA_b2816"
   ]
  },
  {
   "cell_type": "code",
   "execution_count": 33,
   "metadata": {
    "collapsed": false,
    "scrolled": true
   },
   "outputs": [
    {
     "data": {
      "text/plain": [
       "'3 generic_tRNA_tyr__L_c + 2 generic_tRNA_asn__L_c + 11 generic_tRNA_gly_c + 7 ala__L_c + 11 gly_c + 2e-08 RNA_b0005 + 9 pro__L_c + 7 generic_tRNA_arg__L_c + 5 generic_tRNA_val__L_c + 4 generic_tRNA_gln__L_c + 0.00119921683798336*mu + 0.000468893783651493 ribosome + 7 lys__L_c + 5 generic_tRNA_asp__L_c + 7 generic_tRNA_ala__L_c + 3 ile__L_c + 13 his__L_c + 5 val__L_c + 7 generic_tRNA_lys__L_c + 3 generic_tRNA_ile__L_c + 6 trp__L_c + 196 atp_c + 13 generic_tRNA_his__L_c + 2 asn__L_c + 3 tyr__L_c + 3 generic_tRNA_ser__L_c + 4 gln__L_c + 3 generic_tRNA_met__L_c + 7 leu__L_c + 392 h2o_c + 2 generic_tRNA_glu__L_c + 3 met__L_c + 7 arg__L_c + 5 asp__L_c + 2 glu__L_c + generic_tRNA_thr__L_c + 9 generic_tRNA_pro__L_c + 3 ser__L_c + thr__L_c + 7 generic_tRNA_leu__L_c + 196 gtp_c + 6 generic_tRNA_trp__L_c --> 392 pi_c + protein_b0005 + 392 h_c + 196 adp_c + 11.362058 biomass + 196 gdp_c'"
      ]
     },
     "execution_count": 33,
     "metadata": {},
     "output_type": "execute_result"
    }
   ],
   "source": [
    "me.reactions.translation_b0005.reaction"
   ]
  },
  {
   "cell_type": "markdown",
   "metadata": {},
   "source": [
    "Remove unused protein and mRNA to make the model solve faster (TODO remove unused complexes too)"
   ]
  },
  {
   "cell_type": "code",
   "execution_count": 34,
   "metadata": {
    "collapsed": false
   },
   "outputs": [],
   "source": [
    "for c_d in me.complex_data:\n",
    "    c = c_d.complex\n",
    "    if len(c.reactions) == 1:\n",
    "        list(c.reactions)[0].delete(remove_orphans=True)\n",
    "for p in me.metabolites.query(\"protein\"):\n",
    "    if len(p._reaction) == 1:\n",
    "        list(p._reaction)[0].delete(remove_orphans=True)\n",
    "for m in me.metabolites.query(\"RNA\"):\n",
    "    if len(m._reaction) == 1:\n",
    "        list(m._reaction)[0].delete(remove_orphans=True)"
   ]
  },
  {
   "cell_type": "markdown",
   "metadata": {},
   "source": [
    "This gives the total number of genes included"
   ]
  },
  {
   "cell_type": "code",
   "execution_count": 35,
   "metadata": {
    "collapsed": false
   },
   "outputs": [
    {
     "data": {
      "text/plain": [
       "4320"
      ]
     },
     "execution_count": 35,
     "metadata": {},
     "output_type": "execute_result"
    }
   ],
   "source": [
    "len(me.reactions.query(\"transcription\"))"
   ]
  },
  {
   "cell_type": "markdown",
   "metadata": {},
   "source": [
    "## Attempt to set keffs"
   ]
  },
  {
   "cell_type": "code",
   "execution_count": 36,
   "metadata": {
    "collapsed": false,
    "scrolled": true
   },
   "outputs": [
    {
     "name": "stdout",
     "output_type": "stream",
     "text": [
      "no keff found for keff_METAT_S_DASH_ADENMETSYN_DASH_CPLX_mod_4_COLON_generic_monovalent_mod_1_COLON_generic_divalent\n",
      "no keff found for keff_GLUTRR_CPLX0_DASH_3741\n"
     ]
    }
   ],
   "source": [
    "divalent_list = divalent_list\n",
    "monovalent_list = ['_mod_k','_mod_na1']\n",
    "from pickle import load\n",
    "with open(\"test_keffs.pickle\", \"rb\") as infile:\n",
    "    old_keffs = load(infile)\n",
    "keffs = {}\n",
    "\n",
    "for keff, value in old_keffs.items():\n",
    "    for i in divalent_list: \n",
    "        keff = keff.replace(i, 'generic_divalent')\n",
    "    for i in monovalent_list: \n",
    "        keff = keff.replace(i, '_mod_generic_monovalent')\n",
    "    keffs[keff] = value\n",
    "    \n",
    "for r in me.reactions:\n",
    "    if isinstance(r, MetabolicReaction) and r.complex_data is None:\n",
    "        continue\n",
    "    if isinstance(r, MetabolicReaction) and r.complex_data.id != \"CPLX_dummy\":\n",
    "        met_rxn = r\n",
    "        key = met_rxn.id.replace(\"-\", \"_DASH_\").replace(\"__\", \"_DASH_\").replace(\":\",\"_COLON_\")\n",
    "        #key = met_rxn.id\n",
    "        key = \"keff_\" + key.replace(\"_FWD_\", \"_\").replace(\"_REV_\", \"_\")\n",
    "\n",
    "        matches = [i for i in keffs if key in i]\n",
    "        # get the direction\n",
    "        if met_rxn.reverse:\n",
    "            matches = [i for i in matches if i.endswith(\"_reverse_priming_keff\")]\n",
    "        else:\n",
    "            matches = [i for i in matches if i.endswith(\"_forward_priming_keff\")]\n",
    "        if len(matches) == 1:\n",
    "            met_rxn.keff = keffs[matches[0]]\n",
    "        elif len(matches) > 0:\n",
    "            if len(matches) == len([i for i in matches if key + \"_mod_\"]):\n",
    "                met_rxn.keff = keffs[matches[0]]\n",
    "            else:\n",
    "                print key, len(matches)\n",
    "        else:  # len(matches) == 0\n",
    "            print \"no keff found for\", key"
   ]
  },
  {
   "cell_type": "code",
   "execution_count": null,
   "metadata": {
    "collapsed": false
   },
   "outputs": [],
   "source": [
    "me.reactions.translation_b0038.reaction"
   ]
  },
  {
   "cell_type": "markdown",
   "metadata": {},
   "source": [
    "## Solve"
   ]
  },
  {
   "cell_type": "code",
   "execution_count": 37,
   "metadata": {
    "collapsed": true
   },
   "outputs": [],
   "source": [
    "me.reactions.dummy_reaction_FWD_CPLX_dummy.objective_coefficient = 1."
   ]
  },
  {
   "cell_type": "code",
   "execution_count": 38,
   "metadata": {
    "collapsed": false,
    "scrolled": true
   },
   "outputs": [],
   "source": [
    "KO_list = ['DHPTDNR','DHPTDNRN', 'SUCASPtpp','SUCFUMtpp', 'SUCMALtpp', 'SUCTARTtpp', \n",
    "           'CAT', 'FHL', 'SPODM', 'SPODMp']\n",
    "for reaction in KO_list:\n",
    "    a = me.reactions.query(reaction+'_')\n",
    "    for rxn in a:\n",
    "        rxn.upper_bound = 0\n",
    "        rxn.lower_bound = 0"
   ]
  },
  {
   "cell_type": "code",
   "execution_count": 39,
   "metadata": {
    "collapsed": true
   },
   "outputs": [],
   "source": [
    "expressions = compile_expressions(me)"
   ]
  },
  {
   "cell_type": "code",
   "execution_count": 40,
   "metadata": {
    "collapsed": false
   },
   "outputs": [
    {
     "data": {
      "text/plain": [
       "<Solution 0.10 at 0x7f6bbc11c490>"
      ]
     },
     "execution_count": 40,
     "metadata": {},
     "output_type": "execute_result"
    }
   ],
   "source": [
    "solve_at_growth_rate(me, 0.1, compiled_expressions=expressions)"
   ]
  },
  {
   "cell_type": "code",
   "execution_count": null,
   "metadata": {
    "collapsed": false,
    "scrolled": true
   },
   "outputs": [],
   "source": [
    "binary_search(me, min_mu=0, max_mu=1.0, mu_accuracy=1e-6,\n",
    "              compiled_expressions=expressions)"
   ]
  },
  {
   "cell_type": "code",
   "execution_count": null,
   "metadata": {
    "collapsed": false
   },
   "outputs": [],
   "source": [
    "import escher\n",
    "view = escher.Builder(\"iJO1366.Central metabolism\")\n",
    "view.reaction_data = me.get_metabolic_flux()\n",
    "view.display_in_notebook()"
   ]
  },
  {
   "cell_type": "code",
   "execution_count": null,
   "metadata": {
    "collapsed": false
   },
   "outputs": [],
   "source": [
    "me.compute_solution_error()"
   ]
  },
  {
   "cell_type": "code",
   "execution_count": null,
   "metadata": {
    "collapsed": true
   },
   "outputs": [],
   "source": [
    "def find_met_reactions(met_id):\n",
    "    return [i for i in me.metabolites.get_by_id(met_id).reactions]\n",
    "            #if not isinstance(i, (TranslationReaction, TranscriptionReaction))]"
   ]
  },
  {
   "cell_type": "code",
   "execution_count": null,
   "metadata": {
    "collapsed": false
   },
   "outputs": [],
   "source": [
    "met = \"\"\n",
    "r = cobra.Reaction(\"DM_\" + met)\n",
    "me.add_reaction(r)\n",
    "r.reaction = met + \" --> \""
   ]
  },
  {
   "cell_type": "code",
   "execution_count": null,
   "metadata": {
    "collapsed": false,
    "scrolled": true
   },
   "outputs": [],
   "source": [
    "fva_results = fva(me, .5, find_met_reactions(met), compiled_expressions=expressions)\n",
    "res = pandas.DataFrame.from_dict(fva_results).T\n",
    "res"
   ]
  }
 ],
 "metadata": {
  "kernelspec": {
   "display_name": "Python 2",
   "language": "python",
   "name": "python2"
  },
  "language_info": {
   "codemirror_mode": {
    "name": "ipython",
    "version": 2
   },
   "file_extension": ".py",
   "mimetype": "text/x-python",
   "name": "python",
   "nbconvert_exporter": "python",
   "pygments_lexer": "ipython2",
   "version": "2.7.6"
  }
 },
 "nbformat": 4,
 "nbformat_minor": 0
}
