{
 "cells": [
  {
   "cell_type": "markdown",
   "metadata": {},
   "source": [
    "# Build a basic ME model"
   ]
  },
  {
   "cell_type": "markdown",
   "metadata": {},
   "source": [
    "We will try to build an ME model from the NC_000913.2 Genbank file, the iJO1366 M model, and the complex reconstruction from iJL1650-ME"
   ]
  },
  {
   "cell_type": "code",
   "execution_count": null,
   "metadata": {
    "collapsed": false
   },
   "outputs": [],
   "source": [
    "import re\n",
    "\n",
    "import cobra.test\n",
    "\n",
    "# ecoli me\n",
    "import ecolime\n",
    "from ecolime.flat_files import *\n",
    "from ecolime.ecoli_k12 import *\n",
    "\n",
    "\n",
    "from minime import *\n",
    "from minime.util import building\n",
    "from minime.solve.algorithms import binary_search, fva, solve_at_growth_rate\n",
    "from minime.solve.symbolic import compile_expressions"
   ]
  },
  {
   "cell_type": "code",
   "execution_count": null,
   "metadata": {
    "collapsed": false
   },
   "outputs": [],
   "source": [
    "building.prepare_for_minime()"
   ]
  },
  {
   "cell_type": "code",
   "execution_count": null,
   "metadata": {
    "collapsed": false
   },
   "outputs": [],
   "source": [
    "me = MEmodel('iJO1366-ME')\n",
    "m_model = ecolime.get_m_model()\n",
    "# some of the \"metabolites\" in iJO1366 \"M\" model are actually complexes. We pass those in\n",
    "# so they get created as complexes, not metabolites.\n",
    "complex_list = []\n",
    "complex_list.extend(i.id for i in m_model.metabolites if i.id.startswith(\"CPLX\"))\n",
    "complex_list.extend(i.id for i in m_model.metabolites if i.id.startswith(\"EG\"))\n",
    "complex_list.extend(i.id for i in m_model.metabolites if \"-MONOMER\" in i.id)\n",
    "complex_list.extend(i.id for i in m_model.metabolites if \"-CPLX\" in i.id)\n",
    "complex_list.extend(i.id for i in m_model.metabolites if \"_mod_\" in i.id)\n",
    "# temp fix\n",
    "complex_list.extend(i.id for i in m_model.metabolites if i.id.startswith(\"Isc\"))\n",
    "complex_list = set(complex_list)\n",
    "building.add_m_model_content(me, m_model, complex_metabolite_ids=complex_list)\n",
    "\n",
    "# if the bounds of this metabolite aren't open, model uses wrong reactions\n",
    "me.reactions.EX_pqq_e.lower_bound = -1000"
   ]
  },
  {
   "cell_type": "markdown",
   "metadata": {},
   "source": [
    "Sometimes multiple entities can perform the same role. To prevent a combinatorial explosion of possibilities, we can create  \"generic\" version, where any of those entities can fill in."
   ]
  },
  {
   "cell_type": "raw",
   "metadata": {
    "collapsed": false
   },
   "source": [
    "for generic, components in get_generics().items():\n",
    "    GenericData(generic, me, components).create_reactions()"
   ]
  },
  {
   "cell_type": "markdown",
   "metadata": {},
   "source": [
    "Create MetabolicReactionData for each iJO1366 reaction"
   ]
  },
  {
   "cell_type": "code",
   "execution_count": null,
   "metadata": {
    "collapsed": false,
    "scrolled": true
   },
   "outputs": [],
   "source": [
    "gb_filename = join(ecoli_files_dir,'NC_000913.2.gb')                                                                                \n",
    "building.build_reactions_from_genbank(me, gb_filename)"
   ]
  },
  {
   "cell_type": "code",
   "execution_count": null,
   "metadata": {
    "collapsed": false
   },
   "outputs": [],
   "source": [
    "building.add_dummy_reactions(me, \"ATG\" + \"TTT\" * 12 + \"TAT\" * 12 + \"ACG\" * 12 + \"GAT\" * 12 + \"AGT\" * 12 + \"TAA\")"
   ]
  },
  {
   "cell_type": "markdown",
   "metadata": {},
   "source": [
    "### Add in the complex formation"
   ]
  },
  {
   "cell_type": "code",
   "execution_count": null,
   "metadata": {
    "collapsed": false
   },
   "outputs": [],
   "source": [
    "rna_components = {\"b3123\"}\n",
    "complex_stoich_dict = get_complex_to_bnum_dict(rna_components)"
   ]
  },
  {
   "cell_type": "code",
   "execution_count": null,
   "metadata": {
    "collapsed": false
   },
   "outputs": [],
   "source": [
    "building.add_complex_stoichiometry_data(me, complex_stoich_dict)\n",
    "for cplx_data in me.complex_data:\n",
    "    formation = cplx_data.formation\n",
    "    if formation:\n",
    "        formation.update()\n",
    "    else:\n",
    "        cplx_data.create_complex_formation()"
   ]
  },
  {
   "cell_type": "code",
   "execution_count": null,
   "metadata": {
    "collapsed": false,
    "scrolled": false
   },
   "outputs": [],
   "source": [
    "reaction_to_complex = get_reaction_to_complex(modifications=False)\n",
    "reaction_info = get_reaction_info_frame()\n",
    "for reaction_data in me.stoichiometric_data:\n",
    "    if reaction_data.id.startswith('suf_') or reaction_data.id.startswith('isc_'):\n",
    "        print reaction_data.id, 'Skipped'\n",
    "        continue\n",
    "    building.add_metabolic_reactions(me, reaction_data, reaction_to_complex, reaction_info,\n",
    "                                     update=True, create_new=True)"
   ]
  },
  {
   "cell_type": "code",
   "execution_count": null,
   "metadata": {
    "collapsed": false
   },
   "outputs": [],
   "source": [
    "for r in me.reactions:\n",
    "    if hasattr(r, \"update\"):\n",
    "        r.update()"
   ]
  },
  {
   "cell_type": "code",
   "execution_count": null,
   "metadata": {
    "collapsed": false
   },
   "outputs": [],
   "source": [
    "for c_d in me.complex_data:\n",
    "    c = c_d.complex\n",
    "    if len(c.reactions) == 1:\n",
    "        list(c.reactions)[0].delete(remove_orphans=True)\n",
    "for p in me.metabolites.query(\"protein\"):\n",
    "    if len(p._reaction) == 1:\n",
    "        list(p._reaction)[0].delete(remove_orphans=True)\n",
    "for m in me.metabolites.query(\"RNA\"):\n",
    "    delete = True\n",
    "    for reaction in m._reaction:\n",
    "        if isinstance(reaction, TranslationReaction):\n",
    "            delete = False\n",
    "    if delete:\n",
    "        while len(m._reaction) > 0:\n",
    "            list(m._reaction)[0].delete(remove_orphans=True)\n",
    "for rxn in me.reactions.query('transcription_'):\n",
    "     if len(rxn.products) < 3:\n",
    "            rxn.remove_from_model(remove_orphans=True)"
   ]
  },
  {
   "cell_type": "code",
   "execution_count": null,
   "metadata": {
    "collapsed": false
   },
   "outputs": [],
   "source": [
    "me_genes = set([i.id.replace('RNA_','') for i in me.metabolites.query(\"RNA_b\")])"
   ]
  },
  {
   "cell_type": "code",
   "execution_count": null,
   "metadata": {
    "collapsed": true
   },
   "outputs": [],
   "source": [
    "import cobra.test\n",
    "iJO = cobra.test.create_test_model('ecoli')\n",
    "iJO_genes = set([i.id for i in iJO.genes])"
   ]
  },
  {
   "cell_type": "code",
   "execution_count": null,
   "metadata": {
    "collapsed": false,
    "scrolled": true
   },
   "outputs": [],
   "source": [
    "# These differences are iron_sulfur proteins\n",
    "me_genes.difference(iJO_genes)"
   ]
  },
  {
   "cell_type": "code",
   "execution_count": null,
   "metadata": {
    "collapsed": false
   },
   "outputs": [],
   "source": [
    "# I think these are just tRNA synthetases\n",
    "iJO_genes.difference(me_genes)"
   ]
  },
  {
   "cell_type": "code",
   "execution_count": null,
   "metadata": {
    "collapsed": false
   },
   "outputs": [],
   "source": [
    "len(me.reactions.query('transcription'))"
   ]
  },
  {
   "cell_type": "code",
   "execution_count": null,
   "metadata": {
    "collapsed": false
   },
   "outputs": [],
   "source": [
    "len(me.reactions)"
   ]
  },
  {
   "cell_type": "markdown",
   "metadata": {},
   "source": [
    "# Solve"
   ]
  },
  {
   "cell_type": "code",
   "execution_count": null,
   "metadata": {
    "collapsed": false
   },
   "outputs": [],
   "source": [
    "divalent_list = divalent_list\n",
    "monovalent_list = ['_mod_k','_mod_na1']\n",
    "from pickle import load\n",
    "with open(\"test_keffs.pickle\", \"rb\") as infile:\n",
    "    old_keffs = load(infile)\n",
    "keffs = {}\n",
    "\n",
    "for keff, value in old_keffs.items():\n",
    "    for i in divalent_list: \n",
    "        keff = keff.replace(i, 'generic_divalent')\n",
    "    for i in monovalent_list: \n",
    "        keff = keff.replace(i, '_mod_generic_monovalent')\n",
    "    keffs[keff] = value\n",
    "    \n",
    "for r in me.reactions:\n",
    "    if isinstance(r, MetabolicReaction) and r.complex_data is None:\n",
    "        continue\n",
    "    if isinstance(r, MetabolicReaction) and r.complex_data.id != \"CPLX_dummy\":\n",
    "        met_rxn = r\n",
    "        key = met_rxn.id.replace(\"-\", \"_DASH_\").replace(\"__\", \"_DASH_\").replace(\":\",\"_COLON_\")\n",
    "        #key = met_rxn.id\n",
    "        key = \"keff_\" + key.replace(\"_FWD_\", \"_\").replace(\"_REV_\", \"_\")\n",
    "\n",
    "        matches = [i for i in keffs if key in i]\n",
    "        # get the direction\n",
    "        if met_rxn.reverse:\n",
    "            matches = [i for i in matches if i.endswith(\"_reverse_priming_keff\")]\n",
    "        else:\n",
    "            matches = [i for i in matches if i.endswith(\"_forward_priming_keff\")]\n",
    "        if len(matches) == 1:\n",
    "            met_rxn.keff = keffs[matches[0]]\n",
    "        elif len(matches) > 0:\n",
    "            if len(matches) == len([i for i in matches if key + \"_mod_\"]):\n",
    "                met_rxn.keff = keffs[matches[0]]\n",
    "            else:\n",
    "                print key, len(matches)\n",
    "        else:  # len(matches) == 0\n",
    "            print \"no keff found for\", key"
   ]
  },
  {
   "cell_type": "code",
   "execution_count": null,
   "metadata": {
    "collapsed": true
   },
   "outputs": [],
   "source": [
    "me.reactions.dummy_reaction_FWD_CPLX_dummy.objective_coefficient = 1."
   ]
  },
  {
   "cell_type": "code",
   "execution_count": null,
   "metadata": {
    "collapsed": true
   },
   "outputs": [],
   "source": [
    "# Turn off reactions that throw off results as in iOL\n",
    "KO_list = ['DHPTDNR','DHPTDNRN', 'SUCASPtpp','SUCFUMtpp', 'SUCMALtpp', 'SUCTARTtpp', \n",
    "           'CAT', 'FHL', 'SPODM', 'SPODMp']\n",
    "for reaction in KO_list:\n",
    "    a = me.reactions.query(reaction + '_')\n",
    "    for rxn in a:\n",
    "        rxn.upper_bound = 0\n",
    "        rxn.lower_bound = 0"
   ]
  },
  {
   "cell_type": "code",
   "execution_count": null,
   "metadata": {
    "collapsed": true
   },
   "outputs": [],
   "source": [
    "me.reactions.EX_glc__D_e.lower_bound = -10"
   ]
  },
  {
   "cell_type": "code",
   "execution_count": null,
   "metadata": {
    "collapsed": false
   },
   "outputs": [],
   "source": [
    "expressions = compile_expressions(me)"
   ]
  },
  {
   "cell_type": "code",
   "execution_count": null,
   "metadata": {
    "collapsed": false,
    "scrolled": true
   },
   "outputs": [],
   "source": [
    "binary_search(me, min_mu=.05, max_mu=2.1, mu_accuracy=1e-2,\n",
    "              compiled_expressions=expressions)"
   ]
  },
  {
   "cell_type": "code",
   "execution_count": null,
   "metadata": {
    "collapsed": false
   },
   "outputs": [],
   "source": [
    "me.metabolites.kdo2lipid4_e.reactions"
   ]
  },
  {
   "cell_type": "code",
   "execution_count": null,
   "metadata": {
    "collapsed": false
   },
   "outputs": [],
   "source": [
    "me.metabolites.get_by_id('2agpe160_p').name"
   ]
  },
  {
   "cell_type": "code",
   "execution_count": null,
   "metadata": {
    "collapsed": true
   },
   "outputs": [],
   "source": [
    "me.metabolites.RNA_b0007.reactions"
   ]
  }
 ],
 "metadata": {
  "kernelspec": {
   "display_name": "Python 2",
   "language": "python",
   "name": "python2"
  },
  "language_info": {
   "codemirror_mode": {
    "name": "ipython",
    "version": 2
   },
   "file_extension": ".py",
   "mimetype": "text/x-python",
   "name": "python",
   "nbconvert_exporter": "python",
   "pygments_lexer": "ipython2",
   "version": "2.7.6"
  }
 },
 "nbformat": 4,
 "nbformat_minor": 0
}
