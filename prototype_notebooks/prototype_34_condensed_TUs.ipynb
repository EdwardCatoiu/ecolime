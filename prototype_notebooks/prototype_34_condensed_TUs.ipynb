{
 "cells": [
  {
   "cell_type": "markdown",
   "metadata": {},
   "source": [
    "\n",
    "# Build a basic ME model"
   ]
  },
  {
   "cell_type": "markdown",
   "metadata": {},
   "source": [
    "We will try to build an ME model from the NC_000913.2 Genbank file, the iJO1366 M model, and the complex reconstruction from iJL1650-ME"
   ]
  },
  {
   "cell_type": "code",
   "execution_count": 1,
   "metadata": {
    "collapsed": false
   },
   "outputs": [],
   "source": [
    "# python imports\n",
    "import re\n",
    "import json\n",
    "from os.path import join\n",
    "\n",
    "# third party imports\n",
    "import pandas\n",
    "import escher\n",
    "import cobra.test\n",
    "\n",
    "# ecoli me\n",
    "from ecolime.flat_files import *\n",
    "from ecolime.ecoli_k12 import *\n",
    "\n",
    "from minime import *\n",
    "from minime.util.building import add_ecoli_M_model_content, add_ribosomes, add_RNA_polymerase\n",
    "from minime.util.building import add_TUs_and_translation, add_dummy_reactions\n",
    "from minime.util.building import add_complex_stoichiometry_data, add_transcription_reaction\n",
    "from minime.util.building import add_complex_modification_data\n",
    "from minime.util.building import add_metabolic_reactions\n",
    "from minime.solve.algorithms import binary_search, fva, solve_at_growth_rate\n",
    "from minime.solve.symbolic import compile_expressions"
   ]
  },
  {
   "cell_type": "code",
   "execution_count": 2,
   "metadata": {
    "collapsed": true
   },
   "outputs": [],
   "source": [
    "met_info = pandas.read_csv(join(ecoli_files_dir, \"metabolites.txt\"),\n",
    "                           delimiter=\"\\t\", header=None, index_col=0,\n",
    "                           names=[\"id\", \"name\", \"formula\", \"compartment\",\n",
    "                                  \"data_source\"])\n",
    "rxn_info = get_reaction_info_frame()\n",
    "rxn_dict = get_reaction_matrix_dict()\n",
    "sources_sinks_info = pandas.read_csv(join(ecoli_files_dir, \"reaction_matrix_sources_and_sinks.txt\"), delimiter=\"\\t\",\n",
    "                                     header=None, names=[\"rxn_id\", \"met_id\", \"compartment\", \"stoic\"], index_col=1)\n",
    "\n",
    "source_amounts = pandas.read_csv(join(ecoli_files_dir, \"exchange_bounds.txt\"),\n",
    "                                 delimiter=\"\\t\", index_col=0, names=[\"met_id\", \"amount\"])"
   ]
  },
  {
   "cell_type": "markdown",
   "metadata": {},
   "source": [
    "## Begin by loading metabolites and build Metabolic reactions"
   ]
  },
  {
   "cell_type": "code",
   "execution_count": 3,
   "metadata": {
    "collapsed": false
   },
   "outputs": [
    {
     "name": "stdout",
     "output_type": "stream",
     "text": [
      "Assigned tl to e\n",
      "Assigned hemed to e\n",
      "Assigned pqq to e\n",
      "Assigned dpm to e\n",
      "Assigned 23bpg to e\n",
      "Assigned tqn to e\n"
     ]
    }
   ],
   "source": [
    "me = MEmodel('iJO1366-ME')\n",
    "add_ecoli_M_model_content(me, 'iJO1366', met_info, rxn_info, rxn_dict, \n",
    "                          sources_sinks_info, source_amounts,generic_ions=True)\n",
    "\n",
    "# if the bounds of this metabolite aren't open, model uses wrong reactions\n",
    "me.reactions.EX_pqq_e.lower_bound = -1000"
   ]
  },
  {
   "cell_type": "markdown",
   "metadata": {},
   "source": [
    "## Build ribosome and RNA Polymerase"
   ]
  },
  {
   "cell_type": "code",
   "execution_count": 4,
   "metadata": {
    "collapsed": false
   },
   "outputs": [
    {
     "name": "stderr",
     "output_type": "stream",
     "text": [
      "/home/sbrg-cjlloyd/minime/minime/core/MEReactions.py:217 \u001b[1;31mUserWarning\u001b[0m: ribosome not found\n",
      "/home/sbrg-cjlloyd/minime/minime/core/MEReactions.py:153 \u001b[1;31mUserWarning\u001b[0m: RNA Polymerase not found\n"
     ]
    },
    {
     "name": "stdout",
     "output_type": "stream",
     "text": [
      "TODO deal with selenocystine\n",
      "unknown metabolite 'RNase_T_dim_mod_4:generic_divalent' created\n",
      "unknown metabolite 'generic_RNase' created\n",
      "unknown metabolite 'RNase_BN_dim_mod_2:generic_divalent' created\n",
      "unknown metabolite 'Rnd_mono_mod_5:generic_divalent' created\n",
      "unknown metabolite 'Rnb_mono_mod_1:generic_divalent' created\n",
      "unknown metabolite 'Rph_mono_mod_generic_divalent' created\n",
      "Created <Metabolite InfA_mono at 0x7f212dfe7910> in <ComplexFormation formation_ribosome at 0x7f212e519910>\n",
      "Created <Metabolite RimM_mono at 0x7f212dfe7a10> in <ComplexFormation formation_ribosome at 0x7f212e519910>\n",
      "Created <Metabolite Tig_mono at 0x7f212dfe7ad0> in <ComplexFormation formation_ribosome at 0x7f212e519910>\n",
      "Created <Metabolite InfC_mono at 0x7f212dfe7a90> in <ComplexFormation formation_ribosome at 0x7f212e519910>\n",
      "Created <Metabolite InfB_mono at 0x7f212dfe7b10> in <ComplexFormation formation_ribosome at 0x7f212e519910>\n",
      "Created <Metabolite RbfA_mono at 0x7f212dfe7b90> in <ComplexFormation formation_ribosome at 0x7f212e519910>\n",
      "Created <Metabolite Era_dim at 0x7f212dfe7b50> in <ComplexFormation formation_ribosome at 0x7f212e519910>\n",
      "Created <Metabolite hRNAP at 0x7f212dfe7cd0> in <ComplexFormation formation_RNA_Polymerase at 0x7f212dfe7c50>\n"
     ]
    }
   ],
   "source": [
    "gb_filename = join(ecoli_files_dir,'NC_000913.2.gb')                                                                                    \n",
    "TU_df = pandas.read_csv(join(ecoli_files_dir,'TUs_from_ecocyc.txt'), delimiter=\"\\t\")            \n",
    "\n",
    "TU_pieces = add_TUs_and_translation(me, gb_filename, TU_frame=TU_df, generic_flag=True)\n",
    "\n",
    "add_ribosomes(me)\n",
    "\n",
    "add_RNA_polymerase(me)"
   ]
  },
  {
   "cell_type": "code",
   "execution_count": 5,
   "metadata": {
    "collapsed": true
   },
   "outputs": [],
   "source": [
    "# There genes have no TU information so need transcribed seperately\n",
    "no_TU_info_list = ['b3247', 'b3166', 'b3167', 'b3705', 'b3980']\n",
    "for TU in no_TU_info_list:\n",
    "    RNA = me.metabolites.get_by_id('RNA_' + TU)\n",
    "    add_transcription_reaction(me, 'mRNA_' + TU, {TU}, RNA.seq)"
   ]
  },
  {
   "cell_type": "markdown",
   "metadata": {},
   "source": [
    "Make a dummy reactions. Add a dummy protein in as well."
   ]
  },
  {
   "cell_type": "code",
   "execution_count": 6,
   "metadata": {
    "collapsed": false
   },
   "outputs": [],
   "source": [
    "dna_sequence = \"ATG\" + \"TTT\" * 12 + \"TAT\"*12+ \"ACG\"*12 + \"GAT\" *12 + \"AGT\"*12+ \"TAA\"\n",
    "add_dummy_reactions(me, dna_sequence)"
   ]
  },
  {
   "cell_type": "markdown",
   "metadata": {},
   "source": [
    "## Associate the tRNA synthetases"
   ]
  },
  {
   "cell_type": "markdown",
   "metadata": {},
   "source": [
    "The tRNA charging reactions were automatically added when loading the genome from the genbank file. However, the charging reactions still need to be made aware of the tRNA synthetases which are responsible."
   ]
  },
  {
   "cell_type": "code",
   "execution_count": 7,
   "metadata": {
    "collapsed": true
   },
   "outputs": [],
   "source": [
    "with open(join(ecoli_files_dir, \"amino_acid_tRNA_synthetase.json\"), \"rb\") as infile:\n",
    "    aa_synthetase_dict = json.load(infile)\n",
    "for data in me.tRNA_data:\n",
    "    data.synthetase = str(aa_synthetase_dict[data.amino_acid])"
   ]
  },
  {
   "cell_type": "markdown",
   "metadata": {},
   "source": [
    "### Add in complex Formation with modifications"
   ]
  },
  {
   "cell_type": "code",
   "execution_count": 8,
   "metadata": {
    "collapsed": false
   },
   "outputs": [],
   "source": [
    "# ME_complex_dict is a dict of {'complex_id': [{'bnum' : count}]}\n",
    "rna_components = {\"b3123\"} # component id should have RNA_ instead of protein_\n",
    "ME_complex_dict = get_complex_to_bnum_dict(rna_components)\n",
    "# some entries in the file need to be renamed.\n",
    "# Colton 7/8/15 made changes directly to flat file\n",
    "#renames = {\"MnmE_\": \"b3706\", \"MnmG_\": \"b3741\", \"YheM_\": \"b3344\", \"YheL_\": \"b3343\", \"YheN_\": \"b3345\"}\n",
    "add_complex_stoichiometry_data(me, ME_complex_dict)\n"
   ]
  },
  {
   "cell_type": "code",
   "execution_count": 9,
   "metadata": {
    "collapsed": false
   },
   "outputs": [],
   "source": [
    "met_list = []\n",
    "for met_stoich in rxn_dict.values():\n",
    "    for met in met_stoich:\n",
    "        met_list.append(met.replace('_c',''))\n",
    "modification_dict = get_protein_modification_dict('protein_modification.txt', met_list, \n",
    "                                                  generic=True)\n",
    "add_complex_modification_data(me, modification_dict)"
   ]
  },
  {
   "cell_type": "code",
   "execution_count": 10,
   "metadata": {
    "collapsed": false
   },
   "outputs": [],
   "source": [
    "# two different reactiond can add a lipoate modification.\n",
    "# We create a separate ModificationData for each one\n",
    "lipo = me.modification_data.get_by_id(\"mod_lipo_c\")\n",
    "alt_lipo = ModificationData(\"mod_lipo_c_alt\", me)\n",
    "#alt_lipo.stoichiometry = lipo.stoichiometry\n",
    "\n",
    "lipo.stoichiometry = {\"lipoamp_c\": -1, \"amp_c\": 1}\n",
    "lipo.enzyme = 'EG11796-MONOMER'\n",
    "lipo.keff = 65.\n",
    "\n",
    "alt_lipo.stoichiometry = {'EG50003-MONOMER_mod_pan4p_mod_lipo':-1,\n",
    "                          'EG50003-MONOMER_mod_pan4p':1,\n",
    "                          'h_c':-1,}\n",
    "alt_lipo.enzyme = 'EG11591-MONOMER'\n",
    "alt_lipo.keff = 65.\n",
    "\n",
    "for cplx_data in lipo.get_complex_data():\n",
    "    alt_cplx_data = ComplexData(cplx_data.id + \"alt\", me)\n",
    "    alt_cplx_data.complex_id = cplx_data.complex_id\n",
    "    alt_cplx_data.translocation = cplx_data.translocation\n",
    "    alt_cplx_data.chaperones = cplx_data.chaperones\n",
    "    alt_cplx_data.modifications = cplx_data.modifications\n",
    "    alt_cplx_data.modifications[alt_lipo.id] = \\\n",
    "        alt_cplx_data.modifications.pop(lipo.id)"
   ]
  },
  {
   "cell_type": "code",
   "execution_count": 11,
   "metadata": {
    "collapsed": true
   },
   "outputs": [],
   "source": [
    "# todo bmocogdp_c mods\n",
    "# todo FE-S modifications\n",
    "mod_catalysts = {'CPLX0-1762':'G6712-MONOMER', # FE-S modification\n",
    "                 'TMAOREDUCTI-CPLX':'EG12195-MONOMER',\n",
    "                 'DIMESULFREDUCT-CPLX':'G6849-MONOMER',\n",
    "                 'NITRATREDUCTA-CPLX':'NARJ-MONOMER', \n",
    "                 'NITRATREDUCTZ-CPLX':'NARW-MONOMER',\n",
    "                 'NAP-CPLX':'NAPD-MONOMER',\n",
    "                 'NAPAB-CPLX_NAPC-MONOMER':'NAPD-MONOMER'}"
   ]
  },
  {
   "cell_type": "code",
   "execution_count": 12,
   "metadata": {
    "collapsed": false
   },
   "outputs": [
    {
     "name": "stdout",
     "output_type": "stream",
     "text": [
      "unknown metabolite '4fe4s_c' created\n",
      "unknown metabolite 'LI_c' created\n",
      "unknown metabolite '2fe2s_c' created\n",
      "unknown metabolite '3fe4s_c' created\n",
      "unknown metabolite 'NiFeCoCN2_c' created\n",
      "unknown metabolite 'acetyl_c' created\n"
     ]
    }
   ],
   "source": [
    "target_list = ['4fe4s_c', 'LI_c', '2fe2s_c', '3fe4s_c',\n",
    "               'NiFeCoCN2_c', 'acetyl_c',\n",
    "               'RNase_m5','RNase_m16','RNase_m23'] # RNAses are gaps in model\n",
    "\n",
    "for met_id in target_list:\n",
    "    r = cobra.Reaction(\"EX_\" + met_id)\n",
    "    me.add_reaction(r)\n",
    "    r.reaction = met_id + \" <=> \""
   ]
  },
  {
   "cell_type": "markdown",
   "metadata": {},
   "source": [
    "Build all complex formation reactions"
   ]
  },
  {
   "cell_type": "code",
   "execution_count": 13,
   "metadata": {
    "collapsed": false,
    "scrolled": true
   },
   "outputs": [
    {
     "name": "stdout",
     "output_type": "stream",
     "text": [
      "Created <Metabolite cdec3e_c at 0x7f212de42a10> in <ComplexFormation formation_EG50003-MONOMER_mod_pan4p_mod_cdec3e at 0x7f212de42990>\n",
      "Created <Metabolite pqq_c at 0x7f212dbaad90> in <ComplexFormation formation_GLUCDEHYDROG-MONOMER_mod_pqq at 0x7f212dbaad10>\n",
      "Created <Metabolite cddec5e_c at 0x7f212dbd2c90> in <ComplexFormation formation_EG50003-MONOMER_mod_pan4p_mod_cddec5e at 0x7f212dbd2c10>\n",
      "Created <Metabolite hemed_c at 0x7f212dbd2dd0> in <ComplexFormation formation_CYT-D-UBIOX-CPLX_mod_pheme_mod_hemed at 0x7f212dbd2d50>\n",
      "Created <Metabolite cosh_c at 0x7f212dab8410> in <ComplexFormation formation_EG11597-MONOMER_mod_cosh at 0x7f212dab8390>\n",
      "Created <Metabolite EG50003-MONOMER_mod_pan4p at 0x7f212dab8cd0> in <ComplexFormation formation_GCVMULTI-CPLX_mod_lipo at 0x7f212dab8c50>\n",
      "Created <Metabolite EG50003-MONOMER_mod_pan4p_mod_lipo at 0x7f212dab8d10> in <ComplexFormation formation_GCVMULTI-CPLX_mod_lipo at 0x7f212dab8c50>\n",
      "Created <Metabolite 23bpg_c at 0x7f212d21db50> in <ComplexFormation formation_PHOSGLYCMUTASE_mod_23bpg at 0x7f212d21dad0>\n",
      "Created <Metabolite dpm_c at 0x7f212e639350> in <ComplexFormation formation_OHMETHYLBILANESYN-MONOMER_mod_dpm at 0x7f212e6392d0>\n",
      "Created <Metabolite coo_c at 0x7f212e65e250> in <ComplexFormation formation_EG11597-MONOMER_mod_coo at 0x7f212e65e1d0>\n",
      "Created <Metabolite tl_c at 0x7f212e5ca190> in <ComplexFormation formation_S-ADENMETSYN-CPLX_mod_4:tl_mod_1:generic_divalent at 0x7f212e5ca110>\n"
     ]
    }
   ],
   "source": [
    "for cplx_data in me.complex_data:\n",
    "    formation = cplx_data.formation\n",
    "    if formation:\n",
    "        formation.update()\n",
    "    else:\n",
    "        cplx_data.create_complex_formation()"
   ]
  },
  {
   "cell_type": "markdown",
   "metadata": {},
   "source": [
    "Crutch reactions for mets that are blocked. TODO remove"
   ]
  },
  {
   "cell_type": "markdown",
   "metadata": {},
   "source": [
    "## Associate Complexes with Reactions"
   ]
  },
  {
   "cell_type": "code",
   "execution_count": 14,
   "metadata": {
    "collapsed": false
   },
   "outputs": [
    {
     "name": "stdout",
     "output_type": "stream",
     "text": [
      "Fixed _DASH:  D__LACtex\n",
      "Fixed _DASH:  L__LACD2\n",
      "Fixed _DASH:  L__LACD3\n",
      "Fixed _DASH:  D__LACt2pp\n",
      "Fixed _DASH:  L__LACtex\n",
      "Fixed _DASH:  L__LACt2rpp\n"
     ]
    }
   ],
   "source": [
    "# associate reaction id with the old ME complex id (including modifications)\n",
    "rxnToModCplxDict = get_reaction_to_modified_complex(generic=True)"
   ]
  },
  {
   "cell_type": "code",
   "execution_count": 15,
   "metadata": {
    "collapsed": false
   },
   "outputs": [
    {
     "name": "stdout",
     "output_type": "stream",
     "text": [
      "Created <Metabolite CPLX0-7817_mod_Oxidized at 0x7f212e096990> in <MetabolicReaction RNDR1b3_FWD_RIBONUCLEOSIDE-DIP-REDUCTII-CPLX at 0x7f212e096950>\n",
      "Created <Metabolite GLUTAREDOXIN-MONOMER_mod_Oxidized at 0x7f212e096a10> in <MetabolicReaction RNDR1b1_FWD_RIBONUCLEOSIDE-DIP-REDUCTII-CPLX at 0x7f212e0969d0>\n",
      "Created <Metabolite GRXC-MONOMER_mod_Oxidized at 0x7f212e096a90> in <MetabolicReaction RNDR1b4_FWD_RIBONUCLEOSIDE-DIP-REDUCTII-CPLX at 0x7f212e096a50>\n",
      "Created <Metabolite GRXB-MONOMER_mod_Oxidized at 0x7f212e096c10> in <MetabolicReaction RNDR1b2_FWD_RIBONUCLEOSIDE-DIP-REDUCTII-CPLX at 0x7f212e096bd0>\n",
      "Created <Metabolite EG50003-MONOMER_mod_pan4p_mod_3ha at 0x7f212dffa250> in <MetabolicReaction 3OAR401_REV_3-OXOACYL-ACP-REDUCT-MONOMER at 0x7f212dffa210>\n",
      "Created <Metabolite EG50003-MONOMER_mod_pan4p_mod_act at 0x7f212dffa290> in <MetabolicReaction 3OAR401_REV_3-OXOACYL-ACP-REDUCT-MONOMER at 0x7f212dffa210>\n",
      "Created <Metabolite EG50003-MONOMER_mod_pan4p_mod_ddca at 0x7f212dffa410> in <MetabolicReaction ACPPAT1201_FWD_EG11437-MONOMER at 0x7f212dffa3d0>\n",
      "Created <Metabolite EG50003-MONOMER_mod_pan4p_mod_mal at 0x7f212dffa4d0> in <MetabolicReaction 3OAS1401_FWD_FABB-CPLX at 0x7f212dffa490>\n",
      "Created <Metabolite EG50003-MONOMER_mod_pan4p_mod_3omrs at 0x7f212dffa510> in <MetabolicReaction 3OAS1401_FWD_FABB-CPLX at 0x7f212dffa490>\n",
      "Created <Metabolite EG50003-MONOMER_mod_pan4p_mod_pim at 0x7f212dffa8d0> in <MetabolicReaction AOXSr21_FWD_7KAPSYN-CPLX at 0x7f212dffa890>\n",
      "Created <Metabolite CPLX0-1341_mod_1:2fe2s_mod_1:fe2 at 0x7f212df75450> in <MetabolicReaction SufBCD_mod_1:2Fe2S_mod_1:fe2atp_mediated_FE_loading_FWD_CPLX_dummy at 0x7f212df75410>\n",
      "Created <Metabolite CPLX0-1341_mod_1:2fe2s_mod_2:fe2 at 0x7f212df75490> in <MetabolicReaction SufBCD_mod_1:2Fe2S_mod_1:fe2atp_mediated_FE_loading_FWD_CPLX_dummy at 0x7f212df75410>\n",
      "Created <Metabolite EG50003-MONOMER_mod_pan4p_mod_opme at 0x7f212df91710> in <MetabolicReaction OPMEACPS1_FWD_FABB-CPLX at 0x7f212df916d0>\n",
      "Created <Metabolite EG50003-MONOMER_mod_pan4p_mod_gme at 0x7f212df91750> in <MetabolicReaction OPMEACPS1_FWD_FABB-CPLX at 0x7f212df916d0>\n",
      "Created <Metabolite EG50003-MONOMER_mod_pan4p_mod_t3c5ddece at 0x7f212dd6dd50> in <MetabolicReaction 3HAD1211_FWD_FABZ-CPLX at 0x7f212dd6dd10>\n",
      "Created <Metabolite EG50003-MONOMER_mod_pan4p_mod_3hcddec5e at 0x7f212dd6dd90> in <MetabolicReaction 3HAD1211_FWD_FABZ-CPLX at 0x7f212dd6dd10>\n",
      "Created <Metabolite EG50003-MONOMER_mod_pan4p_mod_3hcpalm9e at 0x7f212dd87a90> in <MetabolicReaction 3OAR1611_FWD_3-OXOACYL-ACP-REDUCT-MONOMER at 0x7f212dd87a50>\n",
      "Created <Metabolite EG50003-MONOMER_mod_pan4p_mod_3ocpalm9e at 0x7f212dd87ad0> in <MetabolicReaction 3OAR1611_FWD_3-OXOACYL-ACP-REDUCT-MONOMER at 0x7f212dd87a50>\n",
      "Created <Metabolite EG11653-MONOMER_mod_1:fe2 at 0x7f212d862090> in <MetabolicReaction Fe_transfer_CyaY_mod_1:fe2_to_IscU_mod_1:fe2_FWD_CPLX_dummy at 0x7f212d862050>\n",
      "Created <Metabolite IscU_mod_1:fe2 at 0x7f212d8620d0> in <MetabolicReaction Fe_transfer_CyaY_mod_1:fe2_to_IscU_mod_1:fe2_FWD_CPLX_dummy at 0x7f212d862050>\n",
      "Created <Metabolite IscU_mod_2:fe2 at 0x7f212d862110> in <MetabolicReaction Fe_transfer_CyaY_mod_1:fe2_to_IscU_mod_1:fe2_FWD_CPLX_dummy at 0x7f212d862050>\n",
      "Created <Metabolite EG50003-MONOMER_mod_pan4p_mod_3ooct at 0x7f212d862f90> in <MetabolicReaction 3OAS801_FWD_FABB-CPLX at 0x7f212d862f50>\n",
      "Created <Metabolite EG50003-MONOMER_mod_pan4p_mod_hex at 0x7f212d862fd0> in <MetabolicReaction 3OAS801_FWD_FABB-CPLX at 0x7f212d862f50>\n",
      "Created <Metabolite EG50003-MONOMER_mod_pan4p_mod_tddec2e at 0x7f212d87d050> in <MetabolicReaction EAR120y1_FWD_ENOYL-ACP-REDUCT-NADH-MONOMER at 0x7f212df75810>\n",
      "Created <Metabolite EG50003-MONOMER_mod_pan4p_mod_3hmrs at 0x7f212d87d410> in <MetabolicReaction U23GAAT1_FWD_UDPHYDROXYMYRGLUCOSAMNACETYLTRANS-MONO at 0x7f212d87d390>\n",
      "Created <Metabolite EG50003-MONOMER_mod_pan4p_mod_3hhex at 0x7f212d5b9290> in <MetabolicReaction 3HAD601_FWD_FABZ-CPLX at 0x7f212d5b9250>\n",
      "Created <Metabolite EG50003-MONOMER_mod_pan4p_mod_thex2e at 0x7f212d5b92d0> in <MetabolicReaction 3HAD601_FWD_FABZ-CPLX at 0x7f212d5b9250>\n",
      "Created <Metabolite EG50003-MONOMER_mod_pan4p_mod_t3c9palme at 0x7f212d5b9a10> in <MetabolicReaction 3HAD1611_FWD_FABZ-CPLX at 0x7f212d5b99d0>\n",
      "Created <Metabolite EG50003-MONOMER_mod_pan4p_mod_tde at 0x7f212d36bed0> in <MetabolicReaction FA141ACPHi1_FWD_EG11095-MONOMER_mod_generic_divalent_mod_fe2_mod_generic_divalent_mod_generic_divalent_mod_generic_divalent at 0x7f212d36be90>\n",
      "Created <Metabolite IscU_mod_1:2fe2s_mod_2:fe2 at 0x7f212d387950> in <MetabolicReaction Fe_transfer_CyaY_mod_1:fe2_to_IscU_mod_1:2Fe2S_mod_1:fe2_FWD_CPLX_dummy at 0x7f212d387910>\n",
      "Created <Metabolite IscU_mod_1:2fe2s_mod_1:fe2 at 0x7f212d387990> in <MetabolicReaction Fe_transfer_CyaY_mod_1:fe2_to_IscU_mod_1:2Fe2S_mod_1:fe2_FWD_CPLX_dummy at 0x7f212d387910>\n",
      "Created <Metabolite RED-THIOREDOXIN-MONOMER_mod_Oxidized at 0x7f212d387d50> in <MetabolicReaction DSBDR1_FWD_CPLX_dummy at 0x7f212d387d10>\n",
      "Created <Metabolite DSBD-MONOMER_mod_Oxidized at 0x7f212d387d90> in <MetabolicReaction DSBDR1_FWD_CPLX_dummy at 0x7f212d387d10>\n",
      "Created <Metabolite RED-THIOREDOXIN2-MONOMER_mod_Oxidized at 0x7f212d387e50> in <MetabolicReaction DSBDR2_FWD_CPLX_dummy at 0x7f212d387e10>\n",
      "Created <Metabolite EG50003-MONOMER_mod_pan4p_mod_hpme at 0x7f212d3a0b90> in <MetabolicReaction OPMEACPR1_FWD_3-OXOACYL-ACP-REDUCT-MONOMER at 0x7f212d3a0a50>\n",
      "Created <Metabolite EG50003-MONOMER_mod_pan4p_mod_epme at 0x7f212b387690> in <MetabolicReaction EPMEACPR1_FWD_ENOYL-ACP-REDUCT-NADH-MONOMER at 0x7f212b387650>\n",
      "Created <Metabolite EG50003-MONOMER_mod_pan4p_mod_pme at 0x7f212b3876d0> in <MetabolicReaction EPMEACPR1_FWD_ENOYL-ACP-REDUCT-NADH-MONOMER at 0x7f212b387650>\n",
      "Created <Metabolite CPLX0-246_CPLX0-1342_mod_pydx5p_mod_1:SH at 0x7f212b394a10> in <MetabolicReaction SCYSDS1_FWD_CPLX_dummy at 0x7f212b3949d0>\n",
      "Created <Metabolite EG50003-MONOMER_mod_pan4p_mod_oc at 0x7f212b394a50> in <MetabolicReaction AACPS91_FWD_AAS-MONOMER_mod_generic_divalent at 0x7f212b394950>\n",
      "Created <Metabolite CPLX0-1341_mod_1:2fe2s at 0x7f212b394c90> in <MetabolicReaction S_transfer_to_SufBCD_mod_1:2Fe1S_FWD_CPLX_dummy at 0x7f212b394c50>\n",
      "Created <Metabolite CPLX0-1341_mod_1:2fe1s at 0x7f212b394cd0> in <MetabolicReaction S_transfer_to_SufBCD_mod_1:2Fe1S_FWD_CPLX_dummy at 0x7f212b394c50>\n",
      "Created <Metabolite EG50003-MONOMER_mod_pan4p_mod_palm at 0x7f212e6a6590> in <MetabolicReaction AGPAT1601_FWD_1-ACYLGLYCEROL-3-P-ACYLTRANSFER-MONOMER at 0x7f212e6a6550>\n",
      "Created <Metabolite EG50003-MONOMER_mod_pan4p_mod_3hpalm at 0x7f212e6d9310> in <MetabolicReaction 3HAD1601_FWD_FABZ-CPLX at 0x7f212e6d92d0>\n",
      "Created <Metabolite EG50003-MONOMER_mod_pan4p_mod_tpalm2e at 0x7f212e6d9350> in <MetabolicReaction 3HAD1601_FWD_FABZ-CPLX at 0x7f212e6d92d0>\n",
      "Created <Metabolite EG50003-MONOMER_mod_pan4p_mod_ocdca at 0x7f212e6d9450> in <MetabolicReaction G3PAT1801_FWD_GLYCEROL-3-P-ACYLTRANSFER-MONOMER at 0x7f212e6d9410>\n",
      "Created <Metabolite CPLX0-1341_mod_2:2fe2s at 0x7f212e4a7a50> in <MetabolicReaction SufBCD_2:2fe2s_to_SufBCD_1:4fe4s_FWD_CPLX_dummy at 0x7f212e4a79d0>\n",
      "Created <Metabolite CPLX0-1341_mod_1:4fe4s at 0x7f212e4a7a10> in <MetabolicReaction SufBCD_2:2fe2s_to_SufBCD_1:4fe4s_FWD_CPLX_dummy at 0x7f212e4a79d0>\n",
      "Created <Metabolite DISULFOXRED-MONOMER at 0x7f212e2d0750> in <MetabolicReaction DSBAO11_FWD_DSBBPROT-MONOMER at 0x7f212e2d0710>\n",
      "Created <Metabolite DISULFOXRED-MONOMER_mod_Oxidized at 0x7f212e2d0790> in <MetabolicReaction DSBAO11_FWD_DSBBPROT-MONOMER at 0x7f212e2d0710>\n",
      "Created <Metabolite CPLX-7524_mod_mn2 at 0x7f212e2d0dd0> in <MetabolicReaction 4Fe4S_to_ErpA_by_IscU_FWD_EG12130-MONOMER_EG12131-MONOMER at 0x7f212e2d0d90>\n",
      "Created <Metabolite IscU_mod_1:4fe4s at 0x7f212e2d0e10> in <MetabolicReaction 4Fe4S_to_ErpA_by_IscU_FWD_EG12130-MONOMER_EG12131-MONOMER at 0x7f212e2d0d90>\n",
      "Created <Metabolite CPLX-7524_mod_mn2_mod_1:4fe4s at 0x7f212e2d0e50> in <MetabolicReaction 4Fe4S_to_ErpA_by_IscU_FWD_EG12130-MONOMER_EG12131-MONOMER at 0x7f212e2d0d90>\n",
      "Created <Metabolite EG50003-MONOMER_mod_pan4p_mod_hde at 0x7f212e2264d0> in <MetabolicReaction AGPAT1611_FWD_1-ACYLGLYCEROL-3-P-ACYLTRANSFER-MONOMER at 0x7f212e226490>\n",
      "Created <Metabolite EG50003-MONOMER_mod_pan4p_mod_3ocddec5e at 0x7f212e242e90> in <MetabolicReaction 3OAS1211_FWD_FABB-CPLX at 0x7f212e242e50>\n",
      "Created <Metabolite IscS_mod_2:pydx5p at 0x7f212e256bd0> in <MetabolicReaction S_transfer_to_IscU_mod_1:2Fe2S_mod_2:fe2_FWD_CPLX_dummy at 0x7f212e256b90>\n",
      "Created <Metabolite IscU_mod_1:2fe2s_mod_1:2fe1s at 0x7f212e256c10> in <MetabolicReaction S_transfer_to_IscU_mod_1:2Fe2S_mod_2:fe2_FWD_CPLX_dummy at 0x7f212e256b90>\n",
      "Created <Metabolite IscS_mod_2:pydx5p_mod_1:SH at 0x7f212e256c50> in <MetabolicReaction S_transfer_to_IscU_mod_1:2Fe2S_mod_2:fe2_FWD_CPLX_dummy at 0x7f212e256b90>\n",
      "Created <Metabolite EG50003-MONOMER_mod_pan4p_mod_octe at 0x7f212e256fd0> in <MetabolicReaction G3PAT1811_FWD_GLYCEROL-3-P-ACYLTRANSFER-MONOMER at 0x7f212e256f90>\n",
      "Created <Metabolite EG50003-MONOMER_mod_pan4p_mod_3hcmrs7e at 0x7f212e1755d0> in <MetabolicReaction 3HAD1411_FWD_FABZ-CPLX at 0x7f212e175590>\n",
      "Created <Metabolite EG50003-MONOMER_mod_pan4p_mod_t3c7mrse at 0x7f212e175610> in <MetabolicReaction 3HAD1411_FWD_FABZ-CPLX at 0x7f212e175590>\n",
      "Created <Metabolite FLAVODOXIN1-MONOMER_mod_Oxidized at 0x7f212e175c50> in <MetabolicReaction RNTR1c21_FWD_RIBONUCLEOSIDE-TRIP-REDUCT-CPLX at 0x7f212e175b90>\n",
      "Created <Metabolite FLAVODOXIN2-MONOMER_mod_Oxidized at 0x7f212e175d10> in <MetabolicReaction RNTR1c22_FWD_RIBONUCLEOSIDE-TRIP-REDUCT-CPLX at 0x7f212e175cd0>\n",
      "Created <Metabolite EG50003-MONOMER_mod_pan4p_mod_dca at 0x7f212e191050> in <MetabolicReaction EAR100x1_FWD_ENOYL-ACP-REDUCT-NADH-MONOMER at 0x7f212e175fd0>\n",
      "Created <Metabolite EG50003-MONOMER_mod_pan4p_mod_tdec2e at 0x7f212e191090> in <MetabolicReaction EAR100x1_FWD_ENOYL-ACP-REDUCT-NADH-MONOMER at 0x7f212e175fd0>\n",
      "Created <Metabolite CPLX0-7824_mod_1:4fe4s at 0x7f212de83550> in <MetabolicReaction 4Fe4S_to_ErpA_by_SufA_FWD_CPLX_dummy at 0x7f212de83510>\n",
      "Created <Metabolite EG50003-MONOMER_mod_pan4p_mod_egme at 0x7f212ddd7750> in <MetabolicReaction OGMEACPD1_FWD_FABZ-CPLX at 0x7f212ddd7710>\n",
      "Created <Metabolite EG50003-MONOMER_mod_pan4p_mod_hgme at 0x7f212ddd7790> in <MetabolicReaction OGMEACPD1_FWD_FABZ-CPLX at 0x7f212ddd7710>\n",
      "Created <Metabolite EG50003-MONOMER_mod_pan4p_mod_ogme at 0x7f212ddd77d0> in <MetabolicReaction OGMEACPR1_FWD_3-OXOACYL-ACP-REDUCT-MONOMER at 0x7f212ddd7810>\n",
      "Created <Metabolite IscU_mod_1:2fe1s at 0x7f212dcf5f90> in <MetabolicReaction S_transfer_to_IscU_mod_2:fe2_FWD_CPLX_dummy at 0x7f212dcf5f50>\n",
      "Created <Metabolite EG50003-MONOMER_mod_pan4p_mod_3oddec at 0x7f212dd10950> in <MetabolicReaction 3OAS1201_FWD_FABB-CPLX at 0x7f212dd10910>\n",
      "Created <Metabolite EG50003-MONOMER_mod_pan4p_mod_tmrs2e at 0x7f212dca9710> in <MetabolicReaction 3HAD1401_FWD_FABZ-CPLX at 0x7f212dca96d0>\n",
      "Created <Metabolite IscU_mod_2:2fe2s at 0x7f212dca9bd0> in <MetabolicReaction I4FE4SR1_FWD_CPLX_dummy at 0x7f212dca9b90>\n",
      "Created <Metabolite IscU_mod_1:2fe2s at 0x7f212dcc4d10> in <MetabolicReaction Fe_transfer_CyaY_mod_1:fe2_to_IscU_mod_1:2Fe2S_FWD_CPLX_dummy at 0x7f212dcc4d50>\n",
      "Created <Metabolite DSBG-CPLX_mod_Oxidized at 0x7f212db81750> in <MetabolicReaction DSBGGT1_FWD_CPLX_dummy at 0x7f212db81710>\n",
      "Created <Metabolite EG50003-MONOMER_mod_pan4p_mod_toct2e at 0x7f212db2e290> in <MetabolicReaction EAR80x1_FWD_ENOYL-ACP-REDUCT-NADH-MONOMER at 0x7f212db2e250>\n",
      "Created <Metabolite IscA_tetra_mod_1:4fe4s at 0x7f212db2e490> in <MetabolicReaction 4Fe4S_to_IscA_by_IscU_FWD_EG12130-MONOMER_EG12131-MONOMER at 0x7f212db2e450>\n",
      "Created <Metabolite IscA_tetra_mod_1:2fe2s at 0x7f212db4a910> in <MetabolicReaction 2Fe2S_to_IscA_by_IscU_FWD_EG12130-MONOMER_EG12131-MONOMER at 0x7f212db4a8d0>\n",
      "Created <Metabolite DSBC-CPLX_mod_Oxidized at 0x7f212da5ea50> in <MetabolicReaction DSBCGT1_FWD_CPLX_dummy at 0x7f212da5ea10>\n",
      "Created <Metabolite EG50003-MONOMER_mod_pan4p_mod_ac at 0x7f212d8b90d0> in <MetabolicReaction KAS141_FWD_FABB-CPLX at 0x7f212d8b9090>\n",
      "Created <Metabolite EG11597-MONOMER_mod_amp at 0x7f212d8b95d0> in <MetabolicReaction MPTSS1_FWD_EG10154-MONOMER at 0x7f212d8b9590>\n",
      "Created <Metabolite CPLX0-1341_mod_1:2fe2s_mod_1:2fe1s at 0x7f212d7ae450> in <MetabolicReaction S_transfer_to_SufBCD_mod_1:2Fe2S_mod_1:2Fe1S_FWD_CPLX_dummy at 0x7f212d7ae410>\n",
      "Created <Metabolite EG50003-MONOMER_mod_pan4p_mod_3ocmrs7e at 0x7f212d7218d0> in <MetabolicReaction 3OAR1411_FWD_3-OXOACYL-ACP-REDUCT-MONOMER at 0x7f212d721910>\n",
      "Created <Metabolite CPLX0-1341_mod_2:fe2 at 0x7f212d721a90> in <MetabolicReaction S_transfer_to_SufBCD_mod_2:fe2_FWD_CPLX_dummy at 0x7f212d721b10>\n",
      "Created <Metabolite CPLX0-1341_mod_1:fe2 at 0x7f212d721c90> in <MetabolicReaction SufBCD_mod_1:fe2atp_mediated_FE_loading_FWD_CPLX_dummy at 0x7f212d721cd0>\n",
      "Created <Metabolite EG50003-MONOMER_mod_pan4p_mod_3hoct at 0x7f212d671890> in <MetabolicReaction 3OAR801_REV_3-OXOACYL-ACP-REDUCT-MONOMER at 0x7f212d671850>\n",
      "Created <Metabolite EG50003-MONOMER_mod_pan4p_mod_3odec at 0x7f212d671dd0> in <MetabolicReaction 3OAS1001_FWD_FABB-CPLX at 0x7f212d671d90>\n",
      "Created <Metabolite EG50003-MONOMER_mod_pan4p_mod_myrs at 0x7f212d6901d0> in <MetabolicReaction EDTXS21_FWD_MYRISTOYLACYLTRAN-MONOMER at 0x7f212d690190>\n",
      "Created <Metabolite EG10544-MONOMER_mod_palmitate at 0x7f212d55efd0> in <MetabolicReaction ALPATG160pp1_FWD_EG10168-MONOMER at 0x7f212d55ef90>\n",
      "Created <Metabolite EG50003-MONOMER_mod_pan4p_mod_3ohex at 0x7f212d26de50> in <MetabolicReaction 3OAS601_FWD_FABB-CPLX at 0x7f212d26de10>\n",
      "Created <Metabolite EG50003-MONOMER_mod_pan4p_mod_but at 0x7f212d26de90> in <MetabolicReaction 3OAS601_FWD_FABB-CPLX at 0x7f212d26de10>\n",
      "Created <Metabolite EG50003-MONOMER_mod_pan4p_mod_3hddec at 0x7f212d1a3a10> in <MetabolicReaction 3OAR1201_REV_3-OXOACYL-ACP-REDUCT-MONOMER at 0x7f212d1a39d0>\n",
      "Created <Metabolite EG50003-MONOMER_mod_pan4p_mod_toctd2e at 0x7f212e424050> in <MetabolicReaction EAR180y1_FWD_ENOYL-ACP-REDUCT-NADH-MONOMER at 0x7f212d18efd0>\n",
      "Created <Metabolite EG50003-MONOMER_mod_pan4p_mod_but2e at 0x7f212e3eea90> in <MetabolicReaction EAR40x1_FWD_ENOYL-ACP-REDUCT-NADH-MONOMER at 0x7f212e3eead0>\n",
      "Created <Metabolite EG50003-MONOMER_mod_pan4p_mod_3ooctd at 0x7f212e406890> in <MetabolicReaction 3OAS1801_FWD_FABB-CPLX at 0x7f212e406850>\n",
      "Created <Metabolite EG50003-MONOMER_mod_pan4p_mod_3opalm at 0x7f212e3d8710> in <MetabolicReaction 3OAS1601_FWD_FABB-CPLX at 0x7f212e3d86d0>\n",
      "Created <Metabolite CPLX-7524_mod_mn2_mod_1:2fe2s at 0x7f212e332490> in <MetabolicReaction 2Fe2S_to_ErpA_by_SufA_FWD_CPLX_dummy at 0x7f212e332450>\n",
      "Created <Metabolite CPLX0-7824_mod_1:2fe2s at 0x7f212e3324d0> in <MetabolicReaction 2Fe2S_to_ErpA_by_SufA_FWD_CPLX_dummy at 0x7f212e332450>\n",
      "Created <Metabolite EG50003-MONOMER_mod_pan4p_mod_3hdec at 0x7f212dea5e50> in <MetabolicReaction 3OAR1001_REV_3-OXOACYL-ACP-REDUCT-MONOMER at 0x7f212dea5e10>\n",
      "Created <Metabolite EG50003-MONOMER_mod_pan4p_mod_t3c11vace at 0x7f212d95c6d0> in <MetabolicReaction EAR181x1_FWD_ENOYL-ACP-REDUCT-NADH-MONOMER at 0x7f212d95c690>\n",
      "Created <Metabolite EG50003-MONOMER_mod_pan4p_mod_3hocta at 0x7f212d336250> in <MetabolicReaction 3OAR1801_REV_3-OXOACYL-ACP-REDUCT-MONOMER at 0x7f212d336150>\n",
      "Created <Metabolite EG50003-MONOMER_mod_pan4p_mod_3hcvac11e at 0x7f212d34fd10> in <MetabolicReaction 3HAD1811_FWD_FABZ-CPLX at 0x7f212d34fcd0>\n",
      "Created <Metabolite EG50003-MONOMER_mod_pan4p_mod_3ocvac11e at 0x7f212e582310> in <MetabolicReaction 3OAR1811_FWD_3-OXOACYL-ACP-REDUCT-MONOMER at 0x7f212e5822d0>\n",
      "Created <Metabolite generic_glu_tRNA at 0x7f212d3aa890> in <MetabolicReaction GLUTRR_FWD_CPLX0-3741 at 0x7f212d3aa850>\n",
      "Created <Metabolite CPLX0-782_mod_2:4fe4s at 0x7f212d3aa910> in <MetabolicReaction acp_lipoate_synthase_FWD_None at 0x7f212d3aa950>\n",
      "Created <Metabolite CPLX0-782_mod_1:2fe2s_mod_1:4fe4s at 0x7f212d3aa990> in <MetabolicReaction acp_lipoate_synthase_FWD_None at 0x7f212d3aa950>\n"
     ]
    }
   ],
   "source": [
    "for reaction_data in me.stoichiometric_data:\n",
    "    add_metabolic_reactions(me, reaction_data, rxnToModCplxDict, rxn_info, update=True,\n",
    "                            create_new=True)"
   ]
  },
  {
   "cell_type": "code",
   "execution_count": 16,
   "metadata": {
    "collapsed": false
   },
   "outputs": [
    {
     "data": {
      "text/plain": [
       "'2tpr3dpcoa_c + 4.27350427350427e-6*mu G6340-MONOMER --> '"
      ]
     },
     "execution_count": 16,
     "metadata": {},
     "output_type": "execute_result"
    }
   ],
   "source": [
    "# This reaction is weird\n",
    "me.reactions.get_by_id('CITLY-CPLX_2tpr3dpcoa_FWD_G6340-MONOMER').reaction"
   ]
  },
  {
   "cell_type": "markdown",
   "metadata": {},
   "source": [
    "Rebuild transcription and translation to use tRNA (now that tRNA synthetase complexes are in the model"
   ]
  },
  {
   "cell_type": "code",
   "execution_count": 17,
   "metadata": {
    "collapsed": false
   },
   "outputs": [],
   "source": [
    "for r in me.reactions:\n",
    "    if isinstance(r, tRNAChargingReaction):\n",
    "        r.update()\n",
    "for r in me.reactions:\n",
    "    if isinstance(r, TranslationReaction):\n",
    "        r.update()\n",
    "    if isinstance(r, TranscriptionReaction):\n",
    "        r.update()\n",
    "    if isinstance(r, MetabolicReaction):\n",
    "        r.update()"
   ]
  },
  {
   "cell_type": "code",
   "execution_count": 18,
   "metadata": {
    "collapsed": false
   },
   "outputs": [
    {
     "data": {
      "text/plain": [
       "'7 h2o_c + 0.0229401207374776*mu + 0.00896958720835373 RNA_Polymerase + 1703 ctp_c + 1488 utp_c + 4.27350427350427e-6*mu rRNA_containing_excision_set + 1252 gtp_c + 1181 atp_c --> RNA_b3275 + excised_TU_M_3424806_3424978_False + excised_TU_M_3425055_3427069_True + RNA_b3274 + RNA_b3276 + excised_TU_M_3421810_3421900_False + RNA_b3272 + 7 h_c + 1790.80534926 biomass + 5623 ppi_c + excised_TU_M_3421565_3421688_False'"
      ]
     },
     "execution_count": 18,
     "metadata": {},
     "output_type": "execute_result"
    }
   ],
   "source": [
    "me.reactions.transcription_TU0_1191_from_RPOH_MONOMER_slice_69.reaction"
   ]
  },
  {
   "cell_type": "markdown",
   "metadata": {},
   "source": [
    "## Add in translocation"
   ]
  },
  {
   "cell_type": "code",
   "execution_count": 19,
   "metadata": {
    "collapsed": false
   },
   "outputs": [],
   "source": [
    "translocPath = pandas.read_csv(join(ecoli_files_dir, \"translocation_pathways.txt\"),sep='\\t')\n",
    "\n",
    "for index, row in translocPath.iterrows():\n",
    "    translocRxn = ProteinTranslocationData(row.Reaction_name, me)\n",
    "    translocRxn.keff = float(row.Keff)\n",
    "    translocRxn.costs_complexes = row.Complexes.split(' AND ')"
   ]
  },
  {
   "cell_type": "code",
   "execution_count": 20,
   "metadata": {
    "collapsed": false,
    "scrolled": true
   },
   "outputs": [
    {
     "name": "stdout",
     "output_type": "stream",
     "text": [
      "sb\n",
      "pla\n",
      "sb\n",
      "sb\n",
      "sb\n",
      "pa\n",
      "sb\n",
      "sb\n",
      "pla\n",
      "pla\n",
      "sb\n",
      "sb\n",
      "sb\n",
      "pla\n",
      "pa\n",
      "sb\n",
      "sb\n",
      "sb\n",
      "pa\n",
      "sb\n",
      "sb\n",
      "sb\n",
      "sb\n",
      "sb\n",
      "sb\n",
      "sb\n",
      "pla\n",
      "pa\n",
      "sb\n",
      "sb\n",
      "sb\n",
      "pla\n",
      "sb\n",
      "sb\n",
      "pla\n",
      "sb\n",
      "pla\n",
      "pla\n",
      "pla\n",
      "pla\n",
      "sb\n",
      "pla\n",
      "ra\n"
     ]
    }
   ],
   "source": [
    "proteins_sa_coeff_inner={}\n",
    "\n",
    "transloc = pandas.read_csv(join(ecoli_files_dir, \"peptide_compartment_and_pathways2.txt\"), sep='\\t', comment=\"#\")\n",
    "for index, row in transloc.iterrows():\n",
    "    me.metabolites.get_by_id(row.Complex).compartment = row.Complex_compartment\n",
    "    me.metabolites.get_by_id('protein_'+row.Protein.split('(')[0]).compartment = row.Protein_compartment\n",
    "    #if index > 316:\n",
    "    #    continue\n",
    "    if row.translocase_pathway=='s':\n",
    "        me.translocation_pathways.srp_translocation.add_translocation_cost(me,row.Complex,row.Protein)\n",
    "        \n",
    "        ## This is in preparation for membrane constraint\n",
    "        mass = me.translation_data.get_by_id(row.Protein.split('(')[0]).mass\n",
    "        if row.Complex in proteins_sa_coeff_inner.keys():\n",
    "            proteins_sa_coeff_inner[row.Complex]+=mass*1.21/42.*2\n",
    "        else:\n",
    "            proteins_sa_coeff_inner[row.Complex]=mass*1.21/42.*2\n",
    "    elif row.translocase_pathway == 'r':\n",
    "        me.translocation_pathways.srp_translocation.add_translocation_cost(me,row.Complex,row.Protein)       \n",
    "    elif row.translocase_pathway == 'p':\n",
    "        me.translocation_pathways.srp_yidC_translocation.add_translocation_cost(me,row.Complex,row.Protein)         \n",
    "    elif row.translocase_pathway =='t':\n",
    "        me.translocation_pathways.tat_translocation.add_translocation_cost(me,row.Complex,row.Protein)\n",
    "    elif row.translocase_pathway=='a':\n",
    "        me.translocation_pathways.srp_translocation.add_translocation_cost(me,row.Complex,row.Protein)\n",
    "        me.translocation_pathways.secA_translocation.add_translocation_cost(me,row.Complex,row.Protein)\n",
    "    elif row.translocase_pathway =='l':\n",
    "        me.translocation_pathways.lol_translocation.add_translocation_cost(me,row.Complex,row.Protein)\n",
    "    elif row.translocase_pathway =='b':\n",
    "        me.translocation_pathways.bam_translocation.add_translocation_cost(me,row.Complex,row.Protein)\n",
    "    elif row.translocase_pathway =='y':\n",
    "        me.translocation_pathways.yidC_translocation.add_translocation_cost(me,row.Complex,row.Protein)        \n",
    "    elif row.translocase_pathway!='n':\n",
    "        print row.translocase_pathway        "
   ]
  },
  {
   "cell_type": "code",
   "execution_count": 21,
   "metadata": {
    "collapsed": false,
    "scrolled": true
   },
   "outputs": [
    {
     "data": {
      "text/plain": [
       "defaultdict(<type 'float'>, {'gdp_c': -3.0, 'SRP-CPLX': 0.0476666666666667*mu, 'protein_b3839': 8.0, 'protein_b3838': 8.0, 'FtsY_MONOMER': 3.41880341880342e-5*mu, 'gtp_c': 3.0, 'pi_c': -3.0, 'Sec-CPLX': 0.0476666666666667*mu, 'YidC_MONOMER': 0.0286666666666667*mu})"
      ]
     },
     "execution_count": 21,
     "metadata": {},
     "output_type": "execute_result"
    }
   ],
   "source": [
    "me.complex_data.get_by_id('TatBC_octa').stoichiometry"
   ]
  },
  {
   "cell_type": "markdown",
   "metadata": {},
   "source": [
    "Remove unused protein and mRNA to make the model solve faster (TODO remove unused complexes too)"
   ]
  },
  {
   "cell_type": "raw",
   "metadata": {
    "collapsed": false
   },
   "source": [
    "one_rxn_list = []\n",
    "for met in me.metabolites:\n",
    "    if len(me.metabolites.get_by_id(met.id.rstrip('_')).reactions) == 1:\n",
    "        print met, met.reactions\n",
    "        one_rxn_list.append(met.id)"
   ]
  },
  {
   "cell_type": "raw",
   "metadata": {
    "collapsed": false,
    "scrolled": true
   },
   "source": [
    "for cplx in me.complex_data:\n",
    "    for protein in cplx.stoichiometry.keys():\n",
    "        try:\n",
    "            if len(me.metabolites.get_by_id(protein).reactions) == 1:\n",
    "                print protein\n",
    "        except:\n",
    "            print cplx.parent_reactions, protein, me.metabolites.get_by_id(protein.replace('protein','RNA')).RNA_type"
   ]
  },
  {
   "cell_type": "code",
   "execution_count": 22,
   "metadata": {
    "collapsed": false
   },
   "outputs": [],
   "source": [
    "for c_d in me.complex_data:\n",
    "    c = c_d.complex\n",
    "    if len(c.reactions) == 1:\n",
    "        list(c.reactions)[0].delete(remove_orphans=True)\n",
    "for p in me.metabolites.query(\"protein\"):\n",
    "    if len(p._reaction) == 1:\n",
    "        list(p._reaction)[0].delete(remove_orphans=True)\n",
    "for m in me.metabolites.query(\"RNA\"):\n",
    "    if len(m._reaction) == 1:\n",
    "        list(m._reaction)[0].delete(remove_orphans=True)\n"
   ]
  },
  {
   "cell_type": "markdown",
   "metadata": {},
   "source": [
    "This gives the total number of genes included"
   ]
  },
  {
   "cell_type": "code",
   "execution_count": 23,
   "metadata": {
    "collapsed": false
   },
   "outputs": [
    {
     "data": {
      "text/plain": [
       "5276"
      ]
     },
     "execution_count": 23,
     "metadata": {},
     "output_type": "execute_result"
    }
   ],
   "source": [
    "len(me.reactions.query(\"transcription\"))"
   ]
  },
  {
   "cell_type": "code",
   "execution_count": 24,
   "metadata": {
    "collapsed": false
   },
   "outputs": [
    {
     "data": {
      "text/plain": [
       "18249"
      ]
     },
     "execution_count": 24,
     "metadata": {},
     "output_type": "execute_result"
    }
   ],
   "source": [
    "len(me.reactions)"
   ]
  },
  {
   "cell_type": "code",
   "execution_count": 25,
   "metadata": {
    "collapsed": false
   },
   "outputs": [
    {
     "data": {
      "text/plain": [
       "9187"
      ]
     },
     "execution_count": 25,
     "metadata": {},
     "output_type": "execute_result"
    }
   ],
   "source": [
    "len(me.metabolites)"
   ]
  },
  {
   "cell_type": "code",
   "execution_count": 26,
   "metadata": {
    "collapsed": false
   },
   "outputs": [
    {
     "data": {
      "text/plain": [
       "4274"
      ]
     },
     "execution_count": 26,
     "metadata": {},
     "output_type": "execute_result"
    }
   ],
   "source": [
    "len(me.metabolites.query('RNA_'))"
   ]
  },
  {
   "cell_type": "code",
   "execution_count": 27,
   "metadata": {
    "collapsed": false
   },
   "outputs": [
    {
     "data": {
      "text/plain": [
       "1444"
      ]
     },
     "execution_count": 27,
     "metadata": {},
     "output_type": "execute_result"
    }
   ],
   "source": [
    "len(me.metabolites.query('protein_'))"
   ]
  },
  {
   "cell_type": "markdown",
   "metadata": {},
   "source": [
    "## Attempt to set keffs"
   ]
  },
  {
   "cell_type": "code",
   "execution_count": 28,
   "metadata": {
    "collapsed": false,
    "scrolled": true
   },
   "outputs": [
    {
     "name": "stdout",
     "output_type": "stream",
     "text": [
      "no keff found for keff_METAT_S_DASH_ADENMETSYN_DASH_CPLX_mod_4_COLON_generic_monovalent_mod_1_COLON_generic_divalent\n",
      "no keff found for keff_GLUTRR_CPLX0_DASH_3741\n"
     ]
    }
   ],
   "source": [
    "divalent_list = divalent_list\n",
    "monovalent_list = ['_mod_k','_mod_na1']\n",
    "from pickle import load\n",
    "with open(\"test_keffs.pickle\", \"rb\") as infile:\n",
    "    old_keffs = load(infile)\n",
    "keffs = {}\n",
    "\n",
    "for keff, value in old_keffs.items():\n",
    "    for i in divalent_list: \n",
    "        keff = keff.replace(i, 'generic_divalent')\n",
    "    for i in monovalent_list: \n",
    "        keff = keff.replace(i, '_mod_generic_monovalent')\n",
    "    keffs[keff] = value\n",
    "    \n",
    "for r in me.reactions:\n",
    "    if isinstance(r, MetabolicReaction) and r.complex_data is None:\n",
    "        continue\n",
    "    if isinstance(r, MetabolicReaction) and r.complex_data.id != \"CPLX_dummy\":\n",
    "        met_rxn = r\n",
    "        key = met_rxn.id.replace(\"-\", \"_DASH_\").replace(\"__\", \"_DASH_\").replace(\":\",\"_COLON_\")\n",
    "        #key = met_rxn.id\n",
    "        key = \"keff_\" + key.replace(\"_FWD_\", \"_\").replace(\"_REV_\", \"_\")\n",
    "\n",
    "        matches = [i for i in keffs if key in i]\n",
    "        # get the direction\n",
    "        if met_rxn.reverse:\n",
    "            matches = [i for i in matches if i.endswith(\"_reverse_priming_keff\")]\n",
    "        else:\n",
    "            matches = [i for i in matches if i.endswith(\"_forward_priming_keff\")]\n",
    "        if len(matches) == 1:\n",
    "            met_rxn.keff = keffs[matches[0]]\n",
    "        elif len(matches) > 0:\n",
    "            if len(matches) == len([i for i in matches if key + \"_mod_\"]):\n",
    "                met_rxn.keff = keffs[matches[0]]\n",
    "            else:\n",
    "                print key, len(matches)\n",
    "        else:  # len(matches) == 0\n",
    "            print \"no keff found for\", key"
   ]
  },
  {
   "cell_type": "markdown",
   "metadata": {},
   "source": [
    "## Solve"
   ]
  },
  {
   "cell_type": "code",
   "execution_count": 29,
   "metadata": {
    "collapsed": false
   },
   "outputs": [],
   "source": [
    "me.reactions.dummy_reaction_FWD_CPLX_dummy.objective_coefficient = 1."
   ]
  },
  {
   "cell_type": "code",
   "execution_count": 30,
   "metadata": {
    "collapsed": true
   },
   "outputs": [],
   "source": [
    "# Turn off reactions that throw off results as in iOL\n",
    "KO_list = ['DHPTDNR','DHPTDNRN', 'SUCASPtpp','SUCFUMtpp', 'SUCMALtpp', 'SUCTARTtpp', \n",
    "           'CAT', 'FHL', 'SPODM', 'SPODMp']\n",
    "for reaction in KO_list:\n",
    "    a = me.reactions.query(reaction + '_')\n",
    "    for rxn in a:\n",
    "        rxn.upper_bound = 0\n",
    "        rxn.lower_bound = 0"
   ]
  },
  {
   "cell_type": "code",
   "execution_count": 31,
   "metadata": {
    "collapsed": true
   },
   "outputs": [],
   "source": [
    "me.reactions.EX_glc__D_e.lower_bound = -100"
   ]
  },
  {
   "cell_type": "code",
   "execution_count": 32,
   "metadata": {
    "collapsed": false,
    "scrolled": true
   },
   "outputs": [],
   "source": [
    "expressions = compile_expressions(me)"
   ]
  },
  {
   "cell_type": "code",
   "execution_count": 33,
   "metadata": {
    "collapsed": false,
    "scrolled": true
   },
   "outputs": [
    {
     "data": {
      "text/plain": [
       "<Solution 0.10 at 0x7f2129db9c90>"
      ]
     },
     "execution_count": 33,
     "metadata": {},
     "output_type": "execute_result"
    }
   ],
   "source": [
    "solve_at_growth_rate(me, 0.1, compiled_expressions=expressions)"
   ]
  },
  {
   "cell_type": "code",
   "execution_count": 34,
   "metadata": {
    "collapsed": false,
    "scrolled": false
   },
   "outputs": [
    {
     "ename": "KeyboardInterrupt",
     "evalue": "",
     "output_type": "error",
     "traceback": [
      "\u001b[1;31m---------------------------------------------------------------------------\u001b[0m",
      "\u001b[1;31mKeyboardInterrupt\u001b[0m                         Traceback (most recent call last)",
      "\u001b[1;32m<ipython-input-34-f9721cc02241>\u001b[0m in \u001b[0;36m<module>\u001b[1;34m()\u001b[0m\n\u001b[0;32m      1\u001b[0m binary_search(me, min_mu=0, max_mu=2, mu_accuracy=1e-6,\n\u001b[1;32m----> 2\u001b[1;33m               compiled_expressions=expressions)\n\u001b[0m",
      "\u001b[1;32m/home/sbrg-cjlloyd/minime/minime/solve/algorithms.pyc\u001b[0m in \u001b[0;36mbinary_search\u001b[1;34m(me_model, min_mu, max_mu, mu_accuracy, solver, verbose, compiled_expressions, debug, reset_obj, **solver_args)\u001b[0m\n\u001b[0;32m     53\u001b[0m     \"\"\"\n\u001b[0;32m     54\u001b[0m     \u001b[0msolver\u001b[0m \u001b[1;33m=\u001b[0m \u001b[0mget_ME_solver\u001b[0m\u001b[1;33m(\u001b[0m\u001b[0msolver\u001b[0m\u001b[1;33m)\u001b[0m\u001b[1;33m\u001b[0m\u001b[0m\n\u001b[1;32m---> 55\u001b[1;33m     \u001b[0mlp\u001b[0m \u001b[1;33m=\u001b[0m \u001b[0msolver\u001b[0m\u001b[1;33m.\u001b[0m\u001b[0mcreate_problem\u001b[0m\u001b[1;33m(\u001b[0m\u001b[0mme_model\u001b[0m\u001b[1;33m)\u001b[0m\u001b[1;33m\u001b[0m\u001b[0m\n\u001b[0m\u001b[0;32m     56\u001b[0m     \u001b[1;31m# reset the objective for faster feasibility solving\u001b[0m\u001b[1;33m\u001b[0m\u001b[1;33m\u001b[0m\u001b[0m\n\u001b[0;32m     57\u001b[0m     \u001b[1;32mif\u001b[0m \u001b[0mreset_obj\u001b[0m\u001b[1;33m:\u001b[0m\u001b[1;33m\u001b[0m\u001b[0m\n",
      "\u001b[1;32m/home/sbrg-cjlloyd/soplex_cython/soplex.pyx\u001b[0m in \u001b[0;36msoplex.Soplex.create_problem (soplex.cpp:2240)\u001b[1;34m()\u001b[0m\n\u001b[0;32m     80\u001b[0m     \u001b[1;33m@\u001b[0m\u001b[0mclassmethod\u001b[0m\u001b[1;33m\u001b[0m\u001b[0m\n\u001b[0;32m     81\u001b[0m     \u001b[1;32mdef\u001b[0m \u001b[0mcreate_problem\u001b[0m\u001b[1;33m(\u001b[0m\u001b[0mcls\u001b[0m\u001b[1;33m,\u001b[0m \u001b[0mcobra_model\u001b[0m\u001b[1;33m,\u001b[0m \u001b[0mobjective_sense\u001b[0m\u001b[1;33m=\u001b[0m\u001b[1;34m\"maximize\"\u001b[0m\u001b[1;33m)\u001b[0m\u001b[1;33m:\u001b[0m\u001b[1;33m\u001b[0m\u001b[0m\n\u001b[1;32m---> 82\u001b[1;33m         \u001b[0mproblem\u001b[0m \u001b[1;33m=\u001b[0m \u001b[0mcls\u001b[0m\u001b[1;33m(\u001b[0m\u001b[0mcobra_model\u001b[0m\u001b[1;33m)\u001b[0m\u001b[1;33m\u001b[0m\u001b[0m\n\u001b[0m\u001b[0;32m     83\u001b[0m         \u001b[0mproblem\u001b[0m\u001b[1;33m.\u001b[0m\u001b[0mset_objective_sense\u001b[0m\u001b[1;33m(\u001b[0m\u001b[0mobjective_sense\u001b[0m\u001b[1;33m)\u001b[0m\u001b[1;33m\u001b[0m\u001b[0m\n\u001b[0;32m     84\u001b[0m         \u001b[1;32mreturn\u001b[0m \u001b[0mproblem\u001b[0m\u001b[1;33m\u001b[0m\u001b[0m\n",
      "\u001b[1;32m/home/sbrg-cjlloyd/soplex_cython/soplex.pyx\u001b[0m in \u001b[0;36msoplex.Soplex.__init__ (soplex.cpp:2018)\u001b[1;34m()\u001b[0m\n\u001b[0;32m     70\u001b[0m                         \u001b[1;32mnot\u001b[0m \u001b[0misinstance\u001b[0m\u001b[1;33m(\u001b[0m\u001b[0mstoichiometry\u001b[0m\u001b[1;33m,\u001b[0m \u001b[0mNumber\u001b[0m\u001b[1;33m)\u001b[0m\u001b[1;33m:\u001b[0m\u001b[1;33m\u001b[0m\u001b[0m\n\u001b[0;32m     71\u001b[0m                     \u001b[1;32mcontinue\u001b[0m\u001b[1;33m\u001b[0m\u001b[0m\n\u001b[1;32m---> 72\u001b[1;33m                 vector.add(cobra_model.metabolites.index(metabolite.id),\n\u001b[0m\u001b[0;32m     73\u001b[0m                            rationalize(stoichiometry))\n\u001b[0;32m     74\u001b[0m             col = LPColRational(rationalize(reaction.objective_coefficient),\n",
      "\u001b[1;32m/home/sbrg-cjlloyd/cobrapy/cobra/core/DictList.pyc\u001b[0m in \u001b[0;36mindex\u001b[1;34m(self, id, *args)\u001b[0m\n\u001b[0;32m    203\u001b[0m         \u001b[0mself\u001b[0m\u001b[1;33m.\u001b[0m\u001b[0m_generate_index\u001b[0m\u001b[1;33m(\u001b[0m\u001b[1;33m)\u001b[0m\u001b[1;33m\u001b[0m\u001b[0m\n\u001b[0;32m    204\u001b[0m \u001b[1;33m\u001b[0m\u001b[0m\n\u001b[1;32m--> 205\u001b[1;33m     \u001b[1;32mdef\u001b[0m \u001b[0mindex\u001b[0m\u001b[1;33m(\u001b[0m\u001b[0mself\u001b[0m\u001b[1;33m,\u001b[0m \u001b[0mid\u001b[0m\u001b[1;33m,\u001b[0m \u001b[1;33m*\u001b[0m\u001b[0margs\u001b[0m\u001b[1;33m)\u001b[0m\u001b[1;33m:\u001b[0m\u001b[1;33m\u001b[0m\u001b[0m\n\u001b[0m\u001b[0;32m    206\u001b[0m         \"\"\"Determine the position in the list\n\u001b[0;32m    207\u001b[0m \u001b[1;33m\u001b[0m\u001b[0m\n",
      "\u001b[1;31mKeyboardInterrupt\u001b[0m: "
     ]
    }
   ],
   "source": [
    "binary_search(me, min_mu=0, max_mu=2, mu_accuracy=1e-6,\n",
    "              compiled_expressions=expressions)"
   ]
  },
  {
   "cell_type": "code",
   "execution_count": null,
   "metadata": {
    "collapsed": false
   },
   "outputs": [],
   "source": [
    "for cplx in generic_RNase_list:\n",
    "    print me.metabolites.get_by_id(cplx).reactions"
   ]
  },
  {
   "cell_type": "code",
   "execution_count": null,
   "metadata": {
    "collapsed": false
   },
   "outputs": [],
   "source": [
    "import escher\n",
    "view = escher.Builder(\"iJO1366.Central metabolism\")\n",
    "view.reaction_data = me.get_metabolic_flux()\n",
    "view.display_in_notebook()"
   ]
  },
  {
   "cell_type": "code",
   "execution_count": null,
   "metadata": {
    "collapsed": true
   },
   "outputs": [],
   "source": []
  }
 ],
 "metadata": {
  "kernelspec": {
   "display_name": "Python 2",
   "language": "python",
   "name": "python2"
  },
  "language_info": {
   "codemirror_mode": {
    "name": "ipython",
    "version": 2
   },
   "file_extension": ".py",
   "mimetype": "text/x-python",
   "name": "python",
   "nbconvert_exporter": "python",
   "pygments_lexer": "ipython2",
   "version": "2.7.6"
  }
 },
 "nbformat": 4,
 "nbformat_minor": 0
}
