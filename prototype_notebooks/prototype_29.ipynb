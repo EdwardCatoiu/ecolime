{
 "cells": [
  {
   "cell_type": "markdown",
   "metadata": {},
   "source": [
    "# Build a basic ME model"
   ]
  },
  {
   "cell_type": "markdown",
   "metadata": {},
   "source": [
    "We will try to build an ME model from the NC_000913.2 Genbank file, the iJO1366 M model, and the complex reconstruction from iJL1650-ME"
   ]
  },
  {
   "cell_type": "code",
   "execution_count": 1,
   "metadata": {
    "collapsed": false
   },
   "outputs": [],
   "source": [
    "import re\n",
    "import json\n",
    "from os.path import dirname, join, abspath\n",
    "\n",
    "import pandas\n",
    "\n",
    "from ecolime.flat_files import ecoli_files_dir\n",
    "import cobra.test\n",
    "\n",
    "from minime import *\n",
    "from ecolime.flat_files import *\n",
    "from ecolime import flat_files\n",
    "from minime.util.building import build_reactions_from_genbank, add_transcription_reaction\n",
    "import ecolime"
   ]
  },
  {
   "cell_type": "markdown",
   "metadata": {},
   "source": [
    "## Begin by loading metabolites"
   ]
  },
  {
   "cell_type": "code",
   "execution_count": 2,
   "metadata": {
    "collapsed": true
   },
   "outputs": [],
   "source": [
    "def fix_id(id_str):\n",
    "    return id_str.replace(\"_DASH_\", \"__\")"
   ]
  },
  {
   "cell_type": "code",
   "execution_count": 3,
   "metadata": {
    "collapsed": false
   },
   "outputs": [],
   "source": [
    "me = MEmodel(\"iJO1366-ME\")\n",
    "me.id = \"iJO1366-ME\"\n",
    "me.compartments = {\"p\": \"Periplasm\", \"e\": \"Extra-organism\",\n",
    "                   \"c\": \"Cytosol\"}\n",
    "compartment_lookup = {v: k for k, v in me.compartments.items()}"
   ]
  },
  {
   "cell_type": "code",
   "execution_count": 4,
   "metadata": {
    "collapsed": false
   },
   "outputs": [],
   "source": [
    "met_info = pandas.read_csv(\n",
    "    join(ecoli_files_dir, \"metabolites.txt\"),\n",
    "    delimiter=\"\\t\", header=None, index_col=0,\n",
    "    names=[\"id\", \"name\", \"formula\", \"compartment\", \"data_source\"])"
   ]
  },
  {
   "cell_type": "code",
   "execution_count": 5,
   "metadata": {
    "collapsed": false
   },
   "outputs": [
    {
     "name": "stdout",
     "output_type": "stream",
     "text": [
      "Assigned tl to e\n",
      "Assigned hemed to e\n",
      "Assigned pqq to e\n",
      "Assigned dpm to e\n",
      "Assigned 23bpg to e\n",
      "Assigned tqn to e\n"
     ]
    }
   ],
   "source": [
    "for met_id in met_info.index:\n",
    "    fixed_id = fix_id(met_id)\n",
    "    for compartment in met_info.compartment[met_id].split(\"AND\"):\n",
    "        compartment = compartment.strip()\n",
    "        if compartment == \"No_Compartment\":\n",
    "            print \"Assigned %s to e\" % met_id\n",
    "            compartment = me.compartments[\"e\"]\n",
    "        metab = Metabolite(fixed_id + \"_\" + compartment_lookup[compartment])\n",
    "        metab.name = met_info.name[met_id]\n",
    "    \n",
    "        metab.formula = met_info.formula[met_id]\n",
    "        me.add_metabolites(metab)"
   ]
  },
  {
   "cell_type": "markdown",
   "metadata": {},
   "source": [
    "Add generic ions to simplify complexes"
   ]
  },
  {
   "cell_type": "code",
   "execution_count": 6,
   "metadata": {
    "collapsed": true
   },
   "outputs": [],
   "source": [
    "divalent_list = flat_files.divalent_list\n",
    "monovalent_list = flat_files.monovalent_list\n",
    "comp = \"_c\"  # compartment\n",
    "# Divalent\n",
    "div = cobra.Metabolite('generic_divalent' + comp)\n",
    "div.name = 'Generic divalent ion'\n",
    "me.add_metabolites(div)\n",
    "for ion in divalent_list:\n",
    "    rxn1 = cobra.Reaction(ion + comp + '_to_generic')\n",
    "    ion_dict = {}\n",
    "    met1 = me.metabolites.get_by_id(ion + comp)\n",
    "    ion_dict[met1] = -1\n",
    "    ion_dict[div] = 1\n",
    "    rxn1.add_metabolites(ion_dict)\n",
    "    me.add_reaction(rxn1)\n",
    "# Monovalent\n",
    "mono = cobra.Metabolite('generic_monovalent' + comp)\n",
    "mono.name = 'Generic monovalent ion'\n",
    "for ion in monovalent_list:\n",
    "    rxn2 = cobra.Reaction(ion + comp + '_to_generic')\n",
    "    ion_dict = {}\n",
    "    met2 = me.metabolites.get_by_id(ion + comp)\n",
    "    ion_dict[met2] = -1\n",
    "    ion_dict[mono] = 1\n",
    "    rxn2.add_metabolites(ion_dict)\n",
    "    me.add_reaction(rxn2)"
   ]
  },
  {
   "cell_type": "markdown",
   "metadata": {},
   "source": [
    "## Build Metabolic reactions"
   ]
  },
  {
   "cell_type": "code",
   "execution_count": 7,
   "metadata": {
    "collapsed": true
   },
   "outputs": [],
   "source": [
    "reaction_info = get_reaction_info_frame()\n",
    "reaction_dict = get_reaction_matrix_dict()"
   ]
  },
  {
   "cell_type": "code",
   "execution_count": 8,
   "metadata": {
    "collapsed": false
   },
   "outputs": [],
   "source": [
    "for r_id in reaction_info.index:\n",
    "    reaction = StoichiometricData(r_id, me)\n",
    "    reaction._stoichiometry = {fix_id(k): v\\\n",
    "                               for k, v in reaction_dict[r_id].items()}\n",
    "    reaction.lower_bound = \\\n",
    "        -1000. if reaction_info.is_reversible[r_id] else 0.\n",
    "    reaction.upper_bound = 1000."
   ]
  },
  {
   "cell_type": "markdown",
   "metadata": {},
   "source": [
    "Also make a dummy reaction"
   ]
  },
  {
   "cell_type": "code",
   "execution_count": 9,
   "metadata": {
    "collapsed": false
   },
   "outputs": [],
   "source": [
    "dummy = StoichiometricData(\"dummy_reaction\", me)\n",
    "dummy.lower_bound = 0\n",
    "dummy.upper_bound = 1000\n",
    "dummy._stoichiometry = {}"
   ]
  },
  {
   "cell_type": "markdown",
   "metadata": {},
   "source": [
    "Boundary Reactions"
   ]
  },
  {
   "cell_type": "code",
   "execution_count": 10,
   "metadata": {
    "collapsed": false
   },
   "outputs": [],
   "source": [
    "sources_sinks = pandas.read_csv(join(ecoli_files_dir, \"reaction_matrix_sources_and_sinks.txt\"), delimiter=\"\\t\",\n",
    "                                header=None, names=[\"rxn_id\", \"met_id\", \"compartment\", \"stoic\"], index_col=1)\n",
    "sources_sinks.index = [fix_id(i) for i in sources_sinks.index]\n",
    "\n",
    "source_amounts = pandas.read_csv(join(ecoli_files_dir, \"exchange_bounds.txt\"),\n",
    "                                 delimiter=\"\\t\", index_col=0, names=[\"met_id\", \"amount\"])\n",
    "source_amounts.index = [fix_id(i) for i in source_amounts.index]\n",
    "\n",
    "\n",
    "for met_id in sources_sinks.index:\n",
    "    model_met_id = met_id + \"_\" + compartment_lookup[sources_sinks.compartment[met_id]]\n",
    "    # EX_ or DM_ + met_id\n",
    "    reaction_id = sources_sinks.rxn_id[met_id][:3] + model_met_id\n",
    "    reaction = cobra.Reaction(reaction_id)\n",
    "    me.add_reaction(reaction)\n",
    "    reaction.add_metabolites({me.metabolites.get_by_id(model_met_id): -1})\n",
    "    # set bounds on exchanges\n",
    "    if reaction.id.startswith(\"EX_\") and met_id in source_amounts.index:\n",
    "        reaction.lower_bound = -source_amounts.amount[met_id]"
   ]
  },
  {
   "cell_type": "markdown",
   "metadata": {},
   "source": [
    "Set bounds on boundary reactions"
   ]
  },
  {
   "cell_type": "markdown",
   "metadata": {},
   "source": [
    "## Build ribosome and RNA Polymerase"
   ]
  },
  {
   "cell_type": "code",
   "execution_count": 11,
   "metadata": {
    "collapsed": false,
    "scrolled": true
   },
   "outputs": [
    {
     "name": "stdout",
     "output_type": "stream",
     "text": [
      "Created <TranslatedGene protein_b1089 at 0x7fca46181b50> in <ComplexFormation formation_ribosome at 0x7fca46181ad0>\n",
      "Created <TranslatedGene protein_b3637 at 0x7fca46181b90> in <ComplexFormation formation_ribosome at 0x7fca46181ad0>\n",
      "Created <TranslatedGene protein_b3636 at 0x7fca461819d0> in <ComplexFormation formation_ribosome at 0x7fca46181ad0>\n",
      "Created <TranslatedGene protein_b3304 at 0x7fca46181a10> in <ComplexFormation formation_ribosome at 0x7fca46181ad0>\n",
      "Created <TranslatedGene protein_b4200 at 0x7fca46181750> in <ComplexFormation formation_ribosome at 0x7fca46181ad0>\n",
      "Created <TranslatedGene protein_b1716 at 0x7fca46181790> in <ComplexFormation formation_ribosome at 0x7fca46181ad0>\n",
      "Created <TranslatedGene protein_b1717 at 0x7fca461817d0> in <ComplexFormation formation_ribosome at 0x7fca46181ad0>\n",
      "Created <TranslatedGene protein_b0023 at 0x7fca46181810> in <ComplexFormation formation_ribosome at 0x7fca46181ad0>\n",
      "Created <TranslatedGene protein_b3306 at 0x7fca46181850> in <ComplexFormation formation_ribosome at 0x7fca46181ad0>\n",
      "Created <TranslatedGene protein_b1480 at 0x7fca46181890> in <ComplexFormation formation_ribosome at 0x7fca46181ad0>\n",
      "Created <TranslatedGene protein_b3309 at 0x7fca461818d0> in <ComplexFormation formation_ribosome at 0x7fca46181ad0>\n",
      "Created <TranslatedGene protein_b3308 at 0x7fca46181910> in <ComplexFormation formation_ribosome at 0x7fca46181ad0>\n",
      "Created <TranslatedGene protein_b3321 at 0x7fca46181950> in <ComplexFormation formation_ribosome at 0x7fca46181ad0>\n",
      "Created <TranslatedGene protein_b3320 at 0x7fca46181990> in <ComplexFormation formation_ribosome at 0x7fca46181ad0>\n",
      "Created <TranslatedGene protein_b3301 at 0x7fca46181c10> in <ComplexFormation formation_ribosome at 0x7fca46181ad0>\n",
      "Created <TranslatedGene protein_b3303 at 0x7fca46181c90> in <ComplexFormation formation_ribosome at 0x7fca46181ad0>\n",
      "Created <TranslatedGene protein_b3302 at 0x7fca4610d390> in <ComplexFormation formation_ribosome at 0x7fca46181ad0>\n",
      "Created <TranslatedGene protein_b3305 at 0x7fca4610d3d0> in <ComplexFormation formation_ribosome at 0x7fca46181ad0>\n",
      "Created <TranslatedGene protein_b3986 at 0x7fca4610d410> in <ComplexFormation formation_ribosome at 0x7fca46181ad0>\n",
      "Created <TranslatedGene protein_b3307 at 0x7fca4610d450> in <ComplexFormation formation_ribosome at 0x7fca46181ad0>\n",
      "Created <TranslatedGene protein_b3984 at 0x7fca4610d490> in <ComplexFormation formation_ribosome at 0x7fca46181ad0>\n",
      "Created <TranslatedGene protein_b3341 at 0x7fca4610d4d0> in <ComplexFormation formation_ribosome at 0x7fca46181ad0>\n",
      "Created <TranslatedGene protein_b3983 at 0x7fca4610d510> in <ComplexFormation formation_ribosome at 0x7fca46181ad0>\n",
      "Created <TranslatedGene protein_b0911 at 0x7fca4610d550> in <ComplexFormation formation_ribosome at 0x7fca46181ad0>\n",
      "Created <TranslatedGene protein_b3231 at 0x7fca4610d590> in <ComplexFormation formation_ribosome at 0x7fca46181ad0>\n",
      "Created <TranslatedGene protein_b2609 at 0x7fca4610d5d0> in <ComplexFormation formation_ribosome at 0x7fca46181ad0>\n",
      "Created <TranslatedGene protein_b3958 at 0x7fca4610d610> in <ComplexFormation formation_ribosome at 0x7fca46181ad0>\n",
      "Created <TranslatedGene protein_b3342 at 0x7fca4610d650> in <ComplexFormation formation_ribosome at 0x7fca46181ad0>\n",
      "Created <TranslatedGene protein_b3703 at 0x7fca4610d690> in <ComplexFormation formation_ribosome at 0x7fca46181ad0>\n",
      "Created <TranslatedGene protein_b3296 at 0x7fca4610d6d0> in <ComplexFormation formation_ribosome at 0x7fca46181ad0>\n",
      "Created <TranslatedGene protein_b3936 at 0x7fca4610d710> in <ComplexFormation formation_ribosome at 0x7fca46181ad0>\n",
      "Created <TranslatedGene protein_b0169 at 0x7fca4610d750> in <ComplexFormation formation_ribosome at 0x7fca46181ad0>\n",
      "Created <TranslatedGene protein_b3298 at 0x7fca4610d790> in <ComplexFormation formation_ribosome at 0x7fca46181ad0>\n",
      "Created <TranscribedGene RNA_b3854 at 0x7fca4610d7d0> in <ComplexFormation formation_ribosome at 0x7fca46181ad0>\n",
      "Created <TranslatedGene protein_b3315 at 0x7fca4610d810> in <ComplexFormation formation_ribosome at 0x7fca46181ad0>\n",
      "Created <TranslatedGene protein_b3318 at 0x7fca4610d850> in <ComplexFormation formation_ribosome at 0x7fca46181ad0>\n",
      "Created <TranslatedGene protein_b3319 at 0x7fca4610d890> in <ComplexFormation formation_ribosome at 0x7fca46181ad0>\n",
      "Created <TranslatedGene protein_b3186 at 0x7fca4610d8d0> in <ComplexFormation formation_ribosome at 0x7fca46181ad0>\n",
      "Created <TranslatedGene protein_b3185 at 0x7fca4610d910> in <ComplexFormation formation_ribosome at 0x7fca46181ad0>\n",
      "Created <TranslatedGene protein_b3312 at 0x7fca4610d950> in <ComplexFormation formation_ribosome at 0x7fca46181ad0>\n",
      "Created <TranslatedGene protein_b3313 at 0x7fca4610d990> in <ComplexFormation formation_ribosome at 0x7fca46181ad0>\n",
      "Created <TranslatedGene protein_b3310 at 0x7fca4610d9d0> in <ComplexFormation formation_ribosome at 0x7fca46181ad0>\n",
      "Created <TranslatedGene protein_b3311 at 0x7fca4610da10> in <ComplexFormation formation_ribosome at 0x7fca46181ad0>\n",
      "Created <TranslatedGene protein_b3316 at 0x7fca4610da50> in <ComplexFormation formation_ribosome at 0x7fca46181ad0>\n",
      "Created <TranslatedGene protein_b3317 at 0x7fca4610da90> in <ComplexFormation formation_ribosome at 0x7fca46181ad0>\n",
      "Created <TranslatedGene protein_b3314 at 0x7fca4610dad0> in <ComplexFormation formation_ribosome at 0x7fca46181ad0>\n",
      "Created <TranslatedGene protein_b2185 at 0x7fca4610db10> in <ComplexFormation formation_ribosome at 0x7fca46181ad0>\n",
      "Created <TranslatedGene protein_b3065 at 0x7fca4610db50> in <ComplexFormation formation_ribosome at 0x7fca46181ad0>\n",
      "Created <TranslatedGene protein_b4203 at 0x7fca4610db90> in <ComplexFormation formation_ribosome at 0x7fca46181ad0>\n",
      "Created <TranslatedGene protein_b4202 at 0x7fca4610dbd0> in <ComplexFormation formation_ribosome at 0x7fca46181ad0>\n",
      "Created <TranslatedGene protein_b3165 at 0x7fca4610dc10> in <ComplexFormation formation_ribosome at 0x7fca46181ad0>\n",
      "Created <TranscribedGene RNA_b3851 at 0x7fca4610dc50> in <ComplexFormation formation_ribosome at 0x7fca46181ad0>\n",
      "Created <TranslatedGene protein_b3299 at 0x7fca4610dc90> in <ComplexFormation formation_ribosome at 0x7fca46181ad0>\n",
      "Created <TranslatedGene protein_b3230 at 0x7fca4610dcd0> in <ComplexFormation formation_ribosome at 0x7fca46181ad0>\n",
      "Created <TranslatedGene protein_b3297 at 0x7fca4610dd10> in <ComplexFormation formation_ribosome at 0x7fca46181ad0>\n",
      "Created <TranslatedGene protein_b2606 at 0x7fca4610dd50> in <ComplexFormation formation_ribosome at 0x7fca46181ad0>\n",
      "Created <TranslatedGene protein_b3294 at 0x7fca4610dd90> in <ComplexFormation formation_ribosome at 0x7fca46181ad0>\n",
      "Created <TranscribedGene RNA_b3855 at 0x7fca4610ddd0> in <ComplexFormation formation_ribosome at 0x7fca46181ad0>\n"
     ]
    }
   ],
   "source": [
    "ribosome_complex = ComplexData(\"ribosome\", me)\n",
    "ribosome_components = ribosome_complex.stoichiometry\n",
    "for i in [\"b3851\", \"b3854\", \"b3855\"]:\n",
    "    ribosome_components[\"RNA_\" + i] = 1\n",
    "# 30S Listed as [rpsA -rpsU], sra \n",
    "# [rplA-rplF],  rplI, [rplK-rplY],\n",
    "# [rpmA-rpmJ]\n",
    "\n",
    "for i in [\"b0911\", \"b0169\", \"b3314\", \"b3296\", \"b3303\", \"b4200\", \"b3341\",\n",
    "          \"b3306\", \"b3230\", \"b3321\", \"b3297\", \"b3342\", \"b3298\", \"b3307\", \n",
    "          \"b3165\", \"b2609\", \"b3311\", \"b4202\", \"b3316\", \"b0023\", \"b3065\",\n",
    "          \"b1480\"]:\n",
    "    ribosome_components[\"protein_\" + i] = 1\n",
    "    \n",
    "# 50S listed as [rplA-rplF],rplJ, rplI, rplK [rplM-rplY], [rpmA-rpmJ]    \n",
    "for i in [\"b3984\", \"b3317\", \"b3320\", \"b3319\", \"b3308\", \"b3305\", \n",
    "          \"b3958\", \"b4203\", \"b3983\", \"b3231\", \"b3310\", \"b3301\",\n",
    "          \"b3313\", \"b3294\", \"b3304\", \"b2606\", \"b1716\", \"b3186\",\n",
    "          \"b3315\", \"b3318\", \"b3309\", \"b2185\", \n",
    "          \"b3185\", \"b3637\", \"b3312\", \"b3302\", \"b3936\", \"b1089\", \n",
    "          \"b3636\", \"b3703\", \"b1717\", \"b3299\"]:\n",
    "    ribosome_components[\"protein_\" + i] = 1\n",
    "# [rplJ, 2(2[rplL7])]\n",
    "ribosome_components[\"protein_\" + \"b3986\"] = 4\n",
    "\n",
    "ribosome_complex.create_complex_formation()"
   ]
  },
  {
   "cell_type": "code",
   "execution_count": 12,
   "metadata": {
    "collapsed": false
   },
   "outputs": [
    {
     "name": "stdout",
     "output_type": "stream",
     "text": [
      "Created <TranslatedGene protein_b3295 at 0x7fca46178e90> in <ComplexFormation formation_RNA_Polymerase at 0x7fca46178890>\n",
      "Created <TranslatedGene protein_b3988 at 0x7fca46178e50> in <ComplexFormation formation_RNA_Polymerase at 0x7fca46178890>\n",
      "Created <TranslatedGene protein_b3987 at 0x7fca46178ed0> in <ComplexFormation formation_RNA_Polymerase at 0x7fca46178890>\n"
     ]
    }
   ],
   "source": [
    "RNAP_complex = ComplexData(\"RNA_Polymerase\", me)\n",
    "RNAP_components = RNAP_complex.stoichiometry\n",
    "# Core RNA Polymerase Enzyme\n",
    "for i in {\"b3295\" : \"rpoA\", \"b3988\" : \"rpoC\", \"b3987\" : \"rpoB\"}:\n",
    "    if i == \"b3295\":\n",
    "        RNAP_components[\"protein_\" + i] = 2\n",
    "    else:\n",
    "        RNAP_components[\"protein_\" + i] = 1\n",
    "\n",
    "RNAP_complex.create_complex_formation()"
   ]
  },
  {
   "cell_type": "markdown",
   "metadata": {},
   "source": [
    "### Add Transcription/Translation from the genbank file"
   ]
  },
  {
   "cell_type": "code",
   "execution_count": 13,
   "metadata": {
    "collapsed": false
   },
   "outputs": [
    {
     "name": "stdout",
     "output_type": "stream",
     "text": [
      "TODO deal with selenocystine\n"
     ]
    }
   ],
   "source": [
    "build_reactions_from_genbank(me, join(ecoli_files_dir, \"NC_000913.2.gb\"))"
   ]
  },
  {
   "cell_type": "markdown",
   "metadata": {},
   "source": [
    "Add a dummy protein in as well"
   ]
  },
  {
   "cell_type": "code",
   "execution_count": 14,
   "metadata": {
    "collapsed": false
   },
   "outputs": [],
   "source": [
    "dna_sequence = \"ATG\" + \"TTT\" * 5 + \"TAT\"*5+ \"ACG\"*5 + \"GAT\" *5 + \"AGT\"*5 + \"TAA\"\n",
    "add_transcription_reaction(me, \"dummy\", {\"dummy\"}, dna_sequence)\n",
    "me.add_metabolites(TranslatedGene(\"protein_\" + \"dummy\"))\n",
    "translation = TranslationReaction(\"translation_\" + \"dummy\")\n",
    "me.add_reaction(translation)\n",
    "translation.translation_data = TranslationData(\"dummy\", me, \"RNA_dummy\", \"protein_dummy\")\n",
    "translation.translation_data.compute_sequence_from_DNA(dna_sequence)\n",
    "translation.update()\n",
    "\n",
    "complex_data = ComplexData(\"CPLX_dummy\", me)\n",
    "complex_data.stoichiometry = {}\n",
    "complex_data.stoichiometry[\"protein_\" + \"dummy\"] = 1\n",
    "complex_data.create_complex_formation()"
   ]
  },
  {
   "cell_type": "markdown",
   "metadata": {},
   "source": [
    "## Associate the tRNA synthetases"
   ]
  },
  {
   "cell_type": "markdown",
   "metadata": {},
   "source": [
    "The tRNA charging reactions were automatically added when loading the genome from the genbank file. However, the charging reactions still need to be made aware of the tRNA synthetases which are responsible."
   ]
  },
  {
   "cell_type": "code",
   "execution_count": 15,
   "metadata": {
    "collapsed": true
   },
   "outputs": [],
   "source": [
    "with open(join(ecoli_files_dir, \"amino_acid_tRNA_synthetase.json\"), \"rb\") as infile:\n",
    "    aa_synthetase_dict = json.load(infile)\n",
    "for data in me.tRNA_data:\n",
    "    data.synthetase = str(aa_synthetase_dict[data.amino_acid])"
   ]
  },
  {
   "cell_type": "markdown",
   "metadata": {},
   "source": [
    "### Add in complex Formation with modifications"
   ]
  },
  {
   "cell_type": "code",
   "execution_count": 16,
   "metadata": {
    "collapsed": false
   },
   "outputs": [],
   "source": [
    "# ME_complex_dict is a dict of {'complex_id': ['bnum(count)']}\n",
    "ME_complex_dict = get_complex_to_bnum_dict()\n",
    "# some entries in the file need to be renamed\n",
    "renames = {\"MnmE_\": \"b3706\", \"MnmG_\": \"b3741\", \"YheM_\": \"b3344\", \"YheL_\": \"b3343\", \"YheN_\": \"b3345\"}\n",
    "rna_components = {\"b3123\"}  # component id should have RNA_ instead of protein_\n",
    "\n",
    "for cplx, value in ME_complex_dict.iteritems():\n",
    "    complex_data = ComplexData(cplx, me)\n",
    "    for gene in value:\n",
    "        stoichiometry = gene[6]\n",
    "        bnum = gene[0:5]\n",
    "        comp_id = \"RNA_\" + bnum if bnum in rna_components \\\n",
    "            else \"protein_\" + renames.get(bnum, bnum)\n",
    "        try:\n",
    "            complex_data.stoichiometry[comp_id] = float(stoichiometry)\n",
    "        except:\n",
    "            complex_data.stoichiometry[comp_id] = float(1)"
   ]
  },
  {
   "cell_type": "code",
   "execution_count": 17,
   "metadata": {
    "collapsed": false
   },
   "outputs": [
    {
     "name": "stdout",
     "output_type": "stream",
     "text": [
      "TODO: hRNAP_mod_1:generic_divalent_mod_2:generic_divalent\n",
      "TODO: GltX_mono_mod_generic_divalent_mod_1:generic_divalent\n"
     ]
    }
   ],
   "source": [
    "# {modified_complex_id: ['unmodified_complex_id', {component_id: stoic}]\n",
    "modification_dict = get_protein_modification_dict(generic=True)\n",
    "for mod_cplx_id, mod_complex_info in iteritems(modification_dict):\n",
    "    unmod_cplx_id, mods = mod_complex_info\n",
    "    unmod_cplx = me.complex_data.get_by_id(unmod_cplx_id)\n",
    "    cplx = ComplexData(mod_cplx_id, me)\n",
    "    cplx.stoichiometry = unmod_cplx.stoichiometry\n",
    "    cplx.translocation = unmod_cplx.translocation\n",
    "    cplx.chaperones = unmod_cplx.chaperones\n",
    "    if len(set(mod_cplx_id.split(\"_mod_\")[1:])) == len(mods):\n",
    "        for mod_comp, mod_count in iteritems(mods):\n",
    "            mod_id = \"mod_\" + mod_comp\n",
    "            try:\n",
    "                mod = me.modification_data.get_by_id(mod_id)\n",
    "            except:\n",
    "                mod = ModificationData(mod_id, me)\n",
    "                mod.stoichiometry = {mod_comp: -1}\n",
    "            cplx.modifications[mod_id] = -mod_count\n",
    "    else:\n",
    "        print \"TODO:\", mod_cplx_id"
   ]
  },
  {
   "cell_type": "markdown",
   "metadata": {},
   "source": [
    "Some modifications are enzyme-catalyzed\n",
    "\n",
    "TODO: Fe-S enzyme-catalyzed modifications"
   ]
  },
  {
   "cell_type": "code",
   "execution_count": 18,
   "metadata": {
    "collapsed": false
   },
   "outputs": [],
   "source": [
    "# two different reactiond can add a lipoate modification.\n",
    "# We create a separate ModificationData for each one\n",
    "lipo = me.modification_data.get_by_id(\"mod_lipo_c\")\n",
    "alt_lipo = ModificationData(\"mod_lipo_c_alt\", me)\n",
    "alt_lipo.stoichiometry = lipo.stoichiometry\n",
    "\n",
    "lipo.stoichiometry = {\"lipoamp_c\": -1, \"amp_c\": 1}\n",
    "lipo.enzyme = 'EG11796-MONOMER'\n",
    "lipo.keff = 65.\n",
    "\n",
    "alt_lipo.stoichiometry = {'EG50003-MONOMER_mod_pan4p_mod_oc':-1,\n",
    "                          'amet_c':-2,\n",
    "                          'lipoamp_c':-1,\n",
    "                          'met__L_c':2,\n",
    "                          'dad__5_c':2,\n",
    "                          'CPLX0-782_mod_2:4fe4s':-1,\n",
    "                          'CPLX0-782_mod_1:2fe2s_mod_1:4fe4s':1,\n",
    "                          'fe2_c':2,\n",
    "                          'h_c':-2,\n",
    "                          'nad_c':-1,\n",
    "                          'nadh_c':1,\n",
    "                          'EG50003-MONOMER_mod_pan4p':1}\n",
    "alt_lipo.enzyme = 'EG11591-MONOMER'\n",
    "alt_lipo.keff = 65.\n",
    "\n",
    "for cplx_data in lipo.get_complex_data():\n",
    "    alt_cplx_data = ComplexData(cplx_data.id + \"alt\", me)\n",
    "    alt_cplx_data.complex_id = cplx_data.complex_id\n",
    "    alt_cplx_data.translocation = cplx_data.translocation\n",
    "    alt_cplx_data.chaperones = cplx_data.chaperones\n",
    "    alt_cplx_data.modifications = cplx_data.modifications\n",
    "    alt_cplx_data.modifications[alt_lipo.id] = \\\n",
    "        alt_cplx_data.modifications.pop(lipo.id)"
   ]
  },
  {
   "cell_type": "code",
   "execution_count": 19,
   "metadata": {
    "collapsed": true
   },
   "outputs": [],
   "source": [
    "# todo bmocogdp_c mods\n",
    "mod_catalysts = {'CPLX0-1762':'G6712-MONOMER', # FE-S modification\n",
    "                 'TMAOREDUCTI-CPLX':'EG12195-MONOMER',\n",
    "                 'DIMESULFREDUCT-CPLX':'G6849-MONOMER',\n",
    "                 'NITRATREDUCTA-CPLX':'NARJ-MONOMER', \n",
    "                 'NITRATREDUCTZ-CPLX':'NARW-MONOMER',\n",
    "                 'NAP-CPLX':'NAPD-MONOMER',\n",
    "                 'NAPAB-CPLX_NAPC-MONOMER':'NAPD-MONOMER'}"
   ]
  },
  {
   "cell_type": "markdown",
   "metadata": {},
   "source": [
    "Build all complex formation reactions\n",
    "\n",
    "TODO: This shouldn't be prining out stuff. Fix them."
   ]
  },
  {
   "cell_type": "code",
   "execution_count": 20,
   "metadata": {
    "collapsed": false,
    "scrolled": true
   },
   "outputs": [
    {
     "name": "stdout",
     "output_type": "stream",
     "text": [
      "Created <Metabolite 4fe4s_c at 0x7fca45707510> in <ComplexFormation formation_DIHYDROXYACIDDEHYDRAT-CPLX_mod_4fe4s at 0x7fca45707490>\n",
      "Created <Metabolite LI_c at 0x7fca456b9250> in <ComplexFormation formation_S-ADENMETSYN-CPLX_mod_4:LI_mod_1:generic_divalent at 0x7fca456b91d0>\n",
      "Created <Metabolite 2fe2s_c at 0x7fca456b9610> in <ComplexFormation formation_CPLX0-1762_mod_fad_mod_2fe2s at 0x7fca456b9590>\n",
      "Created <Metabolite 3fe4s_c at 0x7fca456b99d0> in <ComplexFormation formation_FUMARATE-REDUCTASE_mod_1:pheme_mod_3fe4s_mod_4fe4s_mod_fad_mod_2fe2s at 0x7fca456b9950>\n",
      "Created <Metabolite pqq_c at 0x7fca456b9b10> in <ComplexFormation formation_GLUCDEHYDROG-MONOMER_mod_pqq at 0x7fca456b9a90>\n",
      "Created <Metabolite hemed_c at 0x7fca456e2ad0> in <ComplexFormation formation_CYT-D-UBIOX-CPLX_mod_pheme_mod_hemed at 0x7fca456e2a50>\n",
      "Created <Metabolite acetyl_c at 0x7fca456e2e90> in <ComplexFormation formation_rpL7/12_mod_1:acetyl at 0x7fca456e2e10>\n",
      "Created <Metabolite EG50003-MONOMER_mod_pan4p at 0x7fca44c0c9d0> in <ComplexFormation formation_GCVMULTI-CPLX_mod_lipo at 0x7fca44c0c950>\n",
      "Created <Metabolite CPLX0-782_mod_2:4fe4s at 0x7fca44c0ca50> in <ComplexFormation formation_GCVMULTI-CPLX_mod_lipo at 0x7fca44c0c950>\n",
      "Created <Metabolite EG50003-MONOMER_mod_pan4p_mod_oc at 0x7fca44c0ca90> in <ComplexFormation formation_GCVMULTI-CPLX_mod_lipo at 0x7fca44c0c950>\n",
      "Created <Metabolite CPLX0-782_mod_1:2fe2s_mod_1:4fe4s at 0x7fca44c0cad0> in <ComplexFormation formation_GCVMULTI-CPLX_mod_lipo at 0x7fca44c0c950>\n",
      "Created <Metabolite NiFeCoCN2_c at 0x7fca44b3c450> in <ComplexFormation formation_CPLX0-250_FORMATEDEHYDROGH-MONOMER_mod_8:4fe4s_mod_2:2fe2s_mod_bmocogdp_mod_NiFeCoCN2 at 0x7fca44b3c3d0>\n",
      "Created <Metabolite SH_c at 0x7fca44b3ca90> in <ComplexFormation formation_CPLX0-246_CPLX0-1342_mod_1:SH at 0x7fca44b3ca10>\n",
      "Created <Metabolite 23bpg_c at 0x7fca4451aa10> in <ComplexFormation formation_PHOSGLYCMUTASE_mod_23bpg at 0x7fca4451a990>\n",
      "Created <Metabolite dpm_c at 0x7fca44a42290> in <ComplexFormation formation_OHMETHYLBILANESYN-MONOMER_mod_dpm at 0x7fca44a42210>\n",
      "Created <Metabolite tl_c at 0x7fca446b7090> in <ComplexFormation formation_S-ADENMETSYN-CPLX_mod_4:tl_mod_1:generic_divalent at 0x7fca44a5efd0>\n"
     ]
    }
   ],
   "source": [
    "for cplx_data in me.complex_data:\n",
    "    formation = cplx_data.formation\n",
    "    if formation:\n",
    "        formation.update()\n",
    "    else:\n",
    "        cplx_data.create_complex_formation()"
   ]
  },
  {
   "cell_type": "markdown",
   "metadata": {},
   "source": [
    "Crutch reactions for mets that are blocked. TODO remove"
   ]
  },
  {
   "cell_type": "code",
   "execution_count": 24,
   "metadata": {
    "collapsed": false
   },
   "outputs": [],
   "source": [
    "for met in me.metabolites:\n",
    "    if met.id.endswith(\"_c\") and len(met.reactions) == 1:\n",
    "        r = cobra.Reaction(\"EX_\" + met.id)\n",
    "        me.add_reaction(r)\n",
    "        r.reaction = \" <=> \" + met.id"
   ]
  },
  {
   "cell_type": "markdown",
   "metadata": {},
   "source": [
    "## Associate Complexes with Reactions"
   ]
  },
  {
   "cell_type": "code",
   "execution_count": 25,
   "metadata": {
    "collapsed": false
   },
   "outputs": [
    {
     "name": "stdout",
     "output_type": "stream",
     "text": [
      "Fixed _DASH:  D__LACtex\n",
      "Fixed _DASH:  L__LACD2\n",
      "Fixed _DASH:  L__LACD3\n",
      "Fixed _DASH:  D__LACt2pp\n",
      "Fixed _DASH:  L__LACtex\n",
      "Fixed _DASH:  L__LACt2rpp\n"
     ]
    }
   ],
   "source": [
    "# associate reaction id with the old ME complex id (including modifications)\n",
    "rxnToModCplxDict = flat_files.get_reaction_to_modified_complex(generic=True)"
   ]
  },
  {
   "cell_type": "code",
   "execution_count": 26,
   "metadata": {
    "collapsed": false
   },
   "outputs": [
    {
     "name": "stdout",
     "output_type": "stream",
     "text": [
      "Created <Metabolite CPLX0-7817_mod_Oxidized at 0x7fca4356d750> in <MetabolicReaction RNDR1b3_FWD_RIBONUCLEOSIDE-DIP-REDUCTII-CPLX at 0x7fca4356d710>\n",
      "Created <Metabolite GLUTAREDOXIN-MONOMER_mod_Oxidized at 0x7fca4356d7d0> in <MetabolicReaction RNDR1b1_FWD_RIBONUCLEOSIDE-DIP-REDUCTII-CPLX at 0x7fca4356d790>\n",
      "Created <Metabolite GRXC-MONOMER_mod_Oxidized at 0x7fca4356d850> in <MetabolicReaction RNDR1b4_FWD_RIBONUCLEOSIDE-DIP-REDUCTII-CPLX at 0x7fca4356d810>\n",
      "Created <Metabolite GRXB-MONOMER_mod_Oxidized at 0x7fca4356d950> in <MetabolicReaction RNDR1b2_FWD_RIBONUCLEOSIDE-DIP-REDUCTII-CPLX at 0x7fca4356d5d0>\n",
      "Created <Metabolite EG50003-MONOMER_mod_pan4p_mod_3ha at 0x7fca4356df50> in <MetabolicReaction 3OAR401_REV_3-OXOACYL-ACP-REDUCT-MONOMER at 0x7fca4356df10>\n",
      "Created <Metabolite EG50003-MONOMER_mod_pan4p_mod_act at 0x7fca4356df90> in <MetabolicReaction 3OAR401_REV_3-OXOACYL-ACP-REDUCT-MONOMER at 0x7fca4356df10>\n",
      "Created <Metabolite EG50003-MONOMER_mod_pan4p_mod_ddca at 0x7fca44882150> in <MetabolicReaction ACPPAT1201_FWD_EG11437-MONOMER at 0x7fca44882110>\n",
      "Created <Metabolite EG50003-MONOMER_mod_pan4p_mod_mal at 0x7fca44882210> in <MetabolicReaction 3OAS1401_FWD_FABB-CPLX at 0x7fca448821d0>\n",
      "Created <Metabolite EG50003-MONOMER_mod_pan4p_mod_3omrs at 0x7fca44882250> in <MetabolicReaction 3OAS1401_FWD_FABB-CPLX at 0x7fca448821d0>\n",
      "Created <Metabolite EG50003-MONOMER_mod_pan4p_mod_pim at 0x7fca44882610> in <MetabolicReaction AOXSr21_FWD_7KAPSYN-CPLX at 0x7fca448825d0>\n",
      "Created <Metabolite CPLX0-1341_mod_1:2fe2s_mod_1:fe2 at 0x7fca448a7190> in <MetabolicReaction SufBCD_mod_1:2Fe2S_mod_1:fe2atp_mediated_FE_loading_FWD_CPLX_dummy at 0x7fca448a7150>\n",
      "Created <Metabolite pi at 0x7fca448a71d0> in <MetabolicReaction SufBCD_mod_1:2Fe2S_mod_1:fe2atp_mediated_FE_loading_FWD_CPLX_dummy at 0x7fca448a7150>\n",
      "Created <Metabolite CPLX0-1341_mod_1:2fe2s_mod_2:fe2 at 0x7fca448a7210> in <MetabolicReaction SufBCD_mod_1:2Fe2S_mod_1:fe2atp_mediated_FE_loading_FWD_CPLX_dummy at 0x7fca448a7150>\n",
      "Created <Metabolite atp at 0x7fca448a7250> in <MetabolicReaction SufBCD_mod_1:2Fe2S_mod_1:fe2atp_mediated_FE_loading_FWD_CPLX_dummy at 0x7fca448a7150>\n",
      "Created <Metabolite adp at 0x7fca448a7290> in <MetabolicReaction SufBCD_mod_1:2Fe2S_mod_1:fe2atp_mediated_FE_loading_FWD_CPLX_dummy at 0x7fca448a7150>\n",
      "Created <Metabolite EG50003-MONOMER_mod_pan4p_mod_opme at 0x7fca4477a490> in <MetabolicReaction OPMEACPS1_FWD_FABB-CPLX at 0x7fca4477a450>\n",
      "Created <Metabolite EG50003-MONOMER_mod_pan4p_mod_gme at 0x7fca4477a4d0> in <MetabolicReaction OPMEACPS1_FWD_FABB-CPLX at 0x7fca4477a450>\n",
      "Created <Metabolite EG50003-MONOMER_mod_pan4p_mod_t3c5ddece at 0x7fca4478cad0> in <MetabolicReaction 3HAD1211_FWD_FABZ-CPLX at 0x7fca4478ca90>\n",
      "Created <Metabolite EG50003-MONOMER_mod_pan4p_mod_3hcddec5e at 0x7fca4478cb10> in <MetabolicReaction 3HAD1211_FWD_FABZ-CPLX at 0x7fca4478ca90>\n",
      "Created <Metabolite EG50003-MONOMER_mod_pan4p_mod_3hcpalm9e at 0x7fca44799810> in <MetabolicReaction 3OAR1611_FWD_3-OXOACYL-ACP-REDUCT-MONOMER at 0x7fca447997d0>\n",
      "Created <Metabolite EG50003-MONOMER_mod_pan4p_mod_3ocpalm9e at 0x7fca44799850> in <MetabolicReaction 3OAR1611_FWD_3-OXOACYL-ACP-REDUCT-MONOMER at 0x7fca447997d0>\n",
      "Created <Metabolite EG11653-MONOMER_mod_1:fe2 at 0x7fca44799dd0> in <MetabolicReaction Fe_transfer_CyaY_mod_1:fe2_to_IscU_mod_1:fe2_FWD_CPLX_dummy at 0x7fca44799d90>\n",
      "Created <Metabolite IscU_mod_1:fe2 at 0x7fca44799e10> in <MetabolicReaction Fe_transfer_CyaY_mod_1:fe2_to_IscU_mod_1:fe2_FWD_CPLX_dummy at 0x7fca44799d90>\n",
      "Created <Metabolite IscU_mod_2:fe2 at 0x7fca44799e50> in <MetabolicReaction Fe_transfer_CyaY_mod_1:fe2_to_IscU_mod_1:fe2_FWD_CPLX_dummy at 0x7fca44799d90>\n",
      "Created <Metabolite EG50003-MONOMER_mod_pan4p_mod_3ooct at 0x7fca447b1d10> in <MetabolicReaction 3OAS801_FWD_FABB-CPLX at 0x7fca447b1cd0>\n",
      "Created <Metabolite EG50003-MONOMER_mod_pan4p_mod_hex at 0x7fca447b1d50> in <MetabolicReaction 3OAS801_FWD_FABB-CPLX at 0x7fca447b1cd0>\n",
      "Created <Metabolite EG50003-MONOMER_mod_pan4p_mod_tddec2e at 0x7fca447b1e10> in <MetabolicReaction EAR120y1_FWD_ENOYL-ACP-REDUCT-NADH-MONOMER at 0x7fca447b1dd0>\n",
      "Created <Metabolite EG50003-MONOMER_mod_pan4p_mod_3hmrs at 0x7fca43843210> in <MetabolicReaction U23GAAT1_FWD_UDPHYDROXYMYRGLUCOSAMNACETYLTRANS-MONO at 0x7fca43843190>\n",
      "Created <Metabolite EG50003-MONOMER_mod_pan4p_mod_3hhex at 0x7fca43865090> in <MetabolicReaction 3HAD601_FWD_FABZ-CPLX at 0x7fca43865050>\n",
      "Created <Metabolite EG50003-MONOMER_mod_pan4p_mod_thex2e at 0x7fca438650d0> in <MetabolicReaction 3HAD601_FWD_FABZ-CPLX at 0x7fca43865050>\n",
      "Created <Metabolite EG50003-MONOMER_mod_pan4p_mod_t3c9palme at 0x7fca43865810> in <MetabolicReaction 3HAD1611_FWD_FABZ-CPLX at 0x7fca438657d0>\n",
      "Created <Metabolite EG50003-MONOMER_mod_pan4p_mod_tde at 0x7fca44a89cd0> in <MetabolicReaction FA141ACPHi1_FWD_EG11095-MONOMER_mod_generic_divalent_mod_fe2_mod_generic_divalent_mod_generic_divalent_mod_generic_divalent at 0x7fca44a89c90>\n",
      "Created <Metabolite IscU_mod_1:2fe2s_mod_2:fe2 at 0x7fca44a99750> in <MetabolicReaction Fe_transfer_CyaY_mod_1:fe2_to_IscU_mod_1:2Fe2S_mod_1:fe2_FWD_CPLX_dummy at 0x7fca44a99710>\n",
      "Created <Metabolite IscU_mod_1:2fe2s_mod_1:fe2 at 0x7fca44a99790> in <MetabolicReaction Fe_transfer_CyaY_mod_1:fe2_to_IscU_mod_1:2Fe2S_mod_1:fe2_FWD_CPLX_dummy at 0x7fca44a99710>\n",
      "Created <Metabolite RED-THIOREDOXIN-MONOMER_mod_Oxidized at 0x7fca44a99b50> in <MetabolicReaction DSBDR1_FWD_CPLX_dummy at 0x7fca44a99b10>\n",
      "Created <Metabolite DSBD-MONOMER_mod_Oxidized at 0x7fca44a99b90> in <MetabolicReaction DSBDR1_FWD_CPLX_dummy at 0x7fca44a99b10>\n",
      "Created <Metabolite RED-THIOREDOXIN2-MONOMER_mod_Oxidized at 0x7fca44a99c50> in <MetabolicReaction DSBDR2_FWD_CPLX_dummy at 0x7fca44a99c10>\n",
      "Created <Metabolite EG50003-MONOMER_mod_pan4p_mod_hpme at 0x7fca44aaa610> in <MetabolicReaction OPMEACPR1_FWD_3-OXOACYL-ACP-REDUCT-MONOMER at 0x7fca44aaa4d0>\n",
      "Created <Metabolite EG50003-MONOMER_mod_pan4p_mod_epme at 0x7fca4471d110> in <MetabolicReaction EPMEACPR1_FWD_ENOYL-ACP-REDUCT-NADH-MONOMER at 0x7fca4471d0d0>\n",
      "Created <Metabolite EG50003-MONOMER_mod_pan4p_mod_pme at 0x7fca4471d150> in <MetabolicReaction EPMEACPR1_FWD_ENOYL-ACP-REDUCT-NADH-MONOMER at 0x7fca4471d0d0>\n",
      "Created <Metabolite CPLX0-246_CPLX0-1342_mod_pydx5p at 0x7fca4472d490> in <MetabolicReaction SCYSDS1_FWD_CPLX_dummy at 0x7fca4472d450>\n",
      "Created <Metabolite CPLX0-246_CPLX0-1342_mod_pydx5p_mod_1:SH at 0x7fca4472d4d0> in <MetabolicReaction SCYSDS1_FWD_CPLX_dummy at 0x7fca4472d450>\n",
      "Created <Metabolite h at 0x7fca4472d710> in <MetabolicReaction S_transfer_to_SufBCD_mod_1:2Fe1S_FWD_CPLX_dummy at 0x7fca4472d6d0>\n",
      "Created <Metabolite CPLX0-1341_mod_1:2fe2s at 0x7fca4472d750> in <MetabolicReaction S_transfer_to_SufBCD_mod_1:2Fe1S_FWD_CPLX_dummy at 0x7fca4472d6d0>\n",
      "Created <Metabolite CPLX0-1341_mod_1:2fe1s at 0x7fca4472d790> in <MetabolicReaction S_transfer_to_SufBCD_mod_1:2Fe1S_FWD_CPLX_dummy at 0x7fca4472d6d0>\n",
      "Created <Metabolite EG50003-MONOMER_mod_pan4p_mod_palm at 0x7fca44341050> in <MetabolicReaction AGPAT1601_FWD_1-ACYLGLYCEROL-3-P-ACYLTRANSFER-MONOMER at 0x7fca4472dfd0>\n",
      "Created <Metabolite 2tpr3dpcoa at 0x7fca44341e90> in <MetabolicReaction CITLY-CPLX_2tpr3dpcoa_FWD_G6340-MONOMER at 0x7fca44341dd0>\n",
      "Created <Metabolite EG50003-MONOMER_mod_pan4p_mod_3hpalm at 0x7fca44354dd0> in <MetabolicReaction 3HAD1601_FWD_FABZ-CPLX at 0x7fca44354d90>\n",
      "Created <Metabolite EG50003-MONOMER_mod_pan4p_mod_tpalm2e at 0x7fca44354e10> in <MetabolicReaction 3HAD1601_FWD_FABZ-CPLX at 0x7fca44354d90>\n",
      "Created <Metabolite EG50003-MONOMER_mod_pan4p_mod_ocdca at 0x7fca44354f10> in <MetabolicReaction G3PAT1801_FWD_GLYCEROL-3-P-ACYLTRANSFER-MONOMER at 0x7fca44354ed0>\n",
      "Created <Metabolite CPLX0-1341_mod_2:2fe2s at 0x7fca44098510> in <MetabolicReaction SufBCD_2:2fe2s_to_SufBCD_1:4fe4s_FWD_CPLX_dummy at 0x7fca440984d0>\n",
      "Created <Metabolite CPLX0-1341_mod_1:4fe4s at 0x7fca44098550> in <MetabolicReaction SufBCD_2:2fe2s_to_SufBCD_1:4fe4s_FWD_CPLX_dummy at 0x7fca440984d0>\n",
      "Created <Metabolite DISULFOXRED-MONOMER at 0x7fca4405b250> in <MetabolicReaction DSBAO11_FWD_DSBBPROT-MONOMER at 0x7fca4405b210>\n",
      "Created <Metabolite DISULFOXRED-MONOMER_mod_Oxidized at 0x7fca4405b290> in <MetabolicReaction DSBAO11_FWD_DSBBPROT-MONOMER at 0x7fca4405b210>\n",
      "Created <Metabolite CPLX-7524_mod_mn2 at 0x7fca4405b8d0> in <MetabolicReaction 4Fe4S_to_ErpA_by_IscU_FWD_EG12130-MONOMER_EG12131-MONOMER at 0x7fca4405b890>\n",
      "Created <Metabolite IscU_mod_1:4fe4s at 0x7fca4405b910> in <MetabolicReaction 4Fe4S_to_ErpA_by_IscU_FWD_EG12130-MONOMER_EG12131-MONOMER at 0x7fca4405b890>\n",
      "Created <Metabolite CPLX-7524_mod_mn2_mod_1:4fe4s at 0x7fca4405b950> in <MetabolicReaction 4Fe4S_to_ErpA_by_IscU_FWD_EG12130-MONOMER_EG12131-MONOMER at 0x7fca4405b890>\n",
      "Created <Metabolite EG50003-MONOMER_mod_pan4p_mod_hde at 0x7fca4405bf90> in <MetabolicReaction AGPAT1611_FWD_1-ACYLGLYCEROL-3-P-ACYLTRANSFER-MONOMER at 0x7fca4405bf50>\n",
      "Created <Metabolite EG50003-MONOMER_mod_pan4p_mod_3ocddec5e at 0x7fca43d3b990> in <MetabolicReaction 3OAS1211_FWD_FABB-CPLX at 0x7fca43d3b950>\n",
      "Created <Metabolite EG50003-MONOMER_mod_pan4p_mod_cdec3e at 0x7fca43d3b9d0> in <MetabolicReaction 3OAS1211_FWD_FABB-CPLX at 0x7fca43d3b950>\n",
      "Created <Metabolite IscS_mod_2:pydx5p at 0x7fca43d4b710> in <MetabolicReaction S_transfer_to_IscU_mod_1:2Fe2S_mod_2:fe2_FWD_CPLX_dummy at 0x7fca43d4b6d0>\n",
      "Created <Metabolite IscU_mod_1:2fe2s_mod_1:2fe1s at 0x7fca43d4b750> in <MetabolicReaction S_transfer_to_IscU_mod_1:2Fe2S_mod_2:fe2_FWD_CPLX_dummy at 0x7fca43d4b6d0>\n",
      "Created <Metabolite IscS_mod_2:pydx5p_mod_1:SH at 0x7fca43d4b790> in <MetabolicReaction S_transfer_to_IscU_mod_1:2Fe2S_mod_2:fe2_FWD_CPLX_dummy at 0x7fca43d4b6d0>\n",
      "Created <Metabolite EG50003-MONOMER_mod_pan4p_mod_octe at 0x7fca43d4bb10> in <MetabolicReaction G3PAT1811_FWD_GLYCEROL-3-P-ACYLTRANSFER-MONOMER at 0x7fca43d4bad0>\n",
      "Created <Metabolite EG50003-MONOMER_mod_pan4p_mod_3hcmrs7e at 0x7fca43d5a110> in <MetabolicReaction 3HAD1411_FWD_FABZ-CPLX at 0x7fca43d5a0d0>\n",
      "Created <Metabolite EG50003-MONOMER_mod_pan4p_mod_t3c7mrse at 0x7fca43d5a150> in <MetabolicReaction 3HAD1411_FWD_FABZ-CPLX at 0x7fca43d5a0d0>\n",
      "Created <Metabolite FLAVODOXIN1-MONOMER_mod_Oxidized at 0x7fca43d5a790> in <MetabolicReaction RNTR1c21_FWD_RIBONUCLEOSIDE-TRIP-REDUCT-CPLX at 0x7fca43d5a6d0>\n",
      "Created <Metabolite FLAVODOXIN2-MONOMER_mod_Oxidized at 0x7fca43d5a850> in <MetabolicReaction RNTR1c22_FWD_RIBONUCLEOSIDE-TRIP-REDUCT-CPLX at 0x7fca43d5a810>\n",
      "Created <Metabolite EG50003-MONOMER_mod_pan4p_mod_dca at 0x7fca43d5ab50> in <MetabolicReaction EAR100x1_FWD_ENOYL-ACP-REDUCT-NADH-MONOMER at 0x7fca43d5ab10>\n",
      "Created <Metabolite EG50003-MONOMER_mod_pan4p_mod_tdec2e at 0x7fca43d5ab90> in <MetabolicReaction EAR100x1_FWD_ENOYL-ACP-REDUCT-NADH-MONOMER at 0x7fca43d5ab10>\n",
      "Created <Metabolite CPLX0-7824_mod_1:4fe4s at 0x7fca43bce090> in <MetabolicReaction 4Fe4S_to_ErpA_by_SufA_FWD_CPLX_dummy at 0x7fca43bce050>\n",
      "Created <Metabolite EG50003-MONOMER_mod_pan4p_mod_egme at 0x7fca43b0c290> in <MetabolicReaction OGMEACPD1_FWD_FABZ-CPLX at 0x7fca43b0c250>\n",
      "Created <Metabolite EG50003-MONOMER_mod_pan4p_mod_hgme at 0x7fca43b0c2d0> in <MetabolicReaction OGMEACPD1_FWD_FABZ-CPLX at 0x7fca43b0c250>\n",
      "Created <Metabolite EG50003-MONOMER_mod_pan4p_mod_ogme at 0x7fca43b0c350> in <MetabolicReaction OGMEACPR1_FWD_3-OXOACYL-ACP-REDUCT-MONOMER at 0x7fca43b0c310>\n",
      "Created <Metabolite IscU_mod_1:2fe1s at 0x7fca43b1ead0> in <MetabolicReaction S_transfer_to_IscU_mod_2:fe2_FWD_CPLX_dummy at 0x7fca43b1ea90>\n",
      "Created <Metabolite EG50003-MONOMER_mod_pan4p_mod_3oddec at 0x7fca43b2e490> in <MetabolicReaction 3OAS1201_FWD_FABB-CPLX at 0x7fca43b2e450>\n",
      "Created <Metabolite EG50003-MONOMER_mod_pan4p_mod_tmrs2e at 0x7fca43abe250> in <MetabolicReaction 3HAD1401_FWD_FABZ-CPLX at 0x7fca43abe210>\n",
      "Created <Metabolite IscU_mod_2:2fe2s at 0x7fca43abe710> in <MetabolicReaction I4FE4SR1_FWD_CPLX_dummy at 0x7fca43abe6d0>\n",
      "Created <Metabolite IscU_mod_1:2fe2s at 0x7fca43ad1890> in <MetabolicReaction Fe_transfer_CyaY_mod_1:fe2_to_IscU_mod_1:2Fe2S_FWD_CPLX_dummy at 0x7fca43ad1850>\n",
      "Created <Metabolite EG11597-MONOMER_mod_cosh at 0x7fca43ae7250> in <MetabolicReaction MPTS1_FWD_EG11598-MONOMER at 0x7fca43ae7210>\n",
      "Created <Metabolite EG11597-MONOMER_mod_coo at 0x7fca43ae7290> in <MetabolicReaction MPTS1_FWD_EG11598-MONOMER at 0x7fca43ae7210>\n",
      "Created <Metabolite DSBG-CPLX_mod_Oxidized at 0x7fca43977310> in <MetabolicReaction DSBGGT1_FWD_CPLX_dummy at 0x7fca439772d0>\n",
      "Created <Metabolite EG50003-MONOMER_mod_pan4p_mod_toct2e at 0x7fca4398ae10> in <MetabolicReaction EAR80x1_FWD_ENOYL-ACP-REDUCT-NADH-MONOMER at 0x7fca4398add0>\n",
      "Created <Metabolite IscA_tetra_mod_1:4fe4s at 0x7fca43999050> in <MetabolicReaction 4Fe4S_to_IscA_by_IscU_FWD_EG12130-MONOMER_EG12131-MONOMER at 0x7fca4398afd0>\n",
      "Created <Metabolite IscA_tetra_mod_1:2fe2s at 0x7fca439aa4d0> in <MetabolicReaction 2Fe2S_to_IscA_by_IscU_FWD_EG12130-MONOMER_EG12131-MONOMER at 0x7fca439aa490>\n",
      "Created <Metabolite DSBC-CPLX_mod_Oxidized at 0x7fca438e2510> in <MetabolicReaction DSBCGT1_FWD_CPLX_dummy at 0x7fca438e24d0>\n",
      "Created <Metabolite EG50003-MONOMER_mod_pan4p_mod_ac at 0x7fca438e2b50> in <MetabolicReaction KAS141_FWD_FABB-CPLX at 0x7fca438e2b10>\n",
      "Created <Metabolite EG11597-MONOMER_mod_amp at 0x7fca438f2090> in <MetabolicReaction MPTSS1_FWD_EG10154-MONOMER at 0x7fca438f2050>\n",
      "Created <Metabolite dad__5 at 0x7fca438f2190> in <MetabolicReaction BTS6_FWD_BIOTIN-SYN-CPLX_mod_4fe4s_mod_2fe2s at 0x7fca438f2150>\n",
      "Created <Metabolite met__L at 0x7fca438f21d0> in <MetabolicReaction BTS6_FWD_BIOTIN-SYN-CPLX_mod_4fe4s_mod_2fe2s at 0x7fca438f2150>\n",
      "Created <Metabolite EG50003-MONOMER_mod_pan4p_mod_cddec5e at 0x7fca43645c10> in <MetabolicReaction EAR121x1_FWD_ENOYL-ACP-REDUCT-NADH-MONOMER at 0x7fca43645bd0>\n",
      "Created <Metabolite CPLX0-1341_mod_1:2fe2s_mod_1:2fe1s at 0x7fca43645f90> in <MetabolicReaction S_transfer_to_SufBCD_mod_1:2Fe2S_mod_1:2Fe1S_FWD_CPLX_dummy at 0x7fca43645f50>\n",
      "Created <Metabolite fe2 at 0x7fca43655050> in <MetabolicReaction CyaY_Fe_loading_FWD_CPLX_dummy at 0x7fca43645fd0>\n",
      "Created <Metabolite EG50003-MONOMER_mod_pan4p_mod_3ocmrs7e at 0x7fca435b6490> in <MetabolicReaction 3OAR1411_FWD_3-OXOACYL-ACP-REDUCT-MONOMER at 0x7fca435b63d0>\n",
      "Created <Metabolite CPLX0-1341_mod_2:fe2 at 0x7fca435b6650> in <MetabolicReaction S_transfer_to_SufBCD_mod_2:fe2_FWD_CPLX_dummy at 0x7fca435b6610>\n",
      "Created <Metabolite CPLX0-1341_mod_1:fe2 at 0x7fca435b68d0> in <MetabolicReaction SufBCD_mod_1:fe2atp_mediated_FE_loading_FWD_CPLX_dummy at 0x7fca435b6850>\n",
      "Created <Metabolite EG50003-MONOMER_mod_pan4p_mod_3hoct at 0x7fca435eb450> in <MetabolicReaction 3OAR801_REV_3-OXOACYL-ACP-REDUCT-MONOMER at 0x7fca435eb410>\n",
      "Created <Metabolite EG50003-MONOMER_mod_pan4p_mod_3odec at 0x7fca435eb990> in <MetabolicReaction 3OAS1001_FWD_FABB-CPLX at 0x7fca435eb950>\n",
      "Created <Metabolite EG50003-MONOMER_mod_pan4p_mod_myrs at 0x7fca435ebd50> in <MetabolicReaction EDTXS21_FWD_MYRISTOYLACYLTRAN-MONOMER at 0x7fca435ebd10>\n",
      "Created <Metabolite EG10544-MONOMER_mod_palmitate at 0x7fca434f3b90> in <MetabolicReaction ALPATG160pp1_FWD_EG10168-MONOMER at 0x7fca434f3b50>\n",
      "Created <Metabolite metsox__R__L at 0x7fca44a07a90> in <MetabolicReaction PFL_act_FWD_PFLACTENZ-MONOMER at 0x7fca44a07a50>\n",
      "Created <Metabolite dad__2 at 0x7fca44a07ad0> in <MetabolicReaction PFL_act_FWD_PFLACTENZ-MONOMER at 0x7fca44a07a50>\n",
      "Created <Metabolite amet at 0x7fca44a07b10> in <MetabolicReaction PFL_act_FWD_PFLACTENZ-MONOMER at 0x7fca44a07a50>\n",
      "Created <Metabolite EG50003-MONOMER_mod_pan4p_mod_3ohex at 0x7fca44a28ad0> in <MetabolicReaction 3OAS601_FWD_FABB-CPLX at 0x7fca44a28a90>\n",
      "Created <Metabolite EG50003-MONOMER_mod_pan4p_mod_but at 0x7fca44a28b10> in <MetabolicReaction 3OAS601_FWD_FABB-CPLX at 0x7fca44a28a90>\n",
      "Created <Metabolite EG50003-MONOMER_mod_pan4p_mod_3hddec at 0x7fca443c8690> in <MetabolicReaction 3OAR1201_REV_3-OXOACYL-ACP-REDUCT-MONOMER at 0x7fca443c8650>\n",
      "Created <Metabolite EG50003-MONOMER_mod_pan4p_mod_toctd2e at 0x7fca4420ec90> in <MetabolicReaction EAR180y1_FWD_ENOYL-ACP-REDUCT-NADH-MONOMER at 0x7fca4420ec50>\n",
      "Created <Metabolite EG50003-MONOMER_mod_pan4p_mod_but2e at 0x7fca440d2710> in <MetabolicReaction EAR40x1_FWD_ENOYL-ACP-REDUCT-NADH-MONOMER at 0x7fca440d2750>\n",
      "Created <Metabolite 23bpg at 0x7fca440e23d0> in <MetabolicReaction 23bpg_generation_FWD_CPLX_dummy at 0x7fca440e2390>\n",
      "Created <Metabolite EG50003-MONOMER_mod_pan4p_mod_3ooctd at 0x7fca440e2550> in <MetabolicReaction 3OAS1801_FWD_FABB-CPLX at 0x7fca440e2510>\n",
      "Created <Metabolite hemed at 0x7fca43f45c10> in <MetabolicReaction hemeD_synthesis_FWD_HYDROPEROXIDII-CPLX_mod_6:hemed at 0x7fca43f45bd0>\n",
      "Created <Metabolite h2o2 at 0x7fca43f45c50> in <MetabolicReaction hemeD_synthesis_FWD_HYDROPEROXIDII-CPLX_mod_6:hemed at 0x7fca43f45bd0>\n",
      "Created <Metabolite pheme at 0x7fca43f45c90> in <MetabolicReaction hemeD_synthesis_FWD_HYDROPEROXIDII-CPLX_mod_6:hemed at 0x7fca43f45bd0>\n",
      "Created <Metabolite EG50003-MONOMER_mod_pan4p_mod_3opalm at 0x7fca43f55490> in <MetabolicReaction 3OAS1601_FWD_FABB-CPLX at 0x7fca43f55450>\n",
      "Created <Metabolite CPLX-7524_mod_mn2_mod_1:2fe2s at 0x7fca43f66210> in <MetabolicReaction 2Fe2S_to_ErpA_by_SufA_FWD_CPLX_dummy at 0x7fca43f661d0>\n",
      "Created <Metabolite CPLX0-7824_mod_1:2fe2s at 0x7fca43f66250> in <MetabolicReaction 2Fe2S_to_ErpA_by_SufA_FWD_CPLX_dummy at 0x7fca43f661d0>\n",
      "Created <Metabolite EG50003-MONOMER_mod_pan4p_mod_3hdec at 0x7fca4390ac10> in <MetabolicReaction 3OAR1001_REV_3-OXOACYL-ACP-REDUCT-MONOMER at 0x7fca4390ab90>\n",
      "Created <Metabolite EG50003-MONOMER_mod_pan4p_mod_t3c11vace at 0x7fca44592450> in <MetabolicReaction EAR181x1_FWD_ENOYL-ACP-REDUCT-NADH-MONOMER at 0x7fca44592410>\n",
      "Created <Metabolite tl at 0x7fca44118410> in <MetabolicReaction tl_generation_FWD_CPLX_dummy at 0x7fca441183d0>\n",
      "Created <Metabolite EG50003-MONOMER_mod_pan4p_mod_3hocta at 0x7fca43f91f10> in <MetabolicReaction 3OAR1801_REV_3-OXOACYL-ACP-REDUCT-MONOMER at 0x7fca43f91ed0>\n",
      "Created <Metabolite dpm at 0x7fca43fb2790> in <MetabolicReaction dpm_import_FWD_CPLX_dummy at 0x7fca43fb2750>\n",
      "Created <Metabolite EG50003-MONOMER_mod_pan4p_mod_3hcvac11e at 0x7fca43fb2b10> in <MetabolicReaction 3HAD1811_FWD_FABZ-CPLX at 0x7fca43fb2ad0>\n",
      "Created <Metabolite EG50003-MONOMER_mod_pan4p_mod_3ocvac11e at 0x7fca43c01cd0> in <MetabolicReaction 3OAR1811_FWD_3-OXOACYL-ACP-REDUCT-MONOMER at 0x7fca43c01c90>\n"
     ]
    }
   ],
   "source": [
    "for reaction_data in me.stoichiometric_data:\n",
    "    # Some reactions have no complex associated. Determine if they are\n",
    "    # spontaneous or orphan reactions.\n",
    "    try:\n",
    "        complexes = rxnToModCplxDict[reaction_data.id]\n",
    "    except KeyError:\n",
    "        # These are orphans catalyzed by a dummy\n",
    "        if reaction_data.id == \"dummy_reaction\" or \\\n",
    "                not reaction_info.is_spontaneous[reaction_data.id]:\n",
    "            complexes = [\"CPLX_dummy\"]\n",
    "        # These are truly spontaneous\n",
    "        else:\n",
    "            complexes = [None]\n",
    "    for complex_id in complexes:\n",
    "        complex_data = me.complex_data.get_by_id(complex_id) if complex_id else None\n",
    "        if reaction_data.lower_bound < 0:\n",
    "            r = MetabolicReaction(reaction_data.id + \"_REV_\" + str(complex_id))\n",
    "            me.add_reaction(r)\n",
    "            r.keff = 65\n",
    "            r.stoichiometric_data = reaction_data\n",
    "            if complex_data is not None:\n",
    "                r.complex_data = complex_data\n",
    "            r.reverse = True\n",
    "            r.update(create_new=True)\n",
    "        if reaction_data.upper_bound > 0:\n",
    "            r = MetabolicReaction(reaction_data.id + \"_FWD_\" + str(complex_id))\n",
    "            me.add_reaction(r)\n",
    "            r.keff = 65\n",
    "            r.stoichiometric_data = reaction_data\n",
    "            if complex_data is not None:\n",
    "                r.complex_data = complex_data\n",
    "            r.reverse = False\n",
    "            r.update(create_new=True)"
   ]
  },
  {
   "cell_type": "code",
   "execution_count": 27,
   "metadata": {
    "collapsed": false
   },
   "outputs": [
    {
     "data": {
      "text/plain": [
       "'4.27350427350427e-6*mu G6340-MONOMER + 2tpr3dpcoa --> '"
      ]
     },
     "execution_count": 27,
     "metadata": {},
     "output_type": "execute_result"
    }
   ],
   "source": [
    "# This reaction is weird\n",
    "me.reactions.get_by_id('CITLY-CPLX_2tpr3dpcoa_FWD_G6340-MONOMER').reaction"
   ]
  },
  {
   "cell_type": "markdown",
   "metadata": {},
   "source": [
    "Rebuild transcription and translation to use tRNA (now that tRNA synthetase complexes are in the model"
   ]
  },
  {
   "cell_type": "code",
   "execution_count": 28,
   "metadata": {
    "collapsed": false
   },
   "outputs": [],
   "source": [
    "for r in me.reactions:\n",
    "    if isinstance(r, tRNAChargingReaction):\n",
    "        r.update()\n",
    "for r in me.reactions:\n",
    "    if isinstance(r, TranslationReaction):\n",
    "        r.update()\n",
    "    if isinstance(r, TranscriptionReaction):\n",
    "        r.update()\n",
    "    if isinstance(r, MetabolicReaction):\n",
    "        r.update()"
   ]
  },
  {
   "cell_type": "markdown",
   "metadata": {},
   "source": [
    "Remove unused protein and mRNA to make the model solve faster (TODO remove unused complexes too)"
   ]
  },
  {
   "cell_type": "code",
   "execution_count": 29,
   "metadata": {
    "collapsed": false
   },
   "outputs": [],
   "source": [
    "for p in me.metabolites.query(\"protein\"):\n",
    "    if len(p._reaction) == 1:\n",
    "        list(p._reaction)[0].delete(remove_orphans=True)\n",
    "for m in me.metabolites.query(\"RNA\"):\n",
    "    if len(m._reaction) == 1:\n",
    "        list(m._reaction)[0].delete(remove_orphans=True)"
   ]
  },
  {
   "cell_type": "markdown",
   "metadata": {},
   "source": [
    "This gives the total number of genes included"
   ]
  },
  {
   "cell_type": "code",
   "execution_count": 30,
   "metadata": {
    "collapsed": false
   },
   "outputs": [
    {
     "data": {
      "text/plain": [
       "1648"
      ]
     },
     "execution_count": 30,
     "metadata": {},
     "output_type": "execute_result"
    }
   ],
   "source": [
    "len(me.reactions.query(\"transcription\"))"
   ]
  },
  {
   "cell_type": "markdown",
   "metadata": {},
   "source": [
    "## Attempt to set keffs"
   ]
  },
  {
   "cell_type": "code",
   "execution_count": 31,
   "metadata": {
    "collapsed": false,
    "scrolled": true
   },
   "outputs": [
    {
     "name": "stdout",
     "output_type": "stream",
     "text": [
      "G5SADs_FWD_None has no associated complex\n",
      "ACONIs_REV_None has no associated complex\n",
      "ACONIs_FWD_None has no associated complex\n",
      "CPGNexs_FWD_None has no associated complex\n",
      "ARBTNexs_FWD_None has no associated complex\n",
      "DATPHs_FWD_None has no associated complex\n",
      "METOX1s_FWD_None has no associated complex\n",
      "FE3HOXexs_FWD_None has no associated complex\n",
      "no keff found for keff_METAT_S_DASH_ADENMETSYN_DASH_CPLX_mod_4_COLON_generic_monovalent_mod_1_COLON_generic_divalent\n",
      "ATPHs_FWD_None has no associated complex\n",
      "RFAMPtex_REV_None has no associated complex\n",
      "RFAMPtex_FWD_None has no associated complex\n",
      "O2tpp_REV_None has no associated complex\n",
      "O2tpp_FWD_None has no associated complex\n",
      "NOVBCNtex_REV_None has no associated complex\n",
      "NOVBCNtex_FWD_None has no associated complex\n",
      "MTHTHFSs_FWD_None has no associated complex\n",
      "SO2tpp_REV_None has no associated complex\n",
      "SO2tpp_FWD_None has no associated complex\n",
      "DMSOtpp_REV_None has no associated complex\n",
      "DMSOtpp_FWD_None has no associated complex\n",
      "ETOHtrpp_REV_None has no associated complex\n",
      "ETOHtrpp_FWD_None has no associated complex\n",
      "CO2tpp_REV_None has no associated complex\n",
      "CO2tpp_FWD_None has no associated complex\n",
      "FALGTHLs_REV_None has no associated complex\n",
      "FALGTHLs_FWD_None has no associated complex\n",
      "FALDtpp_REV_None has no associated complex\n",
      "FALDtpp_FWD_None has no associated complex\n",
      "DHPTDCs2_FWD_None has no associated complex\n",
      "MEOHtrpp_REV_None has no associated complex\n",
      "MEOHtrpp_FWD_None has no associated complex\n",
      "H2St1pp_FWD_None has no associated complex\n",
      "OMCDC_FWD_None has no associated complex\n",
      "METOX2s_FWD_None has no associated complex\n",
      "AOBUTDs_FWD_None has no associated complex\n",
      "NOtpp_REV_None has no associated complex\n",
      "NOtpp_FWD_None has no associated complex\n",
      "H2tpp_REV_None has no associated complex\n",
      "H2tpp_FWD_None has no associated complex\n",
      "FECRMexs_FWD_None has no associated complex\n",
      "FEOXAMexs_FWD_None has no associated complex\n",
      "ACALDtpp_REV_None has no associated complex\n",
      "ACALDtpp_FWD_None has no associated complex\n",
      "N2Otpp_REV_None has no associated complex\n",
      "N2Otpp_FWD_None has no associated complex\n",
      "GTPHs_FWD_None has no associated complex\n",
      "CBMD_FWD_None has no associated complex\n",
      "FEENTERexs_FWD_None has no associated complex\n"
     ]
    }
   ],
   "source": [
    "divalent_list = flat_files.divalent_list\n",
    "monovalent_list = ['_mod_k','_mod_na1']\n",
    "from pickle import load\n",
    "with open(\"test_keffs.pickle\", \"rb\") as infile:\n",
    "    old_keffs = load(infile)\n",
    "keffs = {}\n",
    "\n",
    "for keff, value in old_keffs.items():\n",
    "    for i in divalent_list: \n",
    "        keff = keff.replace(i,'generic_divalent')\n",
    "    for i in monovalent_list: \n",
    "        keff = keff.replace(i, '_mod_generic_monovalent')\n",
    "    keffs[keff] = value\n",
    "    \n",
    "for r in me.reactions:\n",
    "    if isinstance(r, MetabolicReaction) and r.complex_data is None:\n",
    "        print r.id, \"has no associated complex\"\n",
    "        continue\n",
    "    if isinstance(r, MetabolicReaction) and r.complex_data.id != \"CPLX_dummy\":\n",
    "        met_rxn = r\n",
    "        key = met_rxn.id.replace(\"-\", \"_DASH_\").replace(\"__\", \"_DASH_\").replace(\":\",\"_COLON_\")\n",
    "        #key = met_rxn.id\n",
    "        key = \"keff_\" + key.replace(\"_FWD_\", \"_\").replace(\"_REV_\", \"_\")\n",
    "\n",
    "        matches = [i for i in keffs if key in i]\n",
    "        # get the direction\n",
    "        if met_rxn.reverse:\n",
    "            matches = [i for i in matches if i.endswith(\"_reverse_priming_keff\")]\n",
    "        else:\n",
    "            matches = [i for i in matches if i.endswith(\"_forward_priming_keff\")]\n",
    "        if len(matches) == 1:\n",
    "            met_rxn.keff = keffs[matches[0]]\n",
    "        elif len(matches) > 0:\n",
    "            if len(matches) == len([i for i in matches if key + \"_mod_\"]):\n",
    "                met_rxn.keff = keffs[matches[0]]\n",
    "            else:\n",
    "                print key, len(matches)\n",
    "        else:  # len(matches) == 0\n",
    "            print \"no keff found for\", key"
   ]
  },
  {
   "cell_type": "code",
   "execution_count": 32,
   "metadata": {
    "collapsed": false
   },
   "outputs": [
    {
     "name": "stdout",
     "output_type": "stream",
     "text": [
      "EX_g6p_e\n",
      "EX_thymd_e\n",
      "EX_gal__bD_e\n",
      "EX_15dap_e\n",
      "EX_colipap_e\n",
      "EX_r5p_e\n",
      "EX_tartr__D_e\n",
      "EX_arbt_e\n",
      "EX_duri_e\n",
      "EX_glyald_e\n",
      "EX_spmd_e\n",
      "EX_pro__L_e\n",
      "EX_his__L_e\n",
      "EX_cynt_e\n",
      "EX_dha_e\n",
      "EX_glyc2p_e\n",
      "EX_taur_e\n",
      "EX_anhgm_e\n",
      "EX_5dglcn_e\n",
      "EX_glcr_e\n",
      "EX_g1p_e\n",
      "EX_xtsn_e\n",
      "EX_hxa_e\n",
      "EX_mnl_e\n",
      "EX_lac__D_e\n",
      "EX_ser__D_e\n",
      "EX_tym_e\n",
      "EX_dms_e\n",
      "EX_ura_e\n",
      "EX_lac__L_e\n",
      "EX_3gmp_e\n",
      "EX_inost_e\n",
      "EX_quin_e\n",
      "EX_alaala_e\n",
      "EX_acser_e\n",
      "EX_tre_e\n",
      "EX_feenter_e\n",
      "EX_uacgam_e\n",
      "EX_ttrcyc_e\n",
      "EX_nac_e\n",
      "EX_peamn_e\n",
      "EX_tmao_e\n",
      "EX_ile__L_e\n",
      "EX_fald_e\n",
      "EX_ddca_e\n",
      "EX_fe3hox_e\n",
      "EX_akg_e\n",
      "EX_aso3_e\n",
      "EX_dtmp_e\n",
      "EX_imp_e\n",
      "EX_xyl__D_e\n",
      "EX_ala__B_e\n",
      "EX_tyrp_e\n",
      "EX_lipa_cold_e\n",
      "EX_LalaLglu_e\n",
      "EX_g3pi_e\n",
      "EX_glcur1p_e\n",
      "EX_crn__D_e\n",
      "EX_fruur_e\n",
      "EX_pheme_e\n",
      "EX_etoh_e\n",
      "EX_ttdcea_e\n",
      "EX_leu__L_e\n",
      "EX_3cmp_e\n",
      "EX_acolipa_e\n",
      "EX_3hcinnm_e\n",
      "EX_no3_e\n",
      "EX_trp__L_e\n",
      "EX_12ppd__S_e\n",
      "EX_feoxam_e\n",
      "EX_sbt__D_e\n",
      "EX_g3ps_e\n",
      "EX_cd2_e\n",
      "EX_lipa_e\n",
      "EX_23camp_e\n",
      "EX_g3pg_e\n",
      "EX_asn__L_e\n",
      "EX_enlipa_e\n",
      "EX_LalaDglu_e\n",
      "EX_urea_e\n",
      "EX_mincyc_e\n",
      "EX_glyc__R_e\n",
      "EX_arg__L_e\n",
      "EX_adn_e\n",
      "EX_cgly_e\n",
      "EX_mmet_e\n",
      "EX_hacolipa_e\n",
      "EX_ser__L_e\n",
      "EX_g3pe_e\n",
      "EX_hdca_e\n",
      "EX_dad__2_e\n",
      "EX_manglyc_e\n",
      "EX_malttr_e\n",
      "EX_pacald_e\n",
      "EX_csn_e\n",
      "EX_4abut_e\n",
      "EX_but_e\n",
      "EX_ins_e\n",
      "EX_thr__L_e\n",
      "EX_galct__D_e\n",
      "EX_3hpp_e\n",
      "EX_LalaDgluMdapDala_e\n",
      "EX_acgal1p_e\n",
      "EX_octa_e\n",
      "EX_pydxn_e\n",
      "EX_tma_e\n",
      "EX_xan_e\n",
      "EX_galctn__L_e\n",
      "EX_gthox_e\n",
      "EX_ttdca_e\n",
      "EX_cm_e\n",
      "EX_rmn_e\n",
      "EX_cmp_e\n",
      "EX_skm_e\n",
      "EX_eca4colipa_e\n",
      "EX_enter_e\n",
      "EX_nmn_e\n",
      "EX_uri_e\n",
      "EX_lys__L_e\n",
      "EX_udpgal_e\n",
      "EX_23ccmp_e\n",
      "EX_meoh_e\n",
      "EX_indole_e\n",
      "EX_gthrd_e\n",
      "EX_gsn_e\n",
      "EX_ocdca_e\n",
      "EX_fru_e\n",
      "EX_dcyt_e\n",
      "EX_rfamp_e\n",
      "EX_dimp_e\n",
      "EX_arbtn_e\n",
      "EX_glyb_e\n",
      "EX_galctn__D_e\n",
      "EX_h2o2_e\n",
      "EX_cyan_e\n",
      "EX_acnam_e\n",
      "EX_galur_e\n",
      "EX_halipa_e\n",
      "EX_ethso3_e\n",
      "EX_LalaDgluMdap_e\n",
      "EX_pnto__R_e\n",
      "EX_acgal_e\n",
      "EX_doxrbcn_e\n",
      "EX_udpglcur_e\n",
      "EX_idon__L_e\n",
      "EX_pyr_e\n",
      "EX_ascb__L_e\n",
      "EX_hdcea_e\n",
      "EX_frulys_e\n",
      "EX_udpacgal_e\n",
      "EX_o16a4colipa_e\n",
      "EX_met__D_e\n",
      "EX_gam6p_e\n",
      "EX_acgam_e\n",
      "EX_sulfac_e\n",
      "EX_gdp_e\n",
      "EX_acmana_e\n",
      "EX_dca_e\n",
      "EX_34dhpac_e\n",
      "EX_fusa_e\n",
      "EX_cys__D_e\n",
      "EX_man6p_e\n",
      "EX_tyr__L_e\n",
      "EX_glu__L_e\n",
      "EX_butso3_e\n",
      "EX_etha_e\n",
      "EX_tsul_e\n",
      "EX_asp__L_e\n",
      "EX_cit_e\n",
      "EX_gua_e\n",
      "EX_pydx_e\n",
      "EX_melib_e\n",
      "EX_gly_e\n",
      "EX_progly_e\n",
      "EX_pydam_e\n",
      "EX_o2s_e\n",
      "EX_cpgn__un_e\n",
      "EX_ump_e\n",
      "EX_hom__L_e\n",
      "EX_fum_e\n",
      "EX_gbbtn_e\n",
      "EX_arab__L_e\n",
      "EX_2ddglcn_e\n",
      "EX_glyc3p_e\n",
      "EX_lipoate_e\n",
      "EX_dcmp_e\n",
      "EX_tcynt_e\n",
      "EX_3amp_e\n",
      "EX_chol_e\n",
      "EX_glyclt_e\n",
      "EX_glcur_e\n",
      "EX_ppa_e\n",
      "EX_so2_e\n",
      "EX_23cgmp_e\n",
      "EX_cytd_e\n",
      "EX_alltn_e\n",
      "EX_glyc_e\n",
      "EX_ppal_e\n",
      "EX_ala__L_e\n",
      "EX_minohp_e\n",
      "EX_fe3hox__un_e\n",
      "EX_succ_e\n",
      "EX_no_e\n",
      "EX_23cump_e\n",
      "EX_dgmp_e\n",
      "EX_gam_e\n",
      "EX_for_e\n",
      "EX_f6p_e\n",
      "EX_met__L_e\n",
      "EX_acac_e\n",
      "EX_gal_e\n",
      "EX_phe__L_e\n",
      "EX_h2_e\n",
      "EX_gal1p_e\n",
      "EX_3ump_e\n",
      "EX_tartr__L_e\n",
      "EX_pser__L_e\n",
      "EX_galt_e\n",
      "EX_ade_e\n",
      "EX_thym_e\n",
      "EX_4hoxpacd_e\n",
      "EX_mal__D_e\n",
      "EX_3hpppn_e\n",
      "EX_pppn_e\n",
      "EX_lcts_e\n",
      "EX_glcn_e\n",
      "EX_no2_e\n",
      "EX_14glucan_e\n",
      "EX_h2s_e\n",
      "EX_lyx__L_e\n",
      "EX_agm_e\n",
      "EX_adocbl_e\n",
      "EX_thrp_e\n",
      "EX_colipa_e\n",
      "EX_12ppd__R_e\n",
      "EX_so3_e\n",
      "EX_cys__L_e\n",
      "EX_malthx_e\n",
      "EX_gmp_e\n",
      "EX_orn_e\n",
      "EX_amp_e\n",
      "EX_isetac_e\n",
      "EX_hxan_e\n",
      "EX_xmp_e\n",
      "EX_gln__L_e\n",
      "EX_n2o_e\n",
      "EX_metsox__S__L_e\n",
      "EX_hg2_e\n",
      "EX_acgam1p_e\n",
      "EX_cpgn_e\n",
      "EX_dmso_e\n",
      "EX_dgsn_e\n",
      "EX_orot_e\n",
      "EX_chtbs_e\n",
      "EX_dopa_e\n",
      "EX_udpg_e\n",
      "EX_5mtr_e\n",
      "EX_gtp_e\n",
      "EX_rib__D_e\n",
      "EX_damp_e\n",
      "EX_acmum_e\n",
      "EX_maltttr_e\n",
      "EX_novbcn_e\n",
      "EX_val__L_e\n",
      "EX_ptrc_e\n",
      "EX_26dap__M_e\n",
      "EX_psclys_e\n",
      "EX_feoxam__un_e\n",
      "EX_dump_e\n",
      "EX_arbtn__fe3_e\n",
      "EX_all__D_e\n",
      "EX_ocdcea_e\n",
      "EX_ag_e\n",
      "EX_sucr_e\n",
      "EX_fecrm__un_e\n",
      "EX_btn_e\n",
      "EX_fuc__L_e\n",
      "EX_acald_e\n",
      "EX_cu_e\n",
      "EX_man_e\n",
      "EX_metsox__R__L_e\n",
      "EX_din_e\n",
      "EX_kdo2lipid4_e\n",
      "EX_malt_e\n",
      "EX_fe3dcit_e\n",
      "EX_g3pc_e\n",
      "EX_ac_e\n",
      "EX_thm_e\n",
      "EX_mal__L_e\n",
      "EX_ppt_e\n",
      "EX_23dappa_e\n",
      "EX_ala__D_e\n",
      "EX_mso3_e\n",
      "EX_maltpt_e\n",
      "EX_xylu__L_e\n",
      "EX_crn_e\n",
      "EX_fe3dhbzs_e\n",
      "EX_cbi_e\n",
      "EX_fecrm_e\n",
      "EX_pqq_e\n"
     ]
    }
   ],
   "source": [
    "for i in me.reactions:\n",
    "    if i.id.startswith(\"EX_\") and i.lower_bound == 0:\n",
    "        print i"
   ]
  },
  {
   "cell_type": "code",
   "execution_count": 33,
   "metadata": {
    "collapsed": false
   },
   "outputs": [
    {
     "data": {
      "text/plain": [
       "[<ModificationData mod_generic_divalent_c at 0x7fca45090910>,\n",
       " <ModificationData mod_pydx5p_c at 0x7fca45090950>,\n",
       " <ModificationData mod_4fe4s_c at 0x7fca45090c10>,\n",
       " <ModificationData mod_lys__L_c at 0x7fca45090e10>,\n",
       " <ModificationData mod_generic_monovalent_c at 0x7fca45090f10>,\n",
       " <ModificationData mod_fad_c at 0x7fca45090f90>,\n",
       " <ModificationData mod_fe2_c at 0x7fca45010110>,\n",
       " <ModificationData mod_nh4_c at 0x7fca45010250>,\n",
       " <ModificationData mod_cu2_c at 0x7fca450102d0>,\n",
       " <ModificationData mod_btn_c at 0x7fca45010490>,\n",
       " <ModificationData mod_bmocogdp_c at 0x7fca450106d0>,\n",
       " <ModificationData mod_LI_c at 0x7fca45010810>,\n",
       " <ModificationData mod_thmpp_c at 0x7fca45010990>,\n",
       " <ModificationData mod_2fe2s_c at 0x7fca45010b90>,\n",
       " <ModificationData mod_3fe4s_c at 0x7fca45010e50>,\n",
       " <ModificationData mod_pheme_c at 0x7fca45010e10>,\n",
       " <ModificationData mod_pqq_c at 0x7fca45010f50>,\n",
       " <ModificationData mod_fmn_c at 0x7fca44ed4690>,\n",
       " <ModificationData mod_nad_c at 0x7fca44ed4990>,\n",
       " <ModificationData mod_cl_c at 0x7fca44ed4e10>,\n",
       " <ModificationData mod_cbl1_c at 0x7fca44ed4e90>,\n",
       " <ModificationData mod_hemed_c at 0x7fca44ffb1d0>,\n",
       " <ModificationData mod_nadp_c at 0x7fca44ffb250>,\n",
       " <ModificationData mod_sheme_c at 0x7fca44ffb410>,\n",
       " <ModificationData mod_acetyl_c at 0x7fca44ffb4d0>,\n",
       " <ModificationData mod_lipo_c at 0x7fca44ffbe10>,\n",
       " <ModificationData mod_hco3_c at 0x7fca45018050>,\n",
       " <ModificationData mod_adocbl_c at 0x7fca45018590>,\n",
       " <ModificationData mod_fe3_c at 0x7fca45032110>,\n",
       " <ModificationData mod_NiFeCoCN2_c at 0x7fca45032390>,\n",
       " <ModificationData mod_SH_c at 0x7fca45032810>,\n",
       " <ModificationData mod_cu_c at 0x7fca45032b90>,\n",
       " <ModificationData mod_pydx_c at 0x7fca44e86110>,\n",
       " <ModificationData mod_cs_c at 0x7fca44e86850>,\n",
       " <ModificationData mod_23bpg_c at 0x7fca44e99210>,\n",
       " <ModificationData mod_fadh2_c at 0x7fca44e99c50>,\n",
       " <ModificationData mod_nadh_c at 0x7fca44eb2690>,\n",
       " <ModificationData mod_nadph_c at 0x7fca44eb26d0>,\n",
       " <ModificationData mod_fmnh2_c at 0x7fca44e07150>,\n",
       " <ModificationData mod_dpm_c at 0x7fca44e1a2d0>,\n",
       " <ModificationData mod_pi_c at 0x7fca44e1afd0>,\n",
       " <ModificationData mod_tl_c at 0x7fca44e30d50>,\n",
       " <ModificationData mod_lipo_c_alt at 0x7fca44d83f50>]"
      ]
     },
     "execution_count": 33,
     "metadata": {},
     "output_type": "execute_result"
    }
   ],
   "source": [
    "me.modification_data"
   ]
  },
  {
   "cell_type": "raw",
   "metadata": {},
   "source": [
    "for i in me.reactions:\n",
    "    if i.id.startswith(\"EX_\"):\n",
    "        i.lower_bound = -1000"
   ]
  },
  {
   "cell_type": "markdown",
   "metadata": {},
   "source": [
    "## Solve"
   ]
  },
  {
   "cell_type": "code",
   "execution_count": 34,
   "metadata": {
    "collapsed": true
   },
   "outputs": [],
   "source": [
    "me.reactions.dummy_reaction_FWD_CPLX_dummy.objective_coefficient = 1."
   ]
  },
  {
   "cell_type": "code",
   "execution_count": 35,
   "metadata": {
    "collapsed": false
   },
   "outputs": [],
   "source": [
    "from minime.solve.algorithms import binary_search\n",
    "from minime.solve.symbolic import compile_expressions"
   ]
  },
  {
   "cell_type": "code",
   "execution_count": 36,
   "metadata": {
    "collapsed": true
   },
   "outputs": [],
   "source": [
    "expressions = compile_expressions(me)"
   ]
  },
  {
   "cell_type": "code",
   "execution_count": 37,
   "metadata": {
    "collapsed": false,
    "scrolled": true
   },
   "outputs": [
    {
     "name": "stdout",
     "output_type": "stream",
     "text": [
      "\u001b[0;32m0.0000000000000\u001b[0m\t1000.0\n",
      "\u001b[0;31m1.0000000000000\u001b[0m\n",
      "\u001b[0;31m0.5000000000000\u001b[0m\n",
      "\u001b[0;31m0.2500000000000\u001b[0m\n",
      "\u001b[0;31m0.1250000000000\u001b[0m\n",
      "\u001b[0;31m0.0625000000000\u001b[0m\n",
      "\u001b[0;31m0.0312500000000\u001b[0m\n",
      "\u001b[0;31m0.0156250000000\u001b[0m\n",
      "\u001b[0;31m0.0078125000000\u001b[0m\n",
      "\u001b[0;32m0.0000000000000\u001b[0m\t1000.0\n",
      "completed in 677.6 seconds and 10 iterations\n"
     ]
    },
    {
     "data": {
      "text/plain": [
       "<Solution 0.00 at 0x7fca43559790>"
      ]
     },
     "execution_count": 37,
     "metadata": {},
     "output_type": "execute_result"
    }
   ],
   "source": [
    "binary_search(me, min_mu=0, max_mu=1, mu_accuracy=1e-2, compiled_expressions=expressions)"
   ]
  },
  {
   "cell_type": "code",
   "execution_count": 38,
   "metadata": {
    "collapsed": false
   },
   "outputs": [
    {
     "ename": "AttributeError",
     "evalue": "'MEmodel' object has no attribute 'metabolic_reaction_data'",
     "output_type": "error",
     "traceback": [
      "\u001b[1;31m---------------------------------------------------------------------------\u001b[0m",
      "\u001b[1;31mAttributeError\u001b[0m                            Traceback (most recent call last)",
      "\u001b[1;32m<ipython-input-38-21a61e5f9b03>\u001b[0m in \u001b[0;36m<module>\u001b[1;34m()\u001b[0m\n\u001b[0;32m      1\u001b[0m \u001b[1;32mimport\u001b[0m \u001b[0mescher\u001b[0m\u001b[1;33m\u001b[0m\u001b[0m\n\u001b[0;32m      2\u001b[0m \u001b[0mview\u001b[0m \u001b[1;33m=\u001b[0m \u001b[0mescher\u001b[0m\u001b[1;33m.\u001b[0m\u001b[0mBuilder\u001b[0m\u001b[1;33m(\u001b[0m\u001b[1;34m\"iJO1366.Central metabolism\"\u001b[0m\u001b[1;33m)\u001b[0m\u001b[1;33m\u001b[0m\u001b[0m\n\u001b[1;32m----> 3\u001b[1;33m \u001b[0mview\u001b[0m\u001b[1;33m.\u001b[0m\u001b[0mreaction_data\u001b[0m \u001b[1;33m=\u001b[0m \u001b[0mme\u001b[0m\u001b[1;33m.\u001b[0m\u001b[0mget_metabolic_flux\u001b[0m\u001b[1;33m(\u001b[0m\u001b[1;33m)\u001b[0m\u001b[1;33m\u001b[0m\u001b[0m\n\u001b[0m\u001b[0;32m      4\u001b[0m \u001b[0mview\u001b[0m\u001b[1;33m.\u001b[0m\u001b[0mdisplay_in_notebook\u001b[0m\u001b[1;33m(\u001b[0m\u001b[1;33m)\u001b[0m\u001b[1;33m\u001b[0m\u001b[0m\n",
      "\u001b[1;32m/home/aebrahim/minime/minime/core/MEModel.pyc\u001b[0m in \u001b[0;36mget_metabolic_flux\u001b[1;34m(self, solution)\u001b[0m\n\u001b[0;32m     32\u001b[0m             raise ValueError(\"solution status '%s' is not 'optimal'\" %\n\u001b[0;32m     33\u001b[0m                              solution.status)\n\u001b[1;32m---> 34\u001b[1;33m         \u001b[0mflux_dict\u001b[0m \u001b[1;33m=\u001b[0m \u001b[1;33m{\u001b[0m\u001b[0mr\u001b[0m\u001b[1;33m.\u001b[0m\u001b[0mid\u001b[0m\u001b[1;33m:\u001b[0m \u001b[1;36m0\u001b[0m \u001b[1;32mfor\u001b[0m \u001b[0mr\u001b[0m \u001b[1;32min\u001b[0m \u001b[0mself\u001b[0m\u001b[1;33m.\u001b[0m\u001b[0mmetabolic_reaction_data\u001b[0m\u001b[1;33m}\u001b[0m\u001b[1;33m\u001b[0m\u001b[0m\n\u001b[0m\u001b[0;32m     35\u001b[0m         \u001b[1;32mfor\u001b[0m \u001b[0mreaction\u001b[0m \u001b[1;32min\u001b[0m \u001b[0mself\u001b[0m\u001b[1;33m.\u001b[0m\u001b[0mreactions\u001b[0m\u001b[1;33m:\u001b[0m\u001b[1;33m\u001b[0m\u001b[0m\n\u001b[0;32m     36\u001b[0m             \u001b[1;32mif\u001b[0m \u001b[0misinstance\u001b[0m\u001b[1;33m(\u001b[0m\u001b[0mreaction\u001b[0m\u001b[1;33m,\u001b[0m \u001b[0mMetabolicReaction\u001b[0m\u001b[1;33m)\u001b[0m\u001b[1;33m:\u001b[0m\u001b[1;33m\u001b[0m\u001b[0m\n",
      "\u001b[1;31mAttributeError\u001b[0m: 'MEmodel' object has no attribute 'metabolic_reaction_data'"
     ]
    }
   ],
   "source": [
    "import escher\n",
    "view = escher.Builder(\"iJO1366.Central metabolism\")\n",
    "view.reaction_data = me.get_metabolic_flux()\n",
    "view.display_in_notebook()"
   ]
  },
  {
   "cell_type": "code",
   "execution_count": null,
   "metadata": {
    "collapsed": false
   },
   "outputs": [],
   "source": [
    "me.metabolites.pqq_e.reactions"
   ]
  },
  {
   "cell_type": "code",
   "execution_count": null,
   "metadata": {
    "collapsed": false
   },
   "outputs": [],
   "source": [
    "me.reactions.translation_b4025.reaction"
   ]
  },
  {
   "cell_type": "code",
   "execution_count": null,
   "metadata": {
    "collapsed": true
   },
   "outputs": [],
   "source": [
    "import pandas"
   ]
  },
  {
   "cell_type": "code",
   "execution_count": null,
   "metadata": {
    "collapsed": false
   },
   "outputs": [],
   "source": [
    "old_sim = pandas.read_pickle(\"/home/aebrahim/old_me/me/pandas_frames/all_metabolic_fluxes_v2\")"
   ]
  },
  {
   "cell_type": "code",
   "execution_count": null,
   "metadata": {
    "collapsed": false
   },
   "outputs": [],
   "source": [
    "view = escher.Builder(\"iJO1366.Central metabolism\")\n",
    "view.reaction_data = old_sim.base_plus_Adenine_keff_v2.to_dict()\n",
    "view.display_in_notebook()"
   ]
  },
  {
   "cell_type": "code",
   "execution_count": null,
   "metadata": {
    "collapsed": false
   },
   "outputs": [],
   "source": [
    "me.compute_solution_error()"
   ]
  },
  {
   "cell_type": "code",
   "execution_count": null,
   "metadata": {
    "collapsed": false
   },
   "outputs": [],
   "source": [
    "#me.reactions.S_transfer_to_SufBCD_mod_2:fe2_FWD_CPLX_dummy\n",
    "for reaction in me.reactions:\n",
    "    if reaction.endswith('_'):\n",
    "        print reaction.id"
   ]
  },
  {
   "cell_type": "code",
   "execution_count": null,
   "metadata": {
    "collapsed": true
   },
   "outputs": [],
   "source": []
  }
 ],
 "metadata": {
  "kernelspec": {
   "display_name": "Python 2",
   "language": "python",
   "name": "python2"
  },
  "language_info": {
   "codemirror_mode": {
    "name": "ipython",
    "version": 2
   },
   "file_extension": ".py",
   "mimetype": "text/x-python",
   "name": "python",
   "nbconvert_exporter": "python",
   "pygments_lexer": "ipython2",
   "version": "2.7.6"
  }
 },
 "nbformat": 4,
 "nbformat_minor": 0
}
