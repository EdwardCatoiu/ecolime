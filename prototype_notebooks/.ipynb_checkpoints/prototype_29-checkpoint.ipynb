{
 "cells": [
  {
   "cell_type": "markdown",
   "metadata": {},
   "source": [
    "# Build a basic ME model"
   ]
  },
  {
   "cell_type": "markdown",
   "metadata": {},
   "source": [
    "We will try to build an ME model from the NC_000913.2 Genbank file, the iJO1366 M model, and the complex reconstruction from iJL1650-ME"
   ]
  },
  {
   "cell_type": "code",
   "execution_count": 1,
   "metadata": {
    "collapsed": false
   },
   "outputs": [],
   "source": [
    "import re\n",
    "import json\n",
    "from os.path import dirname, join, abspath\n",
    "\n",
    "import pandas\n",
    "\n",
    "from ecolime.flat_files import ecoli_files_dir\n",
    "import cobra.test\n",
    "\n",
    "from minime import *\n",
    "from ecolime.flat_files import *\n",
    "from ecolime import flat_files\n",
    "from minime.util.building import build_reactions_from_genbank, add_transcription_reaction\n",
    "import ecolime"
   ]
  },
  {
   "cell_type": "markdown",
   "metadata": {},
   "source": [
    "## Begin by loading metabolites"
   ]
  },
  {
   "cell_type": "code",
   "execution_count": 2,
   "metadata": {
    "collapsed": true
   },
   "outputs": [],
   "source": [
    "def fix_id(id_str):\n",
    "    return id_str.replace(\"_DASH_\", \"__\")"
   ]
  },
  {
   "cell_type": "code",
   "execution_count": 3,
   "metadata": {
    "collapsed": false
   },
   "outputs": [],
   "source": [
    "me = MEmodel(\"iJO1366-ME\")\n",
    "me.id = \"iJO1366-ME\"\n",
    "me.compartments = {\"p\": \"Periplasm\", \"e\": \"Extra-organism\",\n",
    "                   \"c\": \"Cytosol\"}\n",
    "compartment_lookup = {v: k for k, v in me.compartments.items()}"
   ]
  },
  {
   "cell_type": "code",
   "execution_count": 4,
   "metadata": {
    "collapsed": false
   },
   "outputs": [],
   "source": [
    "met_info = pandas.read_csv(\n",
    "    join(ecoli_files_dir, \"metabolites.txt\"),\n",
    "    delimiter=\"\\t\", header=None, index_col=0,\n",
    "    names=[\"id\", \"name\", \"formula\", \"compartment\", \"data_source\"])"
   ]
  },
  {
   "cell_type": "code",
   "execution_count": 5,
   "metadata": {
    "collapsed": false
   },
   "outputs": [
    {
     "name": "stdout",
     "output_type": "stream",
     "text": [
      "Assigned tl to e\n",
      "Assigned hemed to e\n",
      "Assigned pqq to e\n",
      "Assigned dpm to e\n",
      "Assigned 23bpg to e\n",
      "Assigned tqn to e\n"
     ]
    }
   ],
   "source": [
    "for met_id in met_info.index:\n",
    "    fixed_id = fix_id(met_id)\n",
    "    for compartment in met_info.compartment[met_id].split(\"AND\"):\n",
    "        compartment = compartment.strip()\n",
    "        if compartment == \"No_Compartment\":\n",
    "            print \"Assigned %s to e\" % met_id\n",
    "            compartment = me.compartments[\"e\"]\n",
    "        metab = Metabolite(fixed_id + \"_\" + compartment_lookup[compartment])\n",
    "        metab.name = met_info.name[met_id]\n",
    "    \n",
    "        metab.formula = met_info.formula[met_id]\n",
    "        me.add_metabolites(metab)"
   ]
  },
  {
   "cell_type": "markdown",
   "metadata": {},
   "source": [
    "Add generic ions to simplify complexes"
   ]
  },
  {
   "cell_type": "code",
   "execution_count": 6,
   "metadata": {
    "collapsed": true
   },
   "outputs": [],
   "source": [
    "divalent_list = flat_files.divalent_list\n",
    "monovalent_list = flat_files.monovalent_list\n",
    "comp = \"_c\"  # compartment\n",
    "# Divalent\n",
    "div = cobra.Metabolite('generic_divalent' + comp)\n",
    "div.name = 'Generic divalent ion'\n",
    "me.add_metabolites(div)\n",
    "for ion in divalent_list:\n",
    "    rxn1 = cobra.Reaction(ion + comp + '_to_generic')\n",
    "    ion_dict = {}\n",
    "    met1 = me.metabolites.get_by_id(ion + comp)\n",
    "    ion_dict[met1] = -1\n",
    "    ion_dict[div] = 1\n",
    "    rxn1.add_metabolites(ion_dict)\n",
    "    me.add_reaction(rxn1)\n",
    "# Monovalent\n",
    "mono = cobra.Metabolite('generic_monovalent' + comp)\n",
    "mono.name = 'Generic monovalent ion'\n",
    "for ion in monovalent_list:\n",
    "    rxn2 = cobra.Reaction(ion + comp + '_to_generic')\n",
    "    ion_dict = {}\n",
    "    met2 = me.metabolites.get_by_id(ion + comp)\n",
    "    ion_dict[met2] = -1\n",
    "    ion_dict[mono] = 1\n",
    "    rxn2.add_metabolites(ion_dict)\n",
    "    me.add_reaction(rxn2)"
   ]
  },
  {
   "cell_type": "markdown",
   "metadata": {},
   "source": [
    "## Build Metabolic reactions"
   ]
  },
  {
   "cell_type": "code",
   "execution_count": 7,
   "metadata": {
    "collapsed": true
   },
   "outputs": [],
   "source": [
    "reaction_info = get_reaction_info_frame()\n",
    "reaction_dict = get_reaction_matrix_dict()"
   ]
  },
  {
   "cell_type": "code",
   "execution_count": 8,
   "metadata": {
    "collapsed": false
   },
   "outputs": [],
   "source": [
    "for r_id in reaction_info.index:\n",
    "    reaction = StoichiometricData(r_id, me)\n",
    "    reaction._stoichiometry = {fix_id(k): v\\\n",
    "                               for k, v in reaction_dict[r_id].items()}\n",
    "    reaction.lower_bound = \\\n",
    "        -1000. if reaction_info.is_reversible[r_id] else 0.\n",
    "    reaction.upper_bound = 1000."
   ]
  },
  {
   "cell_type": "markdown",
   "metadata": {},
   "source": [
    "Also make a dummy reaction"
   ]
  },
  {
   "cell_type": "code",
   "execution_count": 9,
   "metadata": {
    "collapsed": false
   },
   "outputs": [],
   "source": [
    "dummy = StoichiometricData(\"dummy_reaction\", me)\n",
    "dummy.lower_bound = 0\n",
    "dummy.upper_bound = 1000\n",
    "dummy._stoichiometry = {}"
   ]
  },
  {
   "cell_type": "markdown",
   "metadata": {},
   "source": [
    "Boundary Reactions"
   ]
  },
  {
   "cell_type": "code",
   "execution_count": 10,
   "metadata": {
    "collapsed": false
   },
   "outputs": [],
   "source": [
    "sources_sinks = pandas.read_csv(join(ecoli_files_dir, \"reaction_matrix_sources_and_sinks.txt\"), delimiter=\"\\t\",\n",
    "                                header=None, names=[\"rxn_id\", \"met_id\", \"compartment\", \"stoic\"], index_col=1)\n",
    "sources_sinks.index = [fix_id(i) for i in sources_sinks.index]\n",
    "\n",
    "source_amounts = pandas.read_csv(join(ecoli_files_dir, \"exchange_bounds.txt\"),\n",
    "                                 delimiter=\"\\t\", index_col=0, names=[\"met_id\", \"amount\"])\n",
    "source_amounts.index = [fix_id(i) for i in source_amounts.index]\n",
    "\n",
    "\n",
    "for met_id in sources_sinks.index:\n",
    "    model_met_id = met_id + \"_\" + compartment_lookup[sources_sinks.compartment[met_id]]\n",
    "    # EX_ or DM_ + met_id\n",
    "    reaction_id = sources_sinks.rxn_id[met_id][:3] + model_met_id\n",
    "    reaction = cobra.Reaction(reaction_id)\n",
    "    me.add_reaction(reaction)\n",
    "    reaction.add_metabolites({me.metabolites.get_by_id(model_met_id): -1})\n",
    "    # set bounds on exchanges\n",
    "    if reaction.id.startswith(\"EX_\") and met_id in source_amounts.index:\n",
    "        reaction.lower_bound = -source_amounts.amount[met_id]"
   ]
  },
  {
   "cell_type": "markdown",
   "metadata": {},
   "source": [
    "Set bounds on boundary reactions"
   ]
  },
  {
   "cell_type": "markdown",
   "metadata": {},
   "source": [
    "## Build ribosome and RNA Polymerase"
   ]
  },
  {
   "cell_type": "code",
   "execution_count": 11,
   "metadata": {
    "collapsed": false,
    "scrolled": true
   },
   "outputs": [
    {
     "name": "stdout",
     "output_type": "stream",
     "text": [
      "Created <TranslatedGene protein_b1089 at 0x7f1865eae850> in <ComplexFormation formation_ribosome at 0x7f1865eae7d0>\n",
      "Created <TranslatedGene protein_b3637 at 0x7f1865eae890> in <ComplexFormation formation_ribosome at 0x7f1865eae7d0>\n",
      "Created <TranslatedGene protein_b3636 at 0x7f1865eae8d0> in <ComplexFormation formation_ribosome at 0x7f1865eae7d0>\n",
      "Created <TranslatedGene protein_b3304 at 0x7f1865eae910> in <ComplexFormation formation_ribosome at 0x7f1865eae7d0>\n",
      "Created <TranslatedGene protein_b4200 at 0x7f1865eae750> in <ComplexFormation formation_ribosome at 0x7f1865eae7d0>\n",
      "Created <TranslatedGene protein_b1716 at 0x7f1865eae790> in <ComplexFormation formation_ribosome at 0x7f1865eae7d0>\n",
      "Created <TranslatedGene protein_b1717 at 0x7f1865eae490> in <ComplexFormation formation_ribosome at 0x7f1865eae7d0>\n",
      "Created <TranslatedGene protein_b0023 at 0x7f1865eae4d0> in <ComplexFormation formation_ribosome at 0x7f1865eae7d0>\n",
      "Created <TranslatedGene protein_b3306 at 0x7f1865eae510> in <ComplexFormation formation_ribosome at 0x7f1865eae7d0>\n",
      "Created <TranslatedGene protein_b1480 at 0x7f1865eae550> in <ComplexFormation formation_ribosome at 0x7f1865eae7d0>\n",
      "Created <TranslatedGene protein_b3309 at 0x7f1865eae590> in <ComplexFormation formation_ribosome at 0x7f1865eae7d0>\n",
      "Created <TranslatedGene protein_b3308 at 0x7f1865eae5d0> in <ComplexFormation formation_ribosome at 0x7f1865eae7d0>\n",
      "Created <TranslatedGene protein_b3321 at 0x7f1865eae610> in <ComplexFormation formation_ribosome at 0x7f1865eae7d0>\n",
      "Created <TranslatedGene protein_b3320 at 0x7f1865eae650> in <ComplexFormation formation_ribosome at 0x7f1865eae7d0>\n",
      "Created <TranslatedGene protein_b3301 at 0x7f1865eae690> in <ComplexFormation formation_ribosome at 0x7f1865eae7d0>\n",
      "Created <TranslatedGene protein_b3303 at 0x7f1865eae6d0> in <ComplexFormation formation_ribosome at 0x7f1865eae7d0>\n",
      "Created <TranslatedGene protein_b3302 at 0x7f1865eae990> in <ComplexFormation formation_ribosome at 0x7f1865eae7d0>\n",
      "Created <TranslatedGene protein_b3305 at 0x7f1865eae9d0> in <ComplexFormation formation_ribosome at 0x7f1865eae7d0>\n",
      "Created <TranslatedGene protein_b3986 at 0x7f1865e36110> in <ComplexFormation formation_ribosome at 0x7f1865eae7d0>\n",
      "Created <TranslatedGene protein_b3307 at 0x7f1865e36150> in <ComplexFormation formation_ribosome at 0x7f1865eae7d0>\n",
      "Created <TranslatedGene protein_b3984 at 0x7f1865e36190> in <ComplexFormation formation_ribosome at 0x7f1865eae7d0>\n",
      "Created <TranslatedGene protein_b3341 at 0x7f1865e361d0> in <ComplexFormation formation_ribosome at 0x7f1865eae7d0>\n",
      "Created <TranslatedGene protein_b3983 at 0x7f1865e36210> in <ComplexFormation formation_ribosome at 0x7f1865eae7d0>\n",
      "Created <TranslatedGene protein_b0911 at 0x7f1865e36250> in <ComplexFormation formation_ribosome at 0x7f1865eae7d0>\n",
      "Created <TranslatedGene protein_b3231 at 0x7f1865e36290> in <ComplexFormation formation_ribosome at 0x7f1865eae7d0>\n",
      "Created <TranslatedGene protein_b2609 at 0x7f1865e362d0> in <ComplexFormation formation_ribosome at 0x7f1865eae7d0>\n",
      "Created <TranslatedGene protein_b3958 at 0x7f1865e36310> in <ComplexFormation formation_ribosome at 0x7f1865eae7d0>\n",
      "Created <TranslatedGene protein_b3342 at 0x7f1865e36350> in <ComplexFormation formation_ribosome at 0x7f1865eae7d0>\n",
      "Created <TranslatedGene protein_b3703 at 0x7f1865e36390> in <ComplexFormation formation_ribosome at 0x7f1865eae7d0>\n",
      "Created <TranslatedGene protein_b3296 at 0x7f1865e363d0> in <ComplexFormation formation_ribosome at 0x7f1865eae7d0>\n",
      "Created <TranslatedGene protein_b3936 at 0x7f1865e36410> in <ComplexFormation formation_ribosome at 0x7f1865eae7d0>\n",
      "Created <TranslatedGene protein_b0169 at 0x7f1865e36450> in <ComplexFormation formation_ribosome at 0x7f1865eae7d0>\n",
      "Created <TranslatedGene protein_b3298 at 0x7f1865e36490> in <ComplexFormation formation_ribosome at 0x7f1865eae7d0>\n",
      "Created <TranscribedGene RNA_b3854 at 0x7f1865e364d0> in <ComplexFormation formation_ribosome at 0x7f1865eae7d0>\n",
      "Created <TranslatedGene protein_b3315 at 0x7f1865e36510> in <ComplexFormation formation_ribosome at 0x7f1865eae7d0>\n",
      "Created <TranslatedGene protein_b3318 at 0x7f1865e36550> in <ComplexFormation formation_ribosome at 0x7f1865eae7d0>\n",
      "Created <TranslatedGene protein_b3319 at 0x7f1865e36590> in <ComplexFormation formation_ribosome at 0x7f1865eae7d0>\n",
      "Created <TranslatedGene protein_b3186 at 0x7f1865e365d0> in <ComplexFormation formation_ribosome at 0x7f1865eae7d0>\n",
      "Created <TranslatedGene protein_b3185 at 0x7f1865e36610> in <ComplexFormation formation_ribosome at 0x7f1865eae7d0>\n",
      "Created <TranslatedGene protein_b3312 at 0x7f1865e36650> in <ComplexFormation formation_ribosome at 0x7f1865eae7d0>\n",
      "Created <TranslatedGene protein_b3313 at 0x7f1865e36690> in <ComplexFormation formation_ribosome at 0x7f1865eae7d0>\n",
      "Created <TranslatedGene protein_b3310 at 0x7f1865e366d0> in <ComplexFormation formation_ribosome at 0x7f1865eae7d0>\n",
      "Created <TranslatedGene protein_b3311 at 0x7f1865e36710> in <ComplexFormation formation_ribosome at 0x7f1865eae7d0>\n",
      "Created <TranslatedGene protein_b3316 at 0x7f1865e36750> in <ComplexFormation formation_ribosome at 0x7f1865eae7d0>\n",
      "Created <TranslatedGene protein_b3317 at 0x7f1865e36790> in <ComplexFormation formation_ribosome at 0x7f1865eae7d0>\n",
      "Created <TranslatedGene protein_b3314 at 0x7f1865e367d0> in <ComplexFormation formation_ribosome at 0x7f1865eae7d0>\n",
      "Created <TranslatedGene protein_b2185 at 0x7f1865e36810> in <ComplexFormation formation_ribosome at 0x7f1865eae7d0>\n",
      "Created <TranslatedGene protein_b3065 at 0x7f1865e36850> in <ComplexFormation formation_ribosome at 0x7f1865eae7d0>\n",
      "Created <TranslatedGene protein_b4203 at 0x7f1865e36890> in <ComplexFormation formation_ribosome at 0x7f1865eae7d0>\n",
      "Created <TranslatedGene protein_b4202 at 0x7f1865e368d0> in <ComplexFormation formation_ribosome at 0x7f1865eae7d0>\n",
      "Created <TranslatedGene protein_b3165 at 0x7f1865e36910> in <ComplexFormation formation_ribosome at 0x7f1865eae7d0>\n",
      "Created <TranscribedGene RNA_b3851 at 0x7f1865e36950> in <ComplexFormation formation_ribosome at 0x7f1865eae7d0>\n",
      "Created <TranslatedGene protein_b3299 at 0x7f1865e36990> in <ComplexFormation formation_ribosome at 0x7f1865eae7d0>\n",
      "Created <TranslatedGene protein_b3230 at 0x7f1865e369d0> in <ComplexFormation formation_ribosome at 0x7f1865eae7d0>\n",
      "Created <TranslatedGene protein_b3297 at 0x7f1865e36a10> in <ComplexFormation formation_ribosome at 0x7f1865eae7d0>\n",
      "Created <TranslatedGene protein_b2606 at 0x7f1865e36a50> in <ComplexFormation formation_ribosome at 0x7f1865eae7d0>\n",
      "Created <TranslatedGene protein_b3294 at 0x7f1865e36a90> in <ComplexFormation formation_ribosome at 0x7f1865eae7d0>\n",
      "Created <TranscribedGene RNA_b3855 at 0x7f1865e36ad0> in <ComplexFormation formation_ribosome at 0x7f1865eae7d0>\n"
     ]
    }
   ],
   "source": [
    "ribosome_complex = ComplexData(\"ribosome\", me)\n",
    "ribosome_components = ribosome_complex.stoichiometry\n",
    "for i in [\"b3851\", \"b3854\", \"b3855\"]:\n",
    "    ribosome_components[\"RNA_\" + i] = 1\n",
    "# 30S Listed as [rpsA -rpsU], sra \n",
    "# [rplA-rplF],  rplI, [rplK-rplY],\n",
    "# [rpmA-rpmJ]\n",
    "\n",
    "for i in [\"b0911\", \"b0169\", \"b3314\", \"b3296\", \"b3303\", \"b4200\", \"b3341\",\n",
    "          \"b3306\", \"b3230\", \"b3321\", \"b3297\", \"b3342\", \"b3298\", \"b3307\", \n",
    "          \"b3165\", \"b2609\", \"b3311\", \"b4202\", \"b3316\", \"b0023\", \"b3065\",\n",
    "          \"b1480\"]:\n",
    "    ribosome_components[\"protein_\" + i] = 1\n",
    "    \n",
    "# 50S listed as [rplA-rplF],rplJ, rplI, rplK [rplM-rplY], [rpmA-rpmJ]    \n",
    "for i in [\"b3984\", \"b3317\", \"b3320\", \"b3319\", \"b3308\", \"b3305\", \n",
    "          \"b3958\", \"b4203\", \"b3983\", \"b3231\", \"b3310\", \"b3301\",\n",
    "          \"b3313\", \"b3294\", \"b3304\", \"b2606\", \"b1716\", \"b3186\",\n",
    "          \"b3315\", \"b3318\", \"b3309\", \"b2185\", \n",
    "          \"b3185\", \"b3637\", \"b3312\", \"b3302\", \"b3936\", \"b1089\", \n",
    "          \"b3636\", \"b3703\", \"b1717\", \"b3299\"]:\n",
    "    ribosome_components[\"protein_\" + i] = 1\n",
    "# [rplJ, 2(2[rplL7])]\n",
    "ribosome_components[\"protein_\" + \"b3986\"] = 4\n",
    "\n",
    "ribosome_complex.create_complex_formation()"
   ]
  },
  {
   "cell_type": "code",
   "execution_count": 12,
   "metadata": {
    "collapsed": false
   },
   "outputs": [
    {
     "name": "stdout",
     "output_type": "stream",
     "text": [
      "Created <TranslatedGene protein_b3295 at 0x7f1865ea0d10> in <ComplexFormation formation_RNA_Polymerase at 0x7f1865ea0cd0>\n",
      "Created <TranslatedGene protein_b3988 at 0x7f1865ea0d50> in <ComplexFormation formation_RNA_Polymerase at 0x7f1865ea0cd0>\n",
      "Created <TranslatedGene protein_b3987 at 0x7f1865ea0d90> in <ComplexFormation formation_RNA_Polymerase at 0x7f1865ea0cd0>\n"
     ]
    }
   ],
   "source": [
    "RNAP_complex = ComplexData(\"RNA_Polymerase\", me)\n",
    "RNAP_components = RNAP_complex.stoichiometry\n",
    "# Core RNA Polymerase Enzyme\n",
    "for i in {\"b3295\" : \"rpoA\", \"b3988\" : \"rpoC\", \"b3987\" : \"rpoB\"}:\n",
    "    if i == \"b3295\":\n",
    "        RNAP_components[\"protein_\" + i] = 2\n",
    "    else:\n",
    "        RNAP_components[\"protein_\" + i] = 1\n",
    "\n",
    "RNAP_complex.create_complex_formation()"
   ]
  },
  {
   "cell_type": "markdown",
   "metadata": {},
   "source": [
    "### Add Transcription/Translation from the genbank file"
   ]
  },
  {
   "cell_type": "code",
   "execution_count": 13,
   "metadata": {
    "collapsed": false
   },
   "outputs": [
    {
     "name": "stdout",
     "output_type": "stream",
     "text": [
      "TODO deal with selenocystine\n"
     ]
    }
   ],
   "source": [
    "build_reactions_from_genbank(me, join(ecoli_files_dir, \"NC_000913.2.gb\"))"
   ]
  },
  {
   "cell_type": "markdown",
   "metadata": {},
   "source": [
    "Add a dummy protein in as well"
   ]
  },
  {
   "cell_type": "code",
   "execution_count": 14,
   "metadata": {
    "collapsed": false
   },
   "outputs": [],
   "source": [
    "dna_sequence = \"ATG\" + \"TTT\" * 5 + \"TAT\"*5+ \"ACG\"*5 + \"GAT\" *5 + \"AGT\"*5 + \"TAA\"\n",
    "add_transcription_reaction(me, \"dummy\", {\"dummy\"}, dna_sequence)\n",
    "me.add_metabolites(TranslatedGene(\"protein_\" + \"dummy\"))\n",
    "translation = TranslationReaction(\"translation_\" + \"dummy\")\n",
    "me.add_reaction(translation)\n",
    "translation.translation_data = TranslationData(\"dummy\", me, \"RNA_dummy\", \"protein_dummy\")\n",
    "translation.translation_data.compute_sequence_from_DNA(dna_sequence)\n",
    "translation.update()\n",
    "\n",
    "complex_data = ComplexData(\"CPLX_dummy\", me)\n",
    "complex_data.stoichiometry = {}\n",
    "complex_data.stoichiometry[\"protein_\" + \"dummy\"] = 1\n",
    "complex_data.create_complex_formation()"
   ]
  },
  {
   "cell_type": "markdown",
   "metadata": {},
   "source": [
    "## Associate the tRNA synthetases"
   ]
  },
  {
   "cell_type": "markdown",
   "metadata": {},
   "source": [
    "The tRNA charging reactions were automatically added when loading the genome from the genbank file. However, the charging reactions still need to be made aware of the tRNA synthetases which are responsible."
   ]
  },
  {
   "cell_type": "code",
   "execution_count": 15,
   "metadata": {
    "collapsed": true
   },
   "outputs": [],
   "source": [
    "with open(join(ecoli_files_dir, \"amino_acid_tRNA_synthetase.json\"), \"rb\") as infile:\n",
    "    aa_synthetase_dict = json.load(infile)\n",
    "for data in me.tRNA_data:\n",
    "    data.synthetase = str(aa_synthetase_dict[data.amino_acid])"
   ]
  },
  {
   "cell_type": "markdown",
   "metadata": {},
   "source": [
    "### Add in complex Formation with modifications"
   ]
  },
  {
   "cell_type": "code",
   "execution_count": 16,
   "metadata": {
    "collapsed": false
   },
   "outputs": [],
   "source": [
    "# ME_complex_dict is a dict of {'complex_id': ['bnum(count)']}\n",
    "ME_complex_dict = get_complex_to_bnum_dict()\n",
    "# some entries in the file need to be renamed\n",
    "renames = {\"MnmE_\": \"b3706\", \"MnmG_\": \"b3741\", \"YheM_\": \"b3344\", \"YheL_\": \"b3343\", \"YheN_\": \"b3345\"}\n",
    "rna_components = {\"b3123\"}  # component id should have RNA_ instead of protein_\n",
    "\n",
    "for cplx, value in ME_complex_dict.iteritems():\n",
    "    complex_data = ComplexData(cplx, me)\n",
    "    for gene in value:\n",
    "        stoichiometry = gene[6]\n",
    "        bnum = gene[0:5]\n",
    "        comp_id = \"RNA_\" + bnum if bnum in rna_components \\\n",
    "            else \"protein_\" + renames.get(bnum, bnum)\n",
    "        try:\n",
    "            complex_data.stoichiometry[comp_id] = float(stoichiometry)\n",
    "        except:\n",
    "            complex_data.stoichiometry[comp_id] = float(1)"
   ]
  },
  {
   "cell_type": "code",
   "execution_count": 17,
   "metadata": {
    "collapsed": false
   },
   "outputs": [
    {
     "name": "stdout",
     "output_type": "stream",
     "text": [
      "TODO: hRNAP_mod_1:generic_divalent_mod_2:generic_divalent\n",
      "TODO: GltX_mono_mod_generic_divalent_mod_1:generic_divalent\n"
     ]
    }
   ],
   "source": [
    "# {modified_complex_id: ['unmodified_complex_id', {component_id: stoic}]\n",
    "modification_dict = get_protein_modification_dict(generic=True)\n",
    "for mod_cplx_id, mod_complex_info in iteritems(modification_dict):\n",
    "    unmod_cplx_id, mods = mod_complex_info\n",
    "    unmod_cplx = me.complex_data.get_by_id(unmod_cplx_id)\n",
    "    cplx = ComplexData(mod_cplx_id, me)\n",
    "    cplx.stoichiometry = unmod_cplx.stoichiometry\n",
    "    cplx.translocation = unmod_cplx.translocation\n",
    "    cplx.chaperones = unmod_cplx.chaperones\n",
    "    if len(set(mod_cplx_id.split(\"_mod_\")[1:])) == len(mods):\n",
    "        for mod_comp, mod_count in iteritems(mods):\n",
    "            mod_id = \"mod_\" + mod_comp\n",
    "            try:\n",
    "                mod = me.modification_data.get_by_id(mod_id)\n",
    "            except:\n",
    "                mod = ModificationData(mod_id, me)\n",
    "                mod.stoichiometry = {mod_comp: -1}\n",
    "            cplx.modifications[mod_id] = -mod_count\n",
    "    else:\n",
    "        print \"TODO:\", mod_cplx_id"
   ]
  },
  {
   "cell_type": "markdown",
   "metadata": {},
   "source": [
    "Some modifications are enzyme-catalyzed\n",
    "\n",
    "TODO: Fe-S enzyme-catalyzed modifications"
   ]
  },
  {
   "cell_type": "code",
   "execution_count": 18,
   "metadata": {
    "collapsed": false
   },
   "outputs": [],
   "source": [
    "# two different reactiond can add a lipoate modification.\n",
    "# We create a separate ModificationData for each one\n",
    "lipo = me.modification_data.get_by_id(\"mod_lipo_c\")\n",
    "alt_lipo = ModificationData(\"mod_lipo_c_alt\", me)\n",
    "alt_lipo.stoichiometry = lipo.stoichiometry\n",
    "\n",
    "lipo.stoichiometry = {\"lipoamp_c\": -1, \"amp_c\": 1}\n",
    "lipo.enzyme = 'EG11796-MONOMER'\n",
    "lipo.keff = 65.\n",
    "\n",
    "alt_lipo.stoichiometry = {'EG50003-MONOMER_mod_pan4p_mod_oc':-1,\n",
    "                          'amet_c':-2,\n",
    "                          'lipoamp_c':-1,\n",
    "                          'met__L_c':2,\n",
    "                          'dad__5_c':2,\n",
    "                          'CPLX0-782_mod_2:4fe4s':-1,\n",
    "                          'CPLX0-782_mod_1:2fe2s_mod_1:4fe4s':1,\n",
    "                          'fe2_c':2,\n",
    "                          'h_c':-2,\n",
    "                          'nad_c':-1,\n",
    "                          'nadh_c':1,\n",
    "                          'EG50003-MONOMER_mod_pan4p':1}\n",
    "alt_lipo.enzyme = 'EG11591-MONOMER'\n",
    "alt_lipo.keff = 65.\n",
    "\n",
    "for cplx_data in lipo.get_complex_data():\n",
    "    alt_cplx_data = ComplexData(cplx_data.id + \"alt\", me)\n",
    "    alt_cplx_data.complex_id = cplx_data.complex_id\n",
    "    alt_cplx_data.translocation = cplx_data.translocation\n",
    "    alt_cplx_data.chaperones = cplx_data.chaperones\n",
    "    alt_cplx_data.modifications = cplx_data.modifications\n",
    "    alt_cplx_data.modifications[alt_lipo.id] = \\\n",
    "        alt_cplx_data.modifications.pop(lipo.id)"
   ]
  },
  {
   "cell_type": "code",
   "execution_count": 19,
   "metadata": {
    "collapsed": true
   },
   "outputs": [],
   "source": [
    "# todo bmocogdp_c mods\n",
    "mod_catalysts = {'CPLX0-1762':'G6712-MONOMER', # FE-S modification\n",
    "                 'TMAOREDUCTI-CPLX':'EG12195-MONOMER',\n",
    "                 'DIMESULFREDUCT-CPLX':'G6849-MONOMER',\n",
    "                 'NITRATREDUCTA-CPLX':'NARJ-MONOMER', \n",
    "                 'NITRATREDUCTZ-CPLX':'NARW-MONOMER',\n",
    "                 'NAP-CPLX':'NAPD-MONOMER',\n",
    "                 'NAPAB-CPLX_NAPC-MONOMER':'NAPD-MONOMER'}"
   ]
  },
  {
   "cell_type": "markdown",
   "metadata": {},
   "source": [
    "Crutch reactions for mets that are blocked. TODO remove"
   ]
  },
  {
   "cell_type": "code",
   "execution_count": 20,
   "metadata": {
    "collapsed": false
   },
   "outputs": [
    {
     "name": "stdout",
     "output_type": "stream",
     "text": [
      "unknown metabolite '4fe4s_c' created\n",
      "unknown metabolite 'LI_c' created\n",
      "unknown metabolite '2fe2s_c' created\n",
      "unknown metabolite '3fe4s_c' created\n",
      "unknown metabolite 'pqq_c' created\n",
      "unknown metabolite 'hemed_c' created\n",
      "unknown metabolite 'acetyl_c' created\n",
      "unknown metabolite 'NiFeCoCN2_c' created\n",
      "unknown metabolite 'SH_c' created\n",
      "unknown metabolite '23bpg_c' created\n",
      "unknown metabolite 'dpm_c' created\n",
      "unknown metabolite 'tl_c' created\n",
      "unknown metabolite 'EG50003-MONOMER_mod_pan4p' created\n",
      "unknown metabolite 'CPLX0-782_mod_2:4fe4s' created\n",
      "unknown metabolite 'EG50003-MONOMER_mod_pan4p_mod_oc' created\n",
      "unknown metabolite 'CPLX0-782_mod_1:2fe2s_mod_1:4fe4s' created\n"
     ]
    }
   ],
   "source": [
    "target_list = ['4fe4s_c', 'LI_c', '2fe2s_c', '3fe4s_c', 'pqq_c',\n",
    "               'hemed_c', 'acetyl_c', 'NiFeCoCN2_c', 'SH_c',\n",
    "               '23bpg_c', 'dpm_c', 'tl_c']\n",
    "target_list.extend(\n",
    "    ['EG50003-MONOMER_mod_pan4p', 'CPLX0-782_mod_2:4fe4s',\n",
    "     'EG50003-MONOMER_mod_pan4p_mod_oc', 'CPLX0-782_mod_1:2fe2s_mod_1:4fe4s'])\n",
    "\n",
    "for met_id in target_list:\n",
    "    r = cobra.Reaction(\"EX_\" + met_id)\n",
    "    me.add_reaction(r)\n",
    "    r.reaction = \" <=> \" + met_id"
   ]
  },
  {
   "cell_type": "markdown",
   "metadata": {},
   "source": [
    "Build all complex formation reactions\n",
    "\n",
    "TODO: This shouldn't be prining out stuff. Fix them."
   ]
  },
  {
   "cell_type": "code",
   "execution_count": 21,
   "metadata": {
    "collapsed": false
   },
   "outputs": [],
   "source": [
    "for cplx_data in me.complex_data:\n",
    "    formation = cplx_data.formation\n",
    "    if formation:\n",
    "        formation.update()\n",
    "    else:\n",
    "        cplx_data.create_complex_formation()"
   ]
  },
  {
   "cell_type": "markdown",
   "metadata": {},
   "source": [
    "## Associate Complexes with Reactions"
   ]
  },
  {
   "cell_type": "code",
   "execution_count": 22,
   "metadata": {
    "collapsed": false
   },
   "outputs": [
    {
     "name": "stdout",
     "output_type": "stream",
     "text": [
      "Fixed _DASH:  D__LACtex\n",
      "Fixed _DASH:  L__LACD2\n",
      "Fixed _DASH:  L__LACD3\n",
      "Fixed _DASH:  D__LACt2pp\n",
      "Fixed _DASH:  L__LACtex\n",
      "Fixed _DASH:  L__LACt2rpp\n"
     ]
    }
   ],
   "source": [
    "# associate reaction id with the old ME complex id (including modifications)\n",
    "rxnToModCplxDict = flat_files.get_reaction_to_modified_complex(generic=True)"
   ]
  },
  {
   "cell_type": "code",
   "execution_count": 23,
   "metadata": {
    "collapsed": false
   },
   "outputs": [
    {
     "name": "stdout",
     "output_type": "stream",
     "text": [
      "Created <Metabolite CPLX0-7817_mod_Oxidized at 0x7f18643a3e90> in <MetabolicReaction RNDR1b3_FWD_RIBONUCLEOSIDE-DIP-REDUCTII-CPLX at 0x7f18643a3e50>\n",
      "Created <Metabolite GLUTAREDOXIN-MONOMER_mod_Oxidized at 0x7f18643a3f10> in <MetabolicReaction RNDR1b1_FWD_RIBONUCLEOSIDE-DIP-REDUCTII-CPLX at 0x7f18643a3ed0>\n",
      "Created <Metabolite GRXC-MONOMER_mod_Oxidized at 0x7f18643a3f90> in <MetabolicReaction RNDR1b4_FWD_RIBONUCLEOSIDE-DIP-REDUCTII-CPLX at 0x7f18643a3f50>\n",
      "Created <Metabolite GRXB-MONOMER_mod_Oxidized at 0x7f18643ad150> in <MetabolicReaction RNDR1b2_FWD_RIBONUCLEOSIDE-DIP-REDUCTII-CPLX at 0x7f18643ad110>\n",
      "Created <Metabolite EG50003-MONOMER_mod_pan4p_mod_3ha at 0x7f18643ad750> in <MetabolicReaction 3OAR401_REV_3-OXOACYL-ACP-REDUCT-MONOMER at 0x7f18643ad710>\n",
      "Created <Metabolite EG50003-MONOMER_mod_pan4p_mod_act at 0x7f18643ad790> in <MetabolicReaction 3OAR401_REV_3-OXOACYL-ACP-REDUCT-MONOMER at 0x7f18643ad710>\n",
      "Created <Metabolite EG50003-MONOMER_mod_pan4p_mod_ddca at 0x7f18643ad910> in <MetabolicReaction ACPPAT1201_FWD_EG11437-MONOMER at 0x7f18643ad8d0>\n",
      "Created <Metabolite EG50003-MONOMER_mod_pan4p_mod_mal at 0x7f18643ad9d0> in <MetabolicReaction 3OAS1401_FWD_FABB-CPLX at 0x7f18643ad990>\n",
      "Created <Metabolite EG50003-MONOMER_mod_pan4p_mod_3omrs at 0x7f18643ada10> in <MetabolicReaction 3OAS1401_FWD_FABB-CPLX at 0x7f18643ad990>\n",
      "Created <Metabolite EG50003-MONOMER_mod_pan4p_mod_pim at 0x7f18643addd0> in <MetabolicReaction AOXSr21_FWD_7KAPSYN-CPLX at 0x7f18643add90>\n",
      "Created <Metabolite CPLX0-1341_mod_1:2fe2s_mod_1:fe2 at 0x7f1861a5a950> in <MetabolicReaction SufBCD_mod_1:2Fe2S_mod_1:fe2atp_mediated_FE_loading_FWD_CPLX_dummy at 0x7f1861a5a910>\n",
      "Created <Metabolite pi at 0x7f1861a5a990> in <MetabolicReaction SufBCD_mod_1:2Fe2S_mod_1:fe2atp_mediated_FE_loading_FWD_CPLX_dummy at 0x7f1861a5a910>\n",
      "Created <Metabolite CPLX0-1341_mod_1:2fe2s_mod_2:fe2 at 0x7f1861a5a9d0> in <MetabolicReaction SufBCD_mod_1:2Fe2S_mod_1:fe2atp_mediated_FE_loading_FWD_CPLX_dummy at 0x7f1861a5a910>\n",
      "Created <Metabolite atp at 0x7f1861a5aa10> in <MetabolicReaction SufBCD_mod_1:2Fe2S_mod_1:fe2atp_mediated_FE_loading_FWD_CPLX_dummy at 0x7f1861a5a910>\n",
      "Created <Metabolite adp at 0x7f1861a5aa50> in <MetabolicReaction SufBCD_mod_1:2Fe2S_mod_1:fe2atp_mediated_FE_loading_FWD_CPLX_dummy at 0x7f1861a5a910>\n",
      "Created <Metabolite EG50003-MONOMER_mod_pan4p_mod_opme at 0x7f1861a68cd0> in <MetabolicReaction OPMEACPS1_FWD_FABB-CPLX at 0x7f1861a68c90>\n",
      "Created <Metabolite EG50003-MONOMER_mod_pan4p_mod_gme at 0x7f1861a68d10> in <MetabolicReaction OPMEACPS1_FWD_FABB-CPLX at 0x7f1861a68c90>\n",
      "Created <Metabolite EG50003-MONOMER_mod_pan4p_mod_t3c5ddece at 0x7f186434b350> in <MetabolicReaction 3HAD1211_FWD_FABZ-CPLX at 0x7f186434b310>\n",
      "Created <Metabolite EG50003-MONOMER_mod_pan4p_mod_3hcddec5e at 0x7f186434b390> in <MetabolicReaction 3HAD1211_FWD_FABZ-CPLX at 0x7f186434b310>\n",
      "Created <Metabolite EG50003-MONOMER_mod_pan4p_mod_3hcpalm9e at 0x7f186435b090> in <MetabolicReaction 3OAR1611_FWD_3-OXOACYL-ACP-REDUCT-MONOMER at 0x7f186435b050>\n",
      "Created <Metabolite EG50003-MONOMER_mod_pan4p_mod_3ocpalm9e at 0x7f186435b0d0> in <MetabolicReaction 3OAR1611_FWD_3-OXOACYL-ACP-REDUCT-MONOMER at 0x7f186435b050>\n",
      "Created <Metabolite EG11653-MONOMER_mod_1:fe2 at 0x7f186435b650> in <MetabolicReaction Fe_transfer_CyaY_mod_1:fe2_to_IscU_mod_1:fe2_FWD_CPLX_dummy at 0x7f186435b610>\n",
      "Created <Metabolite IscU_mod_1:fe2 at 0x7f186435b690> in <MetabolicReaction Fe_transfer_CyaY_mod_1:fe2_to_IscU_mod_1:fe2_FWD_CPLX_dummy at 0x7f186435b610>\n",
      "Created <Metabolite IscU_mod_2:fe2 at 0x7f186435b6d0> in <MetabolicReaction Fe_transfer_CyaY_mod_1:fe2_to_IscU_mod_1:fe2_FWD_CPLX_dummy at 0x7f186435b610>\n",
      "Created <Metabolite EG50003-MONOMER_mod_pan4p_mod_3ooct at 0x7f1864370590> in <MetabolicReaction 3OAS801_FWD_FABB-CPLX at 0x7f1864370550>\n",
      "Created <Metabolite EG50003-MONOMER_mod_pan4p_mod_hex at 0x7f18643705d0> in <MetabolicReaction 3OAS801_FWD_FABB-CPLX at 0x7f1864370550>\n",
      "Created <Metabolite EG50003-MONOMER_mod_pan4p_mod_tddec2e at 0x7f1864370690> in <MetabolicReaction EAR120y1_FWD_ENOYL-ACP-REDUCT-NADH-MONOMER at 0x7f1864370650>\n",
      "Created <Metabolite EG50003-MONOMER_mod_pan4p_mod_3hmrs at 0x7f1864370a50> in <MetabolicReaction U23GAAT1_FWD_UDPHYDROXYMYRGLUCOSAMNACETYLTRANS-MONO at 0x7f18643709d0>\n",
      "Created <Metabolite EG50003-MONOMER_mod_pan4p_mod_3hhex at 0x7f186430f8d0> in <MetabolicReaction 3HAD601_FWD_FABZ-CPLX at 0x7f186430f890>\n",
      "Created <Metabolite EG50003-MONOMER_mod_pan4p_mod_thex2e at 0x7f1861a5aad0> in <MetabolicReaction 3HAD601_FWD_FABZ-CPLX at 0x7f186430f890>\n",
      "Created <Metabolite EG50003-MONOMER_mod_pan4p_mod_t3c9palme at 0x7f186430ffd0> in <MetabolicReaction 3HAD1611_FWD_FABZ-CPLX at 0x7f186430ff90>\n",
      "Created <Metabolite EG50003-MONOMER_mod_pan4p_mod_tde at 0x7f18641444d0> in <MetabolicReaction FA141ACPHi1_FWD_EG11095-MONOMER_mod_generic_divalent_mod_fe2_mod_generic_divalent_mod_generic_divalent_mod_generic_divalent at 0x7f1864144490>\n",
      "Created <Metabolite IscU_mod_1:2fe2s_mod_2:fe2 at 0x7f1864144f10> in <MetabolicReaction Fe_transfer_CyaY_mod_1:fe2_to_IscU_mod_1:2Fe2S_mod_1:fe2_FWD_CPLX_dummy at 0x7f1864144ed0>\n",
      "Created <Metabolite IscU_mod_1:2fe2s_mod_1:fe2 at 0x7f1864144f50> in <MetabolicReaction Fe_transfer_CyaY_mod_1:fe2_to_IscU_mod_1:2Fe2S_mod_1:fe2_FWD_CPLX_dummy at 0x7f1864144ed0>\n",
      "Created <Metabolite RED-THIOREDOXIN-MONOMER_mod_Oxidized at 0x7f1864152350> in <MetabolicReaction DSBDR1_FWD_CPLX_dummy at 0x7f1864152310>\n",
      "Created <Metabolite DSBD-MONOMER_mod_Oxidized at 0x7f1864152390> in <MetabolicReaction DSBDR1_FWD_CPLX_dummy at 0x7f1864152310>\n",
      "Created <Metabolite RED-THIOREDOXIN2-MONOMER_mod_Oxidized at 0x7f1864152450> in <MetabolicReaction DSBDR2_FWD_CPLX_dummy at 0x7f1864152410>\n",
      "Created <Metabolite EG50003-MONOMER_mod_pan4p_mod_hpme at 0x7f1864152dd0> in <MetabolicReaction OPMEACPR1_FWD_3-OXOACYL-ACP-REDUCT-MONOMER at 0x7f1864152c90>\n",
      "Created <Metabolite EG50003-MONOMER_mod_pan4p_mod_epme at 0x7f1863c888d0> in <MetabolicReaction EPMEACPR1_FWD_ENOYL-ACP-REDUCT-NADH-MONOMER at 0x7f1863c88890>\n",
      "Created <Metabolite EG50003-MONOMER_mod_pan4p_mod_pme at 0x7f1863c88910> in <MetabolicReaction EPMEACPR1_FWD_ENOYL-ACP-REDUCT-NADH-MONOMER at 0x7f1863c88890>\n",
      "Created <Metabolite CPLX0-246_CPLX0-1342_mod_pydx5p at 0x7f1863c99c50> in <MetabolicReaction SCYSDS1_FWD_CPLX_dummy at 0x7f1863c99c10>\n",
      "Created <Metabolite CPLX0-246_CPLX0-1342_mod_pydx5p_mod_1:SH at 0x7f1863c99c90> in <MetabolicReaction SCYSDS1_FWD_CPLX_dummy at 0x7f1863c99c10>\n",
      "Created <Metabolite h at 0x7f1863c99ed0> in <MetabolicReaction S_transfer_to_SufBCD_mod_1:2Fe1S_FWD_CPLX_dummy at 0x7f1863c99e90>\n",
      "Created <Metabolite CPLX0-1341_mod_1:2fe2s at 0x7f1863c99f10> in <MetabolicReaction S_transfer_to_SufBCD_mod_1:2Fe1S_FWD_CPLX_dummy at 0x7f1863c99e90>\n",
      "Created <Metabolite CPLX0-1341_mod_1:2fe1s at 0x7f1863c99f50> in <MetabolicReaction S_transfer_to_SufBCD_mod_1:2Fe1S_FWD_CPLX_dummy at 0x7f1863c99e90>\n",
      "Created <Metabolite EG50003-MONOMER_mod_pan4p_mod_palm at 0x7f1863cab7d0> in <MetabolicReaction AGPAT1601_FWD_1-ACYLGLYCEROL-3-P-ACYLTRANSFER-MONOMER at 0x7f1863cab810>\n",
      "Created <Metabolite 2tpr3dpcoa at 0x7f1863c3c690> in <MetabolicReaction CITLY-CPLX_2tpr3dpcoa_FWD_G6340-MONOMER at 0x7f1863c3c5d0>\n",
      "Created <Metabolite EG50003-MONOMER_mod_pan4p_mod_3hpalm at 0x7f1863c4c5d0> in <MetabolicReaction 3HAD1601_FWD_FABZ-CPLX at 0x7f1863c4c590>\n",
      "Created <Metabolite EG50003-MONOMER_mod_pan4p_mod_tpalm2e at 0x7f1863c4c650> in <MetabolicReaction 3HAD1601_FWD_FABZ-CPLX at 0x7f1863c4c590>\n",
      "Created <Metabolite EG50003-MONOMER_mod_pan4p_mod_ocdca at 0x7f1863c4c750> in <MetabolicReaction G3PAT1801_FWD_GLYCEROL-3-P-ACYLTRANSFER-MONOMER at 0x7f1863c4c710>\n",
      "Created <Metabolite CPLX0-1341_mod_2:2fe2s at 0x7f1863ac1d50> in <MetabolicReaction SufBCD_2:2fe2s_to_SufBCD_1:4fe4s_FWD_CPLX_dummy at 0x7f1863ac1cd0>\n",
      "Created <Metabolite CPLX0-1341_mod_1:4fe4s at 0x7f1863ac1d10> in <MetabolicReaction SufBCD_2:2fe2s_to_SufBCD_1:4fe4s_FWD_CPLX_dummy at 0x7f1863ac1cd0>\n",
      "Created <Metabolite DISULFOXRED-MONOMER at 0x7f18639c2a50> in <MetabolicReaction DSBAO11_FWD_DSBBPROT-MONOMER at 0x7f18639c2a10>\n",
      "Created <Metabolite DISULFOXRED-MONOMER_mod_Oxidized at 0x7f18639c2a90> in <MetabolicReaction DSBAO11_FWD_DSBBPROT-MONOMER at 0x7f18639c2a10>\n",
      "Created <Metabolite CPLX-7524_mod_mn2 at 0x7f18639d1110> in <MetabolicReaction 4Fe4S_to_ErpA_by_IscU_FWD_EG12130-MONOMER_EG12131-MONOMER at 0x7f18639d10d0>\n",
      "Created <Metabolite IscU_mod_1:4fe4s at 0x7f18639d1150> in <MetabolicReaction 4Fe4S_to_ErpA_by_IscU_FWD_EG12130-MONOMER_EG12131-MONOMER at 0x7f18639d10d0>\n",
      "Created <Metabolite CPLX-7524_mod_mn2_mod_1:4fe4s at 0x7f18639d1190> in <MetabolicReaction 4Fe4S_to_ErpA_by_IscU_FWD_EG12130-MONOMER_EG12131-MONOMER at 0x7f18639d10d0>\n",
      "Created <Metabolite EG50003-MONOMER_mod_pan4p_mod_hde at 0x7f18639d17d0> in <MetabolicReaction AGPAT1611_FWD_1-ACYLGLYCEROL-3-P-ACYLTRANSFER-MONOMER at 0x7f18639d1790>\n",
      "Created <Metabolite EG50003-MONOMER_mod_pan4p_mod_3ocddec5e at 0x7f18639f31d0> in <MetabolicReaction 3OAS1211_FWD_FABB-CPLX at 0x7f18639f3190>\n",
      "Created <Metabolite EG50003-MONOMER_mod_pan4p_mod_cdec3e at 0x7f18639f3210> in <MetabolicReaction 3OAS1211_FWD_FABB-CPLX at 0x7f18639f3190>\n",
      "Created <Metabolite IscS_mod_2:pydx5p at 0x7f18639f3f10> in <MetabolicReaction S_transfer_to_IscU_mod_1:2Fe2S_mod_2:fe2_FWD_CPLX_dummy at 0x7f18639f3ed0>\n",
      "Created <Metabolite IscU_mod_1:2fe2s_mod_1:2fe1s at 0x7f18639f3f50> in <MetabolicReaction S_transfer_to_IscU_mod_1:2Fe2S_mod_2:fe2_FWD_CPLX_dummy at 0x7f18639f3ed0>\n",
      "Created <Metabolite IscS_mod_2:pydx5p_mod_1:SH at 0x7f18639f3f90> in <MetabolicReaction S_transfer_to_IscU_mod_1:2Fe2S_mod_2:fe2_FWD_CPLX_dummy at 0x7f18639f3ed0>\n",
      "Created <Metabolite EG50003-MONOMER_mod_pan4p_mod_octe at 0x7f1863543350> in <MetabolicReaction G3PAT1811_FWD_GLYCEROL-3-P-ACYLTRANSFER-MONOMER at 0x7f1863543310>\n",
      "Created <Metabolite EG50003-MONOMER_mod_pan4p_mod_3hcmrs7e at 0x7f1863543910> in <MetabolicReaction 3HAD1411_FWD_FABZ-CPLX at 0x7f18635438d0>\n",
      "Created <Metabolite EG50003-MONOMER_mod_pan4p_mod_t3c7mrse at 0x7f1863543950> in <MetabolicReaction 3HAD1411_FWD_FABZ-CPLX at 0x7f18635438d0>\n",
      "Created <Metabolite FLAVODOXIN1-MONOMER_mod_Oxidized at 0x7f1863543f90> in <MetabolicReaction RNTR1c21_FWD_RIBONUCLEOSIDE-TRIP-REDUCT-CPLX at 0x7f1863543ed0>\n",
      "Created <Metabolite FLAVODOXIN2-MONOMER_mod_Oxidized at 0x7f1863554090> in <MetabolicReaction RNTR1c22_FWD_RIBONUCLEOSIDE-TRIP-REDUCT-CPLX at 0x7f1863554050>\n",
      "Created <Metabolite EG50003-MONOMER_mod_pan4p_mod_dca at 0x7f1863554390> in <MetabolicReaction EAR100x1_FWD_ENOYL-ACP-REDUCT-NADH-MONOMER at 0x7f1863554350>\n",
      "Created <Metabolite EG50003-MONOMER_mod_pan4p_mod_tdec2e at 0x7f18635543d0> in <MetabolicReaction EAR100x1_FWD_ENOYL-ACP-REDUCT-NADH-MONOMER at 0x7f1863554350>\n",
      "Created <Metabolite CPLX0-7824_mod_1:4fe4s at 0x7f18633fa890> in <MetabolicReaction 4Fe4S_to_ErpA_by_SufA_FWD_CPLX_dummy at 0x7f18633fa850>\n",
      "Created <Metabolite EG50003-MONOMER_mod_pan4p_mod_egme at 0x7f186342ea90> in <MetabolicReaction OGMEACPD1_FWD_FABZ-CPLX at 0x7f186342ea50>\n",
      "Created <Metabolite EG50003-MONOMER_mod_pan4p_mod_hgme at 0x7f186342ead0> in <MetabolicReaction OGMEACPD1_FWD_FABZ-CPLX at 0x7f186342ea50>\n",
      "Created <Metabolite EG50003-MONOMER_mod_pan4p_mod_ogme at 0x7f186342eb50> in <MetabolicReaction OGMEACPR1_FWD_3-OXOACYL-ACP-REDUCT-MONOMER at 0x7f186342eb10>\n",
      "Created <Metabolite IscU_mod_1:2fe1s at 0x7f1864417290> in <MetabolicReaction S_transfer_to_IscU_mod_2:fe2_FWD_CPLX_dummy at 0x7f18644172d0>\n",
      "Created <Metabolite EG50003-MONOMER_mod_pan4p_mod_3oddec at 0x7f1864417d50> in <MetabolicReaction 3OAS1201_FWD_FABB-CPLX at 0x7f1864417c50>\n",
      "Created <Metabolite EG50003-MONOMER_mod_pan4p_mod_tmrs2e at 0x7f1864425a50> in <MetabolicReaction 3HAD1401_FWD_FABZ-CPLX at 0x7f1864425a10>\n",
      "Created <Metabolite IscU_mod_2:2fe2s at 0x7f1864425f10> in <MetabolicReaction I4FE4SR1_FWD_CPLX_dummy at 0x7f1864425ed0>\n",
      "Created <Metabolite IscU_mod_1:2fe2s at 0x7f186424c0d0> in <MetabolicReaction Fe_transfer_CyaY_mod_1:fe2_to_IscU_mod_1:2Fe2S_FWD_CPLX_dummy at 0x7f186424c090>\n",
      "Created <Metabolite EG11597-MONOMER_mod_cosh at 0x7f186424ca50> in <MetabolicReaction MPTS1_FWD_EG11598-MONOMER at 0x7f186424ca10>\n",
      "Created <Metabolite EG11597-MONOMER_mod_coo at 0x7f186424ca90> in <MetabolicReaction MPTS1_FWD_EG11598-MONOMER at 0x7f186424ca10>\n",
      "Created <Metabolite DSBG-CPLX_mod_Oxidized at 0x7f1864260b10> in <MetabolicReaction DSBGGT1_FWD_CPLX_dummy at 0x7f1864260ad0>\n",
      "Created <Metabolite EG50003-MONOMER_mod_pan4p_mod_toct2e at 0x7f18641fd650> in <MetabolicReaction EAR80x1_FWD_ENOYL-ACP-REDUCT-NADH-MONOMER at 0x7f18641fd610>\n",
      "Created <Metabolite IscA_tetra_mod_1:4fe4s at 0x7f18641fd850> in <MetabolicReaction 4Fe4S_to_IscA_by_IscU_FWD_EG12130-MONOMER_EG12131-MONOMER at 0x7f18641fd810>\n",
      "Created <Metabolite IscA_tetra_mod_1:2fe2s at 0x7f186420ecd0> in <MetabolicReaction 2Fe2S_to_IscA_by_IscU_FWD_EG12130-MONOMER_EG12131-MONOMER at 0x7f186420ec90>\n",
      "Created <Metabolite DSBC-CPLX_mod_Oxidized at 0x7f18641c5d10> in <MetabolicReaction DSBCGT1_FWD_CPLX_dummy at 0x7f18641c5cd0>\n",
      "Created <Metabolite EG50003-MONOMER_mod_pan4p_mod_ac at 0x7f18641d5390> in <MetabolicReaction KAS141_FWD_FABB-CPLX at 0x7f18641d5350>\n",
      "Created <Metabolite EG11597-MONOMER_mod_amp at 0x7f18641d5890> in <MetabolicReaction MPTSS1_FWD_EG10154-MONOMER at 0x7f18641d5850>\n",
      "Created <Metabolite dad__5 at 0x7f18641d5990> in <MetabolicReaction BTS6_FWD_BIOTIN-SYN-CPLX_mod_4fe4s_mod_2fe2s at 0x7f18641d5950>\n",
      "Created <Metabolite met__L at 0x7f18641d59d0> in <MetabolicReaction BTS6_FWD_BIOTIN-SYN-CPLX_mod_4fe4s_mod_2fe2s at 0x7f18641d5950>\n",
      "Created <Metabolite EG50003-MONOMER_mod_pan4p_mod_cddec5e at 0x7f18641f9390> in <MetabolicReaction EAR121x1_FWD_ENOYL-ACP-REDUCT-NADH-MONOMER at 0x7f18641f93d0>\n",
      "Created <Metabolite CPLX0-1341_mod_1:2fe2s_mod_1:2fe1s at 0x7f18641f9790> in <MetabolicReaction S_transfer_to_SufBCD_mod_1:2Fe2S_mod_1:2Fe1S_FWD_CPLX_dummy at 0x7f18641f97d0>\n",
      "Created <Metabolite fe2 at 0x7f18641f9850> in <MetabolicReaction CyaY_Fe_loading_FWD_CPLX_dummy at 0x7f18641f9810>\n",
      "Created <Metabolite EG50003-MONOMER_mod_pan4p_mod_3ocmrs7e at 0x7f186419cc90> in <MetabolicReaction 3OAR1411_FWD_3-OXOACYL-ACP-REDUCT-MONOMER at 0x7f186419cc50>\n",
      "Created <Metabolite CPLX0-1341_mod_2:fe2 at 0x7f186419ce50> in <MetabolicReaction S_transfer_to_SufBCD_mod_2:fe2_FWD_CPLX_dummy at 0x7f186419ce10>\n",
      "Created <Metabolite CPLX0-1341_mod_1:fe2 at 0x7f18641ad110> in <MetabolicReaction SufBCD_mod_1:fe2atp_mediated_FE_loading_FWD_CPLX_dummy at 0x7f18641ad0d0>\n",
      "Created <Metabolite EG50003-MONOMER_mod_pan4p_mod_3hoct at 0x7f186404cc50> in <MetabolicReaction 3OAR801_REV_3-OXOACYL-ACP-REDUCT-MONOMER at 0x7f186404cc10>\n",
      "Created <Metabolite EG50003-MONOMER_mod_pan4p_mod_3odec at 0x7f186405f1d0> in <MetabolicReaction 3OAS1001_FWD_FABB-CPLX at 0x7f186405f190>\n",
      "Created <Metabolite EG50003-MONOMER_mod_pan4p_mod_myrs at 0x7f186405f590> in <MetabolicReaction EDTXS21_FWD_MYRISTOYLACYLTRAN-MONOMER at 0x7f186405f550>\n",
      "Created <Metabolite EG10544-MONOMER_mod_palmitate at 0x7f1863f273d0> in <MetabolicReaction ALPATG160pp1_FWD_EG10168-MONOMER at 0x7f1863f27390>\n",
      "Created <Metabolite metsox__R__L at 0x7f1863f38290> in <MetabolicReaction PFL_act_FWD_PFLACTENZ-MONOMER at 0x7f1863f382d0>\n",
      "Created <Metabolite dad__2 at 0x7f1863f38310> in <MetabolicReaction PFL_act_FWD_PFLACTENZ-MONOMER at 0x7f1863f382d0>\n",
      "Created <Metabolite amet at 0x7f1863f38410> in <MetabolicReaction PFL_act_FWD_PFLACTENZ-MONOMER at 0x7f1863f382d0>\n",
      "Created <Metabolite EG50003-MONOMER_mod_pan4p_mod_3ohex at 0x7f1863e54310> in <MetabolicReaction 3OAS601_FWD_FABB-CPLX at 0x7f1863e542d0>\n",
      "Created <Metabolite EG50003-MONOMER_mod_pan4p_mod_but at 0x7f1863e54350> in <MetabolicReaction 3OAS601_FWD_FABB-CPLX at 0x7f1863e542d0>\n",
      "Created <Metabolite EG50003-MONOMER_mod_pan4p_mod_3hddec at 0x7f1863e66e90> in <MetabolicReaction 3OAR1201_REV_3-OXOACYL-ACP-REDUCT-MONOMER at 0x7f1863e66e50>\n",
      "Created <Metabolite EG50003-MONOMER_mod_pan4p_mod_toctd2e at 0x7f1863bc24d0> in <MetabolicReaction EAR180y1_FWD_ENOYL-ACP-REDUCT-NADH-MONOMER at 0x7f1863bc2490>\n",
      "Created <Metabolite EG50003-MONOMER_mod_pan4p_mod_but2e at 0x7f1863befed0> in <MetabolicReaction EAR40x1_FWD_ENOYL-ACP-REDUCT-NADH-MONOMER at 0x7f1863beff10>\n",
      "Created <Metabolite 23bpg at 0x7f1863b00bd0> in <MetabolicReaction 23bpg_generation_FWD_CPLX_dummy at 0x7f1863b00b90>\n",
      "Created <Metabolite EG50003-MONOMER_mod_pan4p_mod_3ooctd at 0x7f1863b00d50> in <MetabolicReaction 3OAS1801_FWD_FABB-CPLX at 0x7f1863b00d10>\n",
      "Created <Metabolite hemed at 0x7f1863b31450> in <MetabolicReaction hemeD_synthesis_FWD_HYDROPEROXIDII-CPLX_mod_6:hemed at 0x7f1863b31410>\n",
      "Created <Metabolite h2o2 at 0x7f1863b31490> in <MetabolicReaction hemeD_synthesis_FWD_HYDROPEROXIDII-CPLX_mod_6:hemed at 0x7f1863b31410>\n",
      "Created <Metabolite pheme at 0x7f1863b314d0> in <MetabolicReaction hemeD_synthesis_FWD_HYDROPEROXIDII-CPLX_mod_6:hemed at 0x7f1863b31410>\n",
      "Created <Metabolite EG50003-MONOMER_mod_pan4p_mod_3opalm at 0x7f1863b31c90> in <MetabolicReaction 3OAS1601_FWD_FABB-CPLX at 0x7f1863b31c50>\n",
      "Created <Metabolite CPLX-7524_mod_mn2_mod_1:2fe2s at 0x7f1863904a10> in <MetabolicReaction 2Fe2S_to_ErpA_by_SufA_FWD_CPLX_dummy at 0x7f18639049d0>\n",
      "Created <Metabolite CPLX0-7824_mod_1:2fe2s at 0x7f1863904a50> in <MetabolicReaction 2Fe2S_to_ErpA_by_SufA_FWD_CPLX_dummy at 0x7f18639049d0>\n",
      "Created <Metabolite EG50003-MONOMER_mod_pan4p_mod_3hdec at 0x7f1863638410> in <MetabolicReaction 3OAR1001_REV_3-OXOACYL-ACP-REDUCT-MONOMER at 0x7f18636383d0>\n",
      "Created <Metabolite EG50003-MONOMER_mod_pan4p_mod_t3c11vace at 0x7f1863337c50> in <MetabolicReaction EAR181x1_FWD_ENOYL-ACP-REDUCT-NADH-MONOMER at 0x7f1863337c10>\n",
      "Created <Metabolite tl at 0x7f186323dc10> in <MetabolicReaction tl_generation_FWD_CPLX_dummy at 0x7f186323dbd0>\n",
      "Created <Metabolite EG50003-MONOMER_mod_pan4p_mod_3hocta at 0x7f18645856d0> in <MetabolicReaction 3OAR1801_REV_3-OXOACYL-ACP-REDUCT-MONOMER at 0x7f1864585710>\n",
      "Created <Metabolite dpm at 0x7f1864598f90> in <MetabolicReaction dpm_import_FWD_CPLX_dummy at 0x7f1864598f50>\n",
      "Created <Metabolite EG50003-MONOMER_mod_pan4p_mod_3hcvac11e at 0x7f18645a7350> in <MetabolicReaction 3HAD1811_FWD_FABZ-CPLX at 0x7f18645a7310>\n",
      "Created <Metabolite EG50003-MONOMER_mod_pan4p_mod_3ocvac11e at 0x7f18640f7510> in <MetabolicReaction 3OAR1811_FWD_3-OXOACYL-ACP-REDUCT-MONOMER at 0x7f18640f74d0>\n"
     ]
    }
   ],
   "source": [
    "for reaction_data in me.stoichiometric_data:\n",
    "    # Some reactions have no complex associated. Determine if they are\n",
    "    # spontaneous or orphan reactions.\n",
    "    try:\n",
    "        complexes = rxnToModCplxDict[reaction_data.id]\n",
    "    except KeyError:\n",
    "        # These are orphans catalyzed by a dummy\n",
    "        if reaction_data.id == \"dummy_reaction\" or \\\n",
    "                not reaction_info.is_spontaneous[reaction_data.id]:\n",
    "            complexes = [\"CPLX_dummy\"]\n",
    "        # These are truly spontaneous\n",
    "        else:\n",
    "            complexes = [None]\n",
    "    for complex_id in complexes:\n",
    "        complex_data = me.complex_data.get_by_id(complex_id) if complex_id else None\n",
    "        if reaction_data.lower_bound < 0:\n",
    "            r = MetabolicReaction(reaction_data.id + \"_REV_\" + str(complex_id))\n",
    "            me.add_reaction(r)\n",
    "            r.keff = 65\n",
    "            r.stoichiometric_data = reaction_data\n",
    "            if complex_data is not None:\n",
    "                r.complex_data = complex_data\n",
    "            r.reverse = True\n",
    "            r.update(create_new=True)\n",
    "        if reaction_data.upper_bound > 0:\n",
    "            r = MetabolicReaction(reaction_data.id + \"_FWD_\" + str(complex_id))\n",
    "            me.add_reaction(r)\n",
    "            r.keff = 65\n",
    "            r.stoichiometric_data = reaction_data\n",
    "            if complex_data is not None:\n",
    "                r.complex_data = complex_data\n",
    "            r.reverse = False\n",
    "            r.update(create_new=True)"
   ]
  },
  {
   "cell_type": "code",
   "execution_count": 24,
   "metadata": {
    "collapsed": false
   },
   "outputs": [
    {
     "data": {
      "text/plain": [
       "'2tpr3dpcoa + 4.27350427350427e-6*mu G6340-MONOMER --> '"
      ]
     },
     "execution_count": 24,
     "metadata": {},
     "output_type": "execute_result"
    }
   ],
   "source": [
    "# This reaction is weird\n",
    "me.reactions.get_by_id('CITLY-CPLX_2tpr3dpcoa_FWD_G6340-MONOMER').reaction"
   ]
  },
  {
   "cell_type": "markdown",
   "metadata": {},
   "source": [
    "Rebuild transcription and translation to use tRNA (now that tRNA synthetase complexes are in the model"
   ]
  },
  {
   "cell_type": "code",
   "execution_count": 25,
   "metadata": {
    "collapsed": false
   },
   "outputs": [],
   "source": [
    "for r in me.reactions:\n",
    "    if isinstance(r, tRNAChargingReaction):\n",
    "        r.update()\n",
    "for r in me.reactions:\n",
    "    if isinstance(r, TranslationReaction):\n",
    "        r.update()\n",
    "    if isinstance(r, TranscriptionReaction):\n",
    "        r.update()\n",
    "    if isinstance(r, MetabolicReaction):\n",
    "        r.update()"
   ]
  },
  {
   "cell_type": "markdown",
   "metadata": {},
   "source": [
    "Remove unused protein and mRNA to make the model solve faster (TODO remove unused complexes too)"
   ]
  },
  {
   "cell_type": "code",
   "execution_count": 26,
   "metadata": {
    "collapsed": false
   },
   "outputs": [],
   "source": [
    "for p in me.metabolites.query(\"protein\"):\n",
    "    if len(p._reaction) == 1:\n",
    "        list(p._reaction)[0].delete(remove_orphans=True)\n",
    "for m in me.metabolites.query(\"RNA\"):\n",
    "    if len(m._reaction) == 1:\n",
    "        list(m._reaction)[0].delete(remove_orphans=True)"
   ]
  },
  {
   "cell_type": "markdown",
   "metadata": {},
   "source": [
    "This gives the total number of genes included"
   ]
  },
  {
   "cell_type": "code",
   "execution_count": 27,
   "metadata": {
    "collapsed": false
   },
   "outputs": [
    {
     "data": {
      "text/plain": [
       "1648"
      ]
     },
     "execution_count": 27,
     "metadata": {},
     "output_type": "execute_result"
    }
   ],
   "source": [
    "len(me.reactions.query(\"transcription\"))"
   ]
  },
  {
   "cell_type": "code",
   "execution_count": 28,
   "metadata": {
    "collapsed": false
   },
   "outputs": [
    {
     "name": "stdout",
     "output_type": "stream",
     "text": [
      "cpg180_c\n",
      "selnp_c\n",
      "ragund_c\n",
      "23doguln_c\n",
      "4mhetz_c\n",
      "4hthr_c\n",
      "cpe160_c\n",
      "gdpfuc_c\n",
      "2tpr3dpcoa_c\n",
      "cinnm_c\n",
      "preq1_c\n",
      "hemeO_c\n",
      "aconm_c\n",
      "didp_c\n",
      "hqn_c\n",
      "malt6p_c\n",
      "thmnp_c\n",
      "n8aspmd_c\n",
      "dxyl_c\n",
      "mercppyr_c\n",
      "mi1p__D_c\n",
      "mococdp_c\n",
      "met__D_c\n",
      "2pglyc_c\n",
      "acanth_c\n",
      "xdp_c\n",
      "na15dap_c\n",
      "cpg160_c\n",
      "sarcs_c\n",
      "cpe180_c\n",
      "cs_e\n",
      "athtp_c\n",
      "ap5a_c\n",
      "aso4_c\n",
      "dmbzid_c\n",
      "Nmtrp_c\n",
      "gp4g_c\n",
      "ag_c\n",
      "N1aspmd_c\n",
      "tungs_c\n",
      "Rrf_mono\n",
      "IscS\n",
      "DIHYDROOROT-CPLX\n",
      "AROF-CPLX\n",
      "YhhP_mono\n",
      "GABATRANSAM-CPLX\n",
      "RpoS_mono\n",
      "RrmJ_mono\n",
      "EG11239-MONOMER\n",
      "NITRITREDUCT-CPLX\n",
      "CPLX0-1221\n",
      "ARGDECARBOXDEG-CPLX\n",
      "RplC_mono\n",
      "RpsP_mono\n",
      "PSERPHOSPHA-MONOMER\n",
      "GLYCEROL-KIN-CPLX\n",
      "YrdC_mono\n",
      "RNase_P_cplx\n",
      "TadA_dim\n",
      "NARW-MONOMER\n",
      "PPX-CPLX\n",
      "NusG_mono\n",
      "#PrmB_mono\n",
      "CPLX0-1021\n",
      "CPLX0-7692\n",
      "CPLX0-1\n",
      "ACETOLACTSYNI-CPLX\n",
      "EG11829-MONOMER\n",
      "CITC-MONOMER\n",
      "CPLX-7524\n",
      "RlmN_mono\n",
      "GLUTATHIONE-SYN-CPLX\n",
      "RpmA_mono\n",
      "RpsR_mono\n",
      "RpsF_mono\n",
      "EG10983-MONOMER\n",
      "InfA_mono\n",
      "ThiI_mono\n",
      "CPLX0-303\n",
      "#RimJ_mono\n",
      "YecO_mono\n",
      "TruA_dim\n",
      "RpsJ_mono\n",
      "GLUTAMINESYN-OLIGOMER\n",
      "RsmG_mono\n",
      "UDP-NACMUR-ALA-LIG-MONOMER\n",
      "RNase_T_dim\n",
      "IMIDHISTID-CPLX\n",
      "CTPSYN-CPLX\n",
      "CPLX0-3721\n",
      "AROH-CPLX\n",
      "TmcA_mono\n",
      "YjbC_mono\n",
      "ACYLCOASYN-CPLX\n",
      "CYT-O-UBIOX-CPLX\n",
      "G6954-MONOMER\n",
      "L-LACTDEHYDROGFMN-MONOMER\n",
      "AROG-CPLX\n",
      "Rph_mono\n",
      "rpL7/12\n",
      "CPLX0-7776\n",
      "EG11597-MONOMER\n",
      "#CPLX0-7805\n",
      "#YcaO_mono\n",
      "GCVMULTI-CPLX\n",
      "3-ISOPROPYLMALDEHYDROG-CPLX\n",
      "CYTDEAM-MONOMER\n",
      "ADCLY-CPLX\n",
      "RpmI_mono\n",
      "FUMARATE-REDUCTASE\n",
      "DEOXYGLUCONOKIN-MONOMER\n",
      "MALDEXPHOSPHORYL-CPLX\n",
      "RsmI_mono\n",
      "PEPSYNTH-CPLX\n",
      "CPLX0-7712\n",
      "CPLX0-7826\n",
      "DETHIOBIOTIN-SYN-CPLX\n",
      "NUCLEOSIDE-DIP-KIN-CPLX\n",
      "RplE_mono\n",
      "G6712-MONOMER\n",
      "MENF-CPLX\n",
      "RplQ_mono\n",
      "DTMPKI-MONOMER\n",
      "#Dtd_dim\n",
      "NusA_mono\n",
      "#YbbB_dim\n",
      "GLYOXII-MONOMER\n",
      "TETRAACYLDISACC4KIN-MONOMER\n",
      "UDPGLUCEPIM-CPLX\n",
      "LACTALDREDUCT-CPLX\n",
      "CFA-CPLX\n",
      "RpoH_mono\n",
      "RpsN_mono\n",
      "DLACTDEHYDROGFAD-MONOMER\n",
      "RplM_mono\n",
      "ADHC-CPLX\n",
      "CPLX0-238\n",
      "CPLX0-234\n",
      "TRYPSYN\n",
      "ANTHRANSYN-CPLX\n",
      "NICONUCADENYLYLTRAN-MONOMER\n",
      "CPLX0-341\n",
      "H2NEOPTERINP3PYROPHOSPHOHYDRO-MONOMER\n",
      "HOLO-ACP-SYNTH-CPLX\n",
      "THIKIN-MONOMER\n",
      "RNase_III_dim\n",
      "Sra_mono\n",
      "KDO-8PPHOSPHAT-CPLX\n",
      "HEMEOSYN-MONOMER\n",
      "InfC_mono\n",
      "DIHYDROPTERIREDUCT-CPLX\n",
      "TufB_mono\n",
      "PGMI-MONOMER\n",
      "DIOHBUTANONEPSYN-CPLX\n",
      "Rnb_mono\n",
      "TruB_mono\n",
      "RNase_G_dim\n",
      "RplU_mono\n",
      "YggJ_dim\n",
      "DusC_mono\n",
      "MnmG_dim\n",
      "EG10043-MONOMER\n",
      "CPLX0-250_FORMATEDEHYDROGH-MONOMER\n",
      "IPPISOM-MONOMER\n",
      "PSERTRANSAM-CPLX\n",
      "CARBODEHYDRAT-CPLX\n",
      "CPLX0-1762\n",
      "#RimI_mono\n",
      "EG12450-MONOMER\n",
      "PKII-CPLX\n",
      "YheL_mono\n",
      "AROC-CPLX\n",
      "ACETATEKINA-MONOMER\n",
      "YggH_mono\n",
      "RlmI_dim\n",
      "AROL-MONOMER\n",
      "NITRATREDUCTZ-CPLX\n",
      "RumB_mono\n",
      "ACETYLORNTRANSAM-CPLX\n",
      "ASPCARBTRANS-CPLX\n",
      "YheM_mono\n",
      "DIMESULFREDUCT-CPLX\n",
      "HYDROPEROXIDII-CPLX\n",
      "METHYLENETHFREDUCT-CPLX\n",
      "NAG1P-URIDYLTRANS-CPLX\n",
      "CPLX0-7630\n",
      "EG11817-MONOMER\n",
      "ACETYLGLUTKIN-CPLX\n",
      "RpmJ_mono\n",
      "RpsM_mono\n",
      "HYDROPEROXIDI-CPLX\n",
      "LSERINEDEAM2-MONOMER\n",
      "RpsQ_mono\n",
      "O-SUCCHOMOSERLYASE-CPLX\n",
      "CPLX0-243\n",
      "MALIC-NADP-CPLX\n",
      "RlmG_mono\n",
      "RpsS_mono\n",
      "CPLX0-7647\n",
      "Mfd_mono\n",
      "CYTIDEAM-CPLX\n",
      "RpmC_mono\n",
      "MALSYNG-MONOMER\n",
      "#RimL_mono\n",
      "THREDEHYDSYN-CPLX\n",
      "DMK-MONOMER\n",
      "3-METHYL-2-OXOBUT-OHCH3XFER-CPLX\n",
      "ADHE-CPLX\n",
      "AKBLIG-CPLX\n",
      "GLUTDECARBOXA-CPLX\n",
      "PRPPSYN-MONOMER\n",
      "RlmM_mono\n",
      "DnaJ_dim\n",
      "RplR_mono\n",
      "EG10943-MONOMER\n",
      "ADENYLYLSULFKIN-CPLX\n",
      "LDC2-CPLX\n",
      "TMAOREDUCTI-CPLX\n",
      "RpsO_mono\n",
      "FUMARASE-A\n",
      "RpsB_mono\n",
      "EG10124-MONOMER\n",
      "PORPHOBILSYNTH-CPLX\n",
      "CPLX0-1401\n",
      "RlmB_dim\n",
      "Map_mono\n",
      "RsmD_mono\n",
      "EG11911-MONOMER\n",
      "RIBONUCLEOSIDE-DIP-REDUCTI-CPLX\n",
      "GLUC1PADENYLTRANS-CPLX\n",
      "BETAGALACTOSID-CPLX\n",
      "RplP_mono\n",
      "RpsK_mono\n",
      "ARGDECARBOXBIO-CPLX\n",
      "BRANCHED-CHAINAMINOTRANSFER-CPLX\n",
      "SelA_deca\n",
      "RpmG_mono\n",
      "G6425-MONOMER\n",
      "RplO_mono\n",
      "CPLX0-7521\n",
      "HOMOCYSMETB12-MONOMER\n",
      "PHOSGLYCMUTASE\n",
      "AGMATIN-CPLX\n",
      "PDXH-CPLX\n",
      "GALACTOKIN-MONOMER\n",
      "CPLX0-7465\n",
      "CPLX0-7744\n",
      "InfB_mono\n",
      "CPLX0-301\n",
      "G7596-MONOMER\n",
      "FUMARASE-B\n",
      "RpsL_mono\n",
      "SUCCORNTRANSAM-CPLX\n",
      "GLUTCYSLIG-MONOMER\n",
      "HEMN-MONOMER\n",
      "RpsE_mono\n",
      "RIBULPEPIM-CPLX\n",
      "RluB_mono\n",
      "transGroES_hepta\n",
      "GSAAMINOTRANS-CPLX\n",
      "GLUTAMATESYN-CPLX\n",
      "RplY_mono\n",
      "RsmF_mono\n",
      "RsmB_mono\n",
      "DGTPTRIPHYDRO-CPLX\n",
      "CPLX0-7741\n",
      "PYRUVOXID-CPLX\n",
      "FliA_mono\n",
      "GLCNACPTRANS-MONOMER\n",
      "RplX_mono\n",
      "CPLX0-7622\n",
      "CPLX0-3161\n",
      "ARABISOM-CPLX\n",
      "G6646-MONOMER\n",
      "GroL_14\n",
      "PHOSPHOGLUCMUT-MONOMER\n",
      "UPPSYN-CPLX\n",
      "CPLX0-721\n",
      "YmfC_mono\n",
      "RplW_mono\n",
      "RlmH_dim\n",
      "EG10370-MONOMER\n",
      "GDPMANDEHYDRA-CPLX\n",
      "RpsU_mono\n",
      "OROPRIBTRANS-CPLX\n",
      "CPLX0-7838\n",
      "ENTC-MONOMER\n",
      "RplT_mono\n",
      "PABASYN-CPLX\n",
      "KsgA_mono\n",
      "OHMETHYLBILANESYN-MONOMER\n",
      "THREODEHYD-CPLX\n",
      "RplD_mono\n",
      "cisGroES_hepta\n",
      "THREDEHYDCAT-CPLX\n",
      "CPLX0-7631\n",
      "CPLX0-7633\n",
      "NITRATREDUCTA-CPLX\n",
      "CPLX0-743\n",
      "THYMIDYLATESYN-CPLX\n",
      "YecP_mono\n",
      "GLUTATHIONE-REDUCT-NADPH-CPLX\n",
      "HOMOSERKIN-CPLX\n",
      "CARBPSYN-CPLX\n",
      "UDPGLCNACEPIM-MONOMER\n",
      "RHAMNULPALDOL-CPLX\n",
      "FUCULOKIN-MONOMER\n",
      "THIE-MONOMER\n",
      "NAD-SYNTH-CPLX\n",
      "TRANSKETOI-CPLX\n",
      "YheLMN_cplx\n",
      "4OHBENZOATE-OCTAPRENYLTRANSFER-MONOMER\n",
      "RbfA_mono\n",
      "EG11095-MONOMER\n",
      "HOMOCYSMET-MONOMER\n",
      "VALINE-PYRUVATE-AMINOTRANSFER-MONOMER\n",
      "RrmA_dim\n",
      "MENE-CPLX\n",
      "FORMATEDEHYDROGN-CPLX\n",
      "RpoD_mono\n",
      "RpoE_mono\n",
      "GALACTARDEHYDRA-MONOMER\n",
      "YccK_mono\n",
      "G6701-MONOMER\n",
      "DTDPGLUCDEHYDRAT-CPLX\n",
      "CPLX0-7704\n",
      "S-ADENMETSYN-CPLX\n",
      "CPLX0-7709\n",
      "RpsA_mono\n",
      "EG10626-MONOMER\n",
      "ISOCITHASE-CPLX\n",
      "RNase_BN_dim\n",
      "XYLISOM-CPLX\n",
      "MnmC_mono\n",
      "RplA_mono\n",
      "Tig_mono\n",
      "F16B-CPLX\n",
      "ADENPRIBOSYLTRAN-CPLX\n",
      "ASNSYNA-CPLX\n",
      "LTAA-CPLX\n",
      "GLUCONOKINII-CPLX\n",
      "ADENYLATECYC-MONOMER\n",
      "GLUTDECARBOXB-CPLX\n",
      "DTDPGLUCDEHYDRAT2-MONOMER\n",
      "EG11957-MONOMER\n",
      "GLYOCARBOLIG-CPLX\n",
      "ATPSYN-CPLX\n",
      "RumA_mono\n",
      "CPLX0-3482\n",
      "RpoN_mono\n",
      "TrmH_dim\n",
      "Tgt_hexa\n",
      "NAG6PDEACET-CPLX\n",
      "FOLXTET-CPLX\n",
      "ORNDECARBOXDEG-CPLX\n",
      "G6986-MONOMER\n",
      "UDP-NACMURALA-GLU-LIG-MONOMER\n",
      "CPLX0-782\n",
      "DUTP-PYROP-CPLX\n",
      "CPLX0-7426\n",
      "MnmE_dim\n",
      "CPLX0-3741\n",
      "PPENTOMUT-MONOMER\n",
      "DXPREDISOM-CPLX\n",
      "NAPD-MONOMER\n",
      "QueG_mono\n",
      "RplI_mono\n",
      "GreA_mono\n",
      "PrfC_mono\n",
      "RpsH_mono\n",
      "EG12195-MONOMER\n",
      "RsmH_mono\n",
      "GLUCARDEHYDRA-MONOMER\n",
      "Pnp_trim\n",
      "TruD_mono\n",
      "RluD_mono\n",
      "TrmJ_dim\n",
      "CPLX0-3681\n",
      "FORMHYDROG2-CPLX\n",
      "Tsf_mono\n",
      "Def_mono\n",
      "DAPASYN-CPLX\n",
      "RHAMNULOKIN-MONOMER\n",
      "RpsC_mono\n",
      "RpmD_mono\n",
      "TYRB-DIMER\n",
      "RplK_mono\n",
      "RpsT_mono\n",
      "CPLX0-3061\n",
      "ANGLYC3PDEHYDROG-CPLX\n",
      "CPLX0-253\n",
      "DTDPGLUCOSEPP-MONOMER\n",
      "ETHAMLY-CPLX\n",
      "EG11736-MONOMER\n",
      "PKI-COMPLEX\n",
      "RplS_mono\n",
      "CPLX0-7838_CPLX0-7839\n",
      "2OXOGLUTARATEDEH-CPLX\n",
      "ASNSYNB-CPLX\n",
      "NAP-CPLX\n",
      "G7166-MONOMER\n",
      "SULFITE-REDUCT-CPLX\n",
      "Fmt_mono\n",
      "ASPARTASE-CPLX\n",
      "SUPEROX-DISMUTMN-CPLX\n",
      "RluC_mono\n",
      "DIACYLGLYKIN-CPLX\n",
      "G7408-MONOMER\n",
      "RlmF_mono\n",
      "FusA_mono\n",
      "G7502-MONOMER\n",
      "PRPPAMIDOTRANS-CPLX\n",
      "YqcB_mono\n",
      "MnmEG_cplx\n",
      "GLUCDEHYDROG-MONOMER\n",
      "G6523-MONOMER_G6518-MONOMER\n",
      "G6437-MONOMER\n",
      "GMP-SYN-CPLX\n",
      "CPLX0-7882\n",
      "GLY3KIN-MONOMER\n",
      "TrmA_mono\n",
      "CPM-KDOSYNTH-MONOMER\n",
      "Era_dim\n",
      "TREHALOSEPHOSPHASYN-MONOMER\n",
      "RplB_mono\n",
      "CPLX0-7525\n",
      "MiaA_dim\n",
      "EG11470-MONOMER\n",
      "RimM_mono\n",
      "RpsI_mono\n",
      "APP-UBIOX-CPLX\n",
      "THI-P-KIN-MONOMER\n",
      "LTARTDEHYDRA-CPLX\n",
      "L-ASPARTATE-OXID-MONOMER\n",
      "TrmU_mono\n",
      "PEPCARBOX-CPLX\n",
      "SUPEROX-DISMUTFE-CPLX\n",
      "DIHYDROXYACIDDEHYDRAT-CPLX\n",
      "CPLX0-1683\n",
      "SelB_mono\n",
      "G6886-MONOMER\n",
      "GLYOXI-CPLX\n",
      "PANTOATE-BETA-ALANINE-LIG-CPLX\n",
      "GLYCPDIESTER-CYTO-MONOMER\n",
      "CPLX0-7719\n",
      "CPLX0-7625\n",
      "RpmH_mono\n",
      "PPPGPPHYDRO-CPLX\n",
      "O-SUCCINYLBENZOATE-COA-SYN-MONOMER\n",
      "FORMATEDEHYDROGO-CPLX\n",
      "FOLE-CPLX\n",
      "H2PTEROATESYNTH-CPLX\n",
      "RpmE_mono\n",
      "EG10456-MONOMER\n",
      "SUCC-DEHASE\n",
      "#RimK_mono\n",
      "ACSERLYA-CPLX\n",
      "HISTPHOSTRANS-CPLX\n",
      "TufA_mono\n",
      "ADENYLOSUCCINATE-SYN-DIMER\n",
      "CPLX0-322\n",
      "PYRUVATEDEH-CPLX\n",
      "GLYCOPHOSPHORYL-CPLX\n",
      "RplN_mono\n",
      "ACETYL-COA-CARBOXYLMULTI-CPLX\n",
      "1-PFK\n",
      "Rnd_mono\n",
      "RpsD_mono\n",
      "CPLX0-3948\n",
      "#PrmA_mono\n",
      "PEPCARBOXYKIN-MONOMER\n",
      "DnaK_mono\n",
      "#RimO_mono\n",
      "NADH-DHI-CPLX\n",
      "6PFK-2-CPX\n",
      "CPLX0-7848\n",
      "PrfA_mono\n",
      "PGPPHOSPHAA-MONOMER\n",
      "HISTDEHYD-CPLX\n",
      "G6880-MONOMER\n",
      "GLYCPDIESTER-PERI-CPLX\n",
      "PrfB_mono\n",
      "FPPSYN-MONOMER\n",
      "APHA-CPLX\n",
      "UDK-MONOMER\n",
      "CPLX0-7564\n",
      "CDPDIGLYSYN-MONOMER\n",
      "CPLX0-3841\n",
      "RsmC_mono\n",
      "AAS-MONOMER\n",
      "CPLX0-7761\n",
      "G6176-MONOMER_G6177-MONOMER_G6178-MONOMER\n",
      "NusB_mono\n",
      "RpmF_mono\n",
      "NAPAB-CPLX_NAPC-MONOMER\n",
      "FGAMSYN-MONOMER\n",
      "RhlB_dim\n",
      "EG12440-MONOMER\n",
      "RplJ_mono\n",
      "FLAVONADPREDUCT-MONOMER\n",
      "#PrmC_mono\n",
      "RlmL_dim\n",
      "AIRS-CPLX\n",
      "CPLX0-246_CPLX0-1342\n",
      "GLUTKIN-CPLX\n",
      "TilS_mono\n",
      "RpsG_mono\n",
      "ORNDECARBOX-BIO-CPLX\n",
      "AROB-MONOMER\n",
      "DusB_mono\n",
      "FecI_mono\n",
      "Orn_dim\n",
      "RpmB_mono\n",
      "#G7866-MONOMER\n",
      "GPH-MONOMER\n",
      "ALPHAGALACTOSID-CPLX\n",
      "PANTOTHENATE-KIN-CPLX\n",
      "CPLX0-682\n",
      "YdaO_mono\n",
      "Eno_dim\n",
      "RplV_mono\n",
      "GLYCRIBONUCSYN-MONOMER\n",
      "CPLX0-7615\n",
      "ALKAPHOSPHA-CPLX\n",
      "Rho_hexa\n",
      "ACSERLYB-CPLX\n",
      "G7496-MONOMER\n",
      "RpoZ_mono\n",
      "LysII_RS_dim\n",
      "G6849-MONOMER\n",
      "NARJ-MONOMER\n",
      "RNase_E_tetra\n",
      "DusA_mono\n",
      "CPLX0-227\n",
      "USHA-MONOMER\n",
      "MALIC-NAD-CPLX\n",
      "CPLX0-7808\n",
      "PD04413\n",
      "CPLX0-1622\n",
      "CPLX0-7760\n",
      "DSERDEAM-MONOMER\n",
      "DCYSDESULF-CPLX\n",
      "YfiC_mono\n",
      "GreB_mono\n",
      "H2PTERIDINEPYROPHOSPHOKIN-MONOMER\n",
      "GTP-CYCLOHYDRO-II-CPLX\n",
      "ALPHA-AMYL-PERI-MONOMER\n",
      "CPLX-64\n",
      "CYT-D-UBIOX-CPLX\n",
      "QueA_mono\n",
      "PHOSPHAGLYPSYN-MONOMER\n",
      "AERGLYC3PDEHYDROG-CPLX\n",
      "ADENYL-KIN-MONOMER\n",
      "AROK-MONOMER\n",
      "#YadB_mono\n",
      "ISOCIT-LYASE\n",
      "#DISULFOXRED-MONOMER\n",
      "EG12069-MONOMER\n",
      "GALACTURIDYLYLTRANS-CPLX\n",
      "GrpE_dim\n",
      "EG10534-MONOMER\n",
      "TrmD_dim\n",
      "NADH-DHII-MONOMER\n",
      "YheN_mono\n",
      "LSERINEDEAM1-MONOMER\n",
      "EG12115-MONOMER\n",
      "BIOTIN-SYN-CPLX\n",
      "FORMHYDROGI-CPLX\n",
      "THRESYN-MONOMER\n",
      "COADTRI-CPLX\n",
      "RsuA_mono\n",
      "RluA_mono\n",
      "DIAMINOPIMDECARB-CPLX\n",
      "MiaB_mono\n",
      "UDPNACETYLMURAMATEDEHYDROG-MONOMER\n",
      "LYSDECARBOX-CPLX\n",
      "SARCOX-MONOMER\n",
      "GALPMUT-MONOMER\n",
      "ACETYLORNDEACET-CPLX\n",
      "RplF_mono\n",
      "UDHA-CPLX\n",
      "HYDROG3-CPLX\n",
      "QUINOPRIBOTRANS-CPLX\n",
      "RrmA_dim_mod_2:generic_divalent\n",
      "RNase_E_tetra_mod_2:generic_divalent\n",
      "MnmEG_cplx_mod_fad_mod_2:generic_monovalent\n",
      "Thr_RS_dim_mod_generic_divalent\n",
      "Orn_dim_mod_2:generic_divalent\n",
      "MiaB_mono_mod_1:4fe4s\n",
      "Rph_mono_mod_generic_divalent\n",
      "SelA_deca_mod_10:pydx5p\n",
      "rpL7/12_mod_1:acetyl\n",
      "Rnb_mono_mod_1:generic_divalent\n",
      "Trp_RS_dim_mod_generic_divalent\n",
      "DnaJ_dim_mod_4:generic_divalent\n",
      "TadA_dim_mod_2:generic_divalent\n",
      "Rho_hexa_mod_3:generic_divalent\n",
      "QueG_mono_mod_adocbl\n",
      "RNase_III_dim_mod_2:generic_divalent\n",
      "CPLX0-246_CPLX0-1342_mod_1:SH\n",
      "Rnd_mono_mod_5:generic_divalent\n",
      "RumB_mono_mod_1:4fe4s\n",
      "LysII_RS_dim_mod_6:generic_divalent\n",
      "RNase_BN_dim_mod_2:generic_divalent\n",
      "CysS_mono_mod_1:generic_divalent\n",
      "Fmt_mono_mod_generic_divalent_mod_generic_monovalent\n",
      "RlmN_mono_mod_1:4fe4s\n",
      "His_RS_dim_mod_4:generic_divalent\n",
      "Ser_RS_dim_mod_generic_divalent\n",
      "Phe_RS_tetra_mod_generic_divalent\n",
      "Ala_RS_tetra_mod_4:generic_divalent\n",
      "Tgt_hexa_mod_6:generic_divalent\n",
      "Met_RS_dim_mod_2:generic_divalent\n",
      "Def_mono_mod_1:fe2\n",
      "RNase_T_dim_mod_4:generic_divalent\n",
      "RpoZ_mono_mod_1:generic_divalent\n",
      "ValS_mono_mod_generic_divalent\n",
      "MnmC_mono_mod_fad\n",
      "MiaA_dim_mod_2:generic_divalent\n",
      "RluD_mono_mod_1:generic_divalent\n",
      "ArgS_mono_mod_generic_divalent\n",
      "RNase_P_cplx_mod_2:generic_divalent\n",
      "GltX_mono_mod_generic_divalent_mod_1:generic_divalent\n",
      "RumA_mono_mod_1:4fe4s\n",
      "Map_mono_mod_2:fe2\n",
      "Mfd_mono_mod_1:generic_divalent\n",
      "L-LACTDEHYDROGFMN-MONOMER_mod_fmn\n",
      "IleS_mono_mod_2:generic_divalent\n",
      "2tpr3dpcoa\n",
      "dad__5\n",
      "met__L\n",
      "metsox__R__L\n",
      "dad__2\n",
      "amet\n",
      "23bpg\n",
      "hemed\n",
      "h2o2\n",
      "pheme\n",
      "tl\n",
      "dpm\n"
     ]
    }
   ],
   "source": [
    "for met in me.metabolites:\n",
    "    if len(met.reactions) == 1:\n",
    "        print met"
   ]
  },
  {
   "cell_type": "markdown",
   "metadata": {},
   "source": [
    "## Attempt to set keffs"
   ]
  },
  {
   "cell_type": "raw",
   "metadata": {
    "collapsed": false,
    "scrolled": true
   },
   "source": [
    "divalent_list = flat_files.divalent_list\n",
    "monovalent_list = ['_mod_k','_mod_na1']\n",
    "from pickle import load\n",
    "with open(\"test_keffs.pickle\", \"rb\") as infile:\n",
    "    old_keffs = load(infile)\n",
    "keffs = {}\n",
    "\n",
    "for keff, value in old_keffs.items():\n",
    "    for i in divalent_list: \n",
    "        keff = keff.replace(i,'generic_divalent')\n",
    "    for i in monovalent_list: \n",
    "        keff = keff.replace(i, '_mod_generic_monovalent')\n",
    "    keffs[keff] = value\n",
    "    \n",
    "for r in me.reactions:\n",
    "    if isinstance(r, MetabolicReaction) and r.complex_data is None:\n",
    "        print r.id, \"has no associated complex\"\n",
    "        continue\n",
    "    if isinstance(r, MetabolicReaction) and r.complex_data.id != \"CPLX_dummy\":\n",
    "        met_rxn = r\n",
    "        key = met_rxn.id.replace(\"-\", \"_DASH_\").replace(\"__\", \"_DASH_\").replace(\":\",\"_COLON_\")\n",
    "        #key = met_rxn.id\n",
    "        key = \"keff_\" + key.replace(\"_FWD_\", \"_\").replace(\"_REV_\", \"_\")\n",
    "\n",
    "        matches = [i for i in keffs if key in i]\n",
    "        # get the direction\n",
    "        if met_rxn.reverse:\n",
    "            matches = [i for i in matches if i.endswith(\"_reverse_priming_keff\")]\n",
    "        else:\n",
    "            matches = [i for i in matches if i.endswith(\"_forward_priming_keff\")]\n",
    "        if len(matches) == 1:\n",
    "            met_rxn.keff = keffs[matches[0]]\n",
    "        elif len(matches) > 0:\n",
    "            if len(matches) == len([i for i in matches if key + \"_mod_\"]):\n",
    "                met_rxn.keff = keffs[matches[0]]\n",
    "            else:\n",
    "                print key, len(matches)\n",
    "        else:  # len(matches) == 0\n",
    "            print \"no keff found for\", key"
   ]
  },
  {
   "cell_type": "code",
   "execution_count": 29,
   "metadata": {
    "collapsed": false
   },
   "outputs": [],
   "source": [
    "for i in me.reactions:\n",
    "    if i.id.startswith(\"EX_\") and i.lower_bound == 0:\n",
    "        i.lower_bound = -1000"
   ]
  },
  {
   "cell_type": "code",
   "execution_count": 30,
   "metadata": {
    "collapsed": false
   },
   "outputs": [
    {
     "data": {
      "text/plain": [
       "[<ModificationData mod_generic_divalent_c at 0x7f1864b53950>,\n",
       " <ModificationData mod_pydx5p_c at 0x7f1864b53990>,\n",
       " <ModificationData mod_4fe4s_c at 0x7f1864b53c50>,\n",
       " <ModificationData mod_lys__L_c at 0x7f1864b53e50>,\n",
       " <ModificationData mod_generic_monovalent_c at 0x7f1864b53f50>,\n",
       " <ModificationData mod_fad_c at 0x7f1864b53fd0>,\n",
       " <ModificationData mod_fe2_c at 0x7f1864857590>,\n",
       " <ModificationData mod_nh4_c at 0x7f18648576d0>,\n",
       " <ModificationData mod_cu2_c at 0x7f1864857790>,\n",
       " <ModificationData mod_btn_c at 0x7f1864857950>,\n",
       " <ModificationData mod_bmocogdp_c at 0x7f1864857bd0>,\n",
       " <ModificationData mod_LI_c at 0x7f1864857d10>,\n",
       " <ModificationData mod_thmpp_c at 0x7f1864857e10>,\n",
       " <ModificationData mod_2fe2s_c at 0x7f186486b050>,\n",
       " <ModificationData mod_3fe4s_c at 0x7f186486b310>,\n",
       " <ModificationData mod_pheme_c at 0x7f186486b350>,\n",
       " <ModificationData mod_pqq_c at 0x7f186486b450>,\n",
       " <ModificationData mod_fmn_c at 0x7f186486b710>,\n",
       " <ModificationData mod_nad_c at 0x7f186486ba10>,\n",
       " <ModificationData mod_cl_c at 0x7f186486be90>,\n",
       " <ModificationData mod_cbl1_c at 0x7f186486bf10>,\n",
       " <ModificationData mod_hemed_c at 0x7f1864945250>,\n",
       " <ModificationData mod_nadp_c at 0x7f18649452d0>,\n",
       " <ModificationData mod_sheme_c at 0x7f1864945490>,\n",
       " <ModificationData mod_acetyl_c at 0x7f1864945550>,\n",
       " <ModificationData mod_lipo_c at 0x7f1864945e90>,\n",
       " <ModificationData mod_hco3_c at 0x7f186495c0d0>,\n",
       " <ModificationData mod_adocbl_c at 0x7f186495c610>,\n",
       " <ModificationData mod_fe3_c at 0x7f1864970190>,\n",
       " <ModificationData mod_NiFeCoCN2_c at 0x7f1864970410>,\n",
       " <ModificationData mod_SH_c at 0x7f1864970890>,\n",
       " <ModificationData mod_cu_c at 0x7f1864970c10>,\n",
       " <ModificationData mod_pydx_c at 0x7f186550a190>,\n",
       " <ModificationData mod_cs_c at 0x7f186550a8d0>,\n",
       " <ModificationData mod_23bpg_c at 0x7f186551b290>,\n",
       " <ModificationData mod_fadh2_c at 0x7f186551bcd0>,\n",
       " <ModificationData mod_nadh_c at 0x7f1865531710>,\n",
       " <ModificationData mod_nadph_c at 0x7f1865531750>,\n",
       " <ModificationData mod_fmnh2_c at 0x7f18653c51d0>,\n",
       " <ModificationData mod_dpm_c at 0x7f18653d9350>,\n",
       " <ModificationData mod_pi_c at 0x7f18653f0090>,\n",
       " <ModificationData mod_tl_c at 0x7f18653f0dd0>,\n",
       " <ModificationData mod_lipo_c_alt at 0x7f1865343f90>]"
      ]
     },
     "execution_count": 30,
     "metadata": {},
     "output_type": "execute_result"
    }
   ],
   "source": [
    "me.modification_data"
   ]
  },
  {
   "cell_type": "raw",
   "metadata": {},
   "source": [
    "for i in me.reactions:\n",
    "    if i.id.startswith(\"EX_\"):\n",
    "        i.lower_bound = -1000"
   ]
  },
  {
   "cell_type": "markdown",
   "metadata": {},
   "source": [
    "## Solve"
   ]
  },
  {
   "cell_type": "code",
   "execution_count": 31,
   "metadata": {
    "collapsed": true
   },
   "outputs": [],
   "source": [
    "me.reactions.dummy_reaction_FWD_CPLX_dummy.objective_coefficient = 1."
   ]
  },
  {
   "cell_type": "code",
   "execution_count": 32,
   "metadata": {
    "collapsed": false
   },
   "outputs": [],
   "source": [
    "from minime.solve.algorithms import binary_search, solve_at_growth_rate\n",
    "from minime.solve.symbolic import compile_expressions"
   ]
  },
  {
   "cell_type": "code",
   "execution_count": null,
   "metadata": {
    "collapsed": true
   },
   "outputs": [],
   "source": []
  },
  {
   "cell_type": "code",
   "execution_count": 33,
   "metadata": {
    "collapsed": true
   },
   "outputs": [],
   "source": [
    "expressions = compile_expressions(me)"
   ]
  },
  {
   "cell_type": "code",
   "execution_count": 34,
   "metadata": {
    "collapsed": false,
    "scrolled": true
   },
   "outputs": [
    {
     "name": "stdout",
     "output_type": "stream",
     "text": [
      "\u001b[0;32m0.0000000000000\u001b[0m\t1000.0\n",
      "\u001b[0;32m0.1000000000000\u001b[0m\t1000.0\n",
      "\u001b[0;32m1.1000000000000\u001b[0m\t1000.0\n",
      "\u001b[0;32m2.1000000000000\u001b[0m\t1000.0\n",
      "\u001b[0;32m3.1000000000000\u001b[0m\t1000.0\n",
      "\u001b[0;32m4.1000000000000\u001b[0m\t1000.0\n",
      "\u001b[0;31m5.1000000000000\u001b[0m\n",
      "\u001b[0;32m4.6000000000000\u001b[0m\t1000.0\n",
      "\u001b[0;32m4.8500000000000\u001b[0m\t371.934865932\n",
      "\u001b[0;31m4.9750000000000\u001b[0m\n",
      "\u001b[0;31m4.9125000000000\u001b[0m\n",
      "\u001b[0;32m4.8812500000000\u001b[0m\t89.8103862561\n",
      "\u001b[0;31m4.8968750000000\u001b[0m\n",
      "\u001b[0;32m4.8890625000000\u001b[0m\t19.4435521835\n",
      "\u001b[0;32m4.8890625000000\u001b[0m\t19.4435521835\n",
      "completed in 101.9 seconds and 15 iterations\n"
     ]
    },
    {
     "data": {
      "text/plain": [
       "<Solution 4.89 at 0x7fbb99fb9150>"
      ]
     },
     "execution_count": 34,
     "metadata": {},
     "output_type": "execute_result"
    }
   ],
   "source": [
    "binary_search(me, min_mu=0, max_mu=0.1, mu_accuracy=1e-2, compiled_expressions=expressions)"
   ]
  },
  {
   "cell_type": "code",
   "execution_count": 35,
   "metadata": {
    "collapsed": false
   },
   "outputs": [
    {
     "ename": "AttributeError",
     "evalue": "'MEmodel' object has no attribute 'metabolic_reaction_data'",
     "output_type": "error",
     "traceback": [
      "\u001b[1;31m---------------------------------------------------------------------------\u001b[0m",
      "\u001b[1;31mAttributeError\u001b[0m                            Traceback (most recent call last)",
      "\u001b[1;32m<ipython-input-35-21a61e5f9b03>\u001b[0m in \u001b[0;36m<module>\u001b[1;34m()\u001b[0m\n\u001b[0;32m      1\u001b[0m \u001b[1;32mimport\u001b[0m \u001b[0mescher\u001b[0m\u001b[1;33m\u001b[0m\u001b[0m\n\u001b[0;32m      2\u001b[0m \u001b[0mview\u001b[0m \u001b[1;33m=\u001b[0m \u001b[0mescher\u001b[0m\u001b[1;33m.\u001b[0m\u001b[0mBuilder\u001b[0m\u001b[1;33m(\u001b[0m\u001b[1;34m\"iJO1366.Central metabolism\"\u001b[0m\u001b[1;33m)\u001b[0m\u001b[1;33m\u001b[0m\u001b[0m\n\u001b[1;32m----> 3\u001b[1;33m \u001b[0mview\u001b[0m\u001b[1;33m.\u001b[0m\u001b[0mreaction_data\u001b[0m \u001b[1;33m=\u001b[0m \u001b[0mme\u001b[0m\u001b[1;33m.\u001b[0m\u001b[0mget_metabolic_flux\u001b[0m\u001b[1;33m(\u001b[0m\u001b[1;33m)\u001b[0m\u001b[1;33m\u001b[0m\u001b[0m\n\u001b[0m\u001b[0;32m      4\u001b[0m \u001b[0mview\u001b[0m\u001b[1;33m.\u001b[0m\u001b[0mdisplay_in_notebook\u001b[0m\u001b[1;33m(\u001b[0m\u001b[1;33m)\u001b[0m\u001b[1;33m\u001b[0m\u001b[0m\n",
      "\u001b[1;32m/home/sbrg-cjlloyd/minime/minime/core/MEModel.pyc\u001b[0m in \u001b[0;36mget_metabolic_flux\u001b[1;34m(self, solution)\u001b[0m\n\u001b[0;32m     32\u001b[0m             raise ValueError(\"solution status '%s' is not 'optimal'\" %\n\u001b[0;32m     33\u001b[0m                              solution.status)\n\u001b[1;32m---> 34\u001b[1;33m         \u001b[0mflux_dict\u001b[0m \u001b[1;33m=\u001b[0m \u001b[1;33m{\u001b[0m\u001b[0mr\u001b[0m\u001b[1;33m.\u001b[0m\u001b[0mid\u001b[0m\u001b[1;33m:\u001b[0m \u001b[1;36m0\u001b[0m \u001b[1;32mfor\u001b[0m \u001b[0mr\u001b[0m \u001b[1;32min\u001b[0m \u001b[0mself\u001b[0m\u001b[1;33m.\u001b[0m\u001b[0mmetabolic_reaction_data\u001b[0m\u001b[1;33m}\u001b[0m\u001b[1;33m\u001b[0m\u001b[0m\n\u001b[0m\u001b[0;32m     35\u001b[0m         \u001b[1;32mfor\u001b[0m \u001b[0mreaction\u001b[0m \u001b[1;32min\u001b[0m \u001b[0mself\u001b[0m\u001b[1;33m.\u001b[0m\u001b[0mreactions\u001b[0m\u001b[1;33m:\u001b[0m\u001b[1;33m\u001b[0m\u001b[0m\n\u001b[0;32m     36\u001b[0m             \u001b[1;32mif\u001b[0m \u001b[0misinstance\u001b[0m\u001b[1;33m(\u001b[0m\u001b[0mreaction\u001b[0m\u001b[1;33m,\u001b[0m \u001b[0mMetabolicReaction\u001b[0m\u001b[1;33m)\u001b[0m\u001b[1;33m:\u001b[0m\u001b[1;33m\u001b[0m\u001b[0m\n",
      "\u001b[1;31mAttributeError\u001b[0m: 'MEmodel' object has no attribute 'metabolic_reaction_data'"
     ]
    }
   ],
   "source": [
    "import escher\n",
    "view = escher.Builder(\"iJO1366.Central metabolism\")\n",
    "view.reaction_data = me.get_metabolic_flux()\n",
    "view.display_in_notebook()"
   ]
  },
  {
   "cell_type": "code",
   "execution_count": null,
   "metadata": {
    "collapsed": false
   },
   "outputs": [],
   "source": [
    "me.metabolites.pqq_e.reactions"
   ]
  },
  {
   "cell_type": "code",
   "execution_count": null,
   "metadata": {
    "collapsed": false
   },
   "outputs": [],
   "source": [
    "me.reactions.translation_b4025.reaction"
   ]
  },
  {
   "cell_type": "code",
   "execution_count": null,
   "metadata": {
    "collapsed": true
   },
   "outputs": [],
   "source": [
    "import pandas"
   ]
  },
  {
   "cell_type": "code",
   "execution_count": null,
   "metadata": {
    "collapsed": false
   },
   "outputs": [],
   "source": [
    "old_sim = pandas.read_pickle(\"/home/aebrahim/old_me/me/pandas_frames/all_metabolic_fluxes_v2\")"
   ]
  },
  {
   "cell_type": "code",
   "execution_count": null,
   "metadata": {
    "collapsed": false
   },
   "outputs": [],
   "source": [
    "view = escher.Builder(\"iJO1366.Central metabolism\")\n",
    "view.reaction_data = old_sim.base_plus_Adenine_keff_v2.to_dict()\n",
    "view.display_in_notebook()"
   ]
  },
  {
   "cell_type": "code",
   "execution_count": null,
   "metadata": {
    "collapsed": false
   },
   "outputs": [],
   "source": [
    "me.compute_solution_error()"
   ]
  },
  {
   "cell_type": "code",
   "execution_count": null,
   "metadata": {
    "collapsed": false
   },
   "outputs": [],
   "source": [
    "#me.reactions.S_transfer_to_SufBCD_mod_2:fe2_FWD_CPLX_dummy\n",
    "for reaction in me.reactions:\n",
    "    if reaction.endswith('_'):\n",
    "        print reaction.id"
   ]
  },
  {
   "cell_type": "code",
   "execution_count": null,
   "metadata": {
    "collapsed": true
   },
   "outputs": [],
   "source": []
  }
 ],
 "metadata": {
  "kernelspec": {
   "display_name": "Python 2",
   "language": "python",
   "name": "python2"
  },
  "language_info": {
   "codemirror_mode": {
    "name": "ipython",
    "version": 2
   },
   "file_extension": ".py",
   "mimetype": "text/x-python",
   "name": "python",
   "nbconvert_exporter": "python",
   "pygments_lexer": "ipython2",
   "version": "2.7.6"
  }
 },
 "nbformat": 4,
 "nbformat_minor": 0
}
