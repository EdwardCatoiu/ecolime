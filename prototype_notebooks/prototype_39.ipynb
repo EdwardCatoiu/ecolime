{
 "cells": [
  {
   "cell_type": "markdown",
   "metadata": {},
   "source": [
    "\n",
    "# Build a basic ME model"
   ]
  },
  {
   "cell_type": "markdown",
   "metadata": {},
   "source": [
    "We will try to build an ME model from the NC_000913.2 Genbank file, the iJO1366 M model, and the complex reconstruction from iJL1650-ME"
   ]
  },
  {
   "cell_type": "code",
   "execution_count": null,
   "metadata": {
    "collapsed": false
   },
   "outputs": [],
   "source": [
    "# python imports\n",
    "import re\n",
    "import json\n",
    "from os.path import join\n",
    "\n",
    "# third party imports\n",
    "import pandas\n",
    "import escher\n",
    "import cobra.test\n",
    "\n",
    "# ecoli me\n",
    "import ecolime\n",
    "from ecolime.flat_files import *\n",
    "from ecolime.ecoli_k12 import *\n",
    "from ecolime import ribosome\n",
    "\n",
    "from minime.util import dogma\n",
    "from minime import *\n",
    "from minime.util import building\n",
    "from minime.util.building import add_ribosome, add_RNA_polymerase\n",
    "from minime.util.building import add_complex_stoichiometry_data, add_transcription_reaction\n",
    "from minime.util.building import add_complex_modification_data\n",
    "from minime.util.building import add_metabolic_reactions\n",
    "from minime.solve.algorithms import binary_search, fva, solve_at_growth_rate\n",
    "from minime.solve.symbolic import compile_expressions"
   ]
  },
  {
   "cell_type": "code",
   "execution_count": null,
   "metadata": {
    "collapsed": true
   },
   "outputs": [],
   "source": [
    "import ecolime"
   ]
  },
  {
   "cell_type": "code",
   "execution_count": null,
   "metadata": {
    "collapsed": false
   },
   "outputs": [],
   "source": [
    "ijo = cobra.test.create_test_model('ecoli')"
   ]
  },
  {
   "cell_type": "markdown",
   "metadata": {},
   "source": [
    "# Colton TODOs \n",
    "- 1) look into all of the free modifications in the original ME and make sure none of thes reactions are blocked\n",
    "- 2) Frameshifts (b2891)\n",
    "- 3) selenocysteine\n",
    "- 4) Non AUG start codons (15%)\n",
    "- 5) moaD is a modifier protein that never has to be made\n",
    "- 6) Correct rpL7/12_mod_1:acetyl modification"
   ]
  },
  {
   "cell_type": "code",
   "execution_count": null,
   "metadata": {
    "collapsed": true
   },
   "outputs": [],
   "source": [
    "from minime.util.mass import compute_RNA_mass"
   ]
  },
  {
   "cell_type": "markdown",
   "metadata": {},
   "source": [
    "## Begin by loading metabolites and build Metabolic reactions"
   ]
  },
  {
   "cell_type": "code",
   "execution_count": null,
   "metadata": {
    "collapsed": false
   },
   "outputs": [],
   "source": [
    "me = MEmodel('iJO1366-ME')\n",
    "m_model = ecolime.get_m_model()\n",
    "# some of the \"metabolites\" in iJO1366 \"M\" model are actually complexes. We pass those in\n",
    "# so they get created as complexes, not metabolites.\n",
    "complex_list = []\n",
    "complex_list.extend(i.id for i in m_model.metabolites if i.id.startswith(\"CPLX\"))\n",
    "complex_list.extend(i.id for i in m_model.metabolites if i.id.startswith(\"EG\"))\n",
    "complex_list.extend(i.id for i in m_model.metabolites if \"-MONOMER\" in i.id)\n",
    "complex_list.extend(i.id for i in m_model.metabolites if \"-CPLX\" in i.id)\n",
    "complex_list.extend(i.id for i in m_model.metabolites if \"_mod_\" in i.id)\n",
    "# temp fix\n",
    "complex_list.extend(i.id for i in m_model.metabolites if i.id.startswith(\"Isc\"))\n",
    "complex_list.extend(i.id for i in m_model.metabolites if i.id.startswith(\"Suf\"))\n",
    "complex_list = set(complex_list)\n",
    "building.add_m_model_content(me, m_model, complex_metabolite_ids=complex_list)\n",
    "\n",
    "# if the bounds of this metabolite aren't open, model uses wrong reactions\n",
    "me.reactions.EX_pqq_e.lower_bound = -1000"
   ]
  },
  {
   "cell_type": "markdown",
   "metadata": {},
   "source": [
    "Sometimes multiple entities can perform the same role. To prevent a combinatorial explosion of possibilities, we can create  \"generic\" version, where any of those entities can fill in."
   ]
  },
  {
   "cell_type": "code",
   "execution_count": null,
   "metadata": {
    "collapsed": false
   },
   "outputs": [],
   "source": [
    "for generic, components in get_generics(generic_ions=False).items():\n",
    "    GenericData(generic, me, components).create_reactions()"
   ]
  },
  {
   "cell_type": "markdown",
   "metadata": {},
   "source": [
    "## Build ribosome and RNA Polymerase"
   ]
  },
  {
   "cell_type": "markdown",
   "metadata": {},
   "source": [
    "### Add translation-related Subreactions"
   ]
  },
  {
   "cell_type": "code",
   "execution_count": null,
   "metadata": {
    "collapsed": false
   },
   "outputs": [],
   "source": [
    "for subreaction in ribosome.translation_subreactions:\n",
    "    subreaction_data = SubreactionData(subreaction, me)\n",
    "    subreaction_data.enzyme = ribosome.translation_subreactions[subreaction]['enzyme']\n",
    "\n",
    "#for tRNA_mod in tRNA_charging.tRNA_modification:\n",
    "#    tRNA_mod = ModificationData(tRNA_mod, me)\n",
    "#    tRNA_mod.enzyme = ribosome.translation_subreactions[subreaction]['enzyme']"
   ]
  },
  {
   "cell_type": "raw",
   "metadata": {},
   "source": [
    "df = pandas.read_clipboard()\n",
    "df.columns = ['generic', 'gene1', 'gene2', 'gene3', 'gene4', 'gene5', 'gene6', 'gene7', 'gene8']\n",
    "from collections import defaultdict\n",
    "gene_to_codon = defaultdict(list)\n",
    "for i, adict in df.T.to_dict().items():\n",
    "    if 'generic_16S' in adict.values() or 'generic_23S' in adict.values() or \\\n",
    "    'generic_5S' in adict.values():\n",
    "        print 'a'\n",
    "        continue\n",
    "    for key, value in adict.items():\n",
    "        if key != 'generic' and type(value) == str:\n",
    "            gene_to_codon[value].append(adict['generic'].replace('generic_',''))"
   ]
  },
  {
   "cell_type": "code",
   "execution_count": null,
   "metadata": {
    "collapsed": false
   },
   "outputs": [],
   "source": [
    "# TODO contrant type is 'trna efficiency' does this change anything?\n",
    "# 1 machine + 1 atp + 1 aa + 1 h2o --> 1 machine-amp + 1 h + 1 ppi\n",
    "# 1 machine-amp + 1 free tRNA --> 1 machine + 1 amp + 1 charged tRNA\n",
    "subreaction_data = SubreactionData('fmet_addition_at_START', me)\n",
    "subreaction_data.enzyme = 'InfB_mono' # Start codon loader enzyme\n",
    "subreaction_data.stoichiometry = {'h_c': 1, '10fthf_c': -1, 'thf_c':1,\n",
    "                                 'generic_tRNA_START_met__L_c': -1}\n",
    "\n",
    "#subreaction_data = SubreactionData('sec_addition_at_UGA', me)\n",
    "#subreaction_data.enzyme = 'SelA_deca_mod_10:pydx5p' # Selenocysteine loader enzyme\n",
    "#subreaction_data.stoichiometry = {'h_c': 1, 'h2o_c': -1, 'selnp_c':-1, 'pi_c':1,\n",
    "#                                 'generic_tRNA_UGA_sec__L_c': -1}\n",
    "\n",
    "#subreaction_data = SubreactionData('sel_addition_at_GUA', me)\n",
    "#subreactoin_data.enzyme\n",
    "for codon in dogma.codon_table:\n",
    "    # Deal with selenocysteine later and skip stop codons\n",
    "    if dogma.codon_table[codon] == '*':\n",
    "        stop_codon = codon.replace('T','U')\n",
    "        stop_enzyme = ribosome.translation_stop_dict.get(stop_codon)\n",
    "        me.add_metabolites([Complex(stop_enzyme)])\n",
    "        \n",
    "        subreaction_data = SubreactionData(stop_codon + '_' + stop_enzyme +\n",
    "                                           '_mediated_termination', me)\n",
    "        subreaction_data.enzyme = stop_enzyme\n",
    "        subreaction_data.stoichiometry = {}\n",
    "    else:\n",
    "        full_aa = dogma.amino_acids[dogma.codon_table[codon]]\n",
    "        amino_acid = full_aa.split('_')[0]\n",
    "        subreaction_data = SubreactionData(amino_acid + '_addition_at_' \\\n",
    "                                           + codon.replace('T','U'), me)\n",
    "        tRNA = 'generic_tRNA_' + codon.replace('T','U') + '_' + full_aa\n",
    "        subreaction_data.enzyme = 'generic_Tuf' # Default AA loader enzyme\n",
    "        subreaction_data.stoichiometry = {full_aa: -1, 'atp_c': -1, 'h2o_c': -1,\n",
    "                                          'amp_c': 1, 'h_c': 1, 'ppi_c': 1,\n",
    "                                          tRNA: -1}"
   ]
  },
  {
   "cell_type": "code",
   "execution_count": null,
   "metadata": {
    "collapsed": false
   },
   "outputs": [],
   "source": [
    "gb_filename = join(ecoli_files_dir,'NC_000913.2.gb')                                                                                    \n",
    "TU_df = pandas.read_csv(join(ecoli_files_dir,'TUs_from_ecocyc.txt'), delimiter=\"\\t\", index_col=0)\n",
    "\n",
    "building.build_reactions_from_genbank(me, gb_filename, TU_df)"
   ]
  },
  {
   "cell_type": "raw",
   "metadata": {
    "collapsed": false,
    "scrolled": false
   },
   "source": [
    "for metabolite in me.metabolites:\n",
    "    if metabolite.id == 'generic_tRNA_glu__L_c' or not metabolite.id.startswith('generic_tRNA'):\n",
    "        continue\n",
    "    if metabolite.id.replace('generic_tRNA_', '').split('_')[0] == 'START':\n",
    "        subreaction_data = SubreactionData('fmet_addition_at_START', me)\n",
    "        #subreaction_data.enzyme = 'InfB_mono' # Start codon loader enzyme\n",
    "        subreaction_data.stoichiometry = {'h_c': 1, '10fthf_c': -1, 'thf_c':1,\n",
    "                                         metabolite.id: -1}\n",
    "    elif metabolite.id.startswith('generic_tRNA'):\n",
    "        # TODO contrant type is 'trna efficiency' does this change anything?\n",
    "        # 1 machine + 1 atp + 1 aa + 1 h2o --> 1 machine-amp + 1 h + 1 ppi\n",
    "        # 1 machine-amp + 1 free tRNA --> 1 machine + 1 amp + 1 charged tRNA\n",
    "        codon = metabolite.id.replace('generic_tRNA_', '').split('_')[0]\n",
    "        full_aa = metabolite.id.replace('generic_tRNA_', '').replace(codon + '_', '')\n",
    "        abreviated_aa = full_aa.split('_')[0]\n",
    "        subreaction_data = SubreactionData(abreviated_aa + '_addition_at_' + codon, me)\n",
    "        #subreaction_data.enzyme = 'generic_Tuf' # Default AA loader enzyme\n",
    "        subreaction_data.stoichiometry = {full_aa: -1, 'atp_c': -1, 'h2o_c': -1,\n",
    "                                          'amp_c': 1, 'h_c': 1, 'ppi_c': 1,\n",
    "                                          metabolite.id: -1}"
   ]
  },
  {
   "cell_type": "code",
   "execution_count": null,
   "metadata": {
    "collapsed": false,
    "scrolled": true
   },
   "outputs": [],
   "source": [
    "for data in me.translation_data:\n",
    "    if len(data.nucleotide_sequence) % 3 != 0:\n",
    "        print data, 'frameshift'\n",
    "    else:\n",
    "        codons = (data.nucleotide_sequence[i: i + 3]\n",
    "                  for i in range(0, (len(data.nucleotide_sequence)-3), 3))\n",
    "        if 'TGA' in codons:\n",
    "            print data\n",
    "    #if not data.compute_sequence_from_DNA.startswith('M'):\n",
    "    #    pass\n",
    "        # print data.id, data.nucleotide_sequence[:3], data.compute_sequence_from_DNA[0]"
   ]
  },
  {
   "cell_type": "raw",
   "metadata": {},
   "source": [
    "subreaction_data = SubreactionData('formyltransferase_for_generic_START'):\n",
    "subreaction_data.enzyme = 'Fmt_mono_mod_mg2_mod_k'\n",
    "subreaction_data.stoichiometry = {'h_c': 1, '10thf_c': -1, 'thf_c':1}\n",
    "\n",
    "subreaction_data = SubreactionData('"
   ]
  },
  {
   "cell_type": "code",
   "execution_count": null,
   "metadata": {
    "collapsed": false,
    "scrolled": true
   },
   "outputs": [],
   "source": [
    "building.add_ribosome(me)\n",
    "\n",
    "add_RNA_polymerase(me)"
   ]
  },
  {
   "cell_type": "markdown",
   "metadata": {},
   "source": [
    "Make a dummy reactions. Add a dummy protein in as well."
   ]
  },
  {
   "cell_type": "markdown",
   "metadata": {},
   "source": [
    "## Associate the tRNA synthetases"
   ]
  },
  {
   "cell_type": "markdown",
   "metadata": {},
   "source": [
    "The tRNA charging reactions were automatically added when loading the genome from the genbank file. However, the charging reactions still need to be made aware of the tRNA synthetases which are responsible."
   ]
  },
  {
   "cell_type": "code",
   "execution_count": null,
   "metadata": {
    "collapsed": false
   },
   "outputs": [],
   "source": [
    "with open(join(ecoli_files_dir, \"amino_acid_tRNA_synthetase.json\"), \"rb\") as infile:\n",
    "    aa_synthetase_dict = json.load(infile)\n",
    "for data in me.tRNA_data:\n",
    "    data.synthetase = str(aa_synthetase_dict[data.amino_acid])"
   ]
  },
  {
   "cell_type": "markdown",
   "metadata": {},
   "source": [
    "### Add in complex Formation with modifications"
   ]
  },
  {
   "cell_type": "code",
   "execution_count": null,
   "metadata": {
    "collapsed": false
   },
   "outputs": [],
   "source": [
    "# ME_complex_dict is a dict of {'complex_id': [{'bnum' : count}]}\n",
    "rna_components = {\"b3123\"} # component id should have RNA_ instead of protein_\n",
    "ME_complex_dict = get_complex_to_bnum_dict(rna_components)\n",
    "# some entries in the file need to be renamed.\n",
    "# Colton 7/8/15 made changes directly to flat file\n",
    "#renames = {\"MnmE_\": \"b3706\", \"MnmG_\": \"b3741\", \"YheM_\": \"b3344\", \"YheL_\": \"b3343\", \"YheN_\": \"b3345\"}\n",
    "add_complex_stoichiometry_data(me, ME_complex_dict)"
   ]
  },
  {
   "cell_type": "code",
   "execution_count": null,
   "metadata": {
    "collapsed": false
   },
   "outputs": [],
   "source": [
    "rxn_dict = get_reaction_matrix_dict()\n",
    "met_list = set()\n",
    "for met_stoich in rxn_dict.values():\n",
    "    for met in met_stoich:\n",
    "        if 'mod_c' not in met:\n",
    "            met_list.add(met.replace('_c',''))\n",
    "        else:\n",
    "            met_list.add(met)\n",
    "met_list.remove('EG10544-MONOMER_mod_palmitate')\n",
    "modification_dict = get_protein_modification_dict(met_list,  generic=False)\n",
    "add_complex_modification_data(me, modification_dict)"
   ]
  },
  {
   "cell_type": "code",
   "execution_count": null,
   "metadata": {
    "collapsed": false
   },
   "outputs": [],
   "source": [
    "# two different reactiond can add a lipoate modification.\n",
    "# We create a separate ModificationData for each one\n",
    "lipo = me.modification_data.get_by_id(\"mod_lipo_c\")\n",
    "alt_lipo = ModificationData(\"mod_lipo_c_alt\", me)\n",
    "#alt_lipo.stoichiometry = lipo.stoichiometry\n",
    "\n",
    "lipo.stoichiometry = {\"lipoamp_c\": -1, \"amp_c\": 1}\n",
    "lipo.enzyme = 'EG11796-MONOMER'\n",
    "lipo.keff = 65.\n",
    "\n",
    "alt_lipo.stoichiometry = {'EG50003-MONOMER_mod_pan4p_mod_lipo':-1,\n",
    "                          'EG50003-MONOMER_mod_pan4p':1,\n",
    "                          'h_c':-1,}\n",
    "alt_lipo.enzyme = 'EG11591-MONOMER'\n",
    "alt_lipo.keff = 65.\n",
    "\n",
    "for cplx_data in lipo.get_complex_data():\n",
    "    alt_cplx_data = ComplexData(cplx_data.id + \"alt\", me)\n",
    "    alt_cplx_data.complex_id = cplx_data.complex_id\n",
    "    alt_cplx_data.translocation = cplx_data.translocation\n",
    "    alt_cplx_data.chaperones = cplx_data.chaperones\n",
    "    alt_cplx_data.modifications = cplx_data.modifications\n",
    "    alt_cplx_data.modifications[alt_lipo.id] = \\\n",
    "        alt_cplx_data.modifications.pop(lipo.id)"
   ]
  },
  {
   "cell_type": "code",
   "execution_count": null,
   "metadata": {
    "collapsed": true
   },
   "outputs": [],
   "source": [
    "# chaperones\n",
    "# todo bmocogdp_c mods\n",
    "# todo FE-S modifications\n",
    "mod_catalysts = {'CPLX0-1762':'G6712-MONOMER', # FE-S modification\n",
    "                 'TMAOREDUCTI-CPLX':'EG12195-MONOMER', #bmocogdp\n",
    "                 'DIMESULFREDUCT-CPLX':'G6849-MONOMER', #bmocogdp\n",
    "                 'NITRATREDUCTA-CPLX':'NARJ-MONOMER', #bmocogdp\n",
    "                 'NITRATREDUCTZ-CPLX':'NARW-MONOMER', #bmocogdp\n",
    "                 'NAP-CPLX':'NAPD-MONOMER', #bmocogdp\n",
    "                 'NAPAB-CPLX_NAPC-MONOMER':'NAPD-MONOMER'} #bmocogdp"
   ]
  },
  {
   "cell_type": "markdown",
   "metadata": {},
   "source": [
    "## TODO NEXT complete Iron-Sulfur cluster modification reactions. Apply rRNA/tRNA fraction constraint "
   ]
  },
  {
   "cell_type": "raw",
   "metadata": {},
   "source": [
    "Read \"The CO and CN− ligands to the active site Fe in [NiFe]-hydrogenase of Escherichia coli have different metabolic origins\" for insight into the metabolic origin of the NiFeCoCN2_c group"
   ]
  },
  {
   "cell_type": "code",
   "execution_count": null,
   "metadata": {
    "collapsed": false,
    "scrolled": false
   },
   "outputs": [],
   "source": [
    "essential_list = [\n",
    "    #'4fe4s_c',\n",
    "    'LI_c',\n",
    "    'cs_c',\n",
    "    #'2fe2s_c',\n",
    "    '3fe4s_c',\n",
    "    'palmitate_c',\n",
    "    'NiFeCoCN2_c', 'acetyl_c',\n",
    "    'RNase_m5','RNase_m16','RNase_m23'] # RNAses are gaps in model, fix how cs is added to\n",
    "\n",
    "for met_id in essential_list:\n",
    "    r = cobra.Reaction(\"EX_\" + met_id)\n",
    "    me.add_reaction(r)\n",
    "    r.reaction = met_id + \" <=> \""
   ]
  },
  {
   "cell_type": "markdown",
   "metadata": {},
   "source": [
    "Build all complex formation reactions"
   ]
  },
  {
   "cell_type": "code",
   "execution_count": null,
   "metadata": {
    "collapsed": false,
    "scrolled": true
   },
   "outputs": [],
   "source": [
    "for cplx_data in me.complex_data:\n",
    "    formation = cplx_data.formation\n",
    "    if formation:\n",
    "        formation.update()\n",
    "    else:\n",
    "        cplx_data.create_complex_formation()"
   ]
  },
  {
   "cell_type": "code",
   "execution_count": null,
   "metadata": {
    "collapsed": false
   },
   "outputs": [],
   "source": [
    "building.add_dummy_reactions(me, \"ATG\" + \"TTT\" * 12 + \"TAT\" * 12 + \"ACG\" * 12 + \"GAT\" * 12 + \"AGT\" * 12 + \"TGA\", update=False)"
   ]
  },
  {
   "cell_type": "raw",
   "metadata": {},
   "source": [
    "TODO:\n",
    "5) filter so known erpA dependent ones use that instead"
   ]
  },
  {
   "cell_type": "code",
   "execution_count": null,
   "metadata": {
    "collapsed": false
   },
   "outputs": [],
   "source": [
    "# these guys can transfer assembled iron sulfur clusters to the various enzymes\n",
    "fes_transfer = {\"erpA\": \"CPLX0-7617\", \"iscA\": \"IscA_tetra\", \"sufA\": \"CPLX0-7824\"}\n",
    "\n",
    "suf_cplx = ComplexData(\"sufBC2DES_pathway_complex\", me)\n",
    "suf_cplx.stoichiometry = {\"CPLX0-1341\": 1, \"CPLX0-246_CPLX0-1342_mod_pydx5p\": 1}\n",
    "suf_cplx.create_complex_formation()\n",
    "    \n",
    "isc_cplx = ComplexData(\"iscUS_cyaY_pathway_complex\", me) # could add chaperones into here\n",
    "isc_cplx.stoichiometry = {\"IscU\": 1, \"IscS_mod_2:pydx5p\": 1, \"EG11653-MONOMER\": 1}\n",
    "isc_cplx.create_complex_formation()\n",
    "\n",
    "generic_fes_transfer = GenericData(\"generic_fes_transfer\", me, ['CPLX0-7617', 'CPLX0-7824', 'IscA_tetra'])\n",
    "generic_fes_transfer.create_reactions()\n",
    "\n",
    "#building.add_and_update_metabolic_reaction(me, \"isc_2fe2s_formation\", suf_cplx.id, False, update=True)\n",
    "#building.add_and_update_metabolic_reaction(me, \"suf_2fe2s_formation\", isc_cplx.id, False, update=True)\n",
    "#building.add_and_update_metabolic_reaction(me, \"isc_4fe4s_formation\", suf_cplx.id, False, update=True)\n",
    "#building.add_and_update_metabolic_reaction(me, \"suf_4fe4s_formation\", isc_cplx.id, False, update=True)"
   ]
  },
  {
   "cell_type": "code",
   "execution_count": null,
   "metadata": {
    "collapsed": false
   },
   "outputs": [],
   "source": [
    "me.modification_data.mod_2fe2s_c.enzyme = generic_fes_transfer.id\n",
    "me.modification_data.mod_2fe2s_c.keff = 65.\n",
    "me.modification_data.mod_4fe4s_c.enzyme = generic_fes_transfer.id\n",
    "me.modification_data.mod_4fe4s_c.keff = 65."
   ]
  },
  {
   "cell_type": "markdown",
   "metadata": {},
   "source": [
    "Crutch reactions for mets that are blocked. TODO remove"
   ]
  },
  {
   "cell_type": "markdown",
   "metadata": {},
   "source": [
    "## Associate Complexes with Reactions"
   ]
  },
  {
   "cell_type": "code",
   "execution_count": null,
   "metadata": {
    "collapsed": false,
    "scrolled": true
   },
   "outputs": [],
   "source": [
    "# associate reaction id with the old ME complex id (including modifications)\n",
    "rxnToModCplxDict = get_reaction_to_complex(generic=False)"
   ]
  },
  {
   "cell_type": "code",
   "execution_count": null,
   "metadata": {
    "collapsed": false
   },
   "outputs": [],
   "source": [
    "rxn_info = get_reaction_info_frame()\n",
    "for reaction_data in me.stoichiometric_data:\n",
    "    add_metabolic_reactions(me, reaction_data, rxnToModCplxDict, rxn_info, update=True,\n",
    "                            create_new=True)"
   ]
  },
  {
   "cell_type": "markdown",
   "metadata": {},
   "source": [
    "Rebuild transcription and translation to use tRNA (now that tRNA synthetase complexes are in the model"
   ]
  },
  {
   "cell_type": "code",
   "execution_count": null,
   "metadata": {
    "collapsed": false
   },
   "outputs": [],
   "source": [
    "generic_dict = {'generic_16Sm4Cm1402': ['RsmH_mono', 'RsmI_mono'],\n",
    "                'generic_LYSINEaaRS': ['LysI_RS_dim', 'LysII_RS_dim_mod_6:mg2'],\n",
    "                'generic_Dus': ['DusA_mono', 'DusB_mono', 'DusC_mono'],\n",
    "                'generic_RF': ['PrfA_mono', 'PrfB_mono'],\n",
    "                'generic_Tuf': ['TufA_mono', 'TufB_mono'],\n",
    "                'generic_RNase': ['RNase_T_dim_mod_4:mg2', 'RNase_BN_dim_mod_2:zn2',\n",
    "                                  'Rnd_mono_mod_5:mg2', 'Rnb_mono_mod_1:mg2',\n",
    "                                  'Rph_mono_mod_mg2']}\n",
    "\n",
    "#for generic, components in generic_dict.items():\n",
    "#    components = [R.replace('mg2', 'generic_divalent').\n",
    "#                  replace('zn2', 'generic_divalent') for R in components]\n",
    "#    GenericData(generic, me, components).create_reactions()\n",
    "    \n",
    "for generic, components in generic_dict.items():\n",
    "    GenericData(generic, me, components).create_reactions()"
   ]
  },
  {
   "cell_type": "code",
   "execution_count": null,
   "metadata": {
    "collapsed": false,
    "scrolled": true
   },
   "outputs": [],
   "source": [
    "for r in me.reactions:\n",
    "    if isinstance(r, tRNAChargingReaction):\n",
    "        r.update()\n",
    "for r in me.reactions:\n",
    "    if isinstance(r, TranslationReaction):\n",
    "        r.update()\n",
    "    if isinstance(r, TranscriptionReaction):\n",
    "        r.update()\n",
    "    if isinstance(r, MetabolicReaction):\n",
    "        r.update()"
   ]
  },
  {
   "cell_type": "code",
   "execution_count": null,
   "metadata": {
    "collapsed": false,
    "scrolled": true
   },
   "outputs": [],
   "source": [
    "apoACP = me.metabolites.get_by_id('EG50003-MONOMER_mod_pan4p')\n",
    "for reaction in me.metabolites.get_by_id('EG50003-MONOMER_mod_pan4p').reactions:\n",
    "    if apoACP in reaction.reactants:\n",
    "        print reaction\n",
    "        reaction.complex_dilution_list = {apoACP.id}\n",
    "        reaction.update()\n",
    "        print reaction.reaction"
   ]
  },
  {
   "cell_type": "code",
   "execution_count": null,
   "metadata": {
    "collapsed": false
   },
   "outputs": [],
   "source": [
    "for reaction in me.metabolites.get_by_id('EG50003-MONOMER_mod_pan4p').reactions:\n",
    "    reaction.update()\n",
    "    print reaction\n",
    "    print reaction.reaction"
   ]
  },
  {
   "cell_type": "markdown",
   "metadata": {},
   "source": [
    "## Add in translocation"
   ]
  },
  {
   "cell_type": "raw",
   "metadata": {
    "collapsed": false
   },
   "source": [
    "translocPath = pandas.read_csv(join(ecoli_files_dir, \"translocation_pathways.txt\"),sep='\\t')\n",
    "\n",
    "for index, row in translocPath.iterrows():\n",
    "    translocRxn = ProteinTranslocationData(row.Reaction_name, me)\n",
    "    translocRxn.keff = float(row.Keff)\n",
    "    translocRxn.costs_complexes = row.Complexes.split(' AND ')"
   ]
  },
  {
   "cell_type": "raw",
   "metadata": {
    "collapsed": false
   },
   "source": [
    "proteins_sa_coeff_inner={}\n",
    "\n",
    "transloc = pandas.read_csv(join(ecoli_files_dir, \"peptide_compartment_and_pathways2.txt\"), sep='\\t', comment=\"#\")\n",
    "for index, row in transloc.iterrows():\n",
    "    me.metabolites.get_by_id(row.Complex).compartment = row.Complex_compartment\n",
    "    me.metabolites.get_by_id('protein_'+row.Protein.split('(')[0]).compartment = row.Protein_compartment\n",
    "    #if index > 316:\n",
    "    #    continue\n",
    "    if row.translocase_pathway=='s':\n",
    "        me.translocation_pathways.srp_translocation.add_translocation_cost(me,row.Complex,row.Protein)\n",
    "        \n",
    "        ## This is in preparation for membrane constraint\n",
    "        mass = me.translation_data.get_by_id(row.Protein.split('(')[0]).mass\n",
    "        if row.Complex in proteins_sa_coeff_inner.keys():\n",
    "            proteins_sa_coeff_inner[row.Complex]+=mass*1.21/42.*2\n",
    "        else:\n",
    "            proteins_sa_coeff_inner[row.Complex]=mass*1.21/42.*2\n",
    "    elif row.translocase_pathway == 'r':\n",
    "        me.translocation_pathways.srp_translocation.add_translocation_cost(me,row.Complex,row.Protein)       \n",
    "    elif row.translocase_pathway == 'p':\n",
    "        me.translocation_pathways.srp_yidC_translocation.add_translocation_cost(me,row.Complex,row.Protein)         \n",
    "    elif row.translocase_pathway =='t':\n",
    "        me.translocation_pathways.tat_translocation.add_translocation_cost(me,row.Complex,row.Protein)\n",
    "    elif row.translocase_pathway=='a':\n",
    "        me.translocation_pathways.srp_translocation.add_translocation_cost(me,row.Complex,row.Protein)\n",
    "        me.translocation_pathways.secA_translocation.add_translocation_cost(me,row.Complex,row.Protein)\n",
    "    elif row.translocase_pathway =='l':\n",
    "        me.translocation_pathways.lol_translocation.add_translocation_cost(me,row.Complex,row.Protein)\n",
    "    elif row.translocase_pathway =='b':\n",
    "        me.translocation_pathways.bam_translocation.add_translocation_cost(me,row.Complex,row.Protein)\n",
    "    elif row.translocase_pathway =='y':\n",
    "        me.translocation_pathways.yidC_translocation.add_translocation_cost(me,row.Complex,row.Protein)        \n",
    "    elif row.translocase_pathway!='n':\n",
    "        print row.translocase_pathway        "
   ]
  },
  {
   "cell_type": "markdown",
   "metadata": {},
   "source": [
    "## Make RNA splicing machinery"
   ]
  },
  {
   "cell_type": "code",
   "execution_count": null,
   "metadata": {
    "collapsed": false,
    "scrolled": true
   },
   "outputs": [],
   "source": [
    "#generic_RNase = GenericData(\"generic_RNase\", me,\n",
    "#                            {ecoli_k12.replace_divalent(i) for i in generic_RNase_list})\n",
    "#generic_RNase.create_reactions()\n",
    "\n",
    "rRNA_machinery = ComplexData(\"rRNA_containing_excision_machinery\", me)\n",
    "#rRNA_machinery.stoichiometry = {ecoli_k12.replace_divalent(i): 1 for i in ecoli_k12.rRNA_containing}\n",
    "rRNA_machinery.stoichiometry = {i: 1 for i in ecoli_k12.rRNA_containing}\n",
    "rRNA_machinery.create_complex_formation()\n",
    "rRNA_mod = ModificationData(\"rRNA_containing_excision\", me)\n",
    "rRNA_mod.stoichiometry = {'h2o_c': -1, 'h_c': 1}\n",
    "rRNA_mod.enzyme = rRNA_machinery.id\n",
    "\n",
    "monocistronic_machinery = ComplexData(\"monocistronic_excision_machinery\", me)\n",
    "#monocistronic_machinery.stoichiometry = {ecoli_k12.replace_divalent(i): 1 for i in ecoli_k12.monocistronic}\n",
    "monocistronic_machinery.stoichiometry = {i: 1 for i in ecoli_k12.monocistronic}\n",
    "monocistronic_machinery.create_complex_formation()\n",
    "monocistronic_mod = ModificationData(\"monocistronic_excision\", me)\n",
    "monocistronic_mod.stoichiometry = {'h2o_c': -1, 'h_c': 1}\n",
    "monocistronic_mod.enzyme = monocistronic_machinery.id\n",
    "\n",
    "polycistronic_machinery = ComplexData(\"polycistronic_excision_machinery\", me)\n",
    "#polycistronic_machinery.stoichiometry = {ecoli_k12.replace_divalent(i): 1 for i in ecoli_k12.polycistronic_wout_rRNA}\n",
    "polycistronic_machinery.stoichiometry = {i: 1 for i in ecoli_k12.polycistronic_wout_rRNA}\n",
    "polycistronic_machinery.create_complex_formation()\n",
    "polycistronic_mod = ModificationData(\"polycistronic_excision\", me)\n",
    "polycistronic_mod.stoichiometry = {'h2o_c': -1, 'h_c': 1}\n",
    "polycistronic_mod.enzyme = polycistronic_machinery.id\n",
    "\n",
    "for t in me.transcription_data:\n",
    "    n_excised = sum(t.excised_bases.values())\n",
    "    n_cuts = len(t.RNA_products) * 2\n",
    "    if n_excised == 0 or n_cuts == 0:\n",
    "        continue\n",
    "    RNA_types = list(t.RNA_types)\n",
    "    n_tRNA = RNA_types.count(\"tRNA\")\n",
    "    \n",
    "    if \"rRNA\" in set(RNA_types):\n",
    "        t.modifications[rRNA_mod.id] = n_cuts\n",
    "    elif n_tRNA == 1:\n",
    "        t.modifications[monocistronic_mod.id] = n_cuts\n",
    "    elif n_tRNA > 1:\n",
    "        t.modifications[polycistronic_mod.id] = n_cuts\n",
    "    else:  # only applies to rnpB\n",
    "        t.modifications[monocistronic_mod.id] = n_cuts"
   ]
  },
  {
   "cell_type": "markdown",
   "metadata": {},
   "source": [
    "## Remove unused protein and mRNA\n",
    "\n",
    "This should make the model solve faster"
   ]
  },
  {
   "cell_type": "raw",
   "metadata": {
    "collapsed": false
   },
   "source": [
    "one_rxn_list = []\n",
    "for met in me.metabolites:\n",
    "    if len(me.metabolites.get_by_id(met.id.rstrip('_')).reactions) == 1:\n",
    "        print met, met.reactions\n",
    "        one_rxn_list.append(met.id)"
   ]
  },
  {
   "cell_type": "raw",
   "metadata": {
    "collapsed": false,
    "scrolled": true
   },
   "source": [
    "for cplx in me.complex_data:\n",
    "    for protein in cplx.stoichiometry.keys():\n",
    "        try:\n",
    "            if len(me.metabolites.get_by_id(protein).reactions) == 1:\n",
    "                print protein\n",
    "        except:\n",
    "            print cplx.parent_reactions, protein, me.metabolites.get_by_id(protein.replace('protein','RNA')).RNA_type"
   ]
  },
  {
   "cell_type": "raw",
   "metadata": {},
   "source": [
    "for p in me.metabolites.query(\"protein\"):\n",
    "    delete = True\n",
    "    for rxn in p._reaction:\n",
    "        print p\n",
    "        print rxn.id\n",
    "        if p in rxn.reactants:\n",
    "            delete = False       \n",
    "    if delete:\n",
    "        while len(p._reaction) > 0:\n",
    "            list(p._reaction)[0].delete(remove_orphans=True)"
   ]
  },
  {
   "cell_type": "markdown",
   "metadata": {},
   "source": [
    "This gives the total number of genes included"
   ]
  },
  {
   "cell_type": "markdown",
   "metadata": {},
   "source": [
    "## Attempt to set keffs"
   ]
  },
  {
   "cell_type": "code",
   "execution_count": null,
   "metadata": {
    "collapsed": false
   },
   "outputs": [],
   "source": [
    "divalent_list = divalent_list\n",
    "monovalent_list = ['_mod_k','_mod_na1']\n",
    "from pickle import load\n",
    "with open(\"test_keffs.pickle\", \"rb\") as infile:\n",
    "    old_keffs = load(infile)\n",
    "keffs = {}\n",
    "\n",
    "for keff, value in old_keffs.items():\n",
    "    keffs[keff] = value\n",
    "\n",
    "#        for i in divalent_list: \n",
    "#        keff = keff.replace(i, 'generic_divalent')\n",
    "#    for i in monovalent_list: \n",
    "#keff = keff.replace(i, '_mod_generic_monovalent')\n",
    "\n",
    "for r in me.reactions:\n",
    "    if isinstance(r, MetabolicReaction) and r.complex_data is None:\n",
    "        continue\n",
    "    if isinstance(r, MetabolicReaction) and r.complex_data.id != \"CPLX_dummy\":\n",
    "        met_rxn = r\n",
    "        key = met_rxn.id.replace(\"-\", \"_DASH_\").replace(\"__\", \"_DASH_\").replace(\":\",\"_COLON_\")\n",
    "        #key = met_rxn.id\n",
    "        key = \"keff_\" + key.replace(\"_FWD_\", \"_\").replace(\"_REV_\", \"_\")\n",
    "\n",
    "        matches = [i for i in keffs if key in i]\n",
    "        # get the direction\n",
    "        if met_rxn.reverse:\n",
    "            matches = [i for i in matches if i.endswith(\"_reverse_priming_keff\")]\n",
    "        else:\n",
    "            matches = [i for i in matches if i.endswith(\"_forward_priming_keff\")]\n",
    "        if len(matches) == 1:\n",
    "            met_rxn.keff = keffs[matches[0]]\n",
    "        elif len(matches) > 0:\n",
    "            if len(matches) == len([i for i in matches if key + \"_mod_\"]):\n",
    "                met_rxn.keff = keffs[matches[0]]\n",
    "            else:\n",
    "                print key, len(matches)\n",
    "        else:  # len(matches) == 0\n",
    "            print \"no keff found for\", key"
   ]
  },
  {
   "cell_type": "code",
   "execution_count": null,
   "metadata": {
    "collapsed": false
   },
   "outputs": [],
   "source": [
    "for r in me.reactions:\n",
    "    if hasattr(r, \"update\"):\n",
    "        r.update()"
   ]
  },
  {
   "cell_type": "code",
   "execution_count": null,
   "metadata": {
    "collapsed": true
   },
   "outputs": [],
   "source": [
    "for c in me.complex_data:\n",
    "    try:\n",
    "        c.create_complex_formation()\n",
    "        print c\n",
    "    except:\n",
    "        pass"
   ]
  },
  {
   "cell_type": "code",
   "execution_count": null,
   "metadata": {
    "collapsed": false
   },
   "outputs": [],
   "source": [
    "for c_d in me.complex_data:\n",
    "    c = c_d.complex\n",
    "    if len(c.reactions) == 1:\n",
    "        list(c.reactions)[0].delete(remove_orphans=True)\n",
    "        \n",
    "for p in me.metabolites.query(\"protein\"):\n",
    "    delete = True\n",
    "    for rxn in p._reaction:\n",
    "        if p in rxn.reactants:\n",
    "            delete = False       \n",
    "    if delete:\n",
    "        while len(p._reaction) > 0:\n",
    "            list(p._reaction)[0].delete(remove_orphans=True)\n",
    "            \n",
    "for m in me.metabolites.query(\"RNA\"):\n",
    "    delete = True\n",
    "    for rxn in m._reaction:\n",
    "        if m in rxn.reactants and not rxn.id.startswith('DM_'):\n",
    "            delete = False       \n",
    "    if delete:\n",
    "        me.reactions.get_by_id('DM_' + m.id).remove_from_model(remove_orphans=True)\n",
    "        m.remove_from_model(method='subtractive')\n",
    "        \n",
    "for t in me.reactions.query('transcription_TU'):\n",
    "    delete = True\n",
    "    for product in t.products:\n",
    "        if isinstance(product, TranscribedGene):\n",
    "            delete = False\n",
    "    if delete:\n",
    "        t.remove_from_model(remove_orphans=True)"
   ]
  },
  {
   "cell_type": "markdown",
   "metadata": {},
   "source": [
    "# TODO address these \n",
    "## make sure they are actually dead ends"
   ]
  },
  {
   "cell_type": "code",
   "execution_count": null,
   "metadata": {
    "collapsed": false,
    "scrolled": true
   },
   "outputs": [],
   "source": [
    "for metabolites in me.metabolites:\n",
    "    if len(metabolites.reactions) == 1:\n",
    "        print metabolites.id, metabolites.reactions"
   ]
  },
  {
   "cell_type": "markdown",
   "metadata": {},
   "source": [
    "## TODO\n",
    "glycogen_demand = (glycogen_g_per_g)*(1./glycogen_mw)*1000. "
   ]
  },
  {
   "cell_type": "code",
   "execution_count": null,
   "metadata": {
    "collapsed": false,
    "scrolled": true
   },
   "outputs": [],
   "source": [
    "len(me.metabolites.query('RNA_b'))"
   ]
  },
  {
   "cell_type": "code",
   "execution_count": null,
   "metadata": {
    "collapsed": false,
    "scrolled": true
   },
   "outputs": [],
   "source": [
    "len(me.reactions.query(\"transcription\"))"
   ]
  },
  {
   "cell_type": "markdown",
   "metadata": {},
   "source": [
    "## One of these demand metabolites are blocked...."
   ]
  },
  {
   "cell_type": "raw",
   "metadata": {
    "collapsed": false
   },
   "source": [
    "demands = {'murein5px4p_p': 0.01389, 'kdo2lipid4_e': 0.01945, 'pe160_c': 0.01786,\n",
    "           'pe160_p': 0.04594, 'pe161_c': 0.02105, 'pe161_c': 0.05415}\n",
    "for met, stoich in demands.items():\n",
    "    r = Reaction('DM_' + met)\n",
    "    r.add_metabolites({me.metabolites.get_by_id(met): -1})\n",
    "    r.lower_bound = stoich\n",
    "    me.add_reaction(r)"
   ]
  },
  {
   "cell_type": "markdown",
   "metadata": {},
   "source": [
    "## Solve"
   ]
  },
  {
   "cell_type": "code",
   "execution_count": null,
   "metadata": {
    "collapsed": false
   },
   "outputs": [],
   "source": [
    "me.reactions.dummy_reaction_FWD_CPLX_dummy.objective_coefficient = 1."
   ]
  },
  {
   "cell_type": "code",
   "execution_count": null,
   "metadata": {
    "collapsed": false
   },
   "outputs": [],
   "source": [
    "# Turn off reactions that throw off results as in iOL\n",
    "KO_list = ['DHPTDNR','DHPTDNRN', 'SUCASPtpp','SUCFUMtpp', 'SUCMALtpp', 'SUCTARTtpp', \n",
    "           'CAT', 'FHL', 'SPODM', 'SPODMp']\n",
    "for reaction in KO_list:\n",
    "    a = me.reactions.query(reaction + '_')\n",
    "    for rxn in a:\n",
    "        rxn.upper_bound = 0\n",
    "        rxn.lower_bound = 0"
   ]
  },
  {
   "cell_type": "code",
   "execution_count": null,
   "metadata": {
    "collapsed": false
   },
   "outputs": [],
   "source": [
    "me.reactions.EX_glc__D_e.lower_bound = -10"
   ]
  },
  {
   "cell_type": "code",
   "execution_count": null,
   "metadata": {
    "collapsed": false,
    "scrolled": true
   },
   "outputs": [],
   "source": [
    "expressions = compile_expressions(me)"
   ]
  },
  {
   "cell_type": "code",
   "execution_count": null,
   "metadata": {
    "collapsed": false,
    "scrolled": false
   },
   "outputs": [],
   "source": [
    "solve_at_growth_rate(me, .1, compiled_expressions=expressions)"
   ]
  },
  {
   "cell_type": "code",
   "execution_count": null,
   "metadata": {
    "collapsed": false
   },
   "outputs": [],
   "source": [
    "binary_search(me, min_mu=0, max_mu=1, mu_accuracy=1e-5,\n",
    "              compiled_expressions=expressions, debug=False, solver = 'gurobi')"
   ]
  },
  {
   "cell_type": "code",
   "execution_count": null,
   "metadata": {
    "collapsed": false
   },
   "outputs": [],
   "source": [
    "me.solution.x_dict['ENTCS_FWD_ENTD-MONOMER']"
   ]
  },
  {
   "cell_type": "raw",
   "metadata": {
    "collapsed": false,
    "scrolled": true
   },
   "source": [
    "import numpy as np\n",
    "uptake = np.linspace(1.75, 30, 50)\n",
    "error_list = []\n",
    "sol_list = []\n",
    "for i, lower_bound in enumerate(uptake):\n",
    "    print lower_bound, i\n",
    "    me.reactions.EX_glc__D_e.lower_bound = -lower_bound\n",
    "    sol = binary_search(me, min_mu=2, max_mu=2.1, mu_accuracy=1e-5,\n",
    "              compiled_expressions=expressions)\n",
    "    sol_list.append(sol.f)\n",
    "    error_list.append(me.compute_solution_error())\n",
    "    \n",
    "    "
   ]
  },
  {
   "cell_type": "code",
   "execution_count": null,
   "metadata": {
    "collapsed": false,
    "scrolled": true
   },
   "outputs": [],
   "source": [
    "from matplotlib import pyplot as plt\n",
    "import pandas as pd \n",
    "plt.style.use('bmh')\n",
    "%matplotlib inline"
   ]
  },
  {
   "cell_type": "code",
   "execution_count": null,
   "metadata": {
    "collapsed": false
   },
   "outputs": [],
   "source": [
    "plt.style.available"
   ]
  },
  {
   "cell_type": "code",
   "execution_count": null,
   "metadata": {
    "collapsed": false
   },
   "outputs": [],
   "source": [
    "a = a.set_index('uptake')"
   ]
  },
  {
   "cell_type": "code",
   "execution_count": null,
   "metadata": {
    "collapsed": false,
    "scrolled": true
   },
   "outputs": [],
   "source": [
    "sum_error_list = []\n",
    "lower_bound_error = []\n",
    "for uptake in error_list:\n",
    "    sum_error_list.append(uptake['sum_error'])\n",
    "    lower_bound_error.append(uptake['lower_bound_error'])"
   ]
  },
  {
   "cell_type": "code",
   "execution_count": null,
   "metadata": {
    "collapsed": true
   },
   "outputs": [],
   "source": [
    "import statistics as stats"
   ]
  },
  {
   "cell_type": "code",
   "execution_count": null,
   "metadata": {
    "collapsed": false
   },
   "outputs": [],
   "source": [
    "print stats.mean(sum_error_list)\n",
    "print stats.stdev(sum_error_list)\n",
    "print stats.mean(lower_bound_error)\n",
    "print stats.stdev(lower_bound_error)\n",
    "print max(lower_bound_error)"
   ]
  },
  {
   "cell_type": "code",
   "execution_count": null,
   "metadata": {
    "collapsed": false
   },
   "outputs": [],
   "source": [
    "error_list"
   ]
  },
  {
   "cell_type": "code",
   "execution_count": null,
   "metadata": {
    "collapsed": false
   },
   "outputs": [],
   "source": [
    "b = a.plot()\n",
    "b.set_xlim([0, 25])\n",
    "b.set_ylabel('$Growth \\ rate, \\ \\mu \\ (h^{-1})$')\n",
    "b.set_xlabel('$Glucose \\ uptake \\ rate \\ bound \\ (mmol \\ gDW^{-1} h^{-1}$)')\n",
    "b.legend?\n",
    "c = b.figure\n",
    "c.savefig('/home/sbrg-cjlloyd/Desktop/soplex.svg')"
   ]
  },
  {
   "cell_type": "code",
   "execution_count": null,
   "metadata": {
    "collapsed": false
   },
   "outputs": [],
   "source": [
    "sol.x_dict['ATPM_FWD_CPLX_dummy']"
   ]
  },
  {
   "cell_type": "code",
   "execution_count": null,
   "metadata": {
    "collapsed": true
   },
   "outputs": [],
   "source": [
    "me.reactions.ATPM_FWD_CPLX_dummy"
   ]
  },
  {
   "cell_type": "code",
   "execution_count": null,
   "metadata": {
    "collapsed": false,
    "scrolled": true
   },
   "outputs": [],
   "source": [
    "error_list"
   ]
  },
  {
   "cell_type": "code",
   "execution_count": null,
   "metadata": {
    "collapsed": false
   },
   "outputs": [],
   "source": [
    "from matplotlib import pyplot as plt\n",
    "plt.plot(uptake, sol_list)\n",
    "plt.show()"
   ]
  },
  {
   "cell_type": "code",
   "execution_count": null,
   "metadata": {
    "collapsed": false
   },
   "outputs": [],
   "source": [
    "transcription = me.get_transcription_flux()"
   ]
  },
  {
   "cell_type": "code",
   "execution_count": null,
   "metadata": {
    "collapsed": false
   },
   "outputs": [],
   "source": [
    "{k: v for k, v in me.solution.x_dict.items() if v < -1e-8 or v > 1e-8}"
   ]
  },
  {
   "cell_type": "code",
   "execution_count": null,
   "metadata": {
    "collapsed": false
   },
   "outputs": [],
   "source": [
    "me.reactions.EX_na1_e.lower_bound"
   ]
  },
  {
   "cell_type": "code",
   "execution_count": null,
   "metadata": {
    "collapsed": false
   },
   "outputs": [],
   "source": [
    "me.reactions.translation_dummy.reaction"
   ]
  },
  {
   "cell_type": "code",
   "execution_count": null,
   "metadata": {
    "collapsed": true
   },
   "outputs": [],
   "source": []
  },
  {
   "cell_type": "code",
   "execution_count": null,
   "metadata": {
    "collapsed": false
   },
   "outputs": [],
   "source": [
    "import escher\n",
    "view = escher.Builder(\"iJO1366.Central metabolism\")\n",
    "view.reaction_data = me.get_metabolic_flux()\n",
    "view.display_in_notebook()"
   ]
  },
  {
   "cell_type": "code",
   "execution_count": null,
   "metadata": {
    "collapsed": false
   },
   "outputs": [],
   "source": [
    "ppp_shunt = ['G6PDH2r', 'PGL', 'EDA', 'EDD']\n",
    "for reaction in ppp_shunt:\n",
    "    for rxn in me.reactions.query(reaction + '_'):\n",
    "        print reaction, rxn\n",
    "        print rxn.complex_data.stoichiometry"
   ]
  },
  {
   "cell_type": "code",
   "execution_count": null,
   "metadata": {
    "collapsed": false
   },
   "outputs": [],
   "source": [
    "upper_gly = ['PGI', 'PFK', 'FBA', 'TPI']\n",
    "for reaction in upper_gly:\n",
    "    for rxn in me.reactions.query(reaction + '_F'):\n",
    "        print reaction, rxn\n",
    "        print rxn.complex_data.stoichiometry"
   ]
  },
  {
   "cell_type": "code",
   "execution_count": null,
   "metadata": {
    "collapsed": false,
    "scrolled": true
   },
   "outputs": [],
   "source": [
    "import json\n",
    "with open('../../Desktop/fixed_ids.json', 'wb') as f:\n",
    "    json.dump(processdata,f)"
   ]
  },
  {
   "cell_type": "code",
   "execution_count": null,
   "metadata": {
    "collapsed": false,
    "scrolled": true
   },
   "outputs": [],
   "source": [
    "for rxn in me.reactions:\n",
    "    if ':' in rxn.id:\n",
    "        print rxn\n",
    "        rxn.id = rxn.id.replace(':','')\n",
    "for met in me.metabolites:\n",
    "    if ':' in met.id:\n",
    "        print met\n",
    "        met.id = met.id.replace(':', '')"
   ]
  },
  {
   "cell_type": "code",
   "execution_count": null,
   "metadata": {
    "collapsed": false
   },
   "outputs": [],
   "source": [
    "from scipy.sparse import lil_matrix"
   ]
  },
  {
   "cell_type": "code",
   "execution_count": null,
   "metadata": {
    "collapsed": true
   },
   "outputs": [],
   "source": [
    "scipy/"
   ]
  },
  {
   "cell_type": "code",
   "execution_count": null,
   "metadata": {
    "collapsed": false
   },
   "outputs": [],
   "source": [
    "matrix = lil_matrix.todok()"
   ]
  },
  {
   "cell_type": "code",
   "execution_count": null,
   "metadata": {
    "collapsed": false,
    "scrolled": true
   },
   "outputs": [],
   "source": [
    "me.to_array_based_model()"
   ]
  },
  {
   "cell_type": "code",
   "execution_count": null,
   "metadata": {
    "collapsed": true
   },
   "outputs": [],
   "source": [
    "import numpy as np\n",
    "\n",
    "mdict = {'model': {'A': me.A,\n",
    "        'B': me.B,\n",
    "        'S': me.S,\n",
    "        'b': me.b,\n",
    "        'c': me.c,\n",
    "        'lb': [xi for xi in me_nlp.xl.flat],\n",
    "        'ub': [xi for xi in me_nlp.xu.flat],\n",
    "        'rxns': np.array([r.id for r in me.reactions], dtype=np.object),\n",
    "        'mets': np.array([m.id for m in me.metabolites], dtype=np.object),\n",
    "        'rxnNames': np.array([r.name for r in me.reactions], dtype=np.object),\n",
    "        'metNames': np.array([m.name for m in me.metabolites], dtype=np.object),\n",
    "        'csense': 'E'*len(me.metabolites),\n",
    "        'rev': [rxn.reversibility for rxn in me.reactions],\n",
    "        'description': 'ME_NLP'}\n",
    "        }\n",
    "\n",
    "import scipy.io as sio\n",
    "\n",
    "sio.savemat('/home/sbrg-cjlloyd/Desktop/memodel.mat', mdict, oned_as='column')"
   ]
  },
  {
   "cell_type": "code",
   "execution_count": null,
   "metadata": {
    "collapsed": true
   },
   "outputs": [],
   "source": [
    "import sympy"
   ]
  },
  {
   "cell_type": "code",
   "execution_count": null,
   "metadata": {
    "collapsed": false
   },
   "outputs": [],
   "source": [
    "export = {'translation_data': 'b0003',\n",
    "          'transcription_data': 'TU00003_from_RpoD_mono',\n",
    "          'stoichiometric_data': 'GAPD',\n",
    "          'modification_data' : 'mod_2fe2s_c',\n",
    "          'tRNA_data': 'tRNA_b0536_AGA', 'complex_data': 'GAPDH-A-CPLX'}\n",
    "processdata = {}\n",
    "for data, component in export.items():\n",
    "    print data, component\n",
    "    processdata[data] = {}\n",
    "    prosdata = eval('me.%s' % data)\n",
    "    prosdata2 = prosdata.get_by_id(component)\n",
    "    for key, value in prosdata2.__dict__.items():\n",
    "        processdata[data][key] = str(value)"
   ]
  }
 ],
 "metadata": {
  "kernelspec": {
   "display_name": "Python 2",
   "language": "python",
   "name": "python2"
  },
  "language_info": {
   "codemirror_mode": {
    "name": "ipython",
    "version": 2
   },
   "file_extension": ".py",
   "mimetype": "text/x-python",
   "name": "python",
   "nbconvert_exporter": "python",
   "pygments_lexer": "ipython2",
   "version": "2.7.6"
  }
 },
 "nbformat": 4,
 "nbformat_minor": 0
}
