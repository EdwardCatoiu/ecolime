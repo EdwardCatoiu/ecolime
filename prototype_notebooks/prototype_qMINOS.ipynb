{
 "cells": [
  {
   "cell_type": "markdown",
   "metadata": {},
   "source": [
    "\n",
    "# Build a basic ME model"
   ]
  },
  {
   "cell_type": "markdown",
   "metadata": {},
   "source": [
    "We will try to build an ME model from the NC_000913.2 Genbank file, the iJO1366 M model, and the complex reconstruction from iJL1650-ME"
   ]
  },
  {
   "cell_type": "code",
   "execution_count": null,
   "metadata": {
    "collapsed": false
   },
   "outputs": [],
   "source": [
    "# python imports\n",
    "import re\n",
    "import json\n",
    "from os.path import join\n",
    "\n",
    "# third party imports\n",
    "import pandas\n",
    "import escher\n",
    "import cobra.test\n",
    "\n",
    "# ecoli me\n",
    "from ecolime.flat_files import *\n",
    "\n",
    "from minime import *\n",
    "from minime.util.building import build_reactions_from_genbank, add_transcription_reaction\n",
    "from minime.solve.algorithms import binary_search, fva, solve_at_growth_rate\n",
    "from minime.solve.symbolic import compile_expressions"
   ]
  },
  {
   "cell_type": "markdown",
   "metadata": {},
   "source": [
    "## Begin by loading metabolites"
   ]
  },
  {
   "cell_type": "code",
   "execution_count": null,
   "metadata": {
    "collapsed": true
   },
   "outputs": [],
   "source": [
    "def fix_id(id_str):\n",
    "    return id_str.replace(\"_DASH_\", \"__\")"
   ]
  },
  {
   "cell_type": "code",
   "execution_count": null,
   "metadata": {
    "collapsed": false
   },
   "outputs": [],
   "source": [
    "me = MEmodel(\"iJO1366-ME\")\n",
    "me.id = \"iJO1366-ME\"\n",
    "me.compartments = {\"p\": \"Periplasm\", \"e\": \"Extra-organism\",\n",
    "                   \"c\": \"Cytosol\"}\n",
    "compartment_lookup = {v: k for k, v in me.compartments.items()}"
   ]
  },
  {
   "cell_type": "code",
   "execution_count": null,
   "metadata": {
    "collapsed": false
   },
   "outputs": [],
   "source": [
    "met_info = pandas.read_csv(\n",
    "    join(ecoli_files_dir, \"metabolites.txt\"),\n",
    "    delimiter=\"\\t\", header=None, index_col=0,\n",
    "    names=[\"id\", \"name\", \"formula\", \"compartment\", \"data_source\"])"
   ]
  },
  {
   "cell_type": "code",
   "execution_count": null,
   "metadata": {
    "collapsed": false
   },
   "outputs": [],
   "source": [
    "for met_id in met_info.index:\n",
    "    fixed_id = fix_id(met_id)\n",
    "    for compartment in met_info.compartment[met_id].split(\"AND\"):\n",
    "        compartment = compartment.strip()\n",
    "        if compartment == \"No_Compartment\":\n",
    "            print \"Assigned %s to e\" % met_id\n",
    "            compartment = me.compartments[\"e\"]\n",
    "        metab = Metabolite(fixed_id + \"_\" + compartment_lookup[compartment])\n",
    "        metab.name = met_info.name[met_id]\n",
    "    \n",
    "        metab.formula = met_info.formula[met_id]\n",
    "        me.add_metabolites(metab)"
   ]
  },
  {
   "cell_type": "markdown",
   "metadata": {},
   "source": [
    "Add generic ions to simplify complexes"
   ]
  },
  {
   "cell_type": "code",
   "execution_count": null,
   "metadata": {
    "collapsed": false
   },
   "outputs": [],
   "source": [
    "divalent_list = divalent_list\n",
    "monovalent_list = monovalent_list\n",
    "comp = \"_c\"  # compartment\n",
    "# Divalent\n",
    "div = cobra.Metabolite('generic_divalent' + comp)\n",
    "div.name = 'Generic divalent ion'\n",
    "me.add_metabolites(div)\n",
    "for ion in divalent_list:\n",
    "    rxn1 = cobra.Reaction(ion + comp + '_to_generic')\n",
    "    ion_dict = {}\n",
    "    met1 = me.metabolites.get_by_id(ion + comp)\n",
    "    ion_dict[met1] = -1\n",
    "    ion_dict[div] = 1\n",
    "    rxn1.add_metabolites(ion_dict)\n",
    "    me.add_reaction(rxn1)\n",
    "# Monovalent\n",
    "mono = cobra.Metabolite('generic_monovalent' + comp)\n",
    "mono.name = 'Generic monovalent ion'\n",
    "for ion in monovalent_list:\n",
    "    rxn2 = cobra.Reaction(ion + comp + '_to_generic')\n",
    "    ion_dict = {}\n",
    "    met2 = me.metabolites.get_by_id(ion + comp)\n",
    "    ion_dict[met2] = -1\n",
    "    ion_dict[mono] = 1\n",
    "    rxn2.add_metabolites(ion_dict)\n",
    "    me.add_reaction(rxn2)"
   ]
  },
  {
   "cell_type": "markdown",
   "metadata": {},
   "source": [
    "## Build Metabolic reactions"
   ]
  },
  {
   "cell_type": "code",
   "execution_count": null,
   "metadata": {
    "collapsed": false
   },
   "outputs": [],
   "source": [
    "reaction_info = get_reaction_info_frame()\n",
    "reaction_dict = get_reaction_matrix_dict()"
   ]
  },
  {
   "cell_type": "code",
   "execution_count": null,
   "metadata": {
    "collapsed": false
   },
   "outputs": [],
   "source": [
    "for r_id in reaction_info.index:\n",
    "    reaction = StoichiometricData(r_id, me)\n",
    "    reaction._stoichiometry = {fix_id(k): v\\\n",
    "                               for k, v in reaction_dict[r_id].items()}\n",
    "    reaction.lower_bound = \\\n",
    "        -1000. if reaction_info.is_reversible[r_id] else 0.\n",
    "    reaction.upper_bound = 1000."
   ]
  },
  {
   "cell_type": "markdown",
   "metadata": {},
   "source": [
    "Also make a dummy reaction"
   ]
  },
  {
   "cell_type": "code",
   "execution_count": null,
   "metadata": {
    "collapsed": false
   },
   "outputs": [],
   "source": [
    "dummy = StoichiometricData(\"dummy_reaction\", me)\n",
    "dummy.lower_bound = 0\n",
    "dummy.upper_bound = 1000\n",
    "dummy._stoichiometry = {}"
   ]
  },
  {
   "cell_type": "markdown",
   "metadata": {},
   "source": [
    "Boundary Reactions"
   ]
  },
  {
   "cell_type": "code",
   "execution_count": null,
   "metadata": {
    "collapsed": false
   },
   "outputs": [],
   "source": [
    "sources_sinks = pandas.read_csv(join(ecoli_files_dir, \"reaction_matrix_sources_and_sinks.txt\"), delimiter=\"\\t\",\n",
    "                                header=None, names=[\"rxn_id\", \"met_id\", \"compartment\", \"stoic\"], index_col=1)\n",
    "sources_sinks.index = [fix_id(i) for i in sources_sinks.index]\n",
    "\n",
    "source_amounts = pandas.read_csv(join(ecoli_files_dir, \"exchange_bounds.txt\"),\n",
    "                                 delimiter=\"\\t\", index_col=0, names=[\"met_id\", \"amount\"])\n",
    "source_amounts.index = [fix_id(i) for i in source_amounts.index]\n",
    "\n",
    "\n",
    "for met_id in sources_sinks.index:\n",
    "    model_met_id = met_id + \"_\" + compartment_lookup[sources_sinks.compartment[met_id]]\n",
    "    # EX_ or DM_ + met_id\n",
    "    reaction_id = sources_sinks.rxn_id[met_id][:3] + model_met_id\n",
    "    reaction = cobra.Reaction(reaction_id)\n",
    "    me.add_reaction(reaction)\n",
    "    reaction.add_metabolites({me.metabolites.get_by_id(model_met_id): -1})\n",
    "    # set bounds on exchanges\n",
    "    if reaction.id.startswith(\"EX_\") and met_id in source_amounts.index:\n",
    "        reaction.lower_bound = -source_amounts.amount[met_id]"
   ]
  },
  {
   "cell_type": "markdown",
   "metadata": {},
   "source": [
    "Set bounds on boundary reactions"
   ]
  },
  {
   "cell_type": "markdown",
   "metadata": {},
   "source": [
    "## Build ribosome and RNA Polymerase"
   ]
  },
  {
   "cell_type": "code",
   "execution_count": null,
   "metadata": {
    "collapsed": false,
    "scrolled": true
   },
   "outputs": [],
   "source": [
    "ribosome_complex = ComplexData(\"ribosome\", me)\n",
    "ribosome_components = ribosome_complex.stoichiometry\n",
    "for i in [\"b3851\", \"b3854\", \"b3855\"]:\n",
    "    ribosome_components[\"RNA_\" + i] = 1\n",
    "# 30S Listed as [rpsA -rpsU], sra \n",
    "# [rplA-rplF],  rplI, [rplK-rplY],\n",
    "# [rpmA-rpmJ]\n",
    "\n",
    "for i in [\"b0911\", \"b0169\", \"b3314\", \"b3296\", \"b3303\", \"b4200\", \"b3341\",\n",
    "          \"b3306\", \"b3230\", \"b3321\", \"b3297\", \"b3342\", \"b3298\", \"b3307\", \n",
    "          \"b3165\", \"b2609\", \"b3311\", \"b4202\", \"b3316\", \"b0023\", \"b3065\",\n",
    "          \"b1480\"]:\n",
    "    ribosome_components[\"protein_\" + i] = 1\n",
    "    \n",
    "# 50S listed as [rplA-rplF],rplJ, rplI, rplK [rplM-rplY], [rpmA-rpmJ]    \n",
    "for i in [\"b3984\", \"b3317\", \"b3320\", \"b3319\", \"b3308\", \"b3305\", \n",
    "          \"b3958\", \"b4203\", \"b3983\", \"b3231\", \"b3310\", \"b3301\",\n",
    "          \"b3313\", \"b3294\", \"b3304\", \"b2606\", \"b1716\", \"b3186\",\n",
    "          \"b3315\", \"b3318\", \"b3309\", \"b2185\", \n",
    "          \"b3185\", \"b3637\", \"b3312\", \"b3302\", \"b3936\", \"b1089\", \n",
    "          \"b3636\", \"b3703\", \"b1717\", \"b3299\"]:\n",
    "    ribosome_components[\"protein_\" + i] = 1\n",
    "# [rplJ, 2(2[rplL7])]\n",
    "ribosome_components[\"protein_\" + \"b3986\"] = 4\n",
    "\n",
    "ribosome_complex.create_complex_formation()"
   ]
  },
  {
   "cell_type": "code",
   "execution_count": null,
   "metadata": {
    "collapsed": false
   },
   "outputs": [],
   "source": [
    "RNAP_complex = ComplexData(\"RNA_Polymerase\", me)\n",
    "RNAP_components = RNAP_complex.stoichiometry\n",
    "# Core RNA Polymerase Enzyme\n",
    "for i in {\"b3295\" : \"rpoA\", \"b3988\" : \"rpoC\", \"b3987\" : \"rpoB\"}:\n",
    "    if i == \"b3295\":\n",
    "        RNAP_components[\"protein_\" + i] = 2\n",
    "    else:\n",
    "        RNAP_components[\"protein_\" + i] = 1\n",
    "\n",
    "RNAP_complex.create_complex_formation()"
   ]
  },
  {
   "cell_type": "markdown",
   "metadata": {},
   "source": [
    "### Add Transcription/Translation from the genbank file"
   ]
  },
  {
   "cell_type": "code",
   "execution_count": null,
   "metadata": {
    "collapsed": false,
    "scrolled": true
   },
   "outputs": [],
   "source": [
    "build_reactions_from_genbank(me, join(ecoli_files_dir, \"NC_000913.2.gb\"))"
   ]
  },
  {
   "cell_type": "markdown",
   "metadata": {},
   "source": [
    "Add a dummy protein in as well"
   ]
  },
  {
   "cell_type": "code",
   "execution_count": null,
   "metadata": {
    "collapsed": false
   },
   "outputs": [],
   "source": [
    "dna_sequence = \"ATG\" + \"TTT\" * 5 + \"TAT\"*5+ \"ACG\"*5 + \"GAT\" *5 + \"AGT\"*5 + \"TAA\"\n",
    "add_transcription_reaction(me, \"dummy\", {\"dummy\"}, dna_sequence)\n",
    "me.add_metabolites(TranslatedGene(\"protein_\" + \"dummy\"))\n",
    "translation = TranslationReaction(\"translation_\" + \"dummy\")\n",
    "me.add_reaction(translation)\n",
    "translation.translation_data = TranslationData(\"dummy\", me, \"RNA_dummy\", \"protein_dummy\")\n",
    "translation.translation_data.compute_sequence_from_DNA(dna_sequence)\n",
    "translation.update()\n",
    "\n",
    "complex_data = ComplexData(\"CPLX_dummy\", me)\n",
    "complex_data.stoichiometry = {}\n",
    "complex_data.stoichiometry[\"protein_\" + \"dummy\"] = 1\n",
    "complex_data.create_complex_formation()"
   ]
  },
  {
   "cell_type": "markdown",
   "metadata": {},
   "source": [
    "## Associate the tRNA synthetases"
   ]
  },
  {
   "cell_type": "markdown",
   "metadata": {},
   "source": [
    "The tRNA charging reactions were automatically added when loading the genome from the genbank file. However, the charging reactions still need to be made aware of the tRNA synthetases which are responsible."
   ]
  },
  {
   "cell_type": "code",
   "execution_count": null,
   "metadata": {
    "collapsed": true
   },
   "outputs": [],
   "source": [
    "with open(join(ecoli_files_dir, \"amino_acid_tRNA_synthetase.json\"), \"rb\") as infile:\n",
    "    aa_synthetase_dict = json.load(infile)\n",
    "for data in me.tRNA_data:\n",
    "    data.synthetase = str(aa_synthetase_dict[data.amino_acid])"
   ]
  },
  {
   "cell_type": "code",
   "execution_count": null,
   "metadata": {
    "collapsed": false
   },
   "outputs": [],
   "source": [
    "me.tRNA_data.tRNA_b1230.synthetase"
   ]
  },
  {
   "cell_type": "markdown",
   "metadata": {},
   "source": [
    "### Add in complex Formation with modifications"
   ]
  },
  {
   "cell_type": "code",
   "execution_count": null,
   "metadata": {
    "collapsed": false
   },
   "outputs": [],
   "source": [
    "# ME_complex_dict is a dict of {'complex_id': ['bnum(count)']}\n",
    "ME_complex_dict = get_complex_to_bnum_dict()\n",
    "# some entries in the file need to be renamed\n",
    "renames = {\"MnmE_\": \"b3706\", \"MnmG_\": \"b3741\", \"YheM_\": \"b3344\", \"YheL_\": \"b3343\", \"YheN_\": \"b3345\"}\n",
    "rna_components = {\"b3123\"}  # component id should have RNA_ instead of protein_\n",
    "\n",
    "for cplx, value in ME_complex_dict.iteritems():\n",
    "    complex_data = ComplexData(cplx, me)\n",
    "    for gene in value:\n",
    "        stoichiometry = gene[6]\n",
    "        bnum = gene[0:5]\n",
    "        comp_id = \"RNA_\" + bnum if bnum in rna_components \\\n",
    "            else \"protein_\" + renames.get(bnum, bnum)\n",
    "        try:\n",
    "            complex_data.stoichiometry[comp_id] = float(stoichiometry)\n",
    "        except:\n",
    "            complex_data.stoichiometry[comp_id] = float(1)"
   ]
  },
  {
   "cell_type": "code",
   "execution_count": null,
   "metadata": {
    "collapsed": false
   },
   "outputs": [],
   "source": [
    "# {modified_complex_id: ['unmodified_complex_id', {component_id: stoic}]\n",
    "modification_dict = get_protein_modification_dict(generic=True)\n",
    "for mod_cplx_id, mod_complex_info in iteritems(modification_dict):\n",
    "    unmod_cplx_id, mods = mod_complex_info\n",
    "    unmod_cplx = me.complex_data.get_by_id(unmod_cplx_id)\n",
    "    cplx = ComplexData(mod_cplx_id, me)\n",
    "    cplx.stoichiometry = unmod_cplx.stoichiometry\n",
    "    cplx.translocation = unmod_cplx.translocation\n",
    "    cplx.chaperones = unmod_cplx.chaperones\n",
    "    if len(set(mod_cplx_id.split(\"_mod_\")[1:])) == len(mods):\n",
    "        for mod_comp, mod_count in iteritems(mods):\n",
    "            mod_id = \"mod_\" + mod_comp\n",
    "            try:\n",
    "                mod = me.modification_data.get_by_id(mod_id)\n",
    "            except:\n",
    "                mod = ModificationData(mod_id, me)\n",
    "                mod.stoichiometry = {mod_comp: -1}\n",
    "            cplx.modifications[mod_id] = -mod_count\n",
    "    else:\n",
    "        print \"TODO:\", mod_cplx_id"
   ]
  },
  {
   "cell_type": "markdown",
   "metadata": {},
   "source": [
    "Some modifications are enzyme-catalyzed\n",
    "\n",
    "TODO: Fe-S enzyme-catalyzed modifications"
   ]
  },
  {
   "cell_type": "code",
   "execution_count": null,
   "metadata": {
    "collapsed": false
   },
   "outputs": [],
   "source": [
    "# two different reactiond can add a lipoate modification.\n",
    "# We create a separate ModificationData for each one\n",
    "lipo = me.modification_data.get_by_id(\"mod_lipo_c\")\n",
    "alt_lipo = ModificationData(\"mod_lipo_c_alt\", me)\n",
    "alt_lipo.stoichiometry = lipo.stoichiometry\n",
    "\n",
    "lipo.stoichiometry = {\"lipoamp_c\": -1, \"amp_c\": 1}\n",
    "lipo.enzyme = 'EG11796-MONOMER'\n",
    "lipo.keff = 65.\n",
    "\n",
    "alt_lipo.stoichiometry = {'EG50003-MONOMER_mod_pan4p_mod_lipo':-1,\n",
    "                          'EG50003-MONOMER_mod_pan4p':1,\n",
    "                          'h_c':-1,}\n",
    "\n",
    "alt_lipo.enzyme = 'EG11591-MONOMER'\n",
    "alt_lipo.keff = 65.\n",
    "\n",
    "for cplx_data in lipo.get_complex_data():\n",
    "    alt_cplx_data = ComplexData(cplx_data.id + \"alt\", me)\n",
    "    alt_cplx_data.complex_id = cplx_data.complex_id\n",
    "    alt_cplx_data.translocation = cplx_data.translocation\n",
    "    alt_cplx_data.chaperones = cplx_data.chaperones\n",
    "    alt_cplx_data.modifications = cplx_data.modifications\n",
    "    alt_cplx_data.modifications[alt_lipo.id] = \\\n",
    "        alt_cplx_data.modifications.pop(lipo.id)"
   ]
  },
  {
   "cell_type": "code",
   "execution_count": null,
   "metadata": {
    "collapsed": true
   },
   "outputs": [],
   "source": [
    "# todo bmocogdp_c mods\n",
    "mod_catalysts = {'CPLX0-1762':'G6712-MONOMER', # FE-S modification\n",
    "                 'TMAOREDUCTI-CPLX':'EG12195-MONOMER',\n",
    "                 'DIMESULFREDUCT-CPLX':'G6849-MONOMER',\n",
    "                 'NITRATREDUCTA-CPLX':'NARJ-MONOMER', \n",
    "                 'NITRATREDUCTZ-CPLX':'NARW-MONOMER',\n",
    "                 'NAP-CPLX':'NAPD-MONOMER',\n",
    "                 'NAPAB-CPLX_NAPC-MONOMER':'NAPD-MONOMER'}"
   ]
  },
  {
   "cell_type": "code",
   "execution_count": null,
   "metadata": {
    "collapsed": false
   },
   "outputs": [],
   "source": [
    "target_list = ['4fe4s_c', 'LI_c', '2fe2s_c', '3fe4s_c',\n",
    "               'NiFeCoCN2_c']#, 'sheme_c']\n",
    "              #'tl_c', '23bpg_c', 'acetyl_c', 'dpm_c', 'hemed_c\n",
    "\n",
    "#target_list.extend(\n",
    "#    ['EG50003-MONOMER_mod_pan4p', 'CPLX0-782_mod_2:4fe4s',\n",
    "#     'EG50003-MONOMER_mod_pan4p_mod_oc', 'CPLX0-782_mod_1:2fe2s_mod_1:4fe4s'])\n",
    "\n",
    "for met_id in target_list:\n",
    "    r = cobra.Reaction(\"EX_\" + met_id)\n",
    "    me.add_reaction(r)\n",
    "    r.reaction = met_id + \" <=> \""
   ]
  },
  {
   "cell_type": "markdown",
   "metadata": {},
   "source": [
    "Build all complex formation reactions\n",
    "\n",
    "TODO: This shouldn't be prining out stuff. Fix them."
   ]
  },
  {
   "cell_type": "code",
   "execution_count": null,
   "metadata": {
    "collapsed": false
   },
   "outputs": [],
   "source": [
    "list(me.modification_data.mod_NiFeCoCN2_c.get_complex_data())"
   ]
  },
  {
   "cell_type": "code",
   "execution_count": null,
   "metadata": {
    "collapsed": false
   },
   "outputs": [],
   "source": [
    "for c in me.complex_data:\n",
    "    if \"mod_acetyl_c\" in c.modifications:\n",
    "        print c"
   ]
  },
  {
   "cell_type": "code",
   "execution_count": null,
   "metadata": {
    "collapsed": false,
    "scrolled": true
   },
   "outputs": [],
   "source": [
    "for cplx_data in me.complex_data:\n",
    "    formation = cplx_data.formation\n",
    "    if formation:\n",
    "        formation.update()\n",
    "    else:\n",
    "        cplx_data.create_complex_formation()"
   ]
  },
  {
   "cell_type": "markdown",
   "metadata": {},
   "source": [
    "Crutch reactions for mets that are blocked. TODO remove"
   ]
  },
  {
   "cell_type": "markdown",
   "metadata": {},
   "source": [
    "## Associate Complexes with Reactions"
   ]
  },
  {
   "cell_type": "code",
   "execution_count": null,
   "metadata": {
    "collapsed": false
   },
   "outputs": [],
   "source": [
    "# associate reaction id with the old ME complex id (including modifications)\n",
    "rxnToModCplxDict = get_reaction_to_modified_complex(generic=True)"
   ]
  },
  {
   "cell_type": "code",
   "execution_count": null,
   "metadata": {
    "collapsed": false
   },
   "outputs": [],
   "source": [
    "for reaction_data in me.stoichiometric_data:\n",
    "    # Some reactions have no complex associated. Determine if they are\n",
    "    # spontaneous or orphan reactions.\n",
    "    try:\n",
    "        complexes = rxnToModCplxDict[reaction_data.id]\n",
    "    except KeyError:\n",
    "        # These are orphans catalyzed by a dummy\n",
    "        if reaction_data.id == \"dummy_reaction\" or \\\n",
    "                not reaction_info.is_spontaneous[reaction_data.id]:\n",
    "            complexes = [\"CPLX_dummy\"]\n",
    "        # These are truly spontaneous\n",
    "        else:\n",
    "            complexes = [None]\n",
    "    for complex_id in complexes:\n",
    "        complex_data = me.complex_data.get_by_id(complex_id) if complex_id else None\n",
    "        if reaction_data.lower_bound < 0:\n",
    "            r = MetabolicReaction(reaction_data.id + \"_REV_\" + str(complex_id))\n",
    "            me.add_reaction(r)\n",
    "            r.keff = 65\n",
    "            r.stoichiometric_data = reaction_data\n",
    "            if complex_data is not None:\n",
    "                r.complex_data = complex_data\n",
    "            r.reverse = True\n",
    "            r.update(create_new=True)\n",
    "        if reaction_data.upper_bound > 0:\n",
    "            r = MetabolicReaction(reaction_data.id + \"_FWD_\" + str(complex_id))\n",
    "            me.add_reaction(r)\n",
    "            r.keff = 65\n",
    "            r.stoichiometric_data = reaction_data\n",
    "            if complex_data is not None:\n",
    "                r.complex_data = complex_data\n",
    "            r.reverse = False\n",
    "            r.update(create_new=True)"
   ]
  },
  {
   "cell_type": "code",
   "execution_count": null,
   "metadata": {
    "collapsed": false
   },
   "outputs": [],
   "source": [
    "# This reaction is weird\n",
    "me.reactions.get_by_id('CITLY-CPLX_2tpr3dpcoa_FWD_G6340-MONOMER').reaction"
   ]
  },
  {
   "cell_type": "markdown",
   "metadata": {},
   "source": [
    "Rebuild transcription and translation to use tRNA (now that tRNA synthetase complexes are in the model"
   ]
  },
  {
   "cell_type": "code",
   "execution_count": null,
   "metadata": {
    "collapsed": false,
    "scrolled": true
   },
   "outputs": [],
   "source": [
    "for r in me.reactions:\n",
    "    if isinstance(r, tRNAChargingReaction2):\n",
    "        r.update()\n",
    "for r in me.reactions:\n",
    "    if isinstance(r, TranslationReaction2):\n",
    "        r.update()\n",
    "    if isinstance(r, TranscriptionReaction):\n",
    "        r.update()\n",
    "    if isinstance(r, MetabolicReaction):\n",
    "        r.update()"
   ]
  },
  {
   "cell_type": "markdown",
   "metadata": {},
   "source": [
    "Remove unused protein and mRNA to make the model solve faster (TODO remove unused complexes too)"
   ]
  },
  {
   "cell_type": "code",
   "execution_count": null,
   "metadata": {
    "collapsed": false
   },
   "outputs": [],
   "source": [
    "for c_d in me.complex_data:\n",
    "    c = c_d.complex\n",
    "    if len(c.reactions) == 1:\n",
    "        list(c.reactions)[0].delete(remove_orphans=True)\n",
    "for p in me.metabolites.query(\"protein\"):\n",
    "    if len(p._reaction) == 1:\n",
    "        list(p._reaction)[0].delete(remove_orphans=True)\n",
    "for m in me.metabolites.query(\"RNA\"):\n",
    "    if len(m._reaction) == 1:\n",
    "        list(m._reaction)[0].delete(remove_orphans=True)"
   ]
  },
  {
   "cell_type": "markdown",
   "metadata": {},
   "source": [
    "This gives the total number of genes included"
   ]
  },
  {
   "cell_type": "code",
   "execution_count": null,
   "metadata": {
    "collapsed": false
   },
   "outputs": [],
   "source": [
    "len(me.reactions.query(\"transcription\"))"
   ]
  },
  {
   "cell_type": "markdown",
   "metadata": {},
   "source": [
    "## Attempt to set keffs"
   ]
  },
  {
   "cell_type": "code",
   "execution_count": null,
   "metadata": {
    "collapsed": false,
    "scrolled": true
   },
   "outputs": [],
   "source": [
    "divalent_list = divalent_list\n",
    "monovalent_list = ['_mod_k','_mod_na1']\n",
    "from pickle import load\n",
    "with open(\"test_keffs.pickle\", \"rb\") as infile:\n",
    "    old_keffs = load(infile)\n",
    "keffs = {}\n",
    "\n",
    "for keff, value in old_keffs.items():\n",
    "    for i in divalent_list: \n",
    "        keff = keff.replace(i, 'generic_divalent')\n",
    "    for i in monovalent_list: \n",
    "        keff = keff.replace(i, '_mod_generic_monovalent')\n",
    "    keffs[keff] = value\n",
    "    \n",
    "for r in me.reactions:\n",
    "    if isinstance(r, MetabolicReaction) and r.complex_data is None:\n",
    "        continue\n",
    "    if isinstance(r, MetabolicReaction) and r.complex_data.id != \"CPLX_dummy\":\n",
    "        met_rxn = r\n",
    "        key = met_rxn.id.replace(\"-\", \"_DASH_\").replace(\"__\", \"_DASH_\").replace(\":\",\"_COLON_\")\n",
    "        #key = met_rxn.id\n",
    "        key = \"keff_\" + key.replace(\"_FWD_\", \"_\").replace(\"_REV_\", \"_\")\n",
    "\n",
    "        matches = [i for i in keffs if key in i]\n",
    "        # get the direction\n",
    "        if met_rxn.reverse:\n",
    "            matches = [i for i in matches if i.endswith(\"_reverse_priming_keff\")]\n",
    "        else:\n",
    "            matches = [i for i in matches if i.endswith(\"_forward_priming_keff\")]\n",
    "        if len(matches) == 1:\n",
    "            met_rxn.keff = keffs[matches[0]]\n",
    "        elif len(matches) > 0:\n",
    "            if len(matches) == len([i for i in matches if key + \"_mod_\"]):\n",
    "                met_rxn.keff = keffs[matches[0]]\n",
    "            else:\n",
    "                print key, len(matches)\n",
    "        else:  # len(matches) == 0\n",
    "            print \"no keff found for\", key"
   ]
  },
  {
   "cell_type": "markdown",
   "metadata": {},
   "source": [
    "## Solve"
   ]
  },
  {
   "cell_type": "code",
   "execution_count": null,
   "metadata": {
    "collapsed": true
   },
   "outputs": [],
   "source": [
    "me.reactions.dummy_reaction_FWD_CPLX_dummy.objective_coefficient = 1."
   ]
  },
  {
   "cell_type": "code",
   "execution_count": null,
   "metadata": {
    "collapsed": false,
    "scrolled": true
   },
   "outputs": [],
   "source": [
    "KO_list = ['DHPTDNR','DHPTDNRN', 'SUCASPtpp','SUCFUMtpp', 'SUCMALtpp', 'SUCTARTtpp', \n",
    "           'CAT', 'FHL', 'SPODM', 'SPODMp']\n",
    "for reaction in KO_list:\n",
    "    a = me.reactions.query(reaction+'_')\n",
    "    for rxn in a:\n",
    "        rxn.upper_bound = 0\n",
    "        rxn.lower_bound = 0"
   ]
  },
  {
   "cell_type": "code",
   "execution_count": null,
   "metadata": {
    "collapsed": true
   },
   "outputs": [],
   "source": [
    "me.reactions.EX_glc__D_e.lower_bound = -100"
   ]
  },
  {
   "cell_type": "code",
   "execution_count": null,
   "metadata": {
    "collapsed": true
   },
   "outputs": [],
   "source": [
    "expressions = compile_expressions(me)"
   ]
  },
  {
   "cell_type": "code",
   "execution_count": null,
   "metadata": {
    "collapsed": false
   },
   "outputs": [],
   "source": [
    "solve_at_growth_rate(me, 0.1, compiled_expressions=expressions)"
   ]
  },
  {
   "cell_type": "code",
   "execution_count": null,
   "metadata": {
    "collapsed": false,
    "scrolled": true
   },
   "outputs": [],
   "source": [
    "binary_search(me, min_mu=0, max_mu=1.0, mu_accuracy=1e-6,\n",
    "              compiled_expressions=expressions)"
   ]
  },
  {
   "cell_type": "code",
   "execution_count": null,
   "metadata": {
    "collapsed": false
   },
   "outputs": [],
   "source": [
    "me.reactions.GAP"
   ]
  },
  {
   "cell_type": "code",
   "execution_count": null,
   "metadata": {
    "collapsed": false
   },
   "outputs": [],
   "source": [
    "import escher\n",
    "view = escher.Builder(\"iJO1366.Central metabolism\")\n",
    "view.reaction_data = me.get_metabolic_flux()\n",
    "view.display_in_notebook()"
   ]
  },
  {
   "cell_type": "code",
   "execution_count": null,
   "metadata": {
    "collapsed": false
   },
   "outputs": [],
   "source": [
    "me.compute_solution_error()"
   ]
  },
  {
   "cell_type": "code",
   "execution_count": null,
   "metadata": {
    "collapsed": true
   },
   "outputs": [],
   "source": [
    "def find_met_reactions(met_id):\n",
    "    return [i for i in me.metabolites.get_by_id(met_id).reactions]\n",
    "            #if not isinstance(i, (TranslationReaction, TranscriptionReaction))]"
   ]
  },
  {
   "cell_type": "code",
   "execution_count": null,
   "metadata": {
    "collapsed": false
   },
   "outputs": [],
   "source": [
    "met = \"\"\n",
    "r = cobra.Reaction(\"DM_\" + met)\n",
    "me.add_reaction(r)\n",
    "r.reaction = met + \" --> \""
   ]
  },
  {
   "cell_type": "code",
   "execution_count": null,
   "metadata": {
    "collapsed": false,
    "scrolled": true
   },
   "outputs": [],
   "source": [
    "fva_results = fva(me, .5, find_met_reactions(met), compiled_expressions=expressions)\n",
    "res = pandas.DataFrame.from_dict(fva_results).T\n",
    "res"
   ]
  }
 ],
 "metadata": {
  "kernelspec": {
   "display_name": "Python 2",
   "language": "python",
   "name": "python2"
  },
  "language_info": {
   "codemirror_mode": {
    "name": "ipython",
    "version": 2
   },
   "file_extension": ".py",
   "mimetype": "text/x-python",
   "name": "python",
   "nbconvert_exporter": "python",
   "pygments_lexer": "ipython2",
   "version": "2.7.6"
  }
 },
 "nbformat": 4,
 "nbformat_minor": 0
}
