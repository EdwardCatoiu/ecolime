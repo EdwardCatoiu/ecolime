{
 "cells": [
  {
   "cell_type": "markdown",
   "metadata": {},
   "source": [
    "\n",
    "# Build a basic ME model"
   ]
  },
  {
   "cell_type": "markdown",
   "metadata": {},
   "source": [
    "We will try to build an ME model from the NC_000913.2 Genbank file, the iJO1366 M model, and the complex reconstruction from iJL1650-ME"
   ]
  },
  {
   "cell_type": "code",
   "execution_count": 1,
   "metadata": {
    "collapsed": false
   },
   "outputs": [
    {
     "name": "stdout",
     "output_type": "stream",
     "text": [
      "Building a full ME model. Run prepare_for_minime() to make minimal model\n"
     ]
    }
   ],
   "source": [
    "# python imports\n",
    "import re\n",
    "import json\n",
    "from os.path import join\n",
    "\n",
    "# third party imports\n",
    "import pandas\n",
    "import escher\n",
    "import cobra.test\n",
    "\n",
    "# ecoli me\n",
    "import ecolime\n",
    "from ecolime.flat_files import *\n",
    "from ecolime.ecoli_k12 import *\n",
    "from ecolime import ribosome\n",
    "\n",
    "from minime import *\n",
    "from minime.util import building\n",
    "from minime.util.building import add_ribosome, add_RNA_polymerase\n",
    "from minime.util.building import add_complex_stoichiometry_data, add_transcription_reaction\n",
    "from minime.util.building import add_complex_modification_data\n",
    "from minime.util.building import add_metabolic_reactions\n",
    "from minime.solve.algorithms import binary_search, fva, solve_at_growth_rate\n",
    "from minime.solve.symbolic import compile_expressions"
   ]
  },
  {
   "cell_type": "code",
   "execution_count": 2,
   "metadata": {
    "collapsed": true
   },
   "outputs": [],
   "source": [
    "import cobra.test\n",
    "ijo = cobra.test.create_test_model('ecoli')"
   ]
  },
  {
   "cell_type": "markdown",
   "metadata": {},
   "source": [
    "# Colton TODOs \n",
    "- 1) look into all of the free modifications in the original ME and make sure none of thes reactions are blocked\n",
    "- 2) Frameshifts (b2891)\n",
    "- 3) selenocysteine\n",
    "- 4) None AUG start codons (15%)\n",
    "- 5) moaD is a modifier protein that never has to be made"
   ]
  },
  {
   "cell_type": "code",
   "execution_count": 3,
   "metadata": {
    "collapsed": true
   },
   "outputs": [],
   "source": [
    "from minime.util.mass import compute_RNA_mass"
   ]
  },
  {
   "cell_type": "markdown",
   "metadata": {},
   "source": [
    "## Begin by loading metabolites and build Metabolic reactions"
   ]
  },
  {
   "cell_type": "code",
   "execution_count": 4,
   "metadata": {
    "collapsed": false
   },
   "outputs": [
    {
     "name": "stdout",
     "output_type": "stream",
     "text": [
      "Assigned tl to c\n",
      "Assigned hemed to c\n",
      "Assigned pqq to c\n",
      "Assigned dpm to c\n",
      "Assigned 23bpg to c\n",
      "Assigned tqn to c\n"
     ]
    }
   ],
   "source": [
    "me = MEmodel('iJO1366-ME')\n",
    "m_model = ecolime.get_m_model()\n",
    "# some of the \"metabolites\" in iJO1366 \"M\" model are actually complexes. We pass those in\n",
    "# so they get created as complexes, not metabolites.\n",
    "complex_list = []\n",
    "complex_list.extend(i.id for i in m_model.metabolites if i.id.startswith(\"CPLX\"))\n",
    "complex_list.extend(i.id for i in m_model.metabolites if i.id.startswith(\"EG\"))\n",
    "complex_list.extend(i.id for i in m_model.metabolites if \"-MONOMER\" in i.id)\n",
    "complex_list.extend(i.id for i in m_model.metabolites if \"-CPLX\" in i.id)\n",
    "complex_list.extend(i.id for i in m_model.metabolites if \"_mod_\" in i.id)\n",
    "# temp fix\n",
    "complex_list.extend(i.id for i in m_model.metabolites if i.id.startswith(\"Isc\"))\n",
    "complex_list.extend(i.id for i in m_model.metabolites if i.id.startswith(\"Suf\"))\n",
    "complex_list = set(complex_list)\n",
    "building.add_m_model_content(me, m_model, complex_metabolite_ids=complex_list)\n",
    "\n",
    "# if the bounds of this metabolite aren't open, model uses wrong reactions\n",
    "me.reactions.EX_pqq_e.lower_bound = -1000"
   ]
  },
  {
   "cell_type": "markdown",
   "metadata": {},
   "source": [
    "Sometimes multiple entities can perform the same role. To prevent a combinatorial explosion of possibilities, we can create  \"generic\" version, where any of those entities can fill in."
   ]
  },
  {
   "cell_type": "code",
   "execution_count": 5,
   "metadata": {
    "collapsed": false
   },
   "outputs": [],
   "source": [
    "for generic, components in get_generics(generic_ions=False).items():\n",
    "    GenericData(generic, me, components).create_reactions()"
   ]
  },
  {
   "cell_type": "markdown",
   "metadata": {},
   "source": [
    "## Build ribosome and RNA Polymerase"
   ]
  },
  {
   "cell_type": "markdown",
   "metadata": {},
   "source": [
    "### Add translation-related Subreactions"
   ]
  },
  {
   "cell_type": "code",
   "execution_count": 6,
   "metadata": {
    "collapsed": false
   },
   "outputs": [],
   "source": [
    "for subreaction in ribosome.translation_subreactions:\n",
    "    subreaction_data = SubreactionData(subreaction, me)\n",
    "    subreaction_data.enzyme = ribosome.translation_subreactions[subreaction]['enzyme']"
   ]
  },
  {
   "cell_type": "raw",
   "metadata": {},
   "source": [
    "df = pandas.read_clipboard()\n",
    "df.columns = ['generic', 'gene1', 'gene2', 'gene3', 'gene4', 'gene5', 'gene6', 'gene7', 'gene8']\n",
    "from collections import defaultdict\n",
    "gene_to_codon = defaultdict(list)\n",
    "for i, adict in df.T.to_dict().items():\n",
    "    if 'generic_16S' in adict.values() or 'generic_23S' in adict.values() or \\\n",
    "    'generic_5S' in adict.values():\n",
    "        print 'a'\n",
    "        continue\n",
    "    for key, value in adict.items():\n",
    "        if key != 'generic' and type(value) == str:\n",
    "            gene_to_codon[value].append(adict['generic'].replace('generic_',''))"
   ]
  },
  {
   "cell_type": "code",
   "execution_count": 7,
   "metadata": {
    "collapsed": false,
    "scrolled": true
   },
   "outputs": [
    {
     "name": "stderr",
     "output_type": "stream",
     "text": [
      "/home/sbrg-cjlloyd/minime/minime/util/building.py:205 \u001b[1;31mUserWarning\u001b[0m: No TU found for mRNA b0024\n",
      "/home/sbrg-cjlloyd/minime/minime/util/building.py:205 \u001b[1;31mUserWarning\u001b[0m: No TU found for mRNA b4586\n",
      "/home/sbrg-cjlloyd/minime/minime/util/building.py:205 \u001b[1;31mUserWarning\u001b[0m: No TU found for ncRNA b4690\n",
      "/home/sbrg-cjlloyd/minime/minime/util/building.py:205 \u001b[1;31mUserWarning\u001b[0m: No TU found for mRNA b0533\n",
      "/home/sbrg-cjlloyd/minime/minime/util/building.py:205 \u001b[1;31mUserWarning\u001b[0m: No TU found for mRNA b4588\n",
      "/home/sbrg-cjlloyd/minime/minime/util/building.py:205 \u001b[1;31mUserWarning\u001b[0m: No TU found for mRNA b4589\n",
      "/home/sbrg-cjlloyd/minime/minime/util/building.py:205 \u001b[1;31mUserWarning\u001b[0m: No TU found for mRNA b4590\n",
      "/home/sbrg-cjlloyd/minime/minime/util/building.py:205 \u001b[1;31mUserWarning\u001b[0m: No TU found for mRNA b0799\n",
      "/home/sbrg-cjlloyd/minime/minime/util/building.py:205 \u001b[1;31mUserWarning\u001b[0m: No TU found for mRNA b4705\n",
      "/home/sbrg-cjlloyd/minime/minime/util/building.py:205 \u001b[1;31mUserWarning\u001b[0m: No TU found for ncRNA b4417\n",
      "/home/sbrg-cjlloyd/minime/minime/util/building.py:205 \u001b[1;31mUserWarning\u001b[0m: No TU found for mRNA b0877\n",
      "/home/sbrg-cjlloyd/minime/minime/util/building.py:205 \u001b[1;31mUserWarning\u001b[0m: No TU found for mRNA b0952\n",
      "/home/sbrg-cjlloyd/minime/minime/util/building.py:205 \u001b[1;31mUserWarning\u001b[0m: No TU found for mRNA b1172\n",
      "/home/sbrg-cjlloyd/minime/minime/util/building.py:205 \u001b[1;31mUserWarning\u001b[0m: No TU found for mRNA b4593\n",
      "/home/sbrg-cjlloyd/minime/minime/util/building.py:205 \u001b[1;31mUserWarning\u001b[0m: No TU found for mRNA b4594\n",
      "/home/sbrg-cjlloyd/minime/minime/util/building.py:205 \u001b[1;31mUserWarning\u001b[0m: No TU found for mRNA b1181\n",
      "/home/sbrg-cjlloyd/minime/minime/util/building.py:205 \u001b[1;31mUserWarning\u001b[0m: No TU found for mRNA b4672\n",
      "/home/sbrg-cjlloyd/minime/minime/util/building.py:205 \u001b[1;31mUserWarning\u001b[0m: No TU found for ncRNA b4699\n",
      "/home/sbrg-cjlloyd/minime/minime/util/building.py:205 \u001b[1;31mUserWarning\u001b[0m: No TU found for mRNA b4674\n",
      "/home/sbrg-cjlloyd/minime/minime/util/building.py:205 \u001b[1;31mUserWarning\u001b[0m: No TU found for mRNA b1413\n",
      "/home/sbrg-cjlloyd/minime/minime/util/building.py:205 \u001b[1;31mUserWarning\u001b[0m: No TU found for mRNA b4601\n",
      "/home/sbrg-cjlloyd/minime/minime/util/building.py:205 \u001b[1;31mUserWarning\u001b[0m: No TU found for mRNA b4602\n",
      "/home/sbrg-cjlloyd/minime/minime/util/building.py:205 \u001b[1;31mUserWarning\u001b[0m: No TU found for ncRNA b4431\n",
      "/home/sbrg-cjlloyd/minime/minime/util/building.py:205 \u001b[1;31mUserWarning\u001b[0m: No TU found for mRNA b4676\n",
      "/home/sbrg-cjlloyd/minime/minime/util/building.py:205 \u001b[1;31mUserWarning\u001b[0m: No TU found for mRNA b4675\n",
      "/home/sbrg-cjlloyd/minime/minime/util/building.py:205 \u001b[1;31mUserWarning\u001b[0m: No TU found for mRNA b4677\n",
      "/home/sbrg-cjlloyd/minime/minime/util/building.py:205 \u001b[1;31mUserWarning\u001b[0m: No TU found for mRNA b1874\n",
      "/home/sbrg-cjlloyd/minime/minime/util/building.py:205 \u001b[1;31mUserWarning\u001b[0m: No TU found for mRNA b4678\n",
      "/home/sbrg-cjlloyd/minime/minime/util/building.py:205 \u001b[1;31mUserWarning\u001b[0m: No TU found for ncRNA b4436\n",
      "/home/sbrg-cjlloyd/minime/minime/util/building.py:205 \u001b[1;31mUserWarning\u001b[0m: No TU found for mRNA b4667\n",
      "/home/sbrg-cjlloyd/minime/minime/util/building.py:205 \u001b[1;31mUserWarning\u001b[0m: No TU found for ncRNA b4437\n",
      "/home/sbrg-cjlloyd/minime/minime/util/building.py:205 \u001b[1;31mUserWarning\u001b[0m: No TU found for mRNA b4668\n",
      "/home/sbrg-cjlloyd/minime/minime/util/building.py:205 \u001b[1;31mUserWarning\u001b[0m: No TU found for mRNA b4679\n",
      "/home/sbrg-cjlloyd/minime/minime/util/building.py:205 \u001b[1;31mUserWarning\u001b[0m: No TU found for mRNA b4604\n",
      "/home/sbrg-cjlloyd/minime/minime/util/building.py:205 \u001b[1;31mUserWarning\u001b[0m: No TU found for mRNA b2218\n",
      "/home/sbrg-cjlloyd/minime/minime/util/building.py:205 \u001b[1;31mUserWarning\u001b[0m: No TU found for mRNA b4543\n",
      "/home/sbrg-cjlloyd/minime/minime/util/building.py:205 \u001b[1;31mUserWarning\u001b[0m: No TU found for mRNA b4680\n",
      "/home/sbrg-cjlloyd/minime/minime/util/building.py:205 \u001b[1;31mUserWarning\u001b[0m: No TU found for mRNA b2586\n",
      "/home/sbrg-cjlloyd/minime/minime/util/building.py:205 \u001b[1;31mUserWarning\u001b[0m: No TU found for mRNA b4461\n",
      "/home/sbrg-cjlloyd/minime/minime/util/building.py:205 \u001b[1;31mUserWarning\u001b[0m: No TU found for ncRNA b4442\n",
      "/home/sbrg-cjlloyd/minime/minime/util/building.py:205 \u001b[1;31mUserWarning\u001b[0m: No TU found for ncRNA b4701\n",
      "/home/sbrg-cjlloyd/minime/minime/util/building.py:205 \u001b[1;31mUserWarning\u001b[0m: No TU found for mRNA b4682\n",
      "/home/sbrg-cjlloyd/minime/minime/util/building.py:205 \u001b[1;31mUserWarning\u001b[0m: No TU found for ncRNA b4443\n",
      "/home/sbrg-cjlloyd/minime/minime/util/building.py:205 \u001b[1;31mUserWarning\u001b[0m: No TU found for mRNA b4683\n",
      "/home/sbrg-cjlloyd/minime/minime/util/building.py:205 \u001b[1;31mUserWarning\u001b[0m: No TU found for mRNA b4684\n",
      "/home/sbrg-cjlloyd/minime/minime/util/building.py:205 \u001b[1;31mUserWarning\u001b[0m: No TU found for ncRNA b4446\n",
      "/home/sbrg-cjlloyd/minime/minime/util/building.py:205 \u001b[1;31mUserWarning\u001b[0m: No TU found for mRNA b4665\n",
      "/home/sbrg-cjlloyd/minime/minime/util/building.py:205 \u001b[1;31mUserWarning\u001b[0m: No TU found for mRNA b4664\n",
      "/home/sbrg-cjlloyd/minime/minime/util/building.py:205 \u001b[1;31mUserWarning\u001b[0m: No TU found for mRNA b4666\n",
      "/home/sbrg-cjlloyd/minime/minime/util/building.py:205 \u001b[1;31mUserWarning\u001b[0m: No TU found for mRNA b3110\n",
      "/home/sbrg-cjlloyd/minime/minime/util/building.py:205 \u001b[1;31mUserWarning\u001b[0m: No TU found for mRNA b3247\n",
      "/home/sbrg-cjlloyd/minime/minime/util/building.py:205 \u001b[1;31mUserWarning\u001b[0m: No TU found for mRNA b3248\n",
      "/home/sbrg-cjlloyd/minime/minime/util/building.py:205 \u001b[1;31mUserWarning\u001b[0m: No TU found for mRNA b4612\n",
      "/home/sbrg-cjlloyd/minime/minime/util/building.py:205 \u001b[1;31mUserWarning\u001b[0m: No TU found for ncRNA b4704\n",
      "/home/sbrg-cjlloyd/minime/minime/util/building.py:205 \u001b[1;31mUserWarning\u001b[0m: No TU found for mRNA b3529\n",
      "/home/sbrg-cjlloyd/minime/minime/util/building.py:205 \u001b[1;31mUserWarning\u001b[0m: No TU found for ncRNA b4454\n",
      "/home/sbrg-cjlloyd/minime/minime/util/building.py:205 \u001b[1;31mUserWarning\u001b[0m: No TU found for mRNA b4557\n",
      "/home/sbrg-cjlloyd/minime/minime/util/building.py:205 \u001b[1;31mUserWarning\u001b[0m: No TU found for mRNA b3705\n",
      "/home/sbrg-cjlloyd/minime/minime/util/building.py:205 \u001b[1;31mUserWarning\u001b[0m: No TU found for ncRNA b4456\n",
      "/home/sbrg-cjlloyd/minime/minime/util/building.py:205 \u001b[1;31mUserWarning\u001b[0m: No TU found for mRNA b3865\n",
      "/home/sbrg-cjlloyd/minime/minime/util/building.py:205 \u001b[1;31mUserWarning\u001b[0m: No TU found for mRNA b4686\n",
      "/home/sbrg-cjlloyd/minime/minime/util/building.py:205 \u001b[1;31mUserWarning\u001b[0m: No TU found for mRNA b3933\n",
      "/home/sbrg-cjlloyd/minime/minime/util/building.py:205 \u001b[1;31mUserWarning\u001b[0m: No TU found for mRNA b4620\n",
      "/home/sbrg-cjlloyd/minime/minime/util/building.py:205 \u001b[1;31mUserWarning\u001b[0m: No TU found for mRNA b4621\n",
      "/home/sbrg-cjlloyd/minime/minime/util/building.py:205 \u001b[1;31mUserWarning\u001b[0m: No TU found for mRNA b4622\n",
      "/home/sbrg-cjlloyd/minime/minime/util/building.py:205 \u001b[1;31mUserWarning\u001b[0m: No TU found for mRNA b4703\n",
      "/home/sbrg-cjlloyd/minime/minime/util/building.py:205 \u001b[1;31mUserWarning\u001b[0m: No TU found for mRNA b4655\n",
      "/home/sbrg-cjlloyd/minime/minime/core/MEReactions.py:160 \u001b[1;31mUserWarning\u001b[0m: RNA Polymerase not found\n",
      "/home/sbrg-cjlloyd/minime/minime/core/MEReactions.py:235 \u001b[1;31mUserWarning\u001b[0m: ribosome not found\n"
     ]
    },
    {
     "name": "stdout",
     "output_type": "stream",
     "text": [
      "TODO deal with selenocystine\n",
      "b1474 TODO selenocysteine\n",
      "b1474 TODO selenocysteine\n",
      "b2891  Needs frameshift?\n",
      "b2891 TODO selenocysteine\n",
      "b2891 TODO selenocysteine\n",
      "b3894 TODO selenocysteine\n",
      "b3894 TODO selenocysteine\n",
      "b4079 TODO selenocysteine\n",
      "b4079 TODO selenocysteine\n"
     ]
    },
    {
     "name": "stderr",
     "output_type": "stream",
     "text": [
      "/home/sbrg-cjlloyd/minime/minime/core/MEReactions.py:288 \u001b[1;31mUserWarning\u001b[0m: subreaction for codon ACC not added\n",
      "/home/sbrg-cjlloyd/minime/minime/core/MEReactions.py:288 \u001b[1;31mUserWarning\u001b[0m: subreaction for codon GGU not added\n",
      "/home/sbrg-cjlloyd/minime/minime/core/MEReactions.py:288 \u001b[1;31mUserWarning\u001b[0m: subreaction for codon AUC not added\n",
      "/home/sbrg-cjlloyd/minime/minime/core/MEReactions.py:288 \u001b[1;31mUserWarning\u001b[0m: subreaction for codon AAA not added\n",
      "/home/sbrg-cjlloyd/minime/minime/core/MEReactions.py:288 \u001b[1;31mUserWarning\u001b[0m: subreaction for codon AAC not added\n",
      "/home/sbrg-cjlloyd/minime/minime/core/MEReactions.py:288 \u001b[1;31mUserWarning\u001b[0m: subreaction for codon AUG not added\n",
      "/home/sbrg-cjlloyd/minime/minime/core/MEReactions.py:288 \u001b[1;31mUserWarning\u001b[0m: subreaction for codon CGC not added\n",
      "/home/sbrg-cjlloyd/minime/minime/core/MEReactions.py:288 \u001b[1;31mUserWarning\u001b[0m: subreaction for codon AGC not added\n",
      "/home/sbrg-cjlloyd/minime/minime/core/MEReactions.py:288 \u001b[1;31mUserWarning\u001b[0m: subreaction for codon ACA not added\n",
      "/home/sbrg-cjlloyd/minime/minime/core/MEReactions.py:288 \u001b[1;31mUserWarning\u001b[0m: subreaction for codon GCG not added\n",
      "/home/sbrg-cjlloyd/minime/minime/core/MEReactions.py:288 \u001b[1;31mUserWarning\u001b[0m: subreaction for codon START not added\n",
      "/home/sbrg-cjlloyd/minime/minime/core/MEReactions.py:288 \u001b[1;31mUserWarning\u001b[0m: subreaction for codon AUU not added\n",
      "/home/sbrg-cjlloyd/minime/minime/core/MEReactions.py:288 \u001b[1;31mUserWarning\u001b[0m: subreaction for codon GGC not added\n",
      "/home/sbrg-cjlloyd/minime/minime/core/MEReactions.py:316 \u001b[1;31mUserWarning\u001b[0m: Term Enzyme not in model\n",
      "/home/sbrg-cjlloyd/minime/minime/core/MEReactions.py:288 \u001b[1;31mUserWarning\u001b[0m: subreaction for codon GUC not added\n",
      "/home/sbrg-cjlloyd/minime/minime/core/MEReactions.py:288 \u001b[1;31mUserWarning\u001b[0m: subreaction for codon AAG not added\n",
      "/home/sbrg-cjlloyd/minime/minime/core/MEReactions.py:288 \u001b[1;31mUserWarning\u001b[0m: subreaction for codon GUG not added\n",
      "/home/sbrg-cjlloyd/minime/minime/core/MEReactions.py:288 \u001b[1;31mUserWarning\u001b[0m: subreaction for codon ACU not added\n",
      "/home/sbrg-cjlloyd/minime/minime/core/MEReactions.py:288 \u001b[1;31mUserWarning\u001b[0m: subreaction for codon AGG not added\n",
      "/home/sbrg-cjlloyd/minime/minime/core/MEReactions.py:288 \u001b[1;31mUserWarning\u001b[0m: subreaction for codon UAU not added\n",
      "/home/sbrg-cjlloyd/minime/minime/core/MEReactions.py:288 \u001b[1;31mUserWarning\u001b[0m: subreaction for codon CAU not added\n",
      "/home/sbrg-cjlloyd/minime/minime/core/MEReactions.py:288 \u001b[1;31mUserWarning\u001b[0m: subreaction for codon AAU not added\n",
      "/home/sbrg-cjlloyd/minime/minime/core/MEReactions.py:288 \u001b[1;31mUserWarning\u001b[0m: subreaction for codon AGU not added\n",
      "/home/sbrg-cjlloyd/minime/minime/core/MEReactions.py:288 \u001b[1;31mUserWarning\u001b[0m: subreaction for codon GUU not added\n",
      "/home/sbrg-cjlloyd/minime/minime/core/MEReactions.py:288 \u001b[1;31mUserWarning\u001b[0m: subreaction for codon CAC not added\n",
      "/home/sbrg-cjlloyd/minime/minime/core/MEReactions.py:288 \u001b[1;31mUserWarning\u001b[0m: subreaction for codon CCG not added\n",
      "/home/sbrg-cjlloyd/minime/minime/core/MEReactions.py:288 \u001b[1;31mUserWarning\u001b[0m: subreaction for codon CAG not added\n",
      "/home/sbrg-cjlloyd/minime/minime/core/MEReactions.py:288 \u001b[1;31mUserWarning\u001b[0m: subreaction for codon CAA not added\n",
      "/home/sbrg-cjlloyd/minime/minime/core/MEReactions.py:288 \u001b[1;31mUserWarning\u001b[0m: subreaction for codon CCC not added\n",
      "/home/sbrg-cjlloyd/minime/minime/core/MEReactions.py:288 \u001b[1;31mUserWarning\u001b[0m: subreaction for codon UCU not added\n",
      "/home/sbrg-cjlloyd/minime/minime/core/MEReactions.py:288 \u001b[1;31mUserWarning\u001b[0m: subreaction for codon AUA not added\n",
      "/home/sbrg-cjlloyd/minime/minime/core/MEReactions.py:288 \u001b[1;31mUserWarning\u001b[0m: subreaction for codon CGA not added\n",
      "/home/sbrg-cjlloyd/minime/minime/core/MEReactions.py:288 \u001b[1;31mUserWarning\u001b[0m: subreaction for codon CCA not added\n",
      "/home/sbrg-cjlloyd/minime/minime/core/MEReactions.py:288 \u001b[1;31mUserWarning\u001b[0m: subreaction for codon GAU not added\n",
      "/home/sbrg-cjlloyd/minime/minime/core/MEReactions.py:288 \u001b[1;31mUserWarning\u001b[0m: subreaction for codon UGG not added\n",
      "/home/sbrg-cjlloyd/minime/minime/core/MEReactions.py:288 \u001b[1;31mUserWarning\u001b[0m: subreaction for codon CGG not added\n",
      "/home/sbrg-cjlloyd/minime/minime/core/MEReactions.py:288 \u001b[1;31mUserWarning\u001b[0m: subreaction for codon UCG not added\n",
      "/home/sbrg-cjlloyd/minime/minime/core/MEReactions.py:288 \u001b[1;31mUserWarning\u001b[0m: subreaction for codon CCU not added\n",
      "/home/sbrg-cjlloyd/minime/minime/core/MEReactions.py:288 \u001b[1;31mUserWarning\u001b[0m: subreaction for codon GGG not added\n",
      "/home/sbrg-cjlloyd/minime/minime/core/MEReactions.py:288 \u001b[1;31mUserWarning\u001b[0m: subreaction for codon ACG not added\n",
      "/home/sbrg-cjlloyd/minime/minime/core/MEReactions.py:288 \u001b[1;31mUserWarning\u001b[0m: subreaction for codon UCA not added\n",
      "/home/sbrg-cjlloyd/minime/minime/core/MEReactions.py:288 \u001b[1;31mUserWarning\u001b[0m: subreaction for codon GAG not added\n",
      "/home/sbrg-cjlloyd/minime/minime/core/MEReactions.py:288 \u001b[1;31mUserWarning\u001b[0m: subreaction for codon GGA not added\n",
      "/home/sbrg-cjlloyd/minime/minime/core/MEReactions.py:288 \u001b[1;31mUserWarning\u001b[0m: subreaction for codon UAC not added\n",
      "/home/sbrg-cjlloyd/minime/minime/core/MEReactions.py:288 \u001b[1;31mUserWarning\u001b[0m: subreaction for codon UCC not added\n",
      "/home/sbrg-cjlloyd/minime/minime/core/MEReactions.py:288 \u001b[1;31mUserWarning\u001b[0m: subreaction for codon CGU not added\n",
      "/home/sbrg-cjlloyd/minime/minime/core/MEReactions.py:288 \u001b[1;31mUserWarning\u001b[0m: subreaction for codon GAA not added\n",
      "/home/sbrg-cjlloyd/minime/minime/core/MEReactions.py:288 \u001b[1;31mUserWarning\u001b[0m: subreaction for codon GCA not added\n",
      "/home/sbrg-cjlloyd/minime/minime/core/MEReactions.py:288 \u001b[1;31mUserWarning\u001b[0m: subreaction for codon GCC not added\n",
      "/home/sbrg-cjlloyd/minime/minime/core/MEReactions.py:288 \u001b[1;31mUserWarning\u001b[0m: subreaction for codon CUU not added\n",
      "/home/sbrg-cjlloyd/minime/minime/core/MEReactions.py:288 \u001b[1;31mUserWarning\u001b[0m: subreaction for codon CUG not added\n",
      "/home/sbrg-cjlloyd/minime/minime/core/MEReactions.py:288 \u001b[1;31mUserWarning\u001b[0m: subreaction for codon CUA not added\n",
      "/home/sbrg-cjlloyd/minime/minime/core/MEReactions.py:288 \u001b[1;31mUserWarning\u001b[0m: subreaction for codon UUU not added\n",
      "/home/sbrg-cjlloyd/minime/minime/core/MEReactions.py:288 \u001b[1;31mUserWarning\u001b[0m: subreaction for codon GAC not added\n",
      "/home/sbrg-cjlloyd/minime/minime/core/MEReactions.py:288 \u001b[1;31mUserWarning\u001b[0m: subreaction for codon GUA not added\n",
      "/home/sbrg-cjlloyd/minime/minime/core/MEReactions.py:288 \u001b[1;31mUserWarning\u001b[0m: subreaction for codon UGC not added\n",
      "/home/sbrg-cjlloyd/minime/minime/core/MEReactions.py:288 \u001b[1;31mUserWarning\u001b[0m: subreaction for codon GCU not added\n",
      "/home/sbrg-cjlloyd/minime/minime/core/MEReactions.py:288 \u001b[1;31mUserWarning\u001b[0m: subreaction for codon UGU not added\n",
      "/home/sbrg-cjlloyd/minime/minime/core/MEReactions.py:288 \u001b[1;31mUserWarning\u001b[0m: subreaction for codon CUC not added\n",
      "/home/sbrg-cjlloyd/minime/minime/core/MEReactions.py:288 \u001b[1;31mUserWarning\u001b[0m: subreaction for codon UUG not added\n",
      "/home/sbrg-cjlloyd/minime/minime/core/MEReactions.py:288 \u001b[1;31mUserWarning\u001b[0m: subreaction for codon UUA not added\n",
      "/home/sbrg-cjlloyd/minime/minime/core/MEReactions.py:288 \u001b[1;31mUserWarning\u001b[0m: subreaction for codon UUC not added\n",
      "/home/sbrg-cjlloyd/minime/minime/core/MEReactions.py:288 \u001b[1;31mUserWarning\u001b[0m: subreaction for codon AGA not added\n"
     ]
    }
   ],
   "source": [
    "gb_filename = join(ecoli_files_dir,'NC_000913.2.gb')                                                                                    \n",
    "TU_df = pandas.read_csv(join(ecoli_files_dir,'TUs_from_ecocyc.txt'), delimiter=\"\\t\", index_col=0)\n",
    "\n",
    "building.build_reactions_from_genbank(me, gb_filename, TU_df)"
   ]
  },
  {
   "cell_type": "code",
   "execution_count": 8,
   "metadata": {
    "collapsed": false,
    "scrolled": false
   },
   "outputs": [],
   "source": [
    "for metabolite in me.metabolites:\n",
    "    if metabolite.id == 'generic_tRNA_glu__L_c' or not metabolite.id.startswith('generic_tRNA'):\n",
    "        continue\n",
    "    if metabolite.id.replace('generic_tRNA_', '').split('_')[0] == 'START':\n",
    "        subreaction_data = SubreactionData('fmet_addition_at_START', me)\n",
    "        #subreaction_data.enzyme = 'InfB_mono' # Start codon loader enzyme\n",
    "        subreaction_data.stoichiometry = {'h_c': 1, '10fthf_c': -1, 'thf_c':1,\n",
    "                                         metabolite.id: -1}\n",
    "    elif metabolite.id.startswith('generic_tRNA'):\n",
    "        # TODO contrant type is 'trna efficiency' does this change anything?\n",
    "        # 1 machine + 1 atp + 1 aa + 1 h2o --> 1 machine-amp + 1 h + 1 ppi\n",
    "        # 1 machine-amp + 1 free tRNA --> 1 machine + 1 amp + 1 charged tRNA\n",
    "        codon = metabolite.id.replace('generic_tRNA_', '').split('_')[0]\n",
    "        full_aa = metabolite.id.replace('generic_tRNA_', '').replace(codon + '_', '')\n",
    "        abreviated_aa = full_aa.split('_')[0]\n",
    "        subreaction_data = SubreactionData(abreviated_aa + '_addition_at_' + codon, me)\n",
    "        #subreaction_data.enzyme = 'generic_Tuf' # Default AA loader enzyme\n",
    "        subreaction_data.stoichiometry = {full_aa: -1, 'atp_c': -1, 'h2o_c': -1,\n",
    "                                          'amp_c': 1, 'h_c': 1, 'ppi_c': 1,\n",
    "                                          metabolite.id: -1}"
   ]
  },
  {
   "cell_type": "code",
   "execution_count": 9,
   "metadata": {
    "collapsed": false,
    "scrolled": true
   },
   "outputs": [
    {
     "name": "stdout",
     "output_type": "stream",
     "text": [
      "<TranslationData b1474 at 0x7fe7b6e28b50>\n",
      "<TranslationData b2891 at 0x7fe7b676ded0>\n",
      "<TranslationData b3894 at 0x7fe7b6254590>\n",
      "<TranslationData b4079 at 0x7fe7b61aeed0>\n"
     ]
    }
   ],
   "source": [
    "for data in me.translation_data:\n",
    "    if len(data.nucleotide_sequence) % 3 != 0:\n",
    "        print data, 'frameshift'\n",
    "    else:\n",
    "        codons = (data.nucleotide_sequence[i: i + 3]\n",
    "                  for i in range(0, (len(data.nucleotide_sequence)-3), 3))\n",
    "        if 'TGA' in codons:\n",
    "            print data\n",
    "    #if not data.compute_sequence_from_DNA.startswith('M'):\n",
    "    #    pass\n",
    "        # print data.id, data.nucleotide_sequence[:3], data.compute_sequence_from_DNA[0]"
   ]
  },
  {
   "cell_type": "raw",
   "metadata": {},
   "source": [
    "subreaction_data = SubreactionData('formyltransferase_for_generic_START'):\n",
    "subreaction_data.enzyme = 'Fmt_mono_mod_mg2_mod_k'\n",
    "subreaction_data.stoichiometry = {'h_c': 1, '10thf_c': -1, 'thf_c':1}\n",
    "\n",
    "subreaction_data = SubreactionData('"
   ]
  },
  {
   "cell_type": "code",
   "execution_count": 10,
   "metadata": {
    "collapsed": false,
    "scrolled": false
   },
   "outputs": [
    {
     "name": "stdout",
     "output_type": "stream",
     "text": [
      "Created <Metabolite InfA_mono at 0x7fe7b7945390> in <ComplexFormation formation_ribosome at 0x7fe7b79452d0>\n",
      "Created <Metabolite RimM_mono at 0x7fe7b7454810> in <ComplexFormation formation_ribosome at 0x7fe7b79452d0>\n",
      "Created <Metabolite Tig_mono at 0x7fe7b74547d0> in <ComplexFormation formation_ribosome at 0x7fe7b79452d0>\n",
      "Created <Metabolite InfC_mono at 0x7fe7b74540d0> in <ComplexFormation formation_ribosome at 0x7fe7b79452d0>\n",
      "Created <Metabolite InfB_mono at 0x7fe7b7454090> in <ComplexFormation formation_ribosome at 0x7fe7b79452d0>\n",
      "Created <Metabolite RbfA_mono at 0x7fe7b7454050> in <ComplexFormation formation_ribosome at 0x7fe7b79452d0>\n",
      "Created <Metabolite Era_dim at 0x7fe7b7454210> in <ComplexFormation formation_ribosome at 0x7fe7b79452d0>\n",
      "Created <Metabolite hRNAP at 0x7fe7b5ae1a10> in <ComplexFormation formation_RNA_Polymerase at 0x7fe7b5ae1990>\n"
     ]
    }
   ],
   "source": [
    "building.add_ribosomes_old(me)\n",
    "\n",
    "add_RNA_polymerase(me)"
   ]
  },
  {
   "cell_type": "markdown",
   "metadata": {},
   "source": [
    "Make a dummy reactions. Add a dummy protein in as well."
   ]
  },
  {
   "cell_type": "markdown",
   "metadata": {},
   "source": [
    "## Associate the tRNA synthetases"
   ]
  },
  {
   "cell_type": "markdown",
   "metadata": {},
   "source": [
    "The tRNA charging reactions were automatically added when loading the genome from the genbank file. However, the charging reactions still need to be made aware of the tRNA synthetases which are responsible."
   ]
  },
  {
   "cell_type": "code",
   "execution_count": 11,
   "metadata": {
    "collapsed": true
   },
   "outputs": [],
   "source": [
    "with open(join(ecoli_files_dir, \"amino_acid_tRNA_synthetase.json\"), \"rb\") as infile:\n",
    "    aa_synthetase_dict = json.load(infile)\n",
    "for data in me.tRNA_data:\n",
    "    data.synthetase = str(aa_synthetase_dict[data.amino_acid])"
   ]
  },
  {
   "cell_type": "markdown",
   "metadata": {},
   "source": [
    "### Add in complex Formation with modifications"
   ]
  },
  {
   "cell_type": "code",
   "execution_count": 12,
   "metadata": {
    "collapsed": false
   },
   "outputs": [],
   "source": [
    "# ME_complex_dict is a dict of {'complex_id': [{'bnum' : count}]}\n",
    "rna_components = {\"b3123\"} # component id should have RNA_ instead of protein_\n",
    "ME_complex_dict = get_complex_to_bnum_dict(rna_components)\n",
    "# some entries in the file need to be renamed.\n",
    "# Colton 7/8/15 made changes directly to flat file\n",
    "#renames = {\"MnmE_\": \"b3706\", \"MnmG_\": \"b3741\", \"YheM_\": \"b3344\", \"YheL_\": \"b3343\", \"YheN_\": \"b3345\"}\n",
    "add_complex_stoichiometry_data(me, ME_complex_dict)"
   ]
  },
  {
   "cell_type": "code",
   "execution_count": 13,
   "metadata": {
    "collapsed": false
   },
   "outputs": [],
   "source": [
    "rxn_dict = get_reaction_matrix_dict()\n",
    "met_list = set()\n",
    "for met_stoich in rxn_dict.values():\n",
    "    for met in met_stoich:\n",
    "        if 'mod_c' not in met:\n",
    "            met_list.add(met.replace('_c',''))\n",
    "        else:\n",
    "            met_list.add(met)\n",
    "met_list.remove('EG10544-MONOMER_mod_palmitate')\n",
    "modification_dict = get_protein_modification_dict(met_list,  generic=False)\n",
    "add_complex_modification_data(me, modification_dict)"
   ]
  },
  {
   "cell_type": "code",
   "execution_count": 14,
   "metadata": {
    "collapsed": false
   },
   "outputs": [],
   "source": [
    "# two different reactiond can add a lipoate modification.\n",
    "# We create a separate ModificationData for each one\n",
    "lipo = me.modification_data.get_by_id(\"mod_lipo_c\")\n",
    "alt_lipo = ModificationData(\"mod_lipo_c_alt\", me)\n",
    "#alt_lipo.stoichiometry = lipo.stoichiometry\n",
    "\n",
    "lipo.stoichiometry = {\"lipoamp_c\": -1, \"amp_c\": 1}\n",
    "lipo.enzyme = 'EG11796-MONOMER'\n",
    "lipo.keff = 65.\n",
    "\n",
    "alt_lipo.stoichiometry = {'EG50003-MONOMER_mod_pan4p_mod_lipo':-1,\n",
    "                          'EG50003-MONOMER_mod_pan4p':1,\n",
    "                          'h_c':-1,}\n",
    "alt_lipo.enzyme = 'EG11591-MONOMER'\n",
    "alt_lipo.keff = 65.\n",
    "\n",
    "for cplx_data in lipo.get_complex_data():\n",
    "    alt_cplx_data = ComplexData(cplx_data.id + \"alt\", me)\n",
    "    alt_cplx_data.complex_id = cplx_data.complex_id\n",
    "    alt_cplx_data.translocation = cplx_data.translocation\n",
    "    alt_cplx_data.chaperones = cplx_data.chaperones\n",
    "    alt_cplx_data.modifications = cplx_data.modifications\n",
    "    alt_cplx_data.modifications[alt_lipo.id] = \\\n",
    "        alt_cplx_data.modifications.pop(lipo.id)"
   ]
  },
  {
   "cell_type": "code",
   "execution_count": 15,
   "metadata": {
    "collapsed": true
   },
   "outputs": [],
   "source": [
    "# chaperones\n",
    "# todo bmocogdp_c mods\n",
    "# todo FE-S modifications\n",
    "mod_catalysts = {'CPLX0-1762':'G6712-MONOMER', # FE-S modification\n",
    "                 'TMAOREDUCTI-CPLX':'EG12195-MONOMER', #bmocogdp\n",
    "                 'DIMESULFREDUCT-CPLX':'G6849-MONOMER', #bmocogdp\n",
    "                 'NITRATREDUCTA-CPLX':'NARJ-MONOMER', #bmocogdp\n",
    "                 'NITRATREDUCTZ-CPLX':'NARW-MONOMER', #bmocogdp\n",
    "                 'NAP-CPLX':'NAPD-MONOMER', #bmocogdp\n",
    "                 'NAPAB-CPLX_NAPC-MONOMER':'NAPD-MONOMER'} #bmocogdp"
   ]
  },
  {
   "cell_type": "markdown",
   "metadata": {},
   "source": [
    "## TODO NEXT complete Iron-Sulfur cluster modification reactions. Apply rRNA/tRNA fraction constraint "
   ]
  },
  {
   "cell_type": "raw",
   "metadata": {},
   "source": [
    "Read \"The CO and CN− ligands to the active site Fe in [NiFe]-hydrogenase of Escherichia coli have different metabolic origins\" for insight into the metabolic origin of the NiFeCoCN2_c group"
   ]
  },
  {
   "cell_type": "code",
   "execution_count": 16,
   "metadata": {
    "collapsed": false,
    "scrolled": false
   },
   "outputs": [
    {
     "name": "stdout",
     "output_type": "stream",
     "text": [
      "unknown metabolite 'LI_c' created\n",
      "unknown metabolite '3fe4s_c' created\n",
      "unknown metabolite 'palmitate_c' created\n",
      "unknown metabolite 'NiFeCoCN2_c' created\n",
      "unknown metabolite 'acetyl_c' created\n",
      "unknown metabolite 'RNase_m5' created\n",
      "unknown metabolite 'RNase_m16' created\n",
      "unknown metabolite 'RNase_m23' created\n"
     ]
    }
   ],
   "source": [
    "essential_list = [\n",
    "    #'4fe4s_c',\n",
    "    'LI_c',\n",
    "    'cs_c',\n",
    "    #'2fe2s_c',\n",
    "    '3fe4s_c',\n",
    "    'palmitate_c',\n",
    "    'NiFeCoCN2_c', 'acetyl_c',\n",
    "    'RNase_m5','RNase_m16','RNase_m23'] # RNAses are gaps in model, fix how cs is added to\n",
    "\n",
    "for met_id in essential_list:\n",
    "    r = cobra.Reaction(\"EX_\" + met_id)\n",
    "    me.add_reaction(r)\n",
    "    r.reaction = met_id + \" <=> \""
   ]
  },
  {
   "cell_type": "markdown",
   "metadata": {},
   "source": [
    "Build all complex formation reactions"
   ]
  },
  {
   "cell_type": "code",
   "execution_count": 17,
   "metadata": {
    "collapsed": false,
    "scrolled": true
   },
   "outputs": [],
   "source": [
    "for cplx_data in me.complex_data:\n",
    "    formation = cplx_data.formation\n",
    "    if formation:\n",
    "        formation.update()\n",
    "    else:\n",
    "        cplx_data.create_complex_formation()"
   ]
  },
  {
   "cell_type": "code",
   "execution_count": 18,
   "metadata": {
    "collapsed": false
   },
   "outputs": [],
   "source": [
    "building.add_dummy_reactions(me, \"ATG\" + \"TTT\" * 12 + \"TAT\" * 12 + \"ACG\" * 12 + \"GAT\" * 12 + \"AGT\" * 12 + \"TGA\", update=False)"
   ]
  },
  {
   "cell_type": "raw",
   "metadata": {},
   "source": [
    "TODO:\n",
    "5) filter so known erpA dependent ones use that instead"
   ]
  },
  {
   "cell_type": "code",
   "execution_count": 19,
   "metadata": {
    "collapsed": false
   },
   "outputs": [],
   "source": [
    "# these guys can transfer assembled iron sulfur clusters to the various enzymes\n",
    "fes_transfer = {\"erpA\": \"CPLX0-7617\", \"iscA\": \"IscA_tetra\", \"sufA\": \"CPLX0-7824\"}\n",
    "\n",
    "suf_cplx = ComplexData(\"sufBC2DES_pathway_complex\", me)\n",
    "suf_cplx.stoichiometry = {\"CPLX0-1341\": 1, \"CPLX0-246_CPLX0-1342_mod_pydx5p\": 1}\n",
    "suf_cplx.create_complex_formation()\n",
    "    \n",
    "isc_cplx = ComplexData(\"iscUS_cyaY_pathway_complex\", me) # could add chaperones into here\n",
    "isc_cplx.stoichiometry = {\"IscU\": 1, \"IscS_mod_2:pydx5p\": 1, \"EG11653-MONOMER\": 1}\n",
    "isc_cplx.create_complex_formation()\n",
    "\n",
    "generic_fes_transfer = GenericData(\"generic_fes_transfer\", me, ['CPLX0-7617', 'CPLX0-7824', 'IscA_tetra'])\n",
    "generic_fes_transfer.create_reactions()\n",
    "\n",
    "#building.add_and_update_metabolic_reaction(me, \"isc_2fe2s_formation\", suf_cplx.id, False, update=True)\n",
    "#building.add_and_update_metabolic_reaction(me, \"suf_2fe2s_formation\", isc_cplx.id, False, update=True)\n",
    "#building.add_and_update_metabolic_reaction(me, \"isc_4fe4s_formation\", suf_cplx.id, False, update=True)\n",
    "#building.add_and_update_metabolic_reaction(me, \"suf_4fe4s_formation\", isc_cplx.id, False, update=True)"
   ]
  },
  {
   "cell_type": "code",
   "execution_count": 20,
   "metadata": {
    "collapsed": false
   },
   "outputs": [],
   "source": [
    "me.modification_data.mod_2fe2s_c.enzyme = generic_fes_transfer.id\n",
    "me.modification_data.mod_2fe2s_c.keff = 65.\n",
    "me.modification_data.mod_4fe4s_c.enzyme = generic_fes_transfer.id\n",
    "me.modification_data.mod_4fe4s_c.keff = 65."
   ]
  },
  {
   "cell_type": "markdown",
   "metadata": {},
   "source": [
    "Crutch reactions for mets that are blocked. TODO remove"
   ]
  },
  {
   "cell_type": "markdown",
   "metadata": {},
   "source": [
    "## Associate Complexes with Reactions"
   ]
  },
  {
   "cell_type": "code",
   "execution_count": 21,
   "metadata": {
    "collapsed": false,
    "scrolled": true
   },
   "outputs": [
    {
     "name": "stdout",
     "output_type": "stream",
     "text": [
      "Fixed _DASH:  D__LACtex\n",
      "Fixed _DASH:  L__LACD2\n",
      "Fixed _DASH:  L__LACD3\n",
      "Fixed _DASH:  D__LACt2pp\n",
      "Fixed _DASH:  L__LACtex\n",
      "Fixed _DASH:  L__LACt2rpp\n",
      "Assigned tl to c\n",
      "Assigned hemed to c\n",
      "Assigned pqq to c\n",
      "Assigned dpm to c\n",
      "Assigned 23bpg to c\n",
      "Assigned tqn to c\n"
     ]
    }
   ],
   "source": [
    "# associate reaction id with the old ME complex id (including modifications)\n",
    "rxnToModCplxDict = get_reaction_to_complex(generic=False)"
   ]
  },
  {
   "cell_type": "code",
   "execution_count": 22,
   "metadata": {
    "collapsed": false
   },
   "outputs": [],
   "source": [
    "rxn_info = get_reaction_info_frame()\n",
    "for reaction_data in me.stoichiometric_data:\n",
    "    add_metabolic_reactions(me, reaction_data, rxnToModCplxDict, rxn_info, update=True,\n",
    "                            create_new=True)"
   ]
  },
  {
   "cell_type": "markdown",
   "metadata": {},
   "source": [
    "Rebuild transcription and translation to use tRNA (now that tRNA synthetase complexes are in the model"
   ]
  },
  {
   "cell_type": "code",
   "execution_count": 23,
   "metadata": {
    "collapsed": false
   },
   "outputs": [],
   "source": [
    "generic_dict = {'generic_16Sm4Cm1402': ['RsmH_mono', 'RsmI_mono'],\n",
    "                'generic_LYSINEaaRS': ['LysI_RS_dim', 'LysII_RS_dim_mod_6:mg2'],\n",
    "                'generic_Dus': ['DusA_mono', 'DusB_mono', 'DusC_mono'],\n",
    "                'generic_RF': ['PrfA_mono', 'PrfB_mono'],\n",
    "                'generic_Tuf': ['TufA_mono', 'TufB_mono'],\n",
    "                'generic_RNase': ['RNase_T_dim_mod_4:mg2', 'RNase_BN_dim_mod_2:zn2',\n",
    "                                  'Rnd_mono_mod_5:mg2', 'Rnb_mono_mod_1:mg2',\n",
    "                                  'Rph_mono_mod_mg2']}\n",
    "\n",
    "#for generic, components in generic_dict.items():\n",
    "#    components = [R.replace('mg2', 'generic_divalent').\n",
    "#                  replace('zn2', 'generic_divalent') for R in components]\n",
    "#    GenericData(generic, me, components).create_reactions()\n",
    "    \n",
    "for generic, components in generic_dict.items():\n",
    "    GenericData(generic, me, components).create_reactions()"
   ]
  },
  {
   "cell_type": "code",
   "execution_count": 24,
   "metadata": {
    "collapsed": false,
    "scrolled": true
   },
   "outputs": [
    {
     "name": "stdout",
     "output_type": "stream",
     "text": [
      "b1474 TODO selenocysteine\n",
      "b1474 TODO selenocysteine\n",
      "b2891 TODO selenocysteine\n",
      "b2891 TODO selenocysteine\n",
      "b3894 TODO selenocysteine\n",
      "b3894 TODO selenocysteine\n",
      "b4079 TODO selenocysteine\n",
      "b4079 TODO selenocysteine\n"
     ]
    }
   ],
   "source": [
    "for r in me.reactions:\n",
    "    if isinstance(r, tRNAChargingReaction):\n",
    "        r.update()\n",
    "for r in me.reactions:\n",
    "    if isinstance(r, TranslationReaction):\n",
    "        r.update()\n",
    "    if isinstance(r, TranscriptionReaction):\n",
    "        r.update()\n",
    "    if isinstance(r, MetabolicReaction):\n",
    "        r.update()"
   ]
  },
  {
   "cell_type": "code",
   "execution_count": 25,
   "metadata": {
    "collapsed": false,
    "scrolled": true
   },
   "outputs": [
    {
     "name": "stdout",
     "output_type": "stream",
     "text": [
      "MCOATA1_FWD_MALONYL-COA-ACP-TRANSACYL-MONOMER\n",
      "malcoa_c + 4.27350427350427e-6*mu MALONYL-COA-ACP-TRANSACYL-MONOMER + 4.27350427350427e-6*mu + 1.0 EG50003-MONOMER_mod_pan4p --> EG50003-MONOMER_mod_pan4p_mod_mal + coa_c\n",
      "AACPS31_FWD_AAS-MONOMER_mod_mg2\n",
      "4.27350427350427e-6*mu AAS-MONOMER_mod_mg2 + hdca_c + 4.27350427350427e-6*mu + 1.0 EG50003-MONOMER_mod_pan4p + atp_c --> amp_c + EG50003-MONOMER_mod_pan4p_mod_palm + ppi_c\n",
      "AACPS21_FWD_AAS-MONOMER_mod_mg2\n",
      "ttdcea_c + 4.27350427350427e-6*mu + 1.0 EG50003-MONOMER_mod_pan4p + 4.27350427350427e-6*mu AAS-MONOMER_mod_mg2 + atp_c --> ppi_c + amp_c + EG50003-MONOMER_mod_pan4p_mod_tde\n",
      "AACPS11_FWD_AAS-MONOMER_mod_mg2\n",
      "4.27350427350427e-6*mu AAS-MONOMER_mod_mg2 + 4.27350427350427e-6*mu + 1.0 EG50003-MONOMER_mod_pan4p + ttdca_c + atp_c --> amp_c + ppi_c + EG50003-MONOMER_mod_pan4p_mod_myrs\n",
      "AACPS61_FWD_AAS-MONOMER_mod_mg2\n",
      "4.27350427350427e-6*mu + 1.0 EG50003-MONOMER_mod_pan4p + ocdca_c + 4.27350427350427e-6*mu AAS-MONOMER_mod_mg2 + atp_c --> EG50003-MONOMER_mod_pan4p_mod_ocdca + ppi_c + amp_c\n",
      "AACPS51_FWD_AAS-MONOMER_mod_mg2\n",
      "atp_c + 4.27350427350427e-6*mu AAS-MONOMER_mod_mg2 + 4.27350427350427e-6*mu + 1.0 EG50003-MONOMER_mod_pan4p + ocdcea_c --> amp_c + ppi_c + EG50003-MONOMER_mod_pan4p_mod_octe\n",
      "UAGAAT1_REV_UDPNACETYLGLUCOSAMACYLTRANS-CPLX\n",
      "u3aga_c + 4.27350427350427e-6*mu UDPNACETYLGLUCOSAMACYLTRANS-CPLX + 4.27350427350427e-6*mu + 1.0 EG50003-MONOMER_mod_pan4p --> uacgam_c + EG50003-MONOMER_mod_pan4p_mod_3hmrs\n",
      "AACPS41_FWD_AAS-MONOMER_mod_mg2\n",
      "4.27350427350427e-6*mu AAS-MONOMER_mod_mg2 + 4.27350427350427e-6*mu + 1.0 EG50003-MONOMER_mod_pan4p + hdcea_c + atp_c --> EG50003-MONOMER_mod_pan4p_mod_hde + amp_c + ppi_c\n",
      "ACOATA1_FWD_CPLX0-252\n",
      "4.27350427350427e-6*mu CPLX0-252 + 4.27350427350427e-6*mu + 1.0 EG50003-MONOMER_mod_pan4p + accoa_c --> EG50003-MONOMER_mod_pan4p_mod_ac + coa_c\n",
      "AACPS91_FWD_AAS-MONOMER_mod_mg2\n",
      "octa_c + 4.27350427350427e-6*mu AAS-MONOMER_mod_mg2 + 4.27350427350427e-6*mu + 1.0 EG50003-MONOMER_mod_pan4p + atp_c --> amp_c + ppi_c + EG50003-MONOMER_mod_pan4p_mod_oc\n",
      "AACPS81_FWD_AAS-MONOMER_mod_mg2\n",
      "4.27350427350427e-6*mu AAS-MONOMER_mod_mg2 + 4.27350427350427e-6*mu + 1.0 EG50003-MONOMER_mod_pan4p + dca_c + atp_c --> EG50003-MONOMER_mod_pan4p_mod_dca + amp_c + ppi_c\n",
      "AACPS71_FWD_AAS-MONOMER_mod_mg2\n",
      "4.27350427350427e-6*mu AAS-MONOMER_mod_mg2 + 4.27350427350427e-6*mu + 1.0 EG50003-MONOMER_mod_pan4p + atp_c + ddca_c --> amp_c + EG50003-MONOMER_mod_pan4p_mod_ddca + ppi_c\n"
     ]
    }
   ],
   "source": [
    "apoACP = me.metabolites.get_by_id('EG50003-MONOMER_mod_pan4p')\n",
    "for reaction in me.metabolites.get_by_id('EG50003-MONOMER_mod_pan4p').reactions:\n",
    "    if apoACP in reaction.reactants:\n",
    "        print reaction\n",
    "        reaction.complex_dilution_list = {apoACP.id}\n",
    "        reaction.update()\n",
    "        print reaction.reaction"
   ]
  },
  {
   "cell_type": "code",
   "execution_count": 26,
   "metadata": {
    "collapsed": false
   },
   "outputs": [
    {
     "name": "stdout",
     "output_type": "stream",
     "text": [
      "FA141ACPHi1_FWD_EG11095-MONOMER_mod_zn2_mod_fe2_mod_cobalt2_mod_mg2_mod_mn2\n",
      "4.27350427350427e-6*mu EG11095-MONOMER_mod_zn2_mod_fe2_mod_cobalt2_mod_mg2_mod_mn2 + h2o_c + EG50003-MONOMER_mod_pan4p_mod_tde --> ttdcea_c + EG50003-MONOMER_mod_pan4p + h_c\n",
      "MCOATA1_FWD_MALONYL-COA-ACP-TRANSACYL-MONOMER\n",
      "malcoa_c + 4.27350427350427e-6*mu MALONYL-COA-ACP-TRANSACYL-MONOMER + 4.27350427350427e-6*mu + 1.0 EG50003-MONOMER_mod_pan4p --> EG50003-MONOMER_mod_pan4p_mod_mal + coa_c\n",
      "3OAS1601_FWD_3-OXOACYL-ACP-SYNTHII-CPLX\n",
      "4.27350427350427e-6*mu 3-OXOACYL-ACP-SYNTHII-CPLX + EG50003-MONOMER_mod_pan4p_mod_mal + EG50003-MONOMER_mod_pan4p_mod_myrs + h_c --> EG50003-MONOMER_mod_pan4p_mod_3opalm + EG50003-MONOMER_mod_pan4p + co2_c\n",
      "3OAS1801_FWD_FABB-CPLX\n",
      "EG50003-MONOMER_mod_pan4p_mod_palm + 4.27350427350427e-6*mu FABB-CPLX + h_c + EG50003-MONOMER_mod_pan4p_mod_mal --> EG50003-MONOMER_mod_pan4p + co2_c + EG50003-MONOMER_mod_pan4p_mod_3ooctd\n",
      "G3PAT1801_FWD_GLYCEROL-3-P-ACYLTRANSFER-MONOMER\n",
      "glyc3p_c + EG50003-MONOMER_mod_pan4p_mod_ocdca + 4.27350427350427e-6*mu GLYCEROL-3-P-ACYLTRANSFER-MONOMER --> 1odecg3p_c + EG50003-MONOMER_mod_pan4p\n",
      "ACPPAT1611_FWD_EG11437-MONOMER\n",
      "EG50003-MONOMER_mod_pan4p_mod_hde + pi_c + h_c + 4.27350427350427e-6*mu EG11437-MONOMER --> EG50003-MONOMER_mod_pan4p + hdceap_c\n",
      "G3PAT1401_FWD_GLYCEROL-3-P-ACYLTRANSFER-MONOMER\n",
      "4.27350427350427e-6*mu GLYCEROL-3-P-ACYLTRANSFER-MONOMER + glyc3p_c + EG50003-MONOMER_mod_pan4p_mod_myrs --> 1tdecg3p_c + EG50003-MONOMER_mod_pan4p\n",
      "AOXSr21_FWD_7KAPSYN-CPLX\n",
      "4.27350427350427e-6*mu 7KAPSYN-CPLX + ala__L_c + EG50003-MONOMER_mod_pan4p_mod_pim --> EG50003-MONOMER_mod_pan4p + 8aonn_c + co2_c\n",
      "AGPAT1401_FWD_1-ACYLGLYCEROL-3-P-ACYLTRANSFER-MONOMER\n",
      "4.27350427350427e-6*mu 1-ACYLGLYCEROL-3-P-ACYLTRANSFER-MONOMER + 1tdecg3p_c + EG50003-MONOMER_mod_pan4p_mod_myrs --> pa140_c + EG50003-MONOMER_mod_pan4p\n",
      "AACPS31_FWD_AAS-MONOMER_mod_mg2\n",
      "4.27350427350427e-6*mu AAS-MONOMER_mod_mg2 + hdca_c + 4.27350427350427e-6*mu + 1.0 EG50003-MONOMER_mod_pan4p + atp_c --> amp_c + EG50003-MONOMER_mod_pan4p_mod_palm + ppi_c\n",
      "3OAS1601_FWD_FABB-CPLX\n",
      "4.27350427350427e-6*mu FABB-CPLX + EG50003-MONOMER_mod_pan4p_mod_mal + EG50003-MONOMER_mod_pan4p_mod_myrs + h_c --> EG50003-MONOMER_mod_pan4p_mod_3opalm + EG50003-MONOMER_mod_pan4p + co2_c\n",
      "EDTXS11_FWD_LAUROYLACYLTRAN-MONOMER\n",
      "4.27350427350427e-6*mu LAUROYLACYLTRAN-MONOMER + kdo2lipid4_c + EG50003-MONOMER_mod_pan4p_mod_ddca --> kdo2lipid4L_c + EG50003-MONOMER_mod_pan4p\n",
      "3OAS801_FWD_3-OXOACYL-ACP-SYNTHII-CPLX\n",
      "EG50003-MONOMER_mod_pan4p_mod_hex + h_c + 4.27350427350427e-6*mu 3-OXOACYL-ACP-SYNTHII-CPLX + EG50003-MONOMER_mod_pan4p_mod_mal --> EG50003-MONOMER_mod_pan4p + co2_c + EG50003-MONOMER_mod_pan4p_mod_3ooct\n",
      "formation_2OXOGLUTARATEDEH-CPLX_mod_mg2_mod_lipo\n",
      "4.27350427350427e-6*mu EG11591-MONOMER + 2.0 protein_b0727 + protein_b0726 + mg2_c + h_c + 2.0 protein_b0116 + EG50003-MONOMER_mod_pan4p_mod_lipo --> EG50003-MONOMER_mod_pan4p + 2OXOGLUTARATEDEH-CPLX_mod_mg2_mod_lipo\n",
      "G3PAT1611_FWD_GLYCEROL-3-P-ACYLTRANSFER-MONOMER\n",
      "4.27350427350427e-6*mu GLYCEROL-3-P-ACYLTRANSFER-MONOMER + glyc3p_c + EG50003-MONOMER_mod_pan4p_mod_hde --> 1hdec9eg3p_c + EG50003-MONOMER_mod_pan4p\n",
      "FA140ACPHi1_FWD_EG11095-MONOMER_mod_zn2_mod_fe2_mod_cobalt2_mod_mg2_mod_mn2\n",
      "4.27350427350427e-6*mu EG11095-MONOMER_mod_zn2_mod_fe2_mod_cobalt2_mod_mg2_mod_mn2 + h2o_c + EG50003-MONOMER_mod_pan4p_mod_myrs --> EG50003-MONOMER_mod_pan4p + h_c + ttdca_c\n",
      "formation_GCVMULTI-CPLX_mod_lipo\n",
      "4.27350427350427e-6*mu EG11591-MONOMER + protein_b2904 + protein_b2905 + EG50003-MONOMER_mod_pan4p_mod_lipo + h_c + 2.0 protein_b0116 + 2.0 protein_b2903 --> EG50003-MONOMER_mod_pan4p + GCVMULTI-CPLX_mod_lipo\n",
      "AGPAT1411_FWD_1-ACYLGLYCEROL-3-P-ACYLTRANSFER-MONOMER\n",
      "1tdec7eg3p_c + 4.27350427350427e-6*mu 1-ACYLGLYCEROL-3-P-ACYLTRANSFER-MONOMER + EG50003-MONOMER_mod_pan4p_mod_tde --> EG50003-MONOMER_mod_pan4p + pa141_c\n",
      "FA120ACPHi1_FWD_EG11095-MONOMER_mod_zn2_mod_fe2_mod_cobalt2_mod_mg2_mod_mn2\n",
      "4.27350427350427e-6*mu EG11095-MONOMER_mod_zn2_mod_fe2_mod_cobalt2_mod_mg2_mod_mn2 + h2o_c + EG50003-MONOMER_mod_pan4p_mod_ddca --> EG50003-MONOMER_mod_pan4p + h_c + ddca_c\n",
      "AACPS21_FWD_AAS-MONOMER_mod_mg2\n",
      "ttdcea_c + 4.27350427350427e-6*mu + 1.0 EG50003-MONOMER_mod_pan4p + 4.27350427350427e-6*mu AAS-MONOMER_mod_mg2 + atp_c --> ppi_c + amp_c + EG50003-MONOMER_mod_pan4p_mod_tde\n",
      "G3PAT1601_FWD_GLYCEROL-3-P-ACYLTRANSFER-MONOMER\n",
      "EG50003-MONOMER_mod_pan4p_mod_palm + glyc3p_c + 4.27350427350427e-6*mu GLYCEROL-3-P-ACYLTRANSFER-MONOMER --> 1hdecg3p_c + EG50003-MONOMER_mod_pan4p\n",
      "3OAS1611_FWD_FABB-CPLX\n",
      "4.27350427350427e-6*mu FABB-CPLX + EG50003-MONOMER_mod_pan4p_mod_tde + h_c + EG50003-MONOMER_mod_pan4p_mod_mal --> EG50003-MONOMER_mod_pan4p + co2_c + EG50003-MONOMER_mod_pan4p_mod_3ocpalm9e\n",
      "3OAS601_FWD_FABB-CPLX\n",
      "4.27350427350427e-6*mu FABB-CPLX + EG50003-MONOMER_mod_pan4p_mod_but + EG50003-MONOMER_mod_pan4p_mod_mal + h_c --> EG50003-MONOMER_mod_pan4p_mod_3ohex + EG50003-MONOMER_mod_pan4p + co2_c\n",
      "3OAS1001_FWD_3-OXOACYL-ACP-SYNTHII-CPLX\n",
      "EG50003-MONOMER_mod_pan4p_mod_oc + 4.27350427350427e-6*mu 3-OXOACYL-ACP-SYNTHII-CPLX + EG50003-MONOMER_mod_pan4p_mod_mal + h_c --> EG50003-MONOMER_mod_pan4p + co2_c + EG50003-MONOMER_mod_pan4p_mod_3odec\n",
      "ACPPAT1801_FWD_EG11437-MONOMER\n",
      "EG50003-MONOMER_mod_pan4p_mod_ocdca + pi_c + h_c + 4.27350427350427e-6*mu EG11437-MONOMER --> ocdcap_c + EG50003-MONOMER_mod_pan4p\n",
      "AGPAT1601_FWD_1-ACYLGLYCEROL-3-P-ACYLTRANSFER-MONOMER\n",
      "EG50003-MONOMER_mod_pan4p_mod_palm + 1hdecg3p_c + 4.27350427350427e-6*mu 1-ACYLGLYCEROL-3-P-ACYLTRANSFER-MONOMER --> pa160_c + EG50003-MONOMER_mod_pan4p\n",
      "FA100ACPHi1_FWD_EG11095-MONOMER_mod_zn2_mod_fe2_mod_cobalt2_mod_mg2_mod_mn2\n",
      "4.27350427350427e-6*mu EG11095-MONOMER_mod_zn2_mod_fe2_mod_cobalt2_mod_mg2_mod_mn2 + h2o_c + EG50003-MONOMER_mod_pan4p_mod_dca --> EG50003-MONOMER_mod_pan4p + dca_c + h_c\n",
      "ACPPAT1601_FWD_EG11437-MONOMER\n",
      "pi_c + h_c + 4.27350427350427e-6*mu EG11437-MONOMER + EG50003-MONOMER_mod_pan4p_mod_palm --> hdcap_c + EG50003-MONOMER_mod_pan4p\n",
      "KAS141_FWD_FABB-CPLX\n",
      "4.27350427350427e-6*mu FABB-CPLX + h_c + EG50003-MONOMER_mod_pan4p_mod_ac + EG50003-MONOMER_mod_pan4p_mod_mal --> EG50003-MONOMER_mod_pan4p_mod_act + EG50003-MONOMER_mod_pan4p + co2_c\n",
      "KAS141_FWD_3-OXOACYL-ACP-SYNTHII-CPLX\n",
      "h_c + 4.27350427350427e-6*mu 3-OXOACYL-ACP-SYNTHII-CPLX + EG50003-MONOMER_mod_pan4p_mod_mal + EG50003-MONOMER_mod_pan4p_mod_ac --> EG50003-MONOMER_mod_pan4p_mod_act + EG50003-MONOMER_mod_pan4p + co2_c\n",
      "EDTXS31_FWD_PALMITOTRANS-MONOMER\n",
      "4.27350427350427e-6*mu PALMITOTRANS-MONOMER + kdo2lipid4_c + EG50003-MONOMER_mod_pan4p_mod_hde --> EG50003-MONOMER_mod_pan4p + kdo2lipid4p_c\n",
      "ACPS11_FWD_HOLO-ACP-SYNTH-CPLX_mod_mn2\n",
      "coa_c + EG50003-MONOMER + 4.27350427350427e-6*mu HOLO-ACP-SYNTH-CPLX_mod_mn2 --> EG50003-MONOMER_mod_pan4p + h_c + pap_c\n",
      "AGPAT1201_FWD_1-ACYLGLYCEROL-3-P-ACYLTRANSFER-MONOMER\n",
      "1ddecg3p_c + 4.27350427350427e-6*mu 1-ACYLGLYCEROL-3-P-ACYLTRANSFER-MONOMER + EG50003-MONOMER_mod_pan4p_mod_ddca --> pa120_c + EG50003-MONOMER_mod_pan4p\n",
      "ACPPAT1811_FWD_EG11437-MONOMER\n",
      "pi_c + h_c + 4.27350427350427e-6*mu EG11437-MONOMER + EG50003-MONOMER_mod_pan4p_mod_octe --> ocdceap_c + EG50003-MONOMER_mod_pan4p\n",
      "3OAS601_FWD_3-OXOACYL-ACP-SYNTHII-CPLX\n",
      "4.27350427350427e-6*mu 3-OXOACYL-ACP-SYNTHII-CPLX + EG50003-MONOMER_mod_pan4p_mod_mal + EG50003-MONOMER_mod_pan4p_mod_but + h_c --> EG50003-MONOMER_mod_pan4p_mod_3ohex + EG50003-MONOMER_mod_pan4p + co2_c\n",
      "3OAS1801_FWD_3-OXOACYL-ACP-SYNTHII-CPLX\n",
      "h_c + 4.27350427350427e-6*mu 3-OXOACYL-ACP-SYNTHII-CPLX + EG50003-MONOMER_mod_pan4p_mod_palm + EG50003-MONOMER_mod_pan4p_mod_mal --> EG50003-MONOMER_mod_pan4p + co2_c + EG50003-MONOMER_mod_pan4p_mod_3ooctd\n",
      "EDTXS41_FWD_MYRISTOYLACYLTRAN-MONOMER\n",
      "4.27350427350427e-6*mu MYRISTOYLACYLTRAN-MONOMER + EG50003-MONOMER_mod_pan4p_mod_myrs + kdo2lipid4p_c --> lipa_cold_c + EG50003-MONOMER_mod_pan4p\n",
      "U23GAAT1_FWD_UDPHYDROXYMYRGLUCOSAMNACETYLTRANS-MONO\n",
      "u3hga_c + 4.27350427350427e-6*mu UDPHYDROXYMYRGLUCOSAMNACETYLTRANS-MONO + EG50003-MONOMER_mod_pan4p_mod_3hmrs --> EG50003-MONOMER_mod_pan4p + u23ga_c + h_c\n",
      "3OAS1811_FWD_3-OXOACYL-ACP-SYNTHII-CPLX\n",
      "EG50003-MONOMER_mod_pan4p_mod_hde + 4.27350427350427e-6*mu 3-OXOACYL-ACP-SYNTHII-CPLX + EG50003-MONOMER_mod_pan4p_mod_mal + h_c --> EG50003-MONOMER_mod_pan4p_mod_3ocvac11e + EG50003-MONOMER_mod_pan4p + co2_c\n",
      "AACPS11_FWD_AAS-MONOMER_mod_mg2\n",
      "4.27350427350427e-6*mu AAS-MONOMER_mod_mg2 + 4.27350427350427e-6*mu + 1.0 EG50003-MONOMER_mod_pan4p + ttdca_c + atp_c --> amp_c + ppi_c + EG50003-MONOMER_mod_pan4p_mod_myrs\n",
      "AACPS61_FWD_AAS-MONOMER_mod_mg2\n",
      "4.27350427350427e-6*mu + 1.0 EG50003-MONOMER_mod_pan4p + ocdca_c + 4.27350427350427e-6*mu AAS-MONOMER_mod_mg2 + atp_c --> EG50003-MONOMER_mod_pan4p_mod_ocdca + ppi_c + amp_c\n",
      "formation_GCVMULTI-CPLX_mod_lipoalt\n",
      "4.27350427350427e-6*mu EG11591-MONOMER + protein_b2904 + protein_b2905 + EG50003-MONOMER_mod_pan4p_mod_lipo + h_c + 2.0 protein_b0116 + 2.0 protein_b2903 --> EG50003-MONOMER_mod_pan4p + GCVMULTI-CPLX_mod_lipo\n",
      "MCOATA1_REV_MALONYL-COA-ACP-TRANSACYL-MONOMER\n",
      "EG50003-MONOMER_mod_pan4p_mod_mal + 4.27350427350427e-6*mu MALONYL-COA-ACP-TRANSACYL-MONOMER + coa_c --> malcoa_c + EG50003-MONOMER_mod_pan4p\n",
      "AACPS51_FWD_AAS-MONOMER_mod_mg2\n",
      "atp_c + 4.27350427350427e-6*mu AAS-MONOMER_mod_mg2 + 4.27350427350427e-6*mu + 1.0 EG50003-MONOMER_mod_pan4p + ocdcea_c --> amp_c + ppi_c + EG50003-MONOMER_mod_pan4p_mod_octe\n",
      "formation_2OXOGLUTARATEDEH-CPLX_mod_mg2_mod_lipoalt\n",
      "4.27350427350427e-6*mu EG11591-MONOMER + 2.0 protein_b0727 + protein_b0726 + mg2_c + h_c + 2.0 protein_b0116 + EG50003-MONOMER_mod_pan4p_mod_lipo --> EG50003-MONOMER_mod_pan4p + 2OXOGLUTARATEDEH-CPLX_mod_mg2_mod_lipo\n",
      "FA80ACPHi1_FWD_EG11095-MONOMER_mod_zn2_mod_fe2_mod_cobalt2_mod_mg2_mod_mn2\n",
      "4.27350427350427e-6*mu EG11095-MONOMER_mod_zn2_mod_fe2_mod_cobalt2_mod_mg2_mod_mn2 + EG50003-MONOMER_mod_pan4p_mod_oc + h2o_c --> octa_c + EG50003-MONOMER_mod_pan4p + h_c\n",
      "ACOATA1_REV_CPLX0-252\n",
      "4.27350427350427e-6*mu CPLX0-252 + EG50003-MONOMER_mod_pan4p_mod_ac + coa_c --> EG50003-MONOMER_mod_pan4p + accoa_c\n",
      "UAGAAT1_REV_UDPNACETYLGLUCOSAMACYLTRANS-CPLX\n",
      "u3aga_c + 4.27350427350427e-6*mu UDPNACETYLGLUCOSAMACYLTRANS-CPLX + 4.27350427350427e-6*mu + 1.0 EG50003-MONOMER_mod_pan4p --> uacgam_c + EG50003-MONOMER_mod_pan4p_mod_3hmrs\n",
      "formation_PYRUVATEDEH-CPLX_mod_mg2_mod_fad_mod_thmpp_mod_lipoalt\n",
      "thmpp_c + 2.0 protein_b0114 + 4.27350427350427e-6*mu EG11591-MONOMER + EG50003-MONOMER_mod_pan4p_mod_lipo + mg2_c + 2.0 protein_b0115 + protein_b0116 + fad_c + h_c --> PYRUVATEDEH-CPLX_mod_mg2_mod_fad_mod_thmpp_mod_lipo + EG50003-MONOMER_mod_pan4p\n",
      "UAGAAT1_FWD_UDPNACETYLGLUCOSAMACYLTRANS-CPLX\n",
      "4.27350427350427e-6*mu UDPNACETYLGLUCOSAMACYLTRANS-CPLX + uacgam_c + EG50003-MONOMER_mod_pan4p_mod_3hmrs --> u3aga_c + EG50003-MONOMER_mod_pan4p\n",
      "AACPS41_FWD_AAS-MONOMER_mod_mg2\n",
      "4.27350427350427e-6*mu AAS-MONOMER_mod_mg2 + 4.27350427350427e-6*mu + 1.0 EG50003-MONOMER_mod_pan4p + hdcea_c + atp_c --> EG50003-MONOMER_mod_pan4p_mod_hde + amp_c + ppi_c\n",
      "ACOATA1_FWD_CPLX0-252\n",
      "4.27350427350427e-6*mu CPLX0-252 + 4.27350427350427e-6*mu + 1.0 EG50003-MONOMER_mod_pan4p + accoa_c --> EG50003-MONOMER_mod_pan4p_mod_ac + coa_c\n",
      "ACPPAT1201_FWD_EG11437-MONOMER\n",
      "pi_c + EG50003-MONOMER_mod_pan4p_mod_ddca + h_c + 4.27350427350427e-6*mu EG11437-MONOMER --> EG50003-MONOMER_mod_pan4p + ddcap_c\n",
      "AACPS91_FWD_AAS-MONOMER_mod_mg2\n",
      "octa_c + 4.27350427350427e-6*mu AAS-MONOMER_mod_mg2 + 4.27350427350427e-6*mu + 1.0 EG50003-MONOMER_mod_pan4p + atp_c --> amp_c + ppi_c + EG50003-MONOMER_mod_pan4p_mod_oc\n",
      "3OAS1001_FWD_FABB-CPLX\n",
      "4.27350427350427e-6*mu FABB-CPLX + EG50003-MONOMER_mod_pan4p_mod_oc + h_c + EG50003-MONOMER_mod_pan4p_mod_mal --> EG50003-MONOMER_mod_pan4p + co2_c + EG50003-MONOMER_mod_pan4p_mod_3odec\n",
      "3OAS1401_FWD_FABB-CPLX\n",
      "4.27350427350427e-6*mu FABB-CPLX + EG50003-MONOMER_mod_pan4p_mod_ddca + h_c + EG50003-MONOMER_mod_pan4p_mod_mal --> co2_c + EG50003-MONOMER_mod_pan4p + EG50003-MONOMER_mod_pan4p_mod_3omrs\n",
      "3OAS1401_FWD_3-OXOACYL-ACP-SYNTHII-CPLX\n",
      "4.27350427350427e-6*mu 3-OXOACYL-ACP-SYNTHII-CPLX + EG50003-MONOMER_mod_pan4p_mod_ddca + EG50003-MONOMER_mod_pan4p_mod_mal + h_c --> co2_c + EG50003-MONOMER_mod_pan4p + EG50003-MONOMER_mod_pan4p_mod_3omrs\n",
      "AGPAT1611_FWD_1-ACYLGLYCEROL-3-P-ACYLTRANSFER-MONOMER\n",
      "4.27350427350427e-6*mu 1-ACYLGLYCEROL-3-P-ACYLTRANSFER-MONOMER + 1hdec9eg3p_c + EG50003-MONOMER_mod_pan4p_mod_hde --> pa161_c + EG50003-MONOMER_mod_pan4p\n",
      "OPMEACPS1_FWD_FABB-CPLX\n",
      "4.27350427350427e-6*mu FABB-CPLX + EG50003-MONOMER_mod_pan4p_mod_gme + EG50003-MONOMER_mod_pan4p_mod_mal + h_c --> EG50003-MONOMER_mod_pan4p_mod_opme + EG50003-MONOMER_mod_pan4p + co2_c\n",
      "3OAS1211_FWD_FABB-CPLX\n",
      "4.27350427350427e-6*mu FABB-CPLX + EG50003-MONOMER_mod_pan4p_mod_cdec3e + EG50003-MONOMER_mod_pan4p_mod_mal + h_c --> EG50003-MONOMER_mod_pan4p + EG50003-MONOMER_mod_pan4p_mod_3ocddec5e + co2_c\n",
      "3OAS1201_FWD_FABB-CPLX\n",
      "4.27350427350427e-6*mu FABB-CPLX + h_c + EG50003-MONOMER_mod_pan4p_mod_dca + EG50003-MONOMER_mod_pan4p_mod_mal --> EG50003-MONOMER_mod_pan4p + co2_c + EG50003-MONOMER_mod_pan4p_mod_3oddec\n",
      "G3PAT1811_FWD_GLYCEROL-3-P-ACYLTRANSFER-MONOMER\n",
      "4.27350427350427e-6*mu GLYCEROL-3-P-ACYLTRANSFER-MONOMER + EG50003-MONOMER_mod_pan4p_mod_octe + glyc3p_c --> 1odec11eg3p_c + EG50003-MONOMER_mod_pan4p\n",
      "FA161ACPHi1_FWD_EG11095-MONOMER_mod_zn2_mod_fe2_mod_cobalt2_mod_mg2_mod_mn2\n",
      "4.27350427350427e-6*mu EG11095-MONOMER_mod_zn2_mod_fe2_mod_cobalt2_mod_mg2_mod_mn2 + h2o_c + EG50003-MONOMER_mod_pan4p_mod_hde --> EG50003-MONOMER_mod_pan4p + h_c + hdcea_c\n",
      "3OAS1411_FWD_FABB-CPLX\n",
      "4.27350427350427e-6*mu FABB-CPLX + EG50003-MONOMER_mod_pan4p_mod_mal + EG50003-MONOMER_mod_pan4p_mod_cddec5e + h_c --> EG50003-MONOMER_mod_pan4p_mod_3ocmrs7e + EG50003-MONOMER_mod_pan4p + co2_c\n",
      "ACPPAT1411_FWD_EG11437-MONOMER\n",
      "EG50003-MONOMER_mod_pan4p_mod_tde + pi_c + h_c + 4.27350427350427e-6*mu EG11437-MONOMER --> EG50003-MONOMER_mod_pan4p + ttdceap_c\n",
      "G3PAT1411_FWD_GLYCEROL-3-P-ACYLTRANSFER-MONOMER\n",
      "glyc3p_c + EG50003-MONOMER_mod_pan4p_mod_tde + 4.27350427350427e-6*mu GLYCEROL-3-P-ACYLTRANSFER-MONOMER --> 1tdec7eg3p_c + EG50003-MONOMER_mod_pan4p\n",
      "ACPS11_FWD_EG12221-MONOMER\n",
      "coa_c + EG50003-MONOMER + 4.27350427350427e-6*mu EG12221-MONOMER --> EG50003-MONOMER_mod_pan4p + h_c + pap_c\n",
      "3OAS1201_FWD_3-OXOACYL-ACP-SYNTHII-CPLX\n",
      "4.27350427350427e-6*mu 3-OXOACYL-ACP-SYNTHII-CPLX + EG50003-MONOMER_mod_pan4p_mod_mal + EG50003-MONOMER_mod_pan4p_mod_dca + h_c --> EG50003-MONOMER_mod_pan4p + co2_c + EG50003-MONOMER_mod_pan4p_mod_3oddec\n",
      "formation_PYRUVATEDEH-CPLX_mod_mg2_mod_fad_mod_thmpp_mod_lipo\n",
      "thmpp_c + 2.0 protein_b0114 + 4.27350427350427e-6*mu EG11591-MONOMER + EG50003-MONOMER_mod_pan4p_mod_lipo + mg2_c + 2.0 protein_b0115 + protein_b0116 + fad_c + h_c --> PYRUVATEDEH-CPLX_mod_mg2_mod_fad_mod_thmpp_mod_lipo + EG50003-MONOMER_mod_pan4p\n",
      "AGPAT1801_FWD_1-ACYLGLYCEROL-3-P-ACYLTRANSFER-MONOMER\n",
      "4.27350427350427e-6*mu 1-ACYLGLYCEROL-3-P-ACYLTRANSFER-MONOMER + EG50003-MONOMER_mod_pan4p_mod_ocdca + 1odecg3p_c --> EG50003-MONOMER_mod_pan4p + pa180_c\n",
      "AACPS81_FWD_AAS-MONOMER_mod_mg2\n",
      "4.27350427350427e-6*mu AAS-MONOMER_mod_mg2 + 4.27350427350427e-6*mu + 1.0 EG50003-MONOMER_mod_pan4p + dca_c + atp_c --> EG50003-MONOMER_mod_pan4p_mod_dca + amp_c + ppi_c\n",
      "3OAS801_FWD_FABB-CPLX\n",
      "4.27350427350427e-6*mu FABB-CPLX + EG50003-MONOMER_mod_pan4p_mod_hex + EG50003-MONOMER_mod_pan4p_mod_mal + h_c --> co2_c + EG50003-MONOMER_mod_pan4p_mod_3ooct + EG50003-MONOMER_mod_pan4p\n",
      "FA160ACPHi1_FWD_EG11095-MONOMER_mod_zn2_mod_fe2_mod_cobalt2_mod_mg2_mod_mn2\n",
      "4.27350427350427e-6*mu EG11095-MONOMER_mod_zn2_mod_fe2_mod_cobalt2_mod_mg2_mod_mn2 + h2o_c + EG50003-MONOMER_mod_pan4p_mod_palm --> hdca_c + EG50003-MONOMER_mod_pan4p + h_c\n",
      "ACPS11_FWD_HOLO-ACP-SYNTH-CPLX_mod_mg2\n",
      "coa_c + EG50003-MONOMER + 4.27350427350427e-6*mu HOLO-ACP-SYNTH-CPLX_mod_mg2 --> EG50003-MONOMER_mod_pan4p + h_c + pap_c\n",
      "G3PAT1201_FWD_GLYCEROL-3-P-ACYLTRANSFER-MONOMER\n",
      "4.27350427350427e-6*mu GLYCEROL-3-P-ACYLTRANSFER-MONOMER + glyc3p_c + EG50003-MONOMER_mod_pan4p_mod_ddca --> 1ddecg3p_c + EG50003-MONOMER_mod_pan4p\n",
      "EDTXS21_FWD_MYRISTOYLACYLTRAN-MONOMER\n",
      "4.27350427350427e-6*mu MYRISTOYLACYLTRAN-MONOMER + kdo2lipid4L_c + EG50003-MONOMER_mod_pan4p_mod_myrs --> lipa_c + EG50003-MONOMER_mod_pan4p\n",
      "AGPAT1811_FWD_1-ACYLGLYCEROL-3-P-ACYLTRANSFER-MONOMER\n",
      "1odec11eg3p_c + 4.27350427350427e-6*mu 1-ACYLGLYCEROL-3-P-ACYLTRANSFER-MONOMER + EG50003-MONOMER_mod_pan4p_mod_octe --> EG50003-MONOMER_mod_pan4p + pa181_c\n",
      "AACPS71_FWD_AAS-MONOMER_mod_mg2\n",
      "4.27350427350427e-6*mu AAS-MONOMER_mod_mg2 + 4.27350427350427e-6*mu + 1.0 EG50003-MONOMER_mod_pan4p + atp_c + ddca_c --> amp_c + EG50003-MONOMER_mod_pan4p_mod_ddca + ppi_c\n",
      "ACPPAT1401_FWD_EG11437-MONOMER\n",
      "pi_c + h_c + 4.27350427350427e-6*mu EG11437-MONOMER + EG50003-MONOMER_mod_pan4p_mod_myrs --> EG50003-MONOMER_mod_pan4p + ttdcap_c\n"
     ]
    }
   ],
   "source": [
    "for reaction in me.metabolites.get_by_id('EG50003-MONOMER_mod_pan4p').reactions:\n",
    "    reaction.update()\n",
    "    print reaction\n",
    "    print reaction.reaction"
   ]
  },
  {
   "cell_type": "markdown",
   "metadata": {},
   "source": [
    "## Add in translocation"
   ]
  },
  {
   "cell_type": "raw",
   "metadata": {
    "collapsed": false
   },
   "source": [
    "translocPath = pandas.read_csv(join(ecoli_files_dir, \"translocation_pathways.txt\"),sep='\\t')\n",
    "\n",
    "for index, row in translocPath.iterrows():\n",
    "    translocRxn = ProteinTranslocationData(row.Reaction_name, me)\n",
    "    translocRxn.keff = float(row.Keff)\n",
    "    translocRxn.costs_complexes = row.Complexes.split(' AND ')"
   ]
  },
  {
   "cell_type": "raw",
   "metadata": {
    "collapsed": false
   },
   "source": [
    "proteins_sa_coeff_inner={}\n",
    "\n",
    "transloc = pandas.read_csv(join(ecoli_files_dir, \"peptide_compartment_and_pathways2.txt\"), sep='\\t', comment=\"#\")\n",
    "for index, row in transloc.iterrows():\n",
    "    me.metabolites.get_by_id(row.Complex).compartment = row.Complex_compartment\n",
    "    me.metabolites.get_by_id('protein_'+row.Protein.split('(')[0]).compartment = row.Protein_compartment\n",
    "    #if index > 316:\n",
    "    #    continue\n",
    "    if row.translocase_pathway=='s':\n",
    "        me.translocation_pathways.srp_translocation.add_translocation_cost(me,row.Complex,row.Protein)\n",
    "        \n",
    "        ## This is in preparation for membrane constraint\n",
    "        mass = me.translation_data.get_by_id(row.Protein.split('(')[0]).mass\n",
    "        if row.Complex in proteins_sa_coeff_inner.keys():\n",
    "            proteins_sa_coeff_inner[row.Complex]+=mass*1.21/42.*2\n",
    "        else:\n",
    "            proteins_sa_coeff_inner[row.Complex]=mass*1.21/42.*2\n",
    "    elif row.translocase_pathway == 'r':\n",
    "        me.translocation_pathways.srp_translocation.add_translocation_cost(me,row.Complex,row.Protein)       \n",
    "    elif row.translocase_pathway == 'p':\n",
    "        me.translocation_pathways.srp_yidC_translocation.add_translocation_cost(me,row.Complex,row.Protein)         \n",
    "    elif row.translocase_pathway =='t':\n",
    "        me.translocation_pathways.tat_translocation.add_translocation_cost(me,row.Complex,row.Protein)\n",
    "    elif row.translocase_pathway=='a':\n",
    "        me.translocation_pathways.srp_translocation.add_translocation_cost(me,row.Complex,row.Protein)\n",
    "        me.translocation_pathways.secA_translocation.add_translocation_cost(me,row.Complex,row.Protein)\n",
    "    elif row.translocase_pathway =='l':\n",
    "        me.translocation_pathways.lol_translocation.add_translocation_cost(me,row.Complex,row.Protein)\n",
    "    elif row.translocase_pathway =='b':\n",
    "        me.translocation_pathways.bam_translocation.add_translocation_cost(me,row.Complex,row.Protein)\n",
    "    elif row.translocase_pathway =='y':\n",
    "        me.translocation_pathways.yidC_translocation.add_translocation_cost(me,row.Complex,row.Protein)        \n",
    "    elif row.translocase_pathway!='n':\n",
    "        print row.translocase_pathway        "
   ]
  },
  {
   "cell_type": "markdown",
   "metadata": {},
   "source": [
    "## Make RNA splicing machinery"
   ]
  },
  {
   "cell_type": "code",
   "execution_count": 27,
   "metadata": {
    "collapsed": false,
    "scrolled": true
   },
   "outputs": [],
   "source": [
    "#generic_RNase = GenericData(\"generic_RNase\", me,\n",
    "#                            {ecoli_k12.replace_divalent(i) for i in generic_RNase_list})\n",
    "#generic_RNase.create_reactions()\n",
    "\n",
    "rRNA_machinery = ComplexData(\"rRNA_containing_excision_machinery\", me)\n",
    "#rRNA_machinery.stoichiometry = {ecoli_k12.replace_divalent(i): 1 for i in ecoli_k12.rRNA_containing}\n",
    "rRNA_machinery.stoichiometry = {i: 1 for i in ecoli_k12.rRNA_containing}\n",
    "rRNA_machinery.create_complex_formation()\n",
    "rRNA_mod = ModificationData(\"rRNA_containing_excision\", me)\n",
    "rRNA_mod.stoichiometry = {'h2o_c': -1, 'h_c': 1}\n",
    "rRNA_mod.enzyme = rRNA_machinery.id\n",
    "\n",
    "monocistronic_machinery = ComplexData(\"monocistronic_excision_machinery\", me)\n",
    "#monocistronic_machinery.stoichiometry = {ecoli_k12.replace_divalent(i): 1 for i in ecoli_k12.monocistronic}\n",
    "monocistronic_machinery.stoichiometry = {i: 1 for i in ecoli_k12.monocistronic}\n",
    "monocistronic_machinery.create_complex_formation()\n",
    "monocistronic_mod = ModificationData(\"monocistronic_excision\", me)\n",
    "monocistronic_mod.stoichiometry = {'h2o_c': -1, 'h_c': 1}\n",
    "monocistronic_mod.enzyme = monocistronic_machinery.id\n",
    "\n",
    "polycistronic_machinery = ComplexData(\"polycistronic_excision_machinery\", me)\n",
    "#polycistronic_machinery.stoichiometry = {ecoli_k12.replace_divalent(i): 1 for i in ecoli_k12.polycistronic_wout_rRNA}\n",
    "polycistronic_machinery.stoichiometry = {i: 1 for i in ecoli_k12.polycistronic_wout_rRNA}\n",
    "polycistronic_machinery.create_complex_formation()\n",
    "polycistronic_mod = ModificationData(\"polycistronic_excision\", me)\n",
    "polycistronic_mod.stoichiometry = {'h2o_c': -1, 'h_c': 1}\n",
    "polycistronic_mod.enzyme = polycistronic_machinery.id\n",
    "\n",
    "for t in me.transcription_data:\n",
    "    n_excised = sum(t.excised_bases.values())\n",
    "    n_cuts = len(t.RNA_products) * 2\n",
    "    if n_excised == 0 or n_cuts == 0:\n",
    "        continue\n",
    "    RNA_types = list(t.RNA_types)\n",
    "    n_tRNA = RNA_types.count(\"tRNA\")\n",
    "    \n",
    "    if \"rRNA\" in set(RNA_types):\n",
    "        t.modifications[rRNA_mod.id] = n_cuts\n",
    "    elif n_tRNA == 1:\n",
    "        t.modifications[monocistronic_mod.id] = n_cuts\n",
    "    elif n_tRNA > 1:\n",
    "        t.modifications[polycistronic_mod.id] = n_cuts\n",
    "    else:  # only applies to rnpB\n",
    "        t.modifications[monocistronic_mod.id] = n_cuts"
   ]
  },
  {
   "cell_type": "markdown",
   "metadata": {},
   "source": [
    "## Remove unused protein and mRNA\n",
    "\n",
    "This should make the model solve faster"
   ]
  },
  {
   "cell_type": "raw",
   "metadata": {
    "collapsed": false
   },
   "source": [
    "one_rxn_list = []\n",
    "for met in me.metabolites:\n",
    "    if len(me.metabolites.get_by_id(met.id.rstrip('_')).reactions) == 1:\n",
    "        print met, met.reactions\n",
    "        one_rxn_list.append(met.id)"
   ]
  },
  {
   "cell_type": "raw",
   "metadata": {
    "collapsed": false,
    "scrolled": true
   },
   "source": [
    "for cplx in me.complex_data:\n",
    "    for protein in cplx.stoichiometry.keys():\n",
    "        try:\n",
    "            if len(me.metabolites.get_by_id(protein).reactions) == 1:\n",
    "                print protein\n",
    "        except:\n",
    "            print cplx.parent_reactions, protein, me.metabolites.get_by_id(protein.replace('protein','RNA')).RNA_type"
   ]
  },
  {
   "cell_type": "raw",
   "metadata": {},
   "source": [
    "for p in me.metabolites.query(\"protein\"):\n",
    "    delete = True\n",
    "    for rxn in p._reaction:\n",
    "        print p\n",
    "        print rxn.id\n",
    "        if p in rxn.reactants:\n",
    "            delete = False       \n",
    "    if delete:\n",
    "        while len(p._reaction) > 0:\n",
    "            list(p._reaction)[0].delete(remove_orphans=True)"
   ]
  },
  {
   "cell_type": "markdown",
   "metadata": {},
   "source": [
    "This gives the total number of genes included"
   ]
  },
  {
   "cell_type": "markdown",
   "metadata": {},
   "source": [
    "## Attempt to set keffs"
   ]
  },
  {
   "cell_type": "code",
   "execution_count": 28,
   "metadata": {
    "collapsed": false
   },
   "outputs": [
    {
     "name": "stdout",
     "output_type": "stream",
     "text": [
      "no keff found for keff_GLUTRR_CPLX0_DASH_3741\n",
      "no keff found for keff_suf_2fe2s_formation_sufBC2DES_pathway_complex\n",
      "no keff found for keff_suf_4fe4s_formation_sufBC2DES_pathway_complex\n",
      "no keff found for keff_isc_2fe2s_formation_iscUS_cyaY_pathway_complex\n",
      "no keff found for keff_isc_4fe4s_formation_iscUS_cyaY_pathway_complex\n"
     ]
    }
   ],
   "source": [
    "divalent_list = divalent_list\n",
    "monovalent_list = ['_mod_k','_mod_na1']\n",
    "from pickle import load\n",
    "with open(\"test_keffs.pickle\", \"rb\") as infile:\n",
    "    old_keffs = load(infile)\n",
    "keffs = {}\n",
    "\n",
    "for keff, value in old_keffs.items():\n",
    "    keffs[keff] = value\n",
    "\n",
    "#        for i in divalent_list: \n",
    "#        keff = keff.replace(i, 'generic_divalent')\n",
    "#    for i in monovalent_list: \n",
    "#keff = keff.replace(i, '_mod_generic_monovalent')\n",
    "\n",
    "for r in me.reactions:\n",
    "    if isinstance(r, MetabolicReaction) and r.complex_data is None:\n",
    "        continue\n",
    "    if isinstance(r, MetabolicReaction) and r.complex_data.id != \"CPLX_dummy\":\n",
    "        met_rxn = r\n",
    "        key = met_rxn.id.replace(\"-\", \"_DASH_\").replace(\"__\", \"_DASH_\").replace(\":\",\"_COLON_\")\n",
    "        #key = met_rxn.id\n",
    "        key = \"keff_\" + key.replace(\"_FWD_\", \"_\").replace(\"_REV_\", \"_\")\n",
    "\n",
    "        matches = [i for i in keffs if key in i]\n",
    "        # get the direction\n",
    "        if met_rxn.reverse:\n",
    "            matches = [i for i in matches if i.endswith(\"_reverse_priming_keff\")]\n",
    "        else:\n",
    "            matches = [i for i in matches if i.endswith(\"_forward_priming_keff\")]\n",
    "        if len(matches) == 1:\n",
    "            met_rxn.keff = keffs[matches[0]]\n",
    "        elif len(matches) > 0:\n",
    "            if len(matches) == len([i for i in matches if key + \"_mod_\"]):\n",
    "                met_rxn.keff = keffs[matches[0]]\n",
    "            else:\n",
    "                print key, len(matches)\n",
    "        else:  # len(matches) == 0\n",
    "            print \"no keff found for\", key"
   ]
  },
  {
   "cell_type": "code",
   "execution_count": 29,
   "metadata": {
    "collapsed": false
   },
   "outputs": [
    {
     "name": "stdout",
     "output_type": "stream",
     "text": [
      "b1474 TODO selenocysteine\n",
      "b1474 TODO selenocysteine\n",
      "b2891 TODO selenocysteine\n",
      "b2891 TODO selenocysteine\n",
      "b3894 TODO selenocysteine\n",
      "b3894 TODO selenocysteine\n",
      "b4079 TODO selenocysteine\n",
      "b4079 TODO selenocysteine\n"
     ]
    }
   ],
   "source": [
    "for r in me.reactions:\n",
    "    if hasattr(r, \"update\"):\n",
    "        r.update()"
   ]
  },
  {
   "cell_type": "code",
   "execution_count": 30,
   "metadata": {
    "collapsed": false
   },
   "outputs": [],
   "source": [
    "for c in me.complex_data:\n",
    "    try:\n",
    "        c.create_complex_formation()\n",
    "        print c\n",
    "    except:\n",
    "        pass"
   ]
  },
  {
   "cell_type": "code",
   "execution_count": 31,
   "metadata": {
    "collapsed": false,
    "scrolled": true
   },
   "outputs": [],
   "source": [
    "for c_d in me.complex_data:\n",
    "    c = c_d.complex\n",
    "    if len(c.reactions) == 1:\n",
    "        list(c.reactions)[0].delete(remove_orphans=True)\n",
    "        \n",
    "for p in me.metabolites.query(\"protein\"):\n",
    "    delete = True\n",
    "    for rxn in p._reaction:\n",
    "        if p in rxn.reactants:\n",
    "            delete = False       \n",
    "    if delete:\n",
    "        while len(p._reaction) > 0:\n",
    "            list(p._reaction)[0].delete(remove_orphans=True)\n",
    "            \n",
    "for m in me.metabolites.query(\"RNA\"):\n",
    "    delete = True\n",
    "    for rxn in m._reaction:\n",
    "        if m in rxn.reactants and not rxn.id.startswith('DM_'):\n",
    "            delete = False       \n",
    "    if delete:\n",
    "        me.reactions.get_by_id('DM_' + m.id).remove_from_model(remove_orphans=True)\n",
    "        m.remove_from_model(method='subtractive')\n",
    "        \n",
    "for t in me.reactions.query('transcription_TU'):\n",
    "    delete = True\n",
    "    for product in t.products:\n",
    "        if isinstance(product, TranscribedGene):\n",
    "            delete = False\n",
    "    if delete:\n",
    "        t.remove_from_model(remove_orphans=True)"
   ]
  },
  {
   "cell_type": "markdown",
   "metadata": {},
   "source": [
    "# TODO address these \n",
    "## make sure they are actually dead ends"
   ]
  },
  {
   "cell_type": "code",
   "execution_count": 32,
   "metadata": {
    "collapsed": false,
    "scrolled": true
   },
   "outputs": [
    {
     "name": "stdout",
     "output_type": "stream",
     "text": [
      "cpg180_c frozenset([<MetabolicReaction CFAS180G_FWD_CFA-CPLX_mod_hco3 at 0x7fe7b7f4c650>])\n",
      "selnp_c frozenset([<MetabolicReaction SELNPS_FWD_EG10943-MONOMER_mod_mg2 at 0x7fe7b7de0890>])\n",
      "ragund_c frozenset([<MetabolicReaction O16AT_FWD_EG11984-MONOMER at 0x7fe7b7efeb90>])\n",
      "23doguln_c frozenset([<MetabolicReaction DOGULNR_FWD_CPLX0-2061 at 0x7fe7b7c36210>])\n",
      "4mhetz_c frozenset([<MetabolicReaction HETZK_FWD_THZ-KIN-MONOMER at 0x7fe7b75f27d0>])\n",
      "4hthr_c frozenset([<MetabolicReaction 4HTHRS_FWD_THRESYN-MONOMER_mod_pydx5p at 0x7fe7b79e61d0>])\n",
      "cpe160_c frozenset([<MetabolicReaction CFAS160E_FWD_CFA-CPLX_mod_hco3 at 0x7fe7b7edcf90>])\n",
      "gdpfuc_c frozenset([<MetabolicReaction GOFUCR_FWD_CPLX0-3881 at 0x7fe7b7ad2350>])\n",
      "cinnm_c frozenset([<MetabolicReaction CINNDO_FWD_HCAMULTI-CPLX at 0x7fe7b75e5e90>])\n",
      "preq1_c frozenset([<MetabolicReaction CDGR_FWD_QueF_dim at 0x7fe7b8844750>])\n",
      "aconm_c frozenset([<MetabolicReaction ACONMT_FWD_G6806-MONOMER at 0x7fe7b7eecc90>])\n",
      "didp_c frozenset([<MetabolicReaction NTP11_FWD_CPLX0-3948_mod_mg2 at 0x7fe7b7f4c150>])\n",
      "hqn_c frozenset([<MetabolicReaction AB6PGH_FWD_G495-MONOMER at 0x7fe7b8039a50>])\n",
      "malt6p_c frozenset([<MetabolicReaction MALTptspp_FWD_CPLX-164 at 0x7fe7b89b90d0>])\n",
      "thmnp_c frozenset([<MetabolicReaction DHMPTR_FWD_G6862-MONOMER at 0x7fe7b7ea8b90>])\n",
      "n8aspmd_c frozenset([<MetabolicReaction SPMDAT2_FWD_SPERMACTRAN-CPLX at 0x7fe7b7c13110>])\n",
      "dxyl_c frozenset([<MetabolicReaction DXYLK_FWD_CPLX0-7466_mod_mg2 at 0x7fe7b802ab10>])\n",
      "mercppyr_c frozenset([<MetabolicReaction MCPST_FWD_EG11600-MONOMER at 0x7fe7b7a39650>])\n",
      "lipoamp_c frozenset([<MetabolicReaction LIPATPT_FWD_EG11796-MONOMER at 0x7fe7b815f150>])\n",
      "mi1p__D_c frozenset([<MetabolicReaction MI1PP_FWD_EG10983-MONOMER_mod_mg2 at 0x7fe7b88d99d0>])\n",
      "mococdp_c frozenset([<MetabolicReaction MOCDS_FWD_G7496-MONOMER_mod_mg2 at 0x7fe7b7b46550>])\n",
      "met__D_c frozenset([<MetabolicReaction METDabcpp_FWD_METNIQ-METHIONINE-ABC-CPLX at 0x7fe7b7a6d790>])\n",
      "2pglyc_c frozenset([<MetabolicReaction PGLYCP_FWD_GPH-MONOMER_mod_mg2_mod_cl at 0x7fe7b7af3250>])\n",
      "acanth_c frozenset([<MetabolicReaction ACANTHAT_FWD_CPLX0-236 at 0x7fe7b7b04d50>])\n",
      "xdp_c frozenset([<MetabolicReaction NTP12_FWD_CPLX0-3948_mod_mg2 at 0x7fe7b7cec510>])\n",
      "na15dap_c frozenset([<MetabolicReaction APCS_FWD_SPERMIDINESYN-CPLX at 0x7fe7b7997610>])\n",
      "cpg160_c frozenset([<MetabolicReaction CFAS160G_FWD_CFA-CPLX_mod_hco3 at 0x7fe7b7edcf50>])\n",
      "sarcs_c frozenset([<MetabolicReaction SARCOX_FWD_SARCOX-MONOMER_mod_fad at 0x7fe7b7a0b0d0>])\n",
      "cpe180_c frozenset([<MetabolicReaction CFAS180E_FWD_CFA-CPLX_mod_hco3 at 0x7fe7b81b4b50>])\n",
      "cs_e frozenset([<MetabolicReaction Cs_peri_import_FWD_CPLX_dummy at 0x7fe7b7e73c10>])\n",
      "athtp_c frozenset([<MetabolicReaction ThDPAT_FWD_CPLX_dummy at 0x7fe7b898dc10>])\n",
      "ap5a_c frozenset([<MetabolicReaction AP5AH_FWD_EG10048-MONOMER at 0x7fe7b8039890>])\n",
      "aso4_c frozenset([<MetabolicReaction ASR_FWD_GRXB-MONOMER_EG12237-MONOMER at 0x7fe7b7933190>])\n",
      "dmbzid_c frozenset([<MetabolicReaction NNDMBRT_FWD_DMBPPRIBOSYLTRANS-CPLX at 0x7fe7b7d33650>])\n",
      "Nmtrp_c frozenset([<MetabolicReaction MTRPOX_FWD_SARCOX-MONOMER_mod_fad at 0x7fe7b8195250>])\n",
      "gp4g_c frozenset([<MetabolicReaction GP4GH_FWD_EG10048-MONOMER at 0x7fe7b80488d0>])\n",
      "ag_c frozenset([<MetabolicReaction AGt3_FWD_CPLX0-1721 at 0x7fe7b7a28b10>])\n",
      "N1aspmd_c frozenset([<MetabolicReaction SPMDAT1_FWD_SPERMACTRAN-CPLX at 0x7fe7b7c130d0>])\n",
      "tungs_c frozenset([<MetabolicReaction TUNGSabcpp_FWD_ABC-19-CPLX at 0x7fe7b7d14890>])\n"
     ]
    }
   ],
   "source": [
    "for metabolites in me.metabolites:\n",
    "    if len(metabolites.reactions) == 1:\n",
    "        print metabolites.id, metabolites.reactions"
   ]
  },
  {
   "cell_type": "markdown",
   "metadata": {},
   "source": [
    "## TODO\n",
    "glycogen_demand = (glycogen_g_per_g)*(1./glycogen_mw)*1000. "
   ]
  },
  {
   "cell_type": "code",
   "execution_count": 33,
   "metadata": {
    "collapsed": false,
    "scrolled": true
   },
   "outputs": [
    {
     "data": {
      "text/plain": [
       "1550"
      ]
     },
     "execution_count": 33,
     "metadata": {},
     "output_type": "execute_result"
    }
   ],
   "source": [
    "len(me.metabolites.query('RNA_b'))"
   ]
  },
  {
   "cell_type": "code",
   "execution_count": 34,
   "metadata": {
    "collapsed": false,
    "scrolled": true
   },
   "outputs": [
    {
     "data": {
      "text/plain": [
       "1335"
      ]
     },
     "execution_count": 34,
     "metadata": {},
     "output_type": "execute_result"
    }
   ],
   "source": [
    "len(me.reactions.query(\"transcription\"))"
   ]
  },
  {
   "cell_type": "code",
   "execution_count": 35,
   "metadata": {
    "collapsed": false
   },
   "outputs": [],
   "source": [
    "demands = {'murein5px4p_p': 0.01389, 'kdo2lipid4_e': 0.01945, 'pe160_c': 0.01786,\n",
    "           'pe160_p': 0.04594, 'pe161_c': 0.02105, 'pe161_c': 0.05415}\n",
    "for met, stoich in demands.items():\n",
    "    r = Reaction('DM_' + met)\n",
    "    r.add_metabolites({me.metabolites.get_by_id(met): -1})\n",
    "    r.lower_bound = stoich\n",
    "    me.add_reaction(r)"
   ]
  },
  {
   "cell_type": "markdown",
   "metadata": {},
   "source": [
    "## Solve"
   ]
  },
  {
   "cell_type": "code",
   "execution_count": 36,
   "metadata": {
    "collapsed": false
   },
   "outputs": [],
   "source": [
    "me.reactions.dummy_reaction_FWD_CPLX_dummy.objective_coefficient = 1."
   ]
  },
  {
   "cell_type": "code",
   "execution_count": 37,
   "metadata": {
    "collapsed": false
   },
   "outputs": [],
   "source": [
    "# Turn off reactions that throw off results as in iOL\n",
    "KO_list = ['DHPTDNR','DHPTDNRN', 'SUCASPtpp','SUCFUMtpp', 'SUCMALtpp', 'SUCTARTtpp', \n",
    "           'CAT', 'FHL', 'SPODM', 'SPODMp']\n",
    "for reaction in KO_list:\n",
    "    a = me.reactions.query(reaction + '_')\n",
    "    for rxn in a:\n",
    "        rxn.upper_bound = 0\n",
    "        rxn.lower_bound = 0"
   ]
  },
  {
   "cell_type": "code",
   "execution_count": 38,
   "metadata": {
    "collapsed": false
   },
   "outputs": [],
   "source": [
    "me.reactions.EX_glc__D_e.lower_bound = -10"
   ]
  },
  {
   "cell_type": "code",
   "execution_count": 39,
   "metadata": {
    "collapsed": false,
    "scrolled": true
   },
   "outputs": [],
   "source": [
    "expressions = compile_expressions(me)"
   ]
  },
  {
   "cell_type": "code",
   "execution_count": 40,
   "metadata": {
    "collapsed": false,
    "scrolled": false
   },
   "outputs": [
    {
     "data": {
      "text/plain": [
       "<Solution 0.10 at 0x7fe7b6c2b250>"
      ]
     },
     "execution_count": 40,
     "metadata": {},
     "output_type": "execute_result"
    }
   ],
   "source": [
    "solve_at_growth_rate(me, .1, compiled_expressions=expressions)"
   ]
  },
  {
   "cell_type": "code",
   "execution_count": 41,
   "metadata": {
    "collapsed": false
   },
   "outputs": [
    {
     "name": "stdout",
     "output_type": "stream",
     "text": [
      "mu\t\tstatus\n",
      "\u001b[0;32m0.000000\t+\u001b[0m\n",
      "\u001b[0;31m1.000000\t-\u001b[0m\n",
      "\u001b[0;32m0.500000\t+\u001b[0m\n",
      "\u001b[0;32m0.750000\t+\u001b[0m\n",
      "\u001b[0;32m0.875000\t+\u001b[0m\n",
      "\u001b[0;32m0.937500\t+\u001b[0m\n",
      "\u001b[0;31m0.968750\t-\u001b[0m\n",
      "\u001b[0;31m0.953125\t-\u001b[0m\n",
      "\u001b[0;31m0.945312\t-\u001b[0m\n",
      "\u001b[0;31m0.941406\t-\u001b[0m\n",
      "\u001b[0;31m0.939453\t-\u001b[0m\n",
      "\u001b[0;31m0.938477\t-\u001b[0m\n",
      "\u001b[0;31m0.937988\t-\u001b[0m\n",
      "\u001b[0;32m0.937744\t+\u001b[0m\n",
      "\u001b[0;32m0.937866\t+\u001b[0m\n",
      "\u001b[0;32m0.937927\t+\u001b[0m\n",
      "\u001b[0;32m0.937958\t+\u001b[0m\n",
      "\u001b[0;31m0.937973\t-\u001b[0m\n",
      "\u001b[0;31m0.937965\t-\u001b[0m\n",
      "\u001b[0;32m0.937958\t+\u001b[0m\n",
      "completed in 15.3 seconds and 20 iterations\n"
     ]
    },
    {
     "data": {
      "text/plain": [
       "<Solution 0.94 at 0x7fe7b6c17510>"
      ]
     },
     "execution_count": 41,
     "metadata": {},
     "output_type": "execute_result"
    }
   ],
   "source": [
    "binary_search(me, min_mu=0, max_mu=1, mu_accuracy=1e-5,\n",
    "              compiled_expressions=expressions, debug=False, solver = 'gurobi')"
   ]
  },
  {
   "cell_type": "raw",
   "metadata": {
    "collapsed": false,
    "scrolled": true
   },
   "source": [
    "import numpy as np\n",
    "uptake = np.linspace(1.75, 30, 50)\n",
    "error_list = []\n",
    "sol_list = []\n",
    "for i, lower_bound in enumerate(uptake):\n",
    "    print lower_bound, i\n",
    "    me.reactions.EX_glc__D_e.lower_bound = -lower_bound\n",
    "    sol = binary_search(me, min_mu=2, max_mu=2.1, mu_accuracy=1e-5,\n",
    "              compiled_expressions=expressions)\n",
    "    sol_list.append(sol.f)\n",
    "    error_list.append(me.compute_solution_error())\n",
    "    \n",
    "    "
   ]
  },
  {
   "cell_type": "code",
   "execution_count": 42,
   "metadata": {
    "collapsed": false
   },
   "outputs": [
    {
     "data": {
      "text/plain": [
       "'UAA'"
      ]
     },
     "execution_count": 42,
     "metadata": {},
     "output_type": "execute_result"
    }
   ],
   "source": [
    "me.translation_data.b2020.last_codon"
   ]
  },
  {
   "cell_type": "code",
   "execution_count": 43,
   "metadata": {
    "collapsed": false
   },
   "outputs": [
    {
     "data": {
      "text/plain": [
       "'UAA'"
      ]
     },
     "execution_count": 43,
     "metadata": {},
     "output_type": "execute_result"
    }
   ],
   "source": [
    "me.reactions.translation_b2020.translation_data.last_codon"
   ]
  },
  {
   "cell_type": "code",
   "execution_count": 44,
   "metadata": {
    "collapsed": false
   },
   "outputs": [
    {
     "data": {
      "text/plain": [
       "'generic_RF'"
      ]
     },
     "execution_count": 44,
     "metadata": {},
     "output_type": "execute_result"
    }
   ],
   "source": [
    "ribosome.translation_stop_dict.get('UAA')"
   ]
  },
  {
   "cell_type": "code",
   "execution_count": 45,
   "metadata": {
    "collapsed": false
   },
   "outputs": [
    {
     "ename": "AttributeError",
     "evalue": "'dict' object has no attribute 'id'",
     "output_type": "error",
     "traceback": [
      "\u001b[1;31m---------------------------------------------------------------------------\u001b[0m",
      "\u001b[1;31mAttributeError\u001b[0m                            Traceback (most recent call last)",
      "\u001b[1;32m<ipython-input-45-f82bb4709dda>\u001b[0m in \u001b[0;36m<module>\u001b[1;34m()\u001b[0m\n\u001b[1;32m----> 1\u001b[1;33m \u001b[0ma\u001b[0m\u001b[1;33m.\u001b[0m\u001b[0mappend\u001b[0m\u001b[1;33m(\u001b[0m\u001b[0mme\u001b[0m\u001b[1;33m.\u001b[0m\u001b[0mcompute_solution_error\u001b[0m\u001b[1;33m(\u001b[0m\u001b[1;33m)\u001b[0m\u001b[1;33m)\u001b[0m\u001b[1;33m\u001b[0m\u001b[0m\n\u001b[0m",
      "\u001b[1;32m/home/sbrg-cjlloyd/cobrapy/cobra/core/DictList.pyc\u001b[0m in \u001b[0;36mappend\u001b[1;34m(self, object)\u001b[0m\n\u001b[0;32m    102\u001b[0m     \u001b[1;32mdef\u001b[0m \u001b[0mappend\u001b[0m\u001b[1;33m(\u001b[0m\u001b[0mself\u001b[0m\u001b[1;33m,\u001b[0m \u001b[0mobject\u001b[0m\u001b[1;33m)\u001b[0m\u001b[1;33m:\u001b[0m\u001b[1;33m\u001b[0m\u001b[0m\n\u001b[0;32m    103\u001b[0m         \u001b[1;34m\"\"\"append object to end\"\"\"\u001b[0m\u001b[1;33m\u001b[0m\u001b[0m\n\u001b[1;32m--> 104\u001b[1;33m         \u001b[0mthe_id\u001b[0m \u001b[1;33m=\u001b[0m \u001b[0mobject\u001b[0m\u001b[1;33m.\u001b[0m\u001b[0mid\u001b[0m\u001b[1;33m\u001b[0m\u001b[0m\n\u001b[0m\u001b[0;32m    105\u001b[0m         \u001b[0mself\u001b[0m\u001b[1;33m.\u001b[0m\u001b[0m_check\u001b[0m\u001b[1;33m(\u001b[0m\u001b[0mthe_id\u001b[0m\u001b[1;33m)\u001b[0m\u001b[1;33m\u001b[0m\u001b[0m\n\u001b[0;32m    106\u001b[0m         \u001b[0mself\u001b[0m\u001b[1;33m.\u001b[0m\u001b[0m_dict\u001b[0m\u001b[1;33m[\u001b[0m\u001b[0mthe_id\u001b[0m\u001b[1;33m]\u001b[0m \u001b[1;33m=\u001b[0m \u001b[0mlen\u001b[0m\u001b[1;33m(\u001b[0m\u001b[0mself\u001b[0m\u001b[1;33m)\u001b[0m\u001b[1;33m\u001b[0m\u001b[0m\n",
      "\u001b[1;31mAttributeError\u001b[0m: 'dict' object has no attribute 'id'"
     ]
    }
   ],
   "source": [
    "a.append(me.compute_solution_error())"
   ]
  },
  {
   "cell_type": "code",
   "execution_count": null,
   "metadata": {
    "collapsed": false,
    "scrolled": true
   },
   "outputs": [],
   "source": [
    "from matplotlib import pyplot as plt\n",
    "import pandas as pd \n",
    "plt.style.use('bmh')\n",
    "%matplotlib inline"
   ]
  },
  {
   "cell_type": "code",
   "execution_count": null,
   "metadata": {
    "collapsed": false
   },
   "outputs": [],
   "source": [
    "plt.style.available"
   ]
  },
  {
   "cell_type": "code",
   "execution_count": null,
   "metadata": {
    "collapsed": false
   },
   "outputs": [],
   "source": [
    "a = pd.DataFrame.from_dict({'uptake': uptake, 'solution': sol_list, 'error':str(error_list)})"
   ]
  },
  {
   "cell_type": "code",
   "execution_count": null,
   "metadata": {
    "collapsed": false
   },
   "outputs": [],
   "source": [
    "a = a.set_index('uptake')"
   ]
  },
  {
   "cell_type": "code",
   "execution_count": null,
   "metadata": {
    "collapsed": false,
    "scrolled": true
   },
   "outputs": [],
   "source": [
    "sum_error_list = []\n",
    "lower_bound_error = []\n",
    "for uptake in error_list:\n",
    "    sum_error_list.append(uptake['sum_error'])\n",
    "    lower_bound_error.append(uptake['lower_bound_error'])"
   ]
  },
  {
   "cell_type": "code",
   "execution_count": null,
   "metadata": {
    "collapsed": true
   },
   "outputs": [],
   "source": [
    "import statistics as stats"
   ]
  },
  {
   "cell_type": "code",
   "execution_count": null,
   "metadata": {
    "collapsed": false
   },
   "outputs": [],
   "source": [
    "print stats.mean(sum_error_list)\n",
    "print stats.stdev(sum_error_list)\n",
    "print stats.mean(lower_bound_error)\n",
    "print stats.stdev(lower_bound_error)\n",
    "print max(lower_bound_error)"
   ]
  },
  {
   "cell_type": "code",
   "execution_count": null,
   "metadata": {
    "collapsed": false
   },
   "outputs": [],
   "source": [
    "error_list"
   ]
  },
  {
   "cell_type": "code",
   "execution_count": null,
   "metadata": {
    "collapsed": false
   },
   "outputs": [],
   "source": [
    "b = a.plot()\n",
    "b.set_xlim([0, 25])\n",
    "b.set_ylabel('$Growth \\ rate, \\ \\mu \\ (h^{-1})$')\n",
    "b.set_xlabel('$Glucose \\ uptake \\ rate \\ bound \\ (mmol \\ gDW^{-1} h^{-1}$)')\n",
    "b.legend?\n",
    "c = b.figure\n",
    "c.savefig('/home/sbrg-cjlloyd/Desktop/soplex.svg')"
   ]
  },
  {
   "cell_type": "code",
   "execution_count": null,
   "metadata": {
    "collapsed": false
   },
   "outputs": [],
   "source": [
    "sol.x_dict['ATPM_FWD_CPLX_dummy']"
   ]
  },
  {
   "cell_type": "code",
   "execution_count": null,
   "metadata": {
    "collapsed": true
   },
   "outputs": [],
   "source": [
    "me.reactions.ATPM_FWD_CPLX_dummy"
   ]
  },
  {
   "cell_type": "code",
   "execution_count": null,
   "metadata": {
    "collapsed": false,
    "scrolled": true
   },
   "outputs": [],
   "source": [
    "error_list"
   ]
  },
  {
   "cell_type": "code",
   "execution_count": null,
   "metadata": {
    "collapsed": false
   },
   "outputs": [],
   "source": [
    "from matplotlib import pyplot as plt\n",
    "plt.plot(uptake, sol_list)\n",
    "plt.show()"
   ]
  },
  {
   "cell_type": "code",
   "execution_count": null,
   "metadata": {
    "collapsed": false
   },
   "outputs": [],
   "source": [
    "transcription = me.get_transcription_flux()"
   ]
  },
  {
   "cell_type": "code",
   "execution_count": null,
   "metadata": {
    "collapsed": false
   },
   "outputs": [],
   "source": [
    "{k: v for k, v in me.solution.x_dict.items() if v < -1e-8 or v > 1e-8}"
   ]
  },
  {
   "cell_type": "code",
   "execution_count": null,
   "metadata": {
    "collapsed": false
   },
   "outputs": [],
   "source": [
    "me.reactions.EX_na1_e.lower_bound"
   ]
  },
  {
   "cell_type": "code",
   "execution_count": null,
   "metadata": {
    "collapsed": false
   },
   "outputs": [],
   "source": [
    "me.reactions.translation_dummy.reaction"
   ]
  },
  {
   "cell_type": "code",
   "execution_count": null,
   "metadata": {
    "collapsed": true
   },
   "outputs": [],
   "source": []
  },
  {
   "cell_type": "code",
   "execution_count": null,
   "metadata": {
    "collapsed": false
   },
   "outputs": [],
   "source": [
    "import escher\n",
    "view = escher.Builder(\"iJO1366.Central metabolism\")\n",
    "view.reaction_data = me.get_metabolic_flux()\n",
    "view.display_in_notebook()"
   ]
  },
  {
   "cell_type": "code",
   "execution_count": null,
   "metadata": {
    "collapsed": false
   },
   "outputs": [],
   "source": [
    "ppp_shunt = ['G6PDH2r', 'PGL', 'EDA', 'EDD']\n",
    "for reaction in ppp_shunt:\n",
    "    for rxn in me.reactions.query(reaction + '_'):\n",
    "        print reaction, rxn\n",
    "        print rxn.complex_data.stoichiometry"
   ]
  },
  {
   "cell_type": "code",
   "execution_count": null,
   "metadata": {
    "collapsed": false
   },
   "outputs": [],
   "source": [
    "upper_gly = ['PGI', 'PFK', 'FBA', 'TPI']\n",
    "for reaction in upper_gly:\n",
    "    for rxn in me.reactions.query(reaction + '_F'):\n",
    "        print reaction, rxn\n",
    "        print rxn.complex_data.stoichiometry"
   ]
  },
  {
   "cell_type": "code",
   "execution_count": null,
   "metadata": {
    "collapsed": false
   },
   "outputs": [],
   "source": [
    "me.solution.x_dict['formation_EG50003-MONOMER']"
   ]
  }
 ],
 "metadata": {
  "kernelspec": {
   "display_name": "Python 2",
   "language": "python",
   "name": "python2"
  },
  "language_info": {
   "codemirror_mode": {
    "name": "ipython",
    "version": 2
   },
   "file_extension": ".py",
   "mimetype": "text/x-python",
   "name": "python",
   "nbconvert_exporter": "python",
   "pygments_lexer": "ipython2",
   "version": "2.7.6"
  }
 },
 "nbformat": 4,
 "nbformat_minor": 0
}
