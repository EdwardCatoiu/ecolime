{
 "cells": [
  {
   "cell_type": "markdown",
   "metadata": {},
   "source": [
    "\n",
    "# Build a basic ME model"
   ]
  },
  {
   "cell_type": "markdown",
   "metadata": {},
   "source": [
    "We will try to build an ME model from the NC_000913.2 Genbank file, the iJO1366 M model, and the complex reconstruction from iJL1650-ME"
   ]
  },
  {
   "cell_type": "code",
   "execution_count": 1,
   "metadata": {
    "collapsed": false
   },
   "outputs": [],
   "source": [
    "# python imports\n",
    "import re\n",
    "import json\n",
    "from os.path import join\n",
    "\n",
    "# third party imports\n",
    "import pandas\n",
    "import escher\n",
    "import cobra.test\n",
    "\n",
    "# ecoli me\n",
    "import ecolime\n",
    "from ecolime.flat_files import *\n",
    "from ecolime.ecoli_k12 import *\n",
    "from ecolime import ribosome, tRNA_charging, transcription\n",
    "\n",
    "from minime.util import dogma\n",
    "from minime import *\n",
    "from minime.util import building\n",
    "from minime.util.building import add_complex_stoichiometry_data, add_transcription_reaction\n",
    "from minime.util.building import add_complex_modification_data\n",
    "from minime.util.building import add_metabolic_reactions\n",
    "from minime.solve.algorithms import binary_search, fva, solve_at_growth_rate\n",
    "from minime.solve.symbolic import compile_expressions"
   ]
  },
  {
   "cell_type": "code",
   "execution_count": 2,
   "metadata": {
    "collapsed": true
   },
   "outputs": [],
   "source": [
    "import ecolime"
   ]
  },
  {
   "cell_type": "code",
   "execution_count": 3,
   "metadata": {
    "collapsed": false
   },
   "outputs": [],
   "source": [
    "ijo = cobra.test.create_test_model('ecoli')"
   ]
  },
  {
   "cell_type": "markdown",
   "metadata": {},
   "source": [
    "# Colton TODOs \n",
    "- [x] 1) look into all of the free modifications in the original ME and make sure none of thes reactions are blocked\n",
    "- [x] 2) Frameshifts (b2891)\n",
    "- [x] 3) selenocysteine\n",
    "- [x] 4) Non AUG start codons (15%)\n",
    "- [x] 5) moaD is a modifier protein that never has to be made\n",
    "- [x] 6) Correct rpL7/12_mod_1:acetyl modification\n",
    "    - in iOL as a free modification. could be corrected\n",
    "- 7) Remaining Genes: \n",
    "     - pflC, citC, norW - formed but not used in iJL1678\n",
    "     - FusA, tsf - translation reactions need audited and improved\n",
    "     - paaD - FeS transfer chaperone. This process needs audited and improved\n",
    "     - pnp, orn, rhlB - degradosome\n",
    "     - secB, tatE - Translocation Pathways\n",
    "     - lgt, lspA - part of translocation. Not sure how to incorporate-ask Joanne about this"
   ]
  },
  {
   "cell_type": "code",
   "execution_count": 4,
   "metadata": {
    "collapsed": true
   },
   "outputs": [],
   "source": [
    "from minime.util.mass import compute_RNA_mass"
   ]
  },
  {
   "cell_type": "markdown",
   "metadata": {},
   "source": [
    "## Begin by loading metabolites and build Metabolic reactions"
   ]
  },
  {
   "cell_type": "code",
   "execution_count": 5,
   "metadata": {
    "collapsed": false
   },
   "outputs": [
    {
     "name": "stdout",
     "output_type": "stream",
     "text": [
      "Assigned tl to c\n",
      "Assigned hemed to c\n",
      "Assigned pqq to c\n",
      "Assigned dpm to c\n",
      "Assigned 23bpg to c\n",
      "Assigned tqn to c\n"
     ]
    }
   ],
   "source": [
    "me = MEmodel('iJO1366-ME')\n",
    "m_model = ecolime.get_m_model()\n",
    "# some of the \"metabolites\" in iJO1366 \"M\" model are actually complexes. We pass those in\n",
    "# so they get created as complexes, not metabolites.\n",
    "complex_list = []\n",
    "complex_list.extend(i.id for i in m_model.metabolites if i.id.startswith(\"CPLX\"))\n",
    "complex_list.extend(i.id for i in m_model.metabolites if i.id.startswith(\"EG\"))\n",
    "complex_list.extend(i.id for i in m_model.metabolites if \"-MONOMER\" in i.id)\n",
    "complex_list.extend(i.id for i in m_model.metabolites if \"-CPLX\" in i.id)\n",
    "complex_list.extend(i.id for i in m_model.metabolites if \"_mod_\" in i.id)\n",
    "# temp fix\n",
    "complex_list.extend(i.id for i in m_model.metabolites if i.id.startswith(\"Isc\"))\n",
    "complex_list.extend(i.id for i in m_model.metabolites if i.id.startswith(\"Suf\"))\n",
    "complex_list = set(complex_list)\n",
    "building.add_m_model_content(me, m_model, complex_metabolite_ids=complex_list)\n",
    "\n",
    "# if the bounds of this metabolite aren't open, model uses wrong reactions\n",
    "me.reactions.EX_pqq_e.lower_bound = -1000\n"
   ]
  },
  {
   "cell_type": "code",
   "execution_count": 6,
   "metadata": {
    "collapsed": true
   },
   "outputs": [],
   "source": [
    "me.translation_info[\"translation_terminators\"] = ribosome.translation_stop_dict\n",
    "me.translation_info[\"met_start_codons\"] = {\"AUG\", \"GUG\", \"UUG\", \"AUU\", \"CUG\"}"
   ]
  },
  {
   "cell_type": "code",
   "execution_count": 7,
   "metadata": {
    "collapsed": false,
    "scrolled": false
   },
   "outputs": [
    {
     "name": "stdout",
     "output_type": "stream",
     "text": [
      "unknown metabolite 'trdox_c' created\n",
      "unknown metabolite 'fldox_c' created\n",
      "unknown metabolite 'LI_c' created\n",
      "unknown metabolite 'fldrd_c' created\n",
      "unknown metabolite 'trdrd_c' created\n",
      "unknown metabolite 'Oxidized_c' created\n",
      "unknown metabolite '3fe4s_c' created\n",
      "unknown metabolite 'palmitate_c' created\n",
      "unknown metabolite 'C10H8O5_c' created\n",
      "unknown metabolite 'C9H9O4_c' created\n",
      "unknown metabolite 'NiFeCoCN2_c' created\n",
      "unknown metabolite 'acetyl_c' created\n",
      "unknown metabolite 'RNase_m5' created\n",
      "unknown metabolite 'RNase_m16' created\n",
      "unknown metabolite 'RNase_m23' created\n"
     ]
    }
   ],
   "source": [
    "essential_list = [\n",
    "    'trdox_c',\n",
    "    'fldox_c',\n",
    "    'LI_c',\n",
    "    'cs_e',\n",
    "    'fldrd_c',\n",
    "    'trdrd_c',\n",
    "    'Oxidized_c',\n",
    "    'btn_c',\n",
    "    '3fe4s_c',\n",
    "    'palmitate_c',\n",
    "    'C10H8O5_c', 'C9H9O4_c', # for tRNA modifications\n",
    "    'NiFeCoCN2_c', 'acetyl_c',\n",
    "    'RNase_m5','RNase_m16','RNase_m23'] # RNAses are gaps in model, fix how cs is added to\n",
    "\n",
    "for met_id in essential_list:\n",
    "    r = cobra.Reaction(\"EX_\" + met_id)\n",
    "    me.add_reaction(r)\n",
    "    r.reaction = met_id + \" <=> \""
   ]
  },
  {
   "cell_type": "code",
   "execution_count": 8,
   "metadata": {
    "collapsed": false
   },
   "outputs": [],
   "source": [
    "tRNA_mod_dict = get_tRNA_modifications()"
   ]
  },
  {
   "cell_type": "code",
   "execution_count": 9,
   "metadata": {
    "collapsed": false
   },
   "outputs": [],
   "source": [
    "for mod, components in ecolime.tRNA_charging.trna_modification.iteritems():\n",
    "    tRNA_mod = ModificationData(mod, me)\n",
    "    tRNA_mod.enzyme = components['machines']\n",
    "    tRNA_mod.stoichiometry = components['metabolites']\n",
    "    if 'carriers' in components.keys():\n",
    "        for carrier, stoich in components['carriers'].items():\n",
    "            if stoich < 0:\n",
    "                tRNA_mod.enzyme += [carrier]\n",
    "            tRNA_mod.stoichiometry[carrier] = stoich"
   ]
  },
  {
   "cell_type": "markdown",
   "metadata": {},
   "source": [
    "## Build ribosome and RNA Polymerase"
   ]
  },
  {
   "cell_type": "markdown",
   "metadata": {},
   "source": [
    "### Add translation-related Subreactions"
   ]
  },
  {
   "cell_type": "code",
   "execution_count": 10,
   "metadata": {
    "collapsed": false
   },
   "outputs": [],
   "source": [
    "for subreaction in ribosome.translation_subreactions:\n",
    "    subreaction_data = SubreactionData(subreaction, me)\n",
    "    subreaction_data.enzyme = ribosome.translation_subreactions[subreaction]['enzyme']\n",
    "\n",
    "for subreaction in transcription.transcription_subreactions:\n",
    "    subreaction_data = SubreactionData(subreaction, me)\n",
    "    subreaction_data.enzyme = transcription.transcription_subreactions[subreaction]['enzymes']\n",
    "    subreaction_data.stoichiometry = transcription.transcription_subreactions[subreaction]['stoich']"
   ]
  },
  {
   "cell_type": "markdown",
   "metadata": {},
   "source": [
    "Selenocysteine and start codons"
   ]
  },
  {
   "cell_type": "code",
   "execution_count": 11,
   "metadata": {
    "collapsed": false
   },
   "outputs": [],
   "source": [
    "# TODO contrant type is 'trna efficiency' does this change anything?\n",
    "# 1 machine + 1 atp + 1 aa + 1 h2o --> 1 machine-amp + 1 h + 1 ppi\n",
    "# 1 machine-amp + 1 free tRNA --> 1 machine + 1 amp + 1 charged tRNA\n",
    "subreaction_data = SubreactionData('fmet_addition_at_START', me)\n",
    "subreaction_data.enzyme = ['InfB_mono',  # Start codon loader enzyme and formylmethyltransferase\n",
    "                           'Fmt_mono_mod_mg2_mod_k'] \n",
    "subreaction_data.stoichiometry = {'h_c': 1, '10fthf_c': -1, 'thf_c':1,\n",
    "                                 'generic_tRNA_START_met__L_c': -1, 'met__L_c': -1}\n",
    "\n",
    "subreaction_data = SubreactionData('sec_addition_at_UGA', me)\n",
    "subreaction_data.enzyme = ['SelA_deca_mod_10:pydx5p',\n",
    "                           'SelB_mono'] # Selenocysteine loader enzyme\n",
    "subreaction_data.stoichiometry = {'h_c': 1, 'h2o_c': -1, 'selnp_c':-1, 'pi_c':1,\n",
    "                                 'generic_tRNA_UGA_cys__L_c': -1, 'cys__L_c': -1}\n",
    "\n",
    "# create subreaction for each codon\n",
    "for codon in dogma.codon_table:\n",
    "    if dogma.codon_table[codon] == '*':\n",
    "        stop_codon = codon.replace('T','U')\n",
    "        stop_enzyme = ribosome.translation_stop_dict.get(stop_codon)\n",
    "        me.add_metabolites([Complex(stop_enzyme)])\n",
    "        \n",
    "        subreaction_data = SubreactionData(stop_codon + '_' + stop_enzyme +\n",
    "                                           '_mediated_termination', me)\n",
    "        subreaction_data.enzyme = stop_enzyme\n",
    "        subreaction_data.stoichiometry = {}\n",
    "    else:\n",
    "        full_aa = dogma.amino_acids[dogma.codon_table[codon]]\n",
    "        amino_acid = full_aa.split('_')[0]\n",
    "        subreaction_data = SubreactionData(amino_acid + '_addition_at_' \\\n",
    "                                           + codon.replace('T','U'), me)\n",
    "        tRNA = 'generic_tRNA_' + codon.replace('T','U') + '_' + full_aa\n",
    "        subreaction_data.enzyme = 'generic_Tuf' # Default AA loader enzyme\n",
    "        subreaction_data.stoichiometry = {full_aa: -1, 'atp_c': -1,# 'h2o_c': 1,\n",
    "                                          'amp_c': 1, 'h_c': 1, 'ppi_c': 1,\n",
    "                                          tRNA: -1}"
   ]
  },
  {
   "cell_type": "code",
   "execution_count": 12,
   "metadata": {
    "collapsed": false,
    "scrolled": true
   },
   "outputs": [
    {
     "name": "stdout",
     "output_type": "stream",
     "text": [
      "Applying frameshift on b2891\n",
      "Created <TranscribedGene Rho_hexa_mod_3:mg2 at 0x7fd3e659abd0> in <TranscriptionReaction transcription_TU0_13350_from_RpoD_mono at 0x7fd3ea5e25d0>"
     ]
    },
    {
     "name": "stderr",
     "output_type": "stream",
     "text": [
      "/home/sbrg-cjlloyd/minime/minime/core/MEReactions.py:265 \u001b[1;31mUserWarning\u001b[0m: RNA Polymerase (RNAP70-CPLX) not found\n",
      "/home/sbrg-cjlloyd/minime/minime/core/MEReactions.py:265 \u001b[1;31mUserWarning\u001b[0m: RNA Polymerase (CPLX0-222) not found\n",
      "/home/sbrg-cjlloyd/minime/minime/core/MEReactions.py:265 \u001b[1;31mUserWarning\u001b[0m: RNA Polymerase (RNAP54-CPLX) not found\n",
      "/home/sbrg-cjlloyd/minime/minime/core/MEReactions.py:265 \u001b[1;31mUserWarning\u001b[0m: RNA Polymerase (RNAPE-CPLX) not found\n",
      "/home/sbrg-cjlloyd/minime/minime/core/MEReactions.py:265 \u001b[1;31mUserWarning\u001b[0m: RNA Polymerase (RNAP32-CPLX) not found\n",
      "/home/sbrg-cjlloyd/minime/minime/core/MEReactions.py:265 \u001b[1;31mUserWarning\u001b[0m: RNA Polymerase (RNAPS-CPLX) not found\n",
      "/home/sbrg-cjlloyd/minime/minime/core/MEReactions.py:265 \u001b[1;31mUserWarning\u001b[0m: RNA Polymerase (CPLX0-221) not found\n"
     ]
    },
    {
     "name": "stdout",
     "output_type": "stream",
     "text": [
      "\n",
      "Created <TranscribedGene Mfd_mono_mod_1:mg2 at 0x7fd3e64d2310> in <TranscriptionReaction transcription_TU0_13350_from_RpoD_mono at 0x7fd3ea5e25d0>\n",
      "Created <TranscribedGene RpoZ_mono_mod_1:mg2 at 0x7fd3e64d2390> in <TranscriptionReaction transcription_TU0_13350_from_RpoD_mono at 0x7fd3ea5e25d0>\n",
      "Created <TranscribedGene NusG_mono at 0x7fd3e64d2350> in <TranscriptionReaction transcription_TU0_13350_from_RpoD_mono at 0x7fd3ea5e25d0>\n",
      "Created <TranscribedGene GreA_mono at 0x7fd3e64d23d0> in <TranscriptionReaction transcription_TU0_13350_from_RpoD_mono at 0x7fd3ea5e25d0>\n",
      "Created <TranscribedGene NusA_mono at 0x7fd3e64d2410> in <TranscriptionReaction transcription_TU0_13350_from_RpoD_mono at 0x7fd3ea5e25d0>\n",
      "Created <TranscribedGene GreB_mono at 0x7fd3e64d2450> in <TranscriptionReaction transcription_TU0_13350_from_RpoD_mono at 0x7fd3ea5e25d0>\n",
      "Created <TranscribedGene RpsJ_mono at 0x7fd3e64d2490> in <TranscriptionReaction transcription_TU0_14574_with_TERM0_1066_from_RpoD_mono at 0x7fd3ea2edb10>\n",
      "Created <TranscribedGene NusB_mono at 0x7fd3e64d24d0> in <TranscriptionReaction transcription_TU0_14574_with_TERM0_1066_from_RpoD_mono at 0x7fd3ea2edb10>\n",
      "Created <TranscribedGene RplD_mono at 0x7fd3e64d2510> in <TranscriptionReaction transcription_TU0_14574_with_TERM0_1066_from_RpoD_mono at 0x7fd3ea2edb10>\n",
      "Created <TranscribedGene RpsD_mono at 0x7fd3e64d2550> in <TranscriptionReaction transcription_TU0_14574_with_TERM0_1066_from_RpoD_mono at 0x7fd3ea2edb10>\n",
      "Created <TranscribedGene RplC_mono at 0x7fd3e64d2590> in <TranscriptionReaction transcription_TU0_14574_with_TERM0_1066_from_RpoD_mono at 0x7fd3ea2edb10>\n",
      "Created <TranscribedGene RplM_mono at 0x7fd3e64d25d0> in <TranscriptionReaction transcription_TU0_14574_with_TERM0_1066_from_RpoD_mono at 0x7fd3ea2edb10>\n",
      "Created <Metabolite Rrf_mono at 0x7fd3e64d2610> in <TranslationReaction translation_b0001 at 0x7fd3e94d5090>\n",
      "Created <Metabolite Fmt_mono_mod_mg2_mod_k at 0x7fd3e64d2650> in <TranslationReaction translation_b0001 at 0x7fd3e94d5090>\n",
      "Created <Metabolite PrfC_mono at 0x7fd3e64d2710> in <TranslationReaction translation_b0001 at 0x7fd3e94d5090>\n",
      "Created <Metabolite generic_Tuf at 0x7fd3e64d26d0> in <TranslationReaction translation_b0001 at 0x7fd3e94d5090>\n",
      "Created <Metabolite InfB_mono at 0x7fd3e64d2750> in <TranslationReaction translation_b0001 at 0x7fd3e94d5090>\n",
      "Created <Metabolite Def_mono_mod_1:fe2 at 0x7fd3e64d2790> in <TranslationReaction translation_b0001 at 0x7fd3e94d5090>\n",
      "Created <Metabolite DnaJ_dim_mod_4:zn2 at 0x7fd3e64d2b10> in <TranslationReaction translation_b0008 at 0x7fd3e94d5850>\n",
      "Created <Metabolite DnaK_mono at 0x7fd3e64d2b50> in <TranslationReaction translation_b0008 at 0x7fd3e94d5850>\n",
      "Created <Metabolite Map_mono_mod_2:fe2 at 0x7fd3e64d2b90> in <TranslationReaction translation_b0008 at 0x7fd3e94d5850>\n",
      "Created <Metabolite GrpE_dim at 0x7fd3e64d2bd0> in <TranslationReaction translation_b0008 at 0x7fd3e94d5850>\n",
      "Created <Metabolite transGroES_hepta at 0x7fd3e64d2dd0> in <TranslationReaction translation_b0014 at 0x7fd3e94d5d50>\n",
      "Created <Metabolite GroL_14 at 0x7fd3e64d2e10> in <TranslationReaction translation_b0014 at 0x7fd3e94d5d50>\n",
      "Created <Metabolite cisGroES_hepta at 0x7fd3e64d2e50> in <TranslationReaction translation_b0014 at 0x7fd3e94d5d50>\n",
      "Adding selenocystein for RNA_b1474\n",
      "Created <Metabolite SelA_deca_mod_10:pydx5p at 0x7fd3e60e81d0> in <TranslationReaction translation_b1474 at 0x7fd3e73376d0>\n",
      "Created <Metabolite SelB_mono at 0x7fd3e60e8210> in <TranslationReaction translation_b1474 at 0x7fd3e73376d0>\n",
      "Adding selenocystein for RNA_b3894\n",
      "Adding selenocystein for RNA_b4079\n"
     ]
    },
    {
     "name": "stderr",
     "output_type": "stream",
     "text": [
      "/home/sbrg-cjlloyd/minime/minime/core/MEReactions.py:343 \u001b[1;31mUserWarning\u001b[0m: ribosome not found\n"
     ]
    }
   ],
   "source": [
    "gb_filename = join(ecoli_files_dir,'NC_000913.2.gb')                                                                                    \n",
    "TU_df = pandas.read_csv(join(ecoli_files_dir,'TUs_from_ecocyc.txt'), delimiter=\"\\t\", index_col=0)\n",
    "\n",
    "\n",
    "sigma_to_RNAP_dict = transcription.sigma_factor_complex_to_rna_polymerase_dict\n",
    "building.build_reactions_from_genbank(me, gb_filename, TU_df, tRNA_modifications=tRNA_mod_dict, verbose=False,\n",
    "                                      translation_terminators=ribosome.translation_stop_dict,\n",
    "                                      frameshift_dict=ribosome.frameshift_dict,\n",
    "                                     methionine_cleaved=ribosome.methionine_cleaved,\n",
    "                                     folding_dict=ribosome.folding_dict,\n",
    "                                     sigma_to_RNAP_dict=sigma_to_RNAP_dict,\n",
    "                                     tRNA_to_codon=ribosome.tRNA_to_codon)"
   ]
  },
  {
   "cell_type": "code",
   "execution_count": 13,
   "metadata": {
    "collapsed": false
   },
   "outputs": [
    {
     "name": "stdout",
     "output_type": "stream",
     "text": [
      "Created <Complex RlmI_dim at 0x7fd3e8cc0c50> in <ComplexFormation formation_ribosome at 0x7fd3e8cc0c10>\n",
      "Created <Complex RplA_mono at 0x7fd3e8cc0cd0> in <ComplexFormation formation_ribosome at 0x7fd3e8cc0c10>\n",
      "Created <Complex RsmD_mono at 0x7fd3e8cc0d90> in <ComplexFormation formation_ribosome at 0x7fd3e8cc0c10>\n",
      "Created <Complex RplN_mono at 0x7fd3e8cc0d50> in <ComplexFormation formation_ribosome at 0x7fd3e8cc0c10>\n",
      "Created <Complex RpsF_mono at 0x7fd3e8cc0d10> in <ComplexFormation formation_ribosome at 0x7fd3e8cc0c10>\n",
      "Created <Complex RrmJ_mono at 0x7fd3e8cc0dd0> in <ComplexFormation formation_ribosome at 0x7fd3e8cc0c10>\n",
      "Created <Complex YjbC_mono at 0x7fd3e8cc0e10> in <ComplexFormation formation_ribosome at 0x7fd3e8cc0c10>\n",
      "Created <Complex RrmA_dim_mod_2:zn2 at 0x7fd3e8cc0e50> in <ComplexFormation formation_ribosome at 0x7fd3e8cc0c10>\n",
      "Created <Complex Tig_mono at 0x7fd3e8cc0ed0> in <ComplexFormation formation_ribosome at 0x7fd3e8cc0c10>\n",
      "Created <Complex RpsP_mono at 0x7fd3e8cc0e90> in <ComplexFormation formation_ribosome at 0x7fd3e8cc0c10>\n",
      "Created <Complex RpmJ_mono at 0x7fd3e8cc0f10> in <ComplexFormation formation_ribosome at 0x7fd3e8cc0c10>\n",
      "Created <Complex RpsQ_mono at 0x7fd3e8cc0f90> in <ComplexFormation formation_ribosome at 0x7fd3e8cc0c10>\n",
      "Created <Complex rpL7/12_mod_1:acetyl at 0x7fd3e8cc0f50> in <ComplexFormation formation_ribosome at 0x7fd3e8cc0c10>\n",
      "Created <Complex RpsI_mono at 0x7fd3e8cc0fd0> in <ComplexFormation formation_ribosome at 0x7fd3e8cc0c10>\n",
      "Created <Complex RpmE_mono at 0x7fd3ebc5a790> in <ComplexFormation formation_ribosome at 0x7fd3e8cc0c10>\n",
      "Created <Complex RlmG_mono at 0x7fd3ebc5a890> in <ComplexFormation formation_ribosome at 0x7fd3e8cc0c10>\n",
      "Created <Complex RpsS_mono at 0x7fd3ebc5a850> in <ComplexFormation formation_ribosome at 0x7fd3e8cc0c10>\n",
      "Created <Complex RpmC_mono at 0x7fd3ebc5a910> in <ComplexFormation formation_ribosome at 0x7fd3e8cc0c10>\n",
      "Created <Complex RpmA_mono at 0x7fd3ebc5a750> in <ComplexFormation formation_ribosome at 0x7fd3e8cc0c10>\n",
      "Created <Complex RpsR_mono at 0x7fd3ebc5a550> in <ComplexFormation formation_ribosome at 0x7fd3e8cc0c10>\n",
      "Created <Complex RpsK_mono at 0x7fd3ebc5a3d0> in <ComplexFormation formation_ribosome at 0x7fd3e8cc0c10>\n",
      "Created <Complex RsmC_mono at 0x7fd3ebc5a490> in <ComplexFormation formation_ribosome at 0x7fd3e8cc0c10>\n",
      "Created <Complex RlmM_mono at 0x7fd3ebc5a4d0> in <ComplexFormation formation_ribosome at 0x7fd3e8cc0c10>\n",
      "Created <Complex InfA_mono at 0x7fd3e7e79050> in <ComplexFormation formation_ribosome at 0x7fd3e8cc0c10>\n",
      "Created <Complex RpsO_mono at 0x7fd3e7e79090> in <ComplexFormation formation_ribosome at 0x7fd3e8cc0c10>\n",
      "Created <Complex RpsB_mono at 0x7fd3e7e790d0> in <ComplexFormation formation_ribosome at 0x7fd3e8cc0c10>\n",
      "Created <Complex RpsA_mono at 0x7fd3e7e79190> in <ComplexFormation formation_ribosome at 0x7fd3e8cc0c10>\n",
      "Created <Complex RplI_mono at 0x7fd3e7e79150> in <ComplexFormation formation_ribosome at 0x7fd3e8cc0c10>\n",
      "Created <Complex RpsH_mono at 0x7fd3e7e79110> in <ComplexFormation formation_ribosome at 0x7fd3e8cc0c10>\n",
      "Created <Complex RlmL_dim at 0x7fd3e7e791d0> in <ComplexFormation formation_ribosome at 0x7fd3e8cc0c10>\n",
      "Created <Complex RplP_mono at 0x7fd3e7e79210> in <ComplexFormation formation_ribosome at 0x7fd3e8cc0c10>\n",
      "Created <Complex RplJ_mono at 0x7fd3e7e79250> in <ComplexFormation formation_ribosome at 0x7fd3e8cc0c10>\n",
      "Created <Complex RpmI_mono at 0x7fd3e7e792d0> in <ComplexFormation formation_ribosome at 0x7fd3e8cc0c10>\n",
      "Created <Complex RpmG_mono at 0x7fd3e7e79290> in <ComplexFormation formation_ribosome at 0x7fd3e8cc0c10>\n",
      "Created <Complex RplO_mono at 0x7fd3e7e79310> in <ComplexFormation formation_ribosome at 0x7fd3e8cc0c10>\n",
      "Created <Complex RpmD_mono at 0x7fd3e7e79350> in <ComplexFormation formation_ribosome at 0x7fd3e8cc0c10>\n",
      "Created <Complex RpmB_mono at 0x7fd3e7e79390> in <ComplexFormation formation_ribosome at 0x7fd3e8cc0c10>\n",
      "Created <Complex RplK_mono at 0x7fd3e7e79410> in <ComplexFormation formation_ribosome at 0x7fd3e8cc0c10>\n",
      "Created <Complex RpsE_mono at 0x7fd3e7e793d0> in <ComplexFormation formation_ribosome at 0x7fd3e8cc0c10>\n",
      "Created <Complex RpsT_mono at 0x7fd3e7e79450> in <ComplexFormation formation_ribosome at 0x7fd3e8cc0c10>\n",
      "Created <Complex generic_16Sm4Cm1402 at 0x7fd3e7e79490> in <ComplexFormation formation_ribosome at 0x7fd3e8cc0c10>\n",
      "Created <Complex RplR_mono at 0x7fd3e7e794d0> in <ComplexFormation formation_ribosome at 0x7fd3e8cc0c10>\n",
      "Created <Complex RpsM_mono at 0x7fd3e7e79510> in <ComplexFormation formation_ribosome at 0x7fd3e8cc0c10>\n",
      "Created <Complex RlmN_mono_mod_1:4fe4s at 0x7fd3e7e79550> in <ComplexFormation formation_ribosome at 0x7fd3e8cc0c10>\n",
      "Created <Complex RplS_mono at 0x7fd3e7e79590> in <ComplexFormation formation_ribosome at 0x7fd3e8cc0c10>\n",
      "Created <Complex RpsL_mono at 0x7fd3e7e795d0> in <ComplexFormation formation_ribosome at 0x7fd3e8cc0c10>\n",
      "Created <Complex RplV_mono at 0x7fd3e7e79690> in <ComplexFormation formation_ribosome at 0x7fd3e8cc0c10>\n",
      "Created <Complex RlmB_dim at 0x7fd3e7e79650> in <ComplexFormation formation_ribosome at 0x7fd3e8cc0c10>\n",
      "Created <Complex RplE_mono at 0x7fd3e7e79610> in <ComplexFormation formation_ribosome at 0x7fd3e8cc0c10>\n",
      "Created <Complex RplX_mono at 0x7fd3e7e796d0> in <ComplexFormation formation_ribosome at 0x7fd3e8cc0c10>\n",
      "Created <Complex RluB_mono at 0x7fd3e7e79710> in <ComplexFormation formation_ribosome at 0x7fd3e8cc0c10>\n",
      "Created <Complex RplQ_mono at 0x7fd3e7e79750> in <ComplexFormation formation_ribosome at 0x7fd3e8cc0c10>\n",
      "Created <Complex RluC_mono at 0x7fd3e7e79810> in <ComplexFormation formation_ribosome at 0x7fd3e8cc0c10>\n",
      "Created <Complex RsmF_mono at 0x7fd3e7e797d0> in <ComplexFormation formation_ribosome at 0x7fd3e8cc0c10>\n",
      "Created <Complex RsmB_mono at 0x7fd3e7e79790> in <ComplexFormation formation_ribosome at 0x7fd3e8cc0c10>\n",
      "Created <Complex RluD_mono_mod_1:mg2 at 0x7fd3e7e79910> in <ComplexFormation formation_ribosome at 0x7fd3e8cc0c10>\n",
      "Created <Complex RlmF_mono at 0x7fd3e7e79890> in <ComplexFormation formation_ribosome at 0x7fd3e8cc0c10>\n",
      "Created <Complex YmfC_mono at 0x7fd3e7e79990> in <ComplexFormation formation_ribosome at 0x7fd3e8cc0c10>\n",
      "Created <Complex RpsN_mono at 0x7fd3e7e79950> in <ComplexFormation formation_ribosome at 0x7fd3e8cc0c10>\n",
      "Created <Complex RlmH_dim at 0x7fd3e7e79850> in <ComplexFormation formation_ribosome at 0x7fd3e8cc0c10>\n",
      "Created <Complex RumA_mono_mod_1:4fe4s at 0x7fd3e7e799d0> in <ComplexFormation formation_ribosome at 0x7fd3e8cc0c10>\n",
      "Created <Complex Era_dim at 0x7fd3e7e79a90> in <ComplexFormation formation_ribosome at 0x7fd3e8cc0c10>\n",
      "Created <Complex RpsC_mono at 0x7fd3e7e79a50> in <ComplexFormation formation_ribosome at 0x7fd3e8cc0c10>\n",
      "Created <Complex RpsU_mono at 0x7fd3e7e79b10> in <ComplexFormation formation_ribosome at 0x7fd3e8cc0c10>\n",
      "Created <Complex RplB_mono at 0x7fd3e7e79ad0> in <ComplexFormation formation_ribosome at 0x7fd3e8cc0c10>\n",
      "Created <Complex RplT_mono at 0x7fd3e7e79a10> in <ComplexFormation formation_ribosome at 0x7fd3e8cc0c10>\n",
      "Created <Complex RpsG_mono at 0x7fd3e7e79b90> in <ComplexFormation formation_ribosome at 0x7fd3e8cc0c10>\n",
      "Created <Complex RplU_mono at 0x7fd3e7e79b50> in <ComplexFormation formation_ribosome at 0x7fd3e8cc0c10>\n",
      "Created <Complex RimM_mono at 0x7fd3e7e79bd0> in <ComplexFormation formation_ribosome at 0x7fd3e8cc0c10>\n",
      "Created <Complex Sra_mono at 0x7fd3e7e79c50> in <ComplexFormation formation_ribosome at 0x7fd3e8cc0c10>\n",
      "Created <Complex RpmH_mono at 0x7fd3e7e79c10> in <ComplexFormation formation_ribosome at 0x7fd3e8cc0c10>\n",
      "Created <Complex RplF_mono at 0x7fd3e7e79c90> in <ComplexFormation formation_ribosome at 0x7fd3e8cc0c10>\n",
      "Created <Complex InfC_mono at 0x7fd3e7e79cd0> in <ComplexFormation formation_ribosome at 0x7fd3e8cc0c10>\n",
      "Created <Complex KsgA_mono at 0x7fd3e7e79d10> in <ComplexFormation formation_ribosome at 0x7fd3e8cc0c10>\n",
      "Created <Complex RsmG_mono at 0x7fd3e7e79d90> in <ComplexFormation formation_ribosome at 0x7fd3e8cc0c10>\n",
      "Created <Complex RpmF_mono at 0x7fd3e7e79d50> in <ComplexFormation formation_ribosome at 0x7fd3e8cc0c10>\n",
      "Created <Complex YggJ_dim at 0x7fd3e7e79dd0> in <ComplexFormation formation_ribosome at 0x7fd3e8cc0c10>\n",
      "Created <Complex RsuA_mono at 0x7fd3e7e79e10> in <ComplexFormation formation_ribosome at 0x7fd3e8cc0c10>\n",
      "Created <Complex RplY_mono at 0x7fd3e7e79e50> in <ComplexFormation formation_ribosome at 0x7fd3e8cc0c10>\n",
      "Created <Complex RumB_mono_mod_1:4fe4s at 0x7fd3e7e79ed0> in <ComplexFormation formation_ribosome at 0x7fd3e8cc0c10>\n",
      "Created <Complex RplW_mono at 0x7fd3e7e79e90> in <ComplexFormation formation_ribosome at 0x7fd3e8cc0c10>\n",
      "Created <Complex RbfA_mono at 0x7fd3e7e79f10> in <ComplexFormation formation_ribosome at 0x7fd3e8cc0c10>\n",
      "Created <Complex RpoE_mono at 0x7fd3e79887d0> in <ComplexFormation formation_RNAPE-CPLX at 0x7fd3e7e79fd0>\n",
      "Created <Complex hRNAP_mod_1:zn2_mod_2:mg2 at 0x7fd3e79888d0> in <ComplexFormation formation_RNAPE-CPLX at 0x7fd3e7e79fd0>\n",
      "Created <Complex RpoH_mono at 0x7fd3e7988150> in <ComplexFormation formation_RNAP32-CPLX at 0x7fd3e7988050>\n",
      "Created <Complex RpoS_mono at 0x7fd3e79881d0> in <ComplexFormation formation_RNAPS-CPLX at 0x7fd3e7988190>\n",
      "Created <Complex RpoD_mono at 0x7fd3e79882d0> in <ComplexFormation formation_RNAP70-CPLX at 0x7fd3e7988390>\n",
      "Created <Complex RpoN_mono at 0x7fd3e7988510> in <ComplexFormation formation_RNAP54-CPLX at 0x7fd3e7988410>\n",
      "Created <Complex FecI_mono at 0x7fd3e7988590> in <ComplexFormation formation_CPLX0-221 at 0x7fd3e79884d0>\n",
      "Created <Complex FliA_mono at 0x7fd3e7988690> in <ComplexFormation formation_CPLX0-222 at 0x7fd3e7988610>\n"
     ]
    }
   ],
   "source": [
    "ribosome.add_ribosome(me)\n",
    "transcription.add_RNA_polymerase_complexes(me)"
   ]
  },
  {
   "cell_type": "markdown",
   "metadata": {},
   "source": [
    "Make a dummy reactions. Add a dummy protein in as well."
   ]
  },
  {
   "cell_type": "markdown",
   "metadata": {},
   "source": [
    "## Associate the tRNA synthetases"
   ]
  },
  {
   "cell_type": "markdown",
   "metadata": {},
   "source": [
    "The tRNA charging reactions were automatically added when loading the genome from the genbank file. However, the charging reactions still need to be made aware of the tRNA synthetases which are responsible."
   ]
  },
  {
   "cell_type": "code",
   "execution_count": 14,
   "metadata": {
    "collapsed": false
   },
   "outputs": [],
   "source": [
    "with open(join(ecoli_files_dir, \"amino_acid_tRNA_synthetase.json\"), \"rb\") as infile:\n",
    "    aa_synthetase_dict = json.load(infile)\n",
    "for data in me.tRNA_data:\n",
    "    data.synthetase = str(aa_synthetase_dict[data.amino_acid])"
   ]
  },
  {
   "cell_type": "markdown",
   "metadata": {},
   "source": [
    "### Add in complex Formation with modifications"
   ]
  },
  {
   "cell_type": "code",
   "execution_count": 15,
   "metadata": {
    "collapsed": false
   },
   "outputs": [],
   "source": [
    "# ME_complex_dict is a dict of {'complex_id': [{'bnum' : count}]}\n",
    "rna_components = {\"b3123\"} # component id should have RNA_ instead of protein_\n",
    "ME_complex_dict = get_complex_to_bnum_dict(rna_components)\n",
    "add_complex_stoichiometry_data(me, ME_complex_dict)"
   ]
  },
  {
   "cell_type": "code",
   "execution_count": 16,
   "metadata": {
    "collapsed": false
   },
   "outputs": [],
   "source": [
    "modification_dict = get_protein_modification_dict()\n",
    "add_complex_modification_data(me, modification_dict)"
   ]
  },
  {
   "cell_type": "code",
   "execution_count": 17,
   "metadata": {
    "collapsed": false
   },
   "outputs": [],
   "source": [
    "# two different reactiond can add a lipoate modification.\n",
    "# We create a separate ModificationData for each one\n",
    "lipo = me.modification_data.get_by_id(\"mod_lipo_c\")\n",
    "alt_lipo = ModificationData(\"mod_lipo_c_alt\", me)\n",
    "#alt_lipo.stoichiometry = lipo.stoichiometry\n",
    "\n",
    "lipo.stoichiometry = {\"lipoamp_c\": -1, \"amp_c\": 1}\n",
    "lipo.enzyme = 'EG11796-MONOMER'\n",
    "lipo.keff = 65.\n",
    "\n",
    "alt_lipo.stoichiometry = {'EG50003-MONOMER_mod_pan4p_mod_lipo':-1,\n",
    "                          'EG50003-MONOMER_mod_pan4p':1,\n",
    "                          'h_c':-1,}\n",
    "alt_lipo.enzyme = 'EG11591-MONOMER'\n",
    "alt_lipo.keff = 65.\n",
    "\n",
    "for cplx_data in lipo.get_complex_data():\n",
    "    alt_cplx_data = ComplexData(cplx_data.id + \"alt\", me)\n",
    "    alt_cplx_data.complex_id = cplx_data.complex_id\n",
    "    alt_cplx_data.stoichiometry = cplx_data.stoichiometry\n",
    "    alt_cplx_data.translocation = cplx_data.translocation\n",
    "    alt_cplx_data.chaperones = cplx_data.chaperones\n",
    "    alt_cplx_data.modifications = cplx_data.modifications.copy()\n",
    "    alt_cplx_data.modifications[alt_lipo.id] = \\\n",
    "        alt_cplx_data.modifications.pop(lipo.id)"
   ]
  },
  {
   "cell_type": "code",
   "execution_count": 18,
   "metadata": {
    "collapsed": false
   },
   "outputs": [],
   "source": [
    "# chaperones\n",
    "# todo bmocogdp_c mods\n",
    "# todo FE-S modifications\n",
    "fes_chaperones = {'CPLX0-1762':'G6712-MONOMER'} # FE-S modification\n",
    "                 \n",
    "bmocogdp_chaperones = {'TMAOREDUCTI-CPLX':'EG12195-MONOMER', #bmocogdp\n",
    "                 'DIMESULFREDUCT-CPLX':'G6849-MONOMER', #bmocogdp\n",
    "                 'NITRATREDUCTA-CPLX':'NARJ-MONOMER', #bmocogdp\n",
    "                 'NITRATREDUCTZ-CPLX':'NARW-MONOMER', #bmocogdp\n",
    "                 'NAP-CPLX':'NAPD-MONOMER', #bmocogdp\n",
    "                 'NAPAB-CPLX_NAPC-MONOMER':'NAPD-MONOMER'} #bmocogdp\n",
    "for chaperone in set(bmocogdp_chaperones.values()):\n",
    "    new_mod = ModificationData('mod_bmocogdp_c_' + chaperone, me)\n",
    "    new_mod.enzyme = chaperone\n",
    "    new_mod.stoichiometry = {'bmocogdp_c': -1}\n",
    "\n",
    "for cplx_data in me.modification_data.get_by_id('mod_bmocogdp_c').get_complex_data():\n",
    "    cplx_id = cplx_data.id.split('_mod')[0]\n",
    "    if cplx_id in bmocogdp_chaperones:\n",
    "        cplx_data.modifications['mod_bmocogdp_c_' + bmocogdp_chaperones[cplx_id]] = \\\n",
    "            cplx_data.modifications.pop('mod_bmocogdp_c')"
   ]
  },
  {
   "cell_type": "markdown",
   "metadata": {},
   "source": [
    "## TODO NEXT complete Iron-Sulfur cluster modification reactions. Apply rRNA/tRNA fraction constraint "
   ]
  },
  {
   "cell_type": "markdown",
   "metadata": {},
   "source": [
    " - Read \"The CO and CN− ligands to the active site Fe in [NiFe]-hydrogenase of Escherichia coli have different metabolic origins\" for insight into the metabolic origin of the NiFeCoCN2_c group"
   ]
  },
  {
   "cell_type": "markdown",
   "metadata": {},
   "source": [
    "Build all complex formation reactions"
   ]
  },
  {
   "cell_type": "code",
   "execution_count": 19,
   "metadata": {
    "collapsed": false
   },
   "outputs": [],
   "source": [
    "for cplx_data in me.complex_data:\n",
    "    formation = cplx_data.formation\n",
    "    if formation:\n",
    "        formation.update()\n",
    "    else:\n",
    "        cplx_data.create_complex_formation()"
   ]
  },
  {
   "cell_type": "code",
   "execution_count": 20,
   "metadata": {
    "collapsed": false
   },
   "outputs": [],
   "source": [
    "building.add_dummy_reactions(me, \"ATG\" + \"TTT\" * 12 + \"TAT\" * 12 + \"ACG\" * 12 + \"GAT\" * 12 + \"AGT\" * 12 + \"TGA\", update=False)"
   ]
  },
  {
   "cell_type": "markdown",
   "metadata": {},
   "source": [
    "TODO:\n",
    " - filter so known erpA dependent ones use that instead"
   ]
  },
  {
   "cell_type": "code",
   "execution_count": 21,
   "metadata": {
    "collapsed": false
   },
   "outputs": [],
   "source": [
    "# these guys can transfer assembled iron sulfur clusters to the various enzymes\n",
    "fes_transfer = {\"erpA\": \"CPLX0-7617\", \"iscA\": \"IscA_tetra\", \"sufA\": \"CPLX0-7824\"}\n",
    "\n",
    "suf_cplx = ComplexData(\"sufBC2DES_pathway_complex\", me)\n",
    "suf_cplx.stoichiometry = {\"CPLX0-1341\": 1, \"CPLX0-246_CPLX0-1342_mod_pydx5p\": 1}\n",
    "suf_cplx.create_complex_formation()\n",
    "    \n",
    "isc_cplx = ComplexData(\"iscUS_cyaY_pathway_complex\", me) # could add chaperones into here\n",
    "isc_cplx.stoichiometry = {\"IscU\": 1, \"IscS_mod_2:pydx5p\": 1, \"EG11653-MONOMER\": 1}\n",
    "isc_cplx.create_complex_formation()\n",
    "\n",
    "generic_fes_transfer = GenericData(\"generic_fes_transfer\", me, ['CPLX0-7617', 'CPLX0-7824', 'IscA_tetra'])\n",
    "generic_fes_transfer.create_reactions()\n",
    "\n",
    "#building.add_and_update_metabolic_reaction(me, \"isc_2fe2s_formation\", suf_cplx.id, False, update=True)\n",
    "#building.add_and_update_metabolic_reaction(me, \"suf_2fe2s_formation\", isc_cplx.id, False, update=True)\n",
    "#building.add_and_update_metabolic_reaction(me, \"isc_4fe4s_formation\", suf_cplx.id, False, update=True)\n",
    "#building.add_and_update_metabolic_reaction(me, \"suf_4fe4s_formation\", isc_cplx.id, False, update=True)"
   ]
  },
  {
   "cell_type": "code",
   "execution_count": 22,
   "metadata": {
    "collapsed": false
   },
   "outputs": [],
   "source": [
    "me.modification_data.mod_2fe2s_c.enzyme = generic_fes_transfer.id\n",
    "me.modification_data.mod_2fe2s_c.keff = 65.\n",
    "me.modification_data.mod_4fe4s_c.enzyme = generic_fes_transfer.id\n",
    "me.modification_data.mod_4fe4s_c.keff = 65."
   ]
  },
  {
   "cell_type": "markdown",
   "metadata": {},
   "source": [
    "Crutch reactions for mets that are blocked. TODO remove"
   ]
  },
  {
   "cell_type": "markdown",
   "metadata": {},
   "source": [
    "## Associate Complexes with Reactions"
   ]
  },
  {
   "cell_type": "code",
   "execution_count": 23,
   "metadata": {
    "collapsed": false,
    "scrolled": true
   },
   "outputs": [
    {
     "name": "stdout",
     "output_type": "stream",
     "text": [
      "Fixed _DASH: D__LACtex\n",
      "Fixed _DASH: L__LACD2\n",
      "Fixed _DASH: L__LACD3\n",
      "Fixed _DASH: D__LACt2pp\n",
      "Fixed _DASH: L__LACtex\n",
      "Fixed _DASH: L__LACt2rpp\n",
      "Assigned tl to c\n",
      "Assigned hemed to c\n",
      "Assigned pqq to c\n",
      "Assigned dpm to c\n",
      "Assigned 23bpg to c\n",
      "Assigned tqn to c\n"
     ]
    }
   ],
   "source": [
    "# associate reaction id with the old ME complex id (including modifications)\n",
    "rxnToModCplxDict = get_reaction_to_complex(generic=False)"
   ]
  },
  {
   "cell_type": "code",
   "execution_count": 24,
   "metadata": {
    "collapsed": false
   },
   "outputs": [],
   "source": [
    "rxn_info = get_reaction_info_frame()\n",
    "for reaction_data in me.stoichiometric_data:\n",
    "    add_metabolic_reactions(me, reaction_data, rxnToModCplxDict, rxn_info, update=True,\n",
    "                            create_new=True)"
   ]
  },
  {
   "cell_type": "markdown",
   "metadata": {},
   "source": [
    "Sometimes multiple entities can perform the same role. To prevent a combinatorial explosion of possibilities, we can create  \"generic\" version, where any of those entities can fill in."
   ]
  },
  {
   "cell_type": "code",
   "execution_count": 25,
   "metadata": {
    "collapsed": false
   },
   "outputs": [],
   "source": [
    "for generic, components in ecoli_k12.generic_dict.items():\n",
    "    GenericData(generic, me, components).create_reactions()"
   ]
  },
  {
   "cell_type": "markdown",
   "metadata": {},
   "source": [
    "Rebuild transcription and translation to use tRNA (now that tRNA synthetase complexes are in the model"
   ]
  },
  {
   "cell_type": "code",
   "execution_count": 26,
   "metadata": {
    "collapsed": false,
    "scrolled": true
   },
   "outputs": [],
   "source": [
    "apoACP = me.metabolites.get_by_id('EG50003-MONOMER_mod_pan4p')\n",
    "for reaction in me.metabolites.get_by_id('EG50003-MONOMER_mod_pan4p').reactions:\n",
    "    if apoACP in reaction.reactants:\n",
    "        reaction.complex_dilution_list = {apoACP.id}\n",
    "        reaction.update()\n",
    "me.reactions.acp_lipoate_synthase_FWD_None.complex_dilution_list = {'CPLX0-782_mod_2:4fe4s'}\n",
    "me.reactions.MOADSUx1_FWD_CPLX_dummy.complex_dilution_list = {'EG11597-MONOMER_mod_amp'}"
   ]
  },
  {
   "cell_type": "markdown",
   "metadata": {},
   "source": [
    "## Add in translocation"
   ]
  },
  {
   "cell_type": "code",
   "execution_count": 27,
   "metadata": {
    "collapsed": true
   },
   "outputs": [],
   "source": [
    "translocPath = pandas.read_csv(join(ecoli_files_dir, \"translocation_pathways.txt\"),sep='\\t')\n",
    "for index, row in translocPath.iterrows():\n",
    "    translocRxn = ProteinTranslocationData(row.Reaction_name, me)\n",
    "    translocRxn.keff = float(row.Keff)\n",
    "    translocRxn.costs_complexes = row.Complexes.split(' AND ')"
   ]
  },
  {
   "cell_type": "code",
   "execution_count": 28,
   "metadata": {
    "collapsed": false,
    "scrolled": true
   },
   "outputs": [],
   "source": [
    "proteins_sa_coeff_inner={}\n",
    "\n",
    "transloc = pandas.read_csv(join(ecoli_files_dir, \"peptide_compartment_and_pathways2.txt\"), sep='\\t', comment=\"#\")\n",
    "for index, row in transloc.iterrows():\n",
    "    me.metabolites.get_by_id(row.Complex).compartment = row.Complex_compartment\n",
    "    me.metabolites.get_by_id('protein_'+row.Protein.split('(')[0]).compartment = row.Protein_compartment\n",
    "    pathway = False\n",
    "    if 's' in row.translocase_pathway:\n",
    "        pathway = True\n",
    "        me.translocation_pathways.srp_translocation.add_translocation_cost(me,row.Complex,row.Protein)\n",
    "        \n",
    "        ## This is in preparation for membrane constraint\n",
    "        mass = me.translation_data.get_by_id(row.Protein.split('(')[0]).mass\n",
    "        if row.Complex in proteins_sa_coeff_inner.keys():\n",
    "            proteins_sa_coeff_inner[row.Complex]+=mass*1.21/42.*2\n",
    "        else:\n",
    "            proteins_sa_coeff_inner[row.Complex]=mass*1.21/42.*2\n",
    "    if 'r' in row.translocase_pathway:\n",
    "        pathway = True\n",
    "        me.translocation_pathways.srp_translocation.add_translocation_cost(me,row.Complex,row.Protein)       \n",
    "    if 'p' in row.translocase_pathway:\n",
    "        pathway = True\n",
    "        me.translocation_pathways.srp_yidC_translocation.add_translocation_cost(me,row.Complex,row.Protein)         \n",
    "    if 't' in row.translocase_pathway:\n",
    "        pathway = True\n",
    "        me.translocation_pathways.tat_translocation.add_translocation_cost(me,row.Complex,row.Protein)\n",
    "    if 'a' in row.translocase_pathway:\n",
    "        pathway = True\n",
    "        me.translocation_pathways.srp_translocation.add_translocation_cost(me,row.Complex,row.Protein)\n",
    "        me.translocation_pathways.secA_translocation.add_translocation_cost(me,row.Complex,row.Protein)\n",
    "    if 'l' in row.translocase_pathway:\n",
    "        pathway = True\n",
    "        me.translocation_pathways.lol_translocation.add_translocation_cost(me,row.Complex,row.Protein)\n",
    "    if 'b' in row.translocase_pathway:\n",
    "        pathway = True\n",
    "        me.translocation_pathways.bam_translocation.add_translocation_cost(me,row.Complex,row.Protein)\n",
    "    if 'y' in row.translocase_pathway:\n",
    "        pathway = True\n",
    "        me.translocation_pathways.yidC_translocation.add_translocation_cost(me,row.Complex,row.Protein)        \n",
    "    if not pathway:\n",
    "        print row.Complex, row.translocase_pathway\n",
    "    #if row.translocase_pathway != 'n':\n",
    "    #    print row.Complex, row.translocase_pathway        "
   ]
  },
  {
   "cell_type": "markdown",
   "metadata": {},
   "source": [
    "## Make RNA splicing machinery"
   ]
  },
  {
   "cell_type": "code",
   "execution_count": 29,
   "metadata": {
    "collapsed": false,
    "scrolled": true
   },
   "outputs": [],
   "source": [
    "excision_types = ['rRNA_containing', 'monocistronic',\n",
    "                  'polycistronic_wout_rRNA']\n",
    "for excision_type in excision_types:\n",
    "    complex_data =  ComplexData(excision_type + \"_excision_machinery\", me)\n",
    "    complex_data.stoichiometry = {i: 1 for i in ecoli_k12.excision_machinery[excision_type]}\n",
    "    complex_data.create_complex_formation()\n",
    "    modification = ModificationData(excision_type + \"_excision\", me)\n",
    "    modification.stoichiometry = {'h2o_c': -1, 'h_c': 1}\n",
    "    modification.enzyme = complex_data.id\n",
    "\n",
    "for t in me.transcription_data:\n",
    "    n_excised = sum(t.excised_bases.values())\n",
    "    n_cuts = len(t.RNA_products) * 2\n",
    "    if n_excised == 0 or n_cuts == 0:\n",
    "        continue\n",
    "    RNA_types = list(t.RNA_types)\n",
    "    n_tRNA = RNA_types.count(\"tRNA\")\n",
    "    \n",
    "    if \"rRNA\" in set(RNA_types):\n",
    "        t.modifications[\"rRNA_containing_excision\"] = n_cuts\n",
    "    elif n_tRNA == 1:\n",
    "        t.modifications[\"monocistronic_excision\"] = n_cuts\n",
    "    elif n_tRNA > 1:\n",
    "        t.modifications[\"polycistronic_wout_rRNA_excision\"] = n_cuts\n",
    "    else:  # only applies to rnpB\n",
    "        t.modifications[\"monocistronic_excision\"] = n_cuts"
   ]
  },
  {
   "cell_type": "markdown",
   "metadata": {},
   "source": [
    "## Attempt to set keffs"
   ]
  },
  {
   "cell_type": "code",
   "execution_count": 30,
   "metadata": {
    "collapsed": false
   },
   "outputs": [
    {
     "name": "stdout",
     "output_type": "stream",
     "text": [
      "no keff found for keff_PGK_PGK_DASH_CPLX\n",
      "no keff found for keff_PGK_PGK_DASH_CPLX\n",
      "no keff found for keff_TPI_TPI_DASH_CPLX\n",
      "no keff found for keff_TPI_TPI_DASH_CPLX\n",
      "no keff found for keff_GLUTRR_CPLX0_DASH_3741\n",
      "no keff found for keff_suf_2fe2s_formation_sufBC2DES_pathway_complex\n",
      "no keff found for keff_suf_4fe4s_formation_sufBC2DES_pathway_complex\n",
      "no keff found for keff_isc_2fe2s_formation_iscUS_cyaY_pathway_complex\n",
      "no keff found for keff_isc_4fe4s_formation_iscUS_cyaY_pathway_complex\n"
     ]
    }
   ],
   "source": [
    "keffs = get_reaction_keffs(me, verbose=True)\n",
    "for reaction_id, keff in keffs.items():\n",
    "    me.reactions.get_by_id(reaction_id).keff = keff"
   ]
  },
  {
   "cell_type": "markdown",
   "metadata": {},
   "source": [
    "Figure out why these are necessary"
   ]
  },
  {
   "cell_type": "code",
   "execution_count": 31,
   "metadata": {
    "collapsed": true
   },
   "outputs": [],
   "source": [
    "r = Reaction('DM_preq1_c')\n",
    "me.add_reaction(r)\n",
    "r.reaction = 'preq1_c' + ' <-'\n",
    "\n",
    "r = Reaction('DM_ahcys_c')\n",
    "me.add_reaction(r)\n",
    "r.reaction = 'ahcys_c' + ' ->'\n",
    "\n",
    "r = Reaction('DM_amet_c')\n",
    "me.add_reaction(r)\n",
    "r.reaction = 'amet_c' + ' <-'\n",
    "\n",
    "r = Reaction('DM_dmpp_c')\n",
    "me.add_reaction(r)\n",
    "r.reaction = 'dmpp_c' + ' <-'"
   ]
  },
  {
   "cell_type": "markdown",
   "metadata": {},
   "source": [
    "# TODO address these \n",
    "\n",
    "make sure they are actually dead ends"
   ]
  },
  {
   "cell_type": "code",
   "execution_count": 32,
   "metadata": {
    "collapsed": false
   },
   "outputs": [
    {
     "name": "stdout",
     "output_type": "stream",
     "text": [
      "Adding selenocystein for RNA_b1474\n",
      "Adding selenocystein for RNA_b3894\n",
      "Adding selenocystein for RNA_b4079\n"
     ]
    }
   ],
   "source": [
    "me.update()\n",
    "me.prune()"
   ]
  },
  {
   "cell_type": "code",
   "execution_count": 33,
   "metadata": {
    "collapsed": false,
    "scrolled": true
   },
   "outputs": [
    {
     "name": "stdout",
     "output_type": "stream",
     "text": [
      "mococdp_c frozenset([<MetabolicReaction MOCDS_FWD_G7496-MONOMER_mod_mg2 at 0x7fd3e7f4d910>])\n",
      "tungs_c frozenset([<MetabolicReaction TUNGSabcpp_FWD_ABC-19-CPLX at 0x7fd3e8118c90>])\n"
     ]
    }
   ],
   "source": [
    "for metabolites in me.metabolites:\n",
    "    if len(metabolites.reactions) > 1:\n",
    "        continue\n",
    "    try:\n",
    "        if len(metabolites.reactions) == 1 and len(ijo.metabolites.get_by_id(metabolites.id).reactions) > 1:\n",
    "            print metabolites.id, metabolites.reactions\n",
    "\n",
    "    except:\n",
    "        print metabolites.id, [i.id for i in metabolites.reactions][0]"
   ]
  },
  {
   "cell_type": "markdown",
   "metadata": {},
   "source": [
    "## Clean up and update everything"
   ]
  },
  {
   "cell_type": "markdown",
   "metadata": {},
   "source": [
    "Figure out why these are necessary"
   ]
  },
  {
   "cell_type": "markdown",
   "metadata": {},
   "source": [
    "glycogen_demand = (glycogen_g_per_g)*(1./glycogen_mw)*1000. "
   ]
  },
  {
   "cell_type": "code",
   "execution_count": 34,
   "metadata": {
    "collapsed": false,
    "scrolled": true
   },
   "outputs": [
    {
     "name": "stdout",
     "output_type": "stream",
     "text": [
      "number of genes in the model 1665 (99.23%)\n"
     ]
    }
   ],
   "source": [
    "n_genes = len(me.metabolites.query('RNA_b'))\n",
    "print(\"number of genes in the model %d (%.2f%%)\" % (n_genes, n_genes * 100. / (1678)))"
   ]
  },
  {
   "cell_type": "markdown",
   "metadata": {},
   "source": [
    "One of these demand metabolites are blocked...."
   ]
  },
  {
   "cell_type": "code",
   "execution_count": 35,
   "metadata": {
    "collapsed": true
   },
   "outputs": [],
   "source": [
    "demands = {'murein5px4p_p': 0.01389, 'kdo2lipid4_e': 0.01945, 'pe160_c': 0.01786,\n",
    "           'pe160_p': 0.04594, 'pe161_c': 0.02105, 'pe161_c': 0.05415}\n",
    "for met, stoich in demands.items():\n",
    "    r = Reaction('DM_' + met)\n",
    "    r.add_metabolites({me.metabolites.get_by_id(met): -1})\n",
    "    r.lower_bound = stoich\n",
    "    me.add_reaction(r)"
   ]
  },
  {
   "cell_type": "markdown",
   "metadata": {},
   "source": [
    "## Solve"
   ]
  },
  {
   "cell_type": "code",
   "execution_count": 36,
   "metadata": {
    "collapsed": false
   },
   "outputs": [],
   "source": [
    "me.reactions.dummy_reaction_FWD_CPLX_dummy.objective_coefficient = 1."
   ]
  },
  {
   "cell_type": "code",
   "execution_count": 37,
   "metadata": {
    "collapsed": false
   },
   "outputs": [],
   "source": [
    "# Turn off reactions that throw off results as in iOL\n",
    "KO_list = ['DHPTDNR','DHPTDNRN', 'SUCASPtpp','SUCFUMtpp', 'SUCMALtpp', 'SUCTARTtpp', \n",
    "           'CAT', 'FHL', 'SPODM', 'SPODMp']\n",
    "for reaction in KO_list:\n",
    "    a = me.reactions.query(reaction + '_')\n",
    "    for rxn in a:\n",
    "        rxn.upper_bound = 0\n",
    "        rxn.lower_bound = 0"
   ]
  },
  {
   "cell_type": "markdown",
   "metadata": {},
   "source": [
    "Save for future recomputation"
   ]
  },
  {
   "cell_type": "code",
   "execution_count": 38,
   "metadata": {
    "collapsed": true
   },
   "outputs": [],
   "source": [
    "expressions = compile_expressions(me)"
   ]
  },
  {
   "cell_type": "code",
   "execution_count": 39,
   "metadata": {
    "collapsed": false
   },
   "outputs": [
    {
     "data": {
      "text/plain": [
       "<Solution 0.10 at 0x7fd3e24fc950>"
      ]
     },
     "execution_count": 39,
     "metadata": {},
     "output_type": "execute_result"
    }
   ],
   "source": [
    "solve_at_growth_rate(me, .1, compiled_expressions=expressions)"
   ]
  },
  {
   "cell_type": "code",
   "execution_count": 40,
   "metadata": {
    "collapsed": false,
    "scrolled": true
   },
   "outputs": [
    {
     "name": "stdout",
     "output_type": "stream",
     "text": [
      "mu\t\tstatus\n",
      "\u001b[0;32m0.0000000000\t+\u001b[0m\n",
      "\u001b[0;31m2.0000000000\t-\u001b[0m\n",
      "\u001b[0;31m1.0000000000\t-\u001b[0m\n",
      "\u001b[0;32m0.5000000000\t+\u001b[0m\n",
      "\u001b[0;32m0.7500000000\t+\u001b[0m\n",
      "\u001b[0;32m0.8750000000\t+\u001b[0m\n",
      "\u001b[0;31m0.9375000000\t-\u001b[0m\n",
      "\u001b[0;32m0.9062500000\t+\u001b[0m\n",
      "\u001b[0;31m0.9218750000\t-\u001b[0m\n",
      "\u001b[0;31m0.9140625000\t-\u001b[0m\n",
      "\u001b[0;31m0.9101562500\t-\u001b[0m\n",
      "\u001b[0;32m0.9082031250\t+\u001b[0m\n",
      "\u001b[0;31m0.9091796875\t-\u001b[0m\n",
      "\u001b[0;32m0.9086914062\t+\u001b[0m\n",
      "\u001b[0;31m0.9089355469\t-\u001b[0m\n",
      "\u001b[0;31m0.9088134766\t-\u001b[0m\n",
      "\u001b[0;31m0.9087524414\t-\u001b[0m\n",
      "\u001b[0;31m0.9087219238\t-\u001b[0m\n",
      "\u001b[0;31m0.9087066650\t-\u001b[0m\n",
      "\u001b[0;31m0.9086990356\t-\u001b[0m\n",
      "\u001b[0;32m0.9086952209\t+\u001b[0m\n",
      "\u001b[0;32m0.9086971283\t+\u001b[0m\n",
      "\u001b[0;31m0.9086980820\t-\u001b[0m\n",
      "\u001b[0;31m0.9086976051\t-\u001b[0m\n",
      "\u001b[0;32m0.9086973667\t+\u001b[0m\n",
      "\u001b[0;31m0.9086974859\t-\u001b[0m\n",
      "\u001b[0;32m0.9086974263\t+\u001b[0m\n",
      "\u001b[0;31m0.9086974561\t-\u001b[0m\n",
      "\u001b[0;32m0.9086974412\t+\u001b[0m\n",
      "\u001b[0;31m0.9086974487\t-\u001b[0m\n",
      "\u001b[0;31m0.9086974449\t-\u001b[0m\n",
      "\u001b[0;31m0.9086974431\t-\u001b[0m\n",
      "\u001b[0;31m0.9086974422\t-\u001b[0m\n",
      "\u001b[0;32m0.9086974412\t+\u001b[0m\n",
      "completed in 312.2 seconds and 34 iterations\n"
     ]
    },
    {
     "data": {
      "text/plain": [
       "<Solution 0.91 at 0x7fd3e24fce10>"
      ]
     },
     "execution_count": 40,
     "metadata": {},
     "output_type": "execute_result"
    }
   ],
   "source": [
    "binary_search(me, compiled_expressions=expressions, debug=False)"
   ]
  },
  {
   "cell_type": "raw",
   "metadata": {
    "collapsed": false
   },
   "source": [
    "from cloudpickle import dump\n",
    "with open(\"test_minime_solve.pickle\", \"wb\") as outfile:\n",
    "    dump(me, outfile)\n",
    "with open(\"test_minime_expressions.pickle\", \"wb\") as outfile:\n",
    "    dump(expressions, outfile)"
   ]
  }
 ],
 "metadata": {
  "kernelspec": {
   "display_name": "Python 2",
   "language": "python",
   "name": "python2"
  },
  "language_info": {
   "codemirror_mode": {
    "name": "ipython",
    "version": 2
   },
   "file_extension": ".py",
   "mimetype": "text/x-python",
   "name": "python",
   "nbconvert_exporter": "python",
   "pygments_lexer": "ipython2",
   "version": "2.7.6"
  }
 },
 "nbformat": 4,
 "nbformat_minor": 0
}
