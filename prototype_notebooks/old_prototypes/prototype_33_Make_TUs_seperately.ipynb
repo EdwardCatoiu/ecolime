{
 "cells": [
  {
   "cell_type": "markdown",
   "metadata": {},
   "source": [
    "\n",
    "# Build a basic ME model"
   ]
  },
  {
   "cell_type": "markdown",
   "metadata": {},
   "source": [
    "We will try to build an ME model from the NC_000913.2 Genbank file, the iJO1366 M model, and the complex reconstruction from iJL1650-ME"
   ]
  },
  {
   "cell_type": "code",
   "execution_count": null,
   "metadata": {
    "collapsed": false
   },
   "outputs": [],
   "source": [
    "# python imports\n",
    "import re\n",
    "import json\n",
    "from os.path import join\n",
    "\n",
    "# third party imports\n",
    "import pandas\n",
    "import escher\n",
    "import cobra.test\n",
    "\n",
    "# ecoli me\n",
    "from ecolime.flat_files import *\n",
    "\n",
    "from minime import *\n",
    "#from minime.util.building import build_reactions_from_genbank, add_transcription_reaction, add_TU_transcription_reaction\n",
    "from minime.solve.algorithms import binary_search, fva, solve_at_growth_rate\n",
    "from minime.solve.symbolic import compile_expressions"
   ]
  },
  {
   "cell_type": "code",
   "execution_count": null,
   "metadata": {
    "collapsed": true
   },
   "outputs": [],
   "source": [
    "def fix_id(id_str):\n",
    "    return id_str.replace(\"_DASH_\", \"__\")"
   ]
  },
  {
   "cell_type": "code",
   "execution_count": null,
   "metadata": {
    "collapsed": false
   },
   "outputs": [],
   "source": [
    "me = MEmodel(\"iJO1366-ME\")\n",
    "me.id = \"iJO1366-ME\"\n",
    "me.compartments = {\"p\": \"Periplasm\", \"e\": \"Extra-organism\",\n",
    "                   \"c\": \"Cytosol\"}\n",
    "compartment_lookup = {v: k for k, v in me.compartments.items()}"
   ]
  },
  {
   "cell_type": "code",
   "execution_count": null,
   "metadata": {
    "collapsed": false
   },
   "outputs": [],
   "source": [
    "met_info = pandas.read_csv(\n",
    "    join(ecoli_files_dir, \"metabolites.txt\"),\n",
    "    delimiter=\"\\t\", header=None, index_col=0,\n",
    "    names=[\"id\", \"name\", \"formula\", \"compartment\", \"data_source\"])"
   ]
  },
  {
   "cell_type": "code",
   "execution_count": null,
   "metadata": {
    "collapsed": false
   },
   "outputs": [],
   "source": [
    "for met_id in met_info.index:\n",
    "    fixed_id = fix_id(met_id)\n",
    "    for compartment in met_info.compartment[met_id].split(\"AND\"):\n",
    "        compartment = compartment.strip()\n",
    "        if compartment == \"No_Compartment\":\n",
    "            print \"Assigned %s to e\" % met_id\n",
    "            compartment = me.compartments[\"e\"]\n",
    "        metab = Metabolite(fixed_id + \"_\" + compartment_lookup[compartment])\n",
    "        metab.name = met_info.name[met_id]\n",
    "    \n",
    "        metab.formula = met_info.formula[met_id]\n",
    "        me.add_metabolites(metab)"
   ]
  },
  {
   "cell_type": "markdown",
   "metadata": {},
   "source": [
    "Add generic ions to simplify complexes"
   ]
  },
  {
   "cell_type": "code",
   "execution_count": null,
   "metadata": {
    "collapsed": false
   },
   "outputs": [],
   "source": [
    "divalent_list = divalent_list\n",
    "monovalent_list = monovalent_list\n",
    "comp = \"_c\"  # compartment\n",
    "# Divalent\n",
    "div = cobra.Metabolite('generic_divalent' + comp)\n",
    "div.name = 'Generic divalent ion'\n",
    "me.add_metabolites(div)\n",
    "for ion in divalent_list:\n",
    "    rxn1 = cobra.Reaction(ion + comp + '_to_generic')\n",
    "    ion_dict = {}\n",
    "    met1 = me.metabolites.get_by_id(ion + comp)\n",
    "    ion_dict[met1] = -1\n",
    "    ion_dict[div] = 1\n",
    "    rxn1.add_metabolites(ion_dict)\n",
    "    me.add_reaction(rxn1)\n",
    "# Monovalent\n",
    "mono = cobra.Metabolite('generic_monovalent' + comp)\n",
    "mono.name = 'Generic monovalent ion'\n",
    "for ion in monovalent_list:\n",
    "    rxn2 = cobra.Reaction(ion + comp + '_to_generic')\n",
    "    ion_dict = {}\n",
    "    met2 = me.metabolites.get_by_id(ion + comp)\n",
    "    ion_dict[met2] = -1\n",
    "    ion_dict[mono] = 1\n",
    "    rxn2.add_metabolites(ion_dict)\n",
    "    me.add_reaction(rxn2)"
   ]
  },
  {
   "cell_type": "markdown",
   "metadata": {},
   "source": [
    "## Build Metabolic reactions"
   ]
  },
  {
   "cell_type": "code",
   "execution_count": null,
   "metadata": {
    "collapsed": false
   },
   "outputs": [],
   "source": [
    "reaction_info = get_reaction_info_frame()\n",
    "reaction_dict = get_reaction_matrix_dict()"
   ]
  },
  {
   "cell_type": "code",
   "execution_count": null,
   "metadata": {
    "collapsed": false
   },
   "outputs": [],
   "source": [
    "for r_id in reaction_info.index:\n",
    "    reaction = StoichiometricData(r_id, me)\n",
    "    reaction._stoichiometry = {fix_id(k): v\n",
    "                               for k, v in reaction_dict[r_id].items()}\n",
    "    reaction.lower_bound = \\\n",
    "        -1000. if reaction_info.is_reversible[r_id] else 0.\n",
    "    reaction.upper_bound = 1000."
   ]
  },
  {
   "cell_type": "code",
   "execution_count": null,
   "metadata": {
    "collapsed": true
   },
   "outputs": [],
   "source": [
    "me.reaction"
   ]
  },
  {
   "cell_type": "markdown",
   "metadata": {},
   "source": [
    "Also make a dummy reaction"
   ]
  },
  {
   "cell_type": "code",
   "execution_count": null,
   "metadata": {
    "collapsed": false
   },
   "outputs": [],
   "source": [
    "dummy = StoichiometricData(\"dummy_reaction\", me)\n",
    "dummy.lower_bound = 0\n",
    "dummy.upper_bound = 1000\n",
    "dummy._stoichiometry = {}"
   ]
  },
  {
   "cell_type": "markdown",
   "metadata": {},
   "source": [
    "Boundary Reactions"
   ]
  },
  {
   "cell_type": "code",
   "execution_count": null,
   "metadata": {
    "collapsed": false
   },
   "outputs": [],
   "source": [
    "sources_sinks = pandas.read_csv(join(ecoli_files_dir, \"reaction_matrix_sources_and_sinks.txt\"), delimiter=\"\\t\",\n",
    "                                header=None, names=[\"rxn_id\", \"met_id\", \"compartment\", \"stoic\"], index_col=1)\n",
    "sources_sinks.index = [fix_id(i) for i in sources_sinks.index]\n",
    "\n",
    "source_amounts = pandas.read_csv(join(ecoli_files_dir, \"exchange_bounds.txt\"),\n",
    "                                 delimiter=\"\\t\", index_col=0, names=[\"met_id\", \"amount\"])\n",
    "source_amounts.index = [fix_id(i) for i in source_amounts.index]\n",
    "\n",
    "\n",
    "for met_id in sources_sinks.index:\n",
    "    model_met_id = met_id + \"_\" + compartment_lookup[sources_sinks.compartment[met_id]]\n",
    "    # EX_ or DM_ + met_id\n",
    "    reaction_id = sources_sinks.rxn_id[met_id][:3] + model_met_id\n",
    "    reaction = cobra.Reaction(reaction_id)\n",
    "    me.add_reaction(reaction)\n",
    "    reaction.add_metabolites({me.metabolites.get_by_id(model_met_id): -1})\n",
    "    # set bounds on exchanges\n",
    "    if reaction.id.startswith(\"EX_\") and met_id in source_amounts.index:\n",
    "        reaction.lower_bound = -source_amounts.amount[met_id]"
   ]
  },
  {
   "cell_type": "markdown",
   "metadata": {},
   "source": [
    "Set bounds on boundary reactions"
   ]
  },
  {
   "cell_type": "code",
   "execution_count": null,
   "metadata": {
    "collapsed": false
   },
   "outputs": [],
   "source": [
    "# Add all RNA related metabolites/reactions. Important to run first if using TUs!\n",
    "RNA_pos_dict = build_reactions_from_genbank(me, join(ecoli_files_dir, \"NC_000913.2.gb\"), using_TUs=True)"
   ]
  },
  {
   "cell_type": "markdown",
   "metadata": {},
   "source": [
    "## Build ribosome and RNA Polymerase"
   ]
  },
  {
   "cell_type": "code",
   "execution_count": null,
   "metadata": {
    "collapsed": false,
    "scrolled": true
   },
   "outputs": [],
   "source": [
    "# Add generic_16s,23s, and 5s rRNA formation reactions\n",
    "\n",
    "list_16s = ['b3851', 'b3968', 'b3756', 'b3278', 'b4007', 'b2591', 'b0201']\n",
    "list_23s = ['b3854', 'b3970', 'b3758', 'b3275', 'b4009', 'b2589', 'b0204']\n",
    "list_5s = ['b3855', 'b3971', 'b3759', 'b3274', 'b4010', 'b2588', 'b0205', 'b3272']\n",
    "list_RNase = ['RNase_T_dim_mod_4:mg2', 'RNase_BN_dim_mod_2:zn2', 'Rnd_mono_mod_5:mg2',\n",
    "             'Rnb_mono_mod_1:mg2', 'Rph_mono_mod_mg2']\n",
    "list_RNase = [R.replace('mg2', 'generic_divalent').replace('zn2', 'generic_divalent') \n",
    "             for R in list_RNase]\n",
    "for i in ['16s', '23s', '5s', 'RNase']:\n",
    "    for RNA in eval('list_' + i):\n",
    "        if RNA.startswith('b'):\n",
    "            RNA_id = 'RNA_' + RNA\n",
    "            r = cobra.Reaction(\"rRNA_\" + RNA + '_to_generic')\n",
    "        else:\n",
    "            RNA_id = RNA\n",
    "            r = cobra.Reaction(\"spliceosome_\" + RNA + '_to_generic')\n",
    "        me.add_reaction(r)\n",
    "        r.reaction = RNA_id + ' <=> generic_' + i"
   ]
  },
  {
   "cell_type": "code",
   "execution_count": null,
   "metadata": {
    "collapsed": false,
    "scrolled": true
   },
   "outputs": [],
   "source": [
    "ribosome_complex = ComplexData(\"ribosome\", me)\n",
    "ribosome_components = ribosome_complex.stoichiometry\n",
    "ribosome_modifications = ribosome_complex.modifications\n",
    "\n",
    "# 30S assembly associated reactions\n",
    "# Phase 1\n",
    "# ribosome 30s assembly via 2 GTP bind to ribosome 30s asembly factor\n",
    "mod_1 = ModificationData('gtp_bound_30S_assembly_factor_phase1', me)\n",
    "mod_1.stoichiometry = {'gtp_c': 2, 'h2o_c': 2, 'h_c': -2, 'pi_c': -2}\n",
    "mod_1.enzyme = 'Era_dim'\n",
    "ribosome_modifications[mod_1.id] = -1\n",
    "\n",
    "mod_2 = ModificationData('RbfA_mono_aasembly_factor_phase1', me)\n",
    "mod_2.enzyme = 'RbfA_mono'\n",
    "ribosome_modifications[mod_2.id] = -1\n",
    "\n",
    "mod_3 = ModificationData('RimM_mono_aasembly_factor_phase1', me)\n",
    "mod_3.enzyme = 'RimM_mono'\n",
    "ribosome_modifications[mod_3.id] = -1\n",
    "\n",
    "ribosome_components['generic_16s'] = 1\n",
    "# 30S Listed as [rpsA -rpsU], sra \n",
    "# [rplA-rplF],  rplI, [rplK-rplY],\n",
    "# [rpmA-rpmJ]\n",
    "\n",
    "# TODO change these to complex names\n",
    "for i in [\"b0911\", \"b0169\", \"b3314\", \"b3296\", \"b3303\", \"b4200\", \"b3341\",\n",
    "          \"b3306\", \"b3230\", \"b3321\", \"b3297\", \"b3342\", \"b3298\", \"b3307\", \n",
    "          \"b3165\", \"b2609\", \"b3311\", \"b4202\", \"b3316\", \"b0023\", \"b3065\",\n",
    "          \"b1480\"]:\n",
    "    ribosome_components[\"protein_\" + i] = 1\n",
    "# Phase 2\n",
    "ribosome_components['mg2_c'] = 60\n",
    "\n",
    "\n",
    "# 50s reactions\n",
    "ribosome_components['generic_23s'] = 1\n",
    "ribosome_components['generic_5s'] = 1\n",
    "\n",
    "# 50S listed as [rplA-rplF],rplJ, rplI, rplK [rplM-rplY], [rpmA-rpmJ]    \n",
    "for i in [\"b3984\", \"b3317\", \"b3320\", \"b3319\", \"b3308\", \"b3305\", \n",
    "          \"b3958\", \"b4203\", \"b3983\", \"b3231\", \"b3310\", \"b3301\",\n",
    "          \"b3313\", \"b3294\", \"b3304\", \"b2606\", \"b1716\", \"b3186\",\n",
    "          \"b3315\", \"b3318\", \"b3309\", \"b2185\", \n",
    "          \"b3185\", \"b3637\", \"b3312\", \"b3302\", \"b3936\", \"b1089\", \n",
    "          \"b3636\", \"b3703\", \"b1717\", \"b3299\"]:\n",
    "    ribosome_components[\"protein_\" + i] = 1\n",
    "# [rplJ, 2(2[rpIL7])]\n",
    "ribosome_components[\"protein_\" + \"b3986\"] = 4\n",
    "\n",
    "ribosome_components['mg2_c'] += 111\n",
    "# get ribosome ready for translation\n",
    "# ribosome_50 + ribosome_30 + trigger_factor -> rib_70\n",
    "ribosome_components['Tig_mono'] = 1\n",
    "\n",
    "# rib_70 + If_1 + If_3 -> rib_50_trigger_factor + rib30_if1_if3\n",
    "ribosome_components['InfA_mono'] = 1\n",
    "ribosome_components['InfC_mono'] = 1\n",
    "\n",
    "# 1 b3168_assumedMonomer_gtp (InfB_mono) + 1 rib_30_IF1_IF3 --> 1 rib_30_ini \n",
    "ribosome_components['InfB_mono'] = 1\n",
    "ribosome_components['gtp_c'] = 1 \n",
    "\n",
    "# rib_30_ini + rib_50_trigger_factor -> ribsome_complex\n",
    "ribosome_complex.create_complex_formation()"
   ]
  },
  {
   "cell_type": "code",
   "execution_count": null,
   "metadata": {
    "collapsed": false
   },
   "outputs": [],
   "source": [
    "RNAP_complex = ComplexData(\"RNA_Polymerase\", me)\n",
    "RNAP_components = RNAP_complex.stoichiometry\n",
    "# Core RNA Polymerase Enzyme\n",
    "for i in {\"b3295\" : \"rpoA\", \"b3988\" : \"rpoC\", \"b3987\" : \"rpoB\"}:\n",
    "    if i == \"b3295\":\n",
    "        RNAP_components[\"protein_\" + i] = 2\n",
    "    else:\n",
    "        RNAP_components[\"protein_\" + i] = 1\n",
    "\n",
    "RNAP_complex.create_complex_formation()"
   ]
  },
  {
   "cell_type": "code",
   "execution_count": null,
   "metadata": {
    "collapsed": false
   },
   "outputs": [],
   "source": [
    "me.metabolites.RNA_b3295.reactions"
   ]
  },
  {
   "cell_type": "code",
   "execution_count": null,
   "metadata": {
    "collapsed": true
   },
   "outputs": [],
   "source": [
    "import itertools"
   ]
  },
  {
   "cell_type": "code",
   "execution_count": null,
   "metadata": {
    "collapsed": false
   },
   "outputs": [],
   "source": [
    "def find_existing_genome_region(me_model,left_pos, right_pos, TU_strand, has_5prime_triphosphate):\n",
    "    try:\n",
    "        TU_name = RNA_pos_dict[str(left_pos)+','+str(right_pos)]\n",
    "    except:                 \n",
    "        TU_name = 'excised_TU_%s_%i_%i_%s' % (TU_strand.replace('-','M').replace('+','P'), \n",
    "                                                  left_pos, right_pos, has_5prime_triphosphate)\n",
    "        try:\n",
    "            me.metabolites.get_by_id(TU_name)\n",
    "        except:\n",
    "            #print 'Creating new transcribed gene: ', TU_name\n",
    "            new_TU = TranscribedGene(TU_name)\n",
    "            new_TU.left_pos = left_pos\n",
    "            new_TU.right_pos = right_pos\n",
    "            new_TU.strand = TU_strand\n",
    "            me_model.add_metabolites([new_TU])\n",
    "            r = cobra.Reaction('DM_' + TU_name)\n",
    "            me_model.add_reaction(r)\n",
    "            r.reaction = TU_name + ' --> '\n",
    "\n",
    "    return TU_name"
   ]
  },
  {
   "cell_type": "code",
   "execution_count": null,
   "metadata": {
    "collapsed": false
   },
   "outputs": [],
   "source": [
    "def transcribe_all_TU_combos(me_model, TU, TU_left, TU_right, TU_strand, bnum_set, TU_seq, TU_pieces):\n",
    "    \n",
    "    # Create list of all left strand positions of tRNA, rRNA, sRNA that will be excised\n",
    "    all_lefts = []\n",
    "    for bnum in bnum_set:\n",
    "        all_lefts.append(me.metabolites.get_by_id('RNA_'+bnum).left_pos)\n",
    "\n",
    "    # Create list [0:number_of_possible_excised_portions]\n",
    "    num_in_combo = range(len(all_lefts))\n",
    "    num_in_combo.append(len(all_lefts))\n",
    "    \n",
    "    for i in num_in_combo:\n",
    "        \n",
    "        # Iterate through all possible excised combinations that\n",
    "        # Create the number of pieces in i\n",
    "        for left_combo in itertools.combinations(all_lefts, i):\n",
    "            left_combo_list = list(left_combo)\n",
    "   \n",
    "            if TU not in TU_pieces:\n",
    "                TU_pieces[TU] = []\n",
    "            \n",
    "            # Do nothing if TU has not tRNA, rRNA to excise\n",
    "            if len(left_combo_list) == 0:\n",
    "                #print TU, '<---- check'\n",
    "                TU_pieces[TU].append([])\n",
    "                continue\n",
    "                \n",
    "            left_combo_list.sort() # ascending by default\n",
    "            excised_TU_portions = []\n",
    "            excised_TU_portion_count = 1\n",
    "            \n",
    "            # Look at remaining RNA portion between TU left_pos\n",
    "            # and first tRNA, rRNA\n",
    "            if left_combo_list[0] > TU_left:\n",
    "                if TU_strand == '-':\n",
    "                    has_5prime_triphosphate = 'False'\n",
    "                # (+) strain has not been sliced on the left side yet, preserving\n",
    "                # triphosphate group\n",
    "                else:\n",
    "                    has_5prime_triphosphate = 'True'\n",
    "                \n",
    "                \n",
    "                # Add TranscribedGene for this segment if not already in model\n",
    "                TU_id = find_existing_genome_region(me_model, TU_left, left_combo_list[0]-1, \n",
    "                                               TU_strand, has_5prime_triphosphate)\n",
    "                \n",
    "                excised_TU_portions.append(TU_id)\n",
    "                excised_TU_portion_count += 1\n",
    "                \n",
    "            # iterate rest of possible segments\n",
    "            while len(left_combo_list) > 0:\n",
    "                left = left_combo_list[0]\n",
    "                \n",
    "                # Check to see which rRNA, tRNA this segment represents\n",
    "                for bnum in bnum_set:\n",
    "                    if me.metabolites.get_by_id('RNA_'+bnum).left_pos == left:\n",
    "                        right = me.metabolites.get_by_id('RNA_'+bnum).right_pos\n",
    "                        excised_portion_name = 'RNA_'+bnum\n",
    "                \n",
    "                # tRNA, rRNA loses 5' triphosphate if cleaved\n",
    "                if left != TU_left and TU_strand == '+':\n",
    "                    me.metabolites.get_by_id('RNA_'+bnum).has_5prime_triphosphate = 'False'\n",
    "                if right != TU_right and TU_strand == '-':\n",
    "                    me.metabolites.get_by_id('RNA_'+bnum).has_5prime_triphosphate = 'False'\n",
    "                \n",
    "                \n",
    "                excised_TU_portions.append(excised_portion_name)\n",
    "                excised_TU_portion_count += 1\n",
    "                left_combo_list.pop(left_combo_list.index(left))\n",
    "                \n",
    "                # Deal with the last (far right) segment    \n",
    "                if len(left_combo_list) == 0:\n",
    "                    if TU_right - right > 0:\n",
    "                        # (-) strain has not been sliced on the right side yet, preserving\n",
    "                        # triphosphate group\n",
    "                        if TU_strand == '-':\n",
    "                            has_5prime_triphosphate = 'True'\n",
    "                        else:\n",
    "                            has_5prime_triphosphate = 'False'\n",
    "                            \n",
    "                        TU_id = find_existing_genome_region(me_model, right + 1, TU_right, \n",
    "                                               TU_strand, has_5prime_triphosphate)\n",
    "\n",
    "                        excised_TU_portions.append(TU_id)\n",
    "                        excised_TU_portion_count += 1\n",
    "                        \n",
    "                # Add in excised TU for next segment, if not tRNA, rRNA\n",
    "                else:\n",
    "                    next_left = left_combo_list[0]\n",
    "                    TU_id = find_existing_genome_region(me_model, right + 1, next_left-1, \n",
    "                                                   TU_strand, 'False')\n",
    "                    excised_TU_portion_count += 1\n",
    "                    excised_TU_portions.append(TU_id)\n",
    "                    \n",
    "            if len(excised_TU_portions) > 0:\n",
    "                TU_pieces[TU].append(excised_TU_portions)\n",
    "                "
   ]
  },
  {
   "cell_type": "code",
   "execution_count": null,
   "metadata": {
    "collapsed": false
   },
   "outputs": [],
   "source": [
    "no_TU_info_list = ['b3247', 'b3166', 'b3167', 'b3705', 'b3980']\n",
    "for TU in no_TU_info_list:\n",
    "    RNA = me.metabolites.get_by_id('RNA_' + TU)\n",
    "    add_transcription_reaction(me, 'mRNA_' + TU, {TU}, RNA.seq)\n",
    "    \n",
    "    protein = me.metabolites.get_by_id('protein_' + TU)\n",
    "    translation_data = TranslationData(TU, me, 'protein_' + TU)\n",
    "    translation_data.TUs = ['RNA_' + TU]\n",
    "    translation_data.compute_sequence_from_DNA(RNA.seq)\n",
    "    translation_data.create_translation_reactions()"
   ]
  },
  {
   "cell_type": "code",
   "execution_count": null,
   "metadata": {
    "collapsed": false,
    "scrolled": true
   },
   "outputs": [],
   "source": [
    "from Bio import SeqIO\n",
    "\n",
    "\n",
    "#stable_RNA_df = pandas.read_csv(join(ecoli_files_dir,'stable_RNA.txt'), delimiter='\\t', index_col=0)\n",
    "#stable_RNA_dict = stable_RNA_df.T.to_dict()\n",
    "#TU_gene_dict = TU_gene_df.T.to_dict()\n",
    "gb_file = SeqIO.read(join(ecoli_files_dir,'NC_000913.2.gb'), 'gb')                                      \n",
    "full_seq = str(gb_file.seq)                                                  \n",
    "TU_df = pandas.read_csv(join(ecoli_files_dir,'TUs_from_ecocyc.txt'), delimiter=\"\\t\", index_col=0)            \n",
    "\n",
    "\n",
    "TU_pieces = {}\n",
    "for index, TU in TU_df.iterrows():\n",
    "    seq = full_seq[TU.start:TU.stop]                                          \n",
    "    if TU.strand == '-':\n",
    "        seq = util.dogma.reverse_transcribe(seq) \n",
    "    index_list = index.split('_')[0:2]\n",
    "    new_index = index_list[0] + '_' + index_list[1]\n",
    "    new_index = new_index.replace('_from', '').replace('_with','')\n",
    "\n",
    "    excise = False\n",
    "    loci = []\n",
    "    for string_pos in RNA_pos_dict:\n",
    "        pos = string_pos.split(',')\n",
    "        if int(pos[0]) + 1 >= float(TU.start) and int(pos[1]) <= int(TU.stop):\n",
    "            if me.metabolites.get_by_id(RNA_pos_dict[string_pos]).strand == TU.strand:\n",
    "                loci.append(RNA_pos_dict[string_pos].replace('RNA_',''))\n",
    "    loci = set(loci)\n",
    "    #print index, loci\n",
    "    for locus in loci:\n",
    "        try:\n",
    "            if me.metabolites.get_by_id('RNA_'+locus).RNA_type == 'tRNA' or \\\n",
    "            me.metabolites.get_by_id('RNA_'+locus).RNA_type == 'rRNA' or locus == 'b3123':\n",
    "                excise = True\n",
    "        except:\n",
    "            pass\n",
    "\n",
    "    if excise == False:\n",
    "        add_TU_transcription_reaction(me, index, loci, seq)\n",
    "        for locus in loci:\n",
    "            protein_id = 'protein_' + locus\n",
    "            try:\n",
    "                protein = me.metabolites.get_by_id(protein_id)\n",
    "            except:\n",
    "                continue\n",
    "            try:\n",
    "                translation_data = me.translation_data.get_by_id(locus)\n",
    "                translation_data.TUs += [index]\n",
    "            except:\n",
    "                translation_data = TranslationData(locus, me, protein_id)\n",
    "                translation_data.TUs = [index]\n",
    "                translation_data.amino_acid_sequence = protein.amino_acid_sequence\n",
    "            translation_data.create_translation_reactions()\n",
    "    else:\n",
    "        if index == 'TU482_with_TERM161_from_RpoD_mono':\n",
    "            for locus in loci:\n",
    "                if locus == 'b3123': # RNAseP\n",
    "                    continue\n",
    "                protein_id = 'protein_' + locus\n",
    "                protein = TranslatedGene(protein_id)\n",
    "                mRNA_id = 'RNA_' + locus\n",
    "                mRNA = me.metabolites.get_by_id(mRNA_id)\n",
    "                translation_data = TranslationData(locus, me, protein_id)\n",
    "                translation_data.TUs = ['RNA_' + locus]\n",
    "                translation_data.compute_sequence_from_DNA(mRNA.seq)\n",
    "                translation_data.create_translation_reactions()\n",
    "        TU_data = TranscriptionData(index, me)\n",
    "        TU_data.nucleotide_sequence = seq\n",
    "        TU_data.RNA_products = loci\n",
    "        # Must splice TU to form tRNA, rRNA, sRNA (not supported)\n",
    "        transcribe_all_TU_combos(me, index, TU.start, TU.stop, TU.strand, loci, seq, TU_pieces)"
   ]
  },
  {
   "cell_type": "code",
   "execution_count": null,
   "metadata": {
    "collapsed": false
   },
   "outputs": [],
   "source": [
    "# Combine excision machinery into one set\n",
    "rRNA_containing = ['RNase_E_tetra_mod_2:zn2', 'RNase_P_cplx_mod_2:mg2', 'generic_RNase', 'RNase_m5', 'RNase_m16', \n",
    "                   'RNase_m23', 'RNase_III_dim_mod_2:mg2', 'RNase_G_dim', 'RNase_T_dim_mod_4:mg2']\n",
    "\n",
    "monocistronic = ['RNase_E_tetra_mod_2:zn2', 'RNase_P_cplx_mod_2:mg2', 'generic_RNase']\n",
    "\n",
    "polycistronic_wout_rRNA = ['RNase_E_tetra_mod_2:zn2', 'RNase_P_cplx_mod_2:mg2', 'generic_RNase', 'RNase_III_dim', \n",
    "                           'RNase_G_dim', 'RNase_T_dim_mod_4:mg2']\n",
    "\n",
    "excision_types = ['rRNA_containing', 'monocistronic', 'polycistronic_wout_rRNA']\n",
    "for excision in excision_types:\n",
    "    excision_dict = {}\n",
    "    r = cobra.Reaction('combine_' + excision + '_excision_machinery')\n",
    "    for machine in eval(excision):\n",
    "        for ion in divalent_list:\n",
    "            machine = machine.replace(ion,'generic_divalent')\n",
    "        excision_dict[Metabolite(machine)] = -1\n",
    "    excision_dict[Metabolite(excision + '_excision_set')] = 1\n",
    "    r.add_metabolites(excision_dict)\n",
    "    me.add_reaction(r)\n",
    "                                                                                \n",
    "    # Add modification data objects for TU excision reactions\n",
    "    rRNA_mod = ModificationData(excision + '_excision', me)\n",
    "    rRNA_mod.stoichiometry = {'h2o_c': -1, 'h_c': 1}\n",
    "    rRNA_mod.enzyme = excision + '_excision_set'"
   ]
  },
  {
   "cell_type": "code",
   "execution_count": null,
   "metadata": {
    "collapsed": false
   },
   "outputs": [],
   "source": [
    "for TU, combos_of_pieces in TU_pieces.iteritems():\n",
    "    for i, pieces in enumerate(combos_of_pieces):\n",
    "        tRNA_count = 0\n",
    "        rRNA_count = 0\n",
    "        sRNA_count = 0 # not supported\n",
    "        \n",
    "        if len(pieces) < 1: # no fragments to splice\n",
    "            continue\n",
    "        \n",
    "        transcription = TranscriptionReaction('transcription_' + TU + '_slice_' + str(i+1))\n",
    "        transcription_data = TranscriptionData(TU + '_slice_' + str(i+1), me)\n",
    "        full_TU_data = me.transcription_data.get_by_id(TU)\n",
    "        transcription_data.nucleotide_sequence = full_TU_data.nucleotide_sequence\n",
    "\n",
    "\n",
    "        RNA_products = set()\n",
    "        \n",
    "        for piece in pieces:\n",
    "            RNA_object = me.metabolites.get_by_id(piece)\n",
    "            if RNA_object.RNA_type == 'tRNA':\n",
    "                tRNA_count += 1\n",
    "            elif RNA_object.RNA_type == 'rRNA':\n",
    "                rRNA_count += 1\n",
    "            else:\n",
    "                sRNA_count += 1\n",
    "            RNA_products.add(piece)\n",
    "            \n",
    "        if rRNA_count > 0:\n",
    "            transcription_data.modifications['rRNA_containing_excision'] = len(pieces)-1\n",
    "        elif tRNA_count == 1 and rRNA_count == 0:\n",
    "            transcription_data.modifications['monocistronic_excision'] = len(pieces)-1\n",
    "        elif tRNA_count > 1 and rRNA_count == 0:\n",
    "            transcription_data.modifications['polycistronic_wout_rRNA_excision'] = len(pieces)-1\n",
    "        else: # only applies to rnpB\n",
    "            transcription_data.modifications['monocistronic_excision'] = len(pieces)-1\n",
    "        \n",
    "        transcription_data.RNA_products = RNA_products\n",
    "        transcription.transcription_data = transcription_data\n",
    "        \n",
    "        me.add_reaction(transcription)\n",
    "        transcription.update()"
   ]
  },
  {
   "cell_type": "code",
   "execution_count": null,
   "metadata": {
    "collapsed": false,
    "scrolled": true
   },
   "outputs": [],
   "source": [
    "for cplx in me.complex_data:\n",
    "    for protein in cplx.stoichiometry.keys():\n",
    "        try:\n",
    "            if len(me.metabolites.get_by_id(protein).reactions) == 1:\n",
    "                print protein\n",
    "        except:\n",
    "            print me.metabolites.get_by_id(protein.replace('protein','RNA')).RNA_type"
   ]
  },
  {
   "cell_type": "markdown",
   "metadata": {},
   "source": [
    "### Add Transcription/Translation from the genbank file"
   ]
  },
  {
   "cell_type": "markdown",
   "metadata": {},
   "source": [
    "Add a dummy protein in as well"
   ]
  },
  {
   "cell_type": "code",
   "execution_count": null,
   "metadata": {
    "collapsed": false
   },
   "outputs": [],
   "source": [
    "dna_sequence = \"ATG\" + \"TTT\" * 12 + \"TAT\"*12+ \"ACG\"*12 + \"GAT\" *12 + \"AGT\"*12+ \"TAA\"\n",
    "add_transcription_reaction(me, \"dummy\", {\"dummy\"}, dna_sequence)\n",
    "me.add_metabolites(TranslatedGene(\"protein_\" + \"dummy\"))\n",
    "\n",
    "translation_data = TranslationData(\"dummy\", me, \"protein_dummy\")\n",
    "translation_data.compute_sequence_from_DNA(dna_sequence)\n",
    "translation_data.TUs = ['RNA_dummy']\n",
    "\n",
    "translation_data.create_translation_reactions()\n",
    "\n",
    "complex_data = ComplexData(\"CPLX_dummy\", me)\n",
    "complex_data.stoichiometry = {}\n",
    "complex_data.stoichiometry[\"protein_\" + \"dummy\"] = 1\n",
    "complex_data.create_complex_formation()"
   ]
  },
  {
   "cell_type": "markdown",
   "metadata": {},
   "source": [
    "## Associate the tRNA synthetases"
   ]
  },
  {
   "cell_type": "markdown",
   "metadata": {},
   "source": [
    "The tRNA charging reactions were automatically added when loading the genome from the genbank file. However, the charging reactions still need to be made aware of the tRNA synthetases which are responsible."
   ]
  },
  {
   "cell_type": "code",
   "execution_count": null,
   "metadata": {
    "collapsed": true
   },
   "outputs": [],
   "source": [
    "with open(join(ecoli_files_dir, \"amino_acid_tRNA_synthetase.json\"), \"rb\") as infile:\n",
    "    aa_synthetase_dict = json.load(infile)\n",
    "for data in me.tRNA_data:\n",
    "    data.synthetase = str(aa_synthetase_dict[data.amino_acid])"
   ]
  },
  {
   "cell_type": "markdown",
   "metadata": {},
   "source": [
    "### Add in complex Formation with modifications"
   ]
  },
  {
   "cell_type": "code",
   "execution_count": null,
   "metadata": {
    "collapsed": false
   },
   "outputs": [],
   "source": [
    "# ME_complex_dict is a dict of {'complex_id': ['bnum(count)']}\n",
    "ME_complex_dict = get_complex_to_bnum_dict()\n",
    "# some entries in the file need to be renamed\n",
    "renames = {\"MnmE_\": \"b3706\", \"MnmG_\": \"b3741\", \"YheM_\": \"b3344\", \"YheL_\": \"b3343\", \"YheN_\": \"b3345\"}\n",
    "rna_components = {\"b3123\"}  # component id should have RNA_ instead of protein_\n",
    "\n",
    "for cplx, value in ME_complex_dict.iteritems():\n",
    "    complex_data = ComplexData(cplx, me)\n",
    "    for gene in value:\n",
    "        stoichiometry = gene[6]\n",
    "        bnum = gene[0:5]\n",
    "        comp_id = \"RNA_\" + bnum if bnum in rna_components \\\n",
    "            else \"protein_\" + renames.get(bnum, bnum)\n",
    "        try:\n",
    "            complex_data.stoichiometry[comp_id] = float(stoichiometry)\n",
    "        except:\n",
    "            complex_data.stoichiometry[comp_id] = float(1)"
   ]
  },
  {
   "cell_type": "code",
   "execution_count": null,
   "metadata": {
    "collapsed": false
   },
   "outputs": [],
   "source": [
    "me.reactions.transcription_TU00058_from_RpoD_mono.reaction"
   ]
  },
  {
   "cell_type": "code",
   "execution_count": null,
   "metadata": {
    "collapsed": false
   },
   "outputs": [],
   "source": [
    "# {modified_complex_id: ['unmodified_complex_id', {component_id: stoic}]\n",
    "modification_dict = get_protein_modification_dict(generic=True)\n",
    "for mod_cplx_id, mod_complex_info in iteritems(modification_dict):\n",
    "    unmod_cplx_id, mods = mod_complex_info\n",
    "    unmod_cplx = me.complex_data.get_by_id(unmod_cplx_id)\n",
    "    cplx = ComplexData(mod_cplx_id, me)\n",
    "    cplx.stoichiometry = unmod_cplx.stoichiometry\n",
    "    cplx.translocation = unmod_cplx.translocation\n",
    "    cplx.chaperones = unmod_cplx.chaperones\n",
    "    if len(set(mod_cplx_id.split(\"_mod_\")[1:])) == len(mods):\n",
    "        for mod_comp, mod_count in iteritems(mods):\n",
    "            mod_id = \"mod_\" + mod_comp\n",
    "            try:\n",
    "                mod = me.modification_data.get_by_id(mod_id)\n",
    "            except:\n",
    "                mod = ModificationData(mod_id, me)\n",
    "                mod.stoichiometry = {mod_comp: -1}\n",
    "            cplx.modifications[mod_id] = -mod_count\n",
    "    else:\n",
    "        print \"TODO:\", mod_cplx_id"
   ]
  },
  {
   "cell_type": "markdown",
   "metadata": {},
   "source": [
    "Some modifications are enzyme-catalyzed\n",
    "\n",
    "TODO: Fe-S enzyme-catalyzed modifications"
   ]
  },
  {
   "cell_type": "code",
   "execution_count": null,
   "metadata": {
    "collapsed": false
   },
   "outputs": [],
   "source": [
    "# two different reactiond can add a lipoate modification.\n",
    "# We create a separate ModificationData for each one\n",
    "lipo = me.modification_data.get_by_id(\"mod_lipo_c\")\n",
    "alt_lipo = ModificationData(\"mod_lipo_c_alt\", me)\n",
    "alt_lipo.stoichiometry = lipo.stoichiometry\n",
    "\n",
    "lipo.stoichiometry = {\"lipoamp_c\": -1, \"amp_c\": 1}\n",
    "lipo.enzyme = 'EG11796-MONOMER'\n",
    "lipo.keff = 65.\n",
    "\n",
    "alt_lipo.stoichiometry = {'EG50003-MONOMER_mod_pan4p_mod_lipo':-1,\n",
    "                          'EG50003-MONOMER_mod_pan4p':1,\n",
    "                          'h_c':-1,}\n",
    "alt_lipo.enzyme = 'EG11591-MONOMER'\n",
    "alt_lipo.keff = 65.\n",
    "\n",
    "for cplx_data in lipo.get_complex_data():\n",
    "    alt_cplx_data = ComplexData(cplx_data.id + \"alt\", me)\n",
    "    alt_cplx_data.complex_id = cplx_data.complex_id\n",
    "    alt_cplx_data.translocation = cplx_data.translocation\n",
    "    alt_cplx_data.chaperones = cplx_data.chaperones\n",
    "    alt_cplx_data.modifications = cplx_data.modifications\n",
    "    alt_cplx_data.modifications[alt_lipo.id] = \\\n",
    "        alt_cplx_data.modifications.pop(lipo.id)"
   ]
  },
  {
   "cell_type": "code",
   "execution_count": null,
   "metadata": {
    "collapsed": true
   },
   "outputs": [],
   "source": [
    "# todo bmocogdp_c mods\n",
    "mod_catalysts = {'CPLX0-1762':'G6712-MONOMER', # FE-S modification\n",
    "                 'TMAOREDUCTI-CPLX':'EG12195-MONOMER',\n",
    "                 'DIMESULFREDUCT-CPLX':'G6849-MONOMER',\n",
    "                 'NITRATREDUCTA-CPLX':'NARJ-MONOMER', \n",
    "                 'NITRATREDUCTZ-CPLX':'NARW-MONOMER',\n",
    "                 'NAP-CPLX':'NAPD-MONOMER',\n",
    "                 'NAPAB-CPLX_NAPC-MONOMER':'NAPD-MONOMER'}"
   ]
  },
  {
   "cell_type": "code",
   "execution_count": null,
   "metadata": {
    "collapsed": false
   },
   "outputs": [],
   "source": [
    "target_list = ['4fe4s_c', 'LI_c', '2fe2s_c', '3fe4s_c',\n",
    "               'NiFeCoCN2_c',\n",
    "               'RNase_m5','RNase_m16','RNase_m23'] # RNAses are gaps in model\n",
    "\n",
    "for met_id in target_list:\n",
    "    r = cobra.Reaction(\"EX_\" + met_id)\n",
    "    me.add_reaction(r)\n",
    "    r.reaction = met_id + \" <=> \""
   ]
  },
  {
   "cell_type": "markdown",
   "metadata": {},
   "source": [
    "Build all complex formation reactions\n",
    "\n",
    "TODO: This shouldn't be prining out stuff. Fix them."
   ]
  },
  {
   "cell_type": "code",
   "execution_count": null,
   "metadata": {
    "collapsed": false,
    "scrolled": true
   },
   "outputs": [],
   "source": [
    "for cplx_data in me.complex_data:\n",
    "    formation = cplx_data.formation\n",
    "    if formation:\n",
    "        formation.update()\n",
    "    else:\n",
    "        cplx_data.create_complex_formation()"
   ]
  },
  {
   "cell_type": "markdown",
   "metadata": {},
   "source": [
    "Crutch reactions for mets that are blocked. TODO remove"
   ]
  },
  {
   "cell_type": "markdown",
   "metadata": {},
   "source": [
    "## Associate Complexes with Reactions"
   ]
  },
  {
   "cell_type": "code",
   "execution_count": null,
   "metadata": {
    "collapsed": false
   },
   "outputs": [],
   "source": [
    "# associate reaction id with the old ME complex id (including modifications)\n",
    "rxnToModCplxDict = get_reaction_to_modified_complex(generic=True)"
   ]
  },
  {
   "cell_type": "code",
   "execution_count": null,
   "metadata": {
    "collapsed": false
   },
   "outputs": [],
   "source": [
    "for reaction_data in me.stoichiometric_data:\n",
    "    # Some reactions have no complex associated. Determine if they are\n",
    "    # spontaneous or orphan reactions.\n",
    "    try:\n",
    "        complexes = rxnToModCplxDict[reaction_data.id]\n",
    "    except KeyError:\n",
    "        # These are orphans catalyzed by a dummy\n",
    "        if reaction_data.id == \"dummy_reaction\" or \\\n",
    "                not reaction_info.is_spontaneous[reaction_data.id]:\n",
    "            complexes = [\"CPLX_dummy\"]\n",
    "        # These are truly spontaneous\n",
    "        else:\n",
    "            complexes = [None]\n",
    "    for complex_id in complexes:\n",
    "        complex_data = me.complex_data.get_by_id(complex_id) if complex_id else None\n",
    "        if reaction_data.lower_bound < 0:\n",
    "            r = MetabolicReaction(reaction_data.id + \"_REV_\" + str(complex_id))\n",
    "            me.add_reaction(r)\n",
    "            r.keff = 65\n",
    "            r.stoichiometric_data = reaction_data\n",
    "            if complex_data is not None:\n",
    "                r.complex_data = complex_data\n",
    "            r.reverse = True\n",
    "            r.update(create_new=True)\n",
    "        if reaction_data.upper_bound > 0:\n",
    "            r = MetabolicReaction(reaction_data.id + \"_FWD_\" + str(complex_id))\n",
    "            me.add_reaction(r)\n",
    "            r.keff = 65\n",
    "            r.stoichiometric_data = reaction_data\n",
    "            if complex_data is not None:\n",
    "                r.complex_data = complex_data\n",
    "            r.reverse = False\n",
    "            r.update(create_new=True)"
   ]
  },
  {
   "cell_type": "code",
   "execution_count": null,
   "metadata": {
    "collapsed": false
   },
   "outputs": [],
   "source": [
    "# This reaction is weird\n",
    "me.reactions.get_by_id('CITLY-CPLX_2tpr3dpcoa_FWD_G6340-MONOMER').reaction"
   ]
  },
  {
   "cell_type": "markdown",
   "metadata": {},
   "source": [
    "Rebuild transcription and translation to use tRNA (now that tRNA synthetase complexes are in the model"
   ]
  },
  {
   "cell_type": "code",
   "execution_count": null,
   "metadata": {
    "collapsed": false
   },
   "outputs": [],
   "source": [
    "for r in me.reactions:\n",
    "    if isinstance(r, tRNAChargingReaction):\n",
    "        r.update()\n",
    "for r in me.reactions:\n",
    "    if isinstance(r, TranslationReaction):\n",
    "        r.update()\n",
    "    if isinstance(r, TranscriptionReaction):\n",
    "        r.update()\n",
    "    if isinstance(r, MetabolicReaction):\n",
    "        r.update()"
   ]
  },
  {
   "cell_type": "code",
   "execution_count": null,
   "metadata": {
    "collapsed": false,
    "scrolled": true
   },
   "outputs": [],
   "source": [
    "for met in me.metabolites.query('RNA_b'):\n",
    "    no_trans = True\n",
    "    if len(met.reactions) < 2:\n",
    "        no_trans = False\n",
    "    for r in met.reactions:\n",
    "        if isinstance(r, TranscriptionReaction):\n",
    "            no_trans = False\n",
    "    if no_trans == True:\n",
    "        print met.id"
   ]
  },
  {
   "cell_type": "code",
   "execution_count": null,
   "metadata": {
    "collapsed": false,
    "scrolled": true
   },
   "outputs": [],
   "source": [
    "me.metabolites.TU0_13904_from_RpoD_mono.reactions"
   ]
  },
  {
   "cell_type": "code",
   "execution_count": null,
   "metadata": {
    "collapsed": false
   },
   "outputs": [],
   "source": [
    "me.metabolites.RNA_b0206.right_pos"
   ]
  },
  {
   "cell_type": "code",
   "execution_count": null,
   "metadata": {
    "collapsed": false
   },
   "outputs": [],
   "source": [
    "me.reactions.transcription_TU0_12906_from_RpoD_mono.reaction"
   ]
  },
  {
   "cell_type": "markdown",
   "metadata": {},
   "source": [
    "## Add in translocation"
   ]
  },
  {
   "cell_type": "code",
   "execution_count": null,
   "metadata": {
    "collapsed": false
   },
   "outputs": [],
   "source": [
    "translocPath = pandas.read_csv(join(ecoli_files_dir, \"translocation_pathways.txt\"),sep='\\t')\n",
    "\n",
    "for index, row in translocPath.iterrows():\n",
    "    translocRxn = ProteinTranslocationData(row.Reaction_name, me)\n",
    "    translocRxn.keff = float(row.Keff)\n",
    "    translocRxn.costs_complexes = row.Complexes.split(' AND ')"
   ]
  },
  {
   "cell_type": "code",
   "execution_count": null,
   "metadata": {
    "collapsed": false,
    "scrolled": true
   },
   "outputs": [],
   "source": [
    "proteins_sa_coeff_inner={}\n",
    "\n",
    "transloc = pandas.read_csv(join(ecoli_files_dir, \"peptide_compartment_and_pathways2.txt\"), sep='\\t', comment=\"#\")\n",
    "for index, row in transloc.iterrows():\n",
    "    me.metabolites.get_by_id(row.Complex).compartment = row.Complex_compartment\n",
    "    me.metabolites.get_by_id('protein_'+row.Protein.split('(')[0]).compartment = row.Protein_compartment\n",
    "    #if index > 316:\n",
    "    #    continue\n",
    "    if row.translocase_pathway=='s':\n",
    "        me.translocation_pathways.srp_translocation.add_translocation_cost(me,row.Complex,row.Protein)\n",
    "        \n",
    "        ## This is in preparation for membrane constraint\n",
    "        mass = me.translation_data.get_by_id(row.Protein.split('(')[0]).mass\n",
    "        if row.Complex in proteins_sa_coeff_inner.keys():\n",
    "            proteins_sa_coeff_inner[row.Complex]+=mass*1.21/42.*2\n",
    "        else:\n",
    "            proteins_sa_coeff_inner[row.Complex]=mass*1.21/42.*2\n",
    "    elif row.translocase_pathway == 'r':\n",
    "        me.translocation_pathways.srp_translocation.add_translocation_cost(me,row.Complex,row.Protein)       \n",
    "    elif row.translocase_pathway == 'p':\n",
    "        me.translocation_pathways.srp_yidC_translocation.add_translocation_cost(me,row.Complex,row.Protein)         \n",
    "    elif row.translocase_pathway =='t':\n",
    "        me.translocation_pathways.tat_translocation.add_translocation_cost(me,row.Complex,row.Protein)\n",
    "    elif row.translocase_pathway=='a':\n",
    "        me.translocation_pathways.srp_translocation.add_translocation_cost(me,row.Complex,row.Protein)\n",
    "        me.translocation_pathways.secA_translocation.add_translocation_cost(me,row.Complex,row.Protein)\n",
    "    elif row.translocase_pathway =='l':\n",
    "        me.translocation_pathways.lol_translocation.add_translocation_cost(me,row.Complex,row.Protein)\n",
    "    elif row.translocase_pathway =='b':\n",
    "        me.translocation_pathways.bam_translocation.add_translocation_cost(me,row.Complex,row.Protein)\n",
    "    elif row.translocase_pathway =='y':\n",
    "        me.translocation_pathways.yidC_translocation.add_translocation_cost(me,row.Complex,row.Protein)        \n",
    "    elif row.translocase_pathway!='n':\n",
    "        print row.translocase_pathway        "
   ]
  },
  {
   "cell_type": "markdown",
   "metadata": {},
   "source": [
    "Remove unused protein and mRNA to make the model solve faster (TODO remove unused complexes too)"
   ]
  },
  {
   "cell_type": "code",
   "execution_count": null,
   "metadata": {
    "collapsed": false
   },
   "outputs": [],
   "source": [
    "one_rxn_list = []\n",
    "for met in me.metabolites:\n",
    "    if len(me.metabolites.get_by_id(met.id.rstrip('_')).reactions) == 1:\n",
    "        print met.id\n",
    "        one_rxn_list.append(met.id)"
   ]
  },
  {
   "cell_type": "code",
   "execution_count": null,
   "metadata": {
    "collapsed": false
   },
   "outputs": [],
   "source": [
    "for met in one_rxn_list:\n",
    "    metab = me.metabolites.get_by_id(met)\n",
    "    for r in metab.reactions:\n",
    "        if isinstance(r, ComplexFormation):\n",
    "            print metab"
   ]
  },
  {
   "cell_type": "code",
   "execution_count": null,
   "metadata": {
    "collapsed": false
   },
   "outputs": [],
   "source": [
    "me.metabolites.protein_dummy.reactions"
   ]
  },
  {
   "cell_type": "code",
   "execution_count": null,
   "metadata": {
    "collapsed": true
   },
   "outputs": [],
   "source": [
    "for c_d in me.complex_data:\n",
    "    c = c_d.complex\n",
    "    if len(c.reactions) == 1:\n",
    "        list(c.reactions)[0].delete(remove_orphans=True)\n",
    "for p in me.metabolites.query(\"protein\"):\n",
    "    if len(p._reaction) == 1:\n",
    "        list(p._reaction)[0].delete(remove_orphans=True)\n",
    "for m in me.metabolites.query(\"RNA\"):\n",
    "    if len(m._reaction) == 1:\n",
    "        list(m._reaction)[0].delete(remove_orphans=True)"
   ]
  },
  {
   "cell_type": "code",
   "execution_count": null,
   "metadata": {
    "collapsed": false
   },
   "outputs": [],
   "source": [
    "me.metabolites.RNA_b0001.reactions"
   ]
  },
  {
   "cell_type": "markdown",
   "metadata": {},
   "source": [
    "This gives the total number of genes included"
   ]
  },
  {
   "cell_type": "code",
   "execution_count": null,
   "metadata": {
    "collapsed": false
   },
   "outputs": [],
   "source": [
    "len(me.reactions.query(\"transcription\"))"
   ]
  },
  {
   "cell_type": "code",
   "execution_count": null,
   "metadata": {
    "collapsed": false
   },
   "outputs": [],
   "source": [
    "len(me.reactions)"
   ]
  },
  {
   "cell_type": "code",
   "execution_count": null,
   "metadata": {
    "collapsed": false
   },
   "outputs": [],
   "source": [
    "len(me.metabolites.query('RNA_'))"
   ]
  },
  {
   "cell_type": "code",
   "execution_count": null,
   "metadata": {
    "collapsed": false
   },
   "outputs": [],
   "source": [
    "len(me.metabolites.query('protein_'))"
   ]
  },
  {
   "cell_type": "markdown",
   "metadata": {},
   "source": [
    "## Attempt to set keffs"
   ]
  },
  {
   "cell_type": "code",
   "execution_count": null,
   "metadata": {
    "collapsed": false,
    "scrolled": true
   },
   "outputs": [],
   "source": [
    "divalent_list = divalent_list\n",
    "monovalent_list = ['_mod_k','_mod_na1']\n",
    "from pickle import load\n",
    "with open(\"test_keffs.pickle\", \"rb\") as infile:\n",
    "    old_keffs = load(infile)\n",
    "keffs = {}\n",
    "\n",
    "for keff, value in old_keffs.items():\n",
    "    for i in divalent_list: \n",
    "        keff = keff.replace(i, 'generic_divalent')\n",
    "    for i in monovalent_list: \n",
    "        keff = keff.replace(i, '_mod_generic_monovalent')\n",
    "    keffs[keff] = value\n",
    "    \n",
    "for r in me.reactions:\n",
    "    if isinstance(r, MetabolicReaction) and r.complex_data is None:\n",
    "        continue\n",
    "    if isinstance(r, MetabolicReaction) and r.complex_data.id != \"CPLX_dummy\":\n",
    "        met_rxn = r\n",
    "        key = met_rxn.id.replace(\"-\", \"_DASH_\").replace(\"__\", \"_DASH_\").replace(\":\",\"_COLON_\")\n",
    "        #key = met_rxn.id\n",
    "        key = \"keff_\" + key.replace(\"_FWD_\", \"_\").replace(\"_REV_\", \"_\")\n",
    "\n",
    "        matches = [i for i in keffs if key in i]\n",
    "        # get the direction\n",
    "        if met_rxn.reverse:\n",
    "            matches = [i for i in matches if i.endswith(\"_reverse_priming_keff\")]\n",
    "        else:\n",
    "            matches = [i for i in matches if i.endswith(\"_forward_priming_keff\")]\n",
    "        if len(matches) == 1:\n",
    "            met_rxn.keff = keffs[matches[0]]\n",
    "        elif len(matches) > 0:\n",
    "            if len(matches) == len([i for i in matches if key + \"_mod_\"]):\n",
    "                met_rxn.keff = keffs[matches[0]]\n",
    "            else:\n",
    "                print key, len(matches)\n",
    "        else:  # len(matches) == 0\n",
    "            print \"no keff found for\", key"
   ]
  },
  {
   "cell_type": "markdown",
   "metadata": {},
   "source": [
    "## Solve"
   ]
  },
  {
   "cell_type": "code",
   "execution_count": null,
   "metadata": {
    "collapsed": true
   },
   "outputs": [],
   "source": [
    "me.reactions.dummy_reaction_FWD_CPLX_dummy.objective_coefficient = 1."
   ]
  },
  {
   "cell_type": "code",
   "execution_count": null,
   "metadata": {
    "collapsed": true
   },
   "outputs": [],
   "source": [
    "# Turn off reactions that throw off results as in iOL\n",
    "KO_list = ['DHPTDNR','DHPTDNRN', 'SUCASPtpp','SUCFUMtpp', 'SUCMALtpp', 'SUCTARTtpp', \n",
    "           'CAT', 'FHL', 'SPODM', 'SPODMp']\n",
    "for reaction in KO_list:\n",
    "    a = me.reactions.query(reaction+'_')\n",
    "    for rxn in a:\n",
    "        rxn.upper_bound = 0\n",
    "        rxn.lower_bound = 0"
   ]
  },
  {
   "cell_type": "code",
   "execution_count": null,
   "metadata": {
    "collapsed": true
   },
   "outputs": [],
   "source": [
    "me.reactions.EX_glc__D_e.lower_bound = -100"
   ]
  },
  {
   "cell_type": "code",
   "execution_count": null,
   "metadata": {
    "collapsed": true
   },
   "outputs": [],
   "source": [
    "expressions = compile_expressions(me)"
   ]
  },
  {
   "cell_type": "code",
   "execution_count": null,
   "metadata": {
    "collapsed": false,
    "scrolled": true
   },
   "outputs": [],
   "source": [
    "sol = solve_at_growth_rate(me, .1, compiled_expressions=expressions)"
   ]
  },
  {
   "cell_type": "code",
   "execution_count": null,
   "metadata": {
    "collapsed": false
   },
   "outputs": [],
   "source": [
    "sol.status"
   ]
  },
  {
   "cell_type": "code",
   "execution_count": null,
   "metadata": {
    "collapsed": false,
    "scrolled": true
   },
   "outputs": [],
   "source": [
    "binary_search(me, min_mu=0, max_mu=2, mu_accuracy=1e-6,\n",
    "              compiled_expressions=expressions)"
   ]
  },
  {
   "cell_type": "code",
   "execution_count": null,
   "metadata": {
    "collapsed": false
   },
   "outputs": [],
   "source": [
    "me.reactions.transcription_mRNA_b3166.reaction"
   ]
  },
  {
   "cell_type": "code",
   "execution_count": null,
   "metadata": {
    "collapsed": false,
    "scrolled": true
   },
   "outputs": [],
   "source": [
    "for key, value in sol.x_dict.items():\n",
    "    if key.startswith('DM_') and value > 0:\n",
    "        print key, '-->', value"
   ]
  },
  {
   "cell_type": "code",
   "execution_count": null,
   "metadata": {
    "collapsed": false
   },
   "outputs": [],
   "source": [
    "for key, value in sol.x_dict.items():\n",
    "    if key.startswith('transcription_') and value > 0:\n",
    "        print key, value"
   ]
  },
  {
   "cell_type": "code",
   "execution_count": null,
   "metadata": {
    "collapsed": false,
    "scrolled": true
   },
   "outputs": [],
   "source": [
    "me.metabolites.RNA_b2590.reactions"
   ]
  },
  {
   "cell_type": "code",
   "execution_count": null,
   "metadata": {
    "collapsed": false
   },
   "outputs": [],
   "source": [
    "me.reactions.transcription_TU0_14237_from_RpoD_mono.reaction"
   ]
  },
  {
   "cell_type": "code",
   "execution_count": null,
   "metadata": {
    "collapsed": false
   },
   "outputs": [],
   "source": [
    "me.compute_solution_error()"
   ]
  },
  {
   "cell_type": "code",
   "execution_count": null,
   "metadata": {
    "collapsed": false
   },
   "outputs": [],
   "source": [
    "import escher\n",
    "view = escher.Builder(\"iJO1366.Central metabolism\")\n",
    "view.reaction_data = me.get_metabolic_flux()\n",
    "view.display_in_notebook()"
   ]
  },
  {
   "cell_type": "code",
   "execution_count": null,
   "metadata": {
    "collapsed": true
   },
   "outputs": [],
   "source": []
  }
 ],
 "metadata": {
  "kernelspec": {
   "display_name": "Python 2",
   "language": "python",
   "name": "python2"
  },
  "language_info": {
   "codemirror_mode": {
    "name": "ipython",
    "version": 2
   },
   "file_extension": ".py",
   "mimetype": "text/x-python",
   "name": "python",
   "nbconvert_exporter": "python",
   "pygments_lexer": "ipython2",
   "version": "2.7.6"
  }
 },
 "nbformat": 4,
 "nbformat_minor": 0
}
