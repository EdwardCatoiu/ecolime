{
 "cells": [
  {
   "cell_type": "markdown",
   "metadata": {},
   "source": [
    "\n",
    "# Build a basic ME model"
   ]
  },
  {
   "cell_type": "markdown",
   "metadata": {},
   "source": [
    "We will try to build an ME model from the NC_000913.2 Genbank file, the iJO1366 M model, and the complex reconstruction from iJL1650-ME"
   ]
  },
  {
   "cell_type": "code",
   "execution_count": null,
   "metadata": {
    "collapsed": false
   },
   "outputs": [],
   "source": [
    "# python imports\n",
    "import re\n",
    "import json\n",
    "from os.path import join\n",
    "\n",
    "# third party imports\n",
    "import pandas\n",
    "import escher\n",
    "import cobra.test\n",
    "\n",
    "# ecoli me\n",
    "import ecolime\n",
    "from ecolime.flat_files import *\n",
    "from ecolime.ecoli_k12 import *\n",
    "from ecolime import ribosome, tRNA_charging\n",
    "\n",
    "from minime.util import dogma\n",
    "from minime import *\n",
    "from minime.util import building\n",
    "from minime.util.building import add_ribosome, add_RNA_polymerase\n",
    "from minime.util.building import add_complex_stoichiometry_data, add_transcription_reaction\n",
    "from minime.util.building import add_complex_modification_data\n",
    "from minime.util.building import add_metabolic_reactions\n",
    "from minime.solve.algorithms import binary_search, fva, solve_at_growth_rate\n",
    "from minime.solve.symbolic import compile_expressions"
   ]
  },
  {
   "cell_type": "code",
   "execution_count": null,
   "metadata": {
    "collapsed": true
   },
   "outputs": [],
   "source": [
    "import ecolime"
   ]
  },
  {
   "cell_type": "code",
   "execution_count": null,
   "metadata": {
    "collapsed": false
   },
   "outputs": [],
   "source": [
    "ijo = cobra.test.create_test_model('ecoli')"
   ]
  },
  {
   "cell_type": "markdown",
   "metadata": {},
   "source": [
    "# Colton TODOs \n",
    "- 1) look into all of the free modifications in the original ME and make sure none of thes reactions are blocked\n",
    "- [x] 2) Frameshifts (b2891)\n",
    "- [x] 3) selenocysteine\n",
    "- 4) Non AUG start codons (15%)\n",
    "- 5) moaD is a modifier protein that never has to be made\n",
    "- 6) Correct rpL7/12_mod_1:acetyl modification"
   ]
  },
  {
   "cell_type": "code",
   "execution_count": null,
   "metadata": {
    "collapsed": true
   },
   "outputs": [],
   "source": [
    "from minime.util.mass import compute_RNA_mass"
   ]
  },
  {
   "cell_type": "markdown",
   "metadata": {},
   "source": [
    "## Begin by loading metabolites and build Metabolic reactions"
   ]
  },
  {
   "cell_type": "code",
   "execution_count": null,
   "metadata": {
    "collapsed": false
   },
   "outputs": [],
   "source": [
    "me = MEmodel('iJO1366-ME')\n",
    "m_model = ecolime.get_m_model()\n",
    "# some of the \"metabolites\" in iJO1366 \"M\" model are actually complexes. We pass those in\n",
    "# so they get created as complexes, not metabolites.\n",
    "complex_list = []\n",
    "complex_list.extend(i.id for i in m_model.metabolites if i.id.startswith(\"CPLX\"))\n",
    "complex_list.extend(i.id for i in m_model.metabolites if i.id.startswith(\"EG\"))\n",
    "complex_list.extend(i.id for i in m_model.metabolites if \"-MONOMER\" in i.id)\n",
    "complex_list.extend(i.id for i in m_model.metabolites if \"-CPLX\" in i.id)\n",
    "complex_list.extend(i.id for i in m_model.metabolites if \"_mod_\" in i.id)\n",
    "# temp fix\n",
    "complex_list.extend(i.id for i in m_model.metabolites if i.id.startswith(\"Isc\"))\n",
    "complex_list.extend(i.id for i in m_model.metabolites if i.id.startswith(\"Suf\"))\n",
    "complex_list = set(complex_list)\n",
    "building.add_m_model_content(me, m_model, complex_metabolite_ids=complex_list)\n",
    "\n",
    "# if the bounds of this metabolite aren't open, model uses wrong reactions\n",
    "me.reactions.EX_pqq_e.lower_bound = -1000\n"
   ]
  },
  {
   "cell_type": "code",
   "execution_count": null,
   "metadata": {
    "collapsed": false,
    "scrolled": true
   },
   "outputs": [],
   "source": [
    "essential_list = [\n",
    "    'trdox_c',\n",
    "    'fldox_c',\n",
    "    'LI_c',\n",
    "    'cs_c',\n",
    "    'fldrd_c',\n",
    "    'trdrd_c',\n",
    "    'btn_c',\n",
    "    '3fe4s_c',\n",
    "    'palmitate_c',\n",
    "    'C10H8O5_c', 'C9H9O4_c', # for tRNA modifications\n",
    "    'NiFeCoCN2_c', 'acetyl_c',\n",
    "    'RNase_m5','RNase_m16','RNase_m23'] # RNAses are gaps in model, fix how cs is added to\n",
    "\n",
    "for met_id in essential_list:\n",
    "    r = cobra.Reaction(\"EX_\" + met_id)\n",
    "    me.add_reaction(r)\n",
    "    r.reaction = met_id + \" <=> \""
   ]
  },
  {
   "cell_type": "code",
   "execution_count": null,
   "metadata": {
    "collapsed": false
   },
   "outputs": [],
   "source": [
    "tRNA_mod_dict = get_tRNA_modifications()"
   ]
  },
  {
   "cell_type": "code",
   "execution_count": null,
   "metadata": {
    "collapsed": false
   },
   "outputs": [],
   "source": [
    "for mod, components in ecolime.tRNA_charging.trna_modification.iteritems():\n",
    "    tRNA_mod = ModificationData(mod, me)\n",
    "    tRNA_mod.enzyme = components['machines']\n",
    "    tRNA_mod.stoichiometry = components['metabolites']\n",
    "    if 'carriers' in components.keys():\n",
    "        for carrier, stoich in components['carriers'].items():\n",
    "            if stoich < 0:\n",
    "                tRNA_mod.enzyme += [carrier]\n",
    "            tRNA_mod.stoichiometry[carrier] = stoich"
   ]
  },
  {
   "cell_type": "markdown",
   "metadata": {},
   "source": [
    "## Build ribosome and RNA Polymerase"
   ]
  },
  {
   "cell_type": "markdown",
   "metadata": {},
   "source": [
    "### Add translation-related Subreactions"
   ]
  },
  {
   "cell_type": "code",
   "execution_count": null,
   "metadata": {
    "collapsed": false
   },
   "outputs": [],
   "source": [
    "for subreaction in ribosome.translation_subreactions:\n",
    "    subreaction_data = SubreactionData(subreaction, me)\n",
    "    subreaction_data.enzyme = ribosome.translation_subreactions[subreaction]['enzyme']"
   ]
  },
  {
   "cell_type": "markdown",
   "metadata": {},
   "source": [
    "Selenocysteine and start codons"
   ]
  },
  {
   "cell_type": "code",
   "execution_count": null,
   "metadata": {
    "collapsed": false
   },
   "outputs": [],
   "source": [
    "# TODO contrant type is 'trna efficiency' does this change anything?\n",
    "# 1 machine + 1 atp + 1 aa + 1 h2o --> 1 machine-amp + 1 h + 1 ppi\n",
    "# 1 machine-amp + 1 free tRNA --> 1 machine + 1 amp + 1 charged tRNA\n",
    "subreaction_data = SubreactionData('fmet_addition_at_START', me)\n",
    "subreaction_data.enzyme = 'InfB_mono' # Start codon loader enzyme\n",
    "subreaction_data.stoichiometry = {'h_c': 1, '10fthf_c': -1, 'thf_c':1,\n",
    "                                 'generic_tRNA_START_met__L_c': -1}\n",
    "\n",
    "subreaction_data = SubreactionData('sec_addition_at_UGA', me)\n",
    "subreaction_data.enzyme = 'SelA_deca_mod_10:pydx5p' # Selenocysteine loader enzyme\n",
    "subreaction_data.stoichiometry = {'h_c': 1, 'h2o_c': -1, 'selnp_c':-1, 'pi_c':1,\n",
    "                                 'generic_tRNA_UGA_cys__L_c': -1}\n",
    "\n",
    "# create subreaction for each codon\n",
    "for codon in dogma.codon_table:\n",
    "    if dogma.codon_table[codon] == '*':\n",
    "        stop_codon = codon.replace('T','U')\n",
    "        stop_enzyme = ribosome.translation_stop_dict.get(stop_codon)\n",
    "        me.add_metabolites([Complex(stop_enzyme)])\n",
    "        \n",
    "        subreaction_data = SubreactionData(stop_codon + '_' + stop_enzyme +\n",
    "                                           '_mediated_termination', me)\n",
    "        subreaction_data.enzyme = stop_enzyme\n",
    "        subreaction_data.stoichiometry = {}\n",
    "    else:\n",
    "        full_aa = dogma.amino_acids[dogma.codon_table[codon]]\n",
    "        amino_acid = full_aa.split('_')[0]\n",
    "        subreaction_data = SubreactionData(amino_acid + '_addition_at_' \\\n",
    "                                           + codon.replace('T','U'), me)\n",
    "        tRNA = 'generic_tRNA_' + codon.replace('T','U') + '_' + full_aa\n",
    "        subreaction_data.enzyme = 'generic_Tuf' # Default AA loader enzyme\n",
    "        subreaction_data.stoichiometry = {full_aa: -1, 'atp_c': -1, 'h2o_c': -1,\n",
    "                                          'amp_c': 1, 'h_c': 1, 'ppi_c': 1,\n",
    "                                          tRNA: -1}"
   ]
  },
  {
   "cell_type": "code",
   "execution_count": null,
   "metadata": {
    "collapsed": false
   },
   "outputs": [],
   "source": [
    "gb_filename = join(ecoli_files_dir,'NC_000913.2.gb')                                                                                    \n",
    "TU_df = pandas.read_csv(join(ecoli_files_dir,'TUs_from_ecocyc.txt'), delimiter=\"\\t\", index_col=0)\n",
    "\n",
    "building.build_reactions_from_genbank(me, gb_filename, TU_df, tRNA_modifications=tRNA_mod_dict, verbose=False)"
   ]
  },
  {
   "cell_type": "code",
   "execution_count": null,
   "metadata": {
    "collapsed": false,
    "scrolled": true
   },
   "outputs": [],
   "source": [
    "building.add_ribosome(me, verbose=False)\n",
    "\n",
    "add_RNA_polymerase(me)"
   ]
  },
  {
   "cell_type": "markdown",
   "metadata": {},
   "source": [
    "Make a dummy reactions. Add a dummy protein in as well."
   ]
  },
  {
   "cell_type": "markdown",
   "metadata": {},
   "source": [
    "## Associate the tRNA synthetases"
   ]
  },
  {
   "cell_type": "markdown",
   "metadata": {},
   "source": [
    "The tRNA charging reactions were automatically added when loading the genome from the genbank file. However, the charging reactions still need to be made aware of the tRNA synthetases which are responsible."
   ]
  },
  {
   "cell_type": "code",
   "execution_count": null,
   "metadata": {
    "collapsed": false
   },
   "outputs": [],
   "source": [
    "with open(join(ecoli_files_dir, \"amino_acid_tRNA_synthetase.json\"), \"rb\") as infile:\n",
    "    aa_synthetase_dict = json.load(infile)\n",
    "for data in me.tRNA_data:\n",
    "    data.synthetase = str(aa_synthetase_dict[data.amino_acid])"
   ]
  },
  {
   "cell_type": "markdown",
   "metadata": {},
   "source": [
    "### Add in complex Formation with modifications"
   ]
  },
  {
   "cell_type": "code",
   "execution_count": null,
   "metadata": {
    "collapsed": false
   },
   "outputs": [],
   "source": [
    "# ME_complex_dict is a dict of {'complex_id': [{'bnum' : count}]}\n",
    "rna_components = {\"b3123\"} # component id should have RNA_ instead of protein_\n",
    "ME_complex_dict = get_complex_to_bnum_dict(rna_components)\n",
    "add_complex_stoichiometry_data(me, ME_complex_dict)"
   ]
  },
  {
   "cell_type": "code",
   "execution_count": null,
   "metadata": {
    "collapsed": false
   },
   "outputs": [],
   "source": [
    "modification_dict = get_protein_modification_dict()\n",
    "add_complex_modification_data(me, modification_dict)"
   ]
  },
  {
   "cell_type": "code",
   "execution_count": null,
   "metadata": {
    "collapsed": false
   },
   "outputs": [],
   "source": [
    "# two different reactiond can add a lipoate modification.\n",
    "# We create a separate ModificationData for each one\n",
    "lipo = me.modification_data.get_by_id(\"mod_lipo_c\")\n",
    "alt_lipo = ModificationData(\"mod_lipo_c_alt\", me)\n",
    "#alt_lipo.stoichiometry = lipo.stoichiometry\n",
    "\n",
    "lipo.stoichiometry = {\"lipoamp_c\": -1, \"amp_c\": 1}\n",
    "lipo.enzyme = 'EG11796-MONOMER'\n",
    "lipo.keff = 65.\n",
    "\n",
    "alt_lipo.stoichiometry = {'EG50003-MONOMER_mod_pan4p_mod_lipo':-1,\n",
    "                          'EG50003-MONOMER_mod_pan4p':1,\n",
    "                          'h_c':-1,}\n",
    "alt_lipo.enzyme = 'EG11591-MONOMER'\n",
    "alt_lipo.keff = 65.\n",
    "\n",
    "for cplx_data in lipo.get_complex_data():\n",
    "    alt_cplx_data = ComplexData(cplx_data.id + \"alt\", me)\n",
    "    alt_cplx_data.complex_id = cplx_data.complex_id\n",
    "    alt_cplx_data.translocation = cplx_data.translocation\n",
    "    alt_cplx_data.chaperones = cplx_data.chaperones\n",
    "    alt_cplx_data.modifications = cplx_data.modifications\n",
    "    alt_cplx_data.modifications[alt_lipo.id] = \\\n",
    "        alt_cplx_data.modifications.pop(lipo.id)"
   ]
  },
  {
   "cell_type": "code",
   "execution_count": null,
   "metadata": {
    "collapsed": true
   },
   "outputs": [],
   "source": [
    "# chaperones\n",
    "# todo bmocogdp_c mods\n",
    "# todo FE-S modifications\n",
    "mod_catalysts = {'CPLX0-1762':'G6712-MONOMER', # FE-S modification\n",
    "                 'TMAOREDUCTI-CPLX':'EG12195-MONOMER', #bmocogdp\n",
    "                 'DIMESULFREDUCT-CPLX':'G6849-MONOMER', #bmocogdp\n",
    "                 'NITRATREDUCTA-CPLX':'NARJ-MONOMER', #bmocogdp\n",
    "                 'NITRATREDUCTZ-CPLX':'NARW-MONOMER', #bmocogdp\n",
    "                 'NAP-CPLX':'NAPD-MONOMER', #bmocogdp\n",
    "                 'NAPAB-CPLX_NAPC-MONOMER':'NAPD-MONOMER'} #bmocogdp"
   ]
  },
  {
   "cell_type": "markdown",
   "metadata": {},
   "source": [
    "## TODO NEXT complete Iron-Sulfur cluster modification reactions. Apply rRNA/tRNA fraction constraint "
   ]
  },
  {
   "cell_type": "raw",
   "metadata": {},
   "source": [
    "Read \"The CO and CN− ligands to the active site Fe in [NiFe]-hydrogenase of Escherichia coli have different metabolic origins\" for insight into the metabolic origin of the NiFeCoCN2_c group"
   ]
  },
  {
   "cell_type": "markdown",
   "metadata": {},
   "source": [
    "Build all complex formation reactions"
   ]
  },
  {
   "cell_type": "code",
   "execution_count": null,
   "metadata": {
    "collapsed": false
   },
   "outputs": [],
   "source": [
    "for cplx_data in me.complex_data:\n",
    "    formation = cplx_data.formation\n",
    "    if formation:\n",
    "        formation.update()\n",
    "    else:\n",
    "        cplx_data.create_complex_formation()"
   ]
  },
  {
   "cell_type": "code",
   "execution_count": null,
   "metadata": {
    "collapsed": false
   },
   "outputs": [],
   "source": [
    "building.add_dummy_reactions(me, \"ATG\" + \"TTT\" * 12 + \"TAT\" * 12 + \"ACG\" * 12 + \"GAT\" * 12 + \"AGT\" * 12 + \"TGA\", update=False)"
   ]
  },
  {
   "cell_type": "raw",
   "metadata": {},
   "source": [
    "TODO:\n",
    "5) filter so known erpA dependent ones use that instead"
   ]
  },
  {
   "cell_type": "code",
   "execution_count": null,
   "metadata": {
    "collapsed": false
   },
   "outputs": [],
   "source": [
    "# these guys can transfer assembled iron sulfur clusters to the various enzymes\n",
    "fes_transfer = {\"erpA\": \"CPLX0-7617\", \"iscA\": \"IscA_tetra\", \"sufA\": \"CPLX0-7824\"}\n",
    "\n",
    "suf_cplx = ComplexData(\"sufBC2DES_pathway_complex\", me)\n",
    "suf_cplx.stoichiometry = {\"CPLX0-1341\": 1, \"CPLX0-246_CPLX0-1342_mod_pydx5p\": 1}\n",
    "suf_cplx.create_complex_formation()\n",
    "    \n",
    "isc_cplx = ComplexData(\"iscUS_cyaY_pathway_complex\", me) # could add chaperones into here\n",
    "isc_cplx.stoichiometry = {\"IscU\": 1, \"IscS_mod_2:pydx5p\": 1, \"EG11653-MONOMER\": 1}\n",
    "isc_cplx.create_complex_formation()\n",
    "\n",
    "generic_fes_transfer = GenericData(\"generic_fes_transfer\", me, ['CPLX0-7617', 'CPLX0-7824', 'IscA_tetra'])\n",
    "generic_fes_transfer.create_reactions()\n",
    "\n",
    "#building.add_and_update_metabolic_reaction(me, \"isc_2fe2s_formation\", suf_cplx.id, False, update=True)\n",
    "#building.add_and_update_metabolic_reaction(me, \"suf_2fe2s_formation\", isc_cplx.id, False, update=True)\n",
    "#building.add_and_update_metabolic_reaction(me, \"isc_4fe4s_formation\", suf_cplx.id, False, update=True)\n",
    "#building.add_and_update_metabolic_reaction(me, \"suf_4fe4s_formation\", isc_cplx.id, False, update=True)"
   ]
  },
  {
   "cell_type": "code",
   "execution_count": null,
   "metadata": {
    "collapsed": false
   },
   "outputs": [],
   "source": [
    "me.modification_data.mod_2fe2s_c.enzyme = generic_fes_transfer.id\n",
    "me.modification_data.mod_2fe2s_c.keff = 65.\n",
    "me.modification_data.mod_4fe4s_c.enzyme = generic_fes_transfer.id\n",
    "me.modification_data.mod_4fe4s_c.keff = 65."
   ]
  },
  {
   "cell_type": "markdown",
   "metadata": {},
   "source": [
    "Crutch reactions for mets that are blocked. TODO remove"
   ]
  },
  {
   "cell_type": "markdown",
   "metadata": {},
   "source": [
    "## Associate Complexes with Reactions"
   ]
  },
  {
   "cell_type": "code",
   "execution_count": null,
   "metadata": {
    "collapsed": false,
    "scrolled": true
   },
   "outputs": [],
   "source": [
    "# associate reaction id with the old ME complex id (including modifications)\n",
    "rxnToModCplxDict = get_reaction_to_complex(generic=False)"
   ]
  },
  {
   "cell_type": "code",
   "execution_count": null,
   "metadata": {
    "collapsed": false
   },
   "outputs": [],
   "source": [
    "rxn_info = get_reaction_info_frame()\n",
    "for reaction_data in me.stoichiometric_data:\n",
    "    add_metabolic_reactions(me, reaction_data, rxnToModCplxDict, rxn_info, update=True,\n",
    "                            create_new=True)"
   ]
  },
  {
   "cell_type": "markdown",
   "metadata": {},
   "source": [
    "Sometimes multiple entities can perform the same role. To prevent a combinatorial explosion of possibilities, we can create  \"generic\" version, where any of those entities can fill in."
   ]
  },
  {
   "cell_type": "code",
   "execution_count": null,
   "metadata": {
    "collapsed": false
   },
   "outputs": [],
   "source": [
    "for generic, components in ecoli_k12.generic_dict.items():\n",
    "    GenericData(generic, me, components).create_reactions()"
   ]
  },
  {
   "cell_type": "markdown",
   "metadata": {},
   "source": [
    "Rebuild transcription and translation to use tRNA (now that tRNA synthetase complexes are in the model"
   ]
  },
  {
   "cell_type": "code",
   "execution_count": null,
   "metadata": {
    "collapsed": false,
    "scrolled": true
   },
   "outputs": [],
   "source": [
    "apoACP = me.metabolites.get_by_id('EG50003-MONOMER_mod_pan4p')\n",
    "for reaction in me.metabolites.get_by_id('EG50003-MONOMER_mod_pan4p').reactions:\n",
    "    if apoACP in reaction.reactants:\n",
    "        reaction.complex_dilution_list = {apoACP.id}\n",
    "        reaction.update()"
   ]
  },
  {
   "cell_type": "markdown",
   "metadata": {},
   "source": [
    "## Add in translocation"
   ]
  },
  {
   "cell_type": "code",
   "execution_count": null,
   "metadata": {
    "collapsed": true
   },
   "outputs": [],
   "source": [
    "translocPath = pandas.read_csv(join(ecoli_files_dir, \"translocation_pathways.txt\"),sep='\\t')\n",
    "\n",
    "for index, row in translocPath.iterrows():\n",
    "    translocRxn = ProteinTranslocationData(row.Reaction_name, me)\n",
    "    translocRxn.keff = float(row.Keff)\n",
    "    translocRxn.costs_complexes = row.Complexes.split(' AND ')"
   ]
  },
  {
   "cell_type": "code",
   "execution_count": null,
   "metadata": {
    "collapsed": false
   },
   "outputs": [],
   "source": [
    "proteins_sa_coeff_inner={}\n",
    "\n",
    "transloc = pandas.read_csv(join(ecoli_files_dir, \"peptide_compartment_and_pathways2.txt\"), sep='\\t', comment=\"#\")\n",
    "for index, row in transloc.iterrows():\n",
    "    me.metabolites.get_by_id(row.Complex).compartment = row.Complex_compartment\n",
    "    me.metabolites.get_by_id('protein_'+row.Protein.split('(')[0]).compartment = row.Protein_compartment\n",
    "\n",
    "    if row.translocase_pathway == 's':\n",
    "        me.translocation_pathways.srp_translocation.add_translocation_cost(me,row.Complex,row.Protein)\n",
    "        \n",
    "        ## This is in preparation for membrane constraint\n",
    "        mass = me.translation_data.get_by_id(row.Protein.split('(')[0]).mass\n",
    "        if row.Complex in proteins_sa_coeff_inner.keys():\n",
    "            proteins_sa_coeff_inner[row.Complex]+=mass*1.21/42.*2\n",
    "        else:\n",
    "            proteins_sa_coeff_inner[row.Complex]=mass*1.21/42.*2\n",
    "    elif row.translocase_pathway == 'r':\n",
    "        me.translocation_pathways.srp_translocation.add_translocation_cost(me,row.Complex,row.Protein)       \n",
    "    elif row.translocase_pathway == 'p':\n",
    "        me.translocation_pathways.srp_yidC_translocation.add_translocation_cost(me,row.Complex,row.Protein)         \n",
    "    elif row.translocase_pathway =='t':\n",
    "        me.translocation_pathways.tat_translocation.add_translocation_cost(me,row.Complex,row.Protein)\n",
    "    elif row.translocase_pathway=='a':\n",
    "        me.translocation_pathways.srp_translocation.add_translocation_cost(me,row.Complex,row.Protein)\n",
    "        me.translocation_pathways.secA_translocation.add_translocation_cost(me,row.Complex,row.Protein)\n",
    "    elif row.translocase_pathway =='l':\n",
    "        me.translocation_pathways.lol_translocation.add_translocation_cost(me,row.Complex,row.Protein)\n",
    "    elif row.translocase_pathway =='b':\n",
    "        me.translocation_pathways.bam_translocation.add_translocation_cost(me,row.Complex,row.Protein)\n",
    "    elif row.translocase_pathway =='y':\n",
    "        me.translocation_pathways.yidC_translocation.add_translocation_cost(me,row.Complex,row.Protein)        \n",
    "    elif row.translocase_pathway != 'n':\n",
    "        print row.Complex, row.translocase_pathway        "
   ]
  },
  {
   "cell_type": "markdown",
   "metadata": {},
   "source": [
    "## Make RNA splicing machinery"
   ]
  },
  {
   "cell_type": "code",
   "execution_count": null,
   "metadata": {
    "collapsed": false,
    "scrolled": true
   },
   "outputs": [],
   "source": [
    "#generic_RNase = GenericData(\"generic_RNase\", me,\n",
    "#                            {ecoli_k12.replace_divalent(i) for i in generic_RNase_list})\n",
    "#generic_RNase.create_reactions()\n",
    "\n",
    "rRNA_machinery = ComplexData(\"rRNA_containing_excision_machinery\", me)\n",
    "#rRNA_machinery.stoichiometry = {ecoli_k12.replace_divalent(i): 1 for i in ecoli_k12.rRNA_containing}\n",
    "rRNA_machinery.stoichiometry = {i: 1 for i in ecoli_k12.rRNA_containing}\n",
    "rRNA_machinery.create_complex_formation()\n",
    "rRNA_mod = ModificationData(\"rRNA_containing_excision\", me)\n",
    "rRNA_mod.stoichiometry = {'h2o_c': -1, 'h_c': 1}\n",
    "rRNA_mod.enzyme = rRNA_machinery.id\n",
    "\n",
    "monocistronic_machinery = ComplexData(\"monocistronic_excision_machinery\", me)\n",
    "#monocistronic_machinery.stoichiometry = {ecoli_k12.replace_divalent(i): 1 for i in ecoli_k12.monocistronic}\n",
    "monocistronic_machinery.stoichiometry = {i: 1 for i in ecoli_k12.monocistronic}\n",
    "monocistronic_machinery.create_complex_formation()\n",
    "monocistronic_mod = ModificationData(\"monocistronic_excision\", me)\n",
    "monocistronic_mod.stoichiometry = {'h2o_c': -1, 'h_c': 1}\n",
    "monocistronic_mod.enzyme = monocistronic_machinery.id\n",
    "\n",
    "polycistronic_machinery = ComplexData(\"polycistronic_excision_machinery\", me)\n",
    "#polycistronic_machinery.stoichiometry = {ecoli_k12.replace_divalent(i): 1 for i in ecoli_k12.polycistronic_wout_rRNA}\n",
    "polycistronic_machinery.stoichiometry = {i: 1 for i in ecoli_k12.polycistronic_wout_rRNA}\n",
    "polycistronic_machinery.create_complex_formation()\n",
    "polycistronic_mod = ModificationData(\"polycistronic_excision\", me)\n",
    "polycistronic_mod.stoichiometry = {'h2o_c': -1, 'h_c': 1}\n",
    "polycistronic_mod.enzyme = polycistronic_machinery.id\n",
    "\n",
    "for t in me.transcription_data:\n",
    "    n_excised = sum(t.excised_bases.values())\n",
    "    n_cuts = len(t.RNA_products) * 2\n",
    "    if n_excised == 0 or n_cuts == 0:\n",
    "        continue\n",
    "    RNA_types = list(t.RNA_types)\n",
    "    n_tRNA = RNA_types.count(\"tRNA\")\n",
    "    \n",
    "    if \"rRNA\" in set(RNA_types):\n",
    "        t.modifications[rRNA_mod.id] = n_cuts\n",
    "    elif n_tRNA == 1:\n",
    "        t.modifications[monocistronic_mod.id] = n_cuts\n",
    "    elif n_tRNA > 1:\n",
    "        t.modifications[polycistronic_mod.id] = n_cuts\n",
    "    else:  # only applies to rnpB\n",
    "        t.modifications[monocistronic_mod.id] = n_cuts"
   ]
  },
  {
   "cell_type": "markdown",
   "metadata": {},
   "source": [
    "## Attempt to set keffs"
   ]
  },
  {
   "cell_type": "code",
   "execution_count": null,
   "metadata": {
    "collapsed": false
   },
   "outputs": [],
   "source": [
    "keffs = get_reaction_keffs(me, verbose=True)\n",
    "for reaction_id, keff in keffs.items():\n",
    "    me.reactions.get_by_id(reaction_id).keff = keff"
   ]
  },
  {
   "cell_type": "markdown",
   "metadata": {},
   "source": [
    "## Clean up and update everything"
   ]
  },
  {
   "cell_type": "code",
   "execution_count": null,
   "metadata": {
    "collapsed": false
   },
   "outputs": [],
   "source": [
    "me.update()\n",
    "me.prune()"
   ]
  },
  {
   "cell_type": "markdown",
   "metadata": {},
   "source": [
    "# TODO address these \n",
    "\n",
    "make sure they are actually dead ends"
   ]
  },
  {
   "cell_type": "code",
   "execution_count": null,
   "metadata": {
    "collapsed": false,
    "scrolled": true
   },
   "outputs": [],
   "source": [
    "for metabolites in me.metabolites:\n",
    "    try:\n",
    "        if len(metabolites.reactions) == 1 and len(ijo.metabolites.get_by_id(metabolites.id).reactions) > 1:\n",
    "            print metabolites.id, metabolites.reactions\n",
    "    except:\n",
    "        print metabolites.id"
   ]
  },
  {
   "cell_type": "markdown",
   "metadata": {},
   "source": [
    "Figure out why these are necessary"
   ]
  },
  {
   "cell_type": "code",
   "execution_count": null,
   "metadata": {
    "collapsed": false
   },
   "outputs": [],
   "source": [
    "r = Reaction('DM_preq1_c')\n",
    "me.add_reaction(r)\n",
    "r.reaction = 'preq1_c' + ' <-'\n",
    "\n",
    "r = Reaction('DM_ahcys_c')\n",
    "me.add_reaction(r)\n",
    "r.reaction = 'ahcys_c' + ' ->'\n",
    "\n",
    "r = Reaction('DM_amet_c')\n",
    "me.add_reaction(r)\n",
    "r.reaction = 'amet_c' + ' <-'\n",
    "\n",
    "r = Reaction('DM_dmpp_c')\n",
    "me.add_reaction(r)\n",
    "r.reaction = 'dmpp_c' + ' <-'"
   ]
  },
  {
   "cell_type": "markdown",
   "metadata": {},
   "source": [
    "glycogen_demand = (glycogen_g_per_g)*(1./glycogen_mw)*1000. "
   ]
  },
  {
   "cell_type": "code",
   "execution_count": null,
   "metadata": {
    "collapsed": false,
    "scrolled": true
   },
   "outputs": [],
   "source": [
    "n_genes = len(me.metabolites.query('RNA_b'))\n",
    "print(\"number of genes in the model %d (%.1f%%)\" % (n_genes, n_genes * 100. / 1650))"
   ]
  },
  {
   "cell_type": "markdown",
   "metadata": {},
   "source": [
    "One of these demand metabolites are blocked...."
   ]
  },
  {
   "cell_type": "raw",
   "metadata": {
    "collapsed": false
   },
   "source": [
    "demands = {'murein5px4p_p': 0.01389, 'kdo2lipid4_e': 0.01945, 'pe160_c': 0.01786,\n",
    "           'pe160_p': 0.04594, 'pe161_c': 0.02105, 'pe161_c': 0.05415}\n",
    "for met, stoich in demands.items():\n",
    "    r = Reaction('DM_' + met)\n",
    "    r.add_metabolites({me.metabolites.get_by_id(met): -1})\n",
    "    r.lower_bound = stoich\n",
    "    me.add_reaction(r)"
   ]
  },
  {
   "cell_type": "markdown",
   "metadata": {},
   "source": [
    "## Solve"
   ]
  },
  {
   "cell_type": "code",
   "execution_count": null,
   "metadata": {
    "collapsed": false
   },
   "outputs": [],
   "source": [
    "me.reactions.dummy_reaction_FWD_CPLX_dummy.objective_coefficient = 1."
   ]
  },
  {
   "cell_type": "code",
   "execution_count": null,
   "metadata": {
    "collapsed": false
   },
   "outputs": [],
   "source": [
    "# Turn off reactions that throw off results as in iOL\n",
    "KO_list = ['DHPTDNR','DHPTDNRN', 'SUCASPtpp','SUCFUMtpp', 'SUCMALtpp', 'SUCTARTtpp', \n",
    "           'CAT', 'FHL', 'SPODM', 'SPODMp']\n",
    "for reaction in KO_list:\n",
    "    a = me.reactions.query(reaction + '_')\n",
    "    for rxn in a:\n",
    "        rxn.upper_bound = 0\n",
    "        rxn.lower_bound = 0"
   ]
  },
  {
   "cell_type": "code",
   "execution_count": null,
   "metadata": {
    "collapsed": false
   },
   "outputs": [],
   "source": [
    "me.reactions.EX_glc__D_e.lower_bound = -100"
   ]
  },
  {
   "cell_type": "code",
   "execution_count": null,
   "metadata": {
    "collapsed": false,
    "scrolled": true
   },
   "outputs": [],
   "source": [
    "expressions = compile_expressions(me)"
   ]
  },
  {
   "cell_type": "code",
   "execution_count": null,
   "metadata": {
    "collapsed": false,
    "scrolled": false
   },
   "outputs": [],
   "source": [
    "solve_at_growth_rate(me, .1, compiled_expressions=expressions)"
   ]
  },
  {
   "cell_type": "code",
   "execution_count": null,
   "metadata": {
    "collapsed": false
   },
   "outputs": [],
   "source": [
    "binary_search(me, min_mu=0, max_mu=1.1, mu_accuracy=1e-5,\n",
    "              compiled_expressions=expressions, debug=False, solver = 'gurobi')"
   ]
  }
 ],
 "metadata": {
  "kernelspec": {
   "display_name": "Python 2",
   "language": "python",
   "name": "python2"
  },
  "language_info": {
   "codemirror_mode": {
    "name": "ipython",
    "version": 2
   },
   "file_extension": ".py",
   "mimetype": "text/x-python",
   "name": "python",
   "nbconvert_exporter": "python",
   "pygments_lexer": "ipython2",
   "version": "2.7.6"
  }
 },
 "nbformat": 4,
 "nbformat_minor": 0
}
