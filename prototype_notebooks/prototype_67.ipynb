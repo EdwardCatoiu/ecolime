{
 "cells": [
  {
   "cell_type": "markdown",
   "metadata": {},
   "source": [
    "\n",
    "# Build a basic ME model"
   ]
  },
  {
   "cell_type": "markdown",
   "metadata": {},
   "source": [
    "We will try to build an ME model from the NC_000913.2 Genbank file, the iJO1366 M model, and the complex reconstruction from iJL1650-ME"
   ]
  },
  {
   "cell_type": "code",
   "execution_count": null,
   "metadata": {
    "collapsed": false
   },
   "outputs": [],
   "source": [
    "# python imports\n",
    "import re\n",
    "import json\n",
    "from os.path import join\n",
    "import cPickle\n",
    "import numpy as np\n",
    "import math\n",
    "import itertools\n",
    "\n",
    "# third party imports\\\n",
    "import pandas\n",
    "import escher\n",
    "import cloudpickle\n",
    "\n",
    "# ecoli me\n",
    "import ecolime\n",
    "from ecolime.flat_files import *\n",
    "from ecolime.ecoli_k12 import *\n",
    "from ecolime import (ribosome, tRNA_charging, transcription, translocation, \n",
    "                     chaperones, DNA_replication, translation)\n",
    "from ecolime.characterization.biomass_allocation import get_membrane_composition, get_membrane_protein\n",
    "\n",
    "from cobrame import *\n",
    "from cobrame.util import building, dogma\n",
    "from cobrame.util.mass import compute_RNA_mass\n",
    "from cobrame.solve.algorithms import binary_search, fva, solve_at_growth_rate\n",
    "from cobrame.solve.symbolic import compile_expressions"
   ]
  },
  {
   "cell_type": "markdown",
   "metadata": {},
   "source": [
    "# Create Model Object and populate its global info\n",
    "This includes important parameters that are used to calculate coupling constraints\n",
    "as well as organism-specific information such as peptide processing types"
   ]
  },
  {
   "cell_type": "code",
   "execution_count": null,
   "metadata": {
    "collapsed": false
   },
   "outputs": [],
   "source": [
    "# Define Models\n",
    "ijo = cobra.io.load_json_model('iJO1366.json')\n",
    "me = MEmodel('iJO1366-ME')\n",
    "\n",
    "# \"Translational capacity\" of organism\n",
    "me.global_info['kt'] =  4.5 #(in h-1)scott 2010, RNA-to-protein curve fit\n",
    "me.global_info['r0'] =  0.087 #scott 2010, RNA-to-protein curve fit\n",
    "me.global_info['k_deg'] =  1.0/5. * 60.0  # 1/5 1/min 60 min/h # h-1\n",
    "\n",
    "# Molecular mass of RNA component of ribosome\n",
    "me.global_info['m_rr'] = 1700. # in kDa\n",
    "\n",
    "# Average molecular mass of an amino acid\n",
    "me.global_info['m_aa'] = 109. / 1000. #109. / 1000. # in kDa\n",
    "\n",
    "# Proportion of RNA that is rRNA\n",
    "me.global_info['f_rRNA'] = .86\n",
    "me.global_info['m_nt'] = 324. / 1000. # in kDa\n",
    "me.global_info['f_mRNA'] = .02\n",
    "\n",
    "# tRNA associated global information\n",
    "me.global_info['m_tRNA'] = 25000. / 1000. # in kDA\n",
    "me.global_info['f_tRNA'] = .12\n",
    "\n",
    "me.global_info['RNA_polymerase'] = {'CPLX0-221', 'RNAPE-CPLX', 'CPLX0-222', 'RNAP32-CPLX',\n",
    "                                    'RNAP54-CPLX', 'RNAP70-CPLX', 'RNAPS-CPLX'}\n",
    "\n",
    "#me.global_info['c_ribo'] = me.global_info['m_rr'] / me.global_info['f_rRNA'] / me.global_info['m_aa']\n",
    "#me.global_info['k_RNAP'] = mu * me.global_info['c_ribo']\n",
    "\n",
    "# Translation associated global information\n",
    "me.global_info[\"translation_terminators\"] = translation.translation_stop_dict\n",
    "me.global_info[\"met_start_codons\"] = {\"AUG\", \"GUG\", \"UUG\", \"AUU\", \"CUG\"}\n",
    "me.global_info[\"peptide_processing_subreactions\"] = {\"peptide_deformylase_processing\": 1,\n",
    "                                                     \"peptide_chain_release\": 1,\n",
    "                                                     \"ribosome_recycler\": 1}\n",
    "me.global_info[\"translation_elongation_subreactions\"] = ['FusA_mono_elongation', 'Tuf_gtp_regeneration']\n",
    "me.global_info['translation_start_subreactions'] = ['fmet_addition_at_START']\n",
    "\n",
    "# This may be unnecessary \n",
    "# Transcription associated global information\n",
    "me.global_info[\"transcription_initiation_length\"] = 16  # nucleotides\n",
    "\n",
    "me.global_info['translocation_multipliers'] = defaultdict(dict)\n",
    "for enzyme, value in translocation.multipliers.items():\n",
    "    me.global_info['translocation_multipliers'][enzyme] = value\n",
    "\n",
    "# Folding Properties\n",
    "me.global_info['temperature'] = 37\n",
    "me.global_info['propensity_scaling'] = .45\n",
    "\n",
    "# DNA Replication Parameters\n",
    "me.global_info['GC_fraction'] = 0.507896997096"
   ]
  },
  {
   "cell_type": "markdown",
   "metadata": {},
   "source": [
    "## Begin by loading metabolites and build Metabolic reactions"
   ]
  },
  {
   "cell_type": "code",
   "execution_count": null,
   "metadata": {
    "collapsed": false,
    "scrolled": true
   },
   "outputs": [],
   "source": [
    "m_model = ecolime.get_m_model()\n",
    "# some of the \"metabolites\" in iJO1366 \"M\" model are actually complexes. We pass those in\n",
    "# so they get created as complexes, not metabolites.\n",
    "complex_list = []\n",
    "complex_list.extend(i.id for i in m_model.metabolites if i.id.startswith(\"CPLX\"))\n",
    "complex_list.extend(i.id for i in m_model.metabolites if i.id.startswith(\"EG\"))\n",
    "complex_list.extend(i.id for i in m_model.metabolites if \"-MONOMER\" in i.id)\n",
    "complex_list.extend(i.id for i in m_model.metabolites if \"-CPLX\" in i.id)\n",
    "complex_list.extend(i.id for i in m_model.metabolites if \"_mod_\" in i.id)\n",
    "# temp fix\n",
    "complex_list.extend(i.id for i in m_model.metabolites if i.id.startswith(\"Isc\"))\n",
    "complex_list.extend(i.id for i in m_model.metabolites if i.id.startswith(\"Suf\"))\n",
    "complex_list = set(complex_list)\n",
    "building.add_m_model_content(me, m_model, complex_metabolite_ids=complex_list)\n",
    "\n",
    "# If lower_bound open, model feeds G6P into EDD\n",
    "me.reactions.EX_pqq_e.lower_bound = 0\n",
    "me.reactions.EX_pqq_e.upper_bound = 0"
   ]
  },
  {
   "cell_type": "code",
   "execution_count": null,
   "metadata": {
    "collapsed": false
   },
   "outputs": [],
   "source": [
    "# Used for mass balance checks\n",
    "df = pandas.read_table('../ecolime/modification.txt', names=['mod', 'formula','na'])\n",
    "df = df.drop('na', axis=1).set_index('mod').dropna(how='any')\n",
    "me.global_info['modification_formulas'] = df.T.to_dict()"
   ]
  },
  {
   "cell_type": "code",
   "execution_count": null,
   "metadata": {
    "collapsed": false,
    "scrolled": false
   },
   "outputs": [],
   "source": [
    "essential_list = [\n",
    "    'LI_c',\n",
    "    'cs_e',\n",
    "    'tl_c', # added in old ME but not metioned in supplement tables\n",
    "#    'Oxidized_c',\n",
    "#    'palmitate_c', # TODO FIX. this should not be required\n",
    "    'cu_c', # needed for NDH activity. TODO fix this\n",
    "    'C10H8O5_c', 'C9H9O4_c', # for tRNA modifications\n",
    "    'NiFeCoCN2_c', #'acetyl_c',\n",
    "    'RNase_m5','RNase_m16','RNase_m23'] # RNAses are gaps in model, fix how cs is added to\n",
    "\n",
    "for met_id in essential_list:\n",
    "    r = cobra.Reaction(\"EX_\" + met_id)\n",
    "    me.add_reaction(r)\n",
    "    r.reaction = met_id + \" <=> \""
   ]
  },
  {
   "cell_type": "code",
   "execution_count": null,
   "metadata": {
    "collapsed": false,
    "scrolled": true
   },
   "outputs": [],
   "source": [
    "gb_filename = join(ecoli_files_dir,'NC_000913.2.gb')                                                                                    \n",
    "TU_df = pandas.read_csv(join(ecoli_files_dir,'TUs_from_ecocyc.txt'), delimiter=\"\\t\", index_col=0)\n",
    "\n",
    "building.build_reactions_from_genbank(me, gb_filename, TU_df, verbose=False,\n",
    "                                      frameshift_dict=translation.frameshift_dict,\n",
    "                                     tRNA_to_codon=translation.tRNA_to_codon)"
   ]
  },
  {
   "cell_type": "markdown",
   "metadata": {},
   "source": [
    "### Add tRNA mods to tRNA charging reactions (iOL uses keffs of 65. for all modifications)"
   ]
  },
  {
   "cell_type": "code",
   "execution_count": null,
   "metadata": {
    "collapsed": false
   },
   "outputs": [],
   "source": [
    "for mod, components in get_tRNA_modification_procedures().items():\n",
    "    tRNA_mod = ModificationData(mod, me)\n",
    "    tRNA_mod.enzyme = components['machines']\n",
    "    tRNA_mod.stoichiometry = components['metabolites']\n",
    "    tRNA_mod.keff = 65. # iOL uses 65 for all tRNA mods\n",
    "    if 'carriers' in components.keys():\n",
    "        for carrier, stoich in components['carriers'].items():\n",
    "            if stoich < 0:\n",
    "                tRNA_mod.enzyme += [carrier]\n",
    "            tRNA_mod.stoichiometry[carrier] = stoich\n",
    "            \n",
    "# tRNA_modifications = {tRNA_id: {modifications: count}}\n",
    "tRNA_modifications=get_tRNA_modification_targets()\n",
    "for tRNA in tRNA_modifications:\n",
    "    for data in me.tRNA_data.query(tRNA):\n",
    "        data.modifications = tRNA_modifications[tRNA]"
   ]
  },
  {
   "cell_type": "markdown",
   "metadata": {},
   "source": [
    "## Add translation related subreactions"
   ]
  },
  {
   "cell_type": "code",
   "execution_count": null,
   "metadata": {
    "collapsed": false
   },
   "outputs": [],
   "source": [
    "# add the translation subreaction data objects to model\n",
    "translation.add_translation_subreactions_to_model(me)\n",
    "\n",
    "# add translation subreaction data to reactions\n",
    "methionine_cleaved=translation.methionine_cleaved\n",
    "folding_dict=translation.folding_dict\n",
    "terminator_dict=translation.translation_stop_dict\n",
    "\n",
    "for data in me.translation_data:\n",
    "    data.term_enzyme = terminator_dict.get(\n",
    "            data.last_codon)\n",
    "    \n",
    "    locus_id = data.id\n",
    "    if locus_id in methionine_cleaved:\n",
    "        data.subreactions['N_terminal_methionine_cleavage'] = 1\n",
    "\n",
    "    for folding_type in folding_dict:\n",
    "        if locus_id in folding_dict[folding_type]:\n",
    "            data.subreactions[folding_type] = 1\n",
    "\n",
    "    for subreaction, value in data.elongation_subreactions.items():\n",
    "        data.subreactions[subreaction] = value\n",
    "\n",
    "    for subreaction in data.translation_start_subreactions:\n",
    "        data.subreactions[subreaction] = 1\n",
    "\n",
    "    for subreaction in data.translation_termination_subreactions:\n",
    "        data.subreactions[subreaction] = 1\n",
    "\n",
    "    # add organism specific subreactions associated with peptide processing\n",
    "    global_info = me.global_info\n",
    "    for subrxn, value in global_info['peptide_processing_subreactions'].items():\n",
    "        data.subreactions[subrxn] = value"
   ]
  },
  {
   "cell_type": "code",
   "execution_count": null,
   "metadata": {
    "collapsed": false
   },
   "outputs": [],
   "source": [
    "# Changed verbose=False to squash complex creation output\n",
    "ribosome.add_ribosome(me, verbose=False)"
   ]
  },
  {
   "cell_type": "markdown",
   "metadata": {},
   "source": [
    "## Add transcription related subreactions"
   ]
  },
  {
   "cell_type": "code",
   "execution_count": null,
   "metadata": {
    "collapsed": false
   },
   "outputs": [],
   "source": [
    "for met in me.global_info['RNA_polymerase']:\n",
    "    RNAP_obj = RNAP(met)\n",
    "    me.add_metabolites(RNAP_obj)"
   ]
  },
  {
   "cell_type": "code",
   "execution_count": null,
   "metadata": {
    "collapsed": false
   },
   "outputs": [],
   "source": [
    "for subreaction in transcription.transcription_subreactions:\n",
    "    subreaction_data = SubreactionData(subreaction, me)\n",
    "    enzymes = transcription.transcription_subreactions[subreaction]['enzymes']\n",
    "    subreaction_data.stoichiometry = transcription.transcription_subreactions[subreaction]['stoich']\n",
    "    subreaction_data.enzyme = enzymes"
   ]
  },
  {
   "cell_type": "code",
   "execution_count": null,
   "metadata": {
    "collapsed": false
   },
   "outputs": [],
   "source": [
    "data = ComplexData('RNA_degradosome', me)\n",
    "for subunit, value in ecoli_k12.RNA_degradosome.items():\n",
    "    data.stoichiometry[subunit] = value\n",
    "data.create_complex_formation(verbose=False)\n",
    "\n",
    "data = ModificationData('RNA_degradation_machine', me)\n",
    "data.enzyme = 'RNA_degradosome'\n",
    "\n",
    "data = ModificationData('RNA_degradation_atp_requirement', me)\n",
    "# .25 water equivaltent for atp hydrolysis and 1 h20 equivalent for to \n",
    "# restore OH group in nucleotide monophosphate during RNA hydrolysis\n",
    "data.stoichiometry = {'atp_c': -.25, 'h2o_c': -1.25, 'adp_c': .25,\n",
    "                      'pi_c': .25, 'h_c': 1.25}"
   ]
  },
  {
   "cell_type": "code",
   "execution_count": null,
   "metadata": {
    "collapsed": false
   },
   "outputs": [],
   "source": [
    "for subreaction in me.subreaction_data:\n",
    "    if type(subreaction.enzyme) == list:\n",
    "        for enzyme in subreaction.enzyme:\n",
    "            enzyme_met = Complex(enzyme)\n",
    "            me.add_metabolites([enzyme_met])\n",
    "    elif type(subreaction.enzyme) == str:\n",
    "        enzyme_met = Complex(subreaction.enzyme)\n",
    "        me.add_metabolites([enzyme_met])"
   ]
  },
  {
   "cell_type": "markdown",
   "metadata": {},
   "source": [
    "## Add transcription"
   ]
  },
  {
   "cell_type": "code",
   "execution_count": null,
   "metadata": {
    "collapsed": false
   },
   "outputs": [],
   "source": [
    "sigma_to_RNAP_dict = transcription.sigma_factor_complex_to_rna_polymerase_dict\n",
    "# Moved from buidling to make that function organism unspecific\n",
    "for TU_id in TU_df.index:\n",
    "    transcription_data = me.transcription_data.get_by_id(TU_id)\n",
    "    rho_dependent = TU_df.rho_dependent[TU_id]\n",
    "    sigma = TU_df.sigma[TU_id]\n",
    "    RNA_polymerase = sigma_to_RNAP_dict[sigma]\n",
    "    transcription_data.RNA_polymerase = RNA_polymerase\n",
    "    transcription_data.rho_dependent = rho_dependent"
   ]
  },
  {
   "cell_type": "markdown",
   "metadata": {},
   "source": [
    "### Make RNA splicing machinery reactions"
   ]
  },
  {
   "cell_type": "code",
   "execution_count": null,
   "metadata": {
    "collapsed": false
   },
   "outputs": [],
   "source": [
    "ecolime.transcription.add_RNA_splicing(me)\n",
    "transcription.add_RNA_polymerase_complexes(me, verbose=False)\n",
    "# moved from building (E. coli specific)\n",
    "# add transcription machinery based on contained RNA types\n",
    "# info added in buidling however\n",
    "for transcription_data in me.transcription_data:\n",
    "    if transcription_data.rho_dependent:\n",
    "        rho = 'dependent'\n",
    "    else:\n",
    "        rho = 'independent'\n",
    "    if transcription_data.codes_stable_rna:\n",
    "        stable = 'stable'\n",
    "    else:\n",
    "        stable = 'normal'\n",
    "\n",
    "    transcription_data.subreactions['Transcription_%s_rho_%s' % (stable,\n",
    "                                                                 rho)] = 1"
   ]
  },
  {
   "cell_type": "markdown",
   "metadata": {},
   "source": [
    "## Associate the tRNA synthetases"
   ]
  },
  {
   "cell_type": "markdown",
   "metadata": {},
   "source": [
    "The tRNA charging reactions were automatically added when loading the genome from the genbank file. However, the charging reactions still need to be made aware of the tRNA synthetases which are responsible."
   ]
  },
  {
   "cell_type": "code",
   "execution_count": null,
   "metadata": {
    "collapsed": false
   },
   "outputs": [],
   "source": [
    "with open(join(ecoli_files_dir, \"amino_acid_tRNA_synthetase.json\"), \"rb\") as infile:\n",
    "    aa_synthetase_dict = json.load(infile)\n",
    "for data in me.tRNA_data:\n",
    "    data.synthetase = str(aa_synthetase_dict[data.amino_acid])"
   ]
  },
  {
   "cell_type": "markdown",
   "metadata": {},
   "source": [
    "## Add in complex Formation with modifications"
   ]
  },
  {
   "cell_type": "code",
   "execution_count": null,
   "metadata": {
    "collapsed": false
   },
   "outputs": [],
   "source": [
    "# ME_complex_dict is a dict of {'complex_id': [{'bnum' : count}]}\n",
    "rna_components = {\"b3123\"} # component id should have RNA_ instead of protein_\n",
    "complex_stoichiometry_dict, complex_modification_dict = get_complex_composition(rna_components)\n",
    "building.add_model_complexes(me, complex_stoichiometry_dict, complex_modification_dict)"
   ]
  },
  {
   "cell_type": "code",
   "execution_count": null,
   "metadata": {
    "collapsed": false
   },
   "outputs": [],
   "source": [
    "# two different reactions can add a lipoate modification.\n",
    "# We create a separate ModificationData for each one\n",
    "lipo = me.modification_data.get_by_id(\"mod_lipo_c\")\n",
    "alt_lipo = ModificationData(\"mod_lipo_c_alt\", me)\n",
    "#alt_lipo.stoichiometry = lipo.stoichiometry\n",
    "\n",
    "lipo.stoichiometry = {\"lipoamp_c\": -1, \"amp_c\": 1}\n",
    "lipo.enzyme = 'EG11796-MONOMER'\n",
    "lipo.keff = 65.\n",
    "\n",
    "alt_lipo.stoichiometry = {'EG50003-MONOMER_mod_pan4p_mod_lipo':-1,\n",
    "                          'EG50003-MONOMER_mod_pan4p':1,\n",
    "                          'h_c':-1,}\n",
    "alt_lipo.enzyme = 'EG11591-MONOMER'\n",
    "alt_lipo.keff = 65.\n",
    "\n",
    "for cplx_data in lipo.get_complex_data():\n",
    "    alt_cplx_data = ComplexData(cplx_data.id + \"alt\", me)\n",
    "    alt_cplx_data.complex_id = cplx_data.complex_id\n",
    "    alt_cplx_data.stoichiometry = cplx_data.stoichiometry\n",
    "    alt_cplx_data.chaperones = cplx_data.chaperones\n",
    "    alt_cplx_data.modifications = cplx_data.modifications.copy()\n",
    "    alt_cplx_data.modifications[alt_lipo.id] = \\\n",
    "        alt_cplx_data.modifications.pop(lipo.id)"
   ]
  },
  {
   "cell_type": "code",
   "execution_count": null,
   "metadata": {
    "collapsed": false
   },
   "outputs": [],
   "source": [
    "# chaperones          \n",
    "bmocogdp_chaperones = {'TMAOREDUCTI-CPLX':'EG12195-MONOMER', #bmocogdp\n",
    "                 'DIMESULFREDUCT-CPLX':'G6849-MONOMER', #bmocogdp\n",
    "                 'NITRATREDUCTA-CPLX':'NARJ-MONOMER', #bmocogdp\n",
    "                 'NITRATREDUCTZ-CPLX':'NARW-MONOMER', #bmocogdp\n",
    "                 'NAP-CPLX':'NAPD-MONOMER', #bmocogdp\n",
    "                 'NAPAB-CPLX_NAPC-MONOMER':'NAPD-MONOMER'} #bmocogdp\n",
    "for chaperone in set(bmocogdp_chaperones.values()):\n",
    "    new_mod = ModificationData('mod_bmocogdp_c_' + chaperone, me)\n",
    "    new_mod.enzyme = chaperone\n",
    "    new_mod.stoichiometry = {'bmocogdp_c': -1}\n",
    "\n",
    "for cplx_data in me.modification_data.get_by_id('mod_bmocogdp_c').get_complex_data():\n",
    "    cplx_id = cplx_data.id.split('_mod')[0]\n",
    "    if cplx_id in bmocogdp_chaperones:\n",
    "        cplx_data.modifications['mod_bmocogdp_c_' + bmocogdp_chaperones[cplx_id]] = \\\n",
    "            cplx_data.modifications.pop('mod_bmocogdp_c')"
   ]
  },
  {
   "cell_type": "markdown",
   "metadata": {},
   "source": [
    " - Read \"The CO and CN− ligands to the active site Fe in [NiFe]-hydrogenase of Escherichia coli have different metabolic origins\" for insight into the metabolic origin of the NiFeCoCN2_c group"
   ]
  },
  {
   "cell_type": "code",
   "execution_count": null,
   "metadata": {
    "collapsed": false
   },
   "outputs": [],
   "source": [
    "# these guys can transfer assembled iron sulfur clusters to the various enzymes\n",
    "fes_transfer = {\"erpA\": \"CPLX0-7617\", \"iscA\": \"IscA_tetra\", \"sufA\": \"CPLX0-7824\"}\n",
    "\n",
    "suf_cplx = ComplexData(\"sufBC2DES_pathway_complex\", me)\n",
    "suf_cplx.stoichiometry = {\"CPLX0-1341\": 1, \"CPLX0-246_CPLX0-1342_mod_pydx5p\": 1}\n",
    "suf_cplx.create_complex_formation()\n",
    "    \n",
    "isc_cplx = ComplexData(\"iscUS_cyaY_pathway_complex\", me) # could add chaperones into here\n",
    "isc_cplx.stoichiometry = {\"IscU\": 1, \"IscS_mod_2:pydx5p\": 1, \"EG11653-MONOMER\": 1}\n",
    "isc_cplx.create_complex_formation()\n",
    "\n",
    "for i in ['CPLX0-7617', 'CPLX0-7824', 'IscA_tetra']:\n",
    "    me.add_metabolites([Complex(i)])\n",
    "\n",
    "generic_fes_transfer = GenericData(\"generic_fes_transfer\", me, ['CPLX0-7617', 'CPLX0-7824', 'IscA_tetra'])\n",
    "generic_fes_transfer.create_reactions()"
   ]
  },
  {
   "cell_type": "code",
   "execution_count": null,
   "metadata": {
    "collapsed": false
   },
   "outputs": [],
   "source": [
    "me.modification_data.mod_2fe2s_c.enzyme = generic_fes_transfer.id\n",
    "me.modification_data.mod_2fe2s_c.keff = 65.\n",
    "me.modification_data.mod_4fe4s_c.enzyme = generic_fes_transfer.id\n",
    "me.modification_data.mod_4fe4s_c.keff = 65."
   ]
  },
  {
   "cell_type": "code",
   "execution_count": null,
   "metadata": {
    "collapsed": true
   },
   "outputs": [],
   "source": [
    "# Add known specific chaperone\n",
    "fes_chaperones = {'CPLX0-1762':'G6712-MONOMER'} # FE-S modification\n",
    "for chaperone in set(fes_chaperones.values()):\n",
    "    new_mod = ModificationData('mod_2fe2s_c_' + chaperone, me)\n",
    "    new_mod.enzyme = chaperone\n",
    "    new_mod.stoichiometry = {'2fe2s_c': -1}\n",
    "for cplx_data in me.modification_data.get_by_id('mod_2fe2s_c').get_complex_data():\n",
    "    cplx_id = cplx_data.id.split('_mod')[0]\n",
    "    if cplx_id in fes_chaperones:\n",
    "        cplx_data.modifications['mod_2fe2s_c_' + fes_chaperones[cplx_id]] = \\\n",
    "            cplx_data.modifications.pop('mod_2fe2s_c')"
   ]
  },
  {
   "cell_type": "markdown",
   "metadata": {},
   "source": [
    "##Build all complex formation reactions"
   ]
  },
  {
   "cell_type": "code",
   "execution_count": null,
   "metadata": {
    "collapsed": false
   },
   "outputs": [],
   "source": [
    "for cplx_data in me.complex_data:\n",
    "    formation = cplx_data.formation\n",
    "    if formation:\n",
    "        formation.update()\n",
    "    else:\n",
    "        cplx_data.create_complex_formation()"
   ]
  },
  {
   "cell_type": "markdown",
   "metadata": {},
   "source": [
    "## Add dummy reaction to model and unmodeled_protein_fraction\n",
    " - Includes the transcription, translation, complex_formation, and metabolic reaction"
   ]
  },
  {
   "cell_type": "code",
   "execution_count": null,
   "metadata": {
    "collapsed": false
   },
   "outputs": [],
   "source": [
    "codons = pandas.read_csv(join(ecoli_files_dir, \"codon_usage.csv\"), index_col=0)"
   ]
  },
  {
   "cell_type": "code",
   "execution_count": null,
   "metadata": {
    "collapsed": false
   },
   "outputs": [],
   "source": [
    "seq = \"ATG\"\n",
    "for codon, row in codons.iterrows():\n",
    "    if row.amino_acid == \"Stop\":\n",
    "        continue\n",
    "    seq += codon * int(row.per_1000 // 3)  # want roughly 300 aa\n",
    "# get the most used stop codon\n",
    "seq += codons[codons.amino_acid == \"Stop\"].sort_values(\"per_1000\").index[-1]\n",
    "building.add_dummy_reactions(me, seq, update=True)\n",
    "\n",
    "rxn = SummaryVariable('dummy_protein_to_mass')\n",
    "me.add_reaction(rxn)\n",
    "me.add_metabolites([Constraint('dummy_protein_biomass')])\n",
    "mass = me.metabolites.protein_dummy.mass\n",
    "rxn.add_metabolites({'protein_biomass': -mass, 'protein_dummy': -1,\n",
    "                     'dummy_protein_biomass': mass})"
   ]
  },
  {
   "cell_type": "markdown",
   "metadata": {},
   "source": [
    "## Associate Complexes with Reactions"
   ]
  },
  {
   "cell_type": "code",
   "execution_count": null,
   "metadata": {
    "collapsed": false
   },
   "outputs": [],
   "source": [
    "# associate reaction id with the old ME complex id (including modifications)\n",
    "rxn_to_cplx_dict = get_reaction_to_complex()\n",
    "rxn_info = get_reaction_info_frame()\n",
    "building.add_reactions_from_stoichiometric_data(me, rxn_to_cplx_dict, rxn_info, update=True)"
   ]
  },
  {
   "cell_type": "markdown",
   "metadata": {},
   "source": [
    "Sometimes multiple entities can perform the same role. To prevent a combinatorial explosion of possibilities, we can create  \"generic\" version, where any of those entities can fill in."
   ]
  },
  {
   "cell_type": "code",
   "execution_count": null,
   "metadata": {
    "collapsed": false
   },
   "outputs": [],
   "source": [
    "for generic, components in ecoli_k12.generic_dict.items():\n",
    "    GenericData(generic, me, components).create_reactions()"
   ]
  },
  {
   "cell_type": "code",
   "execution_count": null,
   "metadata": {
    "collapsed": false,
    "scrolled": true
   },
   "outputs": [],
   "source": [
    "apoACP = me.metabolites.get_by_id('EG50003-MONOMER_mod_pan4p')\n",
    "for reaction in me.metabolites.get_by_id('EG50003-MONOMER_mod_pan4p').reactions:\n",
    "    if apoACP in reaction.reactants:\n",
    "        reaction.complex_dilution_set = {apoACP.id}\n",
    "        reaction.update()\n",
    "me.reactions.acp_lipoate_synthase_FWD_SPONT.complex_dilution_set = {'CPLX0-782_mod_2:4fe4s'}\n",
    "me.reactions.MOADSUx1_FWD_CPLX_dummy.complex_dilution_set = {'EG11597-MONOMER_mod_amp'}"
   ]
  },
  {
   "cell_type": "markdown",
   "metadata": {},
   "source": [
    "## Add in translocation"
   ]
  },
  {
   "cell_type": "code",
   "execution_count": null,
   "metadata": {
    "collapsed": true
   },
   "outputs": [],
   "source": [
    "for pathway, info in translocation.pathway.items():\n",
    "    if 'alt' not in pathway:\n",
    "        transloc_data = TranslocationData(pathway + '_translocation', me)\n",
    "    else:\n",
    "        transloc_data = TranslocationData(pathway.replace('_alt', '_translocation_alt'), me)\n",
    "    transloc_data.enzyme_dict = info['enzymes']\n",
    "    transloc_data.keff = info['keff']\n",
    "    transloc_data.length_dependent_energy = info['length_dependent_energy']\n",
    "    transloc_data.stoichiometry = info['stoichiometry']"
   ]
  },
  {
   "cell_type": "code",
   "execution_count": null,
   "metadata": {
    "collapsed": false
   },
   "outputs": [],
   "source": [
    "transloc = pandas.read_csv(join(ecoli_files_dir, \"peptide_compartment_and_pathways2.txt\"), sep='\\t', comment=\"#\")\n",
    "translocation.add_translocation_pathways(me, transloc, membrane_constraints = False)"
   ]
  },
  {
   "cell_type": "code",
   "execution_count": null,
   "metadata": {
    "collapsed": true
   },
   "outputs": [],
   "source": [
    "# Update stoichiometry of membrane complexes\n",
    "# new_stoich = {complex_id: protein_w_compartment}\n",
    "new_stoich = defaultdict(dict)\n",
    "for cplx, row in transloc.set_index('Complex').iterrows():\n",
    "    protein = row.Protein.split('(')[0] + '_' + row.Protein_compartment\n",
    "    value = row.Protein.split('(')[1][:-1].split(':')[0]\n",
    "    new_stoich[cplx]['protein_' + protein] = float(value)"
   ]
  },
  {
   "cell_type": "code",
   "execution_count": null,
   "metadata": {
    "collapsed": false
   },
   "outputs": [],
   "source": [
    "for cplx, stoich in new_stoich.items():\n",
    "    complex_data = me.complex_data.get_by_id(cplx)\n",
    "    for met, value in stoich.items():\n",
    "        complex_data.stoichiometry.pop(met[0:13])\n",
    "        complex_data.stoichiometry[met] = value\n",
    "        complex_data.formation.update()\n",
    "    # Complex ids in protein compartment file doesn't include mods\n",
    "    # Some have multiple alternative modifications so must loop through these\n",
    "    for complex_data in me.complex_data.query(cplx + '_mod_'):\n",
    "        for met, value in stoich.items():\n",
    "            complex_data.stoichiometry.pop(met[0:13])\n",
    "            complex_data.stoichiometry[met] = value\n",
    "            complex_data.formation.update()"
   ]
  },
  {
   "cell_type": "markdown",
   "metadata": {},
   "source": [
    "## Add lipoprotein formation"
   ]
  },
  {
   "cell_type": "code",
   "execution_count": null,
   "metadata": {
    "collapsed": false
   },
   "outputs": [],
   "source": [
    "compartment_dict = {}\n",
    "for prot, compartment in transloc.set_index('Protein').Protein_compartment.to_dict().items():\n",
    "    compartment_dict[prot.split('(')[0]] = compartment"
   ]
  },
  {
   "cell_type": "markdown",
   "metadata": {},
   "source": [
    "#### Add lipid modification ModificationData"
   ]
  },
  {
   "cell_type": "code",
   "execution_count": null,
   "metadata": {
    "collapsed": false
   },
   "outputs": [],
   "source": [
    "lipid_modifications = translocation.lipid_modifications\n",
    "\n",
    "for lipid in lipid_modifications:\n",
    "    data = ModificationData('mod_' + lipid, me)\n",
    "    data.stoichiometry = {lipid: -1, 'g3p_c': 1}\n",
    "    data.enzyme = ['Lgt_MONOMER', 'LspA_MONOMER']\n",
    "\n",
    "data = ModificationData('mod2_pg160_p', me)\n",
    "data.stoichiometry = {'pg160_p': -1, '2agpg160_p': 1}\n",
    "data.enzyme = 'EG10168-MONOMER'\n",
    "\n",
    "data = ModificationData('mod2_pe160_p', me)\n",
    "data.stoichiometry = {'pe160_p': -1, '2agpe160_p': 1}\n",
    "data.enzyme = 'EG10168-MONOMER'\n",
    "    \n",
    "translocation.add_lipoprotein_formation(me, compartment_dict, membrane_constraints=False)"
   ]
  },
  {
   "cell_type": "markdown",
   "metadata": {},
   "source": [
    "#### Correct complex formation IDs if they contain lipoproteins"
   ]
  },
  {
   "cell_type": "code",
   "execution_count": null,
   "metadata": {
    "collapsed": false
   },
   "outputs": [],
   "source": [
    "for gene in translocation.lipoprotein_precursors.values():\n",
    "    compartment = compartment_dict.get(gene)\n",
    "    for rxn in me.metabolites.get_by_id('protein_' + gene + '_' + compartment).reactions:\n",
    "        if isinstance(rxn, ComplexFormation):\n",
    "            data = me.complex_data.get_by_id(rxn.complex_data_id)\n",
    "            value = data.stoichiometry.pop('protein_' + gene + '_' + compartment)\n",
    "            data.stoichiometry['protein_' + gene + '_lipoprotein' + '_' + compartment] = value\n",
    "            rxn.update()"
   ]
  },
  {
   "cell_type": "markdown",
   "metadata": {},
   "source": [
    "## Add Biomass Component Demands"
   ]
  },
  {
   "cell_type": "code",
   "execution_count": null,
   "metadata": {
    "collapsed": false
   },
   "outputs": [],
   "source": [
    "rxn = SummaryVariable('core_structural_demand_brauns')\n",
    "met = Constraint('component_demand_biomass')\n",
    "me.add_metabolites([met])\n",
    "met1 = me.metabolites.get_by_id('murein5px4p_p')\n",
    "met1_mass = met1.formula_weight / 1000.\n",
    "met2 = me.metabolites.get_by_id('protein_b1677_lipoprotein_Outer_Membrane')\n",
    "met2_mass = met2.formula_weight / 1000.\n",
    "me.add_reaction(rxn)\n",
    "rxn.add_metabolites({met1 : -0.013894, met2: -0.003597, 'component_demand_biomass':(0.013894 * met1_mass + \n",
    "                                                                                    0.003597 * met2_mass)},\n",
    "                    combine=False)\n",
    "rxn.lower_bound = mu\n",
    "rxn.upper_bound = mu"
   ]
  },
  {
   "cell_type": "code",
   "execution_count": null,
   "metadata": {
    "collapsed": false
   },
   "outputs": [],
   "source": [
    "# Demand for lipid components\n",
    "lipid_components = {}\n",
    "requirement = 0.01945  # in mmol/gDW\n",
    "met = me.metabolites.get_by_id('kdo2lipid4_e')\n",
    "component_mass = met.formula_weight / 1000.\n",
    "rxn = MetabolicReaction('Demand_' + met.id)\n",
    "me.add_reaction(rxn)\n",
    "\n",
    "data = StoichiometricData(rxn.id,me)\n",
    "data.stoichiometry.update({met.id : -1.*requirement,\n",
    "                           'component_demand_biomass': component_mass * requirement})\n",
    "data.lower_bound = mu\n",
    "data.upper_bound = mu\n",
    "rxn.stoichiometric_data = data\n",
    "rxn.update()"
   ]
  },
  {
   "cell_type": "markdown",
   "metadata": {},
   "source": [
    "## Add lipid demands"
   ]
  },
  {
   "cell_type": "code",
   "execution_count": null,
   "metadata": {
    "collapsed": false
   },
   "outputs": [],
   "source": [
    "lipid = re.compile('(\\d\\d\\d)(_)(.)')\n",
    "lipid_demand = {}\n",
    "for key, value in ijo.reactions.Ec_biomass_iJO1366_WT_53p95M.metabolites.items():\n",
    "    if lipid.search(key.id):\n",
    "        lipid_demand[key.id] = abs(value)\n",
    "                \n",
    "for met, requirement in lipid_demand.items():\n",
    "    component_mass = me.metabolites.get_by_id(met).formula_weight / 1000.\n",
    "    rxn = Reaction('Demand_' + met)\n",
    "    me.add_reaction(rxn)\n",
    "    rxn.add_metabolites({met: -1 * requirement,\n",
    "                         'component_demand_biomass': component_mass * requirement})\n",
    "    rxn.lower_bound = requirement\n",
    "    rxn.upper_bound = 1000.\n",
    "    \n"
   ]
  },
  {
   "cell_type": "markdown",
   "metadata": {},
   "source": [
    "### Incorporate necessary biomass constituents"
   ]
  },
  {
   "cell_type": "code",
   "execution_count": null,
   "metadata": {
    "collapsed": false
   },
   "outputs": [],
   "source": [
    "# There are leftover components from the iJO biomass equation that either \n",
    "# 1) have no mechanistic function in the model (glycogen)\n",
    "# 2) are cofactors that are regenerated (nad)\n",
    "biomass_components = {\n",
    "    \"glycogen_c\": -.023 / (me.metabolites.glycogen_c.formula_weight / 1000.),\n",
    "    \"2ohph_c\": -0.000223,\n",
    "    \"nad_c\": -.001831,\n",
    "    \"udcpdp_c\": -5.5e-05,\n",
    "    \"coa_c\": -0.000576,\n",
    "    \"ribflv_c\": -0.000223,\n",
    "    \"fad_c\": -0.000223,\n",
    "    \"mlthf_c\": -0.000223,\n",
    "    \"thf_c\": -0.000223,\n",
    "    \"10fthf_c\": -0.000223\n",
    "}\n",
    "\n",
    "\n",
    "rxn = SummaryVariable('biomass_component_demand')\n",
    "met = Constraint('component_demand_biomass')\n",
    "me.add_reaction(rxn)\n",
    "rxn.add_metabolites(biomass_components)\n",
    "component_mass = sum(me.metabolites.get_by_id(c).formula_weight / 1000. * -v\n",
    "                     for c, v in biomass_components.items())\n",
    "rxn.lower_bound = mu\n",
    "rxn.upper_bound = mu\n",
    "me.reactions.biomass_component_demand.add_metabolites({met: component_mass})\n",
    "\n",
    "rxn = SummaryVariable('biomass_component_dilution')\n",
    "me.add_reaction(rxn)\n",
    "rxn.add_metabolites({met: -1, me._biomass: 1})"
   ]
  },
  {
   "cell_type": "markdown",
   "metadata": {},
   "source": [
    "## DNA replication"
   ]
  },
  {
   "cell_type": "code",
   "execution_count": null,
   "metadata": {
    "collapsed": false
   },
   "outputs": [],
   "source": [
    "dna_demand_stoich = DNA_replication.return_gr_dependent_dna_demand(me.global_info['GC_fraction'])\n",
    "\n",
    "data = ComplexData('DNA_polymerase', me)\n",
    "stoichiometry = DNA_replication.DNA_polymerase_stoichiometry\n",
    "data.stoichiometry = {\"protein_\" + bnum: value for bnum, value in stoichiometry.items()}\n",
    "data.create_complex_formation(verbose=False)\n",
    "\n",
    "DNA_replication = SummaryVariable(\"DNA_replication\")\n",
    "me.add_reaction(DNA_replication)\n",
    "DNA_replication.add_metabolites(dna_demand_stoich)\n",
    "DNA_biomass = Constraint(\"DNA_biomass\")\n",
    "DNA_biomass.elements = {e: abs(v) for e, v in DNA_replication.check_mass_balance().items()}\n",
    "\n",
    "dna_mw = 0\n",
    "for met, value in me.reactions.DNA_replication.metabolites.items():\n",
    "    if met.id != 'ppi_c':\n",
    "        dna_mw -= value*util.mass.dna_mw_no_ppi[met.id.replace('_c','')] / 1000.\n",
    "        \n",
    "DNA_replication.add_metabolites({DNA_biomass: dna_mw})\n",
    "DNA_replication.lower_bound = mu\n",
    "DNA_replication.upper_bound = mu\n",
    "\n",
    "# Comment out DNA_polymerase for now\n",
    "\n",
    "#DNA_replication.add_metabolites({'DNA_polymerase': -1e-4})\n",
    "me._DNA_biomass_dilution.lower_bound =0\n",
    "me._DNA_biomass_dilution.upper_bound = 1000"
   ]
  },
  {
   "cell_type": "markdown",
   "metadata": {},
   "source": [
    "## Attempt to set keffs"
   ]
  },
  {
   "cell_type": "raw",
   "metadata": {
    "collapsed": false
   },
   "source": [
    "# Set keffs to sasa fluxes centered around 65.\n",
    "me.set_SASA_keffs(65)"
   ]
  },
  {
   "cell_type": "code",
   "execution_count": null,
   "metadata": {
    "collapsed": false
   },
   "outputs": [],
   "source": [
    "keff_list = []\n",
    "keffs = get_reaction_keffs(me, verbose=True)\n",
    "for reaction_id, keff in keffs.items():\n",
    "    if keff > 3000:\n",
    "        keff = 3000.\n",
    "    elif keff < .01:\n",
    "        keff = .01\n",
    "    keff_list.append(keff)\n",
    "    me.reactions.get_by_id(reaction_id).keff = keff\n",
    "    me.reactions.get_by_id(reaction_id).update()"
   ]
  },
  {
   "cell_type": "code",
   "execution_count": null,
   "metadata": {
    "collapsed": true
   },
   "outputs": [],
   "source": [
    "# Keffs that were not set in the above cell\n",
    "me.subreaction_data.N_terminal_methionine_cleavage.keff = 1339.4233102860871\n",
    "me.subreaction_data.peptide_deformylase_processing.keff = 1019.5963333345715\n",
    "me.reactions.get_by_id('GLUTRR_FWD_CPLX0-3741').keff = 3000 # 3269.0108007383374\n",
    "me.subreaction_data.fmet_addition_at_START.keff = 1540.4356849968603\n",
    "me.subreaction_data.ribosome_recycler.keff = 1059.6910912619182\n",
    "me.subreaction_data.UAG_PrfA_mono_mediated_termination.keff = 1721.7910609284945\n",
    "me.subreaction_data.UGA_PrfB_mono_mediated_termination.keff = 1700.2966587695353\n",
    "me.subreaction_data.UAA_generic_RF_mediated_termination.keff = 1753.4238515034572"
   ]
  },
  {
   "cell_type": "code",
   "execution_count": null,
   "metadata": {
    "collapsed": false
   },
   "outputs": [],
   "source": [
    "# These should be coupled to translation not ribosome formation per iOL1650\n",
    "Inf_modifications = ['Translation_initiation_factor_InfA', 'Translation_gtp_initiation_factor_InfB',\n",
    "                    'Translation_initiation_factor_InfC']\n",
    "for sub in Inf_modifications:\n",
    "    me.complex_data.ribosome.modifications[sub] = 0\n",
    "    for data in me.translation_data:\n",
    "        data.modifications[sub]= -1"
   ]
  },
  {
   "cell_type": "markdown",
   "metadata": {},
   "source": [
    "## Clean up and update everything"
   ]
  },
  {
   "cell_type": "code",
   "execution_count": null,
   "metadata": {
    "collapsed": false
   },
   "outputs": [],
   "source": [
    "# RNA_dummy, TU_b3247, TU_b3705 do not have RNAP, this is set as the most common RNAP\n",
    "for data in me.transcription_data:\n",
    "    if len(data.RNA_polymerase) == 0:\n",
    "        data.RNA_polymerase = 'RNAP70-CPLX'"
   ]
  },
  {
   "cell_type": "markdown",
   "metadata": {},
   "source": [
    "## Model updates and corrections"
   ]
  },
  {
   "cell_type": "raw",
   "metadata": {
    "collapsed": false
   },
   "source": [
    "# Add NDH flux split constraint\n",
    "for rxn in me.metabolites.get_by_id('NADH-DHII-MONOMER_mod_mg2_mod_cu_mod_fad').metabolic_reactions:\n",
    "    rxn.stoichiometric_data.stoichiometry['ndh2_constraint'] = 1\n",
    "    rxn.update()\n",
    "for rxn in me.metabolites.get_by_id('NADH-DHI-CPLX_mod_2fe2s_mod_4fe4s_mod_fmn').metabolic_reactions:\n",
    "    rxn.stoichiometric_data.stoichiometry['ndh1_constraint'] = 1\n",
    "    rxn.update()\n",
    "rxn = cobra.Reaction('ndh_flux_split_constraint')\n",
    "me.add_reaction(rxn)\n",
    "rxn.reaction = 'ndh1_constraint + ndh2_constraint ->'"
   ]
  },
  {
   "cell_type": "markdown",
   "metadata": {},
   "source": [
    "### Include peripheral proteins to the membrane capacity constraint"
   ]
  },
  {
   "cell_type": "code",
   "execution_count": null,
   "metadata": {
    "collapsed": false
   },
   "outputs": [],
   "source": [
    "# Add reaction subsystems from iJO to model\n",
    "for rxn in ijo.reactions:\n",
    "    if rxn.id in me.stoichiometric_data:\n",
    "        data = me.stoichiometric_data.get_by_id(rxn.id)\n",
    "    else:\n",
    "        continue\n",
    "    for r in data.parent_reactions:\n",
    "        r.subsystem = rxn.subsystem"
   ]
  },
  {
   "cell_type": "code",
   "execution_count": null,
   "metadata": {
    "collapsed": false
   },
   "outputs": [],
   "source": [
    "# Newly annotated modification gene (w/ high confidence)\n",
    "mod = me.modification_data.get_by_id('mod_acetyl_c')\n",
    "mod.enzyme = 'RimL_mono'\n",
    "mod.stoichiometry = {'accoa_c':-1, 'coa_c':1}\n",
    "\n",
    "# Correction from iML\n",
    "me.reactions.get_by_id('DHPTDNRN_REV_DIHYDROPTERIREDUCT-CPLX_mod_fad').upper_bound = 0\n",
    "me.reactions.get_by_id('DHPTDNR_REV_DIHYDROPTERIREDUCT-CPLX_mod_fad').upper_bound = 0\n",
    "\n",
    "# cobalamin is not essential in e. coli and there is no evidence\n",
    "# of this gene requiring this modification.\n",
    "me.reactions.EX_cbl1_e.lower_bound = 0\n",
    "me.complex_data.QueG_mono_mod_adocbl.modifications.pop('mod_adocbl_c')\n",
    "me.complex_data.QueG_mono_mod_adocbl.formation.update()\n",
    "print me.reactions.formation_QueG_mono_mod_adocbl.reaction\n",
    "\n",
    "# Turn off reactions that throw off results as in iOL\n",
    "KO_list = ['DHPTDNR','DHPTDNRN', 'SUCASPtpp','SUCFUMtpp', 'SUCMALtpp', 'SUCTARTtpp', \n",
    "           'CAT', 'FHL', 'SPODM', 'SPODMpp']\n",
    "for reaction in KO_list:\n",
    "    data = me.stoichiometric_data.get_by_id(reaction)\n",
    "    data.lower_bound = 0\n",
    "    data.upper_bound = 0\n",
    "    \n",
    "# this RNAP/sigma factor should not be used to transcribe stable rna   \n",
    "for rxn in me.metabolites.get_by_id('RNAP32-CPLX').reactions:\n",
    "    if rxn.id != 'formation_RNAP32-CPLX' and rxn.transcription_data.codes_stable_rna:\n",
    "        rxn.upper_bound = 0\n",
    "        print rxn\n",
    "        \n",
    "me.reactions.NH4tpp_FWD_SPONT.remove_from_model()\n",
    "me.reactions.NH4tpp_REV_SPONT.remove_from_model()\n",
    "\n",
    "# I dont think this complex is correct\n",
    "me.reactions.get_by_id('formation_ATPSYN-CPLX_EG10106-MONOMER').knock_out()\n",
    "\n",
    "# add oxidative damage reaction to form 3fe4s \n",
    "# TODO this can be done better\n",
    "fes_damage = cobra.Reaction('4fe4s_oxidation')\n",
    "me.add_reaction(fes_damage)\n",
    "fes_damage.reaction = '4fe4s_c -> fe2_c + 3fe4s_c'"
   ]
  },
  {
   "cell_type": "code",
   "execution_count": null,
   "metadata": {
    "collapsed": false,
    "scrolled": false
   },
   "outputs": [],
   "source": [
    "me.update()\n",
    "me.prune()"
   ]
  },
  {
   "cell_type": "code",
   "execution_count": null,
   "metadata": {
    "collapsed": false
   },
   "outputs": [],
   "source": [
    "me.reactions.dummy_reaction_FWD_CPLX_dummy.objective_coefficient = 1.\n",
    "me.reactions.EX_glc__D_e.lower_bound = -1000\n",
    "me.reactions.EX_o2_e.lower_bound = -1000.\n",
    "# we can now set the unmodeled protein fraction\n",
    "me.unmodeled_protein_fraction = 0.35\n",
    "me.ngam = 13.94\n",
    "me.gam = 35  "
   ]
  },
  {
   "cell_type": "code",
   "execution_count": null,
   "metadata": {
    "collapsed": false,
    "scrolled": true
   },
   "outputs": [],
   "source": [
    "n_genes = len(me.metabolites.query(re.compile('RNA_b[0-9]')))\n",
    "# 3 genes in iJL unused \n",
    "# 1 new gene (rimL) added to model above\n",
    "print(\"number of genes in the model %d (%.2f%%)\" % (n_genes, n_genes * 100. / (1678))) "
   ]
  },
  {
   "cell_type": "markdown",
   "metadata": {},
   "source": [
    "## Solve"
   ]
  },
  {
   "cell_type": "code",
   "execution_count": null,
   "metadata": {
    "collapsed": true
   },
   "outputs": [],
   "source": [
    "with open(\"prototype_67.pickle\", \"wb\") as outfile:\n",
    "    cPickle.dump(me, outfile)"
   ]
  },
  {
   "cell_type": "code",
   "execution_count": null,
   "metadata": {
    "collapsed": false,
    "scrolled": true
   },
   "outputs": [],
   "source": [
    "using_soplex=False\n",
    "if using_soplex:\n",
    "    binary_search(me, min_mu=.1, max_mu=.3, debug=False, mu_accuracy=1e-2)\n",
    "else:\n",
    "    from qminos.me1 import ME_NLP1\n",
    "    me.reactions.EX_o2_e.lower_bound = -16.\n",
    "    me.reactions.EX_glc__D_e.lower_bound = -1000.\n",
    "    me.reactions.EX_glc__D_e.upper_bound = 1000.\n",
    "    me.reactions.EX_ac_e.lower_bound = 0\n",
    "    # The object containing solveME methods--composite that uses a ME model object \n",
    "    # Provide growth_key = 'mu' for minime models,\n",
    "    me_nlp = ME_NLP1(me, growth_key='mu')\n",
    "    # Use bisection for now (until the NLP formulation is worked out for the new prototype 44\n",
    "    muopt, hs, xopt, cache = me_nlp.bisectmu(precision=1e-2, mumax=1.5)    \n",
    "    # Access the solution that is saved in the original cobrame object\n",
    "    sol = me.solution\n",
    "    sol.f\n",
    "    sol.x_dict"
   ]
  },
  {
   "cell_type": "code",
   "execution_count": null,
   "metadata": {
    "collapsed": false,
    "scrolled": false
   },
   "outputs": [],
   "source": [
    "import escher\n",
    "view = escher.Builder(\"iJO1366.Central metabolism\")\n",
    "view.reaction_data = me.get_metabolic_flux(solution=me.solution)\n",
    "view.display_in_notebook()"
   ]
  },
  {
   "cell_type": "code",
   "execution_count": null,
   "metadata": {
    "collapsed": true
   },
   "outputs": [],
   "source": []
  }
 ],
 "metadata": {
  "kernelspec": {
   "display_name": "Python 2",
   "language": "python",
   "name": "python2"
  },
  "language_info": {
   "codemirror_mode": {
    "name": "ipython",
    "version": 2
   },
   "file_extension": ".py",
   "mimetype": "text/x-python",
   "name": "python",
   "nbconvert_exporter": "python",
   "pygments_lexer": "ipython2",
   "version": "2.7.6"
  }
 },
 "nbformat": 4,
 "nbformat_minor": 0
}
