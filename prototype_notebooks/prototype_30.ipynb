{
 "cells": [
  {
   "cell_type": "markdown",
   "metadata": {},
   "source": [
    "\n",
    "# Build a basic ME model"
   ]
  },
  {
   "cell_type": "markdown",
   "metadata": {},
   "source": [
    "We will try to build an ME model from the NC_000913.2 Genbank file, the iJO1366 M model, and the complex reconstruction from iJL1650-ME"
   ]
  },
  {
   "cell_type": "code",
   "execution_count": 1,
   "metadata": {
    "collapsed": false
   },
   "outputs": [],
   "source": [
    "# python imports\n",
    "import re\n",
    "import json\n",
    "from os.path import join\n",
    "\n",
    "# third party imports\n",
    "import pandas\n",
    "import escher\n",
    "import cobra.test\n",
    "\n",
    "# ecoli me\n",
    "from ecolime.flat_files import *\n",
    "\n",
    "from minime import *\n",
    "from minime.util.building import build_reactions_from_genbank, add_transcription_reaction\n",
    "from minime.solve.algorithms import binary_search, fva, solve_at_growth_rate\n",
    "from minime.solve.symbolic import compile_expressions"
   ]
  },
  {
   "cell_type": "markdown",
   "metadata": {},
   "source": [
    "## Begin by loading metabolites"
   ]
  },
  {
   "cell_type": "code",
   "execution_count": 2,
   "metadata": {
    "collapsed": true
   },
   "outputs": [],
   "source": [
    "def fix_id(id_str):\n",
    "    return id_str.replace(\"_DASH_\", \"__\")"
   ]
  },
  {
   "cell_type": "code",
   "execution_count": 3,
   "metadata": {
    "collapsed": false
   },
   "outputs": [],
   "source": [
    "me = MEmodel(\"iJO1366-ME\")\n",
    "me.id = \"iJO1366-ME\"\n",
    "me.compartments = {\"p\": \"Periplasm\", \"e\": \"Extra-organism\",\n",
    "                   \"c\": \"Cytosol\"}\n",
    "compartment_lookup = {v: k for k, v in me.compartments.items()}"
   ]
  },
  {
   "cell_type": "code",
   "execution_count": 4,
   "metadata": {
    "collapsed": false
   },
   "outputs": [],
   "source": [
    "met_info = pandas.read_csv(\n",
    "    join(ecoli_files_dir, \"metabolites.txt\"),\n",
    "    delimiter=\"\\t\", header=None, index_col=0,\n",
    "    names=[\"id\", \"name\", \"formula\", \"compartment\", \"data_source\"])"
   ]
  },
  {
   "cell_type": "code",
   "execution_count": 5,
   "metadata": {
    "collapsed": false
   },
   "outputs": [
    {
     "name": "stdout",
     "output_type": "stream",
     "text": [
      "Assigned tl to e\n",
      "Assigned hemed to e\n",
      "Assigned pqq to e\n",
      "Assigned dpm to e\n",
      "Assigned 23bpg to e\n",
      "Assigned tqn to e\n"
     ]
    }
   ],
   "source": [
    "for met_id in met_info.index:\n",
    "    fixed_id = fix_id(met_id)\n",
    "    for compartment in met_info.compartment[met_id].split(\"AND\"):\n",
    "        compartment = compartment.strip()\n",
    "        if compartment == \"No_Compartment\":\n",
    "            print \"Assigned %s to e\" % met_id\n",
    "            compartment = me.compartments[\"e\"]\n",
    "        metab = Metabolite(fixed_id + \"_\" + compartment_lookup[compartment])\n",
    "        metab.name = met_info.name[met_id]\n",
    "    \n",
    "        metab.formula = met_info.formula[met_id]\n",
    "        me.add_metabolites(metab)"
   ]
  },
  {
   "cell_type": "markdown",
   "metadata": {},
   "source": [
    "Add generic ions to simplify complexes"
   ]
  },
  {
   "cell_type": "code",
   "execution_count": 6,
   "metadata": {
    "collapsed": false
   },
   "outputs": [],
   "source": [
    "divalent_list = divalent_list\n",
    "monovalent_list = monovalent_list\n",
    "comp = \"_c\"  # compartment\n",
    "# Divalent\n",
    "div = cobra.Metabolite('generic_divalent' + comp)\n",
    "div.name = 'Generic divalent ion'\n",
    "me.add_metabolites(div)\n",
    "for ion in divalent_list:\n",
    "    rxn1 = cobra.Reaction(ion + comp + '_to_generic')\n",
    "    ion_dict = {}\n",
    "    met1 = me.metabolites.get_by_id(ion + comp)\n",
    "    ion_dict[met1] = -1\n",
    "    ion_dict[div] = 1\n",
    "    rxn1.add_metabolites(ion_dict)\n",
    "    me.add_reaction(rxn1)\n",
    "# Monovalent\n",
    "mono = cobra.Metabolite('generic_monovalent' + comp)\n",
    "mono.name = 'Generic monovalent ion'\n",
    "for ion in monovalent_list:\n",
    "    rxn2 = cobra.Reaction(ion + comp + '_to_generic')\n",
    "    ion_dict = {}\n",
    "    met2 = me.metabolites.get_by_id(ion + comp)\n",
    "    ion_dict[met2] = -1\n",
    "    ion_dict[mono] = 1\n",
    "    rxn2.add_metabolites(ion_dict)\n",
    "    me.add_reaction(rxn2)"
   ]
  },
  {
   "cell_type": "markdown",
   "metadata": {},
   "source": [
    "## Build Metabolic reactions"
   ]
  },
  {
   "cell_type": "code",
   "execution_count": 7,
   "metadata": {
    "collapsed": true
   },
   "outputs": [],
   "source": [
    "reaction_info = get_reaction_info_frame()\n",
    "reaction_dict = get_reaction_matrix_dict()"
   ]
  },
  {
   "cell_type": "code",
   "execution_count": 8,
   "metadata": {
    "collapsed": false
   },
   "outputs": [],
   "source": [
    "for r_id in reaction_info.index:\n",
    "    reaction = StoichiometricData(r_id, me)\n",
    "    reaction._stoichiometry = {fix_id(k): v\\\n",
    "                               for k, v in reaction_dict[r_id].items()}\n",
    "    reaction.lower_bound = \\\n",
    "        -1000. if reaction_info.is_reversible[r_id] else 0.\n",
    "    reaction.upper_bound = 1000."
   ]
  },
  {
   "cell_type": "markdown",
   "metadata": {},
   "source": [
    "Also make a dummy reaction"
   ]
  },
  {
   "cell_type": "code",
   "execution_count": 9,
   "metadata": {
    "collapsed": false
   },
   "outputs": [],
   "source": [
    "dummy = StoichiometricData(\"dummy_reaction\", me)\n",
    "dummy.lower_bound = 0\n",
    "dummy.upper_bound = 1000\n",
    "dummy._stoichiometry = {}"
   ]
  },
  {
   "cell_type": "markdown",
   "metadata": {},
   "source": [
    "Boundary Reactions"
   ]
  },
  {
   "cell_type": "code",
   "execution_count": 10,
   "metadata": {
    "collapsed": false
   },
   "outputs": [],
   "source": [
    "sources_sinks = pandas.read_csv(join(ecoli_files_dir, \"reaction_matrix_sources_and_sinks.txt\"), delimiter=\"\\t\",\n",
    "                                header=None, names=[\"rxn_id\", \"met_id\", \"compartment\", \"stoic\"], index_col=1)\n",
    "sources_sinks.index = [fix_id(i) for i in sources_sinks.index]\n",
    "\n",
    "source_amounts = pandas.read_csv(join(ecoli_files_dir, \"exchange_bounds.txt\"),\n",
    "                                 delimiter=\"\\t\", index_col=0, names=[\"met_id\", \"amount\"])\n",
    "source_amounts.index = [fix_id(i) for i in source_amounts.index]\n",
    "\n",
    "\n",
    "for met_id in sources_sinks.index:\n",
    "    model_met_id = met_id + \"_\" + compartment_lookup[sources_sinks.compartment[met_id]]\n",
    "    # EX_ or DM_ + met_id\n",
    "    reaction_id = sources_sinks.rxn_id[met_id][:3] + model_met_id\n",
    "    reaction = cobra.Reaction(reaction_id)\n",
    "    me.add_reaction(reaction)\n",
    "    reaction.add_metabolites({me.metabolites.get_by_id(model_met_id): -1})\n",
    "    # set bounds on exchanges\n",
    "    if reaction.id.startswith(\"EX_\") and met_id in source_amounts.index:\n",
    "        reaction.lower_bound = -source_amounts.amount[met_id]"
   ]
  },
  {
   "cell_type": "markdown",
   "metadata": {},
   "source": [
    "Set bounds on boundary reactions"
   ]
  },
  {
   "cell_type": "markdown",
   "metadata": {},
   "source": [
    "## Build ribosome and RNA Polymerase"
   ]
  },
  {
   "cell_type": "code",
   "execution_count": 11,
   "metadata": {
    "collapsed": false,
    "scrolled": true
   },
   "outputs": [
    {
     "name": "stdout",
     "output_type": "stream",
     "text": [
      "Created <TranslatedGene protein_b1089 at 0x7ff19c2cd890> in <ComplexFormation formation_ribosome at 0x7ff19c2cd810>\n",
      "Created <TranslatedGene protein_b3637 at 0x7ff19c2cd8d0> in <ComplexFormation formation_ribosome at 0x7ff19c2cd810>\n",
      "Created <TranslatedGene protein_b3636 at 0x7ff19c2cd910> in <ComplexFormation formation_ribosome at 0x7ff19c2cd810>\n",
      "Created <TranslatedGene protein_b3304 at 0x7ff19c2cd750> in <ComplexFormation formation_ribosome at 0x7ff19c2cd810>\n",
      "Created <TranslatedGene protein_b4200 at 0x7ff19c2cd790> in <ComplexFormation formation_ribosome at 0x7ff19c2cd810>\n",
      "Created <TranslatedGene protein_b1716 at 0x7ff19c2cd4d0> in <ComplexFormation formation_ribosome at 0x7ff19c2cd810>\n",
      "Created <TranslatedGene protein_b1717 at 0x7ff19c2cd510> in <ComplexFormation formation_ribosome at 0x7ff19c2cd810>\n",
      "Created <TranslatedGene protein_b0023 at 0x7ff19c2cd550> in <ComplexFormation formation_ribosome at 0x7ff19c2cd810>\n",
      "Created <TranslatedGene protein_b3306 at 0x7ff19c2cd590> in <ComplexFormation formation_ribosome at 0x7ff19c2cd810>\n",
      "Created <TranslatedGene protein_b1480 at 0x7ff19c2cd5d0> in <ComplexFormation formation_ribosome at 0x7ff19c2cd810>\n",
      "Created <TranslatedGene protein_b3309 at 0x7ff19c2cd610> in <ComplexFormation formation_ribosome at 0x7ff19c2cd810>\n",
      "Created <TranslatedGene protein_b3308 at 0x7ff19c2cd650> in <ComplexFormation formation_ribosome at 0x7ff19c2cd810>\n",
      "Created <TranslatedGene protein_b3321 at 0x7ff19c2cd690> in <ComplexFormation formation_ribosome at 0x7ff19c2cd810>\n",
      "Created <TranslatedGene protein_b3320 at 0x7ff19c2cd6d0> in <ComplexFormation formation_ribosome at 0x7ff19c2cd810>\n",
      "Created <TranslatedGene protein_b3301 at 0x7ff19c2cd710> in <ComplexFormation formation_ribosome at 0x7ff19c2cd810>\n",
      "Created <TranslatedGene protein_b3303 at 0x7ff19c2cd990> in <ComplexFormation formation_ribosome at 0x7ff19c2cd810>\n",
      "Created <TranslatedGene protein_b3302 at 0x7ff19c2cda10> in <ComplexFormation formation_ribosome at 0x7ff19c2cd810>\n",
      "Created <TranslatedGene protein_b3305 at 0x7ff19c2561d0> in <ComplexFormation formation_ribosome at 0x7ff19c2cd810>\n",
      "Created <TranslatedGene protein_b3986 at 0x7ff19c256210> in <ComplexFormation formation_ribosome at 0x7ff19c2cd810>\n",
      "Created <TranslatedGene protein_b3307 at 0x7ff19c256250> in <ComplexFormation formation_ribosome at 0x7ff19c2cd810>\n",
      "Created <TranslatedGene protein_b3984 at 0x7ff19c256290> in <ComplexFormation formation_ribosome at 0x7ff19c2cd810>\n",
      "Created <TranslatedGene protein_b3341 at 0x7ff19c2562d0> in <ComplexFormation formation_ribosome at 0x7ff19c2cd810>\n",
      "Created <TranslatedGene protein_b3983 at 0x7ff19c256310> in <ComplexFormation formation_ribosome at 0x7ff19c2cd810>\n",
      "Created <TranslatedGene protein_b0911 at 0x7ff19c256350> in <ComplexFormation formation_ribosome at 0x7ff19c2cd810>\n",
      "Created <TranslatedGene protein_b3231 at 0x7ff19c256390> in <ComplexFormation formation_ribosome at 0x7ff19c2cd810>\n",
      "Created <TranslatedGene protein_b2609 at 0x7ff19c2563d0> in <ComplexFormation formation_ribosome at 0x7ff19c2cd810>\n",
      "Created <TranslatedGene protein_b3958 at 0x7ff19c256410> in <ComplexFormation formation_ribosome at 0x7ff19c2cd810>\n",
      "Created <TranslatedGene protein_b3342 at 0x7ff19c256450> in <ComplexFormation formation_ribosome at 0x7ff19c2cd810>\n",
      "Created <TranslatedGene protein_b3703 at 0x7ff19c256490> in <ComplexFormation formation_ribosome at 0x7ff19c2cd810>\n",
      "Created <TranslatedGene protein_b3296 at 0x7ff19c2564d0> in <ComplexFormation formation_ribosome at 0x7ff19c2cd810>\n",
      "Created <TranslatedGene protein_b3936 at 0x7ff19c256510> in <ComplexFormation formation_ribosome at 0x7ff19c2cd810>\n",
      "Created <TranslatedGene protein_b0169 at 0x7ff19c256550> in <ComplexFormation formation_ribosome at 0x7ff19c2cd810>\n",
      "Created <TranslatedGene protein_b3298 at 0x7ff19c256590> in <ComplexFormation formation_ribosome at 0x7ff19c2cd810>\n",
      "Created <TranscribedGene RNA_b3854 at 0x7ff19c2565d0> in <ComplexFormation formation_ribosome at 0x7ff19c2cd810>\n",
      "Created <TranslatedGene protein_b3315 at 0x7ff19c256610> in <ComplexFormation formation_ribosome at 0x7ff19c2cd810>\n",
      "Created <TranslatedGene protein_b3318 at 0x7ff19c256650> in <ComplexFormation formation_ribosome at 0x7ff19c2cd810>\n",
      "Created <TranslatedGene protein_b3319 at 0x7ff19c256690> in <ComplexFormation formation_ribosome at 0x7ff19c2cd810>\n",
      "Created <TranslatedGene protein_b3186 at 0x7ff19c2566d0> in <ComplexFormation formation_ribosome at 0x7ff19c2cd810>\n",
      "Created <TranslatedGene protein_b3185 at 0x7ff19c256710> in <ComplexFormation formation_ribosome at 0x7ff19c2cd810>\n",
      "Created <TranslatedGene protein_b3312 at 0x7ff19c256750> in <ComplexFormation formation_ribosome at 0x7ff19c2cd810>\n",
      "Created <TranslatedGene protein_b3313 at 0x7ff19c256790> in <ComplexFormation formation_ribosome at 0x7ff19c2cd810>\n",
      "Created <TranslatedGene protein_b3310 at 0x7ff19c2567d0> in <ComplexFormation formation_ribosome at 0x7ff19c2cd810>\n",
      "Created <TranslatedGene protein_b3311 at 0x7ff19c256810> in <ComplexFormation formation_ribosome at 0x7ff19c2cd810>\n",
      "Created <TranslatedGene protein_b3316 at 0x7ff19c256850> in <ComplexFormation formation_ribosome at 0x7ff19c2cd810>\n",
      "Created <TranslatedGene protein_b3317 at 0x7ff19c256890> in <ComplexFormation formation_ribosome at 0x7ff19c2cd810>\n",
      "Created <TranslatedGene protein_b3314 at 0x7ff19c2568d0> in <ComplexFormation formation_ribosome at 0x7ff19c2cd810>\n",
      "Created <TranslatedGene protein_b2185 at 0x7ff19c256910> in <ComplexFormation formation_ribosome at 0x7ff19c2cd810>\n",
      "Created <TranslatedGene protein_b3065 at 0x7ff19c256950> in <ComplexFormation formation_ribosome at 0x7ff19c2cd810>\n",
      "Created <TranslatedGene protein_b4203 at 0x7ff19c256990> in <ComplexFormation formation_ribosome at 0x7ff19c2cd810>\n",
      "Created <TranslatedGene protein_b4202 at 0x7ff19c2569d0> in <ComplexFormation formation_ribosome at 0x7ff19c2cd810>\n",
      "Created <TranslatedGene protein_b3165 at 0x7ff19c256a10> in <ComplexFormation formation_ribosome at 0x7ff19c2cd810>\n",
      "Created <TranscribedGene RNA_b3851 at 0x7ff19c256a50> in <ComplexFormation formation_ribosome at 0x7ff19c2cd810>\n",
      "Created <TranslatedGene protein_b3299 at 0x7ff19c256a90> in <ComplexFormation formation_ribosome at 0x7ff19c2cd810>\n",
      "Created <TranslatedGene protein_b3230 at 0x7ff19c256ad0> in <ComplexFormation formation_ribosome at 0x7ff19c2cd810>\n",
      "Created <TranslatedGene protein_b3297 at 0x7ff19c256b10> in <ComplexFormation formation_ribosome at 0x7ff19c2cd810>\n",
      "Created <TranslatedGene protein_b2606 at 0x7ff19c256b50> in <ComplexFormation formation_ribosome at 0x7ff19c2cd810>\n",
      "Created <TranslatedGene protein_b3294 at 0x7ff19c256b90> in <ComplexFormation formation_ribosome at 0x7ff19c2cd810>\n",
      "Created <TranscribedGene RNA_b3855 at 0x7ff19c256bd0> in <ComplexFormation formation_ribosome at 0x7ff19c2cd810>\n"
     ]
    }
   ],
   "source": [
    "ribosome_complex = ComplexData(\"ribosome\", me)\n",
    "ribosome_components = ribosome_complex.stoichiometry\n",
    "for i in [\"b3851\", \"b3854\", \"b3855\"]:\n",
    "    ribosome_components[\"RNA_\" + i] = 1\n",
    "# 30S Listed as [rpsA -rpsU], sra \n",
    "# [rplA-rplF],  rplI, [rplK-rplY],\n",
    "# [rpmA-rpmJ]\n",
    "\n",
    "for i in [\"b0911\", \"b0169\", \"b3314\", \"b3296\", \"b3303\", \"b4200\", \"b3341\",\n",
    "          \"b3306\", \"b3230\", \"b3321\", \"b3297\", \"b3342\", \"b3298\", \"b3307\", \n",
    "          \"b3165\", \"b2609\", \"b3311\", \"b4202\", \"b3316\", \"b0023\", \"b3065\",\n",
    "          \"b1480\"]:\n",
    "    ribosome_components[\"protein_\" + i] = 1\n",
    "    \n",
    "# 50S listed as [rplA-rplF],rplJ, rplI, rplK [rplM-rplY], [rpmA-rpmJ]    \n",
    "for i in [\"b3984\", \"b3317\", \"b3320\", \"b3319\", \"b3308\", \"b3305\", \n",
    "          \"b3958\", \"b4203\", \"b3983\", \"b3231\", \"b3310\", \"b3301\",\n",
    "          \"b3313\", \"b3294\", \"b3304\", \"b2606\", \"b1716\", \"b3186\",\n",
    "          \"b3315\", \"b3318\", \"b3309\", \"b2185\", \n",
    "          \"b3185\", \"b3637\", \"b3312\", \"b3302\", \"b3936\", \"b1089\", \n",
    "          \"b3636\", \"b3703\", \"b1717\", \"b3299\"]:\n",
    "    ribosome_components[\"protein_\" + i] = 1\n",
    "# [rplJ, 2(2[rplL7])]\n",
    "ribosome_components[\"protein_\" + \"b3986\"] = 4\n",
    "\n",
    "ribosome_complex.create_complex_formation()"
   ]
  },
  {
   "cell_type": "code",
   "execution_count": 12,
   "metadata": {
    "collapsed": false
   },
   "outputs": [
    {
     "name": "stdout",
     "output_type": "stream",
     "text": [
      "Created <TranslatedGene protein_b3295 at 0x7ff19c2c3f90> in <ComplexFormation formation_RNA_Polymerase at 0x7ff19c2c3c10>\n",
      "Created <TranslatedGene protein_b3988 at 0x7ff19c2c3fd0> in <ComplexFormation formation_RNA_Polymerase at 0x7ff19c2c3c10>\n",
      "Created <TranslatedGene protein_b3987 at 0x7ff19c2c3f10> in <ComplexFormation formation_RNA_Polymerase at 0x7ff19c2c3c10>\n"
     ]
    }
   ],
   "source": [
    "RNAP_complex = ComplexData(\"RNA_Polymerase\", me)\n",
    "RNAP_components = RNAP_complex.stoichiometry\n",
    "# Core RNA Polymerase Enzyme\n",
    "for i in {\"b3295\" : \"rpoA\", \"b3988\" : \"rpoC\", \"b3987\" : \"rpoB\"}:\n",
    "    if i == \"b3295\":\n",
    "        RNAP_components[\"protein_\" + i] = 2\n",
    "    else:\n",
    "        RNAP_components[\"protein_\" + i] = 1\n",
    "\n",
    "RNAP_complex.create_complex_formation()"
   ]
  },
  {
   "cell_type": "markdown",
   "metadata": {},
   "source": [
    "### Add Transcription/Translation from the genbank file"
   ]
  },
  {
   "cell_type": "code",
   "execution_count": 13,
   "metadata": {
    "collapsed": false
   },
   "outputs": [
    {
     "name": "stdout",
     "output_type": "stream",
     "text": [
      "TODO deal with selenocystine\n"
     ]
    }
   ],
   "source": [
    "build_reactions_from_genbank(me, join(ecoli_files_dir, \"NC_000913.2.gb\"))"
   ]
  },
  {
   "cell_type": "markdown",
   "metadata": {},
   "source": [
    "Add a dummy protein in as well"
   ]
  },
  {
   "cell_type": "code",
   "execution_count": 14,
   "metadata": {
    "collapsed": false
   },
   "outputs": [],
   "source": [
    "dna_sequence = \"ATG\" + \"TTT\" * 5 + \"TAT\"*5+ \"ACG\"*5 + \"GAT\" *5 + \"AGT\"*5 + \"TAA\"\n",
    "add_transcription_reaction(me, \"dummy\", {\"dummy\"}, dna_sequence)\n",
    "me.add_metabolites(TranslatedGene(\"protein_\" + \"dummy\"))\n",
    "translation = TranslationReaction(\"translation_\" + \"dummy\")\n",
    "me.add_reaction(translation)\n",
    "translation.translation_data = TranslationData(\"dummy\", me, \"RNA_dummy\", \"protein_dummy\")\n",
    "translation.translation_data.compute_sequence_from_DNA(dna_sequence)\n",
    "translation.update()\n",
    "\n",
    "complex_data = ComplexData(\"CPLX_dummy\", me)\n",
    "complex_data.stoichiometry = {}\n",
    "complex_data.stoichiometry[\"protein_\" + \"dummy\"] = 1\n",
    "complex_data.create_complex_formation()"
   ]
  },
  {
   "cell_type": "markdown",
   "metadata": {},
   "source": [
    "## Associate the tRNA synthetases"
   ]
  },
  {
   "cell_type": "markdown",
   "metadata": {},
   "source": [
    "The tRNA charging reactions were automatically added when loading the genome from the genbank file. However, the charging reactions still need to be made aware of the tRNA synthetases which are responsible."
   ]
  },
  {
   "cell_type": "code",
   "execution_count": 15,
   "metadata": {
    "collapsed": true
   },
   "outputs": [],
   "source": [
    "with open(join(ecoli_files_dir, \"amino_acid_tRNA_synthetase.json\"), \"rb\") as infile:\n",
    "    aa_synthetase_dict = json.load(infile)\n",
    "for data in me.tRNA_data:\n",
    "    data.synthetase = str(aa_synthetase_dict[data.amino_acid])"
   ]
  },
  {
   "cell_type": "markdown",
   "metadata": {},
   "source": [
    "### Add in complex Formation with modifications"
   ]
  },
  {
   "cell_type": "code",
   "execution_count": 16,
   "metadata": {
    "collapsed": false
   },
   "outputs": [],
   "source": [
    "# ME_complex_dict is a dict of {'complex_id': ['bnum(count)']}\n",
    "ME_complex_dict = get_complex_to_bnum_dict()\n",
    "# some entries in the file need to be renamed\n",
    "renames = {\"MnmE_\": \"b3706\", \"MnmG_\": \"b3741\", \"YheM_\": \"b3344\", \"YheL_\": \"b3343\", \"YheN_\": \"b3345\"}\n",
    "rna_components = {\"b3123\"}  # component id should have RNA_ instead of protein_\n",
    "\n",
    "for cplx, value in ME_complex_dict.iteritems():\n",
    "    complex_data = ComplexData(cplx, me)\n",
    "    for gene in value:\n",
    "        stoichiometry = gene[6]\n",
    "        bnum = gene[0:5]\n",
    "        comp_id = \"RNA_\" + bnum if bnum in rna_components \\\n",
    "            else \"protein_\" + renames.get(bnum, bnum)\n",
    "        try:\n",
    "            complex_data.stoichiometry[comp_id] = float(stoichiometry)\n",
    "        except:\n",
    "            complex_data.stoichiometry[comp_id] = float(1)"
   ]
  },
  {
   "cell_type": "code",
   "execution_count": 17,
   "metadata": {
    "collapsed": false
   },
   "outputs": [
    {
     "name": "stdout",
     "output_type": "stream",
     "text": [
      "TODO: hRNAP_mod_1:generic_divalent_mod_2:generic_divalent\n",
      "TODO: GltX_mono_mod_generic_divalent_mod_1:generic_divalent\n"
     ]
    }
   ],
   "source": [
    "# {modified_complex_id: ['unmodified_complex_id', {component_id: stoic}]\n",
    "modification_dict = get_protein_modification_dict(generic=True)\n",
    "for mod_cplx_id, mod_complex_info in iteritems(modification_dict):\n",
    "    unmod_cplx_id, mods = mod_complex_info\n",
    "    unmod_cplx = me.complex_data.get_by_id(unmod_cplx_id)\n",
    "    cplx = ComplexData(mod_cplx_id, me)\n",
    "    cplx.stoichiometry = unmod_cplx.stoichiometry\n",
    "    cplx.translocation = unmod_cplx.translocation\n",
    "    cplx.chaperones = unmod_cplx.chaperones\n",
    "    if len(set(mod_cplx_id.split(\"_mod_\")[1:])) == len(mods):\n",
    "        for mod_comp, mod_count in iteritems(mods):\n",
    "            mod_id = \"mod_\" + mod_comp\n",
    "            try:\n",
    "                mod = me.modification_data.get_by_id(mod_id)\n",
    "            except:\n",
    "                mod = ModificationData(mod_id, me)\n",
    "                mod.stoichiometry = {mod_comp: -1}\n",
    "            cplx.modifications[mod_id] = -mod_count\n",
    "    else:\n",
    "        print \"TODO:\", mod_cplx_id"
   ]
  },
  {
   "cell_type": "markdown",
   "metadata": {},
   "source": [
    "Some modifications are enzyme-catalyzed\n",
    "\n",
    "TODO: Fe-S enzyme-catalyzed modifications"
   ]
  },
  {
   "cell_type": "code",
   "execution_count": 18,
   "metadata": {
    "collapsed": false
   },
   "outputs": [],
   "source": [
    "# two different reactiond can add a lipoate modification.\n",
    "# We create a separate ModificationData for each one\n",
    "lipo = me.modification_data.get_by_id(\"mod_lipo_c\")\n",
    "alt_lipo = ModificationData(\"mod_lipo_c_alt\", me)\n",
    "alt_lipo.stoichiometry = lipo.stoichiometry\n",
    "\n",
    "lipo.stoichiometry = {\"lipoamp_c\": -1, \"amp_c\": 1}\n",
    "lipo.enzyme = 'EG11796-MONOMER'\n",
    "lipo.keff = 65.\n",
    "\n",
    "alt_lipo.stoichiometry = {'EG50003-MONOMER_mod_pan4p_mod_oc':-1,\n",
    "                          'amet_c':-2,\n",
    "                          'lipoamp_c':-1,\n",
    "                          'met__L_c':2,\n",
    "                          'dad__5_c':2,\n",
    "                          'CPLX0-782_mod_2:4fe4s':-1,\n",
    "                          'CPLX0-782_mod_1:2fe2s_mod_1:4fe4s':1,\n",
    "                          'fe2_c':2,\n",
    "                          'h_c':-2,\n",
    "                          'nad_c':-1,\n",
    "                          'nadh_c':1,\n",
    "                          'EG50003-MONOMER_mod_pan4p':1}\n",
    "alt_lipo.enzyme = 'EG11591-MONOMER'\n",
    "alt_lipo.keff = 65.\n",
    "\n",
    "for cplx_data in lipo.get_complex_data():\n",
    "    alt_cplx_data = ComplexData(cplx_data.id + \"alt\", me)\n",
    "    alt_cplx_data.complex_id = cplx_data.complex_id\n",
    "    alt_cplx_data.translocation = cplx_data.translocation\n",
    "    alt_cplx_data.chaperones = cplx_data.chaperones\n",
    "    alt_cplx_data.modifications = cplx_data.modifications\n",
    "    alt_cplx_data.modifications[alt_lipo.id] = \\\n",
    "        alt_cplx_data.modifications.pop(lipo.id)"
   ]
  },
  {
   "cell_type": "code",
   "execution_count": 19,
   "metadata": {
    "collapsed": true
   },
   "outputs": [],
   "source": [
    "# todo bmocogdp_c mods\n",
    "mod_catalysts = {'CPLX0-1762':'G6712-MONOMER', # FE-S modification\n",
    "                 'TMAOREDUCTI-CPLX':'EG12195-MONOMER',\n",
    "                 'DIMESULFREDUCT-CPLX':'G6849-MONOMER',\n",
    "                 'NITRATREDUCTA-CPLX':'NARJ-MONOMER', \n",
    "                 'NITRATREDUCTZ-CPLX':'NARW-MONOMER',\n",
    "                 'NAP-CPLX':'NAPD-MONOMER',\n",
    "                 'NAPAB-CPLX_NAPC-MONOMER':'NAPD-MONOMER'}"
   ]
  },
  {
   "cell_type": "code",
   "execution_count": 20,
   "metadata": {
    "collapsed": false
   },
   "outputs": [
    {
     "name": "stdout",
     "output_type": "stream",
     "text": [
      "unknown metabolite '4fe4s_c' created\n",
      "unknown metabolite 'LI_c' created\n",
      "unknown metabolite '2fe2s_c' created\n",
      "unknown metabolite '3fe4s_c' created\n",
      "unknown metabolite 'pqq_c' created\n",
      "unknown metabolite 'hemed_c' created\n",
      "unknown metabolite 'acetyl_c' created\n",
      "unknown metabolite 'NiFeCoCN2_c' created\n",
      "unknown metabolite 'SH_c' created\n",
      "unknown metabolite '23bpg_c' created\n",
      "unknown metabolite 'dpm_c' created\n",
      "unknown metabolite 'tl_c' created\n",
      "unknown metabolite 'EG50003-MONOMER_mod_pan4p' created\n",
      "unknown metabolite 'CPLX0-782_mod_2:4fe4s' created\n",
      "unknown metabolite 'EG50003-MONOMER_mod_pan4p_mod_oc' created\n",
      "unknown metabolite 'CPLX0-782_mod_1:2fe2s_mod_1:4fe4s' created\n"
     ]
    }
   ],
   "source": [
    "target_list = ['4fe4s_c', 'LI_c', '2fe2s_c', '3fe4s_c', 'pqq_c',\n",
    "               'hemed_c', 'acetyl_c', 'NiFeCoCN2_c', 'SH_c',\n",
    "               '23bpg_c', 'dpm_c', 'tl_c', 'sheme_c']\n",
    "target_list.extend(\n",
    "    ['EG50003-MONOMER_mod_pan4p', 'CPLX0-782_mod_2:4fe4s',\n",
    "     'EG50003-MONOMER_mod_pan4p_mod_oc', 'CPLX0-782_mod_1:2fe2s_mod_1:4fe4s'])\n",
    "\n",
    "for met_id in target_list:\n",
    "    r = cobra.Reaction(\"EX_\" + met_id)\n",
    "    me.add_reaction(r)\n",
    "    r.reaction = met_id + \" <=> \""
   ]
  },
  {
   "cell_type": "markdown",
   "metadata": {},
   "source": [
    "Build all complex formation reactions\n",
    "\n",
    "TODO: This shouldn't be prining out stuff. Fix them."
   ]
  },
  {
   "cell_type": "code",
   "execution_count": 21,
   "metadata": {
    "collapsed": false,
    "scrolled": true
   },
   "outputs": [],
   "source": [
    "for cplx_data in me.complex_data:\n",
    "    formation = cplx_data.formation\n",
    "    if formation:\n",
    "        formation.update()\n",
    "    else:\n",
    "        cplx_data.create_complex_formation()"
   ]
  },
  {
   "cell_type": "markdown",
   "metadata": {},
   "source": [
    "Crutch reactions for mets that are blocked. TODO remove"
   ]
  },
  {
   "cell_type": "markdown",
   "metadata": {},
   "source": [
    "## Associate Complexes with Reactions"
   ]
  },
  {
   "cell_type": "code",
   "execution_count": 22,
   "metadata": {
    "collapsed": false
   },
   "outputs": [
    {
     "name": "stdout",
     "output_type": "stream",
     "text": [
      "Fixed _DASH:  D__LACtex\n",
      "Fixed _DASH:  L__LACD2\n",
      "Fixed _DASH:  L__LACD3\n",
      "Fixed _DASH:  D__LACt2pp\n",
      "Fixed _DASH:  L__LACtex\n",
      "Fixed _DASH:  L__LACt2rpp\n"
     ]
    }
   ],
   "source": [
    "# associate reaction id with the old ME complex id (including modifications)\n",
    "rxnToModCplxDict = get_reaction_to_modified_complex(generic=True)"
   ]
  },
  {
   "cell_type": "code",
   "execution_count": 23,
   "metadata": {
    "collapsed": false
   },
   "outputs": [
    {
     "name": "stdout",
     "output_type": "stream",
     "text": [
      "Created <Metabolite CPLX0-7817_mod_Oxidized at 0x7ff199f5cf90> in <MetabolicReaction RNDR1b3_FWD_RIBONUCLEOSIDE-DIP-REDUCTII-CPLX at 0x7ff199f5cf50>\n",
      "Created <Metabolite GLUTAREDOXIN-MONOMER_mod_Oxidized at 0x7ff199f66050> in <MetabolicReaction RNDR1b1_FWD_RIBONUCLEOSIDE-DIP-REDUCTII-CPLX at 0x7ff199f5cfd0>\n",
      "Created <Metabolite GRXC-MONOMER_mod_Oxidized at 0x7ff199f660d0> in <MetabolicReaction RNDR1b4_FWD_RIBONUCLEOSIDE-DIP-REDUCTII-CPLX at 0x7ff199f66090>\n",
      "Created <Metabolite GRXB-MONOMER_mod_Oxidized at 0x7ff199f66250> in <MetabolicReaction RNDR1b2_FWD_RIBONUCLEOSIDE-DIP-REDUCTII-CPLX at 0x7ff199f66210>\n",
      "Created <Metabolite EG50003-MONOMER_mod_pan4p_mod_3ha at 0x7ff199f66850> in <MetabolicReaction 3OAR401_REV_3-OXOACYL-ACP-REDUCT-MONOMER at 0x7ff199f66810>\n",
      "Created <Metabolite EG50003-MONOMER_mod_pan4p_mod_act at 0x7ff199f66890> in <MetabolicReaction 3OAR401_REV_3-OXOACYL-ACP-REDUCT-MONOMER at 0x7ff199f66810>\n",
      "Created <Metabolite EG50003-MONOMER_mod_pan4p_mod_ddca at 0x7ff199f66a10> in <MetabolicReaction ACPPAT1201_FWD_EG11437-MONOMER at 0x7ff199f669d0>\n",
      "Created <Metabolite EG50003-MONOMER_mod_pan4p_mod_mal at 0x7ff199f66ad0> in <MetabolicReaction 3OAS1401_FWD_FABB-CPLX at 0x7ff199f66a90>\n",
      "Created <Metabolite EG50003-MONOMER_mod_pan4p_mod_3omrs at 0x7ff199f66b10> in <MetabolicReaction 3OAS1401_FWD_FABB-CPLX at 0x7ff199f66a90>\n",
      "Created <Metabolite EG50003-MONOMER_mod_pan4p_mod_pim at 0x7ff199f66e50> in <MetabolicReaction AOXSr21_FWD_7KAPSYN-CPLX at 0x7ff199f66e10>\n",
      "Created <Metabolite CPLX0-1341_mod_1:2fe2s_mod_1:fe2 at 0x7ff19974d9d0> in <MetabolicReaction SufBCD_mod_1:2Fe2S_mod_1:fe2atp_mediated_FE_loading_FWD_CPLX_dummy at 0x7ff19974d990>\n",
      "Created <Metabolite pi at 0x7ff19974da10> in <MetabolicReaction SufBCD_mod_1:2Fe2S_mod_1:fe2atp_mediated_FE_loading_FWD_CPLX_dummy at 0x7ff19974d990>\n",
      "Created <Metabolite CPLX0-1341_mod_1:2fe2s_mod_2:fe2 at 0x7ff19974da50> in <MetabolicReaction SufBCD_mod_1:2Fe2S_mod_1:fe2atp_mediated_FE_loading_FWD_CPLX_dummy at 0x7ff19974d990>\n",
      "Created <Metabolite atp at 0x7ff19974da90> in <MetabolicReaction SufBCD_mod_1:2Fe2S_mod_1:fe2atp_mediated_FE_loading_FWD_CPLX_dummy at 0x7ff19974d990>\n",
      "Created <Metabolite adp at 0x7ff19974dad0> in <MetabolicReaction SufBCD_mod_1:2Fe2S_mod_1:fe2atp_mediated_FE_loading_FWD_CPLX_dummy at 0x7ff19974d990>\n",
      "Created <Metabolite EG50003-MONOMER_mod_pan4p_mod_opme at 0x7ff199761cd0> in <MetabolicReaction OPMEACPS1_FWD_FABB-CPLX at 0x7ff199761c90>\n",
      "Created <Metabolite EG50003-MONOMER_mod_pan4p_mod_gme at 0x7ff199761d10> in <MetabolicReaction OPMEACPS1_FWD_FABB-CPLX at 0x7ff199761c90>\n",
      "Created <Metabolite EG50003-MONOMER_mod_pan4p_mod_t3c5ddece at 0x7ff19ac05350> in <MetabolicReaction 3HAD1211_FWD_FABZ-CPLX at 0x7ff19ac05310>\n",
      "Created <Metabolite EG50003-MONOMER_mod_pan4p_mod_3hcddec5e at 0x7ff19ac05390> in <MetabolicReaction 3HAD1211_FWD_FABZ-CPLX at 0x7ff19ac05310>\n",
      "Created <Metabolite EG50003-MONOMER_mod_pan4p_mod_3hcpalm9e at 0x7ff19ac16090> in <MetabolicReaction 3OAR1611_FWD_3-OXOACYL-ACP-REDUCT-MONOMER at 0x7ff19ac16050>\n",
      "Created <Metabolite EG50003-MONOMER_mod_pan4p_mod_3ocpalm9e at 0x7ff19ac160d0> in <MetabolicReaction 3OAR1611_FWD_3-OXOACYL-ACP-REDUCT-MONOMER at 0x7ff19ac16050>\n",
      "Created <Metabolite EG11653-MONOMER_mod_1:fe2 at 0x7ff19ac16650> in <MetabolicReaction Fe_transfer_CyaY_mod_1:fe2_to_IscU_mod_1:fe2_FWD_CPLX_dummy at 0x7ff19ac16610>\n",
      "Created <Metabolite IscU_mod_1:fe2 at 0x7ff19ac16690> in <MetabolicReaction Fe_transfer_CyaY_mod_1:fe2_to_IscU_mod_1:fe2_FWD_CPLX_dummy at 0x7ff19ac16610>\n",
      "Created <Metabolite IscU_mod_2:fe2 at 0x7ff19ac166d0> in <MetabolicReaction Fe_transfer_CyaY_mod_1:fe2_to_IscU_mod_1:fe2_FWD_CPLX_dummy at 0x7ff19ac16610>\n",
      "Created <Metabolite EG50003-MONOMER_mod_pan4p_mod_3ooct at 0x7ff19aaa9590> in <MetabolicReaction 3OAS801_FWD_FABB-CPLX at 0x7ff19aaa9550>\n",
      "Created <Metabolite EG50003-MONOMER_mod_pan4p_mod_hex at 0x7ff19aaa95d0> in <MetabolicReaction 3OAS801_FWD_FABB-CPLX at 0x7ff19aaa9550>\n",
      "Created <Metabolite EG50003-MONOMER_mod_pan4p_mod_tddec2e at 0x7ff19aaa9690> in <MetabolicReaction EAR120y1_FWD_ENOYL-ACP-REDUCT-NADH-MONOMER at 0x7ff19aaa9650>\n",
      "Created <Metabolite EG50003-MONOMER_mod_pan4p_mod_3hmrs at 0x7ff19aaa9a50> in <MetabolicReaction U23GAAT1_FWD_UDPHYDROXYMYRGLUCOSAMNACETYLTRANS-MONO at 0x7ff19aaa99d0>\n",
      "Created <Metabolite EG50003-MONOMER_mod_pan4p_mod_3hhex at 0x7ff19aac98d0> in <MetabolicReaction 3HAD601_FWD_FABZ-CPLX at 0x7ff19aac9890>\n",
      "Created <Metabolite EG50003-MONOMER_mod_pan4p_mod_thex2e at 0x7ff19aac9910> in <MetabolicReaction 3HAD601_FWD_FABZ-CPLX at 0x7ff19aac9890>\n",
      "Created <Metabolite EG50003-MONOMER_mod_pan4p_mod_t3c9palme at 0x7ff19aae0090> in <MetabolicReaction 3HAD1611_FWD_FABZ-CPLX at 0x7ff19aae0050>\n",
      "Created <Metabolite EG50003-MONOMER_mod_pan4p_mod_tde at 0x7ff19a87f550> in <MetabolicReaction FA141ACPHi1_FWD_EG11095-MONOMER_mod_generic_divalent_mod_fe2_mod_generic_divalent_mod_generic_divalent_mod_generic_divalent at 0x7ff19a87f510>\n",
      "Created <Metabolite IscU_mod_1:2fe2s_mod_2:fe2 at 0x7ff19a87ff90> in <MetabolicReaction Fe_transfer_CyaY_mod_1:fe2_to_IscU_mod_1:2Fe2S_mod_1:fe2_FWD_CPLX_dummy at 0x7ff19a87ff50>\n",
      "Created <Metabolite IscU_mod_1:2fe2s_mod_1:fe2 at 0x7ff19a87ffd0> in <MetabolicReaction Fe_transfer_CyaY_mod_1:fe2_to_IscU_mod_1:2Fe2S_mod_1:fe2_FWD_CPLX_dummy at 0x7ff19a87ff50>\n",
      "Created <Metabolite RED-THIOREDOXIN-MONOMER_mod_Oxidized at 0x7ff19a8903d0> in <MetabolicReaction DSBDR1_FWD_CPLX_dummy at 0x7ff19a890390>\n",
      "Created <Metabolite DSBD-MONOMER_mod_Oxidized at 0x7ff19a890410> in <MetabolicReaction DSBDR1_FWD_CPLX_dummy at 0x7ff19a890390>\n",
      "Created <Metabolite RED-THIOREDOXIN2-MONOMER_mod_Oxidized at 0x7ff19a8904d0> in <MetabolicReaction DSBDR2_FWD_CPLX_dummy at 0x7ff19a890490>\n",
      "Created <Metabolite EG50003-MONOMER_mod_pan4p_mod_hpme at 0x7ff19a890e50> in <MetabolicReaction OPMEACPR1_FWD_3-OXOACYL-ACP-REDUCT-MONOMER at 0x7ff19a890d10>\n",
      "Created <Metabolite EG50003-MONOMER_mod_pan4p_mod_epme at 0x7ff19a6c5a10> in <MetabolicReaction EPMEACPR1_FWD_ENOYL-ACP-REDUCT-NADH-MONOMER at 0x7ff19a6c5910>\n",
      "Created <Metabolite EG50003-MONOMER_mod_pan4p_mod_pme at 0x7ff19a6c5990> in <MetabolicReaction EPMEACPR1_FWD_ENOYL-ACP-REDUCT-NADH-MONOMER at 0x7ff19a6c5910>\n",
      "Created <Metabolite CPLX0-246_CPLX0-1342_mod_pydx5p_mod_1:SH at 0x7ff19a6d5cd0> in <MetabolicReaction SCYSDS1_FWD_CPLX_dummy at 0x7ff19a6d5c90>\n",
      "Created <Metabolite h at 0x7ff19a6d5f10> in <MetabolicReaction S_transfer_to_SufBCD_mod_1:2Fe1S_FWD_CPLX_dummy at 0x7ff19a6d5ed0>\n",
      "Created <Metabolite CPLX0-1341_mod_1:2fe2s at 0x7ff19a6d5f50> in <MetabolicReaction S_transfer_to_SufBCD_mod_1:2Fe1S_FWD_CPLX_dummy at 0x7ff19a6d5ed0>\n",
      "Created <Metabolite CPLX0-1341_mod_1:2fe1s at 0x7ff19a6d5f90> in <MetabolicReaction S_transfer_to_SufBCD_mod_1:2Fe1S_FWD_CPLX_dummy at 0x7ff19a6d5ed0>\n",
      "Created <Metabolite EG50003-MONOMER_mod_pan4p_mod_palm at 0x7ff19a6e5850> in <MetabolicReaction AGPAT1601_FWD_1-ACYLGLYCEROL-3-P-ACYLTRANSFER-MONOMER at 0x7ff19a6e5810>\n",
      "Created <Metabolite 2tpr3dpcoa at 0x7ff19a6386d0> in <MetabolicReaction CITLY-CPLX_2tpr3dpcoa_FWD_G6340-MONOMER at 0x7ff19a638610>\n",
      "Created <Metabolite EG50003-MONOMER_mod_pan4p_mod_3hpalm at 0x7ff19a648610> in <MetabolicReaction 3HAD1601_FWD_FABZ-CPLX at 0x7ff19a6485d0>\n",
      "Created <Metabolite EG50003-MONOMER_mod_pan4p_mod_tpalm2e at 0x7ff19a648650> in <MetabolicReaction 3HAD1601_FWD_FABZ-CPLX at 0x7ff19a6485d0>\n",
      "Created <Metabolite EG50003-MONOMER_mod_pan4p_mod_ocdca at 0x7ff19a648750> in <MetabolicReaction G3PAT1801_FWD_GLYCEROL-3-P-ACYLTRANSFER-MONOMER at 0x7ff19a648710>\n",
      "Created <Metabolite CPLX0-1341_mod_2:2fe2s at 0x7ff19a33ad10> in <MetabolicReaction SufBCD_2:2fe2s_to_SufBCD_1:4fe4s_FWD_CPLX_dummy at 0x7ff19a33acd0>\n",
      "Created <Metabolite CPLX0-1341_mod_1:4fe4s at 0x7ff19a33ad50> in <MetabolicReaction SufBCD_2:2fe2s_to_SufBCD_1:4fe4s_FWD_CPLX_dummy at 0x7ff19a33acd0>\n",
      "Created <Metabolite DISULFOXRED-MONOMER at 0x7ff19a180a50> in <MetabolicReaction DSBAO11_FWD_DSBBPROT-MONOMER at 0x7ff19a180a10>\n",
      "Created <Metabolite DISULFOXRED-MONOMER_mod_Oxidized at 0x7ff19a180a90> in <MetabolicReaction DSBAO11_FWD_DSBBPROT-MONOMER at 0x7ff19a180a10>\n",
      "Created <Metabolite CPLX-7524_mod_mn2 at 0x7ff19a18f110> in <MetabolicReaction 4Fe4S_to_ErpA_by_IscU_FWD_EG12130-MONOMER_EG12131-MONOMER at 0x7ff19a18f0d0>\n",
      "Created <Metabolite IscU_mod_1:4fe4s at 0x7ff19a18f150> in <MetabolicReaction 4Fe4S_to_ErpA_by_IscU_FWD_EG12130-MONOMER_EG12131-MONOMER at 0x7ff19a18f0d0>\n",
      "Created <Metabolite CPLX-7524_mod_mn2_mod_1:4fe4s at 0x7ff19a18f190> in <MetabolicReaction 4Fe4S_to_ErpA_by_IscU_FWD_EG12130-MONOMER_EG12131-MONOMER at 0x7ff19a18f0d0>\n",
      "Created <Metabolite EG50003-MONOMER_mod_pan4p_mod_hde at 0x7ff19a18f7d0> in <MetabolicReaction AGPAT1611_FWD_1-ACYLGLYCEROL-3-P-ACYLTRANSFER-MONOMER at 0x7ff19a18f790>\n",
      "Created <Metabolite EG50003-MONOMER_mod_pan4p_mod_3ocddec5e at 0x7ff199fb01d0> in <MetabolicReaction 3OAS1211_FWD_FABB-CPLX at 0x7ff199fb0190>\n",
      "Created <Metabolite EG50003-MONOMER_mod_pan4p_mod_cdec3e at 0x7ff199fb0210> in <MetabolicReaction 3OAS1211_FWD_FABB-CPLX at 0x7ff199fb0190>\n",
      "Created <Metabolite IscS_mod_2:pydx5p at 0x7ff199fb0f10> in <MetabolicReaction S_transfer_to_IscU_mod_1:2Fe2S_mod_2:fe2_FWD_CPLX_dummy at 0x7ff199fb0ed0>\n",
      "Created <Metabolite IscU_mod_1:2fe2s_mod_1:2fe1s at 0x7ff199fb0f50> in <MetabolicReaction S_transfer_to_IscU_mod_1:2Fe2S_mod_2:fe2_FWD_CPLX_dummy at 0x7ff199fb0ed0>\n",
      "Created <Metabolite IscS_mod_2:pydx5p_mod_1:SH at 0x7ff199fb0f90> in <MetabolicReaction S_transfer_to_IscU_mod_1:2Fe2S_mod_2:fe2_FWD_CPLX_dummy at 0x7ff199fb0ed0>\n",
      "Created <Metabolite EG50003-MONOMER_mod_pan4p_mod_octe at 0x7ff199fbf350> in <MetabolicReaction G3PAT1811_FWD_GLYCEROL-3-P-ACYLTRANSFER-MONOMER at 0x7ff199fbf310>\n",
      "Created <Metabolite EG50003-MONOMER_mod_pan4p_mod_3hcmrs7e at 0x7ff199fbf910> in <MetabolicReaction 3HAD1411_FWD_FABZ-CPLX at 0x7ff199fbf8d0>\n",
      "Created <Metabolite EG50003-MONOMER_mod_pan4p_mod_t3c7mrse at 0x7ff199fbf950> in <MetabolicReaction 3HAD1411_FWD_FABZ-CPLX at 0x7ff199fbf8d0>\n",
      "Created <Metabolite FLAVODOXIN1-MONOMER_mod_Oxidized at 0x7ff199fbff90> in <MetabolicReaction RNTR1c21_FWD_RIBONUCLEOSIDE-TRIP-REDUCT-CPLX at 0x7ff199fbfed0>\n",
      "Created <Metabolite FLAVODOXIN2-MONOMER_mod_Oxidized at 0x7ff199fd2090> in <MetabolicReaction RNTR1c22_FWD_RIBONUCLEOSIDE-TRIP-REDUCT-CPLX at 0x7ff199fd2050>\n",
      "Created <Metabolite EG50003-MONOMER_mod_pan4p_mod_dca at 0x7ff199fd2390> in <MetabolicReaction EAR100x1_FWD_ENOYL-ACP-REDUCT-NADH-MONOMER at 0x7ff199fd2350>\n",
      "Created <Metabolite EG50003-MONOMER_mod_pan4p_mod_tdec2e at 0x7ff199fd23d0> in <MetabolicReaction EAR100x1_FWD_ENOYL-ACP-REDUCT-NADH-MONOMER at 0x7ff199fd2350>\n",
      "Created <Metabolite CPLX0-7824_mod_1:4fe4s at 0x7ff19abb5890> in <MetabolicReaction 4Fe4S_to_ErpA_by_SufA_FWD_CPLX_dummy at 0x7ff19abb5850>\n",
      "Created <Metabolite EG50003-MONOMER_mod_pan4p_mod_egme at 0x7ff19a9e9a90> in <MetabolicReaction OGMEACPD1_FWD_FABZ-CPLX at 0x7ff19a9e9a50>\n",
      "Created <Metabolite EG50003-MONOMER_mod_pan4p_mod_hgme at 0x7ff19a9e9ad0> in <MetabolicReaction OGMEACPD1_FWD_FABZ-CPLX at 0x7ff19a9e9a50>\n",
      "Created <Metabolite EG50003-MONOMER_mod_pan4p_mod_ogme at 0x7ff19a9e9b50> in <MetabolicReaction OGMEACPR1_FWD_3-OXOACYL-ACP-REDUCT-MONOMER at 0x7ff19a9e9b10>\n",
      "Created <Metabolite IscU_mod_1:2fe1s at 0x7ff19aa11310> in <MetabolicReaction S_transfer_to_IscU_mod_2:fe2_FWD_CPLX_dummy at 0x7ff19aa112d0>\n",
      "Created <Metabolite EG50003-MONOMER_mod_pan4p_mod_3oddec at 0x7ff19aa11c90> in <MetabolicReaction 3OAS1201_FWD_FABB-CPLX at 0x7ff19aa11c50>\n",
      "Created <Metabolite EG50003-MONOMER_mod_pan4p_mod_tmrs2e at 0x7ff19aa22a90> in <MetabolicReaction 3HAD1401_FWD_FABZ-CPLX at 0x7ff19aa22a10>\n",
      "Created <Metabolite IscU_mod_2:2fe2s at 0x7ff19aa22f10> in <MetabolicReaction I4FE4SR1_FWD_CPLX_dummy at 0x7ff19aa22ed0>\n",
      "Created <Metabolite IscU_mod_1:2fe2s at 0x7ff19a7080d0> in <MetabolicReaction Fe_transfer_CyaY_mod_1:fe2_to_IscU_mod_1:2Fe2S_FWD_CPLX_dummy at 0x7ff19a708090>\n",
      "Created <Metabolite EG11597-MONOMER_mod_cosh at 0x7ff19a708a50> in <MetabolicReaction MPTS1_FWD_EG11598-MONOMER at 0x7ff19a708a10>\n",
      "Created <Metabolite EG11597-MONOMER_mod_coo at 0x7ff19a708a90> in <MetabolicReaction MPTS1_FWD_EG11598-MONOMER at 0x7ff19a708a10>\n",
      "Created <Metabolite DSBG-CPLX_mod_Oxidized at 0x7ff19a71ab10> in <MetabolicReaction DSBGGT1_FWD_CPLX_dummy at 0x7ff19a71aad0>\n",
      "Created <Metabolite EG50003-MONOMER_mod_pan4p_mod_toct2e at 0x7ff19a5b9650> in <MetabolicReaction EAR80x1_FWD_ENOYL-ACP-REDUCT-NADH-MONOMER at 0x7ff19a5b9610>\n",
      "Created <Metabolite IscA_tetra_mod_1:4fe4s at 0x7ff19a5b9850> in <MetabolicReaction 4Fe4S_to_IscA_by_IscU_FWD_EG12130-MONOMER_EG12131-MONOMER at 0x7ff19a5b9810>\n",
      "Created <Metabolite IscA_tetra_mod_1:2fe2s at 0x7ff19a5c9cd0> in <MetabolicReaction 2Fe2S_to_IscA_by_IscU_FWD_EG12130-MONOMER_EG12131-MONOMER at 0x7ff19a5c9c90>\n",
      "Created <Metabolite DSBC-CPLX_mod_Oxidized at 0x7ff19a47ed10> in <MetabolicReaction DSBCGT1_FWD_CPLX_dummy at 0x7ff19a47ecd0>\n",
      "Created <Metabolite EG50003-MONOMER_mod_pan4p_mod_ac at 0x7ff19a48e390> in <MetabolicReaction KAS141_FWD_FABB-CPLX at 0x7ff19a48e350>\n",
      "Created <Metabolite EG11597-MONOMER_mod_amp at 0x7ff19a48e890> in <MetabolicReaction MPTSS1_FWD_EG10154-MONOMER at 0x7ff19a48e850>\n",
      "Created <Metabolite dad__5 at 0x7ff19a48e990> in <MetabolicReaction BTS6_FWD_BIOTIN-SYN-CPLX_mod_4fe4s_mod_2fe2s at 0x7ff19a48e950>\n",
      "Created <Metabolite met__L at 0x7ff19a48e9d0> in <MetabolicReaction BTS6_FWD_BIOTIN-SYN-CPLX_mod_4fe4s_mod_2fe2s at 0x7ff19a48e950>\n",
      "Created <Metabolite EG50003-MONOMER_mod_pan4p_mod_cddec5e at 0x7ff19a373450> in <MetabolicReaction EAR121x1_FWD_ENOYL-ACP-REDUCT-NADH-MONOMER at 0x7ff19a373410>\n",
      "Created <Metabolite CPLX0-1341_mod_1:2fe2s_mod_1:2fe1s at 0x7ff19a3737d0> in <MetabolicReaction S_transfer_to_SufBCD_mod_1:2Fe2S_mod_1:2Fe1S_FWD_CPLX_dummy at 0x7ff19a373790>\n",
      "Created <Metabolite fe2 at 0x7ff19a373850> in <MetabolicReaction CyaY_Fe_loading_FWD_CPLX_dummy at 0x7ff19a373810>\n",
      "Created <Metabolite EG50003-MONOMER_mod_pan4p_mod_3ocmrs7e at 0x7ff19a395c90> in <MetabolicReaction 3OAR1411_FWD_3-OXOACYL-ACP-REDUCT-MONOMER at 0x7ff19a395c50>\n",
      "Created <Metabolite CPLX0-1341_mod_2:fe2 at 0x7ff19a395e50> in <MetabolicReaction S_transfer_to_SufBCD_mod_2:fe2_FWD_CPLX_dummy at 0x7ff19a395e10>\n",
      "Created <Metabolite CPLX0-1341_mod_1:fe2 at 0x7ff19a3a7110> in <MetabolicReaction SufBCD_mod_1:fe2atp_mediated_FE_loading_FWD_CPLX_dummy at 0x7ff19a3a7090>\n",
      "Created <Metabolite EG50003-MONOMER_mod_pan4p_mod_3hoct at 0x7ff19a285c10> in <MetabolicReaction 3OAR801_REV_3-OXOACYL-ACP-REDUCT-MONOMER at 0x7ff19a285c50>\n",
      "Created <Metabolite EG50003-MONOMER_mod_pan4p_mod_3odec at 0x7ff19a29a1d0> in <MetabolicReaction 3OAS1001_FWD_FABB-CPLX at 0x7ff19a29a190>\n",
      "Created <Metabolite EG50003-MONOMER_mod_pan4p_mod_myrs at 0x7ff19a29a590> in <MetabolicReaction EDTXS21_FWD_MYRISTOYLACYLTRAN-MONOMER at 0x7ff19a29a550>\n",
      "Created <Metabolite EG10544-MONOMER_mod_palmitate at 0x7ff19a2603d0> in <MetabolicReaction ALPATG160pp1_FWD_EG10168-MONOMER at 0x7ff19a260390>\n",
      "Created <Metabolite metsox__R__L at 0x7ff19a1322d0> in <MetabolicReaction PFL_act_FWD_PFLACTENZ-MONOMER at 0x7ff19a132290>\n",
      "Created <Metabolite dad__2 at 0x7ff19a132310> in <MetabolicReaction PFL_act_FWD_PFLACTENZ-MONOMER at 0x7ff19a132290>\n",
      "Created <Metabolite amet at 0x7ff19a132350> in <MetabolicReaction PFL_act_FWD_PFLACTENZ-MONOMER at 0x7ff19a132290>\n",
      "Created <Metabolite EG50003-MONOMER_mod_pan4p_mod_3ohex at 0x7ff19a151310> in <MetabolicReaction 3OAS601_FWD_FABB-CPLX at 0x7ff19a1512d0>\n",
      "Created <Metabolite EG50003-MONOMER_mod_pan4p_mod_but at 0x7ff19a151350> in <MetabolicReaction 3OAS601_FWD_FABB-CPLX at 0x7ff19a1512d0>\n",
      "Created <Metabolite EG50003-MONOMER_mod_pan4p_mod_3hddec at 0x7ff19a161e90> in <MetabolicReaction 3OAR1201_REV_3-OXOACYL-ACP-REDUCT-MONOMER at 0x7ff19a161e50>\n",
      "Created <Metabolite EG50003-MONOMER_mod_pan4p_mod_toctd2e at 0x7ff199cf94d0> in <MetabolicReaction EAR180y1_FWD_ENOYL-ACP-REDUCT-NADH-MONOMER at 0x7ff199cf9490>\n",
      "Created <Metabolite EG50003-MONOMER_mod_pan4p_mod_but2e at 0x7ff199d28f50> in <MetabolicReaction EAR40x1_FWD_ENOYL-ACP-REDUCT-NADH-MONOMER at 0x7ff199d28f10>\n",
      "Created <Metabolite 23bpg at 0x7ff199b3abd0> in <MetabolicReaction 23bpg_generation_FWD_CPLX_dummy at 0x7ff199b3ab90>\n",
      "Created <Metabolite EG50003-MONOMER_mod_pan4p_mod_3ooctd at 0x7ff199b3ad50> in <MetabolicReaction 3OAS1801_FWD_FABB-CPLX at 0x7ff199b3ad10>\n",
      "Created <Metabolite hemed at 0x7ff199aec450> in <MetabolicReaction hemeD_synthesis_FWD_HYDROPEROXIDII-CPLX_mod_6:hemed at 0x7ff199aec410>\n",
      "Created <Metabolite h2o2 at 0x7ff199aec490> in <MetabolicReaction hemeD_synthesis_FWD_HYDROPEROXIDII-CPLX_mod_6:hemed at 0x7ff199aec410>\n",
      "Created <Metabolite pheme at 0x7ff199aec4d0> in <MetabolicReaction hemeD_synthesis_FWD_HYDROPEROXIDII-CPLX_mod_6:hemed at 0x7ff199aec410>\n",
      "Created <Metabolite EG50003-MONOMER_mod_pan4p_mod_3opalm at 0x7ff199aecc90> in <MetabolicReaction 3OAS1601_FWD_FABB-CPLX at 0x7ff199aecc50>\n",
      "Created <Metabolite CPLX-7524_mod_mn2_mod_1:2fe2s at 0x7ff199afda10> in <MetabolicReaction 2Fe2S_to_ErpA_by_SufA_FWD_CPLX_dummy at 0x7ff199afda50>\n",
      "Created <Metabolite CPLX0-7824_mod_1:2fe2s at 0x7ff199afd9d0> in <MetabolicReaction 2Fe2S_to_ErpA_by_SufA_FWD_CPLX_dummy at 0x7ff199afda50>\n",
      "Created <Metabolite EG50003-MONOMER_mod_pan4p_mod_3hdec at 0x7ff19ab31410> in <MetabolicReaction 3OAR1001_REV_3-OXOACYL-ACP-REDUCT-MONOMER at 0x7ff19ab313d0>\n",
      "Created <Metabolite EG50003-MONOMER_mod_pan4p_mod_t3c11vace at 0x7ff19a56bc50> in <MetabolicReaction EAR181x1_FWD_ENOYL-ACP-REDUCT-NADH-MONOMER at 0x7ff19a56bc10>\n",
      "Created <Metabolite tl at 0x7ff19a4afc10> in <MetabolicReaction tl_generation_FWD_CPLX_dummy at 0x7ff19a4afbd0>\n",
      "Created <Metabolite EG50003-MONOMER_mod_pan4p_mod_3hocta at 0x7ff19a1f6750> in <MetabolicReaction 3OAR1801_REV_3-OXOACYL-ACP-REDUCT-MONOMER at 0x7ff19a1f6710>\n",
      "Created <Metabolite dpm at 0x7ff19a209f90> in <MetabolicReaction dpm_import_FWD_CPLX_dummy at 0x7ff19a209f50>\n",
      "Created <Metabolite EG50003-MONOMER_mod_pan4p_mod_3hcvac11e at 0x7ff19a219350> in <MetabolicReaction 3HAD1811_FWD_FABZ-CPLX at 0x7ff19a219310>\n",
      "Created <Metabolite EG50003-MONOMER_mod_pan4p_mod_3ocvac11e at 0x7ff199d29510> in <MetabolicReaction 3OAR1811_FWD_3-OXOACYL-ACP-REDUCT-MONOMER at 0x7ff199d294d0>\n"
     ]
    }
   ],
   "source": [
    "for reaction_data in me.stoichiometric_data:\n",
    "    # Some reactions have no complex associated. Determine if they are\n",
    "    # spontaneous or orphan reactions.\n",
    "    try:\n",
    "        complexes = rxnToModCplxDict[reaction_data.id]\n",
    "    except KeyError:\n",
    "        # These are orphans catalyzed by a dummy\n",
    "        if reaction_data.id == \"dummy_reaction\" or \\\n",
    "                not reaction_info.is_spontaneous[reaction_data.id]:\n",
    "            complexes = [\"CPLX_dummy\"]\n",
    "        # These are truly spontaneous\n",
    "        else:\n",
    "            complexes = [None]\n",
    "    for complex_id in complexes:\n",
    "        complex_data = me.complex_data.get_by_id(complex_id) if complex_id else None\n",
    "        if reaction_data.lower_bound < 0:\n",
    "            r = MetabolicReaction(reaction_data.id + \"_REV_\" + str(complex_id))\n",
    "            me.add_reaction(r)\n",
    "            r.keff = 65\n",
    "            r.stoichiometric_data = reaction_data\n",
    "            if complex_data is not None:\n",
    "                r.complex_data = complex_data\n",
    "            r.reverse = True\n",
    "            r.update(create_new=True)\n",
    "        if reaction_data.upper_bound > 0:\n",
    "            r = MetabolicReaction(reaction_data.id + \"_FWD_\" + str(complex_id))\n",
    "            me.add_reaction(r)\n",
    "            r.keff = 65\n",
    "            r.stoichiometric_data = reaction_data\n",
    "            if complex_data is not None:\n",
    "                r.complex_data = complex_data\n",
    "            r.reverse = False\n",
    "            r.update(create_new=True)"
   ]
  },
  {
   "cell_type": "code",
   "execution_count": 24,
   "metadata": {
    "collapsed": false
   },
   "outputs": [
    {
     "data": {
      "text/plain": [
       "'4.27350427350427e-6*mu G6340-MONOMER + 2tpr3dpcoa --> '"
      ]
     },
     "execution_count": 24,
     "metadata": {},
     "output_type": "execute_result"
    }
   ],
   "source": [
    "# This reaction is weird\n",
    "me.reactions.get_by_id('CITLY-CPLX_2tpr3dpcoa_FWD_G6340-MONOMER').reaction"
   ]
  },
  {
   "cell_type": "markdown",
   "metadata": {},
   "source": [
    "Rebuild transcription and translation to use tRNA (now that tRNA synthetase complexes are in the model"
   ]
  },
  {
   "cell_type": "code",
   "execution_count": 25,
   "metadata": {
    "collapsed": false
   },
   "outputs": [],
   "source": [
    "for r in me.reactions:\n",
    "    if isinstance(r, tRNAChargingReaction):\n",
    "        r.update()\n",
    "for r in me.reactions:\n",
    "    if isinstance(r, TranslationReaction):\n",
    "        r.update()\n",
    "    if isinstance(r, TranscriptionReaction):\n",
    "        r.update()\n",
    "    if isinstance(r, MetabolicReaction):\n",
    "        r.update()"
   ]
  },
  {
   "cell_type": "markdown",
   "metadata": {},
   "source": [
    "Remove unused protein and mRNA to make the model solve faster (TODO remove unused complexes too)"
   ]
  },
  {
   "cell_type": "code",
   "execution_count": 26,
   "metadata": {
    "collapsed": false
   },
   "outputs": [],
   "source": [
    "for c_d in me.complex_data:\n",
    "    c = c_d.complex\n",
    "    if len(c.reactions) == 1:\n",
    "        list(c.reactions)[0].delete(remove_orphans=True)\n",
    "for p in me.metabolites.query(\"protein\"):\n",
    "    if len(p._reaction) == 1:\n",
    "        list(p._reaction)[0].delete(remove_orphans=True)\n",
    "for m in me.metabolites.query(\"RNA\"):\n",
    "    if len(m._reaction) == 1:\n",
    "        list(m._reaction)[0].delete(remove_orphans=True)"
   ]
  },
  {
   "cell_type": "markdown",
   "metadata": {},
   "source": [
    "This gives the total number of genes included"
   ]
  },
  {
   "cell_type": "code",
   "execution_count": 27,
   "metadata": {
    "collapsed": false
   },
   "outputs": [
    {
     "data": {
      "text/plain": [
       "1499"
      ]
     },
     "execution_count": 27,
     "metadata": {},
     "output_type": "execute_result"
    }
   ],
   "source": [
    "len(me.reactions.query(\"transcription\"))"
   ]
  },
  {
   "cell_type": "markdown",
   "metadata": {},
   "source": [
    "## Attempt to set keffs"
   ]
  },
  {
   "cell_type": "code",
   "execution_count": 28,
   "metadata": {
    "collapsed": false,
    "scrolled": true
   },
   "outputs": [
    {
     "name": "stdout",
     "output_type": "stream",
     "text": [
      "G5SADs_FWD_None has no associated complex\n",
      "ACONIs_REV_None has no associated complex\n",
      "ACONIs_FWD_None has no associated complex\n",
      "CPGNexs_FWD_None has no associated complex\n",
      "ARBTNexs_FWD_None has no associated complex\n",
      "DATPHs_FWD_None has no associated complex\n",
      "METOX1s_FWD_None has no associated complex\n",
      "FE3HOXexs_FWD_None has no associated complex\n",
      "no keff found for keff_METAT_S_DASH_ADENMETSYN_DASH_CPLX_mod_4_COLON_generic_monovalent_mod_1_COLON_generic_divalent\n",
      "ATPHs_FWD_None has no associated complex\n",
      "RFAMPtex_REV_None has no associated complex\n",
      "RFAMPtex_FWD_None has no associated complex\n",
      "O2tpp_REV_None has no associated complex\n",
      "O2tpp_FWD_None has no associated complex\n",
      "NOVBCNtex_REV_None has no associated complex\n",
      "NOVBCNtex_FWD_None has no associated complex\n",
      "MTHTHFSs_FWD_None has no associated complex\n",
      "SO2tpp_REV_None has no associated complex\n",
      "SO2tpp_FWD_None has no associated complex\n",
      "DMSOtpp_REV_None has no associated complex\n",
      "DMSOtpp_FWD_None has no associated complex\n",
      "ETOHtrpp_REV_None has no associated complex\n",
      "ETOHtrpp_FWD_None has no associated complex\n",
      "CO2tpp_REV_None has no associated complex\n",
      "CO2tpp_FWD_None has no associated complex\n",
      "FALGTHLs_REV_None has no associated complex\n",
      "FALGTHLs_FWD_None has no associated complex\n",
      "FALDtpp_REV_None has no associated complex\n",
      "FALDtpp_FWD_None has no associated complex\n",
      "DHPTDCs2_FWD_None has no associated complex\n",
      "MEOHtrpp_REV_None has no associated complex\n",
      "MEOHtrpp_FWD_None has no associated complex\n",
      "H2St1pp_FWD_None has no associated complex\n",
      "OMCDC_FWD_None has no associated complex\n",
      "METOX2s_FWD_None has no associated complex\n",
      "AOBUTDs_FWD_None has no associated complex\n",
      "NOtpp_REV_None has no associated complex\n",
      "NOtpp_FWD_None has no associated complex\n",
      "H2tpp_REV_None has no associated complex\n",
      "H2tpp_FWD_None has no associated complex\n",
      "FECRMexs_FWD_None has no associated complex\n",
      "FEOXAMexs_FWD_None has no associated complex\n",
      "ACALDtpp_REV_None has no associated complex\n",
      "ACALDtpp_FWD_None has no associated complex\n",
      "N2Otpp_REV_None has no associated complex\n",
      "N2Otpp_FWD_None has no associated complex\n",
      "GTPHs_FWD_None has no associated complex\n",
      "CBMD_FWD_None has no associated complex\n",
      "FEENTERexs_FWD_None has no associated complex\n"
     ]
    }
   ],
   "source": [
    "divalent_list = divalent_list\n",
    "monovalent_list = ['_mod_k','_mod_na1']\n",
    "from pickle import load\n",
    "with open(\"test_keffs.pickle\", \"rb\") as infile:\n",
    "    old_keffs = load(infile)\n",
    "keffs = {}\n",
    "\n",
    "for keff, value in old_keffs.items():\n",
    "    for i in divalent_list: \n",
    "        keff = keff.replace(i,'generic_divalent')\n",
    "    for i in monovalent_list: \n",
    "        keff = keff.replace(i, '_mod_generic_monovalent')\n",
    "    keffs[keff] = value\n",
    "    \n",
    "for r in me.reactions:\n",
    "    if isinstance(r, MetabolicReaction) and r.complex_data is None:\n",
    "        print r.id, \"has no associated complex\"\n",
    "        continue\n",
    "    if isinstance(r, MetabolicReaction) and r.complex_data.id != \"CPLX_dummy\":\n",
    "        met_rxn = r\n",
    "        key = met_rxn.id.replace(\"-\", \"_DASH_\").replace(\"__\", \"_DASH_\").replace(\":\",\"_COLON_\")\n",
    "        #key = met_rxn.id\n",
    "        key = \"keff_\" + key.replace(\"_FWD_\", \"_\").replace(\"_REV_\", \"_\")\n",
    "\n",
    "        matches = [i for i in keffs if key in i]\n",
    "        # get the direction\n",
    "        if met_rxn.reverse:\n",
    "            matches = [i for i in matches if i.endswith(\"_reverse_priming_keff\")]\n",
    "        else:\n",
    "            matches = [i for i in matches if i.endswith(\"_forward_priming_keff\")]\n",
    "        if len(matches) == 1:\n",
    "            met_rxn.keff = keffs[matches[0]]\n",
    "        elif len(matches) > 0:\n",
    "            if len(matches) == len([i for i in matches if key + \"_mod_\"]):\n",
    "                met_rxn.keff = keffs[matches[0]]\n",
    "            else:\n",
    "                print key, len(matches)\n",
    "        else:  # len(matches) == 0\n",
    "            print \"no keff found for\", key"
   ]
  },
  {
   "cell_type": "markdown",
   "metadata": {},
   "source": [
    "## Solve"
   ]
  },
  {
   "cell_type": "code",
   "execution_count": 29,
   "metadata": {
    "collapsed": true
   },
   "outputs": [],
   "source": [
    "me.reactions.dummy_reaction_FWD_CPLX_dummy.objective_coefficient = 1."
   ]
  },
  {
   "cell_type": "code",
   "execution_count": 30,
   "metadata": {
    "collapsed": true
   },
   "outputs": [],
   "source": [
    "expressions = compile_expressions(me)"
   ]
  },
  {
   "cell_type": "code",
   "execution_count": 31,
   "metadata": {
    "collapsed": false
   },
   "outputs": [
    {
     "data": {
      "text/plain": [
       "<Solution 0.10 at 0x7ff19b1ec090>"
      ]
     },
     "execution_count": 31,
     "metadata": {},
     "output_type": "execute_result"
    }
   ],
   "source": [
    "solve_at_growth_rate(me, 0.1, compiled_expressions=expressions)"
   ]
  },
  {
   "cell_type": "code",
   "execution_count": 32,
   "metadata": {
    "collapsed": false,
    "scrolled": true
   },
   "outputs": [
    {
     "name": "stdout",
     "output_type": "stream",
     "text": [
      "\u001b[0;32m0.0000000000000\u001b[0m\t1000.0\n",
      "\u001b[0;32m1.0000000000000\u001b[0m\t1000.0\n",
      "\u001b[0;31m2.0000000000000\u001b[0m\n",
      "\u001b[0;31m1.5000000000000\u001b[0m\n",
      "\u001b[0;32m1.2500000000000\u001b[0m\t1000.0\n",
      "\u001b[0;32m1.3750000000000\u001b[0m\t1000.0\n",
      "\u001b[0;32m1.4375000000000\u001b[0m\t1000.0\n",
      "\u001b[0;32m1.4687500000000\u001b[0m\t1000.0\n",
      "\u001b[0;31m1.4843750000000\u001b[0m\n",
      "\u001b[0;31m1.4765625000000\u001b[0m\n",
      "\u001b[0;31m1.4726562500000\u001b[0m\n",
      "\u001b[0;32m1.4707031250000\u001b[0m\t378.387989813\n",
      "\u001b[0;31m1.4716796875000\u001b[0m\n",
      "\u001b[0;32m1.4711914062500\u001b[0m\t107.541856465\n",
      "\u001b[0;31m1.4714355468750\u001b[0m\n",
      "\u001b[0;32m1.4713134765625\u001b[0m\t39.8605834834\n",
      "\u001b[0;32m1.4713745117188\u001b[0m\t6.02448392326\n",
      "\u001b[0;31m1.4714050292969\u001b[0m\n",
      "\u001b[0;31m1.4713897705078\u001b[0m\n",
      "\u001b[0;32m1.4713821411133\u001b[0m\t1.79518411862\n",
      "\u001b[0;31m1.4713859558105\u001b[0m\n",
      "\u001b[0;32m1.4713840484619\u001b[0m\t0.737866550447\n",
      "\u001b[0;32m1.4713850021362\u001b[0m\t0.209208873801\n",
      "\u001b[0;32m1.4713850021362\u001b[0m\t0.209208873801\n",
      "completed in 1641.4 seconds and 24 iterations\n"
     ]
    },
    {
     "data": {
      "text/plain": [
       "<Solution 1.47 at 0x7ff19b8ca710>"
      ]
     },
     "execution_count": 32,
     "metadata": {},
     "output_type": "execute_result"
    }
   ],
   "source": [
    "binary_search(me, min_mu=0, max_mu=1, mu_accuracy=1e-6,\n",
    "              compiled_expressions=expressions)"
   ]
  },
  {
   "cell_type": "code",
   "execution_count": 33,
   "metadata": {
    "collapsed": false
   },
   "outputs": [
    {
     "data": {
      "text/plain": [
       "{'lower_bound_error': 1.2605343141381751e-32,\n",
       " 'max_error': 1.2349149480783694e-13,\n",
       " 'sum_error': 3.2202177589866029e-13,\n",
       " 'upper_bound_error': 0}"
      ]
     },
     "execution_count": 33,
     "metadata": {},
     "output_type": "execute_result"
    }
   ],
   "source": [
    "me.compute_solution_error()"
   ]
  }
 ],
 "metadata": {
  "kernelspec": {
   "display_name": "Python 2",
   "language": "python",
   "name": "python2"
  },
  "language_info": {
   "codemirror_mode": {
    "name": "ipython",
    "version": 2
   },
   "file_extension": ".py",
   "mimetype": "text/x-python",
   "name": "python",
   "nbconvert_exporter": "python",
   "pygments_lexer": "ipython2",
   "version": "2.7.6"
  }
 },
 "nbformat": 4,
 "nbformat_minor": 0
}
