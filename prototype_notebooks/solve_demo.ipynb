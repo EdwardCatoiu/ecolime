{
 "cells": [
  {
   "cell_type": "code",
   "execution_count": null,
   "metadata": {
    "collapsed": false
   },
   "outputs": [],
   "source": [
    "from minime.solve.algorithms import binary_search, fva, solve_at_growth_rate\n",
    "from minime.solve.symbolic import compile_expressions"
   ]
  },
  {
   "cell_type": "code",
   "execution_count": null,
   "metadata": {
    "collapsed": false
   },
   "outputs": [],
   "source": [
    "from cloudpickle import load\n",
    "with open(\"prototype_53.pickle\", \"rb\") as infile:\n",
    "    me = load(infile)\n",
    "with open(\"prototype_53_expressions.pickle\", \"rb\") as infile:\n",
    "    expressions = load(infile)"
   ]
  },
  {
   "cell_type": "code",
   "execution_count": null,
   "metadata": {
    "collapsed": false,
    "scrolled": true
   },
   "outputs": [],
   "source": [
    "sol = binary_search(me, min_mu=0.25, max_mu=.9, mu_accuracy=1e-7,\n",
    "                  compiled_expressions=expressions, debug=True)"
   ]
  },
  {
   "cell_type": "code",
   "execution_count": null,
   "metadata": {
    "collapsed": true
   },
   "outputs": [],
   "source": []
  }
 ],
 "metadata": {
  "kernelspec": {
   "display_name": "Python 2",
   "language": "python",
   "name": "python2"
  },
  "language_info": {
   "codemirror_mode": {
    "name": "ipython",
    "version": 2
   },
   "file_extension": ".py",
   "mimetype": "text/x-python",
   "name": "python",
   "nbconvert_exporter": "python",
   "pygments_lexer": "ipython2",
   "version": "2.7.6"
  }
 },
 "nbformat": 4,
 "nbformat_minor": 0
}
