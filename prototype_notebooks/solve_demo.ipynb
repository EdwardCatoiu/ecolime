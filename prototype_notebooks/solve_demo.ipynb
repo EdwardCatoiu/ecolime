{
 "cells": [
  {
   "cell_type": "code",
   "execution_count": 1,
   "metadata": {
    "collapsed": false
   },
   "outputs": [],
   "source": [
    "from minime.solve.algorithms import binary_search, fva, solve_at_growth_rate\n",
    "from minime.solve.symbolic import compile_expressions"
   ]
  },
  {
   "cell_type": "code",
   "execution_count": 2,
   "metadata": {
    "collapsed": false
   },
   "outputs": [],
   "source": [
    "from cloudpickle import load\n",
    "with open(\"test_minime_solve.pickle\", \"rb\") as infile:\n",
    "    me = load(infile)\n",
    "with open(\"test_minime_expressions.pickle\", \"rb\") as infile:\n",
    "    expressions = load(infile)"
   ]
  },
  {
   "cell_type": "code",
   "execution_count": 3,
   "metadata": {
    "collapsed": false,
    "scrolled": true
   },
   "outputs": [
    {
     "name": "stdout",
     "output_type": "stream",
     "text": [
      "LP files will be saved in /tmp/tmpRSNTPH\n",
      "mu\t\tstatus\treset\ttime\titer\tobj\n",
      "\u001b[0;32m0.0000000000000\t+\u001b[0m\tFalse\t10.44\t7093\t1000.0\n",
      "\u001b[0;31m1.1000000000000\t-\u001b[0m\tFalse\t19.54\t3557\t\n",
      "\u001b[0;32m0.5500000000000\t+\u001b[0m\tFalse\t10.29\t3095\t1000.0\n",
      "\u001b[0;32m0.8250000000000\t+\u001b[0m\tFalse\t4.04\t1023\t1000.0\n",
      "\u001b[0;31m0.9625000000000\t-\u001b[0m\tFalse\t11.12\t1336\t\n",
      "\u001b[0;31m0.8937500000000\t-\u001b[0m\tTrue\t96.66\t50351\t\n",
      "\u001b[0;32m0.8593750000000\t+\u001b[0m\tFalse\t10.11\t2497\t879.193087016\n",
      "\u001b[0;32m0.8765625000000\t+\u001b[0m\tFalse\t0.61\t9\t429.674930439\n",
      "\u001b[0;32m0.8851562500000\t+\u001b[0m\tFalse\t0.34\t1\t206.293305939\n",
      "\u001b[0;32m0.8894531250000\t+\u001b[0m\tFalse\t0.32\t2\t94.9480003414\n",
      "\u001b[0;32m0.8916015625000\t+\u001b[0m\tFalse\t0.32\t2\t39.3522368083\n",
      "\u001b[0;32m0.8926757812500\t+\u001b[0m\tFalse\t0.32\t2\t11.593826998\n",
      "\u001b[0;31m0.8932128906250\t-\u001b[0m\tFalse\t0.99\t5\t\n",
      "\u001b[0;32m0.8929443359375\t+\u001b[0m\tFalse\t0.33\t3\t4.64259909939\n",
      "\u001b[0;32m0.8930786132813\t+\u001b[0m\tFalse\t0.32\t3\t1.17065823921\n",
      "\u001b[0;31m0.8931457519531\t-\u001b[0m\tTrue\t84.54\t48817\t\n",
      "\u001b[0;32m0.8931121826172\t+\u001b[0m\tFalse\t0.32\t2\t0.306509833769\n",
      "\u001b[0;31m0.8931289672852\t-\u001b[0m\tFalse\t15.24\t9240\t\n",
      "\u001b[0;32m0.8931205749512\t+\u001b[0m\tFalse\t0.32\t1\t0.0868472545715\n",
      "\u001b[0;31m0.8931247711182\t-\u001b[0m\tFalse\t1.63\t16\t\n",
      "\u001b[0;32m0.8931226730347\t+\u001b[0m\tFalse\t0.33\t2\t0.0379895281245\n",
      "\u001b[0;32m0.8931237220764\t+\u001b[0m\tFalse\t0.31\t2\t0.0199071843583\n",
      "\u001b[0;32m0.8931242465973\t+\u001b[0m\tFalse\t0.32\t2\t0.00415402393242\n",
      "\u001b[0;31m0.8931245088577\t-\u001b[0m\tFalse\t1.86\t28\t\n",
      "\u001b[0;32m0.8931243777275\t+\u001b[0m\tFalse\t0.32\t1\t0.000260487170912\n",
      "\u001b[0;32m0.8931244432926\t+\u001b[0m\tFalse\t0.32\t2\t7.78934732674e-06\n",
      "\u001b[0;31m0.8931244760752\t-\u001b[0m\tTrue\t18.02\t9914\t\n",
      "\u001b[0;31m0.8931244596839\t-\u001b[0m\tFalse\t2.56\t49\t\n",
      "\u001b[0;31m0.8931244514883\t-\u001b[0m\tFalse\t2.17\t70\t\n",
      "\u001b[0;31m0.8931244473904\t-\u001b[0m\tFalse\t1.99\t61\t\n",
      "\u001b[0;32m0.8931244453415\t+\u001b[0m\tFalse\t0.40\t2\t7.78934732674e-06\n",
      "\u001b[0;32m0.8931244463660\t+\u001b[0m\tFalse\t0.31\t2\t7.78934732674e-06\n",
      "\u001b[0;31m0.8931244468782\t-\u001b[0m\tFalse\t1.99\t61\t\n",
      "\u001b[0;32m0.8931244466221\t+\u001b[0m\tFalse\t0.32\t2\t7.78934732674e-06\n",
      "\u001b[0;31m0.8931244467502\t-\u001b[0m\tFalse\t2.33\t68\t\n",
      "\u001b[0;32m0.8931244466861\t+\u001b[0m\tFalse\t0.32\t2\t7.78934732674e-06\n",
      "\u001b[0;31m0.8931244467181\t-\u001b[0m\tFalse\t2.50\t61\t\n",
      "\u001b[0;31m0.8931244467021\t-\u001b[0m\tFalse\t2.06\t61\t\n",
      "\u001b[0;31m0.8931244466941\t-\u001b[0m\tFalse\t2.06\t61\t\n",
      "\u001b[0;31m0.8931244466901\t-\u001b[0m\tFalse\t2.05\t61\t\n",
      "\u001b[0;32m0.8931244466881\t+\u001b[0m\tFalse\t0.32\t2\t7.78934732674e-06\n",
      "\u001b[0;32m0.8931244466891\t+\u001b[0m\tFalse\t0.32\t2\t7.78934732674e-06\n",
      "\u001b[0;32m0.8931244466896\t+\u001b[0m\tFalse\t0.32\t2\t7.78934732674e-06\n",
      "\u001b[0;32m0.8931244466896\t+\u001b[0m\tFalse\t0.32\t2\t7.78934732674e-06\n",
      "completed in 523.6 seconds and 44 iterations\n"
     ]
    },
    {
     "data": {
      "text/plain": [
       "<Solution 0.89 at 0x7fa378094310>"
      ]
     },
     "execution_count": 3,
     "metadata": {},
     "output_type": "execute_result"
    }
   ],
   "source": [
    "binary_search(me, min_mu=0, max_mu=1.1, mu_accuracy=1e-12,\n",
    "              compiled_expressions=expressions, debug=True)"
   ]
  }
 ],
 "metadata": {
  "kernelspec": {
   "display_name": "Python 2",
   "language": "python",
   "name": "python2"
  },
  "language_info": {
   "codemirror_mode": {
    "name": "ipython",
    "version": 2
   },
   "file_extension": ".py",
   "mimetype": "text/x-python",
   "name": "python",
   "nbconvert_exporter": "python",
   "pygments_lexer": "ipython2",
   "version": "2.7.6"
  }
 },
 "nbformat": 4,
 "nbformat_minor": 0
}
