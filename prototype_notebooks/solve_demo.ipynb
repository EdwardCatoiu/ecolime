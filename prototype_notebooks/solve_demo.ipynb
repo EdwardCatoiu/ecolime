{
 "cells": [
  {
   "cell_type": "code",
   "execution_count": 3,
   "metadata": {
    "collapsed": false
   },
   "outputs": [],
   "source": [
    "from minime.solve.algorithms import binary_search, fva, solve_at_growth_rate\n",
    "from minime.solve.symbolic import compile_expressions"
   ]
  },
  {
   "cell_type": "code",
   "execution_count": 4,
   "metadata": {
    "collapsed": false
   },
   "outputs": [],
   "source": [
    "from cloudpickle import load\n",
    "with open(\"prototype_49.pickle\", \"rb\") as infile:\n",
    "    me = load(infile)\n",
    "with open(\"prototype_49_expressions.pickle\", \"rb\") as infile:\n",
    "    expressions = load(infile)"
   ]
  },
  {
   "cell_type": "code",
   "execution_count": 5,
   "metadata": {
    "collapsed": false,
    "scrolled": true
   },
   "outputs": [
    {
     "name": "stdout",
     "output_type": "stream",
     "text": [
      "LP files will be saved in /tmp/tmpoShJiv\n",
      "mu\t\tstatus\treset\ttime\titer\tobj\n",
      "\u001b[0;32m0.0000000000000\t+\u001b[0m\tFalse\t0.44\t1741\t1000.0\n",
      "\u001b[0;31m1.1000000000000\t-\u001b[0m\tTrue\t48.86\t26936\t\n",
      "\u001b[0;32m0.5500000000000\t+\u001b[0m\tFalse\t10.28\t7093\t1000.0\n",
      "\u001b[0;32m0.8250000000000\t+\u001b[0m\tFalse\t1.82\t623\t1000.0\n",
      "\u001b[0;31m0.9625000000000\t-\u001b[0m\tFalse\t5.12\t917\t\n",
      "\u001b[0;32m0.8937500000000\t+\u001b[0m\tFalse\t4.02\t646\t79.6650940438\n",
      "\u001b[0;31m0.9281250000000\t-\u001b[0m\tFalse\t0.75\t32\t\n",
      "\u001b[0;32m0.9109375000000\t+\u001b[0m\tFalse\t0.86\t8\t34.5974987654\n",
      "\u001b[0;32m0.9195312500000\t+\u001b[0m\tFalse\t0.68\t2\t12.1193452565\n",
      "\u001b[0;32m0.9238281250000\t+\u001b[0m\tFalse\t0.62\t0\t0.885898400234\n",
      "\u001b[0;31m0.9259765625000\t-\u001b[0m\tFalse\t0.62\t4\t\n",
      "\u001b[0;31m0.9249023437500\t-\u001b[0m\tFalse\t0.59\t4\t\n",
      "\u001b[0;31m0.9243652343750\t-\u001b[0m\tFalse\t0.90\t3\t\n",
      "\u001b[0;32m0.9240966796875\t+\u001b[0m\tFalse\t0.63\t3\t0.184152488052\n",
      "\u001b[0;31m0.9242309570313\t-\u001b[0m\tFalse\t0.91\t3\t\n",
      "\u001b[0;32m0.9241638183594\t+\u001b[0m\tFalse\t0.40\t0\t0.0107713075716\n",
      "\u001b[0;31m0.9241973876953\t-\u001b[0m\tFalse\t0.86\t3\t\n",
      "\u001b[0;31m0.9241806030273\t-\u001b[0m\tFalse\t18.94\t9053\t\n",
      "\u001b[0;31m0.9241722106934\t-\u001b[0m\tFalse\t0.76\t3\t\n",
      "\u001b[0;31m0.9241680145264\t-\u001b[0m\tTrue\t42.50\t19036\t\n",
      "\u001b[0;32m0.9241659164429\t+\u001b[0m\tFalse\t0.59\t0\t0.00258980452999\n",
      "\u001b[0;32m0.9241669654846\t+\u001b[0m\tFalse\t0.64\t2\t0.0012266663531\n",
      "\u001b[0;31m0.9241674900055\t-\u001b[0m\tFalse\t0.80\t1\t\n",
      "\u001b[0;32m0.9241672277451\t+\u001b[0m\tFalse\t0.62\t0\t0.00037779184554\n",
      "\u001b[0;31m0.9241673588753\t-\u001b[0m\tTrue\t13.88\t26505\t(status: ABORT_TIME)\n",
      "\u001b[0;32m0.9241672933102\t+\u001b[0m\tFalse\t0.59\t0\t5.05301873749e-05\n",
      "\u001b[0;32m0.9241673260927\t+\u001b[0m\tFalse\t0.37\t0\t1.05133893301e-05\n",
      "\u001b[0;32m0.9241673424840\t+\u001b[0m\tFalse\t0.63\t0\t3.39746389797e-06\n",
      "\u001b[0;31m0.9241673506796\t-\u001b[0m\tFalse\t1.63\t24\t\n",
      "\u001b[0;32m0.9241673465818\t+\u001b[0m\tFalse\t0.41\t0\t3.41433085793e-06\n",
      "\u001b[0;31m0.9241673486307\t-\u001b[0m\tFalse\t31.58\t20\t\n",
      "\u001b[0;32m0.9241673476063\t+\u001b[0m\tFalse\t0.37\t0\t3.41428556708e-06\n",
      "\u001b[0;31m0.9241673481185\t-\u001b[0m\tFalse\t30.83\t20\t\n",
      "\u001b[0;32m0.9241673478624\t+\u001b[0m\tFalse\t0.56\t1\t2.64946166206e-06\n",
      "\u001b[0;31m0.9241673479904\t-\u001b[0m\tFalse\t29.84\t28\t\n",
      "\u001b[0;32m0.9241673479264\t+\u001b[0m\tFalse\t0.62\t1\t2.64946166206e-06\n",
      "\u001b[0;31m0.9241673479584\t-\u001b[0m\tFalse\t30.65\t20\t\n",
      "\u001b[0;31m0.9241673479424\t-\u001b[0m\tFalse\t31.07\t20\t\n",
      "\u001b[0;31m0.9241673479344\t-\u001b[0m\tFalse\t32.08\t20\t\n",
      "\u001b[0;31m0.9241673479304\t-\u001b[0m\tFalse\t31.15\t20\t\n",
      "\u001b[0;32m0.9241673479284\t+\u001b[0m\tFalse\t0.65\t1\t2.64946166206e-06\n",
      "\u001b[0;31m0.9241673479294\t-\u001b[0m\tFalse\t30.26\t28\t\n",
      "\u001b[0;32m0.9241673479289\t+\u001b[0m\tFalse\t0.67\t1\t2.64946166206e-06\n",
      "\u001b[0;32m0.9241673479289\t+\u001b[0m\tFalse\t0.70\t1\t2.64946166206e-06\n",
      "completed in 815.6 seconds and 44 iterations\n"
     ]
    }
   ],
   "source": [
    "sol = binary_search(me, min_mu=0, max_mu=1.1, mu_accuracy=1e-12,\n",
    "                  compiled_expressions=expressions, debug=True)"
   ]
  },
  {
   "cell_type": "code",
   "execution_count": 24,
   "metadata": {
    "collapsed": true
   },
   "outputs": [],
   "source": [
    "me.reactions.EX_glc__D_e.lower_bound = -12\n",
    "me.reactions.EX_trp__L_e.lower_bound = 5"
   ]
  },
  {
   "cell_type": "code",
   "execution_count": null,
   "metadata": {
    "collapsed": true
   },
   "outputs": [],
   "source": [
    "me.reactions.G6PDH2r_FWD_GLU6PDEHYDROG-MONOMER"
   ]
  },
  {
   "cell_type": "code",
   "execution_count": 25,
   "metadata": {
    "collapsed": false
   },
   "outputs": [
    {
     "name": "stdout",
     "output_type": "stream",
     "text": [
      "LP files will be saved in /tmp/tmpGPFy8_\n",
      "mu\t\tstatus\treset\ttime\titer\tobj\n",
      "\u001b[0;32m0.0000000000000\t+\u001b[0m\tFalse\t0.49\t1849\t1000.0\n",
      "\u001b[0;31m1.1000000000000\t-\u001b[0m\tTrue\t69.06\t34182\t\n",
      "\u001b[0;31m0.5500000000000\t-\u001b[0m\tFalse\t42.32\t16927\t\n",
      "\u001b[0;31m0.2750000000000\t-\u001b[0m\tFalse\t66.29\t41212\t\n",
      "\u001b[0;31m0.1375000000000\t-\u001b[0m\tFalse\t85.58\t42881\t\n",
      "\u001b[0;32m0.0687500000000\t+\u001b[0m\tFalse\t9.90\t6246\t1000.0\n",
      "\u001b[0;31m0.1031250000000\t-\u001b[0m\tTrue\t5.74\t11191\t(status: ABORT_TIME)\n",
      "\u001b[0;32m0.0859375000000\t+\u001b[0m\tFalse\t15.80\t8615\t1000.0\n",
      "\u001b[0;32m0.0945312500000\t+\u001b[0m\tFalse\t5.13\t747\t601.968072377\n",
      "\u001b[0;32m0.0988281250000\t+\u001b[0m\tFalse\t0.38\t3\t280.494443542\n",
      "\u001b[0;32m0.1009765625000\t+\u001b[0m\tFalse\t0.35\t2\t129.947148054\n",
      "\u001b[0;32m0.1020507812500\t+\u001b[0m\tFalse\t0.37\t2\t57.0210844679\n",
      "\u001b[0;32m0.1025878906250\t+\u001b[0m\tFalse\t0.37\t0\t21.1232327379\n",
      "\u001b[0;32m0.1028564453125\t+\u001b[0m\tFalse\t0.37\t1\t3.3031473322\n",
      "\u001b[0;31m0.1029907226563\t-\u001b[0m\tFalse\t6.02\t1538\t\n",
      "\u001b[0;31m0.1029235839844\t-\u001b[0m\tFalse\t15.16\t9118\t\n",
      "\u001b[0;32m0.1028900146484\t+\u001b[0m\tFalse\t0.38\t2\t1.08515489724\n",
      "\u001b[0;31m0.1029067993164\t-\u001b[0m\tFalse\t0.61\t3\t\n",
      "\u001b[0;32m0.1028984069824\t+\u001b[0m\tFalse\t0.37\t3\t0.531354703433\n",
      "\u001b[0;32m0.1029026031494\t+\u001b[0m\tFalse\t0.37\t1\t0.270376973616\n",
      "\u001b[0;32m0.1029047012329\t+\u001b[0m\tFalse\t0.37\t1\t0.123302472765\n",
      "\u001b[0;32m0.1029057502747\t+\u001b[0m\tFalse\t0.38\t3\t0.0578479511447\n",
      "\u001b[0;32m0.1029062747955\t+\u001b[0m\tFalse\t0.38\t2\t0.0218157081081\n",
      "\u001b[0;31m0.1029065370560\t-\u001b[0m\tFalse\t0.43\t1\t\n",
      "\u001b[0;32m0.1029064059258\t+\u001b[0m\tFalse\t0.37\t0\t0.0143869946481\n",
      "\u001b[0;32m0.1029064714909\t+\u001b[0m\tFalse\t0.38\t3\t0.0122950037758\n",
      "\u001b[0;32m0.1029065042734\t+\u001b[0m\tFalse\t0.37\t2\t0.0144727197827\n",
      "\u001b[0;31m0.1029065206647\t-\u001b[0m\tFalse\t7.60\t2283\t\n",
      "\u001b[0;32m0.1029065124691\t+\u001b[0m\tFalse\t0.38\t3\t0.0144431046524\n",
      "\u001b[0;31m0.1029065165669\t-\u001b[0m\tFalse\t1.62\t72\t\n",
      "\u001b[0;31m0.1029065145180\t-\u001b[0m\tFalse\t0.82\t27\t\n",
      "\u001b[0;31m0.1029065134935\t-\u001b[0m\tFalse\t0.88\t6\t\n",
      "\u001b[0;32m0.1029065129813\t+\u001b[0m\tFalse\t0.37\t2\t0.0144420485426\n",
      "\u001b[0;31m0.1029065132374\t-\u001b[0m\tFalse\t0.80\t11\t\n",
      "\u001b[0;31m0.1029065131093\t-\u001b[0m\tFalse\t0.80\t11\t\n",
      "\u001b[0;31m0.1029065130453\t-\u001b[0m\tFalse\t0.81\t11\t\n",
      "\u001b[0;31m0.1029065130133\t-\u001b[0m\tFalse\t0.80\t11\t\n",
      "\u001b[0;32m0.1029065129973\t+\u001b[0m\tFalse\t0.37\t2\t0.0144410562616\n",
      "\u001b[0;31m0.1029065130053\t-\u001b[0m\tFalse\t22.08\t9399\t\n",
      "\u001b[0;31m0.1029065130013\t-\u001b[0m\tFalse\t22.18\t9399\t\n",
      "\u001b[0;32m0.1029065129993\t+\u001b[0m\tFalse\t0.36\t0\t0.0144410562616\n",
      "\u001b[0;32m0.1029065130003\t+\u001b[0m\tFalse\t0.37\t0\t0.0144410562616\n",
      "\u001b[0;32m0.1029065130008\t+\u001b[0m\tFalse\t0.36\t0\t0.0144410562616\n",
      "\u001b[0;32m0.1029065130008\t+\u001b[0m\tFalse\t0.36\t0\t0.0144410562616\n",
      "completed in 743.8 seconds and 44 iterations\n"
     ]
    }
   ],
   "source": [
    "sol2 = binary_search(me, min_mu=0, max_mu=1.1, mu_accuracy=1e-12,\n",
    "                  compiled_expressions=expressions, debug=True)"
   ]
  },
  {
   "cell_type": "code",
   "execution_count": 33,
   "metadata": {
    "collapsed": false
   },
   "outputs": [
    {
     "data": {
      "text/plain": [
       "'4.27350427350427e-6*mu GreA_mono + 4.27350427350427e-6*mu GreB_mono + 4.27350427350427e-6*mu Mfd_mono_mod_1:mg2 + 4.27350427350427e-6*mu NusA_mono + 4.27350427350427e-6*mu NusB_mono + 4.27350427350427e-6*mu NusG_mono + 0.0228218306412139*mu + 0.00892333578071464 RNAP70-CPLX + 4.27350427350427e-6*mu RplC_mono + 4.27350427350427e-6*mu RplD_mono + 4.27350427350427e-6*mu RplM_mono + 4.27350427350427e-6*mu RpoZ_mono_mod_1:mg2 + 4.27350427350427e-6*mu RpsD_mono + 4.27350427350427e-6*mu RpsJ_mono + 1165 atp_c + 1698 ctp_c + 1254 gtp_c + 5602.0 h2o_c + 4.27350427350427e-6*mu rRNA_containing_excision_machinery + 1478 utp_c --> RNA_b3968 + RNA_b3969 + RNA_b3970 + RNA_b3971 + 1556.77196106 RNA_biomass + 227 amp_c + 236 cmp_c + 201 gmp_c + 5602.0 h_c + 5595 ppi_c + 289 ump_c'"
      ]
     },
     "execution_count": 33,
     "metadata": {},
     "output_type": "execute_result"
    }
   ],
   "source": [
    "me.reactions.transcription_TU0_1182_with_TERM0_1116_from_RpoD_mono.reaction"
   ]
  },
  {
   "cell_type": "code",
   "execution_count": 26,
   "metadata": {
    "collapsed": false
   },
   "outputs": [],
   "source": [
    "import json\n",
    "met_flux = me.get_metabolic_flux(solution=sol)\n",
    "met_flux2 = me.get_metabolic_flux(solution=sol2)\n",
    "compare_dict = [met_flux, met_flux2]\n",
    "with open('/home/sbrg-cjlloyd/Desktop/trp_compare.json', 'wb') as f:\n",
    "    json.dump(compare_dict,f)"
   ]
  },
  {
   "cell_type": "code",
   "execution_count": 27,
   "metadata": {
    "collapsed": true
   },
   "outputs": [],
   "source": [
    "import pandas"
   ]
  },
  {
   "cell_type": "code",
   "execution_count": 30,
   "metadata": {
    "collapsed": false
   },
   "outputs": [],
   "source": [
    "sol_dict = {}\n",
    "sol_dict['no_trp'] = sol.x_dict\n",
    "sol_dict['1_trp'] = sol2.x_dict\n",
    "df = pandas.DataFrame.from_dict(sol_dict)"
   ]
  },
  {
   "cell_type": "code",
   "execution_count": 31,
   "metadata": {
    "collapsed": false
   },
   "outputs": [],
   "source": [
    "df.to_excel('../../Desktop/trp_compare.xls')"
   ]
  },
  {
   "cell_type": "code",
   "execution_count": 35,
   "metadata": {
    "collapsed": false
   },
   "outputs": [
    {
     "data": {
      "text/plain": [
       "'4.27350427350427e-6*mu*(0.000116225011622501*mu + 1.00004544397954) IleS_mono_mod_2:zn2 + 0.000116225011622501*mu + 4.5443979544398e-5 RNA_b0202 + 4.27350427350427e-6*mu TrmA_mono + 4.27350427350427e-6*mu TruB_mono + 4.27350427350427e-6*mu YggH_mono + 4.27350427350427e-6*mu YqcB_mono + 4.27350427350427e-6*mu YrdC_mono + 0.000348675034867503*mu + 0.000136331938633194 amet_c + 0.000116225011622501*mu + 4.5443979544398e-5 atp_c + 8.54700854700855e-6*mu generic_Dus + 0.000116225011622501*mu + 4.5443979544398e-5 hco3_c + 0.000116225011622501*mu + 4.5443979544398e-5 ile__L_c + 0.000232450023245002*mu + 9.08879590887959e-5 nadph_c + 0.000116225011622501*mu + 4.5443979544398e-5 thr__L_c --> 0.000116225011622501*mu + 4.5443979544398e-5 5mta_c + 0.000232450023245002*mu + 9.08879590887959e-5 ahcys_c + 0.000116225011622501*mu + 4.5443979544398e-5 amp_c + generic_tRNA_AUC_ile__L_c + 0.000116225011622501*mu + 4.5443979544398e-5 h2o_c + 0.000232450023245002*mu + 9.08879590887959e-5 h_c + 0.000232450023245002*mu + 9.08879590887959e-5 nadp_c + 0.000116225011622501*mu + 4.5443979544398e-5 ppi_c'"
      ]
     },
     "execution_count": 35,
     "metadata": {},
     "output_type": "execute_result"
    }
   ],
   "source": [
    "me.reactions.charging_tRNA_b0202_AUC.reaction"
   ]
  },
  {
   "cell_type": "code",
   "execution_count": 38,
   "metadata": {
    "collapsed": false
   },
   "outputs": [
    {
     "data": {
      "text/plain": [
       "0.0013163031333333333"
      ]
     },
     "execution_count": 38,
     "metadata": {},
     "output_type": "execute_result"
    }
   ],
   "source": []
  },
  {
   "cell_type": "code",
   "execution_count": null,
   "metadata": {
    "collapsed": true
   },
   "outputs": [],
   "source": []
  }
 ],
 "metadata": {
  "kernelspec": {
   "display_name": "Python 2",
   "language": "python",
   "name": "python2"
  },
  "language_info": {
   "codemirror_mode": {
    "name": "ipython",
    "version": 2
   },
   "file_extension": ".py",
   "mimetype": "text/x-python",
   "name": "python",
   "nbconvert_exporter": "python",
   "pygments_lexer": "ipython2",
   "version": "2.7.6"
  }
 },
 "nbformat": 4,
 "nbformat_minor": 0
}
