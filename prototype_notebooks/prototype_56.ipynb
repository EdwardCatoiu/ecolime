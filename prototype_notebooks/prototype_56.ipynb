{
 "cells": [
  {
   "cell_type": "markdown",
   "metadata": {},
   "source": [
    "\n",
    "# Build a basic ME model"
   ]
  },
  {
   "cell_type": "markdown",
   "metadata": {},
   "source": [
    "We will try to build an ME model from the NC_000913.2 Genbank file, the iJO1366 M model, and the complex reconstruction from iJL1650-ME"
   ]
  },
  {
   "cell_type": "code",
   "execution_count": null,
   "metadata": {
    "collapsed": false
   },
   "outputs": [],
   "source": [
    "# python imports\n",
    "import re\n",
    "import json\n",
    "from os.path import join\n",
    "import cPickle\n",
    "import statistics\n",
    "import math\n",
    "\n",
    "# third party imports\n",
    "import pandas\n",
    "import escher\n",
    "import cobra.test\n",
    "import cloudpickle\n",
    "\n",
    "# ecoli me\n",
    "import ecolime\n",
    "from ecolime.flat_files import *\n",
    "from ecolime.ecoli_k12 import *\n",
    "from ecolime import ribosome, tRNA_charging, transcription, translocation, chaperones\n",
    "\n",
    "from minime.util import dogma\n",
    "from minime import *\n",
    "from minime.util import building\n",
    "from minime.util.mass import compute_RNA_mass\n",
    "from minime.solve.algorithms import binary_search, fva, solve_at_growth_rate\n",
    "from minime.solve.symbolic import compile_expressions"
   ]
  },
  {
   "cell_type": "code",
   "execution_count": null,
   "metadata": {
    "collapsed": false
   },
   "outputs": [],
   "source": [
    "ijo = cobra.test.create_test_model('ecoli')"
   ]
  },
  {
   "cell_type": "markdown",
   "metadata": {},
   "source": [
    "# Colton TODOs \n",
    "- [x] 1) look into all of the free modifications in the original ME and make sure none of thes reactions are blocked\n",
    "- [x] 2) Frameshifts (b2891)\n",
    "- [x] 3) selenocysteine\n",
    "- [x] 4) Non AUG start codons (15%)\n",
    "- [x] 5) moaD is a modifier protein that never has to be made\n",
    "- [x] 6) Correct rpL7/12_mod_1:acetyl modification\n",
    "    - in iOL as a free modification. could be corrected\n",
    "- 7) Remaining Genes: \n",
    "     - pflC, citC, norW - formed but not used in iJL1678\n",
    "     - FusA, tsf - translation reactions need audited and improved\n",
    "     - [x] paaD - FeS transfer chaperone. This process needs audited and improved\n",
    "     - [x] pnp, orn, rhlB - degradosome\n",
    "     - [x] secB, tatE - Translocation Pathways\n",
    "     - [x] lgt, lspA - part of translocation. Not sure how to incorporate-ask Joanne about this\n",
    "- [x] 8) apply ndh1,ndh2 1:1 flux split"
   ]
  },
  {
   "cell_type": "markdown",
   "metadata": {},
   "source": [
    "## Begin by loading metabolites and build Metabolic reactions"
   ]
  },
  {
   "cell_type": "code",
   "execution_count": null,
   "metadata": {
    "collapsed": false
   },
   "outputs": [],
   "source": [
    "me = MEmodel('iJO1366-ME')\n",
    "m_model = ecolime.get_m_model()\n",
    "# some of the \"metabolites\" in iJO1366 \"M\" model are actually complexes. We pass those in\n",
    "# so they get created as complexes, not metabolites.\n",
    "complex_list = []\n",
    "complex_list.extend(i.id for i in m_model.metabolites if i.id.startswith(\"CPLX\"))\n",
    "complex_list.extend(i.id for i in m_model.metabolites if i.id.startswith(\"EG\"))\n",
    "complex_list.extend(i.id for i in m_model.metabolites if \"-MONOMER\" in i.id)\n",
    "complex_list.extend(i.id for i in m_model.metabolites if \"-CPLX\" in i.id)\n",
    "complex_list.extend(i.id for i in m_model.metabolites if \"_mod_\" in i.id)\n",
    "# temp fix\n",
    "complex_list.extend(i.id for i in m_model.metabolites if i.id.startswith(\"Isc\"))\n",
    "complex_list.extend(i.id for i in m_model.metabolites if i.id.startswith(\"Suf\"))\n",
    "complex_list = set(complex_list)\n",
    "building.add_m_model_content(me, m_model, complex_metabolite_ids=complex_list)\n",
    "\n",
    "# if the bounds of this metabolite aren't open, model uses wrong reactions\n",
    "me.reactions.EX_pqq_e.lower_bound = -1000"
   ]
  },
  {
   "cell_type": "code",
   "execution_count": null,
   "metadata": {
    "collapsed": true
   },
   "outputs": [],
   "source": [
    "# If lower_bound open, model feeds G6P into EDD\n",
    "me.reactions.EX_pqq_e.lower_bound = 0\n",
    "me.reactions.EX_pqq_e.upper_bound = 0"
   ]
  },
  {
   "cell_type": "code",
   "execution_count": null,
   "metadata": {
    "collapsed": false
   },
   "outputs": [],
   "source": [
    "# \"Translational capacity\" of ogranism\n",
    "me.global_info['kt'] =  4.5 #(in h-1)scott 2010, RNA-to-protein curve fit\n",
    "me.global_info['r0'] =  0.087 #scott 2010, RNA-to-protein curve fit\n",
    "me.global_info['k_deg'] =  1.0/5. * 60.0  # 1/5 1/min 60 min/h # h-1\n",
    "\n",
    "# Molecular mass of RNA component of ribosome\n",
    "me.global_info['m_rr'] = 1700. # in kDa\n",
    "\n",
    "# Average molecular mass of an amino acid\n",
    "me.global_info['m_aa'] = 109. / 1000. #109. / 1000. # in kDa\n",
    "\n",
    "# Proportion of RNA that is rRNA\n",
    "me.global_info['f_rRNA'] = .86\n",
    "me.global_info['m_nt'] = 324. / 1000. # in kDa\n",
    "me.global_info['f_mRNA'] = .02\n",
    "\n",
    "# tRNA associated global information\n",
    "me.global_info['m_tRNA'] = 25000. / 1000. # in kDA\n",
    "me.global_info['f_tRNA'] = .12\n",
    "\n",
    "me.global_info['RNA_polymerase'] = {'CPLX0-221', 'RNAPE-CPLX', 'CPLX0-222', 'RNAP32-CPLX',\n",
    "                                    'RNAP54-CPLX', 'RNAP70-CPLX', 'RNAPS-CPLX'}\n",
    "\n",
    "me.global_info['c_ribo'] = me.global_info['m_rr'] / me.global_info['f_rRNA'] / me.global_info['m_aa']\n",
    "me.global_info['k_RNAP'] = mu * me.global_info['c_ribo']\n",
    "\n",
    "# Translation associated global information\n",
    "me.global_info[\"translation_terminators\"] = ribosome.translation_stop_dict\n",
    "me.global_info[\"met_start_codons\"] = {\"AUG\", \"GUG\", \"UUG\", \"AUU\", \"CUG\"}\n",
    "me.global_info[\"peptide_processing_subreactions\"] = {\"peptide_deformylase_processing\": 1,\n",
    "                                                     \"peptide_chain_release\": 1,\n",
    "                                                     \"ribosome_recycler\": 1}\n",
    "me.global_info[\"translation_elongation_subreactions\"] = ['FusA_mono_elongation', 'Tuf_gtp_regeneration']\n",
    "me.global_info['translation_start_subreactions'] = ['fmet_addition_at_START']\n",
    "\n",
    "\n",
    "# This may be unnecessary \n",
    "# Transcription associated global information\n",
    "me.global_info[\"transcription_initiation_length\"] = 16  # nucleotides\n",
    "\n",
    "me.global_info['translocation_multipliers'] = defaultdict(dict)\n",
    "for enzyme, value in translocation.multipliers.items():\n",
    "    me.global_info['translocation_multipliers'][enzyme] = value\n",
    "\n",
    "# Folding Properties\n",
    "me.global_info['temperature'] = 37    "
   ]
  },
  {
   "cell_type": "code",
   "execution_count": null,
   "metadata": {
    "collapsed": false
   },
   "outputs": [],
   "source": [
    "for met in me.global_info['RNA_polymerase']:\n",
    "    RNAP_obj = RNAP(met)\n",
    "    me.add_metabolites(RNAP_obj)"
   ]
  },
  {
   "cell_type": "code",
   "execution_count": null,
   "metadata": {
    "collapsed": false
   },
   "outputs": [],
   "source": [
    "# Used for mass balance checks\n",
    "df = pandas.read_table('../ecolime/modification.txt', names=['mod', 'formula','na'])\n",
    "df = df.drop('na', axis=1).set_index('mod').dropna(how='any')\n",
    "me.global_info['modification_formulas'] = df.T.to_dict()"
   ]
  },
  {
   "cell_type": "code",
   "execution_count": null,
   "metadata": {
    "collapsed": false,
    "scrolled": false
   },
   "outputs": [],
   "source": [
    "essential_list = [\n",
    "    'LI_c',\n",
    "    'cs_e',\n",
    "    'tl_c', # added in old ME but not metioned in supplement tables\n",
    "    'Oxidized_c',\n",
    "    'palmitate_c',\n",
    "    'cu_c', # needed for NDH activity. TODO fix this\n",
    "    'C10H8O5_c', 'C9H9O4_c', # for tRNA modifications\n",
    "    'NiFeCoCN2_c', #'acetyl_c',\n",
    "    'RNase_m5','RNase_m16','RNase_m23'] # RNAses are gaps in model, fix how cs is added to\n",
    "\n",
    "for met_id in essential_list:\n",
    "    r = cobra.Reaction(\"EX_\" + met_id)\n",
    "    me.add_reaction(r)\n",
    "    r.reaction = met_id + \" <=> \""
   ]
  },
  {
   "cell_type": "code",
   "execution_count": null,
   "metadata": {
    "collapsed": false
   },
   "outputs": [],
   "source": [
    "# add oxidative damage reaction to form 3fe4s \n",
    "fes_damage = cobra.Reaction('4fe4s_oxidation')\n",
    "me.add_reaction(fes_damage)\n",
    "fes_damage.reaction = '4fe4s_c -> fe2_c + 3fe4s_c'"
   ]
  },
  {
   "cell_type": "markdown",
   "metadata": {},
   "source": [
    "### Add tRNA mods (iOL uses keffs of 65. for all modifications)"
   ]
  },
  {
   "cell_type": "code",
   "execution_count": null,
   "metadata": {
    "collapsed": false
   },
   "outputs": [],
   "source": [
    "for mod, components in get_tRNA_modification_procedures().items():\n",
    "    tRNA_mod = ModificationData(mod, me)\n",
    "    tRNA_mod.enzyme = components['machines']\n",
    "    tRNA_mod.stoichiometry = components['metabolites']\n",
    "    tRNA_mod.keff = 65. # iOL uses 65 for all tRNA mods\n",
    "    if 'carriers' in components.keys():\n",
    "        for carrier, stoich in components['carriers'].items():\n",
    "            if stoich < 0:\n",
    "                tRNA_mod.enzyme += [carrier]\n",
    "            tRNA_mod.stoichiometry[carrier] = stoich"
   ]
  },
  {
   "cell_type": "markdown",
   "metadata": {},
   "source": [
    "## DNA replication (comment out for now and add in later)"
   ]
  },
  {
   "cell_type": "raw",
   "metadata": {
    "collapsed": false
   },
   "source": [
    "data = ComplexData('DNA_polymerase', me)\n",
    "stoichiometry = {\n",
    "    \"b3702\": 1,  # dnaA (initiator)\n",
    "    \"b4052\": 6,  # dnaB (helicase)\n",
    "    \"b4361\": 1,  # dnaC\n",
    "    \"b3066\": 3,  # dnaG (primase)\n",
    "    # CPLXO-3803 (dna polymerase iii, holoenzyme)\n",
    "    # core\n",
    "    \"b0184\": 3,  # dnaE\n",
    "    \"b0215\": 3,  # dnaQ\n",
    "    \"b1842\": 3,  # holE\n",
    "    # holo\n",
    "    \"b0470\": 5,  # dnaX\n",
    "    \"b1099\": 1,  # holB\n",
    "    \"b0640\": 1,  # holA\n",
    "    \"b3701\": 4, # dnaN\n",
    "    \"b4259\": 4, # holC\n",
    "    \"b4372\": 4, # holD\n",
    "    \n",
    "    # CPLX0-2425 (dna gyrase)\n",
    "    \"b2231\": 2,  # gyrA\n",
    "    \"b3699\": 2,  # gyrB\n",
    "}\n",
    "data.stoichiometry = {\"protein_\" + bnum: value for bnum, value in stoichiometry.items()}\n",
    "data.create_complex_formation()\n",
    "\n",
    "DNA_replication = SummaryVariable(\"DNA_replication\")\n",
    "me.add_reaction(DNA_replication)\n",
    "DNA_replication.add_metabolites({\n",
    "    \"datp_c\": -int(0.02616 * 1000),\n",
    "    \"dctp_c\": -int(0.02701 * 1000),\n",
    "    \"dgtp_c\": -int(0.02701 * 1000),\n",
    "    \"dttp_c\": -int(0.02616 * 1000),\n",
    "    \"ppi_c\": int(0.106 * 1000),\n",
    "})\n",
    "DNA_biomass = Constraint(\"DNA_biomass\")\n",
    "DNA_biomass.elements = {e: abs(v) for e, v in DNA_replication.check_mass_balance().items()}\n",
    "DNA_replication.add_metabolites({DNA_biomass: 1})\n",
    "DNA_replication.add_metabolites({'DNA_polymerase': -1e-4})"
   ]
  },
  {
   "cell_type": "code",
   "execution_count": null,
   "metadata": {
    "collapsed": false
   },
   "outputs": [],
   "source": [
    "me._DNA_biomass_dilution.lower_bound = 0\n",
    "me._DNA_biomass_dilution.upper_bound = 0"
   ]
  },
  {
   "cell_type": "markdown",
   "metadata": {},
   "source": [
    "## Build ribosome and RNA Polymerase"
   ]
  },
  {
   "cell_type": "markdown",
   "metadata": {},
   "source": [
    "### Add translation-related Subreactions"
   ]
  },
  {
   "cell_type": "code",
   "execution_count": null,
   "metadata": {
    "collapsed": false
   },
   "outputs": [],
   "source": [
    "for subreaction in ribosome.translation_subreactions:\n",
    "    subreaction_data = SubreactionData(subreaction, me)\n",
    "    enzymes = ribosome.translation_subreactions[subreaction]['enzyme']\n",
    "    subreaction_data.enzyme = enzymes\n",
    "    \n",
    "\n",
    "for subreaction in transcription.transcription_subreactions:\n",
    "    subreaction_data = SubreactionData(subreaction, me)\n",
    "    enzymes = transcription.transcription_subreactions[subreaction]['enzymes']\n",
    "    subreaction_data.stoichiometry = transcription.transcription_subreactions[subreaction]['stoich']\n",
    "    subreaction_data.enzyme = enzymes"
   ]
  },
  {
   "cell_type": "code",
   "execution_count": null,
   "metadata": {
    "collapsed": false
   },
   "outputs": [],
   "source": [
    "data = ComplexData('RNA_degradosome', me)\n",
    "for subunit, value in ecoli_k12.RNA_degradosome.items():\n",
    "    data.stoichiometry[subunit] = value\n",
    "data.create_complex_formation(verbose=False)"
   ]
  },
  {
   "cell_type": "code",
   "execution_count": null,
   "metadata": {
    "collapsed": false
   },
   "outputs": [],
   "source": [
    "# TODO contrant type is 'trna efficiency' does this change anything?\n",
    "# 1 machine + 1 atp + 1 aa + 1 h2o --> 1 machine-amp + 1 h + 1 ppi\n",
    "# 1 machine-amp + 1 free tRNA --> 1 machine + 1 amp + 1 charged tRNA\n",
    "subreaction_data = SubreactionData('fmet_addition_at_START', me)\n",
    "subreaction_data.enzyme = ['InfB_mono',  # Start codon loader enzyme and formylmethyltransferase\n",
    "                           'Fmt_mono_mod_mg2_mod_k']\n",
    "\n",
    "# iOL had h_c:1 for fmet addtion but this is not mass balanced\n",
    "subreaction_data.stoichiometry = {'10fthf_c': -1, 'thf_c':1, #'h_c': 1, \n",
    "                                 'generic_tRNA_START_met__L_c': -1, 'met__L_c': -1}\n",
    "\n",
    "subreaction_data = SubreactionData('sec_addition_at_UGA', me)\n",
    "subreaction_data.enzyme = ['SelA_deca_mod_10:pydx5p',\n",
    "                           'SelB_mono'] # Selenocysteine loader enzyme\n",
    "subreaction_data.stoichiometry = {'h_c': 1, 'h2o_c': -1, 'selnp_c':-1, 'pi_c':1,\n",
    "                                 'generic_tRNA_UGA_cys__L_c': -1, 'cys__L_c': -1}\n",
    "\n",
    "subreaction_data = SubreactionData('FusA_mono_elongation', me)\n",
    "subreaction_data.enzyme = 'FusA_mono'\n",
    "subreaction_data.stoichiometry = {'gtp_c': -1, 'h2o_c': -1, 'h_c': 1, 'pi_c': 1, 'gdp_c': 1}\n",
    "\n",
    "subreaction_data = SubreactionData('Tuf_gtp_regeneration', me)\n",
    "subreaction_data.enzyme = 'Tsf_mono'\n",
    "subreaction_data.stoichiometry = {}\n",
    "# create subreaction for each codon\n",
    "for codon in dogma.codon_table:\n",
    "    if dogma.codon_table[codon] == '*':\n",
    "        stop_codon = codon.replace('T','U')\n",
    "        stop_enzyme = ribosome.translation_stop_dict.get(stop_codon)\n",
    "        me.add_metabolites([Complex(stop_enzyme)])\n",
    "        \n",
    "        subreaction_data = SubreactionData(stop_codon + '_' + stop_enzyme +\n",
    "                                           '_mediated_termination', me)\n",
    "        subreaction_data.enzyme = stop_enzyme\n",
    "        subreaction_data.stoichiometry = {}\n",
    "    else:\n",
    "        full_aa = dogma.amino_acids[dogma.codon_table[codon]]\n",
    "        amino_acid = full_aa.split('_')[0]\n",
    "        subreaction_data = SubreactionData(amino_acid + '_addition_at_' \\\n",
    "                                           + codon.replace('T','U'), me)\n",
    "        tRNA = 'generic_tRNA_' + codon.replace('T','U') + '_' + full_aa\n",
    "        subreaction_data.enzyme = 'generic_Tuf' # Default AA loader enzyme\n",
    "        subreaction_data.stoichiometry = {full_aa: -1, 'gtp_c': -1,# 'h2o_c': 1,\n",
    "                                          'gdp_c': 1, 'h_c': 1, 'pi_c': 1,\n",
    "                                          tRNA: -1}"
   ]
  },
  {
   "cell_type": "code",
   "execution_count": null,
   "metadata": {
    "collapsed": false
   },
   "outputs": [],
   "source": [
    "for subreaction in me.subreaction_data:\n",
    "    if type(subreaction.enzyme) == list:\n",
    "        for enzyme in subreaction.enzyme:\n",
    "            enzyme_met = Complex(enzyme)\n",
    "            me.add_metabolites([enzyme_met])\n",
    "    elif type(subreaction.enzyme) == str:\n",
    "        enzyme_met = Complex(subreaction.enzyme)\n",
    "        me.add_metabolites([enzyme_met])        "
   ]
  },
  {
   "cell_type": "code",
   "execution_count": null,
   "metadata": {
    "collapsed": false,
    "scrolled": false
   },
   "outputs": [],
   "source": [
    "gb_filename = join(ecoli_files_dir,'NC_000913.2.gb')                                                                                    \n",
    "TU_df = pandas.read_csv(join(ecoli_files_dir,'TUs_from_ecocyc.txt'), delimiter=\"\\t\", index_col=0)\n",
    "\n",
    "building.build_reactions_from_genbank(me, gb_filename, TU_df, tRNA_modifications=get_tRNA_modification_targets(),\n",
    "                                      verbose=False,\n",
    "                                      translation_terminators=ribosome.translation_stop_dict,\n",
    "                                      frameshift_dict=ribosome.frameshift_dict,\n",
    "                                     methionine_cleaved=ribosome.methionine_cleaved,\n",
    "                                     folding_dict=ribosome.folding_dict,\n",
    "                                     tRNA_to_codon=ribosome.tRNA_to_codon)"
   ]
  },
  {
   "cell_type": "code",
   "execution_count": null,
   "metadata": {
    "collapsed": false
   },
   "outputs": [],
   "source": [
    "sigma_to_RNAP_dict = transcription.sigma_factor_complex_to_rna_polymerase_dict\n",
    "# Moved from buidling to make that function organism unspecific\n",
    "for TU_id in TU_df.index:\n",
    "    transcription_data = me.transcription_data.get_by_id(TU_id)\n",
    "    rho_dependent = TU_df.rho_dependent[TU_id]\n",
    "    sigma = TU_df.sigma[TU_id]\n",
    "    RNA_polymerase = sigma_to_RNAP_dict[sigma]\n",
    "    transcription_data.RNA_polymerase = RNA_polymerase\n",
    "    transcription_data.rho_dependent = rho_dependent"
   ]
  },
  {
   "cell_type": "code",
   "execution_count": null,
   "metadata": {
    "collapsed": false,
    "scrolled": true
   },
   "outputs": [],
   "source": [
    "# Changed verbose=False to squash complex creation output\n",
    "ribosome.add_ribosome(me, verbose=False)\n",
    "transcription.add_RNA_polymerase_complexes(me, verbose=False)"
   ]
  },
  {
   "cell_type": "markdown",
   "metadata": {},
   "source": [
    "## Associate the tRNA synthetases"
   ]
  },
  {
   "cell_type": "markdown",
   "metadata": {},
   "source": [
    "The tRNA charging reactions were automatically added when loading the genome from the genbank file. However, the charging reactions still need to be made aware of the tRNA synthetases which are responsible."
   ]
  },
  {
   "cell_type": "code",
   "execution_count": null,
   "metadata": {
    "collapsed": false
   },
   "outputs": [],
   "source": [
    "with open(join(ecoli_files_dir, \"amino_acid_tRNA_synthetase.json\"), \"rb\") as infile:\n",
    "    aa_synthetase_dict = json.load(infile)\n",
    "for data in me.tRNA_data:\n",
    "    data.synthetase = str(aa_synthetase_dict[data.amino_acid])"
   ]
  },
  {
   "cell_type": "markdown",
   "metadata": {},
   "source": [
    "### Add in complex Formation with modifications"
   ]
  },
  {
   "cell_type": "code",
   "execution_count": null,
   "metadata": {
    "collapsed": false
   },
   "outputs": [],
   "source": [
    "# ME_complex_dict is a dict of {'complex_id': [{'bnum' : count}]}\n",
    "rna_components = {\"b3123\"} # component id should have RNA_ instead of protein_\n",
    "complex_stoichiometry_dict, complex_modification_dict = get_complex_composition(rna_components)\n",
    "building.add_model_complexes(me, complex_stoichiometry_dict, complex_modification_dict)"
   ]
  },
  {
   "cell_type": "markdown",
   "metadata": {},
   "source": [
    "### Newly annotated modification gene (w/ high confidence)"
   ]
  },
  {
   "cell_type": "code",
   "execution_count": null,
   "metadata": {
    "collapsed": false
   },
   "outputs": [],
   "source": [
    "mod = me.modification_data.get_by_id('mod_acetyl_c')\n",
    "mod.enzyme = 'RimL_mono'\n",
    "mod.stoichiometry = {'accoa_c':-1, 'coa_c':1}"
   ]
  },
  {
   "cell_type": "code",
   "execution_count": null,
   "metadata": {
    "collapsed": false
   },
   "outputs": [],
   "source": [
    "# two different reactions can add a lipoate modification.\n",
    "# We create a separate ModificationData for each one\n",
    "lipo = me.modification_data.get_by_id(\"mod_lipo_c\")\n",
    "alt_lipo = ModificationData(\"mod_lipo_c_alt\", me)\n",
    "#alt_lipo.stoichiometry = lipo.stoichiometry\n",
    "\n",
    "lipo.stoichiometry = {\"lipoamp_c\": -1, \"amp_c\": 1}\n",
    "lipo.enzyme = 'EG11796-MONOMER'\n",
    "lipo.keff = 65.\n",
    "\n",
    "alt_lipo.stoichiometry = {'EG50003-MONOMER_mod_pan4p_mod_lipo':-1,\n",
    "                          'EG50003-MONOMER_mod_pan4p':1,\n",
    "                          'h_c':-1,}\n",
    "alt_lipo.enzyme = 'EG11591-MONOMER'\n",
    "alt_lipo.keff = 65.\n",
    "\n",
    "for cplx_data in lipo.get_complex_data():\n",
    "    alt_cplx_data = ComplexData(cplx_data.id + \"alt\", me)\n",
    "    alt_cplx_data.complex_id = cplx_data.complex_id\n",
    "    alt_cplx_data.stoichiometry = cplx_data.stoichiometry\n",
    "    alt_cplx_data.chaperones = cplx_data.chaperones\n",
    "    alt_cplx_data.modifications = cplx_data.modifications.copy()\n",
    "    alt_cplx_data.modifications[alt_lipo.id] = \\\n",
    "        alt_cplx_data.modifications.pop(lipo.id)"
   ]
  },
  {
   "cell_type": "code",
   "execution_count": null,
   "metadata": {
    "collapsed": false
   },
   "outputs": [],
   "source": [
    "# chaperones          \n",
    "bmocogdp_chaperones = {'TMAOREDUCTI-CPLX':'EG12195-MONOMER', #bmocogdp\n",
    "                 'DIMESULFREDUCT-CPLX':'G6849-MONOMER', #bmocogdp\n",
    "                 'NITRATREDUCTA-CPLX':'NARJ-MONOMER', #bmocogdp\n",
    "                 'NITRATREDUCTZ-CPLX':'NARW-MONOMER', #bmocogdp\n",
    "                 'NAP-CPLX':'NAPD-MONOMER', #bmocogdp\n",
    "                 'NAPAB-CPLX_NAPC-MONOMER':'NAPD-MONOMER'} #bmocogdp\n",
    "for chaperone in set(bmocogdp_chaperones.values()):\n",
    "    new_mod = ModificationData('mod_bmocogdp_c_' + chaperone, me)\n",
    "    new_mod.enzyme = chaperone\n",
    "    new_mod.stoichiometry = {'bmocogdp_c': -1}\n",
    "\n",
    "for cplx_data in me.modification_data.get_by_id('mod_bmocogdp_c').get_complex_data():\n",
    "    cplx_id = cplx_data.id.split('_mod')[0]\n",
    "    if cplx_id in bmocogdp_chaperones:\n",
    "        cplx_data.modifications['mod_bmocogdp_c_' + bmocogdp_chaperones[cplx_id]] = \\\n",
    "            cplx_data.modifications.pop('mod_bmocogdp_c')"
   ]
  },
  {
   "cell_type": "markdown",
   "metadata": {},
   "source": [
    " - Read \"The CO and CN− ligands to the active site Fe in [NiFe]-hydrogenase of Escherichia coli have different metabolic origins\" for insight into the metabolic origin of the NiFeCoCN2_c group"
   ]
  },
  {
   "cell_type": "markdown",
   "metadata": {},
   "source": [
    "###Build all complex formation reactions"
   ]
  },
  {
   "cell_type": "code",
   "execution_count": null,
   "metadata": {
    "collapsed": false
   },
   "outputs": [],
   "source": [
    "for cplx_data in me.complex_data:\n",
    "    formation = cplx_data.formation\n",
    "    if formation:\n",
    "        formation.update()\n",
    "    else:\n",
    "        cplx_data.create_complex_formation()"
   ]
  },
  {
   "cell_type": "markdown",
   "metadata": {},
   "source": [
    "## Add dummy reaction to model and unmodeled_protein_fraction\n",
    " - Includes the transcription, translation, complex_formation, and metabolic reaction"
   ]
  },
  {
   "cell_type": "code",
   "execution_count": null,
   "metadata": {
    "collapsed": false
   },
   "outputs": [],
   "source": [
    "codons = pandas.read_csv(join(ecoli_files_dir, \"codon_usage.csv\"), index_col=0)"
   ]
  },
  {
   "cell_type": "code",
   "execution_count": null,
   "metadata": {
    "collapsed": false
   },
   "outputs": [],
   "source": [
    "seq = \"ATG\"\n",
    "for codon, row in codons.iterrows():\n",
    "    if row.amino_acid == \"Stop\":\n",
    "        continue\n",
    "    seq += codon * int(row.per_1000 // 3)  # want roughly 300 aa\n",
    "# get the most used stop codon\n",
    "seq += codons[codons.amino_acid == \"Stop\"].sort_values(\"per_1000\").index[-1]\n",
    "building.add_dummy_reactions(me, seq, update=True)\n",
    "\n",
    "# we can now set the unmodeled protein fraction\n",
    "me.unmodeled_protein_fraction = .45"
   ]
  },
  {
   "cell_type": "markdown",
   "metadata": {},
   "source": [
    "TODO:\n",
    " - filter so known erpA dependent ones use that instead"
   ]
  },
  {
   "cell_type": "code",
   "execution_count": null,
   "metadata": {
    "collapsed": false
   },
   "outputs": [],
   "source": [
    "# these guys can transfer assembled iron sulfur clusters to the various enzymes\n",
    "fes_transfer = {\"erpA\": \"CPLX0-7617\", \"iscA\": \"IscA_tetra\", \"sufA\": \"CPLX0-7824\"}\n",
    "\n",
    "suf_cplx = ComplexData(\"sufBC2DES_pathway_complex\", me)\n",
    "suf_cplx.stoichiometry = {\"CPLX0-1341\": 1, \"CPLX0-246_CPLX0-1342_mod_pydx5p\": 1}\n",
    "suf_cplx.create_complex_formation()\n",
    "    \n",
    "isc_cplx = ComplexData(\"iscUS_cyaY_pathway_complex\", me) # could add chaperones into here\n",
    "isc_cplx.stoichiometry = {\"IscU\": 1, \"IscS_mod_2:pydx5p\": 1, \"EG11653-MONOMER\": 1}\n",
    "isc_cplx.create_complex_formation()\n",
    "\n",
    "generic_fes_transfer = GenericData(\"generic_fes_transfer\", me, ['CPLX0-7617', 'CPLX0-7824', 'IscA_tetra'])\n",
    "generic_fes_transfer.create_reactions()"
   ]
  },
  {
   "cell_type": "code",
   "execution_count": null,
   "metadata": {
    "collapsed": false
   },
   "outputs": [],
   "source": [
    "me.modification_data.mod_2fe2s_c.enzyme = generic_fes_transfer.id\n",
    "me.modification_data.mod_2fe2s_c.keff = 65.\n",
    "me.modification_data.mod_4fe4s_c.enzyme = generic_fes_transfer.id\n",
    "me.modification_data.mod_4fe4s_c.keff = 65."
   ]
  },
  {
   "cell_type": "code",
   "execution_count": null,
   "metadata": {
    "collapsed": true
   },
   "outputs": [],
   "source": [
    "# Add known specific chaperone\n",
    "fes_chaperones = {'CPLX0-1762':'G6712-MONOMER'} # FE-S modification\n",
    "for chaperone in set(fes_chaperones.values()):\n",
    "    new_mod = ModificationData('mod_2fe2s_c_' + chaperone, me)\n",
    "    new_mod.enzyme = chaperone\n",
    "    new_mod.stoichiometry = {'2fe2s_c': -1}\n",
    "for cplx_data in me.modification_data.get_by_id('mod_2fe2s_c').get_complex_data():\n",
    "    cplx_id = cplx_data.id.split('_mod')[0]\n",
    "    if cplx_id in fes_chaperones:\n",
    "        cplx_data.modifications['mod_2fe2s_c_' + fes_chaperones[cplx_id]] = \\\n",
    "            cplx_data.modifications.pop('mod_2fe2s_c')"
   ]
  },
  {
   "cell_type": "markdown",
   "metadata": {},
   "source": [
    "Crutch reactions for mets that are blocked. TODO remove"
   ]
  },
  {
   "cell_type": "markdown",
   "metadata": {},
   "source": [
    "## Associate Complexes with Reactions"
   ]
  },
  {
   "cell_type": "code",
   "execution_count": null,
   "metadata": {
    "collapsed": false
   },
   "outputs": [],
   "source": [
    "# associate reaction id with the old ME complex id (including modifications)\n",
    "rxn_to_cplx_dict = get_reaction_to_complex()\n",
    "rxn_info = get_reaction_info_frame()\n",
    "building.add_reactions_from_stoichiometric_data(me, rxn_to_cplx_dict, rxn_info, update=True)"
   ]
  },
  {
   "cell_type": "markdown",
   "metadata": {},
   "source": [
    "Sometimes multiple entities can perform the same role. To prevent a combinatorial explosion of possibilities, we can create  \"generic\" version, where any of those entities can fill in."
   ]
  },
  {
   "cell_type": "code",
   "execution_count": null,
   "metadata": {
    "collapsed": false
   },
   "outputs": [],
   "source": [
    "for generic, components in ecoli_k12.generic_dict.items():\n",
    "    GenericData(generic, me, components).create_reactions()"
   ]
  },
  {
   "cell_type": "markdown",
   "metadata": {},
   "source": [
    "Rebuild transcription and translation to use tRNA (now that tRNA synthetase complexes are in the model"
   ]
  },
  {
   "cell_type": "code",
   "execution_count": null,
   "metadata": {
    "collapsed": false,
    "scrolled": true
   },
   "outputs": [],
   "source": [
    "apoACP = me.metabolites.get_by_id('EG50003-MONOMER_mod_pan4p')\n",
    "for reaction in me.metabolites.get_by_id('EG50003-MONOMER_mod_pan4p').reactions:\n",
    "    if apoACP in reaction.reactants:\n",
    "        reaction.complex_dilution_list = {apoACP.id}\n",
    "        reaction.update()\n",
    "me.reactions.acp_lipoate_synthase_FWD_SPONT.complex_dilution_list = {'CPLX0-782_mod_2:4fe4s'}\n",
    "me.reactions.MOADSUx1_FWD_CPLX_dummy.complex_dilution_list = {'EG11597-MONOMER_mod_amp'}"
   ]
  },
  {
   "cell_type": "markdown",
   "metadata": {},
   "source": [
    "## Add in translocation"
   ]
  },
  {
   "cell_type": "code",
   "execution_count": null,
   "metadata": {
    "collapsed": false,
    "scrolled": true
   },
   "outputs": [],
   "source": [
    "for pathway, info in translocation.pathway.items():\n",
    "    if 'alt' not in pathway:\n",
    "        transloc_data = TranslocationData(pathway + '_translocation', me)\n",
    "    else:\n",
    "        transloc_data = TranslocationData(pathway.replace('_alt', '_translocation_alt'), me)\n",
    "    transloc_data.enzyme_dict = info['enzymes']\n",
    "    transloc_data.keff = info['keff']\n",
    "    transloc_data.length_dependent_energy = info['length_dependent_energy']\n",
    "    transloc_data.stoichiometry = info['stoichiometry']"
   ]
  },
  {
   "cell_type": "code",
   "execution_count": null,
   "metadata": {
    "collapsed": false
   },
   "outputs": [],
   "source": [
    "transloc = pandas.read_csv(join(ecoli_files_dir, \"peptide_compartment_and_pathways2.txt\"), sep='\\t', comment=\"#\")\n",
    "for peptide_data in me.translation_data:\n",
    "    alt = False\n",
    "    translocation_info = transloc[transloc.Protein.str.match(peptide_data.id)]\n",
    "    if len(translocation_info) == 0:\n",
    "        continue\n",
    "        \n",
    "    \n",
    "    compartment = translocation_info.Protein_compartment.values[0]\n",
    "    processed_id = 'protein_' + peptide_data.id + '_' + compartment\n",
    "    preprocessed_id = 'protein_' + peptide_data.id\n",
    "    data = PostTranslationData('translocation_' + preprocessed_id, me , processed_id, preprocessed_id)\n",
    "    rxn = PostTranslationReaction('translocation_' + peptide_data.id)\n",
    "    \n",
    "    for abbrev in translocation_info.translocase_pathway.values[0]:\n",
    "        pathway = translocation.abbreviation_to_pathway[abbrev]\n",
    "        if type(pathway) == list:\n",
    "            data.translocation[pathway[0]] = 1\n",
    "            alt_pathway = pathway[1]\n",
    "            alt = True\n",
    "        else:\n",
    "            data.translocation[pathway] = 1\n",
    "            \n",
    "    # Add protein surface area constraint\n",
    "    if compartment != 'Periplasm':\n",
    "        mass = peptide_data.mass\n",
    "        data.surface_area['SA_protein_' + compartment] = (1.21 / 42. * 2.) * mass * 1000.\n",
    "    \n",
    "    rxn.posttranslation_data =  data\n",
    "    me.add_reaction(rxn)\n",
    "    rxn.update()\n",
    "    \n",
    "    if alt:\n",
    "        data = PostTranslationData('translocation_' + preprocessed_id + '_alt', me , processed_id, preprocessed_id)\n",
    "        rxn = PostTranslationReaction('translocation_' + peptide_data.id + '_alt')\n",
    "        data.translocation[alt_pathway] = 1\n",
    "        \n",
    "        if compartment != 'Periplasm':\n",
    "            mass = peptide_data.mass\n",
    "            data.surface_area['SA_protein_' + compartment] = (1.21 / 42. * 2.) * mass * 1000.\n",
    "        \n",
    "        rxn.posttranslation_data =  data\n",
    "        me.add_reaction(rxn)\n",
    "        rxn.update()"
   ]
  },
  {
   "cell_type": "code",
   "execution_count": null,
   "metadata": {
    "collapsed": false
   },
   "outputs": [],
   "source": [
    "# Update stoichiometry of membrane complexes\n",
    "new_stoich = defaultdict(dict)\n",
    "for cplx, row in transloc.set_index('Complex').iterrows():\n",
    "    protein = row.Protein.split('(')[0] + '_' + row.Protein_compartment\n",
    "    value = row.Protein.split('(')[1][:-1].split(':')[0]\n",
    "    new_stoich[cplx]['protein_' + protein] = float(value)\n"
   ]
  },
  {
   "cell_type": "code",
   "execution_count": null,
   "metadata": {
    "collapsed": false
   },
   "outputs": [],
   "source": [
    "for cplx, stoich in new_stoich.items():\n",
    "    complex_data = me.complex_data.get_by_id(cplx)\n",
    "    for met, value in stoich.items():\n",
    "        complex_data.stoichiometry.pop(met[0:13])\n",
    "        complex_data.stoichiometry[met] = value\n",
    "    me.reactions.get_by_id('formation_' + cplx).update()"
   ]
  },
  {
   "cell_type": "markdown",
   "metadata": {},
   "source": [
    "## Add lipoprotein formation"
   ]
  },
  {
   "cell_type": "code",
   "execution_count": null,
   "metadata": {
    "collapsed": false
   },
   "outputs": [],
   "source": [
    "compartment_dict = {}\n",
    "for prot, compartment in transloc.set_index('Protein').Protein_compartment.to_dict().items():\n",
    "    compartment_dict[prot.split('(')[0]] = compartment"
   ]
  },
  {
   "cell_type": "code",
   "execution_count": null,
   "metadata": {
    "collapsed": false
   },
   "outputs": [],
   "source": [
    "precursor_list_LIU = {'AcrA': 'b0463' ,'AcrE':'b3265' ,'BamB': 'b2512','BamC':'b2477' ,'BamD': 'b2595','BamE':'b2617',\n",
    "                      'CusC': 'b0572', 'EG10544-MONOMER': 'b1677','EmtA': 'b1193','LolB': 'b1209', 'MetQ':'b0197',\n",
    "                      'MltA': 'b2813','MltB': 'b2701','MltC':'b2963' }\n",
    "\n",
    "lipid_mod_jliu = ['pg120_p','pg141_p','pg140_p','pg181_p', 'pg161_p','pg160_p','pg180_p']\n",
    "\n",
    "for lipid in lipid_mod_jliu:\n",
    "    data = ModificationData('mod_' + lipid, me)\n",
    "    data.stoichiometry = {lipid: -1, 'g3p_c': 1}\n",
    "    data.enzyme = ['Lgt_MONOMER', 'LspA_MONOMER']\n",
    "\n",
    "data = ModificationData('mod2_pg160_p', me)\n",
    "data.stoichiometry = {'pg160_p': -1, '2agpg160_p': 1}\n",
    "data.enzyme = 'EG10168-MONOMER'\n",
    "\n",
    "data = ModificationData('mod2_pe160_p', me)\n",
    "data.stoichiometry = {'pe160_p': -1, '2agpe160_p': 1}\n",
    "data.enzyme = 'EG10168-MONOMER'\n",
    "    \n",
    "for protein in precursor_list_LIU.values():\n",
    "    compartment = compartment_dict.get(protein)\n",
    "    protein_met = me.metabolites.get_by_id('protein_' + protein)\n",
    "    mass = protein_met.mass\n",
    "        \n",
    "    for mod in lipid_mod_jliu:\n",
    "        data = PostTranslationData(protein + '_lipid_modification_' + mod + '_pg160', me,\n",
    "                                  'protein_' + protein + '_lipoprotein_' + compartment,\n",
    "                                   'protein_' + protein + '_' + compartment)\n",
    "        data.modifications['mod_' + mod] = 1\n",
    "        data.modifications['mod2_pg160_p'] = 1\n",
    "        \n",
    "        data.surface_area = {'SA_protein_' + compartment: -(1.21 / 42. * 2)*mass,\n",
    "                             'SA_lipoprotein': 100.}\n",
    "        \n",
    "        rxn = PostTranslationReaction(protein + '_lipid_modification_' + mod + '_pg160')\n",
    "        me.add_reaction(rxn)\n",
    "        rxn.posttranslation_data = data\n",
    "        rxn.update()\n",
    "        \n",
    "        data = PostTranslationData(protein + '_lipid_modification_' + mod + '_pe160', me,\n",
    "                                  'protein_' + protein + '_lipoprotein_' + compartment,\n",
    "                                   'protein_' + protein + '_' + compartment)\n",
    "        data.modifications['mod_' + mod] = 1\n",
    "        data.modifications['mod2_pe160_p'] = 1\n",
    "        \n",
    "        \n",
    "        data.surface_area = {'SA_protein_' + compartment: -(1.21/42. * 2) * mass,\n",
    "                             'SA_lipoprotein': 100.}\n",
    "        \n",
    "        rxn = PostTranslationReaction(protein + '_lipid_modification_' + mod + '_pe160')\n",
    "        me.add_reaction(rxn)\n",
    "        rxn.posttranslation_data = data\n",
    "        rxn.update()"
   ]
  },
  {
   "cell_type": "code",
   "execution_count": null,
   "metadata": {
    "collapsed": true
   },
   "outputs": [],
   "source": [
    "# Correct complex formation IDs\n",
    "for gene in precursor_list_LIU.values():\n",
    "    compartment = compartment_dict.get(gene)\n",
    "    for rxn in me.metabolites.get_by_id('protein_' + gene + '_' + compartment).reactions:\n",
    "        if isinstance(rxn, ComplexFormation):\n",
    "            data = me.complex_data.get_by_id(rxn.complex_data_id)\n",
    "            value = data.stoichiometry.pop('protein_' + gene + '_' + compartment)\n",
    "            data.stoichiometry['protein_' + gene + '_lipoprotein' + '_' + compartment] = value\n",
    "            rxn.update()"
   ]
  },
  {
   "cell_type": "code",
   "execution_count": null,
   "metadata": {
    "collapsed": false
   },
   "outputs": [],
   "source": [
    "met = me.metabolites.get_by_id('kdo2lipid4_e')\n",
    "component_mass = met.formula_weight / 1000.\n",
    "rxn = MetabolicReaction('Demand_' + met.id)\n",
    "me.add_reaction(rxn)\n",
    "\n",
    "data = StoichiometricData(rxn.id,me)\n",
    "data.stoichiometry.update({met.id : -1., 'SA_lps': 121.2})\n",
    "data.lower_bound = 0\n",
    "data.upper_bound = 1000\n",
    "rxn.stoichiometric_data = data\n",
    "rxn.update()"
   ]
  },
  {
   "cell_type": "code",
   "execution_count": null,
   "metadata": {
    "collapsed": false
   },
   "outputs": [],
   "source": [
    "me.add_metabolites(Constraint('SA_lps'))\n",
    "\n",
    "component_biomass_met = Constraint('component_demand_biomass')\n",
    "me.add_metabolites([component_biomass_met])\n",
    "\n",
    "rxn = SummaryVariable('core_structural_demand_brauns')\n",
    "met1 = me.metabolites.get_by_id('murein5px4p_p')\n",
    "met1_mass = met1.formula_weight / 1000.\n",
    "met2 = me.metabolites.get_by_id('protein_b1677_lipoprotein_Outer_Membrane')\n",
    "met2_mass = met2.formula_weight / 1000.\n",
    "me.add_reaction(rxn)\n",
    "rxn.add_metabolites({met1 : -0.013894, met2: -0.003597, 'component_demand_biomass':(0.013894 * met1_mass + \n",
    "                                                                                    0.003597 * met2_mass)},\n",
    "                    combine=False)\n",
    "rxn.lower_bound = mu\n",
    "rxn.upper_bound = mu\n"
   ]
  },
  {
   "cell_type": "markdown",
   "metadata": {},
   "source": [
    "## Add lipid surface area/demands"
   ]
  },
  {
   "cell_type": "code",
   "execution_count": null,
   "metadata": {
    "collapsed": false
   },
   "outputs": [],
   "source": [
    "# Growth dependent surface area from Liu et al 2014\n",
    "SA_mu= (0.456 * math.pi * (2 ** (mu * (math.log(2)) / 3))) * (\n",
    "(3.9 * (2 ** (mu * (math.log(2)) / 3))) - (\n",
    "0.456 * (2 ** (mu * (math.log(2)) / 3)))) + (0.9122 * math.pi * (\n",
    "2 ** (mu * (math.log(2)) / 3))) ** 2"
   ]
  },
  {
   "cell_type": "code",
   "execution_count": null,
   "metadata": {
    "collapsed": false
   },
   "outputs": [],
   "source": [
    "me.add_metabolites([Constraint('SA_pg')])\n",
    "me.add_metabolites([Constraint('SA_pe')])\n",
    "me.add_metabolites([Constraint('SA_clpn')])\n",
    "\n",
    "for met in ijo.reactions.Ec_biomass_iJO1366_WT_53p95M.metabolites:\n",
    "    component_mass = met.formula_weight / 1000.\n",
    "    if 'pg1' in met.id:\n",
    "        rxn = Reaction('Demand_' + met.id)\n",
    "        me.add_reaction(rxn)\n",
    "        rxn.add_metabolites({met.id: -1, 'SA_pg': 50., 'component_demand_biomass': component_mass})\n",
    "    elif 'pe1' in met.id:\n",
    "        rxn = Reaction('Demand_' + met.id)\n",
    "        me.add_reaction(rxn)\n",
    "        rxn.add_metabolites({met.id: -1, 'SA_pe': 50., 'component_demand_biomass': component_mass})\n",
    "    elif 'clpn' in met.id:\n",
    "        rxn = Reaction('Demand_' + met.id)\n",
    "        me.add_reaction(rxn)\n",
    "        rxn.add_metabolites({met.id: -1, 'SA_clpn': 100., 'component_demand_biomass': component_mass})"
   ]
  },
  {
   "cell_type": "code",
   "execution_count": null,
   "metadata": {
    "collapsed": false
   },
   "outputs": [],
   "source": [
    "me.add_metabolites([Constraint('SA')])\n",
    "me.add_metabolites([Constraint('SA_lipid')])\n",
    "me.add_metabolites([Constraint('SA_protein')])\n",
    "\n",
    "rxn = Reaction('lipid_demand')\n",
    "me.add_reaction(rxn)\n",
    "rxn.add_metabolites({'SA_pe': -.77, 'SA_pg': -.18, 'SA_clpn': -.05, 'SA_lipid': 1})\n",
    "\n",
    "rxn = Reaction('protein_Inner_Membrane_SA_demand')\n",
    "me.add_reaction(rxn)\n",
    "rxn.add_metabolites({'SA_protein_Inner_Membrane': -1, 'SA_protein': 1})\n",
    "\n",
    "rxn = Reaction('protein_Outer_Membrane_SA_demand')\n",
    "me.add_reaction(rxn)\n",
    "rxn.add_metabolites({'SA_protein_Outer_Membrane': -1, 'SA_protein': 1})\n",
    "\n",
    "rxn = Reaction('lipoprotein_demand')\n",
    "me.add_reaction(rxn)\n",
    "rxn.add_metabolites({'SA_lipoprotein': -1, 'SA_protein': 1})\n",
    "\n",
    "for const in ['SA_protein', 'SA_lipid', 'SA_lps']:\n",
    "    rxn = Reaction(const + '_to_SA')\n",
    "    me.add_reaction(rxn)\n",
    "    rxn.add_metabolites({const: -1, 'SA': 1})\n",
    "\n",
    "rxn = Reaction('SA_demand')\n",
    "me.add_reaction(rxn)\n",
    "rxn.add_metabolites({'SA': -1})\n",
    "rxn.lower_bound = 0. #4. * SA_mu \n",
    "rxn.upper_bound = 4. * SA_mu"
   ]
  },
  {
   "cell_type": "markdown",
   "metadata": {},
   "source": [
    "## Make RNA splicing machinery"
   ]
  },
  {
   "cell_type": "code",
   "execution_count": null,
   "metadata": {
    "collapsed": false,
    "scrolled": true
   },
   "outputs": [],
   "source": [
    "excision_types = ['rRNA_containing', 'monocistronic',\n",
    "                  'polycistronic_wout_rRNA']\n",
    "for excision_type in excision_types:\n",
    "    complex_data =  ComplexData(excision_type + \"_excision_machinery\", me)\n",
    "    complex_data.stoichiometry = {i: 1 for i in ecoli_k12.excision_machinery[excision_type]}\n",
    "    complex_data.create_complex_formation()\n",
    "    modification = ModificationData(excision_type + \"_excision\", me)\n",
    "    modification.stoichiometry = {'h2o_c': -1, 'h_c': 1}\n",
    "    modification.enzyme = complex_data.id\n",
    "\n",
    "for t in me.transcription_data:\n",
    "    n_excised = sum(t.excised_bases.values())\n",
    "    n_cuts = len(t.RNA_products) * 2\n",
    "    if n_excised == 0 or n_cuts == 0:\n",
    "        continue\n",
    "    RNA_types = list(t.RNA_types)\n",
    "    n_tRNA = RNA_types.count(\"tRNA\")\n",
    "    \n",
    "    if \"rRNA\" in set(RNA_types):\n",
    "        t.modifications[\"rRNA_containing_excision\"] = n_cuts\n",
    "    elif n_tRNA == 1:\n",
    "        t.modifications[\"monocistronic_excision\"] = n_cuts\n",
    "    elif n_tRNA > 1:\n",
    "        t.modifications[\"polycistronic_wout_rRNA_excision\"] = n_cuts\n",
    "    else:  # only applies to rnpB\n",
    "        t.modifications[\"monocistronic_excision\"] = n_cuts"
   ]
  },
  {
   "cell_type": "code",
   "execution_count": null,
   "metadata": {
    "collapsed": false
   },
   "outputs": [],
   "source": [
    "# moved from building (E. coli specific)\n",
    "# add transcription machinery based on contained RNA types\n",
    "# info added in buidling however\n",
    "for transcription_data in me.transcription_data:\n",
    "    if transcription_data.rho_dependent:\n",
    "        rho = 'dependent'\n",
    "    else:\n",
    "        rho = 'independent'\n",
    "    if transcription_data.codes_stable_rna:\n",
    "        stable = 'stable'\n",
    "    else:\n",
    "        stable = 'normal'\n",
    "\n",
    "    transcription_data.subreactions['Transcription_%s_rho_%s' % (stable,\n",
    "                                                                 rho)] = 1"
   ]
  },
  {
   "cell_type": "markdown",
   "metadata": {},
   "source": [
    "## Add Protein Folding Reactions\n",
    "### Uncomment the following cells to add in the chaperone network. If left commented, protein folding will be added as in iOL1650"
   ]
  },
  {
   "cell_type": "markdown",
   "metadata": {},
   "source": [
    "$$\n",
    "\\textbf{Enzymatic Efficiency Coupling}\\\\\n",
    "\\textrm{a + enzyme} \\xrightarrow{v1} \\alpha \\cdot \\textrm{coupling + enzyme + b}\\\\\n",
    "\\\\\n",
    "\\textrm{a} \\xrightarrow{v1} \\alpha  \\cdot \\textrm{coupling + b}\\\\\n",
    "\\\\\n",
    "\\textrm{coupling + enzyme} \\xrightarrow{\\alpha * v1} \\emptyset \\Rightarrow \\alpha * \\textrm{coupling} + \\alpha * \\textrm{enzyme} \\xrightarrow{v1} \\emptyset\n",
    "\\\\\n",
    "\\\n",
    "\\\\\n",
    "\\textbf{Folding Coupling}\n",
    "\\\\\n",
    "\\textrm{unfolded} \\xrightarrow{v1} \\textrm{coupling + unfolded}\\\\\n",
    "\\\\\n",
    "\\textrm{unfolded} + \\alpha \\cdot \\textrm{coupling} \\xrightarrow{\\frac{1}{\\alpha} \\cdot v1} \\textrm{folded} \\Rightarrow \\frac{1}{\\alpha} \\textrm{unfolded} + \\textrm{coupling} \\xrightarrow{v1} \\frac{1}{\\alpha} \\textrm{folded}\n",
    "\\\\\n",
    "(1 + \\frac{1}{\\alpha})\\textrm{unfolded} \\xrightarrow{v1} \\textrm{unfolded} + \\frac{1}{\\alpha} \\textrm{folded}\n",
    "$$"
   ]
  },
  {
   "cell_type": "raw",
   "metadata": {
    "collapsed": true
   },
   "source": [
    "rxn = Reaction('cisGroES_to_transGroES')\n",
    "me.add_reaction(rxn)\n",
    "rxn.add_metabolites({'cisGroES_hepta': -1, 'transGroES_hepta': 1})\n",
    "rxn.lower_bound = -1000.\n",
    "\n",
    "mod = ModificationData('mod_adp_c', me)\n",
    "mod.stoichiometry = {'adp_c': -1.0}\n",
    "\n",
    "data = ComplexData('[GroL]14[GroS]7_cis_with_7_adp_and_7_mg2', me)\n",
    "data.stoichiometry = {'GroL_14': 1., 'cisGroES_hepta': 1.}\n",
    "data.modifications = {'mod_adp_c': 7., 'mod_mg2_c': 7.}\n",
    "data.create_complex_formation()\n",
    "\n",
    "chaperones.add_chaperone_subreactions(me)\n",
    "chaperones.add_chaperone_network(me)\n",
    "\n",
    "# Update stoichiometries of complexes to the folded version of the proteins,\n",
    "# if they are not membrane/periplasm proteins\n",
    "for data in list(me.complex_data):\n",
    "    for key in data.stoichiometry:\n",
    "        if key == 'protein_dummy':\n",
    "            continue\n",
    "        if key.endswith('Membrane') or key.endswith('Periplasm'):\n",
    "            continue\n",
    "        if key.startswith('protein_') and not key.endswith('_folded'):\n",
    "            value = data.stoichiometry.pop(key)\n",
    "            data.stoichiometry[key + '_folded'] = value\n",
    "            \n",
    "for data in me.complex_data:\n",
    "    data.formation.update()"
   ]
  },
  {
   "cell_type": "markdown",
   "metadata": {},
   "source": [
    "### Set GAM and NGAM"
   ]
  },
  {
   "cell_type": "code",
   "execution_count": null,
   "metadata": {
    "collapsed": true
   },
   "outputs": [],
   "source": [
    "me.stoichiometric_data.ATPM.lower_bound = 1. #10.33 # NGAM from iML1515"
   ]
  },
  {
   "cell_type": "code",
   "execution_count": null,
   "metadata": {
    "collapsed": false
   },
   "outputs": [],
   "source": [
    "GAM = 1. #35. # Reduced gam from 35 as in iOL\n",
    "gam_components = {\n",
    "    \"atp_c\": -1 * GAM,\n",
    "    \"h2o_c\": -1 * GAM,\n",
    "    \"adp_c\": 1 * GAM,\n",
    "    \"h_c\": 1 * GAM,\n",
    "    \"pi_c\": 1 * GAM,}\n",
    "biomass_components = {\n",
    "    \"glycogen_c\": -.023 / (me.metabolites.glycogen_c.formula_weight / 1000.),\n",
    "    # cell wall\n",
    "    #'murein5px4p_p': -0.01389,\n",
    "    #'kdo2lipid4_e': -0.01945,\n",
    "    #'pe160_c': -0.01786,\n",
    "    #'pe160_p': -0.04594,\n",
    "    #'pe161_c': -0.02105,\n",
    "    #'pe161_p': -0.05415    \n",
    "}\n",
    "\n",
    "\n",
    "rxn = SummaryVariable('biomass_component_demand')\n",
    "met = Constraint('component_demand_biomass')\n",
    "me.add_reaction(rxn)\n",
    "rxn.add_metabolites(biomass_components)\n",
    "rxn.add_metabolites(gam_components)\n",
    "component_mass = sum(me.metabolites.get_by_id(c).formula_weight / 1000. * -v\n",
    "                     for c, v in biomass_components.items())\n",
    "rxn.lower_bound = mu\n",
    "rxn.upper_bound = mu\n",
    "me.reactions.biomass_component_demand.add_metabolites({met: component_mass})\n",
    "\n",
    "rxn = SummaryVariable('biomass_component_dilution')\n",
    "me.add_reaction(rxn)\n",
    "rxn.add_metabolites({met: -1, me._biomass: 1})"
   ]
  },
  {
   "cell_type": "markdown",
   "metadata": {},
   "source": [
    "## Adjust other reaction parameters"
   ]
  },
  {
   "cell_type": "code",
   "execution_count": null,
   "metadata": {
    "collapsed": false
   },
   "outputs": [],
   "source": [
    "me.reactions.dummy_reaction_FWD_CPLX_dummy.objective_coefficient = 1.\n",
    "me.reactions.EX_glc__D_e.lower_bound = -1000\n",
    "# Turn off reactions that throw off results as in iOL\n",
    "KO_list = ['DHPTDNR','DHPTDNRN', 'SUCASPtpp','SUCFUMtpp', 'SUCMALtpp', 'SUCTARTtpp', \n",
    "           'CAT', 'FHL', 'SPODM', 'SPODMpp']\n",
    "for reaction in KO_list:\n",
    "    data = me.stoichiometric_data.get_by_id(reaction)\n",
    "    data.lower_bound = 0\n",
    "    data.upper_bound = 0"
   ]
  },
  {
   "cell_type": "markdown",
   "metadata": {},
   "source": [
    "## Attempt to set keffs"
   ]
  },
  {
   "cell_type": "code",
   "execution_count": null,
   "metadata": {
    "collapsed": false
   },
   "outputs": [],
   "source": [
    "keff_list = []\n",
    "keffs = get_reaction_keffs(me, verbose=True)\n",
    "for reaction_id, keff in keffs.items():\n",
    "    keff_list.append(keff)\n",
    "    me.reactions.get_by_id(reaction_id).keff = keff\n",
    "    me.reactions.get_by_id(reaction_id).update()"
   ]
  },
  {
   "cell_type": "code",
   "execution_count": null,
   "metadata": {
    "collapsed": true
   },
   "outputs": [],
   "source": [
    "# Keffs that were not set in the above cell\n",
    "me.subreaction_data.N_terminal_methionine_cleavage.keff = 1339.4233102860871\n",
    "me.subreaction_data.peptide_deformylase_processing.keff = 1019.5963333345715\n",
    "me.reactions.get_by_id('GLUTRR_FWD_CPLX0-3741').keff = 3269.0108007383374\n",
    "me.subreaction_data.fmet_addition_at_START.keff = 1540.4356849968603\n",
    "me.subreaction_data.ribosome_recycler.keff = 1059.6910912619182\n",
    "me.subreaction_data.UAG_PrfA_mono_mediated_termination.keff = 1721.7910609284945\n",
    "me.subreaction_data.UGA_PrfB_mono_mediated_termination.keff = 1700.2966587695353\n",
    "me.subreaction_data.UAA_generic_RF_mediated_termination.keff = 1753.4238515034572"
   ]
  },
  {
   "cell_type": "code",
   "execution_count": null,
   "metadata": {
    "collapsed": true
   },
   "outputs": [],
   "source": [
    "# TODO: Keffs that should be examined closer. They are important for acetate overflow metabolism\n",
    "me.reactions.get_by_id('EDD_FWD_PGLUCONDEHYDRAT-MONOMER').keff = 47.8501564234601\n",
    "me.reactions.get_by_id('EDD_FWD_PGLUCONDEHYDRAT-MONOMER').update()\n",
    "\n",
    "glycolysis_list = ['PFK', 'FBA', 'PGK', 'PGM']\n",
    "for rxn in glycolysis_list:\n",
    "    for me_rxn in me.stoichiometric_data.get_by_id(rxn).parent_reactions:\n",
    "        me_rxn.keff = 106. #new average\n",
    "        me_rxn.update()\n",
    "        \n",
    "TCA_list = ['CS', 'ACONTa', 'ACONTb', 'ICDHyr', 'AKGDH']\n",
    "for rxn in TCA_list:\n",
    "    for me_rxn in me.stoichiometric_data.get_by_id(rxn).parent_reactions:\n",
    "        me_rxn.keff = 400. \n",
    "        me_rxn.update()"
   ]
  },
  {
   "cell_type": "raw",
   "metadata": {
    "collapsed": false
   },
   "source": [
    "import statistics\n",
    "SASA_list = []\n",
    "for rxn in me.reactions:\n",
    "    if hasattr(rxn, 'keff'):\n",
    "        try:\n",
    "            weight = rxn.complex_data.complex.formula_weight\n",
    "            SASA = weight ** (3./4.)\n",
    "            if SASA == 0:\n",
    "                print rxn, weight\n",
    "            else:\n",
    "                SASA_list.append(SASA)\n",
    "        except:\n",
    "            pass\n",
    "avg_SASA = statistics.mean(SASA_list)\n",
    "\n",
    "\n",
    "\n",
    "# redo scaling average SASA to 65.\n",
    "for rxn in me.reactions:\n",
    "    if hasattr(rxn, 'keff'):\n",
    "        try:\n",
    "            weight = rxn.complex_data.complex.formula_weight\n",
    "            SASA = weight ** (3./4.)\n",
    "            if SASA == 0:\n",
    "                SASA = avg_SASA\n",
    "            rxn.keff = SASA * 65./avg_SASA\n",
    "            rxn.update()\n",
    "        except:\n",
    "            pass"
   ]
  },
  {
   "cell_type": "code",
   "execution_count": null,
   "metadata": {
    "collapsed": false
   },
   "outputs": [],
   "source": [
    "# Add NDH flux split constraint\n",
    "for rxn in me.metabolites.get_by_id('NADH-DHII-MONOMER_mod_mg2_mod_cu_mod_fad').metabolic_reactions:\n",
    "    rxn.stoichiometric_data.stoichiometry['ndh2_constraint'] = 1\n",
    "    rxn.update()\n",
    "for rxn in me.metabolites.get_by_id('NADH-DHI-CPLX_mod_2fe2s_mod_4fe4s_mod_fmn').metabolic_reactions:\n",
    "    rxn.stoichiometric_data.stoichiometry['ndh1_constraint'] = 1\n",
    "    rxn.update()\n",
    "rxn = cobra.Reaction('ndh_flux_split_constraint')\n",
    "me.add_reaction(rxn)\n",
    "rxn.reaction = 'ndh1_constraint + ndh2_constraint ->'"
   ]
  },
  {
   "cell_type": "markdown",
   "metadata": {},
   "source": [
    "## Clean up and update everything"
   ]
  },
  {
   "cell_type": "code",
   "execution_count": null,
   "metadata": {
    "collapsed": false
   },
   "outputs": [],
   "source": [
    "# RNA_dummy, TU_b3247, TU_b3705 do not have RNAP, this is set as the most common complex\n",
    "for data in me.transcription_data:\n",
    "    if len(data.RNA_polymerase) == 0:\n",
    "        data.RNA_polymerase = 'RNAP70-CPLX'"
   ]
  },
  {
   "cell_type": "code",
   "execution_count": null,
   "metadata": {
    "collapsed": false,
    "scrolled": false
   },
   "outputs": [],
   "source": [
    "me.update()\n",
    "#with open(\"full_model_53.pickle\", \"wb\") as outfile:\n",
    "#    cPickle.dump(me, outfile)\n",
    "me.prune()"
   ]
  },
  {
   "cell_type": "code",
   "execution_count": null,
   "metadata": {
    "collapsed": false,
    "scrolled": false
   },
   "outputs": [],
   "source": [
    "n_genes = len(me.metabolites.query(re.compile('RNA_b[0-9]')))\n",
    "print(\"number of genes in the model %d (%.2f%%)\" % (n_genes, n_genes * 100. / (1678)))"
   ]
  },
  {
   "cell_type": "markdown",
   "metadata": {},
   "source": [
    "## Solve"
   ]
  },
  {
   "cell_type": "markdown",
   "metadata": {},
   "source": [
    "Save for future recomputation"
   ]
  },
  {
   "cell_type": "code",
   "execution_count": null,
   "metadata": {
    "collapsed": false
   },
   "outputs": [],
   "source": [
    "expressions = compile_expressions(me)"
   ]
  },
  {
   "cell_type": "code",
   "execution_count": null,
   "metadata": {
    "collapsed": true
   },
   "outputs": [],
   "source": [
    "with open(\"prototype_56_chaperone.pickle\", \"wb\") as outfile:\n",
    "    cPickle.dump(me, outfile)\n",
    "with open(\"prototype_56_chaperone_expressions.pickle\", \"wb\") as outfile:\n",
    "    cloudpickle.dump(expressions, outfile)"
   ]
  },
  {
   "cell_type": "code",
   "execution_count": null,
   "metadata": {
    "collapsed": false,
    "scrolled": true
   },
   "outputs": [],
   "source": [
    "binary_search(me, compiled_expressions=expressions, debug=True,\n",
    "              min_mu = .1, max_mu = .7, mu_accuracy=1e-4)"
   ]
  },
  {
   "cell_type": "code",
   "execution_count": null,
   "metadata": {
    "collapsed": false
   },
   "outputs": [],
   "source": [
    "print 'ME model RNA to Protein ratio:', me.RNA_to_protein_ratio()\n",
    "\n",
    "RNA_prot = lambda x: x/4.5 + 0.087 \n",
    "print 'Measured RNA to Protein ratio:', RNA_prot(me.solution.f)"
   ]
  },
  {
   "cell_type": "code",
   "execution_count": null,
   "metadata": {
    "collapsed": false,
    "scrolled": true
   },
   "outputs": [],
   "source": [
    "%matplotlib notebook\n",
    "me.make_biomass_composition_piechart()"
   ]
  },
  {
   "cell_type": "code",
   "execution_count": null,
   "metadata": {
    "collapsed": false
   },
   "outputs": [],
   "source": [
    "for rxn in me.reactions.query('EX_'):\n",
    "    if rxn.x != 0:\n",
    "        print rxn, rxn.x"
   ]
  },
  {
   "cell_type": "code",
   "execution_count": null,
   "metadata": {
    "collapsed": false
   },
   "outputs": [],
   "source": [
    "import numpy as np\n",
    "glucose = np.linspace(10, 4.5, 100)\n",
    "for gluc in glucose:\n",
    "    me.reactions.EX_glc__D_e.lower_bound = -gluc\n",
    "    sol = binary_search(me, compiled_expressions=expressions, debug=True, min_mu = .7, max_mu = 1., mu_accuracy=1e-4)\n",
    "    with open('../../Desktop/me_solution/glucose_%s_sol.pickle' % str(gluc), 'wb') as f:\n",
    "        cPickle.dump(sol, f)"
   ]
  },
  {
   "cell_type": "code",
   "execution_count": null,
   "metadata": {
    "collapsed": true
   },
   "outputs": [],
   "source": [
    "sol1 = me.solution.x_dict.copy()"
   ]
  },
  {
   "cell_type": "code",
   "execution_count": null,
   "metadata": {
    "collapsed": false
   },
   "outputs": [],
   "source": [
    "for rxn in me.reactions.query(re.compile('^EX_')):\n",
    "    if rxn.x != 0:\n",
    "        print rxn, rxn.x"
   ]
  },
  {
   "cell_type": "code",
   "execution_count": null,
   "metadata": {
    "collapsed": false,
    "scrolled": false
   },
   "outputs": [],
   "source": [
    "import escher\n",
    "view = escher.Builder(\"iJO1366.Central metabolism\")\n",
    "view.reaction_data = me.get_metabolic_flux()\n",
    "view.display_in_notebook()"
   ]
  },
  {
   "cell_type": "code",
   "execution_count": null,
   "metadata": {
    "collapsed": false
   },
   "outputs": [],
   "source": [
    "me.RNA_to_protein_ratio()"
   ]
  },
  {
   "cell_type": "code",
   "execution_count": null,
   "metadata": {
    "collapsed": true
   },
   "outputs": [],
   "source": []
  }
 ],
 "metadata": {
  "kernelspec": {
   "display_name": "Python 2",
   "language": "python",
   "name": "python2"
  },
  "language_info": {
   "codemirror_mode": {
    "name": "ipython",
    "version": 2
   },
   "file_extension": ".py",
   "mimetype": "text/x-python",
   "name": "python",
   "nbconvert_exporter": "python",
   "pygments_lexer": "ipython2",
   "version": "2.7.6"
  }
 },
 "nbformat": 4,
 "nbformat_minor": 0
}
