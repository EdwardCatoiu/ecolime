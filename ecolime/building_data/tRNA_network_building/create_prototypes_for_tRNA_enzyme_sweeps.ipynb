{
 "cells": [
  {
   "cell_type": "raw",
   "metadata": {},
   "source": [
    "input :  \n",
    "me model with no trna/tRNA modifications, no ribosome\n",
    "me model prior to me.update() and me.prune()\n",
    "\n",
    "goal:\n",
    "will systematically introduce modifications into the prototype and then solve\n",
    "\n",
    "1/20/2017\n",
    "\n",
    "USE ENZYMES!!!!\n"
   ]
  },
  {
   "cell_type": "code",
   "execution_count": 1,
   "metadata": {
    "collapsed": false
   },
   "outputs": [
    {
     "name": "stderr",
     "output_type": "stream",
     "text": [
      "/usr/local/lib/python2.7/dist-packages/matplotlib/font_manager.py:273: UserWarning: Matplotlib is building the font cache using fc-list. This may take a moment.\n",
      "  warnings.warn('Matplotlib is building the font cache using fc-list. This may take a moment.')\n"
     ]
    }
   ],
   "source": [
    "# python imports\n",
    "import re\n",
    "import json\n",
    "from os.path import join\n",
    "import cPickle\n",
    "import numpy as np\n",
    "import math\n",
    "import itertools\n",
    "\n",
    "# third party imports\\\n",
    "import pandas\n",
    "import escher\n",
    "import cloudpickle\n",
    "\n",
    "# ecoli me\n",
    "import ecolime\n",
    "from ecolime.flat_files import *\n",
    "from ecolime.ecoli_k12 import *\n",
    "from ecolime import (ribosome, tRNA_charging, transcription, translocation, \n",
    "                     chaperones, DNA_replication, translation)\n",
    "from ecolime.characterization.biomass_allocation import get_membrane_composition, get_membrane_protein\n",
    "\n",
    "from cobrame import *\n",
    "from cobrame.util import building, dogma\n",
    "from cobrame.util.mass import compute_RNA_mass\n",
    "from cobrame.solve.algorithms import binary_search, fva, solve_at_growth_rate\n",
    "from cobrame.solve.symbolic import compile_expressions\n",
    "\n",
    "from cloudpickle import load\n",
    "import cPickle\n",
    "\n",
    "from cobrame import ComplexData, TranscribedGene, ModificationData\n",
    "from cobrame.util.building import add_modification_data\n",
    "\n",
    "import cobra\n",
    "import copy\n",
    "from copy import deepcopy\n",
    "from tqdm import tqdm\n",
    "import pandas as pd"
   ]
  },
  {
   "cell_type": "code",
   "execution_count": 2,
   "metadata": {
    "collapsed": false
   },
   "outputs": [],
   "source": [
    "def find_trna_enzymes():\n",
    "    \"\"\"\n",
    "    finds all enzymes used in tRNA modifications\n",
    "    \"\"\"\n",
    "    results_list = []\n",
    "    for tRNA_modification in tRNA_charging.trna_modification:\n",
    "        tRNA_enzyme_list = tRNA_charging.trna_modification[tRNA_modification]['machines'] \n",
    "        \n",
    "        \n",
    "        for tRNA_enzyme in tRNA_enzyme_list:\n",
    "            if tRNA_enzyme not in results_list and tRNA_enzyme != None :\n",
    "                results_list.append(tRNA_enzyme)\n",
    "    return results_list\n",
    "#find_trna_enzymes()"
   ]
  },
  {
   "cell_type": "code",
   "execution_count": 3,
   "metadata": {
    "collapsed": false
   },
   "outputs": [],
   "source": [
    "#needs to be changed to reflect individual cases for each sweep\n",
    "#needs to be modified for tRNA_enzyme_KO\n",
    "def create_tRNA_modification_data(me, type_tRNA_enzyme_sweep = False, tRNA_enzyme_KO = False):\n",
    "    for mod, components in get_tRNA_modification_procedures(type_tRNA_enzyme_sweep, tRNA_enzyme_KO).items():\n",
    "        tRNA_mod = ModificationData(mod, me)\n",
    "\n",
    "        tRNA_mod.enzyme = components['machines']\n",
    "        tRNA_mod.stoichiometry = components['metabolites']\n",
    "        tRNA_mod.keff = 65. # iOL uses 65 for all tRNA mods\n",
    "        if 'carriers' in components.keys():\n",
    "            for carrier, stoich in components['carriers'].items():\n",
    "                if stoich < 0:\n",
    "                    tRNA_mod.enzyme += [carrier]\n",
    "                tRNA_mod.stoichiometry[carrier] = stoich\n",
    "                #adds carriers as metabolites\n",
    "                #adds carriers as enzymes if stoich < 0 \n",
    "\n",
    "    # tRNA_modifications = {tRNA_id: {modifications: count}}\n",
    "    tRNA_modifications = get_tRNA_modification_targets(type_tRNA_enzyme_sweep, tRNA_enzyme_KO)\n",
    "    for tRNA in tRNA_modifications:\n",
    "        for data in me.tRNA_data.query(tRNA):\n",
    "            data.modifications = tRNA_modifications[tRNA]\n",
    "    return me\n",
    "            \n",
    "\n",
    "#create_tRNA_modification_data()        \n",
    "        #assigns modifications to each tRNA_id (bnumber)"
   ]
  },
  {
   "cell_type": "code",
   "execution_count": null,
   "metadata": {
    "collapsed": false
   },
   "outputs": [],
   "source": [
    "def create_proto_for_enzyme_sweep(type_tRNA_enzyme_sweep = False, rRNA_modifications =  False):\n",
    "    from tqdm import tqdm\n",
    "    count = 0\n",
    "    for tRNA_enzyme_KO in tqdm(find_trna_enzymes()):\n",
    "        count = count + 1\n",
    "        print count,  tRNA_enzyme_KO\n",
    "        with open('../prototype_notebooks/RNA_sweep_control_prototypes/proto_65_NO_tRNA_mods_NO_rRNA_mods_NO_tRNA_data.pickle', 'rb') as f:\n",
    "            me = cPickle.load(f)\n",
    "\n",
    "        create_tRNA_modification_data(me, type_tRNA_enzyme_sweep, tRNA_enzyme_KO)\n",
    "\n",
    "\n",
    "        # rrna_modifications added later\n",
    "        ribosome.add_ribosome(me, verbose=False, rRNA_mods = rRNA_modifications) # <<<<<<<<<<<<<<----------rRNA mods go HERE\n",
    "        #RNA_mods = True adds the modifications\n",
    "        #me.reactions.formation_ribosome.reaction\n",
    "\n",
    "        # These should be coupled to translation not ribosome formation per iOL1650\n",
    "        Inf_modifications = ['Translation_initiation_factor_InfA', 'Translation_gtp_initiation_factor_InfB',\n",
    "                        'Translation_initiation_factor_InfC']\n",
    "        for sub in Inf_modifications:\n",
    "            me.complex_data.ribosome.modifications[sub] = 0\n",
    "            for data in me.translation_data:\n",
    "                data.modifications[sub]= -1\n",
    "\n",
    "        me.update()\n",
    "        me.prune()\n",
    "        \n",
    "        #MODIFY HERE TO CHANGe FOR POSITIVE/NEGATIVE\n",
    "        save_path = './tRNA_sweeps/tRNA_positive_enzyme_sweep/prototypes/'\n",
    "        filename = 'proto_65_tRNA_pos_enzyme_sweep_' + str(tRNA_enzyme_KO) + '_rRNA_mods_' + str(rRNA_modifications) + '.pickle'\n",
    "        \n",
    "        with open(save_path + filename, 'w') as outfile:\n",
    "            cPickle.dump(me, outfile)\n"
   ]
  },
  {
   "cell_type": "code",
   "execution_count": null,
   "metadata": {
    "collapsed": false,
    "scrolled": false
   },
   "outputs": [
    {
     "name": "stderr",
     "output_type": "stream",
     "text": [
      "  3%|▎         | 1/37 [01:56<1:09:54, 116.52s/it]"
     ]
    },
    {
     "name": "stdout",
     "output_type": "stream",
     "text": [
      "1 TmcA_mono\n",
      "2"
     ]
    },
    {
     "name": "stderr",
     "output_type": "stream",
     "text": [
      "\r",
      "  5%|▌         | 2/37 [03:54<1:08:16, 117.04s/it]"
     ]
    },
    {
     "name": "stdout",
     "output_type": "stream",
     "text": [
      " RlmN_mono_mod_1:4fe4s\n",
      "3"
     ]
    },
    {
     "name": "stderr",
     "output_type": "stream",
     "text": [
      "\r",
      "  8%|▊         | 3/37 [05:54<1:06:48, 117.89s/it]"
     ]
    },
    {
     "name": "stdout",
     "output_type": "stream",
     "text": [
      " TruB_mono\n",
      "4"
     ]
    },
    {
     "name": "stderr",
     "output_type": "stream",
     "text": [
      "\r",
      " 11%|█         | 4/37 [07:52<1:04:47, 117.79s/it]"
     ]
    },
    {
     "name": "stdout",
     "output_type": "stream",
     "text": [
      " MnmEG_cplx_mod_fad_mod_2:k\n",
      "5"
     ]
    },
    {
     "name": "stderr",
     "output_type": "stream",
     "text": [
      "\r",
      " 14%|█▎        | 5/37 [09:51<1:03:06, 118.31s/it]"
     ]
    },
    {
     "name": "stdout",
     "output_type": "stream",
     "text": [
      " trmL_dim\n",
      "6"
     ]
    },
    {
     "name": "stderr",
     "output_type": "stream",
     "text": [
      "\r",
      " 16%|█▌        | 6/37 [11:50<1:01:08, 118.33s/it]"
     ]
    },
    {
     "name": "stdout",
     "output_type": "stream",
     "text": [
      " TrmH_dim\n",
      "7"
     ]
    },
    {
     "name": "stderr",
     "output_type": "stream",
     "text": [
      "\r",
      " 19%|█▉        | 7/37 [13:49<59:16, 118.56s/it]  "
     ]
    },
    {
     "name": "stdout",
     "output_type": "stream",
     "text": [
      " YhhP_mono\n",
      "8"
     ]
    },
    {
     "name": "stderr",
     "output_type": "stream",
     "text": [
      "\r",
      " 22%|██▏       | 8/37 [15:50<57:43, 119.44s/it]"
     ]
    },
    {
     "name": "stdout",
     "output_type": "stream",
     "text": [
      " YccK_mono\n",
      "9"
     ]
    },
    {
     "name": "stderr",
     "output_type": "stream",
     "text": [
      "\r",
      " 24%|██▍       | 9/37 [17:48<55:32, 119.02s/it]"
     ]
    },
    {
     "name": "stdout",
     "output_type": "stream",
     "text": [
      " YbbB_dim\n",
      "10"
     ]
    },
    {
     "name": "stderr",
     "output_type": "stream",
     "text": [
      "\r",
      " 27%|██▋       | 10/37 [20:02<55:30, 123.33s/it]"
     ]
    },
    {
     "name": "stdout",
     "output_type": "stream",
     "text": [
      " YheLMN_cplx\n",
      "11"
     ]
    },
    {
     "name": "stderr",
     "output_type": "stream",
     "text": [
      "\r",
      " 30%|██▉       | 11/37 [22:15<54:46, 126.41s/it]"
     ]
    },
    {
     "name": "stdout",
     "output_type": "stream",
     "text": [
      " TrmU_mono\n",
      "12"
     ]
    },
    {
     "name": "stderr",
     "output_type": "stream",
     "text": [
      "\r",
      " 32%|███▏      | 12/37 [24:32<53:56, 129.45s/it]"
     ]
    },
    {
     "name": "stdout",
     "output_type": "stream",
     "text": [
      " TsaBCDE\n",
      "13"
     ]
    },
    {
     "name": "stderr",
     "output_type": "stream",
     "text": [
      "\r",
      " 35%|███▌      | 13/37 [27:10<55:17, 138.23s/it]"
     ]
    },
    {
     "name": "stdout",
     "output_type": "stream",
     "text": [
      " generic_Dus\n",
      "14"
     ]
    }
   ],
   "source": [
    "for rRNA_mod in [True, False]:\n",
    "    create_proto_for_enzyme_sweep(type_tRNA_enzyme_sweep = 'positive' , rRNA_modifications = rRNA_mod)"
   ]
  },
  {
   "cell_type": "markdown",
   "metadata": {},
   "source": [
    "# trouble shooting"
   ]
  },
  {
   "cell_type": "raw",
   "metadata": {},
   "source": [
    "from tqdm import tqdm\n",
    "count = 0\n",
    "tRNA_enzyme_KO = 'YhhP_mono'\n",
    "count = count + 1\n",
    "print count,  tRNA_enzyme_KO\n",
    "type_tRNA_enzyme_sweep = 'positive'\n",
    "rRNA_modifications = True\n",
    "with open('../prototype_notebooks/RNA_sweep_control_prototypes/proto_65_NO_tRNA_mods_NO_rRNA_mods_NO_tRNA_data.pickle', 'rb') as f:\n",
    "    me = cPickle.load(f)\n",
    "\n",
    "create_tRNA_modification_data(me, type_tRNA_enzyme_sweep, tRNA_enzyme_KO)\n",
    "\n",
    "\n",
    "# rrna_modifications added later\n",
    "ribosome.add_ribosome(me, verbose=False, rRNA_mods = rRNA_modifications) # <<<<<<<<<<<<<<----------rRNA mods go HERE\n",
    "#RNA_mods = True adds the modifications\n",
    "#me.reactions.formation_ribosome.reaction\n",
    "\n",
    "# These should be coupled to translation not ribosome formation per iOL1650\n",
    "Inf_modifications = ['Translation_initiation_factor_InfA', 'Translation_gtp_initiation_factor_InfB',\n",
    "                'Translation_initiation_factor_InfC']\n",
    "for sub in Inf_modifications:\n",
    "    me.complex_data.ribosome.modifications[sub] = 0\n",
    "    for data in me.translation_data:\n",
    "        data.modifications[sub]= -1\n",
    "\n",
    "me.update()\n",
    "me.prune()\n",
    "\n",
    "#MODIFY HERE TO CHANGe FOR POSITIVE/NEGATIVE\n",
    "save_path = './tRNA_sweeps/tRNA_positive_enzyme_sweep/prototypes/'\n",
    "filename = 'proto_65_tRNA_pos_enzyme_sweep_' + str(tRNA_enzyme_KO) + '_rRNA_mods_' + str(rRNA_modifications) + '.pickle'\n",
    "\n",
    "with open(save_path + filename, 'w') as outfile:\n",
    "    cPickle.dump(me, outfile)"
   ]
  },
  {
   "cell_type": "code",
   "execution_count": null,
   "metadata": {
    "collapsed": true
   },
   "outputs": [],
   "source": []
  }
 ],
 "metadata": {
  "kernelspec": {
   "display_name": "Python 2",
   "language": "python",
   "name": "python2"
  },
  "language_info": {
   "codemirror_mode": {
    "name": "ipython",
    "version": 2
   },
   "file_extension": ".py",
   "mimetype": "text/x-python",
   "name": "python",
   "nbconvert_exporter": "python",
   "pygments_lexer": "ipython2",
   "version": "2.7.6"
  }
 },
 "nbformat": 4,
 "nbformat_minor": 0
}
