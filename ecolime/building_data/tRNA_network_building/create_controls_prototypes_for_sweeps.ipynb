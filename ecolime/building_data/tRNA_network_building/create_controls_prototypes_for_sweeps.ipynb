{
 "cells": [
  {
   "cell_type": "raw",
   "metadata": {
    "deletable": true,
    "editable": true
   },
   "source": [
    "create controls!!!"
   ]
  },
  {
   "cell_type": "code",
   "execution_count": 1,
   "metadata": {
    "collapsed": false,
    "deletable": true,
    "editable": true
   },
   "outputs": [
    {
     "name": "stderr",
     "output_type": "stream",
     "text": [
      "/usr/local/lib/python2.7/dist-packages/matplotlib/font_manager.py:273: UserWarning: Matplotlib is building the font cache using fc-list. This may take a moment.\n",
      "  warnings.warn('Matplotlib is building the font cache using fc-list. This may take a moment.')\n"
     ]
    }
   ],
   "source": [
    "# python imports\n",
    "import re\n",
    "import json\n",
    "from os.path import join\n",
    "import cPickle\n",
    "import numpy as np\n",
    "import math\n",
    "import itertools\n",
    "\n",
    "# third party imports\\\n",
    "import pandas\n",
    "import escher\n",
    "import cloudpickle\n",
    "\n",
    "# ecoli me\n",
    "import ecolime\n",
    "from ecolime.flat_files import *\n",
    "from ecolime.ecoli_k12 import *\n",
    "from ecolime import (ribosome, tRNA_charging, transcription, translocation, \n",
    "                     chaperones, DNA_replication, translation)\n",
    "from ecolime.characterization.biomass_allocation import get_membrane_composition, get_membrane_protein\n",
    "\n",
    "from cobrame import *\n",
    "from cobrame.util import building, dogma\n",
    "from cobrame.util.mass import compute_RNA_mass\n",
    "from cobrame.solve.algorithms import binary_search, fva, solve_at_growth_rate\n",
    "from cobrame.solve.symbolic import compile_expressions\n",
    "\n",
    "from cloudpickle import load\n",
    "import cPickle\n",
    "\n",
    "from cobrame import ComplexData, TranscribedGene, ModificationData\n",
    "from cobrame.util.building import add_modification_data\n",
    "\n",
    "import cobra"
   ]
  },
  {
   "cell_type": "markdown",
   "metadata": {
    "deletable": true,
    "editable": true
   },
   "source": [
    "# import base model"
   ]
  },
  {
   "cell_type": "code",
   "execution_count": 2,
   "metadata": {
    "collapsed": false,
    "deletable": true,
    "editable": true
   },
   "outputs": [],
   "source": [
    "filename = './RNA_sweep_control_prototypes/proto_65_NO_tRNA_mods_NO_rRNA_mods.pickle'\n",
    "with open(filename, \"rb\") as infile:\n",
    "    me = cPickle.load(infile)"
   ]
  },
  {
   "cell_type": "code",
   "execution_count": 3,
   "metadata": {
    "collapsed": false,
    "deletable": true,
    "editable": true
   },
   "outputs": [
    {
     "data": {
      "text/html": [
       "<div>\n",
       "<table border=\"1\" class=\"dataframe\">\n",
       "  <thead>\n",
       "    <tr style=\"text-align: right;\">\n",
       "      <th></th>\n",
       "      <th>rRNA</th>\n",
       "      <th>tRNA</th>\n",
       "    </tr>\n",
       "  </thead>\n",
       "  <tbody>\n",
       "    <tr>\n",
       "      <th>0</th>\n",
       "      <td>True</td>\n",
       "      <td>False</td>\n",
       "    </tr>\n",
       "    <tr>\n",
       "      <th>1</th>\n",
       "      <td>True</td>\n",
       "      <td>True</td>\n",
       "    </tr>\n",
       "    <tr>\n",
       "      <th>2</th>\n",
       "      <td>False</td>\n",
       "      <td>False</td>\n",
       "    </tr>\n",
       "    <tr>\n",
       "      <th>3</th>\n",
       "      <td>False</td>\n",
       "      <td>True</td>\n",
       "    </tr>\n",
       "  </tbody>\n",
       "</table>\n",
       "</div>"
      ],
      "text/plain": [
       "    rRNA   tRNA\n",
       "0   True  False\n",
       "1   True   True\n",
       "2  False  False\n",
       "3  False   True"
      ]
     },
     "execution_count": 3,
     "metadata": {},
     "output_type": "execute_result"
    }
   ],
   "source": [
    "import pandas as pd\n",
    "control_df = pd.DataFrame()\n",
    "control_df.loc[0,'rRNA'] = True\n",
    "control_df.loc[1,'rRNA'] = True\n",
    "control_df.loc[2,'rRNA'] = False\n",
    "control_df.loc[3,'rRNA'] = False\n",
    "\n",
    "control_df.loc[0,'tRNA'] = False\n",
    "control_df.loc[1,'tRNA'] = True\n",
    "control_df.loc[2,'tRNA'] = False\n",
    "control_df.loc[3,'tRNA'] = True\n",
    "\n",
    "control_df\n"
   ]
  },
  {
   "cell_type": "code",
   "execution_count": 4,
   "metadata": {
    "collapsed": true,
    "deletable": true,
    "editable": true
   },
   "outputs": [],
   "source": [
    "def build_control_prototype(rRNA, tRNA):\n",
    "    \"\"\"build the controls\"\"\"\n",
    "    \n",
    "    #input the base model\n",
    "    filename = './RNA_sweep_control_prototypes/proto_65_NO_tRNA_mods_NO_rRNA_mods.pickle'\n",
    "    with open(filename, \"rb\") as infile:\n",
    "        me = cPickle.load(infile)\n",
    "    \n",
    "    #delete the tRNAData\n",
    "    if not tRNA:\n",
    "        for trna_rxn in me.reactions.query('charging_tRNA'):\n",
    "            trna_rxn.tRNAData.modifications = {}\n",
    "    #\n",
    "    #\n",
    "    #\n",
    "    #\n",
    "    #\n",
    "    #add the ribosome with input rRNA = true/false\n",
    "    ribosome.add_ribosome(me, verbose=False, rRNA_mods = rRNA)\n",
    "    #RNA_mods = True adds the modifications\n",
    "    \n",
    "    # These should be coupled to translation not ribosome formation per iOL1650\n",
    "    Inf_modifications = ['Translation_initiation_factor_InfA', 'Translation_gtp_initiation_factor_InfB',\n",
    "                    'Translation_initiation_factor_InfC']\n",
    "    for sub in Inf_modifications:\n",
    "        me.complex_data.ribosome.modifications[sub] = 0\n",
    "        for data in me.translation_data:\n",
    "            data.modifications[sub]= -1\n",
    "    \n",
    "    #me.update()\n",
    "    #me.prune()\n",
    "    \n",
    "    path = './RNA_sweep_control_prototypes/'\n",
    "    file_name = 'control_proto_65_tRNA_mods_' + str(tRNA) +\"_rRNA_mods_\" + str(rRNA) + \".pickle\"\n",
    "    with open(path + file_name, \"wb\") as outfile:\n",
    "        cPickle.dump(me, outfile)\n",
    "\n",
    "    "
   ]
  },
  {
   "cell_type": "code",
   "execution_count": 5,
   "metadata": {
    "collapsed": false,
    "deletable": true,
    "editable": true
   },
   "outputs": [
    {
     "name": "stderr",
     "output_type": "stream",
     "text": [
      "4it [00:36,  9.01s/it]\n"
     ]
    }
   ],
   "source": [
    "#build the 4 control prototypes\n",
    "from tqdm import tqdm\n",
    "for index, row in tqdm(control_df.iterrows()):\n",
    "    rRNA = row.rRNA\n",
    "    tRNA = row.tRNA\n",
    "    build_control_prototype(rRNA, tRNA)\n",
    "    "
   ]
  },
  {
   "cell_type": "code",
   "execution_count": null,
   "metadata": {
    "collapsed": true,
    "deletable": true,
    "editable": true
   },
   "outputs": [],
   "source": []
  }
 ],
 "metadata": {
  "kernelspec": {
   "display_name": "Python 2",
   "language": "python",
   "name": "python2"
  },
  "language_info": {
   "codemirror_mode": {
    "name": "ipython",
    "version": 2
   },
   "file_extension": ".py",
   "mimetype": "text/x-python",
   "name": "python",
   "nbconvert_exporter": "python",
   "pygments_lexer": "ipython2",
   "version": "2.7.6"
  }
 },
 "nbformat": 4,
 "nbformat_minor": 0
}
