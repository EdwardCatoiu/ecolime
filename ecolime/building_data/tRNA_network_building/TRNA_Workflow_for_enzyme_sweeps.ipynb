{
 "cells": [
  {
   "cell_type": "code",
   "execution_count": 1,
   "metadata": {
    "collapsed": false
   },
   "outputs": [
    {
     "name": "stderr",
     "output_type": "stream",
     "text": [
      "/usr/local/lib/python2.7/dist-packages/matplotlib/font_manager.py:273: UserWarning: Matplotlib is building the font cache using fc-list. This may take a moment.\n",
      "  warnings.warn('Matplotlib is building the font cache using fc-list. This may take a moment.')\n"
     ]
    }
   ],
   "source": [
    "import minime\n",
    "import pandas as pd\n",
    "# python imports\n",
    "import re\n",
    "import json\n",
    "from os.path import join\n",
    "import cPickle\n",
    "import statistics\n",
    "import math\n",
    "\n",
    "# third party imports\n",
    "import pandas as pd\n",
    "import escher\n",
    "import cobra.test\n",
    "import cloudpickle\n",
    "\n",
    "# ecoli me\n",
    "import ecolime\n",
    "from ecolime.flat_files import *\n",
    "from ecolime.ecoli_k12 import *\n",
    "from ecolime import ribosome, tRNA_charging, transcription, translocation, chaperones\n",
    "\n",
    "from minime.util import dogma\n",
    "from minime import *\n",
    "from minime.util import building\n",
    "from minime.util.mass import compute_RNA_mass\n",
    "from minime.solve.algorithms import binary_search, fva, solve_at_growth_rate\n",
    "from minime.solve.symbolic import compile_expressions\n",
    "import matplotlib\n",
    "from tqdm import tqdm\n",
    "import sys\n",
    "import os\n",
    "\n",
    "import copy\n",
    "from copy import deepcopy\n",
    "from tqdm import tqdm"
   ]
  },
  {
   "cell_type": "raw",
   "metadata": {
    "collapsed": false
   },
   "source": [
    "me = MEmodel('iJO1366-ME')\n",
    "m_model = ecolime.get_m_model()"
   ]
  },
  {
   "cell_type": "code",
   "execution_count": 2,
   "metadata": {
    "collapsed": false
   },
   "outputs": [
    {
     "name": "stdout",
     "output_type": "stream",
     "text": [
      "<Solution 0.74 at 0x7f7894c3ad10>\n"
     ]
    }
   ],
   "source": [
    "from cloudpickle import load\n",
    "infolder = '/home/ecatoiu/SBRG_github_clone/ecolime/prototype_notebooks/'\n",
    "with open(infolder +\"9_30_2016_prototype_59_tRNA_sequences.pickle\", \"rb\") as infile:\n",
    "    me = load(infile)\n",
    "with open(infolder +\"9_30_2016_prototype_59_tRNA_sequences_expressions.pickle\", \"rb\") as infile:\n",
    "    expressions = load(infile)\n",
    "    \n",
    "print me.solution"
   ]
  },
  {
   "cell_type": "markdown",
   "metadata": {},
   "source": [
    "# 1. Curating RNA modification details\n",
    "\n"
   ]
  },
  {
   "cell_type": "markdown",
   "metadata": {},
   "source": [
    "##  1A : Sub modifications, enzymes, reaction stoichiometry, substrates, positions"
   ]
  },
  {
   "cell_type": "raw",
   "metadata": {},
   "source": [
    "all reaction details directly from manually curated dictionary"
   ]
  },
  {
   "cell_type": "code",
   "execution_count": 3,
   "metadata": {
    "collapsed": true
   },
   "outputs": [],
   "source": [
    "def get_RNA_modification_reaction_details(modification_network, rna_type):\n",
    "    \"\"\"\n",
    "    description :  \n",
    "        creates a master dictionary with all modification (sub reactions) details and selects for RNA type. details\n",
    "        include  position, enzyme, and RNA substrates that can undergo these modifications\n",
    "    \n",
    "    inputs : \n",
    "        Ecocyc/MODOMICS raw data : uridine/cytidine/guanine/adenine modification reaction details\n",
    "        these inputs are dictionaries that describe each individual reaction that RNA can undergo\n",
    "        \n",
    "    output:\n",
    "        returns a master dictionary with all the reaction details for each base\n",
    "        {base: { modifications : {input/output, stoichiometric reactions, enzymes,\n",
    "        carriers, rna type, rna position, rna substrates}}}\n",
    "    \n",
    "    \"\"\"\n",
    "    \n",
    "    import  MODS_Adenine, MODS_Cytidine, MODS_Guanine , MODS_URIDINE_2 #raw dat\n",
    "    #combine raw data into one master data\n",
    "    rna_mod_details = {}\n",
    "    guanine = MODS_Guanine.guanine_mods\n",
    "    adenine = MODS_Adenine.adenine_mods\n",
    "    cytidine = MODS_Cytidine.cytidine_mods\n",
    "    uridine = MODS_URIDINE_2.uridine_mod\n",
    "    #base_dict = {'Guanine_mods_paths':'G', 'Cytidine_mods_paths':'C', 'Adenine_mods_paths':'A', 'Uridine_mods_paths':'U'}\n",
    "\n",
    "    rna_mod_details.update({'Guanine_mods_paths' :guanine})\n",
    "    rna_mod_details.update({'Adenine_mods_paths' : adenine})\n",
    "    rna_mod_details.update({'Cytidine_mods_paths' : cytidine})\n",
    "    rna_mod_details.update({'Uridine_mods_paths' :uridine})\n",
    "    #print '1A.', '\\t' ,'OBTAINING modification details'\n",
    "    \n",
    "    #select tRNA/rRNA modifications\n",
    "    import copy\n",
    "    rna_mod_details_rna_type = copy.deepcopy(rna_mod_details)\n",
    "    for base in rna_mod_details_rna_type.keys():\n",
    "        for modification in rna_mod_details_rna_type[base].keys():\n",
    "            if modification not in modification_network[base].keys():\n",
    "                del rna_mod_details_rna_type[base][modification]\n",
    "            else:\n",
    "                enzyme_list = rna_mod_details_rna_type[base][modification]['machines'].keys()\n",
    "                for enzyme in enzyme_list:\n",
    "                    rna_list = rna_mod_details_rna_type[base][modification]['machines'].get(enzyme).get('RNA_position_substrates').keys()\n",
    "                    #deletes non-rna_type modifications details\n",
    "                    for rna in rna_list:\n",
    "                        if rna != rna_type:\n",
    "                            del  rna_mod_details_rna_type[base][modification].get('machines').get(enzyme).get('RNA_position_substrates')[rna]\n",
    "                    if  rna_mod_details_rna_type[base][modification].get('machines').get(enzyme).get('RNA_position_substrates') == {}:\n",
    "                        del rna_mod_details_rna_type[base][modification].get('machines')[enzyme]\n",
    "                    if rna_mod_details_rna_type[base][modification]['machines'] == {}:\n",
    "                        del rna_mod_details_rna_type[base][modification]\n",
    "                    \n",
    "             \n",
    "    return rna_mod_details_rna_type"
   ]
  },
  {
   "cell_type": "markdown",
   "metadata": {},
   "source": [
    "## 1B : Nucleotides"
   ]
  },
  {
   "cell_type": "raw",
   "metadata": {},
   "source": [
    "1B : all nucleotides for each output modification group!"
   ]
  },
  {
   "cell_type": "code",
   "execution_count": 4,
   "metadata": {
    "collapsed": true
   },
   "outputs": [],
   "source": [
    "def get_RNA_modification_products(modification_network, rna_type):\n",
    "    \"\"\"\n",
    "    description :  idenitfies the nucleotide associated with each final modification product\n",
    "    input: calls 'get_RNA_modification_reaction_details(modification_network, rna_type)'\n",
    "    output : dictionary with { final modification product : start nucleotide}\n",
    "    \"\"\"   \n",
    "    \n",
    "    import copy\n",
    "    #calls the modification details\n",
    "    total_RNA_modification_details = copy.deepcopy(get_RNA_modification_reaction_details(modification_network, rna_type))\n",
    "    #print '1B.', '\\t' ,'OBTAINING modification : nucleotide info'\n",
    "    \n",
    "    base_dict = {'Guanine_mods_paths':'G', 'Cytidine_mods_paths':'C', 'Adenine_mods_paths':'A', 'Uridine_mods_paths':'U'}\n",
    "    modification_dict = {}\n",
    "    for base in base_dict.keys():\n",
    "        for modification in total_RNA_modification_details.get(base).keys():\n",
    "            modification_output = total_RNA_modification_details.get(base).get(modification).get('output')\n",
    "            modification_input = total_RNA_modification_details.get(base).get(modification).get('input')\n",
    "            if modification_output not in modification_dict.keys():\n",
    "                modification_dict.update({modification_output: base_dict[base]})\n",
    "    return modification_dict\n",
    "#get_RNA_modification_products('tRNA')      "
   ]
  },
  {
   "cell_type": "markdown",
   "metadata": {},
   "source": [
    "# 2. Modomics Modification Network"
   ]
  },
  {
   "cell_type": "markdown",
   "metadata": {},
   "source": [
    "## 2A. depth first search code"
   ]
  },
  {
   "cell_type": "raw",
   "metadata": {},
   "source": [
    "finds all paths\n",
    "important depth-first search function"
   ]
  },
  {
   "cell_type": "code",
   "execution_count": 5,
   "metadata": {
    "collapsed": true
   },
   "outputs": [],
   "source": [
    "#11/6/16\n",
    "#modified to use different input data\n",
    "\n",
    "def find_all_paths(graph, start, end, path=[]):\n",
    "    \"\"\"\n",
    "    description : depth-first search code taken from python help docs, used to identify all paths from parent node to leaf node\n",
    "    [path] = ['nucleotide--> modification1' , '-->downstream reactions ' ,'-->final reaction']\n",
    "    \"\"\" \n",
    "    path = path + [start]\n",
    "    if start == end:\n",
    "        return [path]\n",
    "    if not graph.has_key(start):\n",
    "        return []\n",
    "    paths = []\n",
    "    for node in graph[start].get('upstream_rxns'):\n",
    "        if node not in path:\n",
    "            newpaths = find_all_paths(graph, node, end, path)\n",
    "            for newpath in newpaths:\n",
    "                paths.append(newpath)\n",
    "    return paths"
   ]
  },
  {
   "cell_type": "markdown",
   "metadata": {},
   "source": [
    "## 2B : all paths from root node to child node in modification network"
   ]
  },
  {
   "cell_type": "raw",
   "metadata": {},
   "source": [
    "uses depth-first search algo\n",
    "OUTPUT: dictionary w/ Total_Modification : {'path #' : [upstream rxn list] }"
   ]
  },
  {
   "cell_type": "code",
   "execution_count": 6,
   "metadata": {
    "collapsed": true
   },
   "outputs": [],
   "source": [
    "#this imports the dictionary with modification inputs outputs {'modification' : 'input rxns upstream'}\n",
    "#this function uses function (find_all_paths) to find all paths from each modification to a base!!!!!!!!\n",
    "\n",
    "#11/6/2016\n",
    "\n",
    "#modified to use different input data\n",
    "def import_tRNA_network_for_enzyme_sweeps(trna_enzyme):\n",
    "    \"\"\"\n",
    "    description : finds all paths from any nucleotide to any final modification\n",
    "    input: \n",
    "        \"tRNA_MODOMICS_network_map\" , a dictionary that maps the modomics modification network\n",
    "        \"get_RNA_modification_products(modification_network, rna_type)\" , dictionary with final modification : nucleotide intial\n",
    "    output:\n",
    "        a dictionary with 'Total-Modification' : {path# : [upstream_rxns]}\n",
    "    \"\"\"   \n",
    "    \n",
    "    import copy\n",
    "    import json\n",
    "    if trna_enzyme != 'control':\n",
    "        network_map_name = str(trna_enzyme) + '_removed_from_tRNA_MODOMICS_network_map.json'\n",
    "    else: \n",
    "        network_map_name = str(trna_enzyme) + '_tRNA_MODOMICS_network_map.json'\n",
    "    \n",
    "    path =  'modified_tRNA_modomics_network_map_for_sweeps/' \n",
    "    with open (path + network_map_name, 'rb') as f:\n",
    "        network = json.load(f)    \n",
    "    return network\n",
    "    \n",
    "    "
   ]
  },
  {
   "cell_type": "code",
   "execution_count": 7,
   "metadata": {
    "collapsed": true
   },
   "outputs": [],
   "source": [
    "#this imports the dictionary with modification inputs outputs {'modification' : 'input rxns upstream'}\n",
    "#this function uses function (find_all_paths) to find all paths from each modification to a base!!!!!!!!\n",
    "\n",
    "#11/6/2016\n",
    "\n",
    "#modified to use different input data\n",
    "def get_all_paths_MODOMICS_network(modification_network,rna_type):\n",
    "    \"\"\"\n",
    "    finds all paths in the modified network \n",
    "    \"\"\"   \n",
    "    import copy\n",
    "    from copy import deepcopy\n",
    "    \n",
    "    base_dict = {'Guanine_mods_paths':'G', 'Cytidine_mods_paths':'C', 'Adenine_mods_paths':'A', 'Uridine_mods_paths':'U'}\n",
    "    mod_paths = copy.deepcopy(modification_network)\n",
    "    modification_products = copy.deepcopy(get_RNA_modification_products(modification_network, rna_type))\n",
    "    print '2B.', '\\t' ,'CREATING modomics path network'\n",
    "    \n",
    "    trna_mod_path_dict = {}\n",
    "    for base in base_dict.keys():\n",
    "        base_modifications = mod_paths[base]\n",
    "        for mod in base_modifications.keys():\n",
    "            trna_mod_path_dict.update({mod : find_all_paths(base_modifications, mod, base_dict[base])})\n",
    "    \n",
    "    trna_modification_paths = {}\n",
    "    for mod, paths in trna_mod_path_dict.iteritems():\n",
    "        count = 0\n",
    "        temp_dict = {}\n",
    "        for path in paths:\n",
    "            count = count + 1\n",
    "            path_number = 'path_' + str(count)\n",
    "            temp_dict.update({path_number : path})\n",
    "        trna_modification_paths.update({mod : temp_dict})\n",
    "    \n",
    "    total_paths = {}\n",
    "    for mod_output in modification_products.keys():\n",
    "        temp_dict = {}\n",
    "        #print '\\n', mod_output,'\\t', '\\t',\n",
    "        count = 0\n",
    "        for modification in trna_modification_paths.keys():\n",
    "            if mod_output == modification.split('_')[2]:\n",
    "                for path_number, path in  trna_modification_paths.get(modification).iteritems():\n",
    "                    count = count + 1\n",
    "                    new_path_number = 'path_' + str(count)\n",
    "                    temp_dict.update({new_path_number : path })\n",
    "        mod = modification_products[mod_output] + '_to_' + mod_output\n",
    "        if temp_dict != {}:\n",
    "            total_paths.update({mod : temp_dict})\n",
    "\n",
    "    for mod in total_paths.keys():\n",
    "        mod_input = mod.split('_')[0]\n",
    "        for path_number, path in total_paths.get(mod).iteritems():\n",
    "            path.remove(mod_input)\n",
    "    return total_paths\n"
   ]
  },
  {
   "cell_type": "markdown",
   "metadata": {},
   "source": [
    "## 2C : import modification network enzyme/position details"
   ]
  },
  {
   "cell_type": "code",
   "execution_count": 8,
   "metadata": {
    "collapsed": false
   },
   "outputs": [],
   "source": [
    "def get_enzymes_from_MODOMICS_network(modification_network, rna_type):\n",
    "    \"\"\"\n",
    "    description:\n",
    "        builds quick enzyme information [name, position] for each modification.  selects for tRNA type\n",
    "        this quick information will be used later to correct for the depth-first search when multiple enzymes/positions\n",
    "        are prevalent for the same modification sub-rxn (Y, D, Um, Cm, cmnm5Um)\n",
    "        \n",
    "    input:\n",
    "        tRNA modomics network map\n",
    "        \n",
    "    output: \n",
    "        dictionary with {sub reaction  : {position : enzyme name}}\"\"\"\n",
    "    \n",
    "    import copy\n",
    "    from copy import deepcopy\n",
    "    mod_paths = copy.deepcopy(modification_network)\n",
    "    print '2C.', '\\t' ,'OBTAINING enzyme info from modomics path network'\n",
    "    rna_mod_paths = copy.deepcopy(mod_paths)\n",
    "    #select only RNA_type positions (tRNA length < 76)\n",
    "    \n",
    "    base_dict = {'Guanine_mods_paths':'G', 'Cytidine_mods_paths':'C', 'Adenine_mods_paths':'A', 'Uridine_mods_paths':'U'}\n",
    "    for base in base_dict.keys():\n",
    "        for sub_rxn in mod_paths[base]:\n",
    "            for position in mod_paths[base][sub_rxn].get('enzymes').keys():\n",
    "                if rna_type == 'tRNA':\n",
    "                    if position != u'20A' and int(position) > 76 :\n",
    "                        del rna_mod_paths[base][sub_rxn].get('enzymes')[position]\n",
    "                elif rna_type =='rRNA':\n",
    "                    if position == u'20A' or int(position) <= 76: \n",
    "                        del rna_mod_paths[base][sub_rxn].get('enzymes')[position]\n",
    "            if rna_mod_paths[base][sub_rxn].get('enzymes') == {}:\n",
    "                del rna_mod_paths[base][sub_rxn]   \n",
    "                \n",
    "    return rna_mod_paths"
   ]
  },
  {
   "cell_type": "raw",
   "metadata": {},
   "source": [
    "takes raw modomics network and filters based on RNA TYPE input"
   ]
  },
  {
   "cell_type": "markdown",
   "metadata": {},
   "source": [
    "## 2D : Adding full path enzyme detail to depth-first search result"
   ]
  },
  {
   "cell_type": "raw",
   "metadata": {},
   "source": [
    "adds enzyme details to depth-first search result\n"
   ]
  },
  {
   "cell_type": "code",
   "execution_count": 9,
   "metadata": {
    "collapsed": true
   },
   "outputs": [],
   "source": [
    "def add_enzymes_to_rna_paths(modification_network, rna_type):\n",
    "    \"\"\"\n",
    "    description: \n",
    "        adds enzyme, position information to paths from MODOMICS network\n",
    "        BUG : (Um , Y, D , cmnm5Um, Cm) fixed by 'fix_path_count_for_multple_enzymes'\n",
    "    input: \n",
    "        get_enzymes_from_MODOMICS_network(modification_network, rna_type) : enzyme, position information\n",
    "        get_all_paths_MODOMICS_network(modification_network, rna_type): modification, path, upstream rxn information\n",
    "    output: \n",
    "        dictionary, keeps track of all upstream rxns in each path\n",
    "        total modification : { path number :  { 'sub rxn 1' : {position : [enzyme name]},\n",
    "                                                'total_path_rxns' : [rxn list]}\n",
    "                            } \n",
    "    \"\"\"\n",
    "    \n",
    "   \n",
    "    import copy\n",
    "    total_tRNA_modification_paths = copy.deepcopy(get_all_paths_MODOMICS_network(modification_network, rna_type))\n",
    "    #print total_tRNA_modification_paths\n",
    "    trna_mods = copy.deepcopy(get_enzymes_from_MODOMICS_network(modification_network, rna_type))\n",
    "    base_dict = {'Guanine_mods_paths':'G', 'Cytidine_mods_paths':'C', 'Adenine_mods_paths':'A', 'Uridine_mods_paths':'U'}\n",
    "    \n",
    "    print '2D.', '\\t' ,'ADDING enzyme info to modomics path network'\n",
    "    \n",
    "    all_mods_dict = {}\n",
    "    for total_mod in total_tRNA_modification_paths:\n",
    "        base = total_mod.split('_')[0]\n",
    "        for key in base_dict.keys():\n",
    "            if base_dict[key] == str(base):\n",
    "                base = key\n",
    "                \n",
    "        \n",
    "        total_mod_dict = {}\n",
    "        for path_number, path_rxns in total_tRNA_modification_paths[total_mod].iteritems():\n",
    "            path_dict = {}\n",
    "            path_dict.update({'total_path_rxns': path_rxns})\n",
    "            for sub_rxn in path_rxns:\n",
    "                enzyme_dict = {}\n",
    "                #use enzyme information from MODOMICS\n",
    "                for position in trna_mods[base][sub_rxn].get('enzymes').keys():\n",
    "                    enzyme =  trna_mods[base][sub_rxn].get('enzymes')[position]\n",
    "                    enzyme_dict.update({ position : enzyme})\n",
    "                path_dict.update({sub_rxn : enzyme_dict})\n",
    "            total_mod_dict.update({path_number : path_dict})\n",
    "        all_mods_dict.update({total_mod : total_mod_dict})\n",
    "    return all_mods_dict"
   ]
  },
  {
   "cell_type": "code",
   "execution_count": 10,
   "metadata": {
    "collapsed": false,
    "scrolled": true
   },
   "outputs": [],
   "source": [
    "def fix_path_count_for_multple_enzymes(modification_network, rna_type):\n",
    "    \n",
    "    \"\"\"\n",
    "    description: \n",
    "        fixes path counts for modifications that can occur at multiple positions (Um , Y, D , cmnm5Um, Cm)\n",
    "        adjusts the path count to the correct position if modification is used upstream of final mod\n",
    "        Um [32,34] --> cmnm5Um [34]\n",
    "    input:\n",
    "        'add_enzymes_to_rna_paths(modification_network, rna_type)': MODOMICS network with enzyme, position information\n",
    "    output:\n",
    "        MODOMICS network with enzyme, position information with correct path numbering \n",
    "    \n",
    "    \"\"\"\n",
    "    \n",
    "    import copy\n",
    "    total_tRNA_modification_paths = copy.deepcopy(add_enzymes_to_rna_paths(modification_network, rna_type))\n",
    "    #total_tRNA_modification_reaction_details =  copy.deepcopy(get_RNA_modification_reaction_details(modification_network, rna_type))\n",
    "    base_dict = {'G' : 'Guanine_mods_paths', 'C' : 'Cytidine_mods_paths', 'A': 'Adenine_mods_paths','U' : 'Uridine_mods_paths'}\n",
    "\n",
    "    print '2D.' ,'\\t' ,'FIXING modomics path network for multiple enzymes/positions'\n",
    "    \n",
    "    total_mod_dict_final = {}\n",
    "    for total_mod in total_tRNA_modification_paths.keys():\n",
    "        nucleotide = total_mod.split('_')[0]\n",
    "        base = base_dict[nucleotide]\n",
    "        path_list_current = total_tRNA_modification_paths[total_mod].keys()\n",
    "        path_dict = {}  # stores all path numbers\n",
    "        \n",
    "        #figure out all the positiosn available in a path \n",
    "        #if len(path_positions) != 1, we have found a bug!\n",
    "        for path_number in path_list_current:\n",
    "            path_position_list = []\n",
    "            path_enzyme_list = {}\n",
    "            total_path_rxns = total_tRNA_modification_paths[total_mod][path_number]['total_path_rxns']\n",
    "            for sub_rxn in total_path_rxns:\n",
    "                position = total_tRNA_modification_paths[total_mod][path_number][sub_rxn].keys()\n",
    "                if len(position) == 1:\n",
    "                    if position[0] not in path_position_list:\n",
    "                        path_position_list.append(position[0])\n",
    "                else:\n",
    "                    path_position_list = position          \n",
    "            #normal condition, only one position exists for the entire path\n",
    "            if len(path_position_list) == 1:\n",
    "                for sub_rxn in total_path_rxns:\n",
    "                    enzyme_temp = total_tRNA_modification_paths[total_mod][path_number][sub_rxn].get(path_position_list[0])\n",
    "                    for enzyme in enzyme_temp:\n",
    "                        if enzyme in path_enzyme_list.keys():\n",
    "                            path_enzyme_list[enzyme] += 1\n",
    "                        else:\n",
    "                            path_enzyme_list.update({enzyme : 1})\n",
    "                temp_dict = {} # stores all path numbers\n",
    "                temp_dict.update({'enzymes' : path_enzyme_list})\n",
    "                temp_dict.update({'position' : path_position_list[0]})\n",
    "                temp_dict.update({'total_path_rxns' : total_path_rxns })\n",
    "                \n",
    "            else:\n",
    "                #removes any inconsistencies in the position of upstream vs downstream reactions\n",
    "                for position in path_position_list:\n",
    "                    count = 0 \n",
    "                    for sub_rxn in total_path_rxns:\n",
    "                        if position in total_tRNA_modification_paths[total_mod][path_number][sub_rxn].keys():\n",
    "                            count = count + 1\n",
    "                    if count != len(total_path_rxns):\n",
    "                        path_position_list.remove(position)\n",
    "                        print '\\t', '\\t', 'Removed position [%s] for %s' %(position, total_mod),\n",
    "                \n",
    "                #adjusted normal case : occurs for U_to_Um [32,34] --> Um_to_cmnm5Um [34]         \n",
    "                if len(path_position_list) == 1:\n",
    "                    print '\\t','\\t',  ' --> occurs @ %s' %(path_position_list[0])\n",
    "                    for sub_rxn in total_path_rxns:\n",
    "                        enzyme_temp = total_tRNA_modification_paths[total_mod][path_number][sub_rxn].get(path_position_list[0])\n",
    "                        for enzyme in enzyme_temp:\n",
    "                            if enzyme in path_enzyme_list.keys():\n",
    "                                path_enzyme_list[enzyme] += 1\n",
    "                            else:\n",
    "                                path_enzyme_list.update({enzyme : 1})\n",
    "                    temp_dict = {} # stores all path numbers\n",
    "                    temp_dict.update({'enzymes' : path_enzyme_list})\n",
    "                    temp_dict.update({'position' : path_position_list[0]})\n",
    "                    temp_dict.update({'total_path_rxns' : total_path_rxns })\n",
    "                    path_dict.update({path_number : temp_dict})\n",
    "                    \n",
    "                    \n",
    "                else:\n",
    "                    #the path position list > 1 for (Um, Y, D, Cm)\n",
    "                    #each position must be counted as its own individual path (right now it is counted as the same path)\n",
    "                    print '\\t', '\\t', 'Creating new paths for %s' %(total_mod)          \n",
    "                    count = 0\n",
    "                    while len(path_position_list) >= len(path_list_current):\n",
    "                        position = path_position_list[0]\n",
    "                        path_enzyme_list = {}\n",
    "                        count = count + 1\n",
    "                        new_path_name = 'path_' + str(count)\n",
    "                        enzyme_temp = total_tRNA_modification_paths[total_mod][path_number][sub_rxn].get(position)\n",
    "                        for enzyme in enzyme_temp:\n",
    "                            if enzyme in path_enzyme_list.keys():\n",
    "                                path_enzyme_list[enzyme] += 1\n",
    "                            else:\n",
    "                                path_enzyme_list.update({enzyme : 1}) \n",
    "                        temp_dict = {} # stores all path numbers\n",
    "                        temp_dict.update({'enzymes' : path_enzyme_list})\n",
    "                        temp_dict.update({'position' : position})\n",
    "                        temp_dict.update({'total_path_rxns' : total_path_rxns })\n",
    "                        path_dict.update({new_path_name : temp_dict})\n",
    "                        path_position_list.remove(position)\n",
    "                continue\n",
    "            path_dict.update({path_number : temp_dict})\n",
    "        total_mod_dict_final.update({total_mod : path_dict})\n",
    "        \n",
    "    return total_mod_dict_final\n"
   ]
  },
  {
   "cell_type": "raw",
   "metadata": {},
   "source": [
    "adjusts path count to reflect the same modification being catalyzed by different enzymes and/or occuring at different positions"
   ]
  },
  {
   "cell_type": "markdown",
   "metadata": {},
   "source": [
    "## 2E : Adding full path metabolite detail to depth-first search result"
   ]
  },
  {
   "cell_type": "raw",
   "metadata": {},
   "source": [
    "Adds metabolite stoichiometry to total rxn path"
   ]
  },
  {
   "cell_type": "code",
   "execution_count": 11,
   "metadata": {
    "collapsed": true
   },
   "outputs": [],
   "source": [
    "def add_metabolites_to_rna_paths(modification_network, rna_type):\n",
    "    \"\"\"\n",
    "    description: adds metabolites information to fixed modomics paths \n",
    "    input: \n",
    "        fix_path_count_for_multple_enzymes(modification_network, rna_type) : corrected path, enzyme, position details\n",
    "        get_RNA_modification_reaction_details(modification_network, rna_type) : reaction details, metabolite details\n",
    "    output: modomics paths with enzyme, metabolites, positions\n",
    "    \"\"\"\n",
    "    \n",
    "    import copy\n",
    "    total_RNA_modification_details = copy.deepcopy(get_RNA_modification_reaction_details(modification_network, rna_type))\n",
    "    temp_dict_4_final = copy.deepcopy(fix_path_count_for_multple_enzymes(modification_network, rna_type))\n",
    "    #base_dict = {'G' : 'Guanine_mods_paths', 'C' : 'Cytidine_mods_paths', 'A': 'Adenine_mods_paths','U' : 'Uridine_mods_paths'}\n",
    "    base_dict = {'G' : 'Guanine_mods_paths', 'C' : 'Cytidine_mods_paths', 'A': 'Adenine_mods_paths','U' : 'Uridine_mods_paths'}\n",
    "\n",
    "\n",
    "    print '2E.','\\t', 'ADDING metabolite info to modomics path network'\n",
    "    for total_mod in temp_dict_4_final:\n",
    "        base = base_dict[total_mod.split('_')[0]]\n",
    "        for path_number in temp_dict_4_final[total_mod]:\n",
    "            path_rxn_metabolites = {}\n",
    "            for sub_rxn in temp_dict_4_final[total_mod][path_number].get('total_path_rxns'):\n",
    "                sub_rxn_stoich = total_RNA_modification_details[base][sub_rxn].get('metabolites')\n",
    "                for met, met_stoich in sub_rxn_stoich.iteritems():\n",
    "                    if met not in path_rxn_metabolites.keys():\n",
    "                        path_rxn_metabolites.update({met : met_stoich})\n",
    "                    else:\n",
    "                        new_met_stoich = met_stoich + path_rxn_metabolites[met]\n",
    "                        path_rxn_metabolites.update({met: new_met_stoich})\n",
    "            temp_dict_4_final[total_mod][path_number].update({'metabolites' : path_rxn_metabolites}) \n",
    "    return temp_dict_4_final"
   ]
  },
  {
   "cell_type": "markdown",
   "metadata": {},
   "source": [
    "## 2F: add carriers"
   ]
  },
  {
   "cell_type": "code",
   "execution_count": 12,
   "metadata": {
    "collapsed": true
   },
   "outputs": [],
   "source": [
    "def add_carriers_to_rna_paths(modification_network, rna_type):\n",
    "    \"\"\"\n",
    "    description :\n",
    "        adds carrier information to modomics paths, also adds TusABCDE cluster to enzyme stoich when TrmU_mono is used\n",
    "    input:\n",
    "        add_metabolites_to_rna_paths(modification_network, rna_type): metabolite, enzyme info for modomics paths\n",
    "        get_RNA_modification_reaction_details(modification_network, rna_type): reaction details (carrier info per enzyme)\n",
    "    output:\n",
    "        modomics paths with carrier/metabolite/position/enzyme info\n",
    "        \"\"\"\n",
    "    import copy\n",
    "    total_tRNA_modification_reaction_details =  copy.deepcopy(get_RNA_modification_reaction_details(modification_network, rna_type))\n",
    "    temp_dict_4_final = copy.deepcopy(add_metabolites_to_rna_paths(modification_network, rna_type))\n",
    "    base_dict = {'G' : 'Guanine_mods_paths', 'C' : 'Cytidine_mods_paths', 'A': 'Adenine_mods_paths','U' : 'Uridine_mods_paths'}\n",
    "    \n",
    "    print '2F.', '\\t', 'ADDING carrier info to modomics path network'\n",
    "       \n",
    "    for total_mod in temp_dict_4_final:\n",
    "        nucleotide = total_mod.split('_')[0]\n",
    "        base = base_dict[nucleotide]\n",
    "        for path_number in temp_dict_4_final[total_mod]:\n",
    "            carrier_temp_dict = {}\n",
    "            for sub_rxn in temp_dict_4_final[total_mod][path_number]['total_path_rxns']:\n",
    "                #mapping to reaction in master dictionary w/reaction details\n",
    "                sub_rxn_details = total_tRNA_modification_reaction_details[base][sub_rxn]   \n",
    "                for enzyme in sub_rxn_details['machines']:\n",
    "                    #matches enzyme in paths to enzyme in details dictionary\n",
    "                    if enzyme in temp_dict_4_final[total_mod][path_number]['enzymes']:\n",
    "                        enzyme_path_stoich = temp_dict_4_final[total_mod][path_number]['enzymes'][enzyme] # need the enzyme stoich\n",
    "                        carrier_info = sub_rxn_details['machines'][enzyme]['carriers']\n",
    "                        #find carrier info          \n",
    "                        if carrier_info:\n",
    "                            for carrier, carrier_stoich in carrier_info.iteritems():\n",
    "                                carrier_path_stoich = carrier_stoich * enzyme_path_stoich #multiply carrier stoich to reflect path enzyme stoich\n",
    "                                if carrier not in carrier_temp_dict:\n",
    "                                    carrier_temp_dict.update({carrier : carrier_path_stoich})\n",
    "                                else:\n",
    "                                    carrier_temp_dict[carrier] + carrier_path_stoich\n",
    "                        \n",
    "                        #some modifications in original model have multiple enzymes that catalyze reaction\n",
    "                        #TusABCDE cluster interacts to facilitate reaction\n",
    "                        # this adds these enzymes into the path data whenever 'TrmU_mono' is the enzyme used in a reaction\n",
    "                        if total_tRNA_modification_reaction_details[base][sub_rxn]['machines'][enzyme].get('additional_enzymes'):\n",
    "                            additional_enzymes = total_tRNA_modification_reaction_details[base][sub_rxn]['machines'][enzyme].get('additional_enzymes')\n",
    "                            \n",
    "                            for add_enzyme, add_enzyme_stoich in additional_enzymes.iteritems():                            \n",
    "                                add_enzyme_stoich_path = add_enzyme_stoich * enzyme_path_stoich\n",
    "                                if add_enzyme not in  temp_dict_4_final[total_mod][path_number]['enzymes']:\n",
    "                                    temp_dict_4_final[total_mod][path_number]['enzymes'].update({add_enzyme : add_enzyme_stoich_path})\n",
    "                                else:\n",
    "                                    temp_dict_4_final[total_mod][path_number]['enzymes'][add_enzyme] += add_enzyme_stoich_path           \n",
    "            if carrier_temp_dict == {}:\n",
    "                temp_dict_4_final[total_mod][path_number].update({'carriers' :  None})\n",
    "            else:\n",
    "                temp_dict_4_final[total_mod][path_number].update({'carriers' :  carrier_temp_dict})\n",
    "    return temp_dict_4_final"
   ]
  },
  {
   "cell_type": "markdown",
   "metadata": {},
   "source": [
    "## 2G : Using enzyme/metabolite detail to determine equivalent paths"
   ]
  },
  {
   "cell_type": "raw",
   "metadata": {},
   "source": [
    "total path checker\n",
    "checks if paths are equivalent based on \"enzymes\" or \"metabolites\"\n",
    "outputs a total modification : {equal path # : [all identical path numbers] }\n"
   ]
  },
  {
   "cell_type": "code",
   "execution_count": 13,
   "metadata": {
    "collapsed": true
   },
   "outputs": [],
   "source": [
    "def check_equivalent_RNA_MODOMICS_paths(modification_network, rna_type, enzyme_or_metabolite_or_carrier):\n",
    "    \"\"\"\n",
    "    description : determines which paths in modomics path network are equivalent\n",
    "    input: \n",
    "        user : 'enzymes', 'metabolites' or 'carriers' (carriers offers no additional information)\n",
    "        user : 'rna_type'\n",
    "        add_carriers_to_rna_paths(modification_network, rna_type) : modomics path network w/carrier,enzyme & metabolite details\n",
    "        \n",
    "    output: \n",
    "        assigns equivalent_paths to [path list]\n",
    "        returns dictionary = {total modification : equivalent path # : [previously named modomics paths]}\n",
    "    \"\"\"\n",
    "    import copy\n",
    "    tRNA_path_rxn_details_dictionary = copy.deepcopy(add_carriers_to_rna_paths(modification_network, rna_type))\n",
    "    print '2G.','\\t', 'ASSIGNING equivalent paths in modomics path network'\n",
    "    \n",
    "    mod_equivalent_paths_dict = {}\n",
    "    for mod in tRNA_path_rxn_details_dictionary.keys():\n",
    "        total_paths = tRNA_path_rxn_details_dictionary[mod].keys()   #list of total paths to be checked\n",
    "        equal_path_count = 1\n",
    "        temp_path_dict = {}\n",
    "        while len(total_paths) > 0:\n",
    "            path = total_paths[0]\n",
    "            path_variable = tRNA_path_rxn_details_dictionary.get(mod).get(path).get(enzyme_or_metabolite_or_carrier)\n",
    "            path_position = tRNA_path_rxn_details_dictionary.get(mod).get(path).get('position')\n",
    "            total_paths.remove(path)\n",
    "            temp_list = [path]\n",
    "\n",
    "            for remaining_path in total_paths:\n",
    "                remaining_path_variable = tRNA_path_rxn_details_dictionary.get(mod).get(remaining_path).get(enzyme_or_metabolite_or_carrier)\n",
    "                remaining_path_position = tRNA_path_rxn_details_dictionary.get(mod).get(remaining_path).get('position')\n",
    "                \n",
    "                if path_variable == remaining_path_variable and path_position == remaining_path_position:  #this solves the various positions as different paths\n",
    "                    temp_list.append(remaining_path)\n",
    "\n",
    "            for matched_path in temp_list:\n",
    "                if matched_path in total_paths:\n",
    "                    total_paths.remove(matched_path)\n",
    "            equal_path_name =  'equal_path_' + str(equal_path_count)    \n",
    "            temp_path_dict.update({equal_path_name : temp_list})\n",
    "            equal_path_count = equal_path_count + 1\n",
    "            #base case: remove path1 from total_path list\n",
    "        mod_equivalent_paths_dict.update({mod : temp_path_dict})\n",
    "    return mod_equivalent_paths_dict"
   ]
  },
  {
   "cell_type": "raw",
   "metadata": {},
   "source": [
    "confirms the above checker gives same result regardless of enzyme/metabolite/carrier checking "
   ]
  },
  {
   "cell_type": "code",
   "execution_count": 14,
   "metadata": {
    "collapsed": false
   },
   "outputs": [
    {
     "name": "stdout",
     "output_type": "stream",
     "text": [
      "2B. \tCREATING modomics path network\n",
      "2C. \tOBTAINING enzyme info from modomics path network\n",
      "2D. \tADDING enzyme info to modomics path network\n",
      "2D. \tFIXING modomics path network for multiple enzymes/positions\n",
      "\t\tCreating new paths for U_to_Y\n",
      "\t\tRemoved position [32] for U_to_cmnm5Um \t\t --> occurs @ 34\n",
      "\t\tCreating new paths for U_to_Um\n",
      "\t\tCreating new paths for C_to_Cm\n",
      "\t\tCreating new paths for U_to_DDusgen\n",
      "\t\tCreating new paths for U_to_DDusA\n",
      "2E. \tADDING metabolite info to modomics path network\n",
      "2F. \tADDING carrier info to modomics path network\n",
      "2G. \tASSIGNING equivalent paths in modomics path network\n",
      "2B. \tCREATING modomics path network\n",
      "2C. \tOBTAINING enzyme info from modomics path network\n",
      "2D. \tADDING enzyme info to modomics path network\n",
      "2D. \tFIXING modomics path network for multiple enzymes/positions\n",
      "\t\tCreating new paths for U_to_Y\n",
      "\t\tRemoved position [32] for U_to_cmnm5Um \t\t --> occurs @ 34\n",
      "\t\tCreating new paths for U_to_Um\n",
      "\t\tCreating new paths for C_to_Cm\n",
      "\t\tCreating new paths for U_to_DDusgen\n",
      "\t\tCreating new paths for U_to_DDusA\n",
      "2E. \tADDING metabolite info to modomics path network\n",
      "2F. \tADDING carrier info to modomics path network\n",
      "2G. \tASSIGNING equivalent paths in modomics path network\n",
      "\n",
      "\n",
      "checking metabolites and enzymes\n",
      "\t\tChecker failed 0 times\n"
     ]
    }
   ],
   "source": [
    "#this checks that paths are equivalent in both enzymes and metabolites~~~!!!!\n",
    "import copy\n",
    "modification_network = import_tRNA_network_for_enzyme_sweeps('TrmU_mono')\n",
    "rna_type = 'tRNA'\n",
    "check_paths_enzymes = copy.deepcopy(check_equivalent_RNA_MODOMICS_paths(modification_network, rna_type,'enzymes'))\n",
    "check_paths_metabolites = copy.deepcopy(check_equivalent_RNA_MODOMICS_paths(modification_network, rna_type,'metabolites'))\n",
    "\n",
    "def enzyme_metabolite_agreement_checker(modification_network, rna_type, check_paths_enzymes, check_paths_metabolites):\n",
    "    \"\"\"\n",
    "    description: \n",
    "        checks to see if path metabolite/enzyme info in checkers assign the same equivalent paths (they should)\n",
    "    input:\n",
    "        check_equivalent_RNA_MODOMICS_paths(rna_type,'enzymes') : equivalent paths dict\n",
    "        check_equivalent_RNA_MODOMICS_paths(rna_type,'metabolites'): equivalent paths dict\n",
    "        user: 'tRNA' or 'rRNA'\n",
    "    output: \n",
    "        prints failure rate\n",
    "    \"\"\"\n",
    "        \n",
    "    print '\\n','\\n', 'checking metabolites and enzymes'\n",
    "    count = 0\n",
    "    checker_works_list = []\n",
    "    for modification in check_paths_enzymes.keys():\n",
    "        equi_metabolites = check_paths_metabolites[modification]\n",
    "        equi_enzymes = check_paths_enzymes[modification]\n",
    "        #equi_carriers = check_equivalent_RNA_MODOMICS_paths(path_dict, 'carriers')[modification]\n",
    "    \n",
    "        if equi_metabolites != equi_enzymes:\n",
    "            count = count + 1\n",
    "            print 'fail : %s ' %(modification)\n",
    "            print  'metabolite check : ','\\t',equi_metabolites\n",
    "            print 'enzyme check : ' , '\\t', equi_enzymes\n",
    "            print path_dict[modification],'\\n'\n",
    "        else:\n",
    "            checker_works_list.append(modification), '\\t',\n",
    "    print '\\t' ,'\\t' , 'Checker failed %i times' %(count)\n",
    "enzyme_metabolite_agreement_checker(modification_network, 'tRNA', check_paths_enzymes, check_paths_metabolites )"
   ]
  },
  {
   "cell_type": "markdown",
   "metadata": {},
   "source": [
    "# 3. RNA BNUM SUBSTRATES\n"
   ]
  },
  {
   "cell_type": "markdown",
   "metadata": {},
   "source": [
    "##  3A : creating master pandas dataframe from substrate details"
   ]
  },
  {
   "cell_type": "raw",
   "metadata": {},
   "source": [
    "creates pandas DF with all bnum | modification | nucleotide | position data\n",
    "uses reaction details substrate information to create data frame"
   ]
  },
  {
   "cell_type": "code",
   "execution_count": 15,
   "metadata": {
    "collapsed": false,
    "scrolled": true
   },
   "outputs": [],
   "source": [
    "#this code creates a DF where all trna bnumbers are listed as substrates of various modifications\n",
    "#uses input data from manually currated modifications ( MODS_Adenine, MODS_Cytidine, MODS_Guanine , MODS_Queuosine, MODS_URIDINE_2)\n",
    "\n",
    "def create_RNA_dataframe_from_substrates(modification_network, rna_type):\n",
    "    \"\"\"\n",
    "    description:\n",
    "        creates a master DF with bnum/modifications/positions from the master details dictionary\n",
    "    input:\n",
    "        get_RNA_modification_reaction_details(modification_network, rna_type) : substrate data for RNA modifications\n",
    "    output: \n",
    "       dataframe     \n",
    "    \"\"\"\n",
    "    import copy\n",
    "    from tqdm import tqdm\n",
    "    total_RNA_modification_details = copy.deepcopy(get_RNA_modification_reaction_details(modification_network, rna_type))\n",
    "    print '3A. ' ,'\\t', 'CREATING Master DF w/ bnum, modifications, positions'\n",
    "    \n",
    "    df = pd.DataFrame()\n",
    "    index = 0\n",
    "    base_list = {'Uridine_mods_paths' : 'T', 'Adenine_mods_paths' : 'A',  'Guanine_mods_paths' : 'G', 'Cytidine_mods_paths':'C'}\n",
    "      \n",
    "    for base in base_list.keys():\n",
    "        nucleotide = base_list[base]\n",
    "        for mod in tqdm(total_RNA_modification_details.get(base).keys()):\n",
    "            mod_input = total_RNA_modification_details.get(base).get(mod).get('input')\n",
    "            for machines in total_RNA_modification_details.get(base).get(mod).get('machines'):\n",
    "                RNA_position_substrates = total_RNA_modification_details.get(base).get(mod).get('machines')[machines].get('RNA_position_substrates')\n",
    "                for rna in RNA_position_substrates.keys():\n",
    "                    #filters each sub reaction to see if it acts on RNA type\n",
    "                    #now will be assigning substrates to DF\n",
    "                    if rna == rna_type:\n",
    "                        for position in RNA_position_substrates.get(rna):\n",
    "                            substrates = RNA_position_substrates.get(rna)[position]\n",
    "\n",
    "                \n",
    "                            if 'all' in substrates.keys() and mod_input != base[0]:\n",
    "                                # this block assigns the proper substrates if downstream reaction is all substrates\n",
    "                                # and the input isnt a nucleotide                          \n",
    "                                while 'all' in substrates.keys() and mod_input != base[0] :  \n",
    "                                    \n",
    "                                    for mod_upstream in total_RNA_modification_details.get(base).keys():\n",
    "                                        mod_upstream_output = total_RNA_modification_details.get(base).get(mod_upstream).get('output')\n",
    "\n",
    "                                        if mod_upstream_output == mod_input: #find upstream reaction\n",
    "                                            \n",
    "                                        \n",
    "                                            for machines in total_RNA_modification_details.get(base).get(mod_upstream).get('machines'):\n",
    "                                                RNA_position_substrates = total_RNA_modification_details.get(base).get(mod_upstream).get('machines')[machines].get('RNA_position_substrates')\n",
    "                                                #print '\\t',  RNA_position_substrates\n",
    "                                    \n",
    "                                                for rna in RNA_position_substrates.keys():\n",
    "                                                    if rna =='tRNA':\n",
    "                                                        for position in RNA_position_substrates.get(rna):\n",
    "                                                            substrates_upstream = RNA_position_substrates.get(rna)[position]\n",
    "                                                            substrates = substrates_upstream #equate old substrates to upstream substrate\n",
    "                                            mod_input = total_RNA_modification_details.get(base).get(mod_upstream).get('input')\n",
    "                                #no restrictions on any upstream rxn:\n",
    "                                if 'all' in substrates.keys():\n",
    "                                    mod_bnum = copy.deepcopy(substrates.keys())\n",
    "                                    mod_bnum.remove('all')\n",
    "                                    all_trna_bnum = trna_bnum_anticodon_start_position_dict.keys()\n",
    "                                    #this if statement removes tRNAs with '0' as their value from being added\n",
    "                                    # it is the restricted substrates (U_to_D, and others)\n",
    "                                    if len(mod_bnum) > 0:\n",
    "                                        for bnum in mod_bnum:\n",
    "                                            all_trna_bnum.remove(bnum)\n",
    "                                    for all_bnum in all_trna_bnum:\n",
    "                                        df.loc[index, 'bnum'] = all_bnum\n",
    "                                        df.loc[index, 'nucleotide'] = nucleotide\n",
    "                                        df.loc[index, 'position'] = position\n",
    "                                        df.loc[index, 'modification'] = mod\n",
    "                                        df.loc[index, 'restriction'] = 'this is a substrate'\n",
    "                                        index = index + 1\n",
    "                                else:\n",
    "                                    #add substrates to DF                   \n",
    "                                    for bnum in substrates.keys():\n",
    "                                        df.loc[index, 'bnum'] = bnum\n",
    "                                        df.loc[index, 'nucleotide'] = nucleotide\n",
    "                                        df.loc[index, 'position'] = position\n",
    "                                        df.loc[index, 'modification'] = mod\n",
    "                                        if substrates[bnum] == 1:\n",
    "                                            df.loc[index, 'restriction'] = 'this is a substrate'\n",
    "                                            index = index + 1\n",
    "                                        elif substrates[bnum] == 0: \n",
    "                                            df.loc[index, 'restriction'] = 'this is NOT a substrate'\n",
    "                                            index = index + 1\n",
    "\n",
    "                            else:\n",
    "                                \n",
    "                                if 'all' in substrates.keys(): \n",
    "                                    #these are the 'all' reactions with nucleotide inputs\n",
    "                                    mod_bnum = copy.deepcopy(substrates.keys())\n",
    "                                    mod_bnum.remove('all')\n",
    "                                    all_trna_bnum = trna_bnum_anticodon_start_position_dict.keys()\n",
    "                                    #this if statement removes tRNAs with '0' as their value from being added\n",
    "                                    # it is the restricted substrates (U_to_D, and others)\n",
    "                                    if len(mod_bnum) > 0:\n",
    "                                        for bnum in mod_bnum:\n",
    "                                            all_trna_bnum.remove(bnum)\n",
    "                                    for all_bnum in all_trna_bnum:\n",
    "                                        df.loc[index, 'bnum'] = all_bnum\n",
    "                                        df.loc[index, 'nucleotide'] = nucleotide\n",
    "                                        df.loc[index, 'position'] = position\n",
    "                                        df.loc[index, 'modification'] = mod\n",
    "                                        df.loc[index, 'restriction'] = 'this is a substrate'\n",
    "                                        index = index + 1\n",
    "                                else: \n",
    "                                    #these are the reactions with restrictions on substrates\n",
    "                                    for bnum in substrates.keys():\n",
    "                                        df.loc[index, 'bnum'] = bnum\n",
    "                                        df.loc[index, 'nucleotide'] = nucleotide\n",
    "                                        df.loc[index, 'position'] = position\n",
    "                                        df.loc[index, 'modification'] = mod\n",
    "                                        if substrates[bnum] == 1:\n",
    "                                            df.loc[index, 'restriction'] = 'this is a substrate'\n",
    "                                            index = index + 1\n",
    "                                        elif substrates[bnum] == 0: \n",
    "                                            df.loc[index, 'restriction'] = 'this is NOT a substrate'\n",
    "                                            index = index + 1\n",
    "    return df\n"
   ]
  },
  {
   "cell_type": "raw",
   "metadata": {},
   "source": [
    "modification_network = import_tRNA_network_for_enzyme_sweeps('TrmU_mono')\n",
    "#modification_network\n",
    "#rna_type = 'tRNA'\n",
    "#print network\n",
    "#add_enzymes_to_rna_paths(modification_network , 'tRNA')\n",
    "#fix_path_count_for_multple_enzymes(modification_network, rna_type)\n",
    "#add_metabolites_to_rna_paths(modification_network, rna_type)"
   ]
  },
  {
   "cell_type": "markdown",
   "metadata": {},
   "source": [
    "## 3B : Sequence allighment check \n"
   ]
  },
  {
   "cell_type": "raw",
   "metadata": {},
   "source": [
    "adjusts dataframe to ensure sequence allignment"
   ]
  },
  {
   "cell_type": "code",
   "execution_count": null,
   "metadata": {
    "collapsed": true
   },
   "outputs": [],
   "source": []
  },
  {
   "cell_type": "code",
   "execution_count": 25,
   "metadata": {
    "collapsed": false
   },
   "outputs": [],
   "source": [
    "#this script uses TRNA sequence to check the manually created DF for trna substrates that cannot work!!!\n",
    "#deletes 600 substrates (mainly the ones that use 'ALL' as restriction)\n",
    "\n",
    "def check_RNA_substrate_with_sequences_adjust_D_loop_mods(modification_network, rna_type):\n",
    "    \"\"\"\n",
    "    description: takes the master DF and checks each substrate/modification row with sequence agreement\n",
    "    input: create_RNA_dataframe_from_substrates(modification_network, rna_type) --> master DF\n",
    "    output: corrected DF with removed rows for sequence mismatch\n",
    "    \"\"\"\n",
    "    with open('../9_30_2016_prototype_59_tRNA_sequences.pickle','rb') as infile:\n",
    "        me = cPickle.load(infile)\n",
    "        \n",
    "    df = create_RNA_dataframe_from_substrates(modification_network, rna_type)\n",
    "    \n",
    "    print   '3B. ' ,'\\t', 'CORRECTING DF for sequence allignment in substrate/modifications'\n",
    "    base_list = {'Uridine' : 'T', 'Adenine' : 'A',  'Guanine' : 'G', 'Cytidine':'C'}\n",
    "    #note ^ : sequences are given with 'T', not 'U'\n",
    "    d_loop = { 17: 0,\n",
    "              '17A': 1,\n",
    "              18 : 2,\n",
    "              19: 3,\n",
    "              20 : 4,\n",
    "              '20A' : 5,\n",
    "              '20B': 6 }\n",
    "    v_loop = {46 : -2, \n",
    "              47 : -1}\n",
    "\n",
    "    for base in base_list.keys():\n",
    "        print '\\t' ,'\\t' , 'sequence checking : %s' %(base)\n",
    "        nucleotide = base_list[base]\n",
    "        for trna in tqdm(me.tRNA_data):\n",
    "            bnum = trna.id.split('_')[1]\n",
    "            if bnum in list(df.bnum):\n",
    "                for index, row in df.iterrows():\n",
    "                    if bnum == row.bnum and row.nucleotide == nucleotide and row.restriction == 'this is a substrate':\n",
    "                        #this will check eveything but D-loop/V-loop @ 17A, 20A, 20B\n",
    "                        if type(row.position) != str:\n",
    "                            #pre-Dloop ( 0-16 )\n",
    "                            if row.position <= 16:\n",
    "                                seq = trna.trna_sequence_position_0_to_16\n",
    "                                if seq[int(row.position)] != nucleotide:\n",
    "                                    df.loc[index, 'sequence_check'] = 'fail'\n",
    "                            #Dloop (17,18,19,20)\n",
    "                            elif row.position >= 17 and row.position <= 20:\n",
    "                                seq = trna.trna_sequence_position_17_20_Dloop\n",
    "                                position_d_loop = d_loop[row.position]\n",
    "                                seq = trna.trna_sequence_position_17_20_Dloop\n",
    "                                if seq[position_d_loop] != nucleotide:\n",
    "                                    df.loc[index, 'sequence_check'] = 'fail'\n",
    "                            #Anticodon Region (21 - 45)\n",
    "                            elif row.position >= 21 and row.position <= 45:\n",
    "                                seq = trna.trna_sequence_position_21_to_45\n",
    "                                if seq[int(row.position) - 21] != nucleotide:\n",
    "                                    df.loc[index, 'sequence_check'] = 'fail'\n",
    "                            #V-loop (46 - 47)\n",
    "                            elif row.position >= 46 and row.position <= 47:\n",
    "                                seq = trna.trna_sequence_position_46_47_Vloop\n",
    "                                position_v_loop = v_loop[row.position]\n",
    "                                if seq[position_v_loop] != nucleotide:\n",
    "                                    df.loc[index, 'sequence_check'] = 'fail'\n",
    "                            #CCA-end region (47-76)\n",
    "                            elif row.position > 47:\n",
    "                                seq = trna.trna_sequence_position_48_to_76\n",
    "                                if seq[int(row.position) - 48] != nucleotide:\n",
    "                                    df.loc[index, 'sequence_check'] = 'fail'   \n",
    "                        #D-loop (17A, 20A, 20B)\n",
    "                        elif type(row.position) == str:\n",
    "                            position_d_loop = d_loop[row.position]\n",
    "                            seq = trna.trna_sequence_position_17_20_Dloop\n",
    "                            if seq[position_d_loop] != nucleotide:\n",
    "                                df.loc[index, 'sequence_check'] = 'fail'\n",
    "\n",
    "\n",
    "    print '\\t' ,'\\t' , 'DF length orginal : %i' %(len(df))      \n",
    "    df  = df[df.sequence_check != 'fail']\n",
    "    df = df.reset_index()\n",
    "    del df['index']\n",
    "    print '\\t' ,'\\t' , 'DF length after sequence allignment : %i' %(len(df))     \n",
    "    return df\n",
    "#df = check_RNA_substrate_with_sequences_adjust_D_loop_mods(modification_network, 'tRNA')"
   ]
  },
  {
   "cell_type": "markdown",
   "metadata": {},
   "source": [
    "## 3C : bnum modification dictionary "
   ]
  },
  {
   "cell_type": "raw",
   "metadata": {},
   "source": [
    "creates substrate modification dictionary from DF"
   ]
  },
  {
   "cell_type": "code",
   "execution_count": 26,
   "metadata": {
    "collapsed": false
   },
   "outputs": [],
   "source": [
    "###this script takes all the existing TRNAs and creates a dictionary (like me.tRNA_data.(trna).modifications) \n",
    "#NEW me.trna_data\n",
    "\n",
    "def create_RNA_bnum_modification_dict(modification_network, rna_type):\n",
    "    \"\"\"\n",
    "    description: \n",
    "        creates a modification dictionary with all sub_modifications available for each tRNA and position data\n",
    "        \n",
    "    input: \n",
    "        check_RNA_substrate_with_sequences_adjust_D_loop_mods(modification_network, rna_type) : corrected DF\n",
    "        \n",
    "    output: dictionary\n",
    "        tRNA_bnum : {sub modification : [position list]}\n",
    "    \"\"\"\n",
    "    bnum_mods = {}\n",
    "    df = check_RNA_substrate_with_sequences_adjust_D_loop_mods(modification_network, rna_type)\n",
    "    print '3C. ' , '\\t', 'CREATING bnum modification dict from DF'\n",
    "    for trna in tqdm(trna_bnum_anticodon_start_position_dict.keys()):\n",
    "        modification_position = {}\n",
    "        for index, row in df.iterrows():\n",
    "            if row.bnum == trna and row.restriction == 'this is a substrate':\n",
    "                positions = row.position\n",
    "                old_positions = ''\n",
    "                #if modification can occur at multiple positions, append to list\n",
    "                if row.modification in list(modification_position.keys()):\n",
    "                    old_positions = modification_position.pop(row.modification)\n",
    "                    new_position = row.position\n",
    "                    if type(old_positions) != list :\n",
    "                        positions = [str(old_positions)]\n",
    "                    else: \n",
    "                        positions = old_positions\n",
    "                    positions.append(str(new_position))\n",
    "                modification_position.update({row.modification: positions})\n",
    "        bnum_mods.update({trna : modification_position})\n",
    "   \n",
    "    #adjust int -- > string in bnum_mods:\n",
    "    for bnum in bnum_mods:\n",
    "        for mod in bnum_mods.get(bnum):\n",
    "            position_data  = bnum_mods.get(bnum).get(mod)\n",
    "            #convert all positions to list [positions]\n",
    "            if type(position_data) != list:\n",
    "                position_data = [position_data]\n",
    "            for single_position in position_data:\n",
    "                if single_position != '20A':\n",
    "                    single_position_string =  str(int(float(single_position)))\n",
    "                    position_data.remove(single_position)\n",
    "                    position_data.append(single_position_string)\n",
    "            bnum_mods[bnum][mod] = position_data\n",
    "    #conversion needed again?\n",
    "    for bnum in bnum_mods:\n",
    "        for mod in bnum_mods.get(bnum):\n",
    "            position_data  = bnum_mods.get(bnum).get(mod)\n",
    "            if type(position_data) != list:\n",
    "                position_data = [position_data]\n",
    "            for single_position in position_data:\n",
    "                if single_position != '20A':\n",
    "                    single_position_string =  str(int(float(single_position)))\n",
    "                    position_data.remove(single_position)\n",
    "                    position_data.append(single_position_string)\n",
    "            bnum_mods[bnum][mod] = position_data\n",
    "    return bnum_mods\n",
    "#create_RNA_bnum_modification_dict(modification_network, 'tRNA')"
   ]
  },
  {
   "cell_type": "raw",
   "metadata": {},
   "source": [
    "adjust modification dictionary (above) to reflect true adenine modifications.\n",
    "modomics data (substrate = all) creates initial problems"
   ]
  },
  {
   "cell_type": "code",
   "execution_count": 19,
   "metadata": {
    "collapsed": false
   },
   "outputs": [],
   "source": [
    "#correct adenine modifications with proper priority and additional sequence rules\n",
    "\n",
    "def adjust_adenine_RNA_mods(modification_network, rna_type):\n",
    "    \"\"\"\n",
    "    description: \n",
    "        using restrictions in rna_mod details dict from ecocyc/modomics, some tRNA bnums are substrates for \n",
    "        multiple modifications at the same position. here, we use additional rules for adenine mods @ 37 / cytidine mods @34\n",
    "        we adjust the modification dict accordingly\n",
    "    input:\n",
    "        create_RNA_bnum_modification_dict(modification_network, rna_type): modification dict\n",
    "    output: \n",
    "        adjusted modification dict\n",
    "    \"\"\"\n",
    "    # 1| A_to_m6A : 37A @ val/VAC only  \n",
    "    # 2| A_to_i6A :  most tRNAs with 36A37A\n",
    "    # 3| A_to_t6A : tRNAs with 34N35N36U37A (NNUA) (ile, met, thr, asn, lys, ser, arg)\n",
    "    # 4| A_to_m2A : all the rest\n",
    "    \n",
    "    import copy\n",
    "    correction_dict = copy.deepcopy(create_RNA_bnum_modification_dict(modification_network, rna_type))\n",
    "    print '3C.','\\t',  \"ADJUSTING adenine modifications in dictionary\"\n",
    "    \n",
    "    for bnum in correction_dict.keys():\n",
    "        count = 0\n",
    "        A_mods =['A_to_m6A', 'A_to_i6A', 'A_to_t6A','A_to_m2A']\n",
    "        for A_mod in A_mods:\n",
    "            if A_mod in correction_dict[bnum].keys():\n",
    "                count = count + 1\n",
    "\n",
    "        if count > 1:\n",
    "            # m6A priority #1\n",
    "            if 'A_to_m6A' in correction_dict[bnum].keys():\n",
    "                A_mod_correct = A_mods\n",
    "                A_mod_correct.remove('A_to_m6A')\n",
    "                for A_mod in A_mod_correct:\n",
    "                    if A_mod in correction_dict[bnum].keys():\n",
    "                        del correction_dict[bnum][A_mod] #removes the additional A_mods\n",
    "            else:\n",
    "                for trna in me.tRNA_data.query(bnum):\n",
    "                    sequence_34_37 = trna.trna_sequence_position_21_to_45[34 - 21:38-21]\n",
    "                    sequence_36_37 = trna.trna_sequence_position_21_to_45[36 - 21:38-21]\n",
    "\n",
    "                #i6A priority #2\n",
    "                if sequence_36_37 == 'AA':\n",
    "                    A_mod_correct = A_mods\n",
    "                    A_mod_correct.remove('A_to_i6A')\n",
    "                    for A_mod in A_mod_correct:\n",
    "                        if A_mod in correction_dict[bnum].keys():\n",
    "                            del correction_dict[bnum][A_mod]\n",
    "\n",
    "                elif sequence_36_37 != 'AA':\n",
    "                    #t6A priority #3\n",
    "                    if 'T' == sequence_34_37[2]:\n",
    "                        A_mod_correct = A_mods\n",
    "                        A_mod_correct.remove('A_to_t6A')\n",
    "                        for A_mod in A_mod_correct:\n",
    "                            if A_mod in correction_dict[bnum].keys():\n",
    "                                del correction_dict[bnum][A_mod]\n",
    "                    #m2A priority #4\n",
    "                    else:\n",
    "                        A_mod_correct = A_mods\n",
    "                        A_mod_correct.remove('A_to_m2A')\n",
    "                        for A_mod in A_mod_correct:\n",
    "                            if A_mod in correction_dict[bnum].keys():\n",
    "                                del correction_dict[bnum][A_mod]\n",
    "    return correction_dict\n",
    "\n",
    "#adjust_adenine_RNA_mods('tRNA')                            \n",
    "        \n",
    "#Cytidine\n",
    "#should be no conflicts\n",
    "#mods @ 32 have different substrates\n",
    "# C_to_Cm : Leu / BAA\n",
    "# C_to_k2C : ile/ CAU\n",
    "# C_to_ac4C : fmet -- ecocyc!!"
   ]
  },
  {
   "cell_type": "raw",
   "metadata": {},
   "source": [
    "function that:\n",
    "reduces SUB reactions in modification dictionary to include total reactions \n",
    "instead replaces sub reactions with total modifications "
   ]
  },
  {
   "cell_type": "code",
   "execution_count": 20,
   "metadata": {
    "collapsed": false
   },
   "outputs": [],
   "source": [
    "def reduce_subRXNs_to_totalRXNS(graph):\n",
    "    \"\"\"\n",
    "    description:\n",
    "        takes adjusted modification dict and all the sub reaction and finds the total reactions for each bnum\n",
    "        keeps track of all sub reactions that were removed from bnum mod dict\n",
    "        this function is called later while looping through each tRNA bnum\n",
    "    input: bnum_modification dict (for each bnum)\n",
    "    output: reduced paths\n",
    "        input of {bnum : sub_rxn [position]} ---> outputs { bnum : total-mod [position] }\n",
    "    \"\"\"\n",
    "    import copy\n",
    "    total_tRNA_products = copy.deepcopy(get_RNA_modification_products(modification_network , 'tRNA'))\n",
    "    \n",
    "    remove_list = []\n",
    "    new_rxn_list = []\n",
    "    base_dict = {'G':'Guanine', 'C':'Cytidine', 'A':'Adenine', 'U':'Uridine'}\n",
    "    total_rxns = graph.keys()\n",
    "    \n",
    "    for rxn_1 in graph.keys():\n",
    "        rxn_1_input = rxn_1.split('_')[0]\n",
    "        rxn_1_output = rxn_1.split('_')[2]\n",
    "        for rxn_2 in graph.keys():\n",
    "            rxn_2_input = rxn_2.split('_')[0]\n",
    "            rxn_2_output = rxn_2.split('_')[2]\n",
    "            if rxn_1_output == rxn_2_input and graph[rxn_1] == graph[rxn_2] and rxn_1 not in remove_list:\n",
    "                remove_list.append(rxn_1) #we know that rxn 1 is a upstream rxn      \n",
    "    for rxn_1 in remove_list:\n",
    "        del graph[rxn_1]   \n",
    "    graph.update({'total_sub_rxns' : remove_list})\n",
    "    remove_list = []\n",
    "    do_not_remove_list = []\n",
    "    temp_graph ={}\n",
    "    \n",
    "    #reduces redundant sub_rxns that lead to final mod\n",
    "    for rxn in graph.keys():\n",
    "        rxn_output = rxn.split('_')[2]\n",
    "        for rxn_2 in graph.keys():\n",
    "            rxn_2_output = rxn_2.split('_')[2]\n",
    "            \n",
    "            if rxn_output == rxn_2_output and rxn != 'total_sub_rxns' and rxn_2 != 'total_sub_rxns' and graph[rxn] == graph[rxn_2] and rxn != rxn_2:\n",
    "                if rxn not in remove_list:\n",
    "                    remove_list.append(rxn)\n",
    "                if rxn_2 not in remove_list:\n",
    "                    remove_list.append(rxn_2)\n",
    "                \n",
    "                new_rxn_output = rxn_output\n",
    "                net_rxn_input = total_tRNA_products[new_rxn_output]\n",
    "                new_rxn_name = net_rxn_input + '_to_' + new_rxn_output\n",
    "                position = graph[rxn]\n",
    "                temp_graph.update({new_rxn_name : position })\n",
    "                                  \n",
    "    for rxn_1 in remove_list:\n",
    "        del graph[rxn_1]\n",
    "    graph['total_sub_rxns'] = graph['total_sub_rxns'] + remove_list   \n",
    "    remove_list = []\n",
    "    \n",
    "    for rxn in graph.keys():\n",
    "        if rxn != 'total_sub_rxns':\n",
    "            rxn_input = rxn.split('_')[0]\n",
    "            if rxn_input in base_dict.keys():\n",
    "                do_not_remove_list.append(rxn)\n",
    "            else:\n",
    "                remove_list.append(rxn)\n",
    "                rxn_output = rxn.split('_')[2]\n",
    "                total_input = total_tRNA_products[rxn_output]\n",
    "                new_rxn = total_input + '_to_' + rxn_output\n",
    "                position = graph[rxn]\n",
    "                temp_graph.update({new_rxn : position })\n",
    " \n",
    "    for rxn_1 in remove_list:\n",
    "        del graph[rxn_1]\n",
    "    graph['total_sub_rxns'] = graph['total_sub_rxns'] + remove_list  \n",
    "    \n",
    "    for new_rxn in temp_graph.keys():\n",
    "        graph.update({new_rxn : temp_graph[new_rxn]})\n",
    "        \n",
    "    graph['total_sub_rxns'] = graph['total_sub_rxns'] + do_not_remove_list    \n",
    "    return graph\n",
    "                \n",
    "#new_graph = copy.deepcopy(reduce_subRXNs_to_totalRXNS(graph))\n",
    "#print len(new_graph['total_sub_rxns'])\n",
    "#new_graph                "
   ]
  },
  {
   "cell_type": "raw",
   "metadata": {},
   "source": [
    "calls previous function\n",
    "for every bnum in modification dictionary, reduce_subRXNs_to_totalRXNS runs\n",
    "turns sub reactions into total modifications"
   ]
  },
  {
   "cell_type": "code",
   "execution_count": 21,
   "metadata": {
    "collapsed": false
   },
   "outputs": [],
   "source": [
    "def create_final_bnum_modification_dict(modification_network, rna_type):\n",
    "    \"\"\"\n",
    "    description: \n",
    "        calls reduce_subRXNs_to_totalRXNS to reduce the bnum modification dict to total reactions and keeps track\n",
    "        of deleted sub-rxns\n",
    "    input:\n",
    "        adjust_adenine_RNA_mods(modification_network, rna_type) : bnum modification dictionary\n",
    "    output: \n",
    "        bnum modification dict with total modifications rather than sub_rxns\n",
    "    \"\"\"\n",
    "    import copy\n",
    "    final_substrate_modification_dict = copy.deepcopy(adjust_adenine_RNA_mods(modification_network, rna_type))\n",
    "    print '3C.' ,'\\t', 'REDUCING sub reactions to total reactions'\n",
    "    for bnum in final_substrate_modification_dict:\n",
    "        graph = final_substrate_modification_dict[bnum]\n",
    "        graph = reduce_subRXNs_to_totalRXNS(graph)\n",
    "        final_substrate_modification_dict.update({bnum : graph})\n",
    "    return final_substrate_modification_dict"
   ]
  },
  {
   "cell_type": "markdown",
   "metadata": {},
   "source": [
    "##  3C : Result! \n",
    "### OUTPUT: each bnum : 'total modifications' : [@position], 'total sub modifications'}"
   ]
  },
  {
   "cell_type": "raw",
   "metadata": {
    "collapsed": false
   },
   "source": [
    "import copy\n",
    "final_substrate_modification_dict = copy.deepcopy(create_final_bnum_modification_dict('tRNA'))\n",
    "final_substrate_modification_dict"
   ]
  },
  {
   "cell_type": "markdown",
   "metadata": {},
   "source": [
    "# 4. Combining Mododomics Network Paths (2.) & Bnum Substrates  (3.) "
   ]
  },
  {
   "cell_type": "markdown",
   "metadata": {},
   "source": [
    "## 4A : code"
   ]
  },
  {
   "cell_type": "raw",
   "metadata": {},
   "source": [
    "adds all paths to modification substrate dictionary\n",
    "bnum / 'total mod' : [ all available paths based on substrate details for sub reactions ] "
   ]
  },
  {
   "cell_type": "code",
   "execution_count": 22,
   "metadata": {
    "collapsed": false
   },
   "outputs": [],
   "source": [
    "def add_MODOMICS_path_numbers_to_bnum_modification_dict(modification_network, rna_type):\n",
    "    \"\"\"\n",
    "    description:\n",
    "        identifies which modomics paths are present in the modification reactions for the bnum modification dict\n",
    "    input:\n",
    "        add_carriers_to_rna_paths(modification_network, rna_type) : modomics network path with enzymes, carriers, and metabolite details\n",
    "    output: \n",
    "        bnum : {total_mod : [paths available to the bnum substrate]}  \n",
    "    \"\"\"\n",
    "    import copy\n",
    "    temp_dict_4_final = copy.deepcopy(add_carriers_to_rna_paths(modification_network, rna_type))\n",
    "    final_substrate_modification_dict = copy.deepcopy(create_final_bnum_modification_dict(modification_network, 'tRNA'))\n",
    "    print '4A.' ,'\\t', 'ADDING modomics path network to bnum_modification_dict'\n",
    "    \n",
    "    bnum_temp_dict = {}\n",
    "    for bnum in final_substrate_modification_dict:\n",
    "        temp_dict = {}\n",
    "        for total_mod in temp_dict_4_final:\n",
    "            path_list = []\n",
    "\n",
    "            if total_mod in final_substrate_modification_dict[bnum].keys():\n",
    "                for path_number in temp_dict_4_final[total_mod]:\n",
    "                    #check that the positions are aligned\n",
    "                    path_position = temp_dict_4_final[total_mod][path_number]['position']\n",
    "                    modification_postion = final_substrate_modification_dict[bnum][total_mod]\n",
    "\n",
    "                    for mod_position in modification_postion:\n",
    "                        if mod_position == str(path_position):\n",
    "                            path_rxns = temp_dict_4_final[total_mod][path_number].get('total_path_rxns')\n",
    "                            count = 0\n",
    "\n",
    "                            for sub_rxn in path_rxns:\n",
    "                                if sub_rxn in final_substrate_modification_dict[bnum]['total_sub_rxns']:\n",
    "                                    count += 1\n",
    "                            if count == len(path_rxns):\n",
    "                                path_list.append(path_number)\n",
    "            temp_dict.update({total_mod : path_list})\n",
    "            remove_list = []\n",
    "            for total_mod in temp_dict.keys():\n",
    "                if len(temp_dict[total_mod]) == 0 :\n",
    "                    remove_list.append(total_mod)\n",
    "            for total_mod in remove_list:\n",
    "                del temp_dict[total_mod]\n",
    "        bnum_temp_dict.update({bnum : temp_dict})\n",
    "    return bnum_temp_dict"
   ]
  },
  {
   "cell_type": "raw",
   "metadata": {},
   "source": [
    "uses equivalent path checker to determine if paths are redunant, substitutes individual paths for 'equivalent path #' \n"
   ]
  },
  {
   "cell_type": "code",
   "execution_count": 23,
   "metadata": {
    "collapsed": false
   },
   "outputs": [],
   "source": [
    "def add_equivalent_paths_to_bnum_modification_dict(modification_network, rna_type, enzymes_or_metabolites):\n",
    "    \"\"\"\n",
    "    description: converts the bnum modification dictionary path list -- > equivalent path list\n",
    "        \n",
    "    input: \n",
    "        add_MODOMICS_path_numbers_to_bnum_modification_dict(modification_network, rna_type) : \n",
    "        check_equivalent_RNA_MODOMICS_paths(rna_type, enzymes_or_metabolites) : checks equivalent paths\n",
    "        \n",
    "    output: \n",
    "     { bnum : { 'total_mod' : [equal path names] } } \n",
    "    \"\"\"\n",
    "    import copy\n",
    "    mod_equivalent_paths = copy.deepcopy(check_equivalent_RNA_MODOMICS_paths(modification_network,rna_type, enzymes_or_metabolites))\n",
    "    bnum_temp_dict_2 = copy.deepcopy(add_MODOMICS_path_numbers_to_bnum_modification_dict(modification_network, rna_type))\n",
    "\n",
    "    for bnum in bnum_temp_dict_2:\n",
    "        for total_mod in mod_equivalent_paths:\n",
    "            if total_mod in bnum_temp_dict_2[bnum].keys():\n",
    "\n",
    "                for equal_path, path_list in mod_equivalent_paths[total_mod].iteritems():\n",
    "                    for path_number in path_list:\n",
    "                        if path_number in bnum_temp_dict_2[bnum][total_mod]:\n",
    "                            if equal_path not in bnum_temp_dict_2[bnum][total_mod]:\n",
    "                                bnum_temp_dict_2[bnum][total_mod] += [equal_path]\n",
    "                            bnum_temp_dict_2[bnum][total_mod].remove(path_number)\n",
    "    return bnum_temp_dict_2"
   ]
  },
  {
   "cell_type": "markdown",
   "metadata": {},
   "source": [
    "# 5. Collect all results"
   ]
  },
  {
   "cell_type": "code",
   "execution_count": null,
   "metadata": {
    "collapsed": true
   },
   "outputs": [],
   "source": []
  },
  {
   "cell_type": "code",
   "execution_count": null,
   "metadata": {
    "collapsed": true
   },
   "outputs": [],
   "source": []
  },
  {
   "cell_type": "code",
   "execution_count": 24,
   "metadata": {
    "collapsed": false,
    "scrolled": false
   },
   "outputs": [
    {
     "name": "stdout",
     "output_type": "stream",
     "text": [
      "2B. \tCREATING modomics path network\n",
      "2C. \tOBTAINING enzyme info from modomics path network\n",
      "2D. \tADDING enzyme info to modomics path network\n",
      "2D. \tFIXING modomics path network for multiple enzymes/positions\n",
      "\t\tCreating new paths for U_to_Y\n",
      "\t\tRemoved position [32] for U_to_cmnm5Um \t\t --> occurs @ 34\n",
      "\t\tCreating new paths for U_to_Um\n",
      "\t\tCreating new paths for C_to_Cm\n",
      "\t\tCreating new paths for U_to_DDusgen\n",
      "\t\tCreating new paths for U_to_DDusA\n",
      "2E. \tADDING metabolite info to modomics path network\n",
      "2F. \tADDING carrier info to modomics path network\n",
      "2G. \tASSIGNING equivalent paths in modomics path network\n"
     ]
    }
   ],
   "source": [
    "import copy\n",
    "#bnum modifications\n",
    "equal_paths_definitions = copy.deepcopy(check_equivalent_RNA_MODOMICS_paths(modification_network, 'tRNA','enzymes'))\n",
    "#equal paths definitions"
   ]
  },
  {
   "cell_type": "code",
   "execution_count": 28,
   "metadata": {
    "collapsed": false,
    "scrolled": true
   },
   "outputs": [
    {
     "name": "stdout",
     "output_type": "stream",
     "text": [
      "2B. \tCREATING modomics path network\n",
      "2C. \tOBTAINING enzyme info from modomics path network\n",
      "2D. \tADDING enzyme info to modomics path network\n",
      "2D. \tFIXING modomics path network for multiple enzymes/positions\n",
      "\t\tCreating new paths for U_to_Y\n",
      "\t\tRemoved position [32] for U_to_cmnm5Um \t\t --> occurs @ 34\n",
      "\t\tCreating new paths for U_to_Um\n",
      "\t\tCreating new paths for C_to_Cm\n",
      "\t\tCreating new paths for U_to_DDusgen\n",
      "\t\tCreating new paths for U_to_DDusA\n",
      "2E. \tADDING metabolite info to modomics path network\n",
      "2F. \tADDING carrier info to modomics path network\n"
     ]
    }
   ],
   "source": [
    "sub_path_details = copy.deepcopy(add_carriers_to_rna_paths(modification_network,'tRNA'))"
   ]
  },
  {
   "cell_type": "code",
   "execution_count": 29,
   "metadata": {
    "collapsed": false,
    "scrolled": true
   },
   "outputs": [
    {
     "name": "stdout",
     "output_type": "stream",
     "text": [
      "2B. \tCREATING modomics path network\n",
      "2C. \tOBTAINING enzyme info from modomics path network\n",
      "2D. \tADDING enzyme info to modomics path network\n",
      "2D. \tFIXING modomics path network for multiple enzymes/positions\n",
      "\t\tCreating new paths for U_to_Y\n",
      "\t\tRemoved position [32] for U_to_cmnm5Um \t\t --> occurs @ 34\n",
      "\t\tCreating new paths for U_to_Um\n",
      "\t\tCreating new paths for C_to_Cm\n",
      "\t\tCreating new paths for U_to_DDusgen\n",
      "\t\tCreating new paths for U_to_DDusA\n",
      "2E. \tADDING metabolite info to modomics path network\n",
      "2F. \tADDING carrier info to modomics path network\n",
      "2G. \tASSIGNING equivalent paths in modomics path network\n",
      "2B. \tCREATING modomics path network\n",
      "2C. \tOBTAINING enzyme info from modomics path network\n",
      "2D. \tADDING enzyme info to modomics path network\n",
      "2D. \tFIXING modomics path network for multiple enzymes/positions\n",
      "\t\tCreating new paths for U_to_Y\n",
      "\t\tRemoved position [32] for U_to_cmnm5Um \t\t --> occurs @ 34\n",
      "\t\tCreating new paths for U_to_Um\n",
      "\t\tCreating new paths for C_to_Cm\n",
      "\t\tCreating new paths for U_to_DDusgen\n",
      "\t\tCreating new paths for U_to_DDusA\n",
      "2E. \tADDING metabolite info to modomics path network\n",
      "2F. \tADDING carrier info to modomics path network\n",
      "3A. "
     ]
    },
    {
     "name": "stderr",
     "output_type": "stream",
     "text": [
      "100%|██████████| 7/7 [00:00<00:00, 14.09it/s]\n",
      "100%|██████████| 4/4 [00:00<00:00, 99.82it/s]\n",
      "100%|██████████| 8/8 [00:00<00:00, 17.46it/s]\n",
      "100%|██████████| 16/16 [00:00<00:00, 26.02it/s]"
     ]
    },
    {
     "name": "stdout",
     "output_type": "stream",
     "text": [
      " \tCREATING Master DF w/ bnum, modifications, positions\n",
      "3B. "
     ]
    },
    {
     "name": "stderr",
     "output_type": "stream",
     "text": [
      "\n",
      " 25%|██▌       | 40/158 [00:02<00:07, 14.86it/s]"
     ]
    },
    {
     "name": "stdout",
     "output_type": "stream",
     "text": [
      " \tCORRECTING DF for sequence allignment in substrate/modifications\n",
      "\t\tsequence checking : Adenine\n"
     ]
    },
    {
     "name": "stderr",
     "output_type": "stream",
     "text": [
      "\n"
     ]
    },
    {
     "ename": "KeyboardInterrupt",
     "evalue": "",
     "output_type": "error",
     "traceback": [
      "\u001b[1;31m---------------------------------------------------------------------------\u001b[0m",
      "\u001b[1;31mKeyboardInterrupt\u001b[0m                         Traceback (most recent call last)",
      "\u001b[1;32m<ipython-input-29-9459ce96a285>\u001b[0m in \u001b[0;36m<module>\u001b[1;34m()\u001b[0m\n\u001b[1;32m----> 1\u001b[1;33m \u001b[0mbnum_modification_dict\u001b[0m \u001b[1;33m=\u001b[0m \u001b[0mcopy\u001b[0m\u001b[1;33m.\u001b[0m\u001b[0mdeepcopy\u001b[0m\u001b[1;33m(\u001b[0m\u001b[0madd_equivalent_paths_to_bnum_modification_dict\u001b[0m\u001b[1;33m(\u001b[0m\u001b[0mmodification_network\u001b[0m\u001b[1;33m,\u001b[0m \u001b[1;34m'tRNA'\u001b[0m \u001b[1;33m,\u001b[0m \u001b[1;34m'metabolites'\u001b[0m\u001b[1;33m)\u001b[0m\u001b[1;33m)\u001b[0m\u001b[1;33m\u001b[0m\u001b[0m\n\u001b[0m",
      "\u001b[1;32m<ipython-input-23-594a3c83f5dd>\u001b[0m in \u001b[0;36madd_equivalent_paths_to_bnum_modification_dict\u001b[1;34m(modification_network, rna_type, enzymes_or_metabolites)\u001b[0m\n\u001b[0;32m     12\u001b[0m     \u001b[1;32mimport\u001b[0m \u001b[0mcopy\u001b[0m\u001b[1;33m\u001b[0m\u001b[0m\n\u001b[0;32m     13\u001b[0m     \u001b[0mmod_equivalent_paths\u001b[0m \u001b[1;33m=\u001b[0m \u001b[0mcopy\u001b[0m\u001b[1;33m.\u001b[0m\u001b[0mdeepcopy\u001b[0m\u001b[1;33m(\u001b[0m\u001b[0mcheck_equivalent_RNA_MODOMICS_paths\u001b[0m\u001b[1;33m(\u001b[0m\u001b[0mmodification_network\u001b[0m\u001b[1;33m,\u001b[0m\u001b[0mrna_type\u001b[0m\u001b[1;33m,\u001b[0m \u001b[0menzymes_or_metabolites\u001b[0m\u001b[1;33m)\u001b[0m\u001b[1;33m)\u001b[0m\u001b[1;33m\u001b[0m\u001b[0m\n\u001b[1;32m---> 14\u001b[1;33m     \u001b[0mbnum_temp_dict_2\u001b[0m \u001b[1;33m=\u001b[0m \u001b[0mcopy\u001b[0m\u001b[1;33m.\u001b[0m\u001b[0mdeepcopy\u001b[0m\u001b[1;33m(\u001b[0m\u001b[0madd_MODOMICS_path_numbers_to_bnum_modification_dict\u001b[0m\u001b[1;33m(\u001b[0m\u001b[0mmodification_network\u001b[0m\u001b[1;33m,\u001b[0m \u001b[0mrna_type\u001b[0m\u001b[1;33m)\u001b[0m\u001b[1;33m)\u001b[0m\u001b[1;33m\u001b[0m\u001b[0m\n\u001b[0m\u001b[0;32m     15\u001b[0m \u001b[1;33m\u001b[0m\u001b[0m\n\u001b[0;32m     16\u001b[0m     \u001b[1;32mfor\u001b[0m \u001b[0mbnum\u001b[0m \u001b[1;32min\u001b[0m \u001b[0mbnum_temp_dict_2\u001b[0m\u001b[1;33m:\u001b[0m\u001b[1;33m\u001b[0m\u001b[0m\n",
      "\u001b[1;32m<ipython-input-22-c9560c12ca61>\u001b[0m in \u001b[0;36madd_MODOMICS_path_numbers_to_bnum_modification_dict\u001b[1;34m(modification_network, rna_type)\u001b[0m\n\u001b[0;32m     10\u001b[0m     \u001b[1;32mimport\u001b[0m \u001b[0mcopy\u001b[0m\u001b[1;33m\u001b[0m\u001b[0m\n\u001b[0;32m     11\u001b[0m     \u001b[0mtemp_dict_4_final\u001b[0m \u001b[1;33m=\u001b[0m \u001b[0mcopy\u001b[0m\u001b[1;33m.\u001b[0m\u001b[0mdeepcopy\u001b[0m\u001b[1;33m(\u001b[0m\u001b[0madd_carriers_to_rna_paths\u001b[0m\u001b[1;33m(\u001b[0m\u001b[0mmodification_network\u001b[0m\u001b[1;33m,\u001b[0m \u001b[0mrna_type\u001b[0m\u001b[1;33m)\u001b[0m\u001b[1;33m)\u001b[0m\u001b[1;33m\u001b[0m\u001b[0m\n\u001b[1;32m---> 12\u001b[1;33m     \u001b[0mfinal_substrate_modification_dict\u001b[0m \u001b[1;33m=\u001b[0m \u001b[0mcopy\u001b[0m\u001b[1;33m.\u001b[0m\u001b[0mdeepcopy\u001b[0m\u001b[1;33m(\u001b[0m\u001b[0mcreate_final_bnum_modification_dict\u001b[0m\u001b[1;33m(\u001b[0m\u001b[0mmodification_network\u001b[0m\u001b[1;33m,\u001b[0m \u001b[1;34m'tRNA'\u001b[0m\u001b[1;33m)\u001b[0m\u001b[1;33m)\u001b[0m\u001b[1;33m\u001b[0m\u001b[0m\n\u001b[0m\u001b[0;32m     13\u001b[0m     \u001b[1;32mprint\u001b[0m \u001b[1;34m'4A.'\u001b[0m \u001b[1;33m,\u001b[0m\u001b[1;34m'\\t'\u001b[0m\u001b[1;33m,\u001b[0m \u001b[1;34m'ADDING modomics path network to bnum_modification_dict'\u001b[0m\u001b[1;33m\u001b[0m\u001b[0m\n\u001b[0;32m     14\u001b[0m \u001b[1;33m\u001b[0m\u001b[0m\n",
      "\u001b[1;32m<ipython-input-21-c42097a0fa9e>\u001b[0m in \u001b[0;36mcreate_final_bnum_modification_dict\u001b[1;34m(modification_network, rna_type)\u001b[0m\n\u001b[0;32m     10\u001b[0m     \"\"\"\n\u001b[0;32m     11\u001b[0m     \u001b[1;32mimport\u001b[0m \u001b[0mcopy\u001b[0m\u001b[1;33m\u001b[0m\u001b[0m\n\u001b[1;32m---> 12\u001b[1;33m     \u001b[0mfinal_substrate_modification_dict\u001b[0m \u001b[1;33m=\u001b[0m \u001b[0mcopy\u001b[0m\u001b[1;33m.\u001b[0m\u001b[0mdeepcopy\u001b[0m\u001b[1;33m(\u001b[0m\u001b[0madjust_adenine_RNA_mods\u001b[0m\u001b[1;33m(\u001b[0m\u001b[0mmodification_network\u001b[0m\u001b[1;33m,\u001b[0m \u001b[0mrna_type\u001b[0m\u001b[1;33m)\u001b[0m\u001b[1;33m)\u001b[0m\u001b[1;33m\u001b[0m\u001b[0m\n\u001b[0m\u001b[0;32m     13\u001b[0m     \u001b[1;32mprint\u001b[0m \u001b[1;34m'3C.'\u001b[0m \u001b[1;33m,\u001b[0m\u001b[1;34m'\\t'\u001b[0m\u001b[1;33m,\u001b[0m \u001b[1;34m'REDUCING sub reactions to total reactions'\u001b[0m\u001b[1;33m\u001b[0m\u001b[0m\n\u001b[0;32m     14\u001b[0m     \u001b[1;32mfor\u001b[0m \u001b[0mbnum\u001b[0m \u001b[1;32min\u001b[0m \u001b[0mfinal_substrate_modification_dict\u001b[0m\u001b[1;33m:\u001b[0m\u001b[1;33m\u001b[0m\u001b[0m\n",
      "\u001b[1;32m<ipython-input-19-1dd1d92fdc49>\u001b[0m in \u001b[0;36madjust_adenine_RNA_mods\u001b[1;34m(modification_network, rna_type)\u001b[0m\n\u001b[0;32m     18\u001b[0m \u001b[1;33m\u001b[0m\u001b[0m\n\u001b[0;32m     19\u001b[0m     \u001b[1;32mimport\u001b[0m \u001b[0mcopy\u001b[0m\u001b[1;33m\u001b[0m\u001b[0m\n\u001b[1;32m---> 20\u001b[1;33m     \u001b[0mcorrection_dict\u001b[0m \u001b[1;33m=\u001b[0m \u001b[0mcopy\u001b[0m\u001b[1;33m.\u001b[0m\u001b[0mdeepcopy\u001b[0m\u001b[1;33m(\u001b[0m\u001b[0mcreate_RNA_bnum_modification_dict\u001b[0m\u001b[1;33m(\u001b[0m\u001b[0mmodification_network\u001b[0m\u001b[1;33m,\u001b[0m \u001b[0mrna_type\u001b[0m\u001b[1;33m)\u001b[0m\u001b[1;33m)\u001b[0m\u001b[1;33m\u001b[0m\u001b[0m\n\u001b[0m\u001b[0;32m     21\u001b[0m     \u001b[1;32mprint\u001b[0m \u001b[1;34m'3C.'\u001b[0m\u001b[1;33m,\u001b[0m\u001b[1;34m'\\t'\u001b[0m\u001b[1;33m,\u001b[0m  \u001b[1;34m\"ADJUSTING adenine modifications in dictionary\"\u001b[0m\u001b[1;33m\u001b[0m\u001b[0m\n\u001b[0;32m     22\u001b[0m \u001b[1;33m\u001b[0m\u001b[0m\n",
      "\u001b[1;32m<ipython-input-26-a9b6c2c95911>\u001b[0m in \u001b[0;36mcreate_RNA_bnum_modification_dict\u001b[1;34m(modification_network, rna_type)\u001b[0m\n\u001b[0;32m     14\u001b[0m     \"\"\"\n\u001b[0;32m     15\u001b[0m     \u001b[0mbnum_mods\u001b[0m \u001b[1;33m=\u001b[0m \u001b[1;33m{\u001b[0m\u001b[1;33m}\u001b[0m\u001b[1;33m\u001b[0m\u001b[0m\n\u001b[1;32m---> 16\u001b[1;33m     \u001b[0mdf\u001b[0m \u001b[1;33m=\u001b[0m \u001b[0mcheck_RNA_substrate_with_sequences_adjust_D_loop_mods\u001b[0m\u001b[1;33m(\u001b[0m\u001b[0mmodification_network\u001b[0m\u001b[1;33m,\u001b[0m \u001b[0mrna_type\u001b[0m\u001b[1;33m)\u001b[0m\u001b[1;33m\u001b[0m\u001b[0m\n\u001b[0m\u001b[0;32m     17\u001b[0m     \u001b[1;32mprint\u001b[0m \u001b[1;34m'3C. '\u001b[0m \u001b[1;33m,\u001b[0m \u001b[1;34m'\\t'\u001b[0m\u001b[1;33m,\u001b[0m \u001b[1;34m'CREATING bnum modification dict from DF'\u001b[0m\u001b[1;33m\u001b[0m\u001b[0m\n\u001b[0;32m     18\u001b[0m     \u001b[1;32mfor\u001b[0m \u001b[0mtrna\u001b[0m \u001b[1;32min\u001b[0m \u001b[0mtqdm\u001b[0m\u001b[1;33m(\u001b[0m\u001b[0mtrna_bnum_anticodon_start_position_dict\u001b[0m\u001b[1;33m.\u001b[0m\u001b[0mkeys\u001b[0m\u001b[1;33m(\u001b[0m\u001b[1;33m)\u001b[0m\u001b[1;33m)\u001b[0m\u001b[1;33m:\u001b[0m\u001b[1;33m\u001b[0m\u001b[0m\n",
      "\u001b[1;32m<ipython-input-25-51ec27504b09>\u001b[0m in \u001b[0;36mcheck_RNA_substrate_with_sequences_adjust_D_loop_mods\u001b[1;34m(modification_network, rna_type)\u001b[0m\n\u001b[0;32m     33\u001b[0m             \u001b[1;32mif\u001b[0m \u001b[0mbnum\u001b[0m \u001b[1;32min\u001b[0m \u001b[0mlist\u001b[0m\u001b[1;33m(\u001b[0m\u001b[0mdf\u001b[0m\u001b[1;33m.\u001b[0m\u001b[0mbnum\u001b[0m\u001b[1;33m)\u001b[0m\u001b[1;33m:\u001b[0m\u001b[1;33m\u001b[0m\u001b[0m\n\u001b[0;32m     34\u001b[0m                 \u001b[1;32mfor\u001b[0m \u001b[0mindex\u001b[0m\u001b[1;33m,\u001b[0m \u001b[0mrow\u001b[0m \u001b[1;32min\u001b[0m \u001b[0mdf\u001b[0m\u001b[1;33m.\u001b[0m\u001b[0miterrows\u001b[0m\u001b[1;33m(\u001b[0m\u001b[1;33m)\u001b[0m\u001b[1;33m:\u001b[0m\u001b[1;33m\u001b[0m\u001b[0m\n\u001b[1;32m---> 35\u001b[1;33m                     \u001b[1;32mif\u001b[0m \u001b[0mbnum\u001b[0m \u001b[1;33m==\u001b[0m \u001b[0mrow\u001b[0m\u001b[1;33m.\u001b[0m\u001b[0mbnum\u001b[0m \u001b[1;32mand\u001b[0m \u001b[0mrow\u001b[0m\u001b[1;33m.\u001b[0m\u001b[0mnucleotide\u001b[0m \u001b[1;33m==\u001b[0m \u001b[0mnucleotide\u001b[0m \u001b[1;32mand\u001b[0m \u001b[0mrow\u001b[0m\u001b[1;33m.\u001b[0m\u001b[0mrestriction\u001b[0m \u001b[1;33m==\u001b[0m \u001b[1;34m'this is a substrate'\u001b[0m\u001b[1;33m:\u001b[0m\u001b[1;33m\u001b[0m\u001b[0m\n\u001b[0m\u001b[0;32m     36\u001b[0m                         \u001b[1;31m#this will check eveything but D-loop/V-loop @ 17A, 20A, 20B\u001b[0m\u001b[1;33m\u001b[0m\u001b[1;33m\u001b[0m\u001b[0m\n\u001b[0;32m     37\u001b[0m                         \u001b[1;32mif\u001b[0m \u001b[0mtype\u001b[0m\u001b[1;33m(\u001b[0m\u001b[0mrow\u001b[0m\u001b[1;33m.\u001b[0m\u001b[0mposition\u001b[0m\u001b[1;33m)\u001b[0m \u001b[1;33m!=\u001b[0m \u001b[0mstr\u001b[0m\u001b[1;33m:\u001b[0m\u001b[1;33m\u001b[0m\u001b[0m\n",
      "\u001b[1;32m/usr/local/lib/python2.7/dist-packages/pandas/core/generic.pyc\u001b[0m in \u001b[0;36m__getattr__\u001b[1;34m(self, name)\u001b[0m\n\u001b[0;32m   2669\u001b[0m         \u001b[1;32melse\u001b[0m\u001b[1;33m:\u001b[0m\u001b[1;33m\u001b[0m\u001b[0m\n\u001b[0;32m   2670\u001b[0m             \u001b[1;32mif\u001b[0m \u001b[0mname\u001b[0m \u001b[1;32min\u001b[0m \u001b[0mself\u001b[0m\u001b[1;33m.\u001b[0m\u001b[0m_info_axis\u001b[0m\u001b[1;33m:\u001b[0m\u001b[1;33m\u001b[0m\u001b[0m\n\u001b[1;32m-> 2671\u001b[1;33m                 \u001b[1;32mreturn\u001b[0m \u001b[0mself\u001b[0m\u001b[1;33m[\u001b[0m\u001b[0mname\u001b[0m\u001b[1;33m]\u001b[0m\u001b[1;33m\u001b[0m\u001b[0m\n\u001b[0m\u001b[0;32m   2672\u001b[0m             \u001b[1;32mreturn\u001b[0m \u001b[0mobject\u001b[0m\u001b[1;33m.\u001b[0m\u001b[0m__getattribute__\u001b[0m\u001b[1;33m(\u001b[0m\u001b[0mself\u001b[0m\u001b[1;33m,\u001b[0m \u001b[0mname\u001b[0m\u001b[1;33m)\u001b[0m\u001b[1;33m\u001b[0m\u001b[0m\n\u001b[0;32m   2673\u001b[0m \u001b[1;33m\u001b[0m\u001b[0m\n",
      "\u001b[1;32m/usr/local/lib/python2.7/dist-packages/pandas/core/series.pyc\u001b[0m in \u001b[0;36m__getitem__\u001b[1;34m(self, key)\u001b[0m\n\u001b[0;32m    581\u001b[0m         \u001b[0mkey\u001b[0m \u001b[1;33m=\u001b[0m \u001b[0mcom\u001b[0m\u001b[1;33m.\u001b[0m\u001b[0m_apply_if_callable\u001b[0m\u001b[1;33m(\u001b[0m\u001b[0mkey\u001b[0m\u001b[1;33m,\u001b[0m \u001b[0mself\u001b[0m\u001b[1;33m)\u001b[0m\u001b[1;33m\u001b[0m\u001b[0m\n\u001b[0;32m    582\u001b[0m         \u001b[1;32mtry\u001b[0m\u001b[1;33m:\u001b[0m\u001b[1;33m\u001b[0m\u001b[0m\n\u001b[1;32m--> 583\u001b[1;33m             \u001b[0mresult\u001b[0m \u001b[1;33m=\u001b[0m \u001b[0mself\u001b[0m\u001b[1;33m.\u001b[0m\u001b[0mindex\u001b[0m\u001b[1;33m.\u001b[0m\u001b[0mget_value\u001b[0m\u001b[1;33m(\u001b[0m\u001b[0mself\u001b[0m\u001b[1;33m,\u001b[0m \u001b[0mkey\u001b[0m\u001b[1;33m)\u001b[0m\u001b[1;33m\u001b[0m\u001b[0m\n\u001b[0m\u001b[0;32m    584\u001b[0m \u001b[1;33m\u001b[0m\u001b[0m\n\u001b[0;32m    585\u001b[0m             \u001b[1;32mif\u001b[0m \u001b[1;32mnot\u001b[0m \u001b[0mlib\u001b[0m\u001b[1;33m.\u001b[0m\u001b[0misscalar\u001b[0m\u001b[1;33m(\u001b[0m\u001b[0mresult\u001b[0m\u001b[1;33m)\u001b[0m\u001b[1;33m:\u001b[0m\u001b[1;33m\u001b[0m\u001b[0m\n",
      "\u001b[1;32m/usr/local/lib/python2.7/dist-packages/pandas/indexes/base.pyc\u001b[0m in \u001b[0;36mget_value\u001b[1;34m(self, series, key)\u001b[0m\n\u001b[0;32m   1975\u001b[0m         \u001b[0mk\u001b[0m \u001b[1;33m=\u001b[0m \u001b[0m_values_from_object\u001b[0m\u001b[1;33m(\u001b[0m\u001b[0mkey\u001b[0m\u001b[1;33m)\u001b[0m\u001b[1;33m\u001b[0m\u001b[0m\n\u001b[0;32m   1976\u001b[0m \u001b[1;33m\u001b[0m\u001b[0m\n\u001b[1;32m-> 1977\u001b[1;33m         \u001b[0mk\u001b[0m \u001b[1;33m=\u001b[0m \u001b[0mself\u001b[0m\u001b[1;33m.\u001b[0m\u001b[0m_convert_scalar_indexer\u001b[0m\u001b[1;33m(\u001b[0m\u001b[0mk\u001b[0m\u001b[1;33m,\u001b[0m \u001b[0mkind\u001b[0m\u001b[1;33m=\u001b[0m\u001b[1;34m'getitem'\u001b[0m\u001b[1;33m)\u001b[0m\u001b[1;33m\u001b[0m\u001b[0m\n\u001b[0m\u001b[0;32m   1978\u001b[0m         \u001b[1;32mtry\u001b[0m\u001b[1;33m:\u001b[0m\u001b[1;33m\u001b[0m\u001b[0m\n\u001b[0;32m   1979\u001b[0m             return self._engine.get_value(s, k,\n",
      "\u001b[1;32m/usr/local/lib/python2.7/dist-packages/pandas/indexes/base.pyc\u001b[0m in \u001b[0;36m_convert_scalar_indexer\u001b[1;34m(self, key, kind)\u001b[0m\n\u001b[0;32m    985\u001b[0m             \u001b[1;32mreturn\u001b[0m \u001b[0mself\u001b[0m\u001b[1;33m.\u001b[0m\u001b[0m_validate_indexer\u001b[0m\u001b[1;33m(\u001b[0m\u001b[1;34m'positional'\u001b[0m\u001b[1;33m,\u001b[0m \u001b[0mkey\u001b[0m\u001b[1;33m,\u001b[0m \u001b[0mkind\u001b[0m\u001b[1;33m)\u001b[0m\u001b[1;33m\u001b[0m\u001b[0m\n\u001b[0;32m    986\u001b[0m \u001b[1;33m\u001b[0m\u001b[0m\n\u001b[1;32m--> 987\u001b[1;33m         \u001b[1;32mif\u001b[0m \u001b[0mlen\u001b[0m\u001b[1;33m(\u001b[0m\u001b[0mself\u001b[0m\u001b[1;33m)\u001b[0m \u001b[1;32mand\u001b[0m \u001b[1;32mnot\u001b[0m \u001b[0misinstance\u001b[0m\u001b[1;33m(\u001b[0m\u001b[0mself\u001b[0m\u001b[1;33m,\u001b[0m \u001b[0mABCMultiIndex\u001b[0m\u001b[1;33m,\u001b[0m\u001b[1;33m)\u001b[0m\u001b[1;33m:\u001b[0m\u001b[1;33m\u001b[0m\u001b[0m\n\u001b[0m\u001b[0;32m    988\u001b[0m \u001b[1;33m\u001b[0m\u001b[0m\n\u001b[0;32m    989\u001b[0m             \u001b[1;31m# we can raise here if we are definitive that this\u001b[0m\u001b[1;33m\u001b[0m\u001b[1;33m\u001b[0m\u001b[0m\n",
      "\u001b[1;32m/usr/local/lib/python2.7/dist-packages/pandas/types/generic.pyc\u001b[0m in \u001b[0;36m_check\u001b[1;34m(cls, inst)\u001b[0m\n\u001b[0;32m      5\u001b[0m \u001b[1;31m# objects\u001b[0m\u001b[1;33m\u001b[0m\u001b[1;33m\u001b[0m\u001b[0m\n\u001b[0;32m      6\u001b[0m \u001b[1;32mdef\u001b[0m \u001b[0mcreate_pandas_abc_type\u001b[0m\u001b[1;33m(\u001b[0m\u001b[0mname\u001b[0m\u001b[1;33m,\u001b[0m \u001b[0mattr\u001b[0m\u001b[1;33m,\u001b[0m \u001b[0mcomp\u001b[0m\u001b[1;33m)\u001b[0m\u001b[1;33m:\u001b[0m\u001b[1;33m\u001b[0m\u001b[0m\n\u001b[1;32m----> 7\u001b[1;33m     \u001b[1;33m@\u001b[0m\u001b[0mclassmethod\u001b[0m\u001b[1;33m\u001b[0m\u001b[0m\n\u001b[0m\u001b[0;32m      8\u001b[0m     \u001b[1;32mdef\u001b[0m \u001b[0m_check\u001b[0m\u001b[1;33m(\u001b[0m\u001b[0mcls\u001b[0m\u001b[1;33m,\u001b[0m \u001b[0minst\u001b[0m\u001b[1;33m)\u001b[0m\u001b[1;33m:\u001b[0m\u001b[1;33m\u001b[0m\u001b[0m\n\u001b[0;32m      9\u001b[0m         \u001b[1;32mreturn\u001b[0m \u001b[0mgetattr\u001b[0m\u001b[1;33m(\u001b[0m\u001b[0minst\u001b[0m\u001b[1;33m,\u001b[0m \u001b[0mattr\u001b[0m\u001b[1;33m,\u001b[0m \u001b[1;34m'_typ'\u001b[0m\u001b[1;33m)\u001b[0m \u001b[1;32min\u001b[0m \u001b[0mcomp\u001b[0m\u001b[1;33m\u001b[0m\u001b[0m\n",
      "\u001b[1;31mKeyboardInterrupt\u001b[0m: "
     ]
    }
   ],
   "source": [
    "bnum_modification_dict = copy.deepcopy(add_equivalent_paths_to_bnum_modification_dict(modification_network, 'tRNA' , 'metabolites'))\n"
   ]
  },
  {
   "cell_type": "code",
   "execution_count": null,
   "metadata": {
    "collapsed": true
   },
   "outputs": [],
   "source": []
  },
  {
   "cell_type": "markdown",
   "metadata": {},
   "source": [
    "# 6. Converting results into useable inputs"
   ]
  },
  {
   "cell_type": "code",
   "execution_count": 30,
   "metadata": {
    "collapsed": false
   },
   "outputs": [],
   "source": [
    "def build_trna_charging_AND_post_transcriptional_modification_of_tRNA(bnum_modification_dict , equal_paths_definitions, sub_path_details  ):\n",
    "    \"\"\"\n",
    "    description : builds the post_transcriptional_modification_of_tRNA.txt file required for ME 2.0\n",
    "    inputs : \n",
    "        bnum_modification_dict -->  {bnum : total_mod : [equal paths list]}\n",
    "        equal_paths_definitions --> {total_mod : equal_path : [path#s list]}\n",
    "        sub_path_details --> {total_mod : path# : path_details}\n",
    "    output:\n",
    "        saves the post_transcriptional_modification_of_tRNA.txt file\n",
    "        returns the df ^\n",
    "    \"\"\"\n",
    "    print 'Building post_transcriptional_modification_of_tRNA.txt'\n",
    "    df_trna_substrates = pd.DataFrame()\n",
    "    index = 0\n",
    "    for bnum in bnum_modification_dict:\n",
    "        for total_mod in bnum_modification_dict[bnum]:\n",
    "            for equal_path in bnum_modification_dict[bnum][total_mod]:\n",
    "                #simply rename the equal path the first [path#] according to the definitions\n",
    "                path_generic = equal_paths_definitions[total_mod][equal_path][0]\n",
    "                df_trna_substrates.loc[index, 'bnum'] = bnum\n",
    "                df_trna_substrates.loc[index, 'tRNA_total_mod'] = total_mod\n",
    "                df_trna_substrates.loc[index, 'equal_path'] = path_generic\n",
    "                #use sub_path_details to find position\n",
    "                position = sub_path_details[total_mod][path_generic]['position']\n",
    "                if position != '20A':\n",
    "                    position = str(int(float(position)))\n",
    "                df_trna_substrates.loc[index, 'position'] = position\n",
    "                modification = total_mod.split('_')[2]\n",
    "                df_trna_substrates.loc[index, 'modification'] = modification\n",
    "                index = index + 1\n",
    "                \n",
    "    tRNA_charging = {}\n",
    "    print 'Building tRNA_charging.py'\n",
    "    for index, row in df_trna_substrates.iterrows():\n",
    "        temp_dict = {}\n",
    "        position = row.position\n",
    "        modification = row.modification\n",
    "        mod_name = modification\n",
    "        searchable_mod = row.tRNA_total_mod\n",
    "        path = row.equal_path\n",
    "        mod_name_w_path = mod_name + '_' + path\n",
    "        mod_name_w_path = mod_name_w_path + '_at_' + str(position)\n",
    "        \n",
    "        #print mod_name_w_path, searchable_mod\n",
    "        enzymes = sub_path_details[searchable_mod][path]['enzymes']\n",
    "        #print searchable_mod, enzymes\n",
    "        metabolites = sub_path_details[searchable_mod][path]['metabolites']\n",
    "      \n",
    "        carriers = sub_path_details[searchable_mod][path]['carriers']\n",
    "        #print searchable_mod, carriers\n",
    "        enzyme_list = []\n",
    "        for enzyme in enzymes.keys():\n",
    "            enzyme_stoich = enzymes[enzyme]\n",
    "            i = 1\n",
    "            while i <= enzyme_stoich:\n",
    "                enzyme_list.append(enzyme)\n",
    "                i = i + 1\n",
    "        for enzyme in enzyme_list:    \n",
    "            if 'enzyme_unknown' in enzyme:\n",
    "                enzyme_list.remove(enzyme)\n",
    "        if carriers == None:\n",
    "            carriers = {}\n",
    "        temp_dict['machines'] = enzyme_list\n",
    "        temp_dict['metabolites'] = metabolites\n",
    "        temp_dict['carriers'] = carriers\n",
    "        tRNA_charging.update({mod_name_w_path: temp_dict})\n",
    "    \n",
    "    return tRNA_charging, df_trna_substrates"
   ]
  },
  {
   "cell_type": "code",
   "execution_count": null,
   "metadata": {
    "collapsed": false,
    "scrolled": true
   },
   "outputs": [],
   "source": [
    "[trna_charging, df_trna_substrates] = build_trna_charging_AND_post_transcriptional_modification_of_tRNA(bnum_modification_dict , equal_paths_definitions, sub_path_details )\n",
    "\n"
   ]
  },
  {
   "cell_type": "code",
   "execution_count": 31,
   "metadata": {
    "collapsed": false
   },
   "outputs": [],
   "source": [
    "def save_trna_charging_dictionary_or_post_transciptional_files(input_file, tRNA_enzyme):\n",
    "    import json\n",
    "    \n",
    "    if type(input_file) == dict:\n",
    "        trna_charging_path = 'modified_trna_charging_dict_json_files/'\n",
    "        save_file_name = 'tRNA_charging_' +'removed_' + str(tRNA_enzyme) + '.json'\n",
    "        with open(trna_charging_path + save_file_name, 'w') as f:\n",
    "            json.dump(input_file, f)\n",
    "            \n",
    "    else:\n",
    "        \n",
    "        #final conversion to match desired format for post_transcriptional_modification_of_tRNA.txt from DF_trna_substrates\n",
    "        import copy\n",
    "        final_df = copy.deepcopy(input_file)\n",
    "        for index, row in final_df.iterrows():\n",
    "            modification = str(row.modification) + '_' + str(row.equal_path)\n",
    "            final_df.loc[index, 'modification'] = modification\n",
    "        del final_df['tRNA_total_mod']\n",
    "        del final_df['equal_path']\n",
    "        \n",
    "        \n",
    "        #saves the file in correct format!\n",
    "        path = 'modified_post_transcriptional_modification_of_tRNA_csv_files/'\n",
    "        save_file_name = 'post_transcriptional_modification_of_tRNA_' + 'removed_' + str(tRNA_enzyme) + '.txt'\n",
    "        input_file.to_csv(path + save_file_name,  sep =  '\\t', index = False)"
   ]
  },
  {
   "cell_type": "code",
   "execution_count": null,
   "metadata": {
    "collapsed": true
   },
   "outputs": [],
   "source": []
  },
  {
   "cell_type": "code",
   "execution_count": null,
   "metadata": {
    "collapsed": true
   },
   "outputs": [],
   "source": []
  },
  {
   "cell_type": "code",
   "execution_count": 33,
   "metadata": {
    "collapsed": false
   },
   "outputs": [
    {
     "name": "stdout",
     "output_type": "stream",
     "text": [
      "1 YggH_mono\n",
      "2B. \tCREATING modomics path network\n",
      "2C. \tOBTAINING enzyme info from modomics path network\n",
      "2D. \tADDING enzyme info to modomics path network\n"
     ]
    },
    {
     "ename": "KeyError",
     "evalue": "u'G_to_m7G'",
     "output_type": "error",
     "traceback": [
      "\u001b[1;31m---------------------------------------------------------------------------\u001b[0m",
      "\u001b[1;31mKeyError\u001b[0m                                  Traceback (most recent call last)",
      "\u001b[1;32m<ipython-input-33-575dbb85331f>\u001b[0m in \u001b[0;36m<module>\u001b[1;34m()\u001b[0m\n\u001b[0;32m     20\u001b[0m \u001b[1;33m\u001b[0m\u001b[0m\n\u001b[0;32m     21\u001b[0m     \u001b[1;31m#results\u001b[0m\u001b[1;33m\u001b[0m\u001b[1;33m\u001b[0m\u001b[0m\n\u001b[1;32m---> 22\u001b[1;33m     \u001b[0mequal_paths_definitions\u001b[0m \u001b[1;33m=\u001b[0m \u001b[0mcopy\u001b[0m\u001b[1;33m.\u001b[0m\u001b[0mdeepcopy\u001b[0m\u001b[1;33m(\u001b[0m\u001b[0mcheck_equivalent_RNA_MODOMICS_paths\u001b[0m\u001b[1;33m(\u001b[0m\u001b[0mmodification_network\u001b[0m\u001b[1;33m,\u001b[0m \u001b[1;34m'tRNA'\u001b[0m\u001b[1;33m,\u001b[0m\u001b[1;34m'enzymes'\u001b[0m\u001b[1;33m)\u001b[0m\u001b[1;33m)\u001b[0m\u001b[1;33m\u001b[0m\u001b[0m\n\u001b[0m\u001b[0;32m     23\u001b[0m     \u001b[0msub_path_details\u001b[0m \u001b[1;33m=\u001b[0m \u001b[0mcopy\u001b[0m\u001b[1;33m.\u001b[0m\u001b[0mdeepcopy\u001b[0m\u001b[1;33m(\u001b[0m\u001b[0madd_carriers_to_rna_paths\u001b[0m\u001b[1;33m(\u001b[0m\u001b[0mmodification_network\u001b[0m\u001b[1;33m,\u001b[0m\u001b[1;34m'tRNA'\u001b[0m\u001b[1;33m)\u001b[0m\u001b[1;33m)\u001b[0m\u001b[1;33m\u001b[0m\u001b[0m\n\u001b[0;32m     24\u001b[0m     \u001b[0mbnum_modification_dict\u001b[0m \u001b[1;33m=\u001b[0m \u001b[0mcopy\u001b[0m\u001b[1;33m.\u001b[0m\u001b[0mdeepcopy\u001b[0m\u001b[1;33m(\u001b[0m\u001b[0madd_equivalent_paths_to_bnum_modification_dict\u001b[0m\u001b[1;33m(\u001b[0m\u001b[0mmodification_network\u001b[0m\u001b[1;33m,\u001b[0m \u001b[1;34m'tRNA'\u001b[0m \u001b[1;33m,\u001b[0m \u001b[1;34m'metabolites'\u001b[0m\u001b[1;33m)\u001b[0m\u001b[1;33m)\u001b[0m\u001b[1;33m\u001b[0m\u001b[0m\n",
      "\u001b[1;32m<ipython-input-13-7b2eef2d39c6>\u001b[0m in \u001b[0;36mcheck_equivalent_RNA_MODOMICS_paths\u001b[1;34m(modification_network, rna_type, enzyme_or_metabolite_or_carrier)\u001b[0m\n\u001b[0;32m     12\u001b[0m     \"\"\"\n\u001b[0;32m     13\u001b[0m     \u001b[1;32mimport\u001b[0m \u001b[0mcopy\u001b[0m\u001b[1;33m\u001b[0m\u001b[0m\n\u001b[1;32m---> 14\u001b[1;33m     \u001b[0mtRNA_path_rxn_details_dictionary\u001b[0m \u001b[1;33m=\u001b[0m \u001b[0mcopy\u001b[0m\u001b[1;33m.\u001b[0m\u001b[0mdeepcopy\u001b[0m\u001b[1;33m(\u001b[0m\u001b[0madd_carriers_to_rna_paths\u001b[0m\u001b[1;33m(\u001b[0m\u001b[0mmodification_network\u001b[0m\u001b[1;33m,\u001b[0m \u001b[0mrna_type\u001b[0m\u001b[1;33m)\u001b[0m\u001b[1;33m)\u001b[0m\u001b[1;33m\u001b[0m\u001b[0m\n\u001b[0m\u001b[0;32m     15\u001b[0m     \u001b[1;32mprint\u001b[0m \u001b[1;34m'2G.'\u001b[0m\u001b[1;33m,\u001b[0m\u001b[1;34m'\\t'\u001b[0m\u001b[1;33m,\u001b[0m \u001b[1;34m'ASSIGNING equivalent paths in modomics path network'\u001b[0m\u001b[1;33m\u001b[0m\u001b[0m\n\u001b[0;32m     16\u001b[0m \u001b[1;33m\u001b[0m\u001b[0m\n",
      "\u001b[1;32m<ipython-input-12-c9c4eb853558>\u001b[0m in \u001b[0;36madd_carriers_to_rna_paths\u001b[1;34m(modification_network, rna_type)\u001b[0m\n\u001b[0;32m     11\u001b[0m     \u001b[1;32mimport\u001b[0m \u001b[0mcopy\u001b[0m\u001b[1;33m\u001b[0m\u001b[0m\n\u001b[0;32m     12\u001b[0m     \u001b[0mtotal_tRNA_modification_reaction_details\u001b[0m \u001b[1;33m=\u001b[0m  \u001b[0mcopy\u001b[0m\u001b[1;33m.\u001b[0m\u001b[0mdeepcopy\u001b[0m\u001b[1;33m(\u001b[0m\u001b[0mget_RNA_modification_reaction_details\u001b[0m\u001b[1;33m(\u001b[0m\u001b[0mmodification_network\u001b[0m\u001b[1;33m,\u001b[0m \u001b[0mrna_type\u001b[0m\u001b[1;33m)\u001b[0m\u001b[1;33m)\u001b[0m\u001b[1;33m\u001b[0m\u001b[0m\n\u001b[1;32m---> 13\u001b[1;33m     \u001b[0mtemp_dict_4_final\u001b[0m \u001b[1;33m=\u001b[0m \u001b[0mcopy\u001b[0m\u001b[1;33m.\u001b[0m\u001b[0mdeepcopy\u001b[0m\u001b[1;33m(\u001b[0m\u001b[0madd_metabolites_to_rna_paths\u001b[0m\u001b[1;33m(\u001b[0m\u001b[0mmodification_network\u001b[0m\u001b[1;33m,\u001b[0m \u001b[0mrna_type\u001b[0m\u001b[1;33m)\u001b[0m\u001b[1;33m)\u001b[0m\u001b[1;33m\u001b[0m\u001b[0m\n\u001b[0m\u001b[0;32m     14\u001b[0m     \u001b[0mbase_dict\u001b[0m \u001b[1;33m=\u001b[0m \u001b[1;33m{\u001b[0m\u001b[1;34m'G'\u001b[0m \u001b[1;33m:\u001b[0m \u001b[1;34m'Guanine_mods_paths'\u001b[0m\u001b[1;33m,\u001b[0m \u001b[1;34m'C'\u001b[0m \u001b[1;33m:\u001b[0m \u001b[1;34m'Cytidine_mods_paths'\u001b[0m\u001b[1;33m,\u001b[0m \u001b[1;34m'A'\u001b[0m\u001b[1;33m:\u001b[0m \u001b[1;34m'Adenine_mods_paths'\u001b[0m\u001b[1;33m,\u001b[0m\u001b[1;34m'U'\u001b[0m \u001b[1;33m:\u001b[0m \u001b[1;34m'Uridine_mods_paths'\u001b[0m\u001b[1;33m}\u001b[0m\u001b[1;33m\u001b[0m\u001b[0m\n\u001b[0;32m     15\u001b[0m \u001b[1;33m\u001b[0m\u001b[0m\n",
      "\u001b[1;32m<ipython-input-11-7898f05d4f72>\u001b[0m in \u001b[0;36madd_metabolites_to_rna_paths\u001b[1;34m(modification_network, rna_type)\u001b[0m\n\u001b[0;32m     10\u001b[0m     \u001b[1;32mimport\u001b[0m \u001b[0mcopy\u001b[0m\u001b[1;33m\u001b[0m\u001b[0m\n\u001b[0;32m     11\u001b[0m     \u001b[0mtotal_RNA_modification_details\u001b[0m \u001b[1;33m=\u001b[0m \u001b[0mcopy\u001b[0m\u001b[1;33m.\u001b[0m\u001b[0mdeepcopy\u001b[0m\u001b[1;33m(\u001b[0m\u001b[0mget_RNA_modification_reaction_details\u001b[0m\u001b[1;33m(\u001b[0m\u001b[0mmodification_network\u001b[0m\u001b[1;33m,\u001b[0m \u001b[0mrna_type\u001b[0m\u001b[1;33m)\u001b[0m\u001b[1;33m)\u001b[0m\u001b[1;33m\u001b[0m\u001b[0m\n\u001b[1;32m---> 12\u001b[1;33m     \u001b[0mtemp_dict_4_final\u001b[0m \u001b[1;33m=\u001b[0m \u001b[0mcopy\u001b[0m\u001b[1;33m.\u001b[0m\u001b[0mdeepcopy\u001b[0m\u001b[1;33m(\u001b[0m\u001b[0mfix_path_count_for_multple_enzymes\u001b[0m\u001b[1;33m(\u001b[0m\u001b[0mmodification_network\u001b[0m\u001b[1;33m,\u001b[0m \u001b[0mrna_type\u001b[0m\u001b[1;33m)\u001b[0m\u001b[1;33m)\u001b[0m\u001b[1;33m\u001b[0m\u001b[0m\n\u001b[0m\u001b[0;32m     13\u001b[0m     \u001b[1;31m#base_dict = {'G' : 'Guanine_mods_paths', 'C' : 'Cytidine_mods_paths', 'A': 'Adenine_mods_paths','U' : 'Uridine_mods_paths'}\u001b[0m\u001b[1;33m\u001b[0m\u001b[1;33m\u001b[0m\u001b[0m\n\u001b[0;32m     14\u001b[0m     \u001b[0mbase_dict\u001b[0m \u001b[1;33m=\u001b[0m \u001b[1;33m{\u001b[0m\u001b[1;34m'G'\u001b[0m \u001b[1;33m:\u001b[0m \u001b[1;34m'Guanine_mods_paths'\u001b[0m\u001b[1;33m,\u001b[0m \u001b[1;34m'C'\u001b[0m \u001b[1;33m:\u001b[0m \u001b[1;34m'Cytidine_mods_paths'\u001b[0m\u001b[1;33m,\u001b[0m \u001b[1;34m'A'\u001b[0m\u001b[1;33m:\u001b[0m \u001b[1;34m'Adenine_mods_paths'\u001b[0m\u001b[1;33m,\u001b[0m\u001b[1;34m'U'\u001b[0m \u001b[1;33m:\u001b[0m \u001b[1;34m'Uridine_mods_paths'\u001b[0m\u001b[1;33m}\u001b[0m\u001b[1;33m\u001b[0m\u001b[0m\n",
      "\u001b[1;32m<ipython-input-10-c6c5655b3000>\u001b[0m in \u001b[0;36mfix_path_count_for_multple_enzymes\u001b[1;34m(modification_network, rna_type)\u001b[0m\n\u001b[0;32m     14\u001b[0m \u001b[1;33m\u001b[0m\u001b[0m\n\u001b[0;32m     15\u001b[0m     \u001b[1;32mimport\u001b[0m \u001b[0mcopy\u001b[0m\u001b[1;33m\u001b[0m\u001b[0m\n\u001b[1;32m---> 16\u001b[1;33m     \u001b[0mtotal_tRNA_modification_paths\u001b[0m \u001b[1;33m=\u001b[0m \u001b[0mcopy\u001b[0m\u001b[1;33m.\u001b[0m\u001b[0mdeepcopy\u001b[0m\u001b[1;33m(\u001b[0m\u001b[0madd_enzymes_to_rna_paths\u001b[0m\u001b[1;33m(\u001b[0m\u001b[0mmodification_network\u001b[0m\u001b[1;33m,\u001b[0m \u001b[0mrna_type\u001b[0m\u001b[1;33m)\u001b[0m\u001b[1;33m)\u001b[0m\u001b[1;33m\u001b[0m\u001b[0m\n\u001b[0m\u001b[0;32m     17\u001b[0m     \u001b[1;31m#total_tRNA_modification_reaction_details =  copy.deepcopy(get_RNA_modification_reaction_details(modification_network, rna_type))\u001b[0m\u001b[1;33m\u001b[0m\u001b[1;33m\u001b[0m\u001b[0m\n\u001b[0;32m     18\u001b[0m     \u001b[0mbase_dict\u001b[0m \u001b[1;33m=\u001b[0m \u001b[1;33m{\u001b[0m\u001b[1;34m'G'\u001b[0m \u001b[1;33m:\u001b[0m \u001b[1;34m'Guanine_mods_paths'\u001b[0m\u001b[1;33m,\u001b[0m \u001b[1;34m'C'\u001b[0m \u001b[1;33m:\u001b[0m \u001b[1;34m'Cytidine_mods_paths'\u001b[0m\u001b[1;33m,\u001b[0m \u001b[1;34m'A'\u001b[0m\u001b[1;33m:\u001b[0m \u001b[1;34m'Adenine_mods_paths'\u001b[0m\u001b[1;33m,\u001b[0m\u001b[1;34m'U'\u001b[0m \u001b[1;33m:\u001b[0m \u001b[1;34m'Uridine_mods_paths'\u001b[0m\u001b[1;33m}\u001b[0m\u001b[1;33m\u001b[0m\u001b[0m\n",
      "\u001b[1;32m<ipython-input-9-7979a94a9aaa>\u001b[0m in \u001b[0;36madd_enzymes_to_rna_paths\u001b[1;34m(modification_network, rna_type)\u001b[0m\n\u001b[0;32m     38\u001b[0m                 \u001b[0menzyme_dict\u001b[0m \u001b[1;33m=\u001b[0m \u001b[1;33m{\u001b[0m\u001b[1;33m}\u001b[0m\u001b[1;33m\u001b[0m\u001b[0m\n\u001b[0;32m     39\u001b[0m                 \u001b[1;31m#use enzyme information from MODOMICS\u001b[0m\u001b[1;33m\u001b[0m\u001b[1;33m\u001b[0m\u001b[0m\n\u001b[1;32m---> 40\u001b[1;33m                 \u001b[1;32mfor\u001b[0m \u001b[0mposition\u001b[0m \u001b[1;32min\u001b[0m \u001b[0mtrna_mods\u001b[0m\u001b[1;33m[\u001b[0m\u001b[0mbase\u001b[0m\u001b[1;33m]\u001b[0m\u001b[1;33m[\u001b[0m\u001b[0msub_rxn\u001b[0m\u001b[1;33m]\u001b[0m\u001b[1;33m.\u001b[0m\u001b[0mget\u001b[0m\u001b[1;33m(\u001b[0m\u001b[1;34m'enzymes'\u001b[0m\u001b[1;33m)\u001b[0m\u001b[1;33m.\u001b[0m\u001b[0mkeys\u001b[0m\u001b[1;33m(\u001b[0m\u001b[1;33m)\u001b[0m\u001b[1;33m:\u001b[0m\u001b[1;33m\u001b[0m\u001b[0m\n\u001b[0m\u001b[0;32m     41\u001b[0m                     \u001b[0menzyme\u001b[0m \u001b[1;33m=\u001b[0m  \u001b[0mtrna_mods\u001b[0m\u001b[1;33m[\u001b[0m\u001b[0mbase\u001b[0m\u001b[1;33m]\u001b[0m\u001b[1;33m[\u001b[0m\u001b[0msub_rxn\u001b[0m\u001b[1;33m]\u001b[0m\u001b[1;33m.\u001b[0m\u001b[0mget\u001b[0m\u001b[1;33m(\u001b[0m\u001b[1;34m'enzymes'\u001b[0m\u001b[1;33m)\u001b[0m\u001b[1;33m[\u001b[0m\u001b[0mposition\u001b[0m\u001b[1;33m]\u001b[0m\u001b[1;33m\u001b[0m\u001b[0m\n\u001b[0;32m     42\u001b[0m                     \u001b[0menzyme_dict\u001b[0m\u001b[1;33m.\u001b[0m\u001b[0mupdate\u001b[0m\u001b[1;33m(\u001b[0m\u001b[1;33m{\u001b[0m \u001b[0mposition\u001b[0m \u001b[1;33m:\u001b[0m \u001b[0menzyme\u001b[0m\u001b[1;33m}\u001b[0m\u001b[1;33m)\u001b[0m\u001b[1;33m\u001b[0m\u001b[0m\n",
      "\u001b[1;31mKeyError\u001b[0m: u'G_to_m7G'"
     ]
    }
   ],
   "source": [
    "import os\n",
    "import json\n",
    "import copy\n",
    "from copy import deepcopy\n",
    "\n",
    "count = 0\n",
    "path = './modified_tRNA_modomics_network_map_for_sweeps/'\n",
    "\n",
    "for filename in os.listdir(path):\n",
    "    count = count + 1\n",
    "    if '.json' in filename:\n",
    "        \n",
    "        if 'control' in filename:\n",
    "            tRNA_enzyme =  'control'\n",
    "        else:\n",
    "            tRNA_enzyme = filename.split('_removed_from')[0]\n",
    "        print count , tRNA_enzyme\n",
    "        with open(path + filename, 'rb') as infile:\n",
    "            modification_network = json.load(infile)\n",
    "            \n",
    "    #results        \n",
    "    equal_paths_definitions = copy.deepcopy(check_equivalent_RNA_MODOMICS_paths(modification_network, 'tRNA','enzymes'))\n",
    "    sub_path_details = copy.deepcopy(add_carriers_to_rna_paths(modification_network,'tRNA'))\n",
    "    bnum_modification_dict = copy.deepcopy(add_equivalent_paths_to_bnum_modification_dict(modification_network, 'tRNA' , 'metabolites'))\n",
    "    #formatting\n",
    "    [trna_charging, df_trna_substrates] = build_trna_charging_AND_post_transcriptional_modification_of_tRNA(bnum_modification_dict , equal_paths_definitions, sub_path_details)\n",
    "    \n",
    "    #saving\n",
    "    save_trna_charging_dictionary_or_post_transciptional_files(trna_charging, tRNA_enzyme)\n",
    "    save_trna_charging_dictionary_or_post_transciptional_files(df_trna_substrates, tRNA_enzyme)\n",
    "    \n",
    "    "
   ]
  },
  {
   "cell_type": "code",
   "execution_count": null,
   "metadata": {
    "collapsed": true
   },
   "outputs": [],
   "source": []
  },
  {
   "cell_type": "code",
   "execution_count": null,
   "metadata": {
    "collapsed": true
   },
   "outputs": [],
   "source": []
  },
  {
   "cell_type": "code",
   "execution_count": null,
   "metadata": {
    "collapsed": true
   },
   "outputs": [],
   "source": []
  },
  {
   "cell_type": "code",
   "execution_count": null,
   "metadata": {
    "collapsed": true
   },
   "outputs": [],
   "source": []
  },
  {
   "cell_type": "code",
   "execution_count": null,
   "metadata": {
    "collapsed": true
   },
   "outputs": [],
   "source": []
  },
  {
   "cell_type": "code",
   "execution_count": null,
   "metadata": {
    "collapsed": true
   },
   "outputs": [],
   "source": []
  },
  {
   "cell_type": "code",
   "execution_count": null,
   "metadata": {
    "collapsed": true
   },
   "outputs": [],
   "source": []
  },
  {
   "cell_type": "code",
   "execution_count": null,
   "metadata": {
    "collapsed": true
   },
   "outputs": [],
   "source": []
  }
 ],
 "metadata": {
  "kernelspec": {
   "display_name": "Python 2",
   "language": "python",
   "name": "python2"
  },
  "language_info": {
   "codemirror_mode": {
    "name": "ipython",
    "version": 2
   },
   "file_extension": ".py",
   "mimetype": "text/x-python",
   "name": "python",
   "nbconvert_exporter": "python",
   "pygments_lexer": "ipython2",
   "version": "2.7.6"
  }
 },
 "nbformat": 4,
 "nbformat_minor": 0
}
