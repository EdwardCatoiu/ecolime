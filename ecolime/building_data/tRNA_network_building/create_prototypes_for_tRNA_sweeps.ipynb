{
 "cells": [
  {
   "cell_type": "raw",
   "metadata": {},
   "source": [
    "input :  \n",
    "me model with no trna/rrna modifications, no ribosome\n",
    "me model prior to me.update() and me.prune()\n",
    "\n",
    "goal:\n",
    "will systematically introduce modifications into the prototype and then solve\n",
    "\n",
    "1/18/2017"
   ]
  },
  {
   "cell_type": "code",
   "execution_count": 1,
   "metadata": {
    "collapsed": false
   },
   "outputs": [
    {
     "name": "stderr",
     "output_type": "stream",
     "text": [
      "/usr/local/lib/python2.7/dist-packages/matplotlib/font_manager.py:273: UserWarning: Matplotlib is building the font cache using fc-list. This may take a moment.\n",
      "  warnings.warn('Matplotlib is building the font cache using fc-list. This may take a moment.')\n"
     ]
    }
   ],
   "source": [
    "# python imports\n",
    "import re\n",
    "import json\n",
    "from os.path import join\n",
    "import cPickle\n",
    "import numpy as np\n",
    "import math\n",
    "import itertools\n",
    "\n",
    "# third party imports\\\n",
    "import pandas\n",
    "import escher\n",
    "import cloudpickle\n",
    "\n",
    "# ecoli me\n",
    "import ecolime\n",
    "from ecolime.flat_files import *\n",
    "from ecolime.ecoli_k12 import *\n",
    "from ecolime import (ribosome, tRNA_charging, transcription, translocation, \n",
    "                     chaperones, DNA_replication, translation)\n",
    "from ecolime.characterization.biomass_allocation import get_membrane_composition, get_membrane_protein\n",
    "\n",
    "from cobrame import *\n",
    "from cobrame.util import building, dogma\n",
    "from cobrame.util.mass import compute_RNA_mass\n",
    "from cobrame.solve.algorithms import binary_search, fva, solve_at_growth_rate\n",
    "from cobrame.solve.symbolic import compile_expressions\n",
    "\n",
    "from cloudpickle import load\n",
    "import cPickle\n",
    "\n",
    "from cobrame import ComplexData, TranscribedGene, ModificationData\n",
    "from cobrame.util.building import add_modification_data\n",
    "\n",
    "import cobra\n",
    "import pandas as pd\n"
   ]
  },
  {
   "cell_type": "code",
   "execution_count": 7,
   "metadata": {
    "collapsed": false
   },
   "outputs": [],
   "source": [
    "control_file = './RNA_sweep_control_prototypes/proto_65_NO_tRNA_mods_NO_rRNA_mods.pickle'\n",
    "with open(control_file , \"rb\") as infile:\n",
    "    me = cPickle.load(infile)"
   ]
  },
  {
   "cell_type": "code",
   "execution_count": 8,
   "metadata": {
    "collapsed": false
   },
   "outputs": [
    {
     "data": {
      "text/plain": [
       "{'DDusgen_path_1_at_20A': 1,\n",
       " 'DDusgen_path_2_at_17': 1,\n",
       " 'DDusgen_path_3_at_20': 1,\n",
       " 'QtRNA_path_1_at_34': 1,\n",
       " 'Y_path_2_at_65': 1,\n",
       " 'Y_path_7_at_55': 1,\n",
       " 'ct6A_path_1_at_37': 1,\n",
       " 'm5U_path_1_at_54': 1,\n",
       " 'm7G_path_1_at_46': 1}"
      ]
     },
     "execution_count": 8,
     "metadata": {},
     "output_type": "execute_result"
    }
   ],
   "source": [
    "me.reactions.charging_tRNA_b0202_AUC.tRNAData.modifications"
   ]
  },
  {
   "cell_type": "code",
   "execution_count": null,
   "metadata": {
    "collapsed": true
   },
   "outputs": [],
   "source": []
  },
  {
   "cell_type": "code",
   "execution_count": 3,
   "metadata": {
    "collapsed": false,
    "scrolled": true
   },
   "outputs": [
    {
     "data": {
      "text/html": [
       "<div>\n",
       "<table border=\"1\" class=\"dataframe\">\n",
       "  <thead>\n",
       "    <tr style=\"text-align: right;\">\n",
       "      <th></th>\n",
       "      <th>rRNA_mods</th>\n",
       "      <th>tRNA_mods</th>\n",
       "    </tr>\n",
       "  </thead>\n",
       "  <tbody>\n",
       "    <tr>\n",
       "      <th>4</th>\n",
       "      <td>True</td>\n",
       "      <td>Negative_Sweep</td>\n",
       "    </tr>\n",
       "    <tr>\n",
       "      <th>5</th>\n",
       "      <td>False</td>\n",
       "      <td>Negative_Sweep</td>\n",
       "    </tr>\n",
       "    <tr>\n",
       "      <th>6</th>\n",
       "      <td>True</td>\n",
       "      <td>Positive_Sweep</td>\n",
       "    </tr>\n",
       "    <tr>\n",
       "      <th>7</th>\n",
       "      <td>False</td>\n",
       "      <td>Positive_Sweep</td>\n",
       "    </tr>\n",
       "  </tbody>\n",
       "</table>\n",
       "</div>"
      ],
      "text/plain": [
       "  rRNA_mods       tRNA_mods\n",
       "4      True  Negative_Sweep\n",
       "5     False  Negative_Sweep\n",
       "6      True  Positive_Sweep\n",
       "7     False  Positive_Sweep"
      ]
     },
     "execution_count": 3,
     "metadata": {},
     "output_type": "execute_result"
    }
   ],
   "source": [
    "sweep_df = pd.DataFrame()\n",
    "#rRNA sweeps\n",
    "#sweep_df.loc[ 0 , 'rRNA_mods'] = 'Negative_Sweep'\n",
    "#sweep_df.loc[ 1 , 'rRNA_mods'] = 'Negative_Sweep'\n",
    "#sweep_df.loc[ 2 , 'rRNA_mods'] = 'Positive_Sweep'\n",
    "#sweep_df.loc[ 3 , 'rRNA_mods'] = 'Positive_Sweep'\n",
    "\n",
    "#sweep_df.loc[ 0 , 'tRNA_mods'] = True\n",
    "#sweep_df.loc[ 1 , 'tRNA_mods'] = False\n",
    "#sweep_df.loc[ 2 , 'tRNA_mods'] = True\n",
    "#sweep_df.loc[ 3 , 'tRNA_mods'] = False\n",
    "\n",
    "\n",
    "#tRNA Sweeps\n",
    "sweep_df.loc[ 4 , 'rRNA_mods'] = True\n",
    "sweep_df.loc[ 5 , 'rRNA_mods'] = False\n",
    "sweep_df.loc[ 6 , 'rRNA_mods'] = True\n",
    "sweep_df.loc[ 7 , 'rRNA_mods'] = False\n",
    "sweep_df.loc[ 4 , 'tRNA_mods'] = 'Negative_Sweep'\n",
    "sweep_df.loc[ 5 , 'tRNA_mods'] = 'Negative_Sweep'\n",
    "sweep_df.loc[ 6 , 'tRNA_mods'] = 'Positive_Sweep'\n",
    "sweep_df.loc[ 7 , 'tRNA_mods'] = 'Positive_Sweep'\n",
    "\n",
    "sweep_df"
   ]
  },
  {
   "cell_type": "code",
   "execution_count": null,
   "metadata": {
    "collapsed": false
   },
   "outputs": [],
   "source": [
    "def build_models_for_sweep(rRNA_mod, tRNA_mod):\n",
    "    path = './RNA_sweep_control_prototypes/'\n",
    "    filename = 'proto_65_NO_tRNA_mods_NO_rRNA_mods.pickle'\n",
    "    from tqdm import tqdm\n",
    "    \n",
    "    \n",
    "    if tRNA_mod == \"Negative_Sweep\":\n",
    "        for modification in tqdm(tRNA_charging.trna_modification.keys()):\n",
    "            with open(path + filename , \"rb\") as infile:\n",
    "                me = cPickle.load(infile)\n",
    "                #query tRNA reactions\n",
    "                for trna_rxn in me.reactions.query('charging_tRNA'):\n",
    "                    if modification in trna_rxn.tRNAData.modifications.keys():\n",
    "                        del trna_rxn.tRNAData.modifications[modification]\n",
    "                \n",
    "                #ADD RIBOSOME\n",
    "                ribosome.add_ribosome(me, verbose=False, rRNA_mods = rRNA_mod)\n",
    "                \n",
    "                # These should be coupled to translation not ribosome formation per iOL1650\n",
    "                Inf_modifications = ['Translation_initiation_factor_InfA', 'Translation_gtp_initiation_factor_InfB',\n",
    "                                    'Translation_initiation_factor_InfC']\n",
    "                for sub in Inf_modifications:\n",
    "                    me.complex_data.ribosome.modifications[sub] = 0\n",
    "                    for data in me.translation_data:\n",
    "                        data.modifications[sub]= -1\n",
    "                \n",
    "                #Update and prune\n",
    "                me.update()\n",
    "                me.prune()\n",
    "                \n",
    "                \n",
    "                #save model :\n",
    "                save_path = './tRNA_modification_sweep/tRNA_negative_sweep/'\n",
    "                save_file_name = 'proto65_rRNAmods_' + str(rRNA_mod) + '_tRNAnegsweep_of_' + str(modification) + '.pickle'\n",
    "                with open(save_path + save_file_name, \"wb\") as outfile:\n",
    "                    cPickle.dump(me, outfile)\n",
    "                \n",
    "                \n",
    "        \n",
    "    elif tRNA_mod == \"Positive_Sweep\":\n",
    "        for modification in tqdm(tRNA_charging.trna_modification.keys()):\n",
    "            with open(path + filename , \"rb\") as infile:\n",
    "                me = cPickle.load(infile)\n",
    "                #query tRNA reactions\n",
    "                for trna_rxn in me.reactions.query('charging_tRNA'):\n",
    "                    #keeps it for positive sweep\n",
    "                    if modification in trna_rxn.tRNAData.modifications.keys():\n",
    "                        trna_rxn.tRNAData.modifications = {modification : trna_rxn.tRNAData.modifications[modification]}\n",
    "                    #deletes all others\n",
    "                    else:\n",
    "                        trna_rxn.tRNAData.modifications = {}\n",
    "  \n",
    "                    \n",
    "                #ADD RIBOSOME\n",
    "                ribosome.add_ribosome(me, verbose=False, rRNA_mods = rRNA_mod)\n",
    "                # These should be coupled to translation not ribosome formation per iOL1650\n",
    "                Inf_modifications = ['Translation_initiation_factor_InfA', 'Translation_gtp_initiation_factor_InfB',\n",
    "                                    'Translation_initiation_factor_InfC']\n",
    "                for sub in Inf_modifications:\n",
    "                    me.complex_data.ribosome.modifications[sub] = 0\n",
    "                    for data in me.translation_data:\n",
    "                        data.modifications[sub]= -1\n",
    "                        \n",
    "                #Update and prune\n",
    "                me.update()\n",
    "                me.prune()\n",
    "                \n",
    "                \n",
    "                #save model :\n",
    "                save_path = './tRNA_modification_sweep/tRNA_negative_sweep/'\n",
    "                save_file_name = 'proto65_rRNAmods_' + str(rRNA_mod) + '_tRNApossweep_of_' + str(modification) + '.pickle'\n",
    "                with open(save_path + save_file_name, \"wb\") as outfile:\n",
    "                    cPickle.dump(me, outfile)  \n",
    "        "
   ]
  },
  {
   "cell_type": "code",
   "execution_count": null,
   "metadata": {
    "collapsed": false
   },
   "outputs": [
    {
     "name": "stderr",
     "output_type": "stream",
     "text": [
      "100%|██████████| 44/44 [2:06:12<00:00, 134.43s/it]\n",
      "100%|██████████| 44/44 [2:03:28<00:00, 127.42s/it]\n",
      "100%|██████████| 44/44 [1:51:39<00:00, 147.40s/it]\n",
      "100%|██████████| 44/44 [1:27:26<00:00, 114.72s/it]\n"
     ]
    }
   ],
   "source": [
    "#build models for TRNA SWEEP\n",
    "for index, row in sweep_df.iterrows():\n",
    "    rRNA_mod= row.rRNA_mods\n",
    "    tRNA_mod= row.tRNA_mods\n",
    "    build_models_for_sweep(rRNA_mod, tRNA_mod)"
   ]
  },
  {
   "cell_type": "code",
   "execution_count": null,
   "metadata": {
    "collapsed": true
   },
   "outputs": [],
   "source": []
  },
  {
   "cell_type": "code",
   "execution_count": null,
   "metadata": {
    "collapsed": true
   },
   "outputs": [],
   "source": []
  },
  {
   "cell_type": "code",
   "execution_count": null,
   "metadata": {
    "collapsed": true
   },
   "outputs": [],
   "source": []
  },
  {
   "cell_type": "code",
   "execution_count": null,
   "metadata": {
    "collapsed": true
   },
   "outputs": [],
   "source": []
  },
  {
   "cell_type": "code",
   "execution_count": null,
   "metadata": {
    "collapsed": true
   },
   "outputs": [],
   "source": []
  },
  {
   "cell_type": "code",
   "execution_count": null,
   "metadata": {
    "collapsed": true
   },
   "outputs": [],
   "source": []
  },
  {
   "cell_type": "markdown",
   "metadata": {},
   "source": [
    "# tRNA charging.update()"
   ]
  },
  {
   "cell_type": "raw",
   "metadata": {},
   "source": [
    "#tRNA Modifications added\n",
    "from tqdm import tqdm\n",
    "def add_tRNA_modifications_in_charging_reactions():\n",
    "   \n",
    "    for trna_charging_reaction in tqdm(me.reactions.query('charging_tRNA')):\n",
    "        trna_charging_reaction.update()\n",
    "        #print trna_charging_reaction.reaction, '\\n'\n",
    "        \n",
    "#add_tRNA_modifications_in_charging_reactions()"
   ]
  },
  {
   "cell_type": "markdown",
   "metadata": {},
   "source": [
    "# ribosome.add_ribosome =  formation "
   ]
  },
  {
   "cell_type": "raw",
   "metadata": {},
   "source": [
    "# Changed verbose=False to squash complex creation output\n",
    "# rrna_modifications added later\n",
    "ribosome.add_ribosome(me, verbose=False, rRNA_mods = False)\n",
    "#RNA_mods = True adds the modifications\n",
    "me.reactions.formation_ribosome.reaction"
   ]
  },
  {
   "cell_type": "markdown",
   "metadata": {},
   "source": [
    "#  extra ribosome modifications"
   ]
  },
  {
   "cell_type": "raw",
   "metadata": {},
   "source": [
    "# These should be coupled to translation not ribosome formation per iOL1650\n",
    "Inf_modifications = ['Translation_initiation_factor_InfA', 'Translation_gtp_initiation_factor_InfB',\n",
    "                    'Translation_initiation_factor_InfC']\n",
    "for sub in Inf_modifications:\n",
    "    me.complex_data.ribosome.modifications[sub] = 0\n",
    "    for data in me.translation_data:\n",
    "        data.modifications[sub]= -1"
   ]
  },
  {
   "cell_type": "markdown",
   "metadata": {},
   "source": [
    "# update and prune"
   ]
  },
  {
   "cell_type": "raw",
   "metadata": {},
   "source": [
    "me.update()\n",
    "me.prune()"
   ]
  },
  {
   "cell_type": "code",
   "execution_count": null,
   "metadata": {
    "collapsed": true
   },
   "outputs": [],
   "source": []
  },
  {
   "cell_type": "markdown",
   "metadata": {},
   "source": [
    "# solve"
   ]
  },
  {
   "cell_type": "raw",
   "metadata": {},
   "source": [
    "using_soplex=False\n",
    "if using_soplex:\n",
    "    binary_search(me, min_mu=.1, max_mu=.3, debug=False, mu_accuracy=1e-2)\n",
    "else:\n",
    "    from qminos.me1 import ME_NLP1\n",
    "    me.reactions.EX_glc__D_e.lower_bound = -1000.\n",
    "    me.reactions.EX_glc__D_e.upper_bound = 1000.\n",
    "    # The object containing solveME methods--composite that uses a ME model object \n",
    "    # Provide growth_key = 'mu' for minime models,\n",
    "    me_nlp = ME_NLP1(me, growth_key='mu')\n",
    "    # Use bisection for now (until the NLP formulation is worked out for the new prototype 44\n",
    "    muopt, hs, xopt, cache = me_nlp.bisectmu(precision=1e-2, mumax=1.)    \n",
    "    # Access the solution that is saved in the original cobrame object\n",
    "    sol = me.solution\n",
    "    sol.f\n",
    "    sol.x_dict"
   ]
  },
  {
   "cell_type": "markdown",
   "metadata": {},
   "source": [
    "# BEGIN CREATING PROTOTYPES FOR SWEEPS (MODIFICATION BASED)"
   ]
  },
  {
   "cell_type": "markdown",
   "metadata": {},
   "source": [
    "### rRNA prototypes"
   ]
  },
  {
   "cell_type": "raw",
   "metadata": {},
   "source": [
    "added in infile prototype:\n",
    "[x] Generic Dus reaction created for tRNA mods\n",
    "[x] Generic 16Sm4Cm1402 created for rRNA mods\n",
    "\n"
   ]
  },
  {
   "cell_type": "raw",
   "metadata": {},
   "source": [
    "Here, we will use a input prototype that has the tRNA FULLY modified and NO rRNA modifications\n",
    "\n",
    "We will either: \n",
    "1) introduce all but the rRNA modification of interest into the protoypes (negative sweep)\n",
    "--the control for the negative sweep will have tRNA fully modified AND rRNA fully modified\n",
    "\n",
    "or\n",
    "\n",
    "2) introduce only the rRNA modification of interest into the prototype (positive sweep)\n",
    "--the control for the positive sweep will have tRNA fully modified and NO rRNA modifications"
   ]
  },
  {
   "cell_type": "code",
   "execution_count": null,
   "metadata": {
    "collapsed": false
   },
   "outputs": [],
   "source": [
    "rrna_mod_list = ribosome.rrna_modifications.keys()"
   ]
  },
  {
   "cell_type": "markdown",
   "metadata": {},
   "source": [
    "### rRNA negative sweep\n",
    "\n",
    "##### needs tRNA modifications fully added\n",
    "##### needs rRNA modifications added (except of interest)"
   ]
  },
  {
   "cell_type": "code",
   "execution_count": null,
   "metadata": {
    "collapsed": true
   },
   "outputs": [],
   "source": []
  }
 ],
 "metadata": {
  "kernelspec": {
   "display_name": "Python 2",
   "language": "python",
   "name": "python2"
  },
  "language_info": {
   "codemirror_mode": {
    "name": "ipython",
    "version": 2
   },
   "file_extension": ".py",
   "mimetype": "text/x-python",
   "name": "python",
   "nbconvert_exporter": "python",
   "pygments_lexer": "ipython2",
   "version": "2.7.6"
  }
 },
 "nbformat": 4,
 "nbformat_minor": 0
}
