{
 "cells": [
  {
   "cell_type": "code",
   "execution_count": 1,
   "metadata": {
    "collapsed": false
   },
   "outputs": [
    {
     "name": "stderr",
     "output_type": "stream",
     "text": [
      "/usr/local/lib/python2.7/dist-packages/matplotlib/font_manager.py:273: UserWarning: Matplotlib is building the font cache using fc-list. This may take a moment.\n",
      "  warnings.warn('Matplotlib is building the font cache using fc-list. This may take a moment.')\n"
     ]
    }
   ],
   "source": [
    "import minime\n",
    "import pandas as pd\n",
    "# python imports\n",
    "import re\n",
    "import json\n",
    "from os.path import join\n",
    "import cPickle\n",
    "import statistics\n",
    "import math\n",
    "\n",
    "# third party imports\n",
    "import pandas as pd\n",
    "import escher\n",
    "import cobra.test\n",
    "import cloudpickle\n",
    "\n",
    "# ecoli me\n",
    "import ecolime\n",
    "from ecolime.flat_files import *\n",
    "from ecolime.ecoli_k12 import *\n",
    "from ecolime import ribosome, tRNA_charging, transcription, translocation, chaperones\n",
    "\n",
    "from minime.util import dogma\n",
    "from minime import *\n",
    "from minime.util import building\n",
    "from minime.util.mass import compute_RNA_mass\n",
    "from minime.solve.algorithms import binary_search, fva, solve_at_growth_rate\n",
    "from minime.solve.symbolic import compile_expressions\n",
    "import matplotlib\n",
    "from tqdm import tqdm\n",
    "import sys\n",
    "import os\n",
    "\n",
    "import copy\n",
    "from copy import deepcopy\n",
    "from tqdm import tqdm\n",
    "\n",
    "import os\n",
    "import copy\n"
   ]
  },
  {
   "cell_type": "code",
   "execution_count": 2,
   "metadata": {
    "collapsed": false
   },
   "outputs": [],
   "source": [
    "from TRNA_Workflow_functions_for_enzyme_sweeps import *\n",
    "#imports all the functions to create tRNA_charging.py and post_transcriptional_modidification.txt output files "
   ]
  },
  {
   "cell_type": "code",
   "execution_count": 3,
   "metadata": {
    "collapsed": true
   },
   "outputs": [],
   "source": [
    "#positive sweeps\n",
    "def import_modification_network(modification_network_path , filename):\n",
    "    \n",
    "    with open(modification_network_path + filename, 'rb') as infile:\n",
    "        modification_network = json.load(infile)\n",
    "\n",
    "        #identify the tRNA_enzyme!\n",
    "        if 'control' in filename:\n",
    "            tRNA_enzyme = 'control'\n",
    "        else:\n",
    "            tRNA_enzyme = filename.split('_positive_ONLY_tRNA_MODOMICS_network_map.json')[0]\n",
    "\n",
    "                \n",
    "    return modification_network, tRNA_enzyme"
   ]
  },
  {
   "cell_type": "raw",
   "metadata": {
    "collapsed": false
   },
   "source": [
    "#negative sweeps\n",
    "def import_modification_network(modification_network_path , filename):\n",
    "    \n",
    "    with open(modification_network_path + filename, 'rb') as infile:\n",
    "        modification_network = json.load(infile)\n",
    "\n",
    "        #identify the tRNA_enzyme!\n",
    "        if 'control' in filename:\n",
    "            tRNA_enzyme = 'control'\n",
    "        else:\n",
    "            tRNA_enzyme = filename.split('_removed_from_tRNA_MODOMICS_network_map.json')[0]\n",
    "\n",
    "                \n",
    "    return modification_network, tRNA_enzyme"
   ]
  },
  {
   "cell_type": "code",
   "execution_count": 4,
   "metadata": {
    "collapsed": false
   },
   "outputs": [],
   "source": [
    "def parse_modification_network_for_tRNA_mods(modification_network):\n",
    "    import copy\n",
    "    from copy import deepcopy\n",
    "    modification_network_copy = copy.deepcopy(modification_network)\n",
    "    \n",
    "    for base in modification_network.keys():\n",
    "        for modification in modification_network[base].keys():\n",
    "            for position, enzyme in modification_network[base][modification]['enzymes'].items():\n",
    "                if position == u'20A':\n",
    "                    continue\n",
    "                elif int(position) > 76:\n",
    "                    del  modification_network_copy[base][modification]['enzymes'][position]\n",
    "                    \n",
    "            if modification_network_copy[base][modification]['enzymes'] == {}:\n",
    "                del  modification_network_copy[base][modification]\n",
    "    \n",
    "    return modification_network_copy"
   ]
  },
  {
   "cell_type": "code",
   "execution_count": 5,
   "metadata": {
    "collapsed": true
   },
   "outputs": [],
   "source": [
    "#positive sweep\n",
    "def run_workflow_functions_and_output_files(modification_network, rna_type, tRNA_enzyme):\n",
    "    import copy\n",
    "    from copy import deepcopy\n",
    "    #three results per modification_network\n",
    "    equal_paths_definitions = copy.deepcopy(check_equivalent_RNA_MODOMICS_paths(modification_network, rna_type,'enzymes'))\n",
    "    sub_path_details = copy.deepcopy(add_carriers_to_rna_paths(modification_network, rna_type))\n",
    "    print equal_paths_definitions,'eq'\n",
    "    print sub_path_details, 'sub'\n",
    "    bnum_modification_dict = copy.deepcopy(add_equivalent_paths_to_bnum_modification_dict(modification_network, rna_type , 'metabolites'))\n",
    "    \n",
    "    #create the two relevant outputs\n",
    "    [trna_charging, df_trna_substrates] = build_trna_charging_AND_post_transcriptional_modification_of_tRNA(bnum_modification_dict , equal_paths_definitions, sub_path_details )\n",
    "    \n",
    "    #saving the files\n",
    "    #save_trna_charging_dictionary_or_post_transciptional_files_positive_sweeps(trna_charging, tRNA_enzyme)\n",
    "    #save_trna_charging_dictionary_or_post_transciptional_files_positive_sweeps(df_trna_substrates, tRNA_enzyme)\n",
    "    \n",
    "    return\n",
    "        "
   ]
  },
  {
   "cell_type": "raw",
   "metadata": {
    "collapsed": true
   },
   "source": [
    "#negative sweeps\n",
    "def run_workflow_functions_and_output_files(modification_network, rna_type, tRNA_enzyme):\n",
    "    import copy\n",
    "    from copy import deepcopy\n",
    "    #three results per modification_network\n",
    "    equal_paths_definitions = copy.deepcopy(check_equivalent_RNA_MODOMICS_paths(modification_network, rna_type,'enzymes'))\n",
    "    sub_path_details = copy.deepcopy(add_carriers_to_rna_paths(modification_network, rna_type))\n",
    "    bnum_modification_dict = copy.deepcopy(add_equivalent_paths_to_bnum_modification_dict(modification_network, rna_type , 'metabolites'))\n",
    "    \n",
    "    #create the two relevant outputs\n",
    "    [trna_charging, df_trna_substrates] = build_trna_charging_AND_post_transcriptional_modification_of_tRNA(bnum_modification_dict , equal_paths_definitions, sub_path_details )\n",
    "    \n",
    "    #saving the files\n",
    "    save_trna_charging_dictionary_or_post_transciptional_files(trna_charging, tRNA_enzyme)\n",
    "    save_trna_charging_dictionary_or_post_transciptional_files(df_trna_substrates, tRNA_enzyme)\n",
    "    \n",
    "    return\n",
    "        "
   ]
  },
  {
   "cell_type": "code",
   "execution_count": 6,
   "metadata": {
    "collapsed": true
   },
   "outputs": [],
   "source": [
    "#positive sweep\n",
    "def run_workflow_functions_and_output_files(modification_network, rna_type, tRNA_enzyme):\n",
    "    import copy\n",
    "    from copy import deepcopy\n",
    "    #three results per modification_network\n",
    "    equal_paths_definitions = copy.deepcopy(check_equivalent_RNA_MODOMICS_paths(modification_network, rna_type,'enzymes'))\n",
    "    sub_path_details = copy.deepcopy(add_carriers_to_rna_paths(modification_network, rna_type))\n",
    "    #print equal_paths_definitions,'eq'\n",
    "    #print sub_path_details, 'sub'\n",
    "    bnum_modification_dict = copy.deepcopy(add_equivalent_paths_to_bnum_modification_dict(modification_network, rna_type , 'metabolites'))\n",
    "    #print bnum_modification_dict\n",
    "    #print equal_paths_definitions\n",
    "    #print sub_path_details\n",
    "    \n",
    "    #create the two relevant outputs\n",
    "    [trna_charging, df_trna_substrates] = build_trna_charging_AND_post_transcriptional_modification_of_tRNA(bnum_modification_dict , equal_paths_definitions, sub_path_details )\n",
    "    \n",
    "    #saving the files\n",
    "    save_trna_charging_dictionary_or_post_transciptional_files_positve_sweeps(trna_charging, tRNA_enzyme)\n",
    "    save_trna_charging_dictionary_or_post_transciptional_files_positve_sweeps(df_trna_substrates, tRNA_enzyme)\n",
    "    \n",
    "    return trna_charging, df_trna_substrates\n",
    "        "
   ]
  },
  {
   "cell_type": "code",
   "execution_count": null,
   "metadata": {
    "collapsed": true
   },
   "outputs": [],
   "source": []
  },
  {
   "cell_type": "code",
   "execution_count": 7,
   "metadata": {
    "collapsed": false,
    "scrolled": true
   },
   "outputs": [
    {
     "name": "stderr",
     "output_type": "stream",
     "text": [
      "\r",
      "  0%|          | 0/38 [00:00<?, ?it/s]"
     ]
    },
    {
     "name": "stdout",
     "output_type": "stream",
     "text": [
      "\n",
      "----------------\n",
      "----------------\n",
      "----------------\n",
      "1 TcdA_dim\n",
      "TcdA_dim_positive_ONLY_tRNA_MODOMICS_network_map.json\n",
      "----------------\n",
      "----------------\n",
      "3A.  create_RNA_dataframe_from_substrates"
     ]
    },
    {
     "name": "stderr",
     "output_type": "stream",
     "text": [
      "\r",
      "  3%|▎         | 1/38 [00:04<02:44,  4.45s/it]"
     ]
    },
    {
     "name": "stdout",
     "output_type": "stream",
     "text": [
      "\n",
      "saved tRNA_charging_ONLY_TcdA_dim.json \n",
      "saved post_transcriptional_modification_of_tRNA_ONLY_TcdA_dim.txt \n",
      "\n",
      "----------------\n",
      "----------------\n",
      "----------------\n",
      "2 TmcA_mono\n",
      "TmcA_mono_positive_ONLY_tRNA_MODOMICS_network_map.json\n",
      "----------------\n",
      "----------------\n",
      "3A.  create_RNA_dataframe_from_substrates\n",
      "sequence checking DF for Adenine modifications\n",
      "sequence checking DF for Cytidine modifications\n",
      "sequence checking DF for Guanine modifications\n",
      "sequence checking DF for Uridine modifications\n",
      "\t\tDF length orginal : 4\n",
      "\t\tDF length after sequence allignment : 4\n",
      "3C. create_final_bnum_modification_dict"
     ]
    },
    {
     "name": "stderr",
     "output_type": "stream",
     "text": [
      "\r",
      "  5%|▌         | 2/38 [00:09<02:48,  4.67s/it]"
     ]
    },
    {
     "name": "stdout",
     "output_type": "stream",
     "text": [
      "\n",
      "saved tRNA_charging_ONLY_TmcA_mono.json \n",
      "saved post_transcriptional_modification_of_tRNA_ONLY_TmcA_mono.txt \n",
      "\n",
      "----------------\n",
      "----------------\n",
      "----------------\n",
      "3 EG11503_MONOMER\n",
      "EG11503_MONOMER_positive_ONLY_tRNA_MODOMICS_network_map.json\n",
      "----------------\n",
      "----------------\n",
      "3A.  create_RNA_dataframe_from_substrates"
     ]
    },
    {
     "name": "stderr",
     "output_type": "stream",
     "text": [
      "\r",
      "  8%|▊         | 3/38 [00:14<02:43,  4.69s/it]"
     ]
    },
    {
     "name": "stdout",
     "output_type": "stream",
     "text": [
      "\n",
      "saved tRNA_charging_ONLY_EG11503_MONOMER.json \n",
      "saved post_transcriptional_modification_of_tRNA_ONLY_EG11503_MONOMER.txt \n",
      "\n",
      "----------------\n",
      "----------------\n",
      "----------------\n",
      "4 control\n",
      "control_tRNA_MODOMICS_network_map.json\n",
      "----------------\n",
      "----------------\n",
      "3A.  create_RNA_dataframe_from_substrates"
     ]
    },
    {
     "name": "stderr",
     "output_type": "stream",
     "text": [
      "\r",
      " 11%|█         | 4/38 [00:19<02:39,  4.68s/it]"
     ]
    },
    {
     "name": "stdout",
     "output_type": "stream",
     "text": [
      "\n",
      "saved tRNA_charging_ONLY_control.json \n",
      "saved post_transcriptional_modification_of_tRNA_ONLY_control.txt \n",
      "\n",
      "----------------\n",
      "----------------\n",
      "----------------\n",
      "5 TrmU_mono\n",
      "TrmU_mono_positive_ONLY_tRNA_MODOMICS_network_map.json\n",
      "----------------\n",
      "----------------\n",
      "3A.  create_RNA_dataframe_from_substrates\n",
      "sequence checking DF for Adenine modifications\n",
      "sequence checking DF for Cytidine modifications\n",
      "sequence checking DF for Guanine modifications\n",
      "sequence checking DF for Uridine modifications\n",
      "\t\tDF length orginal : 12\n",
      "\t\tDF length after sequence allignment : 12\n",
      "3C. create_final_bnum_modification_dict"
     ]
    },
    {
     "name": "stderr",
     "output_type": "stream",
     "text": [
      "\r",
      " 13%|█▎        | 5/38 [00:24<02:40,  4.86s/it]"
     ]
    },
    {
     "name": "stdout",
     "output_type": "stream",
     "text": [
      "\n",
      "saved tRNA_charging_ONLY_TrmU_mono.json \n",
      "saved post_transcriptional_modification_of_tRNA_ONLY_TrmU_mono.txt \n",
      "\n",
      "----------------\n",
      "----------------\n",
      "----------------\n",
      "6 TrmJ_dim\n",
      "TrmJ_dim_positive_ONLY_tRNA_MODOMICS_network_map.json\n",
      "----------------\n",
      "----------------\n",
      "3A.  create_RNA_dataframe_from_substrates\n",
      "sequence checking DF for Adenine modifications\n",
      "sequence checking DF for Cytidine modifications\n",
      "sequence checking DF for Guanine modifications\n",
      "sequence checking DF for Uridine modifications\n",
      "\t\tDF length orginal : 14\n",
      "\t\tDF length after sequence allignment : 11\n",
      "3C. create_final_bnum_modification_dict"
     ]
    },
    {
     "name": "stderr",
     "output_type": "stream",
     "text": [
      "\r",
      " 16%|█▌        | 6/38 [00:29<02:36,  4.90s/it]"
     ]
    },
    {
     "name": "stdout",
     "output_type": "stream",
     "text": [
      "\n",
      "saved tRNA_charging_ONLY_TrmJ_dim.json \n",
      "saved post_transcriptional_modification_of_tRNA_ONLY_TrmJ_dim.txt \n",
      "\n",
      "----------------\n",
      "----------------\n",
      "----------------\n",
      "7 trmL_dim\n",
      "trmL_dim_positive_ONLY_tRNA_MODOMICS_network_map.json\n",
      "----------------\n",
      "----------------\n",
      "3A.  create_RNA_dataframe_from_substrates\n",
      "sequence checking DF for Adenine modifications\n",
      "sequence checking DF for Cytidine modifications\n",
      "sequence checking DF for Guanine modifications\n",
      "sequence checking DF for Uridine modifications\n",
      "\t\tDF length orginal : 14\n",
      "\t\tDF length after sequence allignment : 11\n",
      "3C. create_final_bnum_modification_dict"
     ]
    },
    {
     "name": "stderr",
     "output_type": "stream",
     "text": [
      "\r",
      " 18%|█▊        | 7/38 [00:34<02:36,  5.05s/it]"
     ]
    },
    {
     "name": "stdout",
     "output_type": "stream",
     "text": [
      "\n",
      "saved tRNA_charging_ONLY_trmL_dim.json \n",
      "saved post_transcriptional_modification_of_tRNA_ONLY_trmL_dim.txt \n",
      "\n",
      "----------------\n",
      "----------------\n",
      "----------------\n",
      "8 MiaA_dim_mod_2:mg2\n",
      "MiaA_dim_mod_2:mg2_positive_ONLY_tRNA_MODOMICS_network_map.json\n",
      "----------------\n",
      "----------------\n",
      "3A.  create_RNA_dataframe_from_substrates\n",
      "sequence checking DF for Adenine modifications\n",
      "sequence checking DF for Cytidine modifications\n",
      "sequence checking DF for Guanine modifications\n",
      "sequence checking DF for Uridine modifications\n",
      "\t\tDF length orginal : 86\n",
      "\t\tDF length after sequence allignment : 76\n",
      "3C. create_final_bnum_modification_dict\n",
      "saved tRNA_charging_ONLY_MiaA_dim_mod_2:mg2.json "
     ]
    },
    {
     "name": "stderr",
     "output_type": "stream",
     "text": [
      "\r",
      " 21%|██        | 8/38 [00:42<03:00,  6.01s/it]"
     ]
    },
    {
     "name": "stdout",
     "output_type": "stream",
     "text": [
      "\n",
      "saved post_transcriptional_modification_of_tRNA_ONLY_MiaA_dim_mod_2:mg2.txt \n",
      "\n",
      "----------------\n",
      "----------------\n",
      "----------------\n",
      "9 DusA_mono\n",
      "DusA_mono_positive_ONLY_tRNA_MODOMICS_network_map.json\n",
      "----------------\n",
      "----------------\n",
      "\tCreating new paths for U_to_DDusA\n",
      "\tCreating new paths for U_to_DDusA\n",
      "\tCreating new paths for U_to_DDusA\n",
      "\tCreating new paths for U_to_DDusA\n",
      "3A.  create_RNA_dataframe_from_substrates\n",
      "sequence checking DF for Adenine modifications\n",
      "sequence checking DF for Cytidine modifications\n",
      "sequence checking DF for Guanine modifications\n",
      "sequence checking DF for Uridine modifications\n",
      "\t\tDF length orginal : 16\n",
      "\t\tDF length after sequence allignment : 4\n",
      "3C. create_final_bnum_modification_dict"
     ]
    },
    {
     "name": "stderr",
     "output_type": "stream",
     "text": [
      "\r",
      " 24%|██▎       | 9/38 [00:48<02:46,  5.73s/it]"
     ]
    },
    {
     "name": "stdout",
     "output_type": "stream",
     "text": [
      "\n",
      "saved tRNA_charging_ONLY_DusA_mono.json \n",
      "saved post_transcriptional_modification_of_tRNA_ONLY_DusA_mono.txt \n",
      "\n",
      "----------------\n",
      "----------------\n",
      "----------------\n",
      "10 TadA_dim_mod_2:zn2\n",
      "TadA_dim_mod_2:zn2_positive_ONLY_tRNA_MODOMICS_network_map.json\n",
      "----------------\n",
      "----------------\n",
      "3A.  create_RNA_dataframe_from_substrates\n",
      "sequence checking DF for Adenine modifications\n",
      "sequence checking DF for Cytidine modifications\n",
      "sequence checking DF for Guanine modifications\n",
      "sequence checking DF for Uridine modifications\n",
      "\t\tDF length orginal : 4\n",
      "\t\tDF length after sequence allignment : 4\n",
      "3C. create_final_bnum_modification_dict"
     ]
    },
    {
     "name": "stderr",
     "output_type": "stream",
     "text": [
      "\r",
      " 26%|██▋       | 10/38 [00:53<02:34,  5.53s/it]"
     ]
    },
    {
     "name": "stdout",
     "output_type": "stream",
     "text": [
      "\n",
      "saved tRNA_charging_ONLY_TadA_dim_mod_2:zn2.json \n",
      "saved post_transcriptional_modification_of_tRNA_ONLY_TadA_dim_mod_2:zn2.txt \n",
      "\n",
      "----------------\n",
      "----------------\n",
      "----------------\n",
      "11 YadB_mono\n",
      "YadB_mono_positive_ONLY_tRNA_MODOMICS_network_map.json\n",
      "----------------\n",
      "----------------\n",
      "3A.  create_RNA_dataframe_from_substrates"
     ]
    },
    {
     "name": "stderr",
     "output_type": "stream",
     "text": [
      "\r",
      " 29%|██▉       | 11/38 [00:57<02:23,  5.32s/it]"
     ]
    },
    {
     "name": "stdout",
     "output_type": "stream",
     "text": [
      "\n",
      "saved tRNA_charging_ONLY_YadB_mono.json \n",
      "saved post_transcriptional_modification_of_tRNA_ONLY_YadB_mono.txt \n",
      "\n",
      "----------------\n",
      "----------------\n",
      "----------------\n",
      "12 TruD_mono\n",
      "TruD_mono_positive_ONLY_tRNA_MODOMICS_network_map.json\n",
      "----------------\n",
      "----------------\n",
      "3A.  create_RNA_dataframe_from_substrates\n",
      "sequence checking DF for Adenine modifications\n",
      "sequence checking DF for Cytidine modifications\n",
      "sequence checking DF for Guanine modifications\n",
      "sequence checking DF for Uridine modifications\n",
      "\t\tDF length orginal : 139\n",
      "\t\tDF length after sequence allignment : 138\n",
      "3C. create_final_bnum_modification_dict"
     ]
    },
    {
     "name": "stderr",
     "output_type": "stream",
     "text": [
      "\r",
      " 32%|███▏      | 12/38 [01:08<02:55,  6.76s/it]"
     ]
    },
    {
     "name": "stdout",
     "output_type": "stream",
     "text": [
      "\n",
      "saved tRNA_charging_ONLY_TruD_mono.json \n",
      "saved post_transcriptional_modification_of_tRNA_ONLY_TruD_mono.txt \n",
      "\n",
      "----------------\n",
      "----------------\n",
      "----------------\n",
      "13 YqcB_mono\n",
      "YqcB_mono_positive_ONLY_tRNA_MODOMICS_network_map.json\n",
      "----------------\n",
      "----------------\n",
      "3A.  create_RNA_dataframe_from_substrates\n",
      "sequence checking DF for Adenine modifications\n",
      "sequence checking DF for Cytidine modifications\n",
      "sequence checking DF for Guanine modifications\n",
      "sequence checking DF for Uridine modifications\n",
      "\t\tDF length orginal : 139\n",
      "\t\tDF length after sequence allignment : 138\n",
      "3C. create_final_bnum_modification_dict"
     ]
    },
    {
     "name": "stderr",
     "output_type": "stream",
     "text": [
      "\r",
      " 34%|███▍      | 13/38 [01:18<03:14,  7.76s/it]"
     ]
    },
    {
     "name": "stdout",
     "output_type": "stream",
     "text": [
      "\n",
      "saved tRNA_charging_ONLY_YqcB_mono.json \n",
      "saved post_transcriptional_modification_of_tRNA_ONLY_YqcB_mono.txt \n",
      "\n",
      "----------------\n",
      "----------------\n",
      "----------------\n",
      "14 TrmD_dim\n",
      "TrmD_dim_positive_ONLY_tRNA_MODOMICS_network_map.json\n",
      "----------------\n",
      "----------------\n",
      "3A.  create_RNA_dataframe_from_substrates\n",
      "sequence checking DF for Adenine modifications\n",
      "sequence checking DF for Cytidine modifications\n",
      "sequence checking DF for Guanine modifications\n",
      "sequence checking DF for Uridine modifications\n",
      "\t\tDF length orginal : 10\n",
      "\t\tDF length after sequence allignment : 10\n",
      "3C. create_final_bnum_modification_dict"
     ]
    },
    {
     "name": "stderr",
     "output_type": "stream",
     "text": [
      "\r",
      " 37%|███▋      | 14/38 [01:23<02:49,  7.05s/it]"
     ]
    },
    {
     "name": "stdout",
     "output_type": "stream",
     "text": [
      "\n",
      "saved tRNA_charging_ONLY_TrmD_dim.json \n",
      "saved post_transcriptional_modification_of_tRNA_ONLY_TrmD_dim.txt \n",
      "\n",
      "----------------\n",
      "----------------\n",
      "----------------\n",
      "15 YfiC_mono\n",
      "YfiC_mono_positive_ONLY_tRNA_MODOMICS_network_map.json\n",
      "----------------\n",
      "----------------\n",
      "3A.  create_RNA_dataframe_from_substrates\n",
      "sequence checking DF for Adenine modifications\n",
      "sequence checking DF for Cytidine modifications\n",
      "sequence checking DF for Guanine modifications\n",
      "sequence checking DF for Uridine modifications\n",
      "\t\tDF length orginal : 5\n",
      "\t\tDF length after sequence allignment : 5\n",
      "3C. create_final_bnum_modification_dict"
     ]
    },
    {
     "name": "stderr",
     "output_type": "stream",
     "text": [
      "\r",
      " 39%|███▉      | 15/38 [01:28<02:29,  6.48s/it]"
     ]
    },
    {
     "name": "stdout",
     "output_type": "stream",
     "text": [
      "\n",
      "saved tRNA_charging_ONLY_YfiC_mono.json \n",
      "saved post_transcriptional_modification_of_tRNA_ONLY_YfiC_mono.txt \n",
      "\n",
      "----------------\n",
      "----------------\n",
      "----------------\n",
      "16 TrmH_dim\n",
      "TrmH_dim_positive_ONLY_tRNA_MODOMICS_network_map.json\n",
      "----------------\n",
      "----------------\n",
      "3A.  create_RNA_dataframe_from_substrates\n",
      "sequence checking DF for Adenine modifications\n",
      "sequence checking DF for Cytidine modifications\n",
      "sequence checking DF for Guanine modifications\n",
      "sequence checking DF for Uridine modifications\n",
      "\t\tDF length orginal : 21\n",
      "\t\tDF length after sequence allignment : 21\n",
      "3C. create_final_bnum_modification_dict"
     ]
    },
    {
     "name": "stderr",
     "output_type": "stream",
     "text": [
      "\r",
      " 42%|████▏     | 16/38 [01:33<02:14,  6.12s/it]"
     ]
    },
    {
     "name": "stdout",
     "output_type": "stream",
     "text": [
      "\n",
      "saved tRNA_charging_ONLY_TrmH_dim.json \n",
      "saved post_transcriptional_modification_of_tRNA_ONLY_TrmH_dim.txt \n",
      "\n",
      "----------------\n",
      "----------------\n",
      "----------------\n",
      "17 QueG_mono_mod_adocbl\n",
      "QueG_mono_mod_adocbl_positive_ONLY_tRNA_MODOMICS_network_map.json\n",
      "----------------\n",
      "----------------\n",
      "3A.  create_RNA_dataframe_from_substrates"
     ]
    },
    {
     "name": "stderr",
     "output_type": "stream",
     "text": [
      "\r",
      " 45%|████▍     | 17/38 [01:38<02:00,  5.73s/it]"
     ]
    },
    {
     "name": "stdout",
     "output_type": "stream",
     "text": [
      "\n",
      "saved tRNA_charging_ONLY_QueG_mono_mod_adocbl.json \n",
      "saved post_transcriptional_modification_of_tRNA_ONLY_QueG_mono_mod_adocbl.txt \n",
      "\n",
      "----------------\n",
      "----------------\n",
      "----------------\n",
      "18 Tgt_hexa_mod_6:zn2\n",
      "Tgt_hexa_mod_6:zn2_positive_ONLY_tRNA_MODOMICS_network_map.json\n",
      "----------------\n",
      "----------------\n",
      "3A.  create_RNA_dataframe_from_substrates\n",
      "sequence checking DF for Adenine modifications\n",
      "sequence checking DF for Cytidine modifications\n",
      "sequence checking DF for Guanine modifications\n",
      "sequence checking DF for Uridine modifications\n",
      "\t\tDF length orginal : 86\n",
      "\t\tDF length after sequence allignment : 32\n",
      "3C. create_final_bnum_modification_dict"
     ]
    },
    {
     "name": "stderr",
     "output_type": "stream",
     "text": [
      "\r",
      " 47%|████▋     | 18/38 [01:46<02:08,  6.40s/it]"
     ]
    },
    {
     "name": "stdout",
     "output_type": "stream",
     "text": [
      "\n",
      "saved tRNA_charging_ONLY_Tgt_hexa_mod_6:zn2.json \n",
      "saved post_transcriptional_modification_of_tRNA_ONLY_Tgt_hexa_mod_6:zn2.txt \n",
      "\n",
      "----------------\n",
      "----------------\n",
      "----------------\n",
      "19 YbbB_dim\n",
      "YbbB_dim_positive_ONLY_tRNA_MODOMICS_network_map.json\n",
      "----------------\n",
      "----------------\n",
      "3A.  create_RNA_dataframe_from_substrates"
     ]
    },
    {
     "name": "stderr",
     "output_type": "stream",
     "text": [
      "\r",
      " 50%|█████     | 19/38 [01:51<01:52,  5.92s/it]"
     ]
    },
    {
     "name": "stdout",
     "output_type": "stream",
     "text": [
      "\n",
      "saved tRNA_charging_ONLY_YbbB_dim.json \n",
      "saved post_transcriptional_modification_of_tRNA_ONLY_YbbB_dim.txt \n",
      "\n",
      "----------------\n",
      "----------------\n",
      "----------------\n",
      "20 YhhP_mono\n",
      "YhhP_mono_positive_ONLY_tRNA_MODOMICS_network_map.json\n",
      "----------------\n",
      "----------------\n",
      "3A.  create_RNA_dataframe_from_substrates"
     ]
    },
    {
     "name": "stderr",
     "output_type": "stream",
     "text": [
      "\r",
      " 53%|█████▎    | 20/38 [01:56<01:39,  5.54s/it]"
     ]
    },
    {
     "name": "stdout",
     "output_type": "stream",
     "text": [
      "\n",
      "saved tRNA_charging_ONLY_YhhP_mono.json \n",
      "saved post_transcriptional_modification_of_tRNA_ONLY_YhhP_mono.txt \n",
      "\n",
      "----------------\n",
      "----------------\n",
      "----------------\n",
      "21 MnmEG_cplx_mod_fad_mod_2:k\n",
      "MnmEG_cplx_mod_fad_mod_2:k_positive_ONLY_tRNA_MODOMICS_network_map.json\n",
      "----------------\n",
      "----------------\n",
      "3A.  create_RNA_dataframe_from_substrates\n",
      "sequence checking DF for Adenine modifications\n",
      "sequence checking DF for Cytidine modifications\n",
      "sequence checking DF for Guanine modifications\n",
      "sequence checking DF for Uridine modifications\n",
      "\t\tDF length orginal : 29\n",
      "\t\tDF length after sequence allignment : 29\n",
      "3C. create_final_bnum_modification_dict"
     ]
    },
    {
     "name": "stderr",
     "output_type": "stream",
     "text": [
      "\r",
      " 55%|█████▌    | 21/38 [02:01<01:34,  5.55s/it]"
     ]
    },
    {
     "name": "stdout",
     "output_type": "stream",
     "text": [
      "\n",
      "saved tRNA_charging_ONLY_MnmEG_cplx_mod_fad_mod_2:k.json \n",
      "saved post_transcriptional_modification_of_tRNA_ONLY_MnmEG_cplx_mod_fad_mod_2:k.txt \n",
      "\n",
      "----------------\n",
      "----------------\n",
      "----------------\n",
      "22 MiaB_mono_mod_1:4fe4s\n",
      "MiaB_mono_mod_1:4fe4s_positive_ONLY_tRNA_MODOMICS_network_map.json\n",
      "----------------\n",
      "----------------\n",
      "3A.  create_RNA_dataframe_from_substrates"
     ]
    },
    {
     "name": "stderr",
     "output_type": "stream",
     "text": [
      "\r",
      " 58%|█████▊    | 22/38 [02:06<01:25,  5.32s/it]"
     ]
    },
    {
     "name": "stdout",
     "output_type": "stream",
     "text": [
      "\n",
      "saved tRNA_charging_ONLY_MiaB_mono_mod_1:4fe4s.json \n",
      "saved post_transcriptional_modification_of_tRNA_ONLY_MiaB_mono_mod_1:4fe4s.txt \n",
      "\n",
      "----------------\n",
      "----------------\n",
      "----------------\n",
      "23 YecP_mono\n",
      "YecP_mono_positive_ONLY_tRNA_MODOMICS_network_map.json\n",
      "----------------\n",
      "----------------\n",
      "3A.  create_RNA_dataframe_from_substrates"
     ]
    },
    {
     "name": "stderr",
     "output_type": "stream",
     "text": [
      "\r",
      " 61%|██████    | 23/38 [02:11<01:17,  5.15s/it]"
     ]
    },
    {
     "name": "stdout",
     "output_type": "stream",
     "text": [
      "\n",
      "saved tRNA_charging_ONLY_YecP_mono.json \n",
      "saved post_transcriptional_modification_of_tRNA_ONLY_YecP_mono.txt \n",
      "\n",
      "----------------\n",
      "----------------\n",
      "----------------\n",
      "24 RluA_mono\n",
      "RluA_mono_positive_ONLY_tRNA_MODOMICS_network_map.json\n",
      "----------------\n",
      "----------------\n",
      "3A.  create_RNA_dataframe_from_substrates\n",
      "sequence checking DF for Adenine modifications\n",
      "sequence checking DF for Cytidine modifications\n",
      "sequence checking DF for Guanine modifications\n",
      "sequence checking DF for Uridine modifications\n",
      "\t\tDF length orginal : 139\n",
      "\t\tDF length after sequence allignment : 138\n",
      "3C. create_final_bnum_modification_dict"
     ]
    },
    {
     "name": "stderr",
     "output_type": "stream",
     "text": [
      "\r",
      " 63%|██████▎   | 24/38 [02:21<01:32,  6.59s/it]"
     ]
    },
    {
     "name": "stdout",
     "output_type": "stream",
     "text": [
      "\n",
      "saved tRNA_charging_ONLY_RluA_mono.json \n",
      "saved post_transcriptional_modification_of_tRNA_ONLY_RluA_mono.txt \n",
      "\n",
      "----------------\n",
      "----------------\n",
      "----------------\n",
      "25 ThiI_mono\n",
      "ThiI_mono_positive_ONLY_tRNA_MODOMICS_network_map.json\n",
      "----------------\n",
      "----------------\n",
      "3A.  create_RNA_dataframe_from_substrates\n",
      "sequence checking DF for Adenine modifications\n",
      "sequence checking DF for Cytidine modifications\n",
      "sequence checking DF for Guanine modifications\n",
      "sequence checking DF for Uridine modifications\n",
      "\t\tDF length orginal : 36\n",
      "\t\tDF length after sequence allignment : 36\n",
      "3C. create_final_bnum_modification_dict"
     ]
    },
    {
     "name": "stderr",
     "output_type": "stream",
     "text": [
      "\r",
      " 66%|██████▌   | 25/38 [02:27<01:23,  6.39s/it]"
     ]
    },
    {
     "name": "stdout",
     "output_type": "stream",
     "text": [
      "\n",
      "saved tRNA_charging_ONLY_ThiI_mono.json \n",
      "saved post_transcriptional_modification_of_tRNA_ONLY_ThiI_mono.txt \n",
      "\n",
      "----------------\n",
      "----------------\n",
      "----------------\n",
      "26 QueA_mono\n",
      "QueA_mono_positive_ONLY_tRNA_MODOMICS_network_map.json\n",
      "----------------\n",
      "----------------\n",
      "3A.  create_RNA_dataframe_from_substrates"
     ]
    },
    {
     "name": "stderr",
     "output_type": "stream",
     "text": [
      "\r",
      " 68%|██████▊   | 26/38 [02:31<01:10,  5.91s/it]"
     ]
    },
    {
     "name": "stdout",
     "output_type": "stream",
     "text": [
      "\n",
      "saved tRNA_charging_ONLY_QueA_mono.json \n",
      "saved post_transcriptional_modification_of_tRNA_ONLY_QueA_mono.txt \n",
      "\n",
      "----------------\n",
      "----------------\n",
      "----------------\n",
      "27 TsaBCDE\n",
      "TsaBCDE_positive_ONLY_tRNA_MODOMICS_network_map.json\n",
      "----------------\n",
      "----------------\n",
      "3A.  create_RNA_dataframe_from_substrates\n",
      "sequence checking DF for Adenine modifications\n",
      "sequence checking DF for Cytidine modifications\n",
      "sequence checking DF for Guanine modifications\n",
      "sequence checking DF for Uridine modifications\n",
      "\t\tDF length orginal : 86\n",
      "\t\tDF length after sequence allignment : 76\n",
      "3C. create_final_bnum_modification_dict\n",
      "saved tRNA_charging_ONLY_TsaBCDE.json "
     ]
    },
    {
     "name": "stderr",
     "output_type": "stream",
     "text": [
      "\r",
      " 71%|███████   | 27/38 [02:40<01:12,  6.57s/it]"
     ]
    },
    {
     "name": "stdout",
     "output_type": "stream",
     "text": [
      "\n",
      "saved post_transcriptional_modification_of_tRNA_ONLY_TsaBCDE.txt \n",
      "\n",
      "----------------\n",
      "----------------\n",
      "----------------\n",
      "28 YggH_mono\n",
      "YggH_mono_positive_ONLY_tRNA_MODOMICS_network_map.json\n",
      "----------------\n",
      "----------------\n",
      "3A.  create_RNA_dataframe_from_substrates\n",
      "sequence checking DF for Adenine modifications\n",
      "sequence checking DF for Cytidine modifications\n",
      "sequence checking DF for Guanine modifications\n",
      "sequence checking DF for Uridine modifications\n",
      "\t\tDF length orginal : 47\n",
      "\t\tDF length after sequence allignment : 47\n",
      "3C. create_final_bnum_modification_dict"
     ]
    },
    {
     "name": "stderr",
     "output_type": "stream",
     "text": [
      "\r",
      " 74%|███████▎  | 28/38 [02:46<01:04,  6.42s/it]"
     ]
    },
    {
     "name": "stdout",
     "output_type": "stream",
     "text": [
      "\n",
      "saved tRNA_charging_ONLY_YggH_mono.json \n",
      "saved post_transcriptional_modification_of_tRNA_ONLY_YggH_mono.txt \n",
      "\n",
      "----------------\n",
      "----------------\n",
      "----------------\n",
      "29 TruA_dim\n",
      "TruA_dim_positive_ONLY_tRNA_MODOMICS_network_map.json\n",
      "----------------\n",
      "----------------\n",
      "\tCreating new paths for U_to_Y\n",
      "\tCreating new paths for U_to_Y\n",
      "\tCreating new paths for U_to_Y\n",
      "\tCreating new paths for U_to_Y\n",
      "3A.  create_RNA_dataframe_from_substrates\n",
      "sequence checking DF for Adenine modifications\n",
      "sequence checking DF for Cytidine modifications\n",
      "sequence checking DF for Guanine modifications\n",
      "sequence checking DF for Uridine modifications\n",
      "\t\tDF length orginal : 139\n",
      "\t\tDF length after sequence allignment : 138\n",
      "3C. create_final_bnum_modification_dict"
     ]
    },
    {
     "name": "stderr",
     "output_type": "stream",
     "text": [
      "\r",
      " 76%|███████▋  | 29/38 [02:56<01:08,  7.58s/it]"
     ]
    },
    {
     "name": "stdout",
     "output_type": "stream",
     "text": [
      "\n",
      "saved tRNA_charging_ONLY_TruA_dim.json \n",
      "saved post_transcriptional_modification_of_tRNA_ONLY_TruA_dim.txt \n",
      "\n",
      "----------------\n",
      "----------------\n",
      "----------------\n",
      "30 TruB_mono\n",
      "TruB_mono_positive_ONLY_tRNA_MODOMICS_network_map.json\n",
      "----------------\n",
      "----------------\n",
      "3A.  create_RNA_dataframe_from_substrates\n",
      "sequence checking DF for Adenine modifications\n",
      "sequence checking DF for Cytidine modifications\n",
      "sequence checking DF for Guanine modifications\n",
      "sequence checking DF for Uridine modifications\n",
      "\t\tDF length orginal : 139\n",
      "\t\tDF length after sequence allignment : 138\n",
      "3C. create_final_bnum_modification_dict\n",
      "saved tRNA_charging_ONLY_TruB_mono.json "
     ]
    },
    {
     "name": "stderr",
     "output_type": "stream",
     "text": [
      "\r",
      " 79%|███████▉  | 30/38 [03:06<01:06,  8.32s/it]"
     ]
    },
    {
     "name": "stdout",
     "output_type": "stream",
     "text": [
      "\n",
      "saved post_transcriptional_modification_of_tRNA_ONLY_TruB_mono.txt \n",
      "\n",
      "----------------\n",
      "----------------\n",
      "----------------\n",
      "31 YccK_mono\n",
      "YccK_mono_positive_ONLY_tRNA_MODOMICS_network_map.json\n",
      "----------------\n",
      "----------------\n",
      "3A.  create_RNA_dataframe_from_substrates"
     ]
    },
    {
     "name": "stderr",
     "output_type": "stream",
     "text": [
      "\r",
      " 82%|████████▏ | 31/38 [03:11<00:50,  7.21s/it]"
     ]
    },
    {
     "name": "stdout",
     "output_type": "stream",
     "text": [
      "\n",
      "saved tRNA_charging_ONLY_YccK_mono.json \n",
      "saved post_transcriptional_modification_of_tRNA_ONLY_YccK_mono.txt \n",
      "\n",
      "----------------\n",
      "----------------\n",
      "----------------\n",
      "32 RlmN_mono_mod_1:4fe4s\n",
      "RlmN_mono_mod_1:4fe4s_positive_ONLY_tRNA_MODOMICS_network_map.json\n",
      "----------------\n",
      "----------------\n",
      "3A.  create_RNA_dataframe_from_substrates\n",
      "sequence checking DF for Adenine modifications\n",
      "sequence checking DF for Cytidine modifications\n",
      "sequence checking DF for Guanine modifications\n",
      "sequence checking DF for Uridine modifications\n",
      "\t\tDF length orginal : 86\n",
      "\t\tDF length after sequence allignment : 76\n",
      "3C. create_final_bnum_modification_dict\n",
      "saved tRNA_charging_ONLY_RlmN_mono_mod_1:4fe4s.json "
     ]
    },
    {
     "name": "stderr",
     "output_type": "stream",
     "text": [
      "\r",
      " 84%|████████▍ | 32/38 [03:19<00:45,  7.54s/it]"
     ]
    },
    {
     "name": "stdout",
     "output_type": "stream",
     "text": [
      "\n",
      "saved post_transcriptional_modification_of_tRNA_ONLY_RlmN_mono_mod_1:4fe4s.txt \n",
      "\n",
      "----------------\n",
      "----------------\n",
      "----------------\n",
      "33 YheLMN_cplx\n",
      "YheLMN_cplx_positive_ONLY_tRNA_MODOMICS_network_map.json\n",
      "----------------\n",
      "----------------\n",
      "3A.  create_RNA_dataframe_from_substrates"
     ]
    },
    {
     "name": "stderr",
     "output_type": "stream",
     "text": [
      "\r",
      " 87%|████████▋ | 33/38 [03:24<00:33,  6.67s/it]"
     ]
    },
    {
     "name": "stdout",
     "output_type": "stream",
     "text": [
      "\n",
      "saved tRNA_charging_ONLY_YheLMN_cplx.json \n",
      "saved post_transcriptional_modification_of_tRNA_ONLY_YheLMN_cplx.txt \n",
      "\n",
      "----------------\n",
      "----------------\n",
      "----------------\n",
      "34 generic_Dus\n",
      "generic_Dus_positive_ONLY_tRNA_MODOMICS_network_map.json\n",
      "----------------\n",
      "----------------\n",
      "\tCreating new paths for U_to_DDusgen\n",
      "\tCreating new paths for U_to_DDusgen\n",
      "\tCreating new paths for U_to_DDusgen\n",
      "\tCreating new paths for U_to_DDusgen\n",
      "3A.  create_RNA_dataframe_from_substrates\n",
      "sequence checking DF for Adenine modifications\n",
      "sequence checking DF for Cytidine modifications\n",
      "sequence checking DF for Guanine modifications\n",
      "sequence checking DF for Uridine modifications\n",
      "\t\tDF length orginal : 246\n",
      "\t\tDF length after sequence allignment : 123\n",
      "3C. create_final_bnum_modification_dict\n",
      "saved tRNA_charging_ONLY_generic_Dus.json "
     ]
    },
    {
     "name": "stderr",
     "output_type": "stream",
     "text": [
      "\r",
      " 89%|████████▉ | 34/38 [03:37<00:34,  8.65s/it]"
     ]
    },
    {
     "name": "stdout",
     "output_type": "stream",
     "text": [
      "\n",
      "saved post_transcriptional_modification_of_tRNA_ONLY_generic_Dus.txt \n",
      "\n",
      "----------------\n",
      "----------------\n",
      "----------------\n",
      "35 TrmA_mono\n",
      "TrmA_mono_positive_ONLY_tRNA_MODOMICS_network_map.json\n",
      "----------------\n",
      "----------------\n",
      "3A.  create_RNA_dataframe_from_substrates\n",
      "sequence checking DF for Adenine modifications\n",
      "sequence checking DF for Cytidine modifications\n",
      "sequence checking DF for Guanine modifications\n",
      "sequence checking DF for Uridine modifications\n",
      "\t\tDF length orginal : 86\n",
      "\t\tDF length after sequence allignment : 86\n",
      "3C. create_final_bnum_modification_dict\n",
      "saved tRNA_charging_ONLY_TrmA_mono.json "
     ]
    },
    {
     "name": "stderr",
     "output_type": "stream",
     "text": [
      "\r",
      " 92%|█████████▏| 35/38 [03:45<00:25,  8.53s/it]"
     ]
    },
    {
     "name": "stdout",
     "output_type": "stream",
     "text": [
      "\n",
      "saved post_transcriptional_modification_of_tRNA_ONLY_TrmA_mono.txt \n",
      "\n",
      "----------------\n",
      "----------------\n",
      "----------------\n",
      "36 TilS_mono\n",
      "TilS_mono_positive_ONLY_tRNA_MODOMICS_network_map.json\n",
      "----------------\n",
      "----------------\n",
      "3A.  create_RNA_dataframe_from_substrates\n",
      "sequence checking DF for Adenine modifications\n",
      "sequence checking DF for Cytidine modifications\n",
      "sequence checking DF for Guanine modifications\n",
      "sequence checking DF for Uridine modifications\n",
      "\t\tDF length orginal : 2\n",
      "\t\tDF length after sequence allignment : 2\n",
      "3C. create_final_bnum_modification_dict"
     ]
    },
    {
     "name": "stderr",
     "output_type": "stream",
     "text": [
      "\r",
      " 95%|█████████▍| 36/38 [03:50<00:14,  7.41s/it]"
     ]
    },
    {
     "name": "stdout",
     "output_type": "stream",
     "text": [
      "\n",
      "saved tRNA_charging_ONLY_TilS_mono.json \n",
      "saved post_transcriptional_modification_of_tRNA_ONLY_TilS_mono.txt \n",
      "\n",
      "----------------\n",
      "----------------\n",
      "----------------\n",
      "37 YdaO_mono\n",
      "YdaO_mono_positive_ONLY_tRNA_MODOMICS_network_map.json\n",
      "----------------\n",
      "----------------\n",
      "3A.  create_RNA_dataframe_from_substrates\n",
      "sequence checking DF for Adenine modifications\n",
      "sequence checking DF for Cytidine modifications\n",
      "sequence checking DF for Guanine modifications\n",
      "sequence checking DF for Uridine modifications\n",
      "\t\tDF length orginal : 7\n",
      "\t\tDF length after sequence allignment : 7\n",
      "3C. create_final_bnum_modification_dict"
     ]
    },
    {
     "name": "stderr",
     "output_type": "stream",
     "text": [
      "\r",
      " 97%|█████████▋| 37/38 [03:55<00:06,  6.73s/it]"
     ]
    },
    {
     "name": "stdout",
     "output_type": "stream",
     "text": [
      "\n",
      "saved tRNA_charging_ONLY_YdaO_mono.json \n",
      "saved post_transcriptional_modification_of_tRNA_ONLY_YdaO_mono.txt \n",
      "\n",
      "----------------\n",
      "----------------\n",
      "----------------\n",
      "38 MnmC_mono_mod_fad\n",
      "MnmC_mono_mod_fad_positive_ONLY_tRNA_MODOMICS_network_map.json\n",
      "----------------\n",
      "----------------\n",
      "3A.  create_RNA_dataframe_from_substrates"
     ]
    },
    {
     "name": "stderr",
     "output_type": "stream",
     "text": [
      "\r",
      "100%|██████████| 38/38 [04:00<00:00,  6.10s/it]"
     ]
    },
    {
     "name": "stdout",
     "output_type": "stream",
     "text": [
      "\n",
      "saved tRNA_charging_ONLY_MnmC_mono_mod_fad.json \n",
      "saved post_transcriptional_modification_of_tRNA_ONLY_MnmC_mono_mod_fad.txt \n"
     ]
    },
    {
     "name": "stderr",
     "output_type": "stream",
     "text": [
      "\n"
     ]
    }
   ],
   "source": [
    "#input the network maps for each enzyme KO!!\n",
    "modification_network_path = './modified_tRNA_modomics_network_map_for_sweeps/positive_enzyme_sweeps/'\n",
    "rna_type = 'tRNA'\n",
    "count = 0 \n",
    "for filename in tqdm(os.listdir(modification_network_path)):\n",
    "    if '.json' in filename:\n",
    "        [modification_network, tRNA_enzyme] = import_modification_network(modification_network_path , filename)\n",
    "        modification_network = parse_modification_network_for_tRNA_mods(modification_network)\n",
    "        count = count  + 1\n",
    "        print '\\n', '----------------'\n",
    "        print '----------------'\n",
    "        print '----------------'\n",
    "        \n",
    "        print count , tRNA_enzyme\n",
    "        print filename\n",
    "        print '----------------'\n",
    "        print '----------------'\n",
    "        \n",
    "        run_workflow_functions_and_output_files(modification_network, rna_type, tRNA_enzyme)\n",
    "        \n",
    "    \n",
    "                \n",
    "        \n",
    "        \n",
    "        "
   ]
  },
  {
   "cell_type": "code",
   "execution_count": null,
   "metadata": {
    "collapsed": true
   },
   "outputs": [],
   "source": []
  },
  {
   "cell_type": "markdown",
   "metadata": {
    "collapsed": true
   },
   "source": [
    "# # troubleshooting"
   ]
  },
  {
   "cell_type": "raw",
   "metadata": {
    "collapsed": true
   },
   "source": [
    "# troubleshooter\n",
    "filename = 'control_tRNA_MODOMICS_network_map.json'\n",
    "modification_network_path = './modified_tRNA_modomics_network_map_for_sweeps/'\n",
    "rna_type = 'tRNA'\n",
    "[modification_network, tRNA_enzyme] = import_modification_network(modification_network_path , filename)\n",
    "modification_network = parse_modification_network_for_tRNA_mods(modification_network)"
   ]
  },
  {
   "cell_type": "raw",
   "metadata": {
    "collapsed": false
   },
   "source": [
    "# troubleshooter\n",
    "filename = 'TmcA_mono_positive_ONLY_tRNA_MODOMICS_network_map.json'\n",
    "modification_network_path = './modified_tRNA_modomics_network_map_for_sweeps/positive_enzyme_sweeps/'\n",
    "tRNA_enzyme = 'TmcA_mono'\n",
    "rna_type = 'tRNA'\n",
    "[modification_network, tRNA_enzyme] = import_modification_network(modification_network_path , filename)\n",
    "modification_network = parse_modification_network_for_tRNA_mods(modification_network)"
   ]
  },
  {
   "cell_type": "raw",
   "metadata": {
    "collapsed": false
   },
   "source": [
    "run_workflow_functions_and_output_files(modification_network, rna_type, tRNA_enzyme)\n"
   ]
  },
  {
   "cell_type": "code",
   "execution_count": null,
   "metadata": {
    "collapsed": true
   },
   "outputs": [],
   "source": []
  }
 ],
 "metadata": {
  "kernelspec": {
   "display_name": "Python 2",
   "language": "python",
   "name": "python2"
  },
  "language_info": {
   "codemirror_mode": {
    "name": "ipython",
    "version": 2
   },
   "file_extension": ".py",
   "mimetype": "text/x-python",
   "name": "python",
   "nbconvert_exporter": "python",
   "pygments_lexer": "ipython2",
   "version": "2.7.6"
  }
 },
 "nbformat": 4,
 "nbformat_minor": 0
}
